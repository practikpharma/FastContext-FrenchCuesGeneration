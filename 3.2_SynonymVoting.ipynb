{
 "cells": [
  {
   "cell_type": "code",
   "execution_count": 2,
   "metadata": {},
   "outputs": [],
   "source": [
    "import re\n",
    "import pandas as pd\n",
    "import numpy as np\n",
    "import ast\n",
    "import operator\n",
    "\n",
    "senses=pd.read_excel(\n",
    "    \"./excels/3_Phase3_Word_Sense_Voting_with_Occurances_curated_CJ2.xlsx\"\n",
    "    ,sheet_name=\"Sheet2\"\n",
    ")\n",
    "senses[\"Synonyms_Voting_Rest\"].fillna(\"[]\",inplace=True)\n",
    "\n",
    "for indx in range(len(senses[\"Synonyms_Voting_Rest\"])):\n",
    "    senses[\"Synonyms_Voting_Rest\"][indx]=ast.literal_eval(senses[\"Synonyms_Voting_Rest\"][indx])\n",
    "\n",
    "\n",
    "senses[\"Synonyms_Voting\"]=\"\"\n",
    "senses[\"Synonyms_Final\"]=\"\"\n",
    "    \n",
    "columns=[\"Syn1\", \"Syn2\", \"Syn3\", \"Syn4\",  \"Syn5\", \n",
    "         \"Syn6\", \"Syn7\", \"Syn8\", \"Syn9\",  \"Syn10\", \n",
    "         \"Syn11\", \"Syn12\", \"Syn13\", \"Syn14\",  \"Syn15\", \n",
    "         \"Syn16\", \"Syn17\", \"Syn18\", \"Syn19\",  \"Syn20\"]\n",
    "\n",
    "for row in range(len(senses[\"List_of_Occurances\"])):\n",
    "    list_top20=[]\n",
    "    for i in range(20):\n",
    "        x=senses[columns[i]][row]\n",
    "        if not pd.isna(x):\n",
    "            x=x.replace(\"'\",\"\")\n",
    "            x=x.strip()\n",
    "            list_top20.append(x) \n",
    "    senses[\"Synonyms_Voting\"][row]=list_top20\n",
    "\n",
    "senses[\"Synonyms_Final\"]=senses[\"Synonyms_Voting\"]+senses[\"Synonyms_Voting_Rest\"]\n",
    "\n",
    "for row in range(len(senses[\"List_of_Occurances\"])):\n",
    "    senses[\"Synonyms_Final\"][row]=list(dict.fromkeys((senses[\"Synonyms_Final\"][row])))\n",
    "\n",
    "senses=senses[[\"Word\",\"List_of_Occurances\",\"Synonyms_Final\"]]\n",
    "\n",
    "\n",
    "senses.to_excel(\n",
    "   \"./excels/3_Phase3_Word_Sense_Voting_with_Occurances_curated_CJ2_Cleaned.xlsx\")"
   ]
  },
  {
   "cell_type": "code",
   "execution_count": 74,
   "metadata": {},
   "outputs": [
    {
     "data": {
      "text/plain": [
       "1170"
      ]
     },
     "execution_count": 74,
     "metadata": {},
     "output_type": "execute_result"
    }
   ],
   "source": [
    "sum([len(i) for i in senses[\"Synonyms_Voting_Rest\"]])"
   ]
  },
  {
   "cell_type": "code",
   "execution_count": 75,
   "metadata": {},
   "outputs": [
    {
     "data": {
      "text/plain": [
       "1898"
      ]
     },
     "execution_count": 75,
     "metadata": {},
     "output_type": "execute_result"
    }
   ],
   "source": [
    "sum([len(i) for i in senses[\"Synonyms_Voting\"]])"
   ]
  },
  {
   "cell_type": "code",
   "execution_count": 89,
   "metadata": {},
   "outputs": [
    {
     "data": {
      "text/plain": [
       "3064"
      ]
     },
     "execution_count": 89,
     "metadata": {},
     "output_type": "execute_result"
    }
   ],
   "source": [
    "sum([len(i) for i in senses[\"Synonyms_Final\"]])"
   ]
  },
  {
   "cell_type": "code",
   "execution_count": 97,
   "metadata": {},
   "outputs": [
    {
     "data": {
      "text/plain": [
       "['convenable',\n",
       " 'passable',\n",
       " 'satisfaisant',\n",
       " 'supportable',\n",
       " 'raisonnable',\n",
       " 'acceptable',\n",
       " 'assez',\n",
       " 'correct',\n",
       " 'tolérable',\n",
       " 'bon',\n",
       " 'pas mal',\n",
       " 'bien',\n",
       " 'adéquat',\n",
       " 'assez bien']"
      ]
     },
     "execution_count": 97,
     "metadata": {},
     "output_type": "execute_result"
    }
   ],
   "source": [
    "senses[\"Synonyms_Final\"][0]"
   ]
  },
  {
   "cell_type": "code",
   "execution_count": null,
   "metadata": {},
   "outputs": [],
   "source": []
  }
 ],
 "metadata": {
  "kernelspec": {
   "display_name": "Python 3",
   "language": "python",
   "name": "python3"
  },
  "language_info": {
   "codemirror_mode": {
    "name": "ipython",
    "version": 3
   },
   "file_extension": ".py",
   "mimetype": "text/x-python",
   "name": "python",
   "nbconvert_exporter": "python",
   "pygments_lexer": "ipython3",
   "version": "3.7.2"
  }
 },
 "nbformat": 4,
 "nbformat_minor": 2
}
