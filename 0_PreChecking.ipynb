{
 "cells": [
  {
   "cell_type": "code",
   "execution_count": 140,
   "metadata": {
    "scrolled": true
   },
   "outputs": [],
   "source": [
    "import numpy as np\n",
    "import pandas as pd\n",
    "\n",
    "lexicalclues=pd.read_excel(\n",
    "    \"/Users/mehdi.mirzapour/Dropbox/PractiKPharma/PractiKPharma_Code/excels/0_Phase3_LexicalCluesENFR_Grouping_CJ.xlsx\")\n",
    "\n",
    "lexicalclues[\"Rule\"]=lexicalclues[\"Direction\"]+\" | \"+lexicalclues[\"Trigger Type\"]+\" | \"+lexicalclues[\"Modifier\"]+\" | \"+lexicalclues[\"Window Size\"].astype(str)\n",
    "l=lexicalclues[[\"Rule String EN\",\"Grouping\",\"Rule\"]]\n",
    "\n",
    "grouped = l.groupby([\"Grouping\",\"Rule\"])\n",
    "\n",
    "y=l['Rule'].groupby(l['Grouping']).describe()\n",
    "x=l.groupby(['Grouping', 'Rule']).describe()\n",
    "\n",
    "x.to_excel(\n",
    "    \"./excels/Analysis.xlsx\")\n",
    "\n",
    "y.to_excel(\n",
    "    \"./excels/Analysis2.xlsx\")\n",
    "\n"
   ]
  },
  {
   "cell_type": "code",
   "execution_count": 145,
   "metadata": {},
   "outputs": [
    {
     "data": {
      "text/plain": [
       "array([1], dtype=object)"
      ]
     },
     "execution_count": 145,
     "metadata": {},
     "output_type": "execute_result"
    }
   ],
   "source": [
    "y[\"unique\"].unique()"
   ]
  }
 ],
 "metadata": {
  "kernelspec": {
   "display_name": "Python 3",
   "language": "python",
   "name": "python3"
  },
  "language_info": {
   "codemirror_mode": {
    "name": "ipython",
    "version": 3
   },
   "file_extension": ".py",
   "mimetype": "text/x-python",
   "name": "python",
   "nbconvert_exporter": "python",
   "pygments_lexer": "ipython3",
   "version": "3.7.2"
  }
 },
 "nbformat": 4,
 "nbformat_minor": 2
}
