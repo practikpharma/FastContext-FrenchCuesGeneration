{
 "cells": [
  {
   "cell_type": "code",
   "execution_count": 1,
   "metadata": {},
   "outputs": [
    {
     "name": "stdout",
     "output_type": "stream",
     "text": [
      "histoire sociale |both|pseudo|historical|30|Group[1040]|Clement\n",
      "historique sociale |both|pseudo|historical|30|Group[1040]|Clement\n"
     ]
    }
   ],
   "source": [
    "from nltk.parse.generate import generate, demo_grammar\n",
    "from nltk import CFG\n",
    "\n",
    "cfg_grammar= \"\"\"\n",
    "S ->  Var1 Var2 Trigger_Rule\n",
    "Var1 -> \"histoire\" | \"historique\"\n",
    "Var2 -> \"sociale\"\n",
    "Trigger_Rule -> \"|both|pseudo|historical|30|Group[1040]|Clement\"\n",
    "\"\"\"\n",
    "\n",
    "for sentence in generate(CFG.fromstring(cfg_grammar), n=1000):\n",
    "    print(' '.join(sentence))"
   ]
  },
  {
   "cell_type": "code",
   "execution_count": 2,
   "metadata": {},
   "outputs": [
    {
     "name": "stdout",
     "output_type": "stream",
     "text": [
      "le rapport du parent |both|termination|historical|30|Group[1041, 1042]|Clement\n",
      "le rapport du parent |both|termination|nonpatient|30|Group[1041, 1042]|Clement\n",
      "le rapport des parents |both|termination|historical|30|Group[1041, 1042]|Clement\n",
      "le rapport des parents |both|termination|nonpatient|30|Group[1041, 1042]|Clement\n",
      "le rapport du père |both|termination|historical|30|Group[1041, 1042]|Clement\n",
      "le rapport du père |both|termination|nonpatient|30|Group[1041, 1042]|Clement\n",
      "le rapport du beau-père |both|termination|historical|30|Group[1041, 1042]|Clement\n",
      "le rapport du beau-père |both|termination|nonpatient|30|Group[1041, 1042]|Clement\n",
      "le rapport de la mère |both|termination|historical|30|Group[1041, 1042]|Clement\n",
      "le rapport de la mère |both|termination|nonpatient|30|Group[1041, 1042]|Clement\n",
      "le rapport de la belle-mère |both|termination|historical|30|Group[1041, 1042]|Clement\n",
      "le rapport de la belle-mère |both|termination|nonpatient|30|Group[1041, 1042]|Clement\n",
      "le rapport du papa |both|termination|historical|30|Group[1041, 1042]|Clement\n",
      "le rapport du papa |both|termination|nonpatient|30|Group[1041, 1042]|Clement\n",
      "le rapport de la maman |both|termination|historical|30|Group[1041, 1042]|Clement\n",
      "le rapport de la maman |both|termination|nonpatient|30|Group[1041, 1042]|Clement\n",
      "le rapport du fils |both|termination|historical|30|Group[1041, 1042]|Clement\n",
      "le rapport du fils |both|termination|nonpatient|30|Group[1041, 1042]|Clement\n",
      "le rapport des fils |both|termination|historical|30|Group[1041, 1042]|Clement\n",
      "le rapport des fils |both|termination|nonpatient|30|Group[1041, 1042]|Clement\n",
      "le rapport du beau-fils |both|termination|historical|30|Group[1041, 1042]|Clement\n",
      "le rapport du beau-fils |both|termination|nonpatient|30|Group[1041, 1042]|Clement\n",
      "le rapport du garçon |both|termination|historical|30|Group[1041, 1042]|Clement\n",
      "le rapport du garçon |both|termination|nonpatient|30|Group[1041, 1042]|Clement\n",
      "le rapport des garçons |both|termination|historical|30|Group[1041, 1042]|Clement\n",
      "le rapport des garçons |both|termination|nonpatient|30|Group[1041, 1042]|Clement\n",
      "le rapport de la fille |both|termination|historical|30|Group[1041, 1042]|Clement\n",
      "le rapport de la fille |both|termination|nonpatient|30|Group[1041, 1042]|Clement\n",
      "le rapport de la belle-fille |both|termination|historical|30|Group[1041, 1042]|Clement\n",
      "le rapport de la belle-fille |both|termination|nonpatient|30|Group[1041, 1042]|Clement\n",
      "le rapport des filles |both|termination|historical|30|Group[1041, 1042]|Clement\n",
      "le rapport des filles |both|termination|nonpatient|30|Group[1041, 1042]|Clement\n",
      "le rapport du frère |both|termination|historical|30|Group[1041, 1042]|Clement\n",
      "le rapport du frère |both|termination|nonpatient|30|Group[1041, 1042]|Clement\n",
      "le rapport des frères |both|termination|historical|30|Group[1041, 1042]|Clement\n",
      "le rapport des frères |both|termination|nonpatient|30|Group[1041, 1042]|Clement\n",
      "le rapport de la soeur |both|termination|historical|30|Group[1041, 1042]|Clement\n",
      "le rapport de la soeur |both|termination|nonpatient|30|Group[1041, 1042]|Clement\n",
      "le rapport des soeurs |both|termination|historical|30|Group[1041, 1042]|Clement\n",
      "le rapport des soeurs |both|termination|nonpatient|30|Group[1041, 1042]|Clement\n",
      "le rapport de la sœur |both|termination|historical|30|Group[1041, 1042]|Clement\n",
      "le rapport de la sœur |both|termination|nonpatient|30|Group[1041, 1042]|Clement\n",
      "le rapport des sœurs |both|termination|historical|30|Group[1041, 1042]|Clement\n",
      "le rapport des sœurs |both|termination|nonpatient|30|Group[1041, 1042]|Clement\n",
      "le rapport de la fratrie |both|termination|historical|30|Group[1041, 1042]|Clement\n",
      "le rapport de la fratrie |both|termination|nonpatient|30|Group[1041, 1042]|Clement\n",
      "le rapport de l'oncle |both|termination|historical|30|Group[1041, 1042]|Clement\n",
      "le rapport de l'oncle |both|termination|nonpatient|30|Group[1041, 1042]|Clement\n",
      "le rapport du tonton |both|termination|historical|30|Group[1041, 1042]|Clement\n",
      "le rapport du tonton |both|termination|nonpatient|30|Group[1041, 1042]|Clement\n",
      "le rapport des oncles |both|termination|historical|30|Group[1041, 1042]|Clement\n",
      "le rapport des oncles |both|termination|nonpatient|30|Group[1041, 1042]|Clement\n",
      "le rapport de la tante |both|termination|historical|30|Group[1041, 1042]|Clement\n",
      "le rapport de la tante |both|termination|nonpatient|30|Group[1041, 1042]|Clement\n",
      "le rapport de la tata |both|termination|historical|30|Group[1041, 1042]|Clement\n",
      "le rapport de la tata |both|termination|nonpatient|30|Group[1041, 1042]|Clement\n",
      "le rapport des tantes |both|termination|historical|30|Group[1041, 1042]|Clement\n",
      "le rapport des tantes |both|termination|nonpatient|30|Group[1041, 1042]|Clement\n",
      "le rapport  de la grand-mère |both|termination|historical|30|Group[1041, 1042]|Clement\n",
      "le rapport  de la grand-mère |both|termination|nonpatient|30|Group[1041, 1042]|Clement\n",
      "le rapport du grand-père |both|termination|historical|30|Group[1041, 1042]|Clement\n",
      "le rapport du grand-père |both|termination|nonpatient|30|Group[1041, 1042]|Clement\n",
      "le rapport du cousin |both|termination|historical|30|Group[1041, 1042]|Clement\n",
      "le rapport du cousin |both|termination|nonpatient|30|Group[1041, 1042]|Clement\n",
      "le rapport des cousins |both|termination|historical|30|Group[1041, 1042]|Clement\n",
      "le rapport des cousins |both|termination|nonpatient|30|Group[1041, 1042]|Clement\n",
      "le rapport de la famille |both|termination|historical|30|Group[1041, 1042]|Clement\n",
      "le rapport de la famille |both|termination|nonpatient|30|Group[1041, 1042]|Clement\n",
      "le rapport du colocataire |both|termination|historical|30|Group[1041, 1042]|Clement\n",
      "le rapport du colocataire |both|termination|nonpatient|30|Group[1041, 1042]|Clement\n",
      "le rapport des colocataires |both|termination|historical|30|Group[1041, 1042]|Clement\n",
      "le rapport des colocataires |both|termination|nonpatient|30|Group[1041, 1042]|Clement\n",
      "le rapport du voisin |both|termination|historical|30|Group[1041, 1042]|Clement\n",
      "le rapport du voisin |both|termination|nonpatient|30|Group[1041, 1042]|Clement\n",
      "le rapport des voisins |both|termination|historical|30|Group[1041, 1042]|Clement\n",
      "le rapport des voisins |both|termination|nonpatient|30|Group[1041, 1042]|Clement\n"
     ]
    }
   ],
   "source": [
    "from nltk.parse.generate import generate, demo_grammar\n",
    "from nltk import CFG\n",
    "\n",
    "cfg_grammar= \"\"\"\n",
    "S ->  Var1 Member Trigger_Rule\n",
    "Var1 -> \"le rapport\" \n",
    "Member -> \"du parent\" | \"des parents\" | \"du père\" | \"du beau-père\" | \"de la mère\" |\"de la belle-mère\" | \"du papa\" | \"de la maman\" |\"du fils\" |\"des fils\" | \"du beau-fils\" | \"du garçon\" | \"des garçons\" | \"de la fille\" | \"de la belle-fille\" | \"des filles\" | \"du frère\"| \"des frères\" |\"de la soeur\" |\"des soeurs\" |\"de la sœur\" |\"des sœurs\" | \"de la fratrie\" | \"de l'oncle\"| \"du tonton\"| \"des oncles\" |\"de la tante\" | \"de la tata\"|\"des tantes\" |\" de la grand-mère\" | \"du grand-père\" |\"du cousin\" |\"des cousins\" |\"de la famille\" |\"du colocataire\" | \"des colocataires\" | \"du voisin\" | \"des voisins\"\n",
    "Trigger_Rule -> \"|both|termination|historical|30|Group[1041, 1042]|Clement\"|\"|both|termination|nonpatient|30|Group[1041, 1042]|Clement\"\n",
    "\"\"\"\n",
    "\n",
    "for sentence in generate(CFG.fromstring(cfg_grammar), n=1000):\n",
    "    print(' '.join(sentence))"
   ]
  },
  {
   "cell_type": "code",
   "execution_count": 3,
   "metadata": {},
   "outputs": [
    {
     "name": "stdout",
     "output_type": "stream",
     "text": [
      "parler avec la famille |both|termination|historical|30|Group[1053, 1054]|Clement\n",
      "parler avec la famille |both|termination|nonpatient|30|Group[1053, 1054]|Clement\n",
      "parler avec le cercle familial |both|termination|historical|30|Group[1053, 1054]|Clement\n",
      "parler avec le cercle familial |both|termination|nonpatient|30|Group[1053, 1054]|Clement\n",
      "parler avec l'entourage |both|termination|historical|30|Group[1053, 1054]|Clement\n",
      "parler avec l'entourage |both|termination|nonpatient|30|Group[1053, 1054]|Clement\n",
      "parler avec les parents |both|termination|historical|30|Group[1053, 1054]|Clement\n",
      "parler avec les parents |both|termination|nonpatient|30|Group[1053, 1054]|Clement\n",
      "parler avec la belle-famille |both|termination|historical|30|Group[1053, 1054]|Clement\n",
      "parler avec la belle-famille |both|termination|nonpatient|30|Group[1053, 1054]|Clement\n",
      "bavarder avec la famille |both|termination|historical|30|Group[1053, 1054]|Clement\n",
      "bavarder avec la famille |both|termination|nonpatient|30|Group[1053, 1054]|Clement\n",
      "bavarder avec le cercle familial |both|termination|historical|30|Group[1053, 1054]|Clement\n",
      "bavarder avec le cercle familial |both|termination|nonpatient|30|Group[1053, 1054]|Clement\n",
      "bavarder avec l'entourage |both|termination|historical|30|Group[1053, 1054]|Clement\n",
      "bavarder avec l'entourage |both|termination|nonpatient|30|Group[1053, 1054]|Clement\n",
      "bavarder avec les parents |both|termination|historical|30|Group[1053, 1054]|Clement\n",
      "bavarder avec les parents |both|termination|nonpatient|30|Group[1053, 1054]|Clement\n",
      "bavarder avec la belle-famille |both|termination|historical|30|Group[1053, 1054]|Clement\n",
      "bavarder avec la belle-famille |both|termination|nonpatient|30|Group[1053, 1054]|Clement\n",
      "discuter avec la famille |both|termination|historical|30|Group[1053, 1054]|Clement\n",
      "discuter avec la famille |both|termination|nonpatient|30|Group[1053, 1054]|Clement\n",
      "discuter avec le cercle familial |both|termination|historical|30|Group[1053, 1054]|Clement\n",
      "discuter avec le cercle familial |both|termination|nonpatient|30|Group[1053, 1054]|Clement\n",
      "discuter avec l'entourage |both|termination|historical|30|Group[1053, 1054]|Clement\n",
      "discuter avec l'entourage |both|termination|nonpatient|30|Group[1053, 1054]|Clement\n",
      "discuter avec les parents |both|termination|historical|30|Group[1053, 1054]|Clement\n",
      "discuter avec les parents |both|termination|nonpatient|30|Group[1053, 1054]|Clement\n",
      "discuter avec la belle-famille |both|termination|historical|30|Group[1053, 1054]|Clement\n",
      "discuter avec la belle-famille |both|termination|nonpatient|30|Group[1053, 1054]|Clement\n",
      "dialoguer avec la famille |both|termination|historical|30|Group[1053, 1054]|Clement\n",
      "dialoguer avec la famille |both|termination|nonpatient|30|Group[1053, 1054]|Clement\n",
      "dialoguer avec le cercle familial |both|termination|historical|30|Group[1053, 1054]|Clement\n",
      "dialoguer avec le cercle familial |both|termination|nonpatient|30|Group[1053, 1054]|Clement\n",
      "dialoguer avec l'entourage |both|termination|historical|30|Group[1053, 1054]|Clement\n",
      "dialoguer avec l'entourage |both|termination|nonpatient|30|Group[1053, 1054]|Clement\n",
      "dialoguer avec les parents |both|termination|historical|30|Group[1053, 1054]|Clement\n",
      "dialoguer avec les parents |both|termination|nonpatient|30|Group[1053, 1054]|Clement\n",
      "dialoguer avec la belle-famille |both|termination|historical|30|Group[1053, 1054]|Clement\n",
      "dialoguer avec la belle-famille |both|termination|nonpatient|30|Group[1053, 1054]|Clement\n",
      "communiquer avec la famille |both|termination|historical|30|Group[1053, 1054]|Clement\n",
      "communiquer avec la famille |both|termination|nonpatient|30|Group[1053, 1054]|Clement\n",
      "communiquer avec le cercle familial |both|termination|historical|30|Group[1053, 1054]|Clement\n",
      "communiquer avec le cercle familial |both|termination|nonpatient|30|Group[1053, 1054]|Clement\n",
      "communiquer avec l'entourage |both|termination|historical|30|Group[1053, 1054]|Clement\n",
      "communiquer avec l'entourage |both|termination|nonpatient|30|Group[1053, 1054]|Clement\n",
      "communiquer avec les parents |both|termination|historical|30|Group[1053, 1054]|Clement\n",
      "communiquer avec les parents |both|termination|nonpatient|30|Group[1053, 1054]|Clement\n",
      "communiquer avec la belle-famille |both|termination|historical|30|Group[1053, 1054]|Clement\n",
      "communiquer avec la belle-famille |both|termination|nonpatient|30|Group[1053, 1054]|Clement\n",
      "s'entretenir avec la famille |both|termination|historical|30|Group[1053, 1054]|Clement\n",
      "s'entretenir avec la famille |both|termination|nonpatient|30|Group[1053, 1054]|Clement\n",
      "s'entretenir avec le cercle familial |both|termination|historical|30|Group[1053, 1054]|Clement\n",
      "s'entretenir avec le cercle familial |both|termination|nonpatient|30|Group[1053, 1054]|Clement\n",
      "s'entretenir avec l'entourage |both|termination|historical|30|Group[1053, 1054]|Clement\n",
      "s'entretenir avec l'entourage |both|termination|nonpatient|30|Group[1053, 1054]|Clement\n",
      "s'entretenir avec les parents |both|termination|historical|30|Group[1053, 1054]|Clement\n",
      "s'entretenir avec les parents |both|termination|nonpatient|30|Group[1053, 1054]|Clement\n",
      "s'entretenir avec la belle-famille |both|termination|historical|30|Group[1053, 1054]|Clement\n",
      "s'entretenir avec la belle-famille |both|termination|nonpatient|30|Group[1053, 1054]|Clement\n"
     ]
    }
   ],
   "source": [
    "from nltk.parse.generate import generate, demo_grammar\n",
    "from nltk import CFG\n",
    "\n",
    "cfg_grammar= \"\"\"\n",
    "S ->  Var1 Var2 Var3 Trigger_Rule\n",
    "Var1 -> \"parler\" | \"bavarder\" | \"discuter\" | \"dialoguer\" | \"communiquer\" | \"s'entretenir\"\n",
    "Var2 -> \"avec\"\n",
    "Var3 -> \"la famille\" | \"le cercle familial\" | \"l'entourage\" | \"les parents\" | \"la belle-famille\"\n",
    "Trigger_Rule -> \"|both|termination|historical|30|Group[1053, 1054]|Clement\"|\"|both|termination|nonpatient|30|Group[1053, 1054]|Clement\"\n",
    "\"\"\"\n",
    "\n",
    "for sentence in generate(CFG.fromstring(cfg_grammar), n=1000):\n",
    "    print(' '.join(sentence))"
   ]
  },
  {
   "cell_type": "code",
   "execution_count": 4,
   "metadata": {},
   "outputs": [
    {
     "name": "stdout",
     "output_type": "stream",
     "text": [
      "s'adresser à la famille |both|termination|historical|30|Group[1053, 1054]|Clement\n",
      "s'adresser à la famille |both|termination|nonpatient|30|Group[1053, 1054]|Clement\n",
      "s'adresser au cercle familial |both|termination|historical|30|Group[1053, 1054]|Clement\n",
      "s'adresser au cercle familial |both|termination|nonpatient|30|Group[1053, 1054]|Clement\n",
      "s'adresser à l'entourage |both|termination|historical|30|Group[1053, 1054]|Clement\n",
      "s'adresser à l'entourage |both|termination|nonpatient|30|Group[1053, 1054]|Clement\n",
      "s'adresser aux parents |both|termination|historical|30|Group[1053, 1054]|Clement\n",
      "s'adresser aux parents |both|termination|nonpatient|30|Group[1053, 1054]|Clement\n",
      "s'adresser à la belle-famille |both|termination|historical|30|Group[1053, 1054]|Clement\n",
      "s'adresser à la belle-famille |both|termination|nonpatient|30|Group[1053, 1054]|Clement\n"
     ]
    }
   ],
   "source": [
    "from nltk.parse.generate import generate, demo_grammar\n",
    "from nltk import CFG\n",
    "\n",
    "cfg_grammar= \"\"\"\n",
    "S ->  Var1 Var2 Trigger_Rule\n",
    "Var1 -> \"s'adresser\"\n",
    "Var2 -> \"à la famille\" | \"au cercle familial\" | \"à l'entourage\" | \"aux parents\" | \"à la belle-famille\"\n",
    "Trigger_Rule -> \"|both|termination|historical|30|Group[1053, 1054]|Clement\"|\"|both|termination|nonpatient|30|Group[1053, 1054]|Clement\"\n",
    "\"\"\"\n",
    "\n",
    "for sentence in generate(CFG.fromstring(cfg_grammar), n=1000):\n",
    "    print(' '.join(sentence))"
   ]
  },
  {
   "cell_type": "code",
   "execution_count": 5,
   "metadata": {},
   "outputs": [
    {
     "name": "stdout",
     "output_type": "stream",
     "text": [
      "encore |forward|termination|negated|10|Group[1060]|Clement\n",
      "toujours |forward|termination|negated|10|Group[1060]|Clement\n"
     ]
    }
   ],
   "source": [
    "from nltk.parse.generate import generate, demo_grammar\n",
    "from nltk import CFG\n",
    "\n",
    "cfg_grammar= \"\"\"\n",
    "S ->  Var1 Trigger_Rule\n",
    "Var1 -> \"encore\" |\"toujours\"\n",
    "Trigger_Rule -> \"|forward|termination|negated|10|Group[1060]|Clement\"\n",
    "\"\"\"\n",
    "\n",
    "for sentence in generate(CFG.fromstring(cfg_grammar), n=1000):\n",
    "    print(' '.join(sentence))"
   ]
  },
  {
   "cell_type": "code",
   "execution_count": 6,
   "metadata": {},
   "outputs": [
    {
     "name": "stdout",
     "output_type": "stream",
     "text": [
      "arrêté de prendre |both|pseudo|negated|10|Group[1061]|Clement\n",
      "arrêté de manger |both|pseudo|negated|10|Group[1061]|Clement\n",
      "arrêté de boire |both|pseudo|negated|10|Group[1061]|Clement\n",
      "terminé de prendre |both|pseudo|negated|10|Group[1061]|Clement\n",
      "terminé de manger |both|pseudo|negated|10|Group[1061]|Clement\n",
      "terminé de boire |both|pseudo|negated|10|Group[1061]|Clement\n",
      "fini de prendre |both|pseudo|negated|10|Group[1061]|Clement\n",
      "fini de manger |both|pseudo|negated|10|Group[1061]|Clement\n",
      "fini de boire |both|pseudo|negated|10|Group[1061]|Clement\n",
      "cessé de prendre |both|pseudo|negated|10|Group[1061]|Clement\n",
      "cessé de manger |both|pseudo|negated|10|Group[1061]|Clement\n",
      "cessé de boire |both|pseudo|negated|10|Group[1061]|Clement\n"
     ]
    }
   ],
   "source": [
    "from nltk.parse.generate import generate, demo_grammar\n",
    "from nltk import CFG\n",
    "\n",
    "cfg_grammar= \"\"\"\n",
    "S ->  Var1 Var2 Var3 Trigger_Rule\n",
    "Var1 -> \"arrêté\" | \"terminé\" | \"fini\" | \"cessé\"\n",
    "Var2 -> \"de\"\n",
    "Var3 -> \"prendre\" | \"manger\" | \"boire\"\n",
    "Trigger_Rule -> \"|both|pseudo|negated|10|Group[1061]|Clement\"\n",
    "\"\"\"\n",
    "\n",
    "for sentence in generate(CFG.fromstring(cfg_grammar), n=1000):\n",
    "    print(' '.join(sentence))"
   ]
  },
  {
   "cell_type": "code",
   "execution_count": 7,
   "metadata": {},
   "outputs": [
    {
     "name": "stdout",
     "output_type": "stream",
     "text": [
      "étude pour évaluer |forward|trigger|uncertain|30|Group[1062]|Clement\n",
      "étude pour juger |forward|trigger|uncertain|30|Group[1062]|Clement\n",
      "étude pour apprécier |forward|trigger|uncertain|30|Group[1062]|Clement\n",
      "étude pour chiffrer |forward|trigger|uncertain|30|Group[1062]|Clement\n",
      "étude pour calculer |forward|trigger|uncertain|30|Group[1062]|Clement\n",
      "étude pour quantifier |forward|trigger|uncertain|30|Group[1062]|Clement\n",
      "étude pour mesurer |forward|trigger|uncertain|30|Group[1062]|Clement\n",
      "étude pour déterminer |forward|trigger|uncertain|30|Group[1062]|Clement\n",
      "étude pour expertiser |forward|trigger|uncertain|30|Group[1062]|Clement\n",
      "étude _s pour évaluer |forward|trigger|uncertain|30|Group[1062]|Clement\n",
      "étude _s pour juger |forward|trigger|uncertain|30|Group[1062]|Clement\n",
      "étude _s pour apprécier |forward|trigger|uncertain|30|Group[1062]|Clement\n",
      "étude _s pour chiffrer |forward|trigger|uncertain|30|Group[1062]|Clement\n",
      "étude _s pour calculer |forward|trigger|uncertain|30|Group[1062]|Clement\n",
      "étude _s pour quantifier |forward|trigger|uncertain|30|Group[1062]|Clement\n",
      "étude _s pour mesurer |forward|trigger|uncertain|30|Group[1062]|Clement\n",
      "étude _s pour déterminer |forward|trigger|uncertain|30|Group[1062]|Clement\n",
      "étude _s pour expertiser |forward|trigger|uncertain|30|Group[1062]|Clement\n",
      "examen pour évaluer |forward|trigger|uncertain|30|Group[1062]|Clement\n",
      "examen pour juger |forward|trigger|uncertain|30|Group[1062]|Clement\n",
      "examen pour apprécier |forward|trigger|uncertain|30|Group[1062]|Clement\n",
      "examen pour chiffrer |forward|trigger|uncertain|30|Group[1062]|Clement\n",
      "examen pour calculer |forward|trigger|uncertain|30|Group[1062]|Clement\n",
      "examen pour quantifier |forward|trigger|uncertain|30|Group[1062]|Clement\n",
      "examen pour mesurer |forward|trigger|uncertain|30|Group[1062]|Clement\n",
      "examen pour déterminer |forward|trigger|uncertain|30|Group[1062]|Clement\n",
      "examen pour expertiser |forward|trigger|uncertain|30|Group[1062]|Clement\n",
      "examen _s pour évaluer |forward|trigger|uncertain|30|Group[1062]|Clement\n",
      "examen _s pour juger |forward|trigger|uncertain|30|Group[1062]|Clement\n",
      "examen _s pour apprécier |forward|trigger|uncertain|30|Group[1062]|Clement\n",
      "examen _s pour chiffrer |forward|trigger|uncertain|30|Group[1062]|Clement\n",
      "examen _s pour calculer |forward|trigger|uncertain|30|Group[1062]|Clement\n",
      "examen _s pour quantifier |forward|trigger|uncertain|30|Group[1062]|Clement\n",
      "examen _s pour mesurer |forward|trigger|uncertain|30|Group[1062]|Clement\n",
      "examen _s pour déterminer |forward|trigger|uncertain|30|Group[1062]|Clement\n",
      "examen _s pour expertiser |forward|trigger|uncertain|30|Group[1062]|Clement\n",
      "expérimentation pour évaluer |forward|trigger|uncertain|30|Group[1062]|Clement\n",
      "expérimentation pour juger |forward|trigger|uncertain|30|Group[1062]|Clement\n",
      "expérimentation pour apprécier |forward|trigger|uncertain|30|Group[1062]|Clement\n",
      "expérimentation pour chiffrer |forward|trigger|uncertain|30|Group[1062]|Clement\n",
      "expérimentation pour calculer |forward|trigger|uncertain|30|Group[1062]|Clement\n",
      "expérimentation pour quantifier |forward|trigger|uncertain|30|Group[1062]|Clement\n",
      "expérimentation pour mesurer |forward|trigger|uncertain|30|Group[1062]|Clement\n",
      "expérimentation pour déterminer |forward|trigger|uncertain|30|Group[1062]|Clement\n",
      "expérimentation pour expertiser |forward|trigger|uncertain|30|Group[1062]|Clement\n",
      "expérimentation _s pour évaluer |forward|trigger|uncertain|30|Group[1062]|Clement\n",
      "expérimentation _s pour juger |forward|trigger|uncertain|30|Group[1062]|Clement\n",
      "expérimentation _s pour apprécier |forward|trigger|uncertain|30|Group[1062]|Clement\n",
      "expérimentation _s pour chiffrer |forward|trigger|uncertain|30|Group[1062]|Clement\n",
      "expérimentation _s pour calculer |forward|trigger|uncertain|30|Group[1062]|Clement\n",
      "expérimentation _s pour quantifier |forward|trigger|uncertain|30|Group[1062]|Clement\n",
      "expérimentation _s pour mesurer |forward|trigger|uncertain|30|Group[1062]|Clement\n",
      "expérimentation _s pour déterminer |forward|trigger|uncertain|30|Group[1062]|Clement\n",
      "expérimentation _s pour expertiser |forward|trigger|uncertain|30|Group[1062]|Clement\n",
      "enquête pour évaluer |forward|trigger|uncertain|30|Group[1062]|Clement\n",
      "enquête pour juger |forward|trigger|uncertain|30|Group[1062]|Clement\n",
      "enquête pour apprécier |forward|trigger|uncertain|30|Group[1062]|Clement\n",
      "enquête pour chiffrer |forward|trigger|uncertain|30|Group[1062]|Clement\n",
      "enquête pour calculer |forward|trigger|uncertain|30|Group[1062]|Clement\n",
      "enquête pour quantifier |forward|trigger|uncertain|30|Group[1062]|Clement\n",
      "enquête pour mesurer |forward|trigger|uncertain|30|Group[1062]|Clement\n",
      "enquête pour déterminer |forward|trigger|uncertain|30|Group[1062]|Clement\n",
      "enquête pour expertiser |forward|trigger|uncertain|30|Group[1062]|Clement\n",
      "enquête _s pour évaluer |forward|trigger|uncertain|30|Group[1062]|Clement\n",
      "enquête _s pour juger |forward|trigger|uncertain|30|Group[1062]|Clement\n",
      "enquête _s pour apprécier |forward|trigger|uncertain|30|Group[1062]|Clement\n",
      "enquête _s pour chiffrer |forward|trigger|uncertain|30|Group[1062]|Clement\n",
      "enquête _s pour calculer |forward|trigger|uncertain|30|Group[1062]|Clement\n",
      "enquête _s pour quantifier |forward|trigger|uncertain|30|Group[1062]|Clement\n",
      "enquête _s pour mesurer |forward|trigger|uncertain|30|Group[1062]|Clement\n",
      "enquête _s pour déterminer |forward|trigger|uncertain|30|Group[1062]|Clement\n",
      "enquête _s pour expertiser |forward|trigger|uncertain|30|Group[1062]|Clement\n",
      "analyse pour évaluer |forward|trigger|uncertain|30|Group[1062]|Clement\n",
      "analyse pour juger |forward|trigger|uncertain|30|Group[1062]|Clement\n",
      "analyse pour apprécier |forward|trigger|uncertain|30|Group[1062]|Clement\n",
      "analyse pour chiffrer |forward|trigger|uncertain|30|Group[1062]|Clement\n",
      "analyse pour calculer |forward|trigger|uncertain|30|Group[1062]|Clement\n",
      "analyse pour quantifier |forward|trigger|uncertain|30|Group[1062]|Clement\n",
      "analyse pour mesurer |forward|trigger|uncertain|30|Group[1062]|Clement\n",
      "analyse pour déterminer |forward|trigger|uncertain|30|Group[1062]|Clement\n",
      "analyse pour expertiser |forward|trigger|uncertain|30|Group[1062]|Clement\n",
      "analyse _s pour évaluer |forward|trigger|uncertain|30|Group[1062]|Clement\n",
      "analyse _s pour juger |forward|trigger|uncertain|30|Group[1062]|Clement\n",
      "analyse _s pour apprécier |forward|trigger|uncertain|30|Group[1062]|Clement\n",
      "analyse _s pour chiffrer |forward|trigger|uncertain|30|Group[1062]|Clement\n",
      "analyse _s pour calculer |forward|trigger|uncertain|30|Group[1062]|Clement\n",
      "analyse _s pour quantifier |forward|trigger|uncertain|30|Group[1062]|Clement\n",
      "analyse _s pour mesurer |forward|trigger|uncertain|30|Group[1062]|Clement\n",
      "analyse _s pour déterminer |forward|trigger|uncertain|30|Group[1062]|Clement\n",
      "analyse _s pour expertiser |forward|trigger|uncertain|30|Group[1062]|Clement\n"
     ]
    }
   ],
   "source": [
    "from nltk.parse.generate import generate, demo_grammar\n",
    "from nltk import CFG\n",
    "\n",
    "cfg_grammar= \"\"\"\n",
    "S ->  Var1 Termin Var2 Var3 Trigger_Rule\n",
    "Var1 -> \"étude\" | \"examen\" | \"expérimentation\" | \"enquête\" | \"analyse\"\n",
    "Termin -> |\"_s\" \n",
    "Var2 -> \"pour\"\n",
    "Var3 -> \"évaluer\" | \"juger\" | \"apprécier\" | \"chiffrer\" | \"calculer\" | \"quantifier\" | \"mesurer\" | \"déterminer\" | \"expertiser\"\n",
    "Trigger_Rule -> \"|forward|trigger|uncertain|30|Group[1062]|Clement\"\n",
    "\"\"\"\n",
    "\n",
    "for sentence in generate(CFG.fromstring(cfg_grammar), n=1000):\n",
    "    print(' '.join(sentence))"
   ]
  },
  {
   "cell_type": "code",
   "execution_count": 8,
   "metadata": {},
   "outputs": [
    {
     "name": "stdout",
     "output_type": "stream",
     "text": [
      "étude pour évaluer |forward|trigger|uncertain|30|Group[1063]|Clement\n",
      "étude pour juger |forward|trigger|uncertain|30|Group[1063]|Clement\n",
      "étude pour apprécier |forward|trigger|uncertain|30|Group[1063]|Clement\n",
      "étude pour chiffrer |forward|trigger|uncertain|30|Group[1063]|Clement\n",
      "étude pour calculer |forward|trigger|uncertain|30|Group[1063]|Clement\n",
      "étude pour quantifier |forward|trigger|uncertain|30|Group[1063]|Clement\n",
      "étude pour mesurer |forward|trigger|uncertain|30|Group[1063]|Clement\n",
      "étude pour déterminer |forward|trigger|uncertain|30|Group[1063]|Clement\n",
      "étude pour expertiser |forward|trigger|uncertain|30|Group[1063]|Clement\n",
      "étude pour jauger |forward|trigger|uncertain|30|Group[1063]|Clement\n",
      "étude pour compter |forward|trigger|uncertain|30|Group[1063]|Clement\n",
      "étude pour peser |forward|trigger|uncertain|30|Group[1063]|Clement\n",
      "étude pour comparer |forward|trigger|uncertain|30|Group[1063]|Clement\n",
      "étude pour examiner |forward|trigger|uncertain|30|Group[1063]|Clement\n",
      "étude pour recenser |forward|trigger|uncertain|30|Group[1063]|Clement\n",
      "examen pour évaluer |forward|trigger|uncertain|30|Group[1063]|Clement\n",
      "examen pour juger |forward|trigger|uncertain|30|Group[1063]|Clement\n",
      "examen pour apprécier |forward|trigger|uncertain|30|Group[1063]|Clement\n",
      "examen pour chiffrer |forward|trigger|uncertain|30|Group[1063]|Clement\n",
      "examen pour calculer |forward|trigger|uncertain|30|Group[1063]|Clement\n",
      "examen pour quantifier |forward|trigger|uncertain|30|Group[1063]|Clement\n",
      "examen pour mesurer |forward|trigger|uncertain|30|Group[1063]|Clement\n",
      "examen pour déterminer |forward|trigger|uncertain|30|Group[1063]|Clement\n",
      "examen pour expertiser |forward|trigger|uncertain|30|Group[1063]|Clement\n",
      "examen pour jauger |forward|trigger|uncertain|30|Group[1063]|Clement\n",
      "examen pour compter |forward|trigger|uncertain|30|Group[1063]|Clement\n",
      "examen pour peser |forward|trigger|uncertain|30|Group[1063]|Clement\n",
      "examen pour comparer |forward|trigger|uncertain|30|Group[1063]|Clement\n",
      "examen pour examiner |forward|trigger|uncertain|30|Group[1063]|Clement\n",
      "examen pour recenser |forward|trigger|uncertain|30|Group[1063]|Clement\n",
      "expérimentation pour évaluer |forward|trigger|uncertain|30|Group[1063]|Clement\n",
      "expérimentation pour juger |forward|trigger|uncertain|30|Group[1063]|Clement\n",
      "expérimentation pour apprécier |forward|trigger|uncertain|30|Group[1063]|Clement\n",
      "expérimentation pour chiffrer |forward|trigger|uncertain|30|Group[1063]|Clement\n",
      "expérimentation pour calculer |forward|trigger|uncertain|30|Group[1063]|Clement\n",
      "expérimentation pour quantifier |forward|trigger|uncertain|30|Group[1063]|Clement\n",
      "expérimentation pour mesurer |forward|trigger|uncertain|30|Group[1063]|Clement\n",
      "expérimentation pour déterminer |forward|trigger|uncertain|30|Group[1063]|Clement\n",
      "expérimentation pour expertiser |forward|trigger|uncertain|30|Group[1063]|Clement\n",
      "expérimentation pour jauger |forward|trigger|uncertain|30|Group[1063]|Clement\n",
      "expérimentation pour compter |forward|trigger|uncertain|30|Group[1063]|Clement\n",
      "expérimentation pour peser |forward|trigger|uncertain|30|Group[1063]|Clement\n",
      "expérimentation pour comparer |forward|trigger|uncertain|30|Group[1063]|Clement\n",
      "expérimentation pour examiner |forward|trigger|uncertain|30|Group[1063]|Clement\n",
      "expérimentation pour recenser |forward|trigger|uncertain|30|Group[1063]|Clement\n",
      "enquête pour évaluer |forward|trigger|uncertain|30|Group[1063]|Clement\n",
      "enquête pour juger |forward|trigger|uncertain|30|Group[1063]|Clement\n",
      "enquête pour apprécier |forward|trigger|uncertain|30|Group[1063]|Clement\n",
      "enquête pour chiffrer |forward|trigger|uncertain|30|Group[1063]|Clement\n",
      "enquête pour calculer |forward|trigger|uncertain|30|Group[1063]|Clement\n",
      "enquête pour quantifier |forward|trigger|uncertain|30|Group[1063]|Clement\n",
      "enquête pour mesurer |forward|trigger|uncertain|30|Group[1063]|Clement\n",
      "enquête pour déterminer |forward|trigger|uncertain|30|Group[1063]|Clement\n",
      "enquête pour expertiser |forward|trigger|uncertain|30|Group[1063]|Clement\n",
      "enquête pour jauger |forward|trigger|uncertain|30|Group[1063]|Clement\n",
      "enquête pour compter |forward|trigger|uncertain|30|Group[1063]|Clement\n",
      "enquête pour peser |forward|trigger|uncertain|30|Group[1063]|Clement\n",
      "enquête pour comparer |forward|trigger|uncertain|30|Group[1063]|Clement\n",
      "enquête pour examiner |forward|trigger|uncertain|30|Group[1063]|Clement\n",
      "enquête pour recenser |forward|trigger|uncertain|30|Group[1063]|Clement\n",
      "analyse pour évaluer |forward|trigger|uncertain|30|Group[1063]|Clement\n",
      "analyse pour juger |forward|trigger|uncertain|30|Group[1063]|Clement\n",
      "analyse pour apprécier |forward|trigger|uncertain|30|Group[1063]|Clement\n",
      "analyse pour chiffrer |forward|trigger|uncertain|30|Group[1063]|Clement\n",
      "analyse pour calculer |forward|trigger|uncertain|30|Group[1063]|Clement\n",
      "analyse pour quantifier |forward|trigger|uncertain|30|Group[1063]|Clement\n",
      "analyse pour mesurer |forward|trigger|uncertain|30|Group[1063]|Clement\n",
      "analyse pour déterminer |forward|trigger|uncertain|30|Group[1063]|Clement\n",
      "analyse pour expertiser |forward|trigger|uncertain|30|Group[1063]|Clement\n",
      "analyse pour jauger |forward|trigger|uncertain|30|Group[1063]|Clement\n",
      "analyse pour compter |forward|trigger|uncertain|30|Group[1063]|Clement\n",
      "analyse pour peser |forward|trigger|uncertain|30|Group[1063]|Clement\n",
      "analyse pour comparer |forward|trigger|uncertain|30|Group[1063]|Clement\n",
      "analyse pour examiner |forward|trigger|uncertain|30|Group[1063]|Clement\n",
      "analyse pour recenser |forward|trigger|uncertain|30|Group[1063]|Clement\n",
      "exploration pour évaluer |forward|trigger|uncertain|30|Group[1063]|Clement\n",
      "exploration pour juger |forward|trigger|uncertain|30|Group[1063]|Clement\n",
      "exploration pour apprécier |forward|trigger|uncertain|30|Group[1063]|Clement\n",
      "exploration pour chiffrer |forward|trigger|uncertain|30|Group[1063]|Clement\n",
      "exploration pour calculer |forward|trigger|uncertain|30|Group[1063]|Clement\n",
      "exploration pour quantifier |forward|trigger|uncertain|30|Group[1063]|Clement\n",
      "exploration pour mesurer |forward|trigger|uncertain|30|Group[1063]|Clement\n",
      "exploration pour déterminer |forward|trigger|uncertain|30|Group[1063]|Clement\n",
      "exploration pour expertiser |forward|trigger|uncertain|30|Group[1063]|Clement\n",
      "exploration pour jauger |forward|trigger|uncertain|30|Group[1063]|Clement\n",
      "exploration pour compter |forward|trigger|uncertain|30|Group[1063]|Clement\n",
      "exploration pour peser |forward|trigger|uncertain|30|Group[1063]|Clement\n",
      "exploration pour comparer |forward|trigger|uncertain|30|Group[1063]|Clement\n",
      "exploration pour examiner |forward|trigger|uncertain|30|Group[1063]|Clement\n",
      "exploration pour recenser |forward|trigger|uncertain|30|Group[1063]|Clement\n",
      "observation pour évaluer |forward|trigger|uncertain|30|Group[1063]|Clement\n",
      "observation pour juger |forward|trigger|uncertain|30|Group[1063]|Clement\n",
      "observation pour apprécier |forward|trigger|uncertain|30|Group[1063]|Clement\n",
      "observation pour chiffrer |forward|trigger|uncertain|30|Group[1063]|Clement\n",
      "observation pour calculer |forward|trigger|uncertain|30|Group[1063]|Clement\n",
      "observation pour quantifier |forward|trigger|uncertain|30|Group[1063]|Clement\n",
      "observation pour mesurer |forward|trigger|uncertain|30|Group[1063]|Clement\n",
      "observation pour déterminer |forward|trigger|uncertain|30|Group[1063]|Clement\n",
      "observation pour expertiser |forward|trigger|uncertain|30|Group[1063]|Clement\n",
      "observation pour jauger |forward|trigger|uncertain|30|Group[1063]|Clement\n",
      "observation pour compter |forward|trigger|uncertain|30|Group[1063]|Clement\n",
      "observation pour peser |forward|trigger|uncertain|30|Group[1063]|Clement\n",
      "observation pour comparer |forward|trigger|uncertain|30|Group[1063]|Clement\n",
      "observation pour examiner |forward|trigger|uncertain|30|Group[1063]|Clement\n",
      "observation pour recenser |forward|trigger|uncertain|30|Group[1063]|Clement\n",
      "expertise pour évaluer |forward|trigger|uncertain|30|Group[1063]|Clement\n",
      "expertise pour juger |forward|trigger|uncertain|30|Group[1063]|Clement\n",
      "expertise pour apprécier |forward|trigger|uncertain|30|Group[1063]|Clement\n",
      "expertise pour chiffrer |forward|trigger|uncertain|30|Group[1063]|Clement\n",
      "expertise pour calculer |forward|trigger|uncertain|30|Group[1063]|Clement\n",
      "expertise pour quantifier |forward|trigger|uncertain|30|Group[1063]|Clement\n",
      "expertise pour mesurer |forward|trigger|uncertain|30|Group[1063]|Clement\n",
      "expertise pour déterminer |forward|trigger|uncertain|30|Group[1063]|Clement\n",
      "expertise pour expertiser |forward|trigger|uncertain|30|Group[1063]|Clement\n",
      "expertise pour jauger |forward|trigger|uncertain|30|Group[1063]|Clement\n",
      "expertise pour compter |forward|trigger|uncertain|30|Group[1063]|Clement\n",
      "expertise pour peser |forward|trigger|uncertain|30|Group[1063]|Clement\n",
      "expertise pour comparer |forward|trigger|uncertain|30|Group[1063]|Clement\n",
      "expertise pour examiner |forward|trigger|uncertain|30|Group[1063]|Clement\n",
      "expertise pour recenser |forward|trigger|uncertain|30|Group[1063]|Clement\n",
      "rapport pour évaluer |forward|trigger|uncertain|30|Group[1063]|Clement\n",
      "rapport pour juger |forward|trigger|uncertain|30|Group[1063]|Clement\n",
      "rapport pour apprécier |forward|trigger|uncertain|30|Group[1063]|Clement\n",
      "rapport pour chiffrer |forward|trigger|uncertain|30|Group[1063]|Clement\n",
      "rapport pour calculer |forward|trigger|uncertain|30|Group[1063]|Clement\n",
      "rapport pour quantifier |forward|trigger|uncertain|30|Group[1063]|Clement\n",
      "rapport pour mesurer |forward|trigger|uncertain|30|Group[1063]|Clement\n",
      "rapport pour déterminer |forward|trigger|uncertain|30|Group[1063]|Clement\n",
      "rapport pour expertiser |forward|trigger|uncertain|30|Group[1063]|Clement\n",
      "rapport pour jauger |forward|trigger|uncertain|30|Group[1063]|Clement\n",
      "rapport pour compter |forward|trigger|uncertain|30|Group[1063]|Clement\n",
      "rapport pour peser |forward|trigger|uncertain|30|Group[1063]|Clement\n",
      "rapport pour comparer |forward|trigger|uncertain|30|Group[1063]|Clement\n",
      "rapport pour examiner |forward|trigger|uncertain|30|Group[1063]|Clement\n",
      "rapport pour recenser |forward|trigger|uncertain|30|Group[1063]|Clement\n",
      "investigation pour évaluer |forward|trigger|uncertain|30|Group[1063]|Clement\n",
      "investigation pour juger |forward|trigger|uncertain|30|Group[1063]|Clement\n",
      "investigation pour apprécier |forward|trigger|uncertain|30|Group[1063]|Clement\n",
      "investigation pour chiffrer |forward|trigger|uncertain|30|Group[1063]|Clement\n",
      "investigation pour calculer |forward|trigger|uncertain|30|Group[1063]|Clement\n",
      "investigation pour quantifier |forward|trigger|uncertain|30|Group[1063]|Clement\n",
      "investigation pour mesurer |forward|trigger|uncertain|30|Group[1063]|Clement\n",
      "investigation pour déterminer |forward|trigger|uncertain|30|Group[1063]|Clement\n",
      "investigation pour expertiser |forward|trigger|uncertain|30|Group[1063]|Clement\n",
      "investigation pour jauger |forward|trigger|uncertain|30|Group[1063]|Clement\n",
      "investigation pour compter |forward|trigger|uncertain|30|Group[1063]|Clement\n",
      "investigation pour peser |forward|trigger|uncertain|30|Group[1063]|Clement\n",
      "investigation pour comparer |forward|trigger|uncertain|30|Group[1063]|Clement\n",
      "investigation pour examiner |forward|trigger|uncertain|30|Group[1063]|Clement\n",
      "investigation pour recenser |forward|trigger|uncertain|30|Group[1063]|Clement\n"
     ]
    }
   ],
   "source": [
    "from nltk.parse.generate import generate, demo_grammar\n",
    "from nltk import CFG\n",
    "\n",
    "cfg_grammar= \"\"\"\n",
    "S ->  Var1 Var2 Var3 Trigger_Rule\n",
    "Var1 -> \"étude\" | \"examen\" | \"expérimentation\" | \"enquête\" | \"analyse\" | \"exploration\" | \"observation\" | \"expertise\" | \"rapport\" | \"investigation\"\n",
    "Var2 -> \"pour\"\n",
    "Var3 -> \"évaluer\" | \"juger\" | \"apprécier\" | \"chiffrer\" | \"calculer\" | \"quantifier\" | \"mesurer\" | \"déterminer\" | \"expertiser\" | \"jauger\" | \"compter\" | \"peser\" | \"comparer\" | \"examiner\" | \"recenser\"\n",
    "Trigger_Rule -> \"|forward|trigger|uncertain|30|Group[1063]|Clement\"\n",
    "\"\"\"\n",
    "\n",
    "for sentence in generate(CFG.fromstring(cfg_grammar), n=1000):\n",
    "    print(' '.join(sentence))"
   ]
  },
  {
   "cell_type": "code",
   "execution_count": 9,
   "metadata": {},
   "outputs": [
    {
     "name": "stdout",
     "output_type": "stream",
     "text": [
      "apparition soudaine de |both|pseudo|historical|30|Group[1064]|Clement\n",
      "arrivée soudaine de |both|pseudo|historical|30|Group[1064]|Clement\n",
      "éclosion soudaine de |both|pseudo|historical|30|Group[1064]|Clement\n",
      "manifestation soudaine de |both|pseudo|historical|30|Group[1064]|Clement\n",
      "éruption soudaine de |both|pseudo|historical|30|Group[1064]|Clement\n",
      "naissance soudaine de |both|pseudo|historical|30|Group[1064]|Clement\n",
      "survenue soudaine de |both|pseudo|historical|30|Group[1064]|Clement\n",
      "émergence soudaine de |both|pseudo|historical|30|Group[1064]|Clement\n",
      "poussée soudaine de |both|pseudo|historical|30|Group[1064]|Clement\n"
     ]
    }
   ],
   "source": [
    "from nltk.parse.generate import generate, demo_grammar\n",
    "from nltk import CFG\n",
    "\n",
    "cfg_grammar= \"\"\"\n",
    "S ->  Var1 Var2 Var3 Trigger_Rule\n",
    "Var1 -> \"apparition\" | \"arrivée\" | \"éclosion\" | \"manifestation\" | \"éruption\" | \"naissance\" | \"survenue\" | \"émergence\" | \"poussée\"\n",
    "Var2 -> \"soudaine\"\n",
    "Var3 -> \"de\"\n",
    "Trigger_Rule -> \"|both|pseudo|historical|30|Group[1064]|Clement\"\n",
    "\"\"\"\n",
    "\n",
    "for sentence in generate(CFG.fromstring(cfg_grammar), n=1000):\n",
    "    print(' '.join(sentence))"
   ]
  },
  {
   "cell_type": "code",
   "execution_count": 10,
   "metadata": {},
   "outputs": [
    {
     "name": "stdout",
     "output_type": "stream",
     "text": [
      "évocateur de |forward|trigger|uncertain|30|Group[1089]|Clement\n",
      "évocatoire de |forward|trigger|uncertain|30|Group[1089]|Clement\n",
      "allusif de |forward|trigger|uncertain|30|Group[1089]|Clement\n"
     ]
    }
   ],
   "source": [
    "from nltk.parse.generate import generate, demo_grammar\n",
    "from nltk import CFG\n",
    "\n",
    "cfg_grammar= \"\"\"\n",
    "S ->  Var1 Var2 Trigger_Rule\n",
    "Var1 -> \"évocateur\" | \"évocatoire\" | \"allusif\"\n",
    "Var2 -> \"de\"\n",
    "Trigger_Rule -> \"|forward|trigger|uncertain|30|Group[1089]|Clement\"\n",
    "\"\"\"\n",
    "\n",
    "for sentence in generate(CFG.fromstring(cfg_grammar), n=1000):\n",
    "    print(' '.join(sentence))"
   ]
  },
  {
   "cell_type": "code",
   "execution_count": 11,
   "metadata": {},
   "outputs": [
    {
     "name": "stdout",
     "output_type": "stream",
     "text": [
      "suggérer |forward|trigger|uncertain|30|Group[1090]|Clement\n",
      "évoquer |forward|trigger|uncertain|30|Group[1090]|Clement\n",
      "susciter |forward|trigger|uncertain|30|Group[1090]|Clement\n",
      "faire penser à |forward|trigger|uncertain|30|Group[1090]|Clement\n",
      "sous-entendre |forward|trigger|uncertain|30|Group[1090]|Clement\n",
      "supposer |forward|trigger|uncertain|30|Group[1090]|Clement\n",
      "envisager |forward|trigger|uncertain|30|Group[1090]|Clement\n",
      "soupçonner |forward|trigger|uncertain|30|Group[1090]|Clement\n",
      "pressentir |forward|trigger|uncertain|30|Group[1090]|Clement\n",
      "deviner |forward|trigger|uncertain|30|Group[1090]|Clement\n",
      "douter |forward|trigger|uncertain|30|Group[1090]|Clement\n",
      "présumer |forward|trigger|uncertain|30|Group[1090]|Clement\n",
      "entrevoir |forward|trigger|uncertain|30|Group[1090]|Clement\n",
      "sentir |forward|trigger|uncertain|30|Group[1090]|Clement\n",
      "conjecturer |forward|trigger|uncertain|30|Group[1090]|Clement\n",
      "penser |forward|trigger|uncertain|30|Group[1090]|Clement\n",
      "imaginer |forward|trigger|uncertain|30|Group[1090]|Clement\n",
      "subodorer |forward|trigger|uncertain|30|Group[1090]|Clement\n",
      "croire |forward|trigger|uncertain|30|Group[1090]|Clement\n"
     ]
    }
   ],
   "source": [
    "from nltk.parse.generate import generate, demo_grammar\n",
    "from nltk import CFG\n",
    "\n",
    "cfg_grammar= \"\"\"\n",
    "S ->  Var1 Trigger_Rule\n",
    "Var1 -> \"suggérer\" | \"évoquer\" | \"susciter\" | \"faire penser à\" | \"sous-entendre\" | \"supposer\" | \"envisager\"| \"soupçonner\" | \"pressentir\" | \"deviner\" | \"douter\" | \"présumer\" | \"entrevoir\" | \"sentir\" | \"conjecturer\" | \"penser\" | \"imaginer\" | \"subodorer\" | \"croire\"\n",
    "Trigger_Rule -> \"|forward|trigger|uncertain|30|Group[1090]|Clement\"\n",
    "\"\"\"\n",
    "\n",
    "for sentence in generate(CFG.fromstring(cfg_grammar), n=1000):\n",
    "    print(' '.join(sentence))"
   ]
  },
  {
   "cell_type": "code",
   "execution_count": 12,
   "metadata": {},
   "outputs": [
    {
     "name": "stdout",
     "output_type": "stream",
     "text": [
      "suggéré |forward|trigger|uncertain|30|Group[1091]|Clement\n",
      "évoqué |forward|trigger|uncertain|30|Group[1091]|Clement\n",
      "suscité |forward|trigger|uncertain|30|Group[1091]|Clement\n",
      "fait penser à |forward|trigger|uncertain|30|Group[1091]|Clement\n",
      "sous-entendu |forward|trigger|uncertain|30|Group[1091]|Clement\n",
      "supposé |forward|trigger|uncertain|30|Group[1091]|Clement\n",
      "envisagé |forward|trigger|uncertain|30|Group[1091]|Clement\n",
      "soupçonné |forward|trigger|uncertain|30|Group[1091]|Clement\n",
      "pressenti |forward|trigger|uncertain|30|Group[1091]|Clement\n",
      "deviné |forward|trigger|uncertain|30|Group[1091]|Clement\n",
      "douté |forward|trigger|uncertain|30|Group[1091]|Clement\n",
      "présumé |forward|trigger|uncertain|30|Group[1091]|Clement\n",
      "entrevu |forward|trigger|uncertain|30|Group[1091]|Clement\n",
      "senti |forward|trigger|uncertain|30|Group[1091]|Clement\n",
      "conjecturé |forward|trigger|uncertain|30|Group[1091]|Clement\n",
      "pensé |forward|trigger|uncertain|30|Group[1091]|Clement\n",
      "imaginé |forward|trigger|uncertain|30|Group[1091]|Clement\n",
      "subodoré |forward|trigger|uncertain|30|Group[1091]|Clement\n",
      "cru |forward|trigger|uncertain|30|Group[1091]|Clement\n"
     ]
    }
   ],
   "source": [
    "from nltk.parse.generate import generate, demo_grammar\n",
    "from nltk import CFG\n",
    "\n",
    "cfg_grammar= \"\"\"\n",
    "S ->  Var1 Trigger_Rule\n",
    "Var1 -> \"suggéré\" | \"évoqué\" | \"suscité\" | \"fait penser à\" | \"sous-entendu\" | \"supposé\" | \"envisagé\" | \"soupçonné\" | \"pressenti\" | \"deviné\" | \"douté\" | \"présumé\" | \"entrevu\" | \"senti\" | \"conjecturé\" | \"pensé\" | \"imaginé\" | \"subodoré\" | \"cru\"\n",
    "Trigger_Rule -> \"|forward|trigger|uncertain|30|Group[1091]|Clement\"\n",
    "\"\"\"\n",
    "\n",
    "for sentence in generate(CFG.fromstring(cfg_grammar), n=1000):\n",
    "    print(' '.join(sentence))"
   ]
  },
  {
   "cell_type": "code",
   "execution_count": 13,
   "metadata": {},
   "outputs": [
    {
     "name": "stdout",
     "output_type": "stream",
     "text": [
      "suggére |forward|trigger|uncertain|30|Group[1091]|Clement\n",
      "évoque |forward|trigger|uncertain|30|Group[1091]|Clement\n",
      "suscite |forward|trigger|uncertain|30|Group[1091]|Clement\n",
      "fait penser à |forward|trigger|uncertain|30|Group[1091]|Clement\n",
      "sous-entends |forward|trigger|uncertain|30|Group[1091]|Clement\n",
      "suppose |forward|trigger|uncertain|30|Group[1091]|Clement\n",
      "envisage |forward|trigger|uncertain|30|Group[1091]|Clement\n",
      "soupçonne |forward|trigger|uncertain|30|Group[1091]|Clement\n",
      "pressentis |forward|trigger|uncertain|30|Group[1091]|Clement\n",
      "devine |forward|trigger|uncertain|30|Group[1091]|Clement\n",
      "doute |forward|trigger|uncertain|30|Group[1091]|Clement\n",
      "présume |forward|trigger|uncertain|30|Group[1091]|Clement\n",
      "entrevois |forward|trigger|uncertain|30|Group[1091]|Clement\n",
      "sens |forward|trigger|uncertain|30|Group[1091]|Clement\n",
      "conjecture |forward|trigger|uncertain|30|Group[1091]|Clement\n",
      "pense |forward|trigger|uncertain|30|Group[1091]|Clement\n",
      "imagine |forward|trigger|uncertain|30|Group[1091]|Clement\n",
      "subodore |forward|trigger|uncertain|30|Group[1091]|Clement\n",
      "crois |forward|trigger|uncertain|30|Group[1091]|Clement\n"
     ]
    }
   ],
   "source": [
    "from nltk.parse.generate import generate, demo_grammar\n",
    "from nltk import CFG\n",
    "\n",
    "cfg_grammar= \"\"\"\n",
    "S ->  Var1 Trigger_Rule\n",
    "Var1 -> \"suggére\" | \"évoque\" | \"suscite\" | \"fait penser à\" | \"sous-entends\" | \"suppose\" | \"envisage\" | \"soupçonne\" | \"pressentis\" | \"devine\" | \"doute\" | \"présume\" | \"entrevois\" | \"sens\" | \"conjecture\" | \"pense\" | \"imagine\" | \"subodore\" | \"crois\"\n",
    "Trigger_Rule -> \"|forward|trigger|uncertain|30|Group[1091]|Clement\"\n",
    "\"\"\"\n",
    "\n",
    "for sentence in generate(CFG.fromstring(cfg_grammar), n=1000):\n",
    "    print(' '.join(sentence))"
   ]
  },
  {
   "cell_type": "code",
   "execution_count": 14,
   "metadata": {},
   "outputs": [
    {
     "name": "stdout",
     "output_type": "stream",
     "text": [
      "soupçon de |forward|trigger|uncertain|30|Group[1092]|Clement\n",
      "doute de |forward|trigger|uncertain|30|Group[1092]|Clement\n",
      "suspicion de |forward|trigger|uncertain|30|Group[1092]|Clement\n",
      "crainte de |forward|trigger|uncertain|30|Group[1092]|Clement\n",
      "croyance de |forward|trigger|uncertain|30|Group[1092]|Clement\n",
      "présomption de |forward|trigger|uncertain|30|Group[1092]|Clement\n",
      "supposition de |forward|trigger|uncertain|30|Group[1092]|Clement\n"
     ]
    }
   ],
   "source": [
    "from nltk.parse.generate import generate, demo_grammar\n",
    "from nltk import CFG\n",
    "\n",
    "cfg_grammar= \"\"\"\n",
    "S ->  Var1 Var2 Trigger_Rule\n",
    "Var1 -> \"soupçon\" | \"doute\" | \"suspicion\" | \"crainte\" | \"croyance\" | \"présomption\"  | \"supposition\"\n",
    "Var2 -> \"de\"\n",
    "Trigger_Rule -> \"|forward|trigger|uncertain|30|Group[1092]|Clement\"\n",
    "\"\"\"\n",
    "\n",
    "for sentence in generate(CFG.fromstring(cfg_grammar), n=1000):\n",
    "    print(' '.join(sentence))"
   ]
  },
  {
   "cell_type": "code",
   "execution_count": 15,
   "metadata": {},
   "outputs": [
    {
     "name": "stdout",
     "output_type": "stream",
     "text": [
      "méfiant pour |forward|trigger|uncertain|30|Group[1093]|Clement\n",
      "soupçonneux pour |forward|trigger|uncertain|30|Group[1093]|Clement\n",
      "timoré pour |forward|trigger|uncertain|30|Group[1093]|Clement\n",
      "prudent pour |forward|trigger|uncertain|30|Group[1093]|Clement\n",
      "suspicieux pour |forward|trigger|uncertain|30|Group[1093]|Clement\n",
      "dubitatif pour |forward|trigger|uncertain|30|Group[1093]|Clement\n",
      "douteux pour |forward|trigger|uncertain|30|Group[1093]|Clement\n",
      "avec méfiance pour |forward|trigger|uncertain|30|Group[1093]|Clement\n",
      "suspect pour |forward|trigger|uncertain|30|Group[1093]|Clement\n",
      "précautionneux pour |forward|trigger|uncertain|30|Group[1093]|Clement\n",
      "sceptique pour |forward|trigger|uncertain|30|Group[1093]|Clement\n"
     ]
    }
   ],
   "source": [
    "from nltk.parse.generate import generate, demo_grammar\n",
    "from nltk import CFG\n",
    "\n",
    "cfg_grammar= \"\"\"\n",
    "S ->  Var1 Var2 Trigger_Rule\n",
    "Var1 -> \"méfiant\" | \"soupçonneux\" | \"timoré\" | \"prudent\" | \"suspicieux\" | \"dubitatif\" | \"douteux\" | \"avec méfiance\" | \"suspect\" | \"précautionneux\" | \"sceptique\"\n",
    "Var2 -> \"pour\"\n",
    "Trigger_Rule -> \"|forward|trigger|uncertain|30|Group[1093]|Clement\"\n",
    "\"\"\"\n",
    "\n",
    "for sentence in generate(CFG.fromstring(cfg_grammar), n=1000):\n",
    "    print(' '.join(sentence))"
   ]
  },
  {
   "cell_type": "code",
   "execution_count": 16,
   "metadata": {},
   "outputs": [
    {
     "name": "stdout",
     "output_type": "stream",
     "text": [
      "évaluer tout |forward|trigger|uncertain|30|Group[1100]|Clement\n",
      "évaluer tous |forward|trigger|uncertain|30|Group[1100]|Clement\n",
      "évaluer toute |forward|trigger|uncertain|30|Group[1100]|Clement\n",
      "évaluer toutes |forward|trigger|uncertain|30|Group[1100]|Clement\n",
      "apprécier tout |forward|trigger|uncertain|30|Group[1100]|Clement\n",
      "apprécier tous |forward|trigger|uncertain|30|Group[1100]|Clement\n",
      "apprécier toute |forward|trigger|uncertain|30|Group[1100]|Clement\n",
      "apprécier toutes |forward|trigger|uncertain|30|Group[1100]|Clement\n",
      "mesurer tout |forward|trigger|uncertain|30|Group[1100]|Clement\n",
      "mesurer tous |forward|trigger|uncertain|30|Group[1100]|Clement\n",
      "mesurer toute |forward|trigger|uncertain|30|Group[1100]|Clement\n",
      "mesurer toutes |forward|trigger|uncertain|30|Group[1100]|Clement\n",
      "déterminer tout |forward|trigger|uncertain|30|Group[1100]|Clement\n",
      "déterminer tous |forward|trigger|uncertain|30|Group[1100]|Clement\n",
      "déterminer toute |forward|trigger|uncertain|30|Group[1100]|Clement\n",
      "déterminer toutes |forward|trigger|uncertain|30|Group[1100]|Clement\n",
      "jauger tout |forward|trigger|uncertain|30|Group[1100]|Clement\n",
      "jauger tous |forward|trigger|uncertain|30|Group[1100]|Clement\n",
      "jauger toute |forward|trigger|uncertain|30|Group[1100]|Clement\n",
      "jauger toutes |forward|trigger|uncertain|30|Group[1100]|Clement\n"
     ]
    }
   ],
   "source": [
    "from nltk.parse.generate import generate, demo_grammar\n",
    "from nltk import CFG\n",
    "\n",
    "cfg_grammar= \"\"\"\n",
    "S ->  Var1 Deter Trigger_Rule\n",
    "Var1 -> \"évaluer\" | \"apprécier\" | \"mesurer\" | \"déterminer\" | \"jauger\"\n",
    "Deter -> \"tout\" | \"tous\" | \"toute\" | \"toutes\"\n",
    "Trigger_Rule -> \"|forward|trigger|uncertain|30|Group[1100]|Clement\"\n",
    "\"\"\"\n",
    "\n",
    "for sentence in generate(CFG.fromstring(cfg_grammar), n=1000):\n",
    "    print(' '.join(sentence))"
   ]
  },
  {
   "cell_type": "code",
   "execution_count": 17,
   "metadata": {},
   "outputs": [
    {
     "name": "stdout",
     "output_type": "stream",
     "text": [
      "exclure |forward|trigger|negated|10|Group[1101]|Clement\n",
      "rejeter |forward|trigger|negated|10|Group[1101]|Clement\n",
      "proscrire |forward|trigger|negated|10|Group[1101]|Clement\n",
      "supprimer |forward|trigger|negated|10|Group[1101]|Clement\n",
      "radier |forward|trigger|negated|10|Group[1101]|Clement\n"
     ]
    }
   ],
   "source": [
    "from nltk.parse.generate import generate, demo_grammar\n",
    "from nltk import CFG\n",
    "\n",
    "cfg_grammar= \"\"\"\n",
    "S ->  Var1 Trigger_Rule\n",
    "Var1 -> \"exclure\" | \"rejeter\" | \"proscrire\" | \"supprimer\" | \"radier\"\n",
    "Trigger_Rule -> \"|forward|trigger|negated|10|Group[1101]|Clement\"\n",
    "\"\"\"\n",
    "\n",
    "for sentence in generate(CFG.fromstring(cfg_grammar), n=1000):\n",
    "    print(' '.join(sentence))"
   ]
  },
  {
   "cell_type": "code",
   "execution_count": 18,
   "metadata": {},
   "outputs": [
    {
     "name": "stdout",
     "output_type": "stream",
     "text": [
      "pour prévenir |forward|trigger|conditional|30|Group[1103]|Clement\n",
      "pour anticiper |forward|trigger|conditional|30|Group[1103]|Clement\n",
      "pour empêcher |forward|trigger|conditional|30|Group[1103]|Clement\n",
      "pour éviter |forward|trigger|conditional|30|Group[1103]|Clement\n",
      "pour se prémunir contre |forward|trigger|conditional|30|Group[1103]|Clement\n"
     ]
    }
   ],
   "source": [
    "from nltk.parse.generate import generate, demo_grammar\n",
    "from nltk import CFG\n",
    "\n",
    "cfg_grammar= \"\"\"\n",
    "S ->  Var1 Var2 Trigger_Rule\n",
    "Var1 -> \"pour\"\n",
    "Var2 -> \"prévenir\" | \"anticiper\" | \"empêcher\" | \"éviter\" | \"se prémunir contre\"\n",
    "Trigger_Rule -> \"|forward|trigger|conditional|30|Group[1103]|Clement\"\n",
    "\"\"\"\n",
    "\n",
    "for sentence in generate(CFG.fromstring(cfg_grammar), n=1000):\n",
    "    print(' '.join(sentence))"
   ]
  },
  {
   "cell_type": "code",
   "execution_count": 19,
   "metadata": {},
   "outputs": [
    {
     "name": "stdout",
     "output_type": "stream",
     "text": [
      "maintenant |both|termination|historical|30|Group[1104, 1105]|Clement\n",
      "maintenant |both|termination|nonpatient|30|Group[1104, 1105]|Clement\n",
      "actuellement |both|termination|historical|30|Group[1104, 1105]|Clement\n",
      "actuellement |both|termination|nonpatient|30|Group[1104, 1105]|Clement\n",
      "aujourd'hui |both|termination|historical|30|Group[1104, 1105]|Clement\n",
      "aujourd'hui |both|termination|nonpatient|30|Group[1104, 1105]|Clement\n",
      "à présent |both|termination|historical|30|Group[1104, 1105]|Clement\n",
      "à présent |both|termination|nonpatient|30|Group[1104, 1105]|Clement\n",
      "dèsdésormais |both|termination|historical|30|Group[1104, 1105]|Clement\n",
      "dèsdésormais |both|termination|nonpatient|30|Group[1104, 1105]|Clement\n",
      "présentement |both|termination|historical|30|Group[1104, 1105]|Clement\n",
      "présentement |both|termination|nonpatient|30|Group[1104, 1105]|Clement\n"
     ]
    }
   ],
   "source": [
    "from nltk.parse.generate import generate, demo_grammar\n",
    "from nltk import CFG\n",
    "\n",
    "cfg_grammar= \"\"\"\n",
    "S ->  Var1 Trigger_Rule\n",
    "Var1 -> \"maintenant\" | \"actuellement\" | \"aujourd'hui\" | \"à présent\" | \"dèsdésormais\" | \"présentement\"\n",
    "Trigger_Rule -> \"|both|termination|historical|30|Group[1104, 1105]|Clement\"|\"|both|termination|nonpatient|30|Group[1104, 1105]|Clement\"\n",
    "\"\"\"\n",
    "\n",
    "for sentence in generate(CFG.fromstring(cfg_grammar), n=1000):\n",
    "    print(' '.join(sentence))"
   ]
  },
  {
   "cell_type": "code",
   "execution_count": 20,
   "metadata": {},
   "outputs": [
    {
     "name": "stdout",
     "output_type": "stream",
     "text": [
      "traitement d' |both|pseudo|uncertain|30|Group[1106]|Clement\n",
      "traitement de |both|pseudo|uncertain|30|Group[1106]|Clement\n",
      "traitement d'un |both|pseudo|uncertain|30|Group[1106]|Clement\n",
      "traitement d'une |both|pseudo|uncertain|30|Group[1106]|Clement\n",
      "traitement pour |both|pseudo|uncertain|30|Group[1106]|Clement\n",
      "soins d' |both|pseudo|uncertain|30|Group[1106]|Clement\n",
      "soins de |both|pseudo|uncertain|30|Group[1106]|Clement\n",
      "soins d'un |both|pseudo|uncertain|30|Group[1106]|Clement\n",
      "soins d'une |both|pseudo|uncertain|30|Group[1106]|Clement\n",
      "soins pour |both|pseudo|uncertain|30|Group[1106]|Clement\n",
      "cure d' |both|pseudo|uncertain|30|Group[1106]|Clement\n",
      "cure de |both|pseudo|uncertain|30|Group[1106]|Clement\n",
      "cure d'un |both|pseudo|uncertain|30|Group[1106]|Clement\n",
      "cure d'une |both|pseudo|uncertain|30|Group[1106]|Clement\n",
      "cure pour |both|pseudo|uncertain|30|Group[1106]|Clement\n",
      "intervention d' |both|pseudo|uncertain|30|Group[1106]|Clement\n",
      "intervention de |both|pseudo|uncertain|30|Group[1106]|Clement\n",
      "intervention d'un |both|pseudo|uncertain|30|Group[1106]|Clement\n",
      "intervention d'une |both|pseudo|uncertain|30|Group[1106]|Clement\n",
      "intervention pour |both|pseudo|uncertain|30|Group[1106]|Clement\n",
      "soin d' |both|pseudo|uncertain|30|Group[1106]|Clement\n",
      "soin de |both|pseudo|uncertain|30|Group[1106]|Clement\n",
      "soin d'un |both|pseudo|uncertain|30|Group[1106]|Clement\n",
      "soin d'une |both|pseudo|uncertain|30|Group[1106]|Clement\n",
      "soin pour |both|pseudo|uncertain|30|Group[1106]|Clement\n"
     ]
    }
   ],
   "source": [
    "from nltk.parse.generate import generate, demo_grammar\n",
    "from nltk import CFG\n",
    "\n",
    "cfg_grammar= \"\"\"\n",
    "S ->  Var1 Var2 Trigger_Rule\n",
    "Var1 -> \"traitement\" | \"soins\" | \"cure\" | \"intervention\" | \"soin\"\n",
    "Var2 -> \"d'\" | \"de\" | \"d'un\" | \"d'une\" | \"pour\"\n",
    "Trigger_Rule -> \"|both|pseudo|uncertain|30|Group[1106]|Clement\"\n",
    "\"\"\"\n",
    "\n",
    "for sentence in generate(CFG.fromstring(cfg_grammar), n=1000):\n",
    "    print(' '.join(sentence))"
   ]
  },
  {
   "cell_type": "code",
   "execution_count": 21,
   "metadata": {},
   "outputs": [
    {
     "name": "stdout",
     "output_type": "stream",
     "text": [
      "événement déclencheur d' |forward|termination|negated|10|Group[1107]|Clement\n",
      "événement déclencheur de |forward|termination|negated|10|Group[1107]|Clement\n",
      "événement déclencheur d'un |forward|termination|negated|10|Group[1107]|Clement\n",
      "événement déclencheur d'une |forward|termination|negated|10|Group[1107]|Clement\n",
      "événement déclencheur pour |forward|termination|negated|10|Group[1107]|Clement\n",
      "épisode déclencheur d' |forward|termination|negated|10|Group[1107]|Clement\n",
      "épisode déclencheur de |forward|termination|negated|10|Group[1107]|Clement\n",
      "épisode déclencheur d'un |forward|termination|negated|10|Group[1107]|Clement\n",
      "épisode déclencheur d'une |forward|termination|negated|10|Group[1107]|Clement\n",
      "épisode déclencheur pour |forward|termination|negated|10|Group[1107]|Clement\n",
      "incident déclencheur d' |forward|termination|negated|10|Group[1107]|Clement\n",
      "incident déclencheur de |forward|termination|negated|10|Group[1107]|Clement\n",
      "incident déclencheur d'un |forward|termination|negated|10|Group[1107]|Clement\n",
      "incident déclencheur d'une |forward|termination|negated|10|Group[1107]|Clement\n",
      "incident déclencheur pour |forward|termination|negated|10|Group[1107]|Clement\n",
      "fait déclencheur d' |forward|termination|negated|10|Group[1107]|Clement\n",
      "fait déclencheur de |forward|termination|negated|10|Group[1107]|Clement\n",
      "fait déclencheur d'un |forward|termination|negated|10|Group[1107]|Clement\n",
      "fait déclencheur d'une |forward|termination|negated|10|Group[1107]|Clement\n",
      "fait déclencheur pour |forward|termination|negated|10|Group[1107]|Clement\n"
     ]
    }
   ],
   "source": [
    "from nltk.parse.generate import generate, demo_grammar\n",
    "from nltk import CFG\n",
    "\n",
    "cfg_grammar= \"\"\"\n",
    "S ->  Var1 Var2 Var3 Trigger_Rule\n",
    "Var1 -> \"événement\" | \"épisode\" | \"incident\" | \"fait\"\n",
    "Var2 -> \"déclencheur\"\n",
    "Var3 -> \"d'\" | \"de\" | \"d'un\" | \"d'une\" | \"pour\"\n",
    "Trigger_Rule -> \"|forward|termination|negated|10|Group[1107]|Clement\"\n",
    "\"\"\"\n",
    "\n",
    "for sentence in generate(CFG.fromstring(cfg_grammar), n=1000):\n",
    "    print(' '.join(sentence))"
   ]
  },
  {
   "cell_type": "code",
   "execution_count": 22,
   "metadata": {},
   "outputs": [
    {
     "name": "stdout",
     "output_type": "stream",
     "text": [
      "dose incertaine |both|pseudo|uncertain|30|Group[1109]|Clement\n",
      "mesure incertaine |both|pseudo|uncertain|30|Group[1109]|Clement\n",
      "quantité incertaine |both|pseudo|uncertain|30|Group[1109]|Clement\n",
      "proportion incertaine |both|pseudo|uncertain|30|Group[1109]|Clement\n",
      "dôse incertaine |both|pseudo|uncertain|30|Group[1109]|Clement\n"
     ]
    }
   ],
   "source": [
    "from nltk.parse.generate import generate, demo_grammar\n",
    "from nltk import CFG\n",
    "\n",
    "cfg_grammar= \"\"\"\n",
    "S ->  Var1 Var2 Trigger_Rule\n",
    "Var1 -> \"dose\" | \"mesure\" | \"quantité\" | \"proportion\" | \"dôse\"\n",
    "Var2 -> \"incertaine\"\n",
    "Trigger_Rule -> \"|both|pseudo|uncertain|30|Group[1109]|Clement\"\n",
    "\"\"\"\n",
    "\n",
    "for sentence in generate(CFG.fromstring(cfg_grammar), n=1000):\n",
    "    print(' '.join(sentence))"
   ]
  },
  {
   "cell_type": "code",
   "execution_count": 23,
   "metadata": {},
   "outputs": [
    {
     "name": "stdout",
     "output_type": "stream",
     "text": [
      "pas clair |forward|trigger|uncertain|30|Group[1110]|Clement\n",
      "pas sûr |forward|trigger|uncertain|30|Group[1110]|Clement\n",
      "pas certain |forward|trigger|uncertain|30|Group[1110]|Clement\n",
      "pas garanti |forward|trigger|uncertain|30|Group[1110]|Clement\n"
     ]
    }
   ],
   "source": [
    "from nltk.parse.generate import generate, demo_grammar\n",
    "from nltk import CFG\n",
    "\n",
    "cfg_grammar= \"\"\"\n",
    "S ->  Var1 Var2 Trigger_Rule\n",
    "Var1 -> \"pas\"\n",
    "Var2 -> \"clair\" | \"sûr\" | \"certain\" | \"garanti\"\n",
    "Trigger_Rule -> \"|forward|trigger|uncertain|30|Group[1110]|Clement\"\n",
    "\"\"\"\n",
    "\n",
    "for sentence in generate(CFG.fromstring(cfg_grammar), n=1000):\n",
    "    print(' '.join(sentence))"
   ]
  },
  {
   "cell_type": "code",
   "execution_count": 24,
   "metadata": {},
   "outputs": [
    {
     "name": "stdout",
     "output_type": "stream",
     "text": [
      "peu probable |backward|trigger|negated|10|Group[1112]|Clement\n",
      "peu plausible |backward|trigger|negated|10|Group[1112]|Clement\n"
     ]
    }
   ],
   "source": [
    "from nltk.parse.generate import generate, demo_grammar\n",
    "from nltk import CFG\n",
    "\n",
    "cfg_grammar= \"\"\"\n",
    "S ->  Var1 Var2 Trigger_Rule\n",
    "Var1 -> \"peu\"\n",
    "Var2 -> \"probable\" | \"plausible\"\n",
    "Trigger_Rule -> \"|backward|trigger|negated|10|Group[1112]|Clement\"\n",
    "\"\"\"\n",
    "\n",
    "for sentence in generate(CFG.fromstring(cfg_grammar), n=1000):\n",
    "    print(' '.join(sentence))"
   ]
  },
  {
   "cell_type": "code",
   "execution_count": 25,
   "metadata": {},
   "outputs": [
    {
     "name": "stdout",
     "output_type": "stream",
     "text": [
      "sans noter |forward|trigger|negated|10|Group[1117]|Clement\n",
      "sans constater |forward|trigger|negated|10|Group[1117]|Clement\n",
      "sans relever |forward|trigger|negated|10|Group[1117]|Clement\n",
      "sans remarquer |forward|trigger|negated|10|Group[1117]|Clement\n",
      "sans observer |forward|trigger|negated|10|Group[1117]|Clement\n"
     ]
    }
   ],
   "source": [
    "from nltk.parse.generate import generate, demo_grammar\n",
    "from nltk import CFG\n",
    "\n",
    "cfg_grammar= \"\"\"\n",
    "S ->  Var1 Var2 Trigger_Rule\n",
    "Var1 -> \"sans\"\n",
    "Var2 -> \"noter\" | \"constater\" | \"relever\" | \"remarquer\" | \"observer\"\n",
    "Trigger_Rule -> \"|forward|trigger|negated|10|Group[1117]|Clement\"\n",
    "\"\"\"\n",
    "\n",
    "for sentence in generate(CFG.fromstring(cfg_grammar), n=1000):\n",
    "    print(' '.join(sentence))"
   ]
  },
  {
   "cell_type": "code",
   "execution_count": 26,
   "metadata": {},
   "outputs": [
    {
     "name": "stdout",
     "output_type": "stream",
     "text": [
      "aucun indication d' |forward|trigger|negated|10|Group[1117]|Clement\n",
      "aucun indication de |forward|trigger|negated|10|Group[1117]|Clement\n",
      "aucun indication d'un |forward|trigger|negated|10|Group[1117]|Clement\n",
      "aucun indication d'une |forward|trigger|negated|10|Group[1117]|Clement\n",
      "aucun avertissement d' |forward|trigger|negated|10|Group[1117]|Clement\n",
      "aucun avertissement de |forward|trigger|negated|10|Group[1117]|Clement\n",
      "aucun avertissement d'un |forward|trigger|negated|10|Group[1117]|Clement\n",
      "aucun avertissement d'une |forward|trigger|negated|10|Group[1117]|Clement\n",
      "aucun prescription d' |forward|trigger|negated|10|Group[1117]|Clement\n",
      "aucun prescription de |forward|trigger|negated|10|Group[1117]|Clement\n",
      "aucun prescription d'un |forward|trigger|negated|10|Group[1117]|Clement\n",
      "aucun prescription d'une |forward|trigger|negated|10|Group[1117]|Clement\n",
      "aucun directive d' |forward|trigger|negated|10|Group[1117]|Clement\n",
      "aucun directive de |forward|trigger|negated|10|Group[1117]|Clement\n",
      "aucun directive d'un |forward|trigger|negated|10|Group[1117]|Clement\n",
      "aucun directive d'une |forward|trigger|negated|10|Group[1117]|Clement\n",
      "aucun annotation d' |forward|trigger|negated|10|Group[1117]|Clement\n",
      "aucun annotation de |forward|trigger|negated|10|Group[1117]|Clement\n",
      "aucun annotation d'un |forward|trigger|negated|10|Group[1117]|Clement\n",
      "aucun annotation d'une |forward|trigger|negated|10|Group[1117]|Clement\n",
      "aucun explication d' |forward|trigger|negated|10|Group[1117]|Clement\n",
      "aucun explication de |forward|trigger|negated|10|Group[1117]|Clement\n",
      "aucun explication d'un |forward|trigger|negated|10|Group[1117]|Clement\n",
      "aucun explication d'une |forward|trigger|negated|10|Group[1117]|Clement\n",
      "aucun renvoi d' |forward|trigger|negated|10|Group[1117]|Clement\n",
      "aucun renvoi de |forward|trigger|negated|10|Group[1117]|Clement\n",
      "aucun renvoi d'un |forward|trigger|negated|10|Group[1117]|Clement\n",
      "aucun renvoi d'une |forward|trigger|negated|10|Group[1117]|Clement\n",
      "aucun information d' |forward|trigger|negated|10|Group[1117]|Clement\n",
      "aucun information de |forward|trigger|negated|10|Group[1117]|Clement\n",
      "aucun information d'un |forward|trigger|negated|10|Group[1117]|Clement\n",
      "aucun information d'une |forward|trigger|negated|10|Group[1117]|Clement\n",
      "aucun note d' |forward|trigger|negated|10|Group[1117]|Clement\n",
      "aucun note de |forward|trigger|negated|10|Group[1117]|Clement\n",
      "aucun note d'un |forward|trigger|negated|10|Group[1117]|Clement\n",
      "aucun note d'une |forward|trigger|negated|10|Group[1117]|Clement\n",
      "aucun recommandation d' |forward|trigger|negated|10|Group[1117]|Clement\n",
      "aucun recommandation de |forward|trigger|negated|10|Group[1117]|Clement\n",
      "aucun recommandation d'un |forward|trigger|negated|10|Group[1117]|Clement\n",
      "aucun recommandation d'une |forward|trigger|negated|10|Group[1117]|Clement\n",
      "aucun critère d' |forward|trigger|negated|10|Group[1117]|Clement\n",
      "aucun critère de |forward|trigger|negated|10|Group[1117]|Clement\n",
      "aucun critère d'un |forward|trigger|negated|10|Group[1117]|Clement\n",
      "aucun critère d'une |forward|trigger|negated|10|Group[1117]|Clement\n",
      "aucun notation d' |forward|trigger|negated|10|Group[1117]|Clement\n",
      "aucun notation de |forward|trigger|negated|10|Group[1117]|Clement\n",
      "aucun notation d'un |forward|trigger|negated|10|Group[1117]|Clement\n",
      "aucun notation d'une |forward|trigger|negated|10|Group[1117]|Clement\n",
      "aucun suggestion d' |forward|trigger|negated|10|Group[1117]|Clement\n",
      "aucun suggestion de |forward|trigger|negated|10|Group[1117]|Clement\n",
      "aucun suggestion d'un |forward|trigger|negated|10|Group[1117]|Clement\n",
      "aucun suggestion d'une |forward|trigger|negated|10|Group[1117]|Clement\n",
      "aucun mention d' |forward|trigger|negated|10|Group[1117]|Clement\n",
      "aucun mention de |forward|trigger|negated|10|Group[1117]|Clement\n",
      "aucun mention d'un |forward|trigger|negated|10|Group[1117]|Clement\n",
      "aucun mention d'une |forward|trigger|negated|10|Group[1117]|Clement\n",
      "aucun symptôme d' |forward|trigger|negated|10|Group[1117]|Clement\n",
      "aucun symptôme de |forward|trigger|negated|10|Group[1117]|Clement\n",
      "aucun symptôme d'un |forward|trigger|negated|10|Group[1117]|Clement\n",
      "aucun symptôme d'une |forward|trigger|negated|10|Group[1117]|Clement\n",
      "aucune indication d' |forward|trigger|negated|10|Group[1117]|Clement\n",
      "aucune indication de |forward|trigger|negated|10|Group[1117]|Clement\n",
      "aucune indication d'un |forward|trigger|negated|10|Group[1117]|Clement\n",
      "aucune indication d'une |forward|trigger|negated|10|Group[1117]|Clement\n",
      "aucune avertissement d' |forward|trigger|negated|10|Group[1117]|Clement\n",
      "aucune avertissement de |forward|trigger|negated|10|Group[1117]|Clement\n",
      "aucune avertissement d'un |forward|trigger|negated|10|Group[1117]|Clement\n",
      "aucune avertissement d'une |forward|trigger|negated|10|Group[1117]|Clement\n",
      "aucune prescription d' |forward|trigger|negated|10|Group[1117]|Clement\n",
      "aucune prescription de |forward|trigger|negated|10|Group[1117]|Clement\n",
      "aucune prescription d'un |forward|trigger|negated|10|Group[1117]|Clement\n",
      "aucune prescription d'une |forward|trigger|negated|10|Group[1117]|Clement\n",
      "aucune directive d' |forward|trigger|negated|10|Group[1117]|Clement\n",
      "aucune directive de |forward|trigger|negated|10|Group[1117]|Clement\n",
      "aucune directive d'un |forward|trigger|negated|10|Group[1117]|Clement\n",
      "aucune directive d'une |forward|trigger|negated|10|Group[1117]|Clement\n",
      "aucune annotation d' |forward|trigger|negated|10|Group[1117]|Clement\n",
      "aucune annotation de |forward|trigger|negated|10|Group[1117]|Clement\n",
      "aucune annotation d'un |forward|trigger|negated|10|Group[1117]|Clement\n",
      "aucune annotation d'une |forward|trigger|negated|10|Group[1117]|Clement\n",
      "aucune explication d' |forward|trigger|negated|10|Group[1117]|Clement\n",
      "aucune explication de |forward|trigger|negated|10|Group[1117]|Clement\n",
      "aucune explication d'un |forward|trigger|negated|10|Group[1117]|Clement\n",
      "aucune explication d'une |forward|trigger|negated|10|Group[1117]|Clement\n",
      "aucune renvoi d' |forward|trigger|negated|10|Group[1117]|Clement\n",
      "aucune renvoi de |forward|trigger|negated|10|Group[1117]|Clement\n",
      "aucune renvoi d'un |forward|trigger|negated|10|Group[1117]|Clement\n",
      "aucune renvoi d'une |forward|trigger|negated|10|Group[1117]|Clement\n",
      "aucune information d' |forward|trigger|negated|10|Group[1117]|Clement\n",
      "aucune information de |forward|trigger|negated|10|Group[1117]|Clement\n",
      "aucune information d'un |forward|trigger|negated|10|Group[1117]|Clement\n",
      "aucune information d'une |forward|trigger|negated|10|Group[1117]|Clement\n",
      "aucune note d' |forward|trigger|negated|10|Group[1117]|Clement\n",
      "aucune note de |forward|trigger|negated|10|Group[1117]|Clement\n",
      "aucune note d'un |forward|trigger|negated|10|Group[1117]|Clement\n",
      "aucune note d'une |forward|trigger|negated|10|Group[1117]|Clement\n",
      "aucune recommandation d' |forward|trigger|negated|10|Group[1117]|Clement\n",
      "aucune recommandation de |forward|trigger|negated|10|Group[1117]|Clement\n",
      "aucune recommandation d'un |forward|trigger|negated|10|Group[1117]|Clement\n",
      "aucune recommandation d'une |forward|trigger|negated|10|Group[1117]|Clement\n",
      "aucune critère d' |forward|trigger|negated|10|Group[1117]|Clement\n",
      "aucune critère de |forward|trigger|negated|10|Group[1117]|Clement\n",
      "aucune critère d'un |forward|trigger|negated|10|Group[1117]|Clement\n",
      "aucune critère d'une |forward|trigger|negated|10|Group[1117]|Clement\n",
      "aucune notation d' |forward|trigger|negated|10|Group[1117]|Clement\n",
      "aucune notation de |forward|trigger|negated|10|Group[1117]|Clement\n",
      "aucune notation d'un |forward|trigger|negated|10|Group[1117]|Clement\n",
      "aucune notation d'une |forward|trigger|negated|10|Group[1117]|Clement\n",
      "aucune suggestion d' |forward|trigger|negated|10|Group[1117]|Clement\n",
      "aucune suggestion de |forward|trigger|negated|10|Group[1117]|Clement\n",
      "aucune suggestion d'un |forward|trigger|negated|10|Group[1117]|Clement\n",
      "aucune suggestion d'une |forward|trigger|negated|10|Group[1117]|Clement\n",
      "aucune mention d' |forward|trigger|negated|10|Group[1117]|Clement\n",
      "aucune mention de |forward|trigger|negated|10|Group[1117]|Clement\n",
      "aucune mention d'un |forward|trigger|negated|10|Group[1117]|Clement\n",
      "aucune mention d'une |forward|trigger|negated|10|Group[1117]|Clement\n",
      "aucune symptôme d' |forward|trigger|negated|10|Group[1117]|Clement\n",
      "aucune symptôme de |forward|trigger|negated|10|Group[1117]|Clement\n",
      "aucune symptôme d'un |forward|trigger|negated|10|Group[1117]|Clement\n",
      "aucune symptôme d'une |forward|trigger|negated|10|Group[1117]|Clement\n",
      "nul indication d' |forward|trigger|negated|10|Group[1117]|Clement\n",
      "nul indication de |forward|trigger|negated|10|Group[1117]|Clement\n",
      "nul indication d'un |forward|trigger|negated|10|Group[1117]|Clement\n",
      "nul indication d'une |forward|trigger|negated|10|Group[1117]|Clement\n",
      "nul avertissement d' |forward|trigger|negated|10|Group[1117]|Clement\n",
      "nul avertissement de |forward|trigger|negated|10|Group[1117]|Clement\n",
      "nul avertissement d'un |forward|trigger|negated|10|Group[1117]|Clement\n",
      "nul avertissement d'une |forward|trigger|negated|10|Group[1117]|Clement\n",
      "nul prescription d' |forward|trigger|negated|10|Group[1117]|Clement\n",
      "nul prescription de |forward|trigger|negated|10|Group[1117]|Clement\n",
      "nul prescription d'un |forward|trigger|negated|10|Group[1117]|Clement\n",
      "nul prescription d'une |forward|trigger|negated|10|Group[1117]|Clement\n",
      "nul directive d' |forward|trigger|negated|10|Group[1117]|Clement\n",
      "nul directive de |forward|trigger|negated|10|Group[1117]|Clement\n",
      "nul directive d'un |forward|trigger|negated|10|Group[1117]|Clement\n",
      "nul directive d'une |forward|trigger|negated|10|Group[1117]|Clement\n",
      "nul annotation d' |forward|trigger|negated|10|Group[1117]|Clement\n",
      "nul annotation de |forward|trigger|negated|10|Group[1117]|Clement\n",
      "nul annotation d'un |forward|trigger|negated|10|Group[1117]|Clement\n",
      "nul annotation d'une |forward|trigger|negated|10|Group[1117]|Clement\n",
      "nul explication d' |forward|trigger|negated|10|Group[1117]|Clement\n",
      "nul explication de |forward|trigger|negated|10|Group[1117]|Clement\n",
      "nul explication d'un |forward|trigger|negated|10|Group[1117]|Clement\n",
      "nul explication d'une |forward|trigger|negated|10|Group[1117]|Clement\n",
      "nul renvoi d' |forward|trigger|negated|10|Group[1117]|Clement\n",
      "nul renvoi de |forward|trigger|negated|10|Group[1117]|Clement\n",
      "nul renvoi d'un |forward|trigger|negated|10|Group[1117]|Clement\n",
      "nul renvoi d'une |forward|trigger|negated|10|Group[1117]|Clement\n",
      "nul information d' |forward|trigger|negated|10|Group[1117]|Clement\n",
      "nul information de |forward|trigger|negated|10|Group[1117]|Clement\n",
      "nul information d'un |forward|trigger|negated|10|Group[1117]|Clement\n",
      "nul information d'une |forward|trigger|negated|10|Group[1117]|Clement\n",
      "nul note d' |forward|trigger|negated|10|Group[1117]|Clement\n",
      "nul note de |forward|trigger|negated|10|Group[1117]|Clement\n",
      "nul note d'un |forward|trigger|negated|10|Group[1117]|Clement\n",
      "nul note d'une |forward|trigger|negated|10|Group[1117]|Clement\n"
     ]
    },
    {
     "name": "stdout",
     "output_type": "stream",
     "text": [
      "nul recommandation d' |forward|trigger|negated|10|Group[1117]|Clement\n",
      "nul recommandation de |forward|trigger|negated|10|Group[1117]|Clement\n",
      "nul recommandation d'un |forward|trigger|negated|10|Group[1117]|Clement\n",
      "nul recommandation d'une |forward|trigger|negated|10|Group[1117]|Clement\n",
      "nul critère d' |forward|trigger|negated|10|Group[1117]|Clement\n",
      "nul critère de |forward|trigger|negated|10|Group[1117]|Clement\n",
      "nul critère d'un |forward|trigger|negated|10|Group[1117]|Clement\n",
      "nul critère d'une |forward|trigger|negated|10|Group[1117]|Clement\n",
      "nul notation d' |forward|trigger|negated|10|Group[1117]|Clement\n",
      "nul notation de |forward|trigger|negated|10|Group[1117]|Clement\n",
      "nul notation d'un |forward|trigger|negated|10|Group[1117]|Clement\n",
      "nul notation d'une |forward|trigger|negated|10|Group[1117]|Clement\n",
      "nul suggestion d' |forward|trigger|negated|10|Group[1117]|Clement\n",
      "nul suggestion de |forward|trigger|negated|10|Group[1117]|Clement\n",
      "nul suggestion d'un |forward|trigger|negated|10|Group[1117]|Clement\n",
      "nul suggestion d'une |forward|trigger|negated|10|Group[1117]|Clement\n",
      "nul mention d' |forward|trigger|negated|10|Group[1117]|Clement\n",
      "nul mention de |forward|trigger|negated|10|Group[1117]|Clement\n",
      "nul mention d'un |forward|trigger|negated|10|Group[1117]|Clement\n",
      "nul mention d'une |forward|trigger|negated|10|Group[1117]|Clement\n",
      "nul symptôme d' |forward|trigger|negated|10|Group[1117]|Clement\n",
      "nul symptôme de |forward|trigger|negated|10|Group[1117]|Clement\n",
      "nul symptôme d'un |forward|trigger|negated|10|Group[1117]|Clement\n",
      "nul symptôme d'une |forward|trigger|negated|10|Group[1117]|Clement\n",
      "nulle indication d' |forward|trigger|negated|10|Group[1117]|Clement\n",
      "nulle indication de |forward|trigger|negated|10|Group[1117]|Clement\n",
      "nulle indication d'un |forward|trigger|negated|10|Group[1117]|Clement\n",
      "nulle indication d'une |forward|trigger|negated|10|Group[1117]|Clement\n",
      "nulle avertissement d' |forward|trigger|negated|10|Group[1117]|Clement\n",
      "nulle avertissement de |forward|trigger|negated|10|Group[1117]|Clement\n",
      "nulle avertissement d'un |forward|trigger|negated|10|Group[1117]|Clement\n",
      "nulle avertissement d'une |forward|trigger|negated|10|Group[1117]|Clement\n",
      "nulle prescription d' |forward|trigger|negated|10|Group[1117]|Clement\n",
      "nulle prescription de |forward|trigger|negated|10|Group[1117]|Clement\n",
      "nulle prescription d'un |forward|trigger|negated|10|Group[1117]|Clement\n",
      "nulle prescription d'une |forward|trigger|negated|10|Group[1117]|Clement\n",
      "nulle directive d' |forward|trigger|negated|10|Group[1117]|Clement\n",
      "nulle directive de |forward|trigger|negated|10|Group[1117]|Clement\n",
      "nulle directive d'un |forward|trigger|negated|10|Group[1117]|Clement\n",
      "nulle directive d'une |forward|trigger|negated|10|Group[1117]|Clement\n",
      "nulle annotation d' |forward|trigger|negated|10|Group[1117]|Clement\n",
      "nulle annotation de |forward|trigger|negated|10|Group[1117]|Clement\n",
      "nulle annotation d'un |forward|trigger|negated|10|Group[1117]|Clement\n",
      "nulle annotation d'une |forward|trigger|negated|10|Group[1117]|Clement\n",
      "nulle explication d' |forward|trigger|negated|10|Group[1117]|Clement\n",
      "nulle explication de |forward|trigger|negated|10|Group[1117]|Clement\n",
      "nulle explication d'un |forward|trigger|negated|10|Group[1117]|Clement\n",
      "nulle explication d'une |forward|trigger|negated|10|Group[1117]|Clement\n",
      "nulle renvoi d' |forward|trigger|negated|10|Group[1117]|Clement\n",
      "nulle renvoi de |forward|trigger|negated|10|Group[1117]|Clement\n",
      "nulle renvoi d'un |forward|trigger|negated|10|Group[1117]|Clement\n",
      "nulle renvoi d'une |forward|trigger|negated|10|Group[1117]|Clement\n",
      "nulle information d' |forward|trigger|negated|10|Group[1117]|Clement\n",
      "nulle information de |forward|trigger|negated|10|Group[1117]|Clement\n",
      "nulle information d'un |forward|trigger|negated|10|Group[1117]|Clement\n",
      "nulle information d'une |forward|trigger|negated|10|Group[1117]|Clement\n",
      "nulle note d' |forward|trigger|negated|10|Group[1117]|Clement\n",
      "nulle note de |forward|trigger|negated|10|Group[1117]|Clement\n",
      "nulle note d'un |forward|trigger|negated|10|Group[1117]|Clement\n",
      "nulle note d'une |forward|trigger|negated|10|Group[1117]|Clement\n",
      "nulle recommandation d' |forward|trigger|negated|10|Group[1117]|Clement\n",
      "nulle recommandation de |forward|trigger|negated|10|Group[1117]|Clement\n",
      "nulle recommandation d'un |forward|trigger|negated|10|Group[1117]|Clement\n",
      "nulle recommandation d'une |forward|trigger|negated|10|Group[1117]|Clement\n",
      "nulle critère d' |forward|trigger|negated|10|Group[1117]|Clement\n",
      "nulle critère de |forward|trigger|negated|10|Group[1117]|Clement\n",
      "nulle critère d'un |forward|trigger|negated|10|Group[1117]|Clement\n",
      "nulle critère d'une |forward|trigger|negated|10|Group[1117]|Clement\n",
      "nulle notation d' |forward|trigger|negated|10|Group[1117]|Clement\n",
      "nulle notation de |forward|trigger|negated|10|Group[1117]|Clement\n",
      "nulle notation d'un |forward|trigger|negated|10|Group[1117]|Clement\n",
      "nulle notation d'une |forward|trigger|negated|10|Group[1117]|Clement\n",
      "nulle suggestion d' |forward|trigger|negated|10|Group[1117]|Clement\n",
      "nulle suggestion de |forward|trigger|negated|10|Group[1117]|Clement\n",
      "nulle suggestion d'un |forward|trigger|negated|10|Group[1117]|Clement\n",
      "nulle suggestion d'une |forward|trigger|negated|10|Group[1117]|Clement\n",
      "nulle mention d' |forward|trigger|negated|10|Group[1117]|Clement\n",
      "nulle mention de |forward|trigger|negated|10|Group[1117]|Clement\n",
      "nulle mention d'un |forward|trigger|negated|10|Group[1117]|Clement\n",
      "nulle mention d'une |forward|trigger|negated|10|Group[1117]|Clement\n",
      "nulle symptôme d' |forward|trigger|negated|10|Group[1117]|Clement\n",
      "nulle symptôme de |forward|trigger|negated|10|Group[1117]|Clement\n",
      "nulle symptôme d'un |forward|trigger|negated|10|Group[1117]|Clement\n",
      "nulle symptôme d'une |forward|trigger|negated|10|Group[1117]|Clement\n",
      "sans indication d' |forward|trigger|negated|10|Group[1117]|Clement\n",
      "sans indication de |forward|trigger|negated|10|Group[1117]|Clement\n",
      "sans indication d'un |forward|trigger|negated|10|Group[1117]|Clement\n",
      "sans indication d'une |forward|trigger|negated|10|Group[1117]|Clement\n",
      "sans avertissement d' |forward|trigger|negated|10|Group[1117]|Clement\n",
      "sans avertissement de |forward|trigger|negated|10|Group[1117]|Clement\n",
      "sans avertissement d'un |forward|trigger|negated|10|Group[1117]|Clement\n",
      "sans avertissement d'une |forward|trigger|negated|10|Group[1117]|Clement\n",
      "sans prescription d' |forward|trigger|negated|10|Group[1117]|Clement\n",
      "sans prescription de |forward|trigger|negated|10|Group[1117]|Clement\n",
      "sans prescription d'un |forward|trigger|negated|10|Group[1117]|Clement\n",
      "sans prescription d'une |forward|trigger|negated|10|Group[1117]|Clement\n",
      "sans directive d' |forward|trigger|negated|10|Group[1117]|Clement\n",
      "sans directive de |forward|trigger|negated|10|Group[1117]|Clement\n",
      "sans directive d'un |forward|trigger|negated|10|Group[1117]|Clement\n",
      "sans directive d'une |forward|trigger|negated|10|Group[1117]|Clement\n",
      "sans annotation d' |forward|trigger|negated|10|Group[1117]|Clement\n",
      "sans annotation de |forward|trigger|negated|10|Group[1117]|Clement\n",
      "sans annotation d'un |forward|trigger|negated|10|Group[1117]|Clement\n",
      "sans annotation d'une |forward|trigger|negated|10|Group[1117]|Clement\n",
      "sans explication d' |forward|trigger|negated|10|Group[1117]|Clement\n",
      "sans explication de |forward|trigger|negated|10|Group[1117]|Clement\n",
      "sans explication d'un |forward|trigger|negated|10|Group[1117]|Clement\n",
      "sans explication d'une |forward|trigger|negated|10|Group[1117]|Clement\n",
      "sans renvoi d' |forward|trigger|negated|10|Group[1117]|Clement\n",
      "sans renvoi de |forward|trigger|negated|10|Group[1117]|Clement\n",
      "sans renvoi d'un |forward|trigger|negated|10|Group[1117]|Clement\n",
      "sans renvoi d'une |forward|trigger|negated|10|Group[1117]|Clement\n",
      "sans information d' |forward|trigger|negated|10|Group[1117]|Clement\n",
      "sans information de |forward|trigger|negated|10|Group[1117]|Clement\n",
      "sans information d'un |forward|trigger|negated|10|Group[1117]|Clement\n",
      "sans information d'une |forward|trigger|negated|10|Group[1117]|Clement\n",
      "sans note d' |forward|trigger|negated|10|Group[1117]|Clement\n",
      "sans note de |forward|trigger|negated|10|Group[1117]|Clement\n",
      "sans note d'un |forward|trigger|negated|10|Group[1117]|Clement\n",
      "sans note d'une |forward|trigger|negated|10|Group[1117]|Clement\n",
      "sans recommandation d' |forward|trigger|negated|10|Group[1117]|Clement\n",
      "sans recommandation de |forward|trigger|negated|10|Group[1117]|Clement\n",
      "sans recommandation d'un |forward|trigger|negated|10|Group[1117]|Clement\n",
      "sans recommandation d'une |forward|trigger|negated|10|Group[1117]|Clement\n",
      "sans critère d' |forward|trigger|negated|10|Group[1117]|Clement\n",
      "sans critère de |forward|trigger|negated|10|Group[1117]|Clement\n",
      "sans critère d'un |forward|trigger|negated|10|Group[1117]|Clement\n",
      "sans critère d'une |forward|trigger|negated|10|Group[1117]|Clement\n",
      "sans notation d' |forward|trigger|negated|10|Group[1117]|Clement\n",
      "sans notation de |forward|trigger|negated|10|Group[1117]|Clement\n",
      "sans notation d'un |forward|trigger|negated|10|Group[1117]|Clement\n",
      "sans notation d'une |forward|trigger|negated|10|Group[1117]|Clement\n",
      "sans suggestion d' |forward|trigger|negated|10|Group[1117]|Clement\n",
      "sans suggestion de |forward|trigger|negated|10|Group[1117]|Clement\n",
      "sans suggestion d'un |forward|trigger|negated|10|Group[1117]|Clement\n",
      "sans suggestion d'une |forward|trigger|negated|10|Group[1117]|Clement\n",
      "sans mention d' |forward|trigger|negated|10|Group[1117]|Clement\n",
      "sans mention de |forward|trigger|negated|10|Group[1117]|Clement\n",
      "sans mention d'un |forward|trigger|negated|10|Group[1117]|Clement\n",
      "sans mention d'une |forward|trigger|negated|10|Group[1117]|Clement\n",
      "sans symptôme d' |forward|trigger|negated|10|Group[1117]|Clement\n",
      "sans symptôme de |forward|trigger|negated|10|Group[1117]|Clement\n",
      "sans symptôme d'un |forward|trigger|negated|10|Group[1117]|Clement\n",
      "sans symptôme d'une |forward|trigger|negated|10|Group[1117]|Clement\n"
     ]
    }
   ],
   "source": [
    "from nltk.parse.generate import generate, demo_grammar\n",
    "from nltk import CFG\n",
    "\n",
    "cfg_grammar= \"\"\"\n",
    "S ->  Var1 Var2 Var3 Trigger_Rule\n",
    "Var1 -> \"aucun\" | \"aucune\" | \"nul\" | \"nulle\" | \"sans\"\n",
    "Var2 -> \"indication\" | \"avertissement\" | \"prescription\" | \"directive\" | \"annotation\" | \"explication\" | \"renvoi\" | \"information\" | \"note\" | \"recommandation\" | \"critère\" | \"notation\" | \"suggestion\" | \"mention\" | \"symptôme\"\n",
    "Var3 -> \"d'\" | \"de\" | \"d'un\" | \"d'une\"\n",
    "Trigger_Rule -> \"|forward|trigger|negated|10|Group[1117]|Clement\"\n",
    "\"\"\"\n",
    "\n",
    "for sentence in generate(CFG.fromstring(cfg_grammar), n=1000):\n",
    "    print(' '.join(sentence))"
   ]
  },
  {
   "cell_type": "code",
   "execution_count": 27,
   "metadata": {},
   "outputs": [
    {
     "name": "stdout",
     "output_type": "stream",
     "text": [
      "aucun douleur |forward|trigger|negated|10|Group[1117]|Clement\n",
      "aucun souffrance |forward|trigger|negated|10|Group[1117]|Clement\n",
      "aucun mal |forward|trigger|negated|10|Group[1117]|Clement\n",
      "aucun supplice |forward|trigger|negated|10|Group[1117]|Clement\n",
      "aucun nuisance |forward|trigger|negated|10|Group[1117]|Clement\n",
      "aucune douleur |forward|trigger|negated|10|Group[1117]|Clement\n",
      "aucune souffrance |forward|trigger|negated|10|Group[1117]|Clement\n",
      "aucune mal |forward|trigger|negated|10|Group[1117]|Clement\n",
      "aucune supplice |forward|trigger|negated|10|Group[1117]|Clement\n",
      "aucune nuisance |forward|trigger|negated|10|Group[1117]|Clement\n",
      "nul douleur |forward|trigger|negated|10|Group[1117]|Clement\n",
      "nul souffrance |forward|trigger|negated|10|Group[1117]|Clement\n",
      "nul mal |forward|trigger|negated|10|Group[1117]|Clement\n",
      "nul supplice |forward|trigger|negated|10|Group[1117]|Clement\n",
      "nul nuisance |forward|trigger|negated|10|Group[1117]|Clement\n",
      "nulle douleur |forward|trigger|negated|10|Group[1117]|Clement\n",
      "nulle souffrance |forward|trigger|negated|10|Group[1117]|Clement\n",
      "nulle mal |forward|trigger|negated|10|Group[1117]|Clement\n",
      "nulle supplice |forward|trigger|negated|10|Group[1117]|Clement\n",
      "nulle nuisance |forward|trigger|negated|10|Group[1117]|Clement\n",
      "sans douleur |forward|trigger|negated|10|Group[1117]|Clement\n",
      "sans souffrance |forward|trigger|negated|10|Group[1117]|Clement\n",
      "sans mal |forward|trigger|negated|10|Group[1117]|Clement\n",
      "sans supplice |forward|trigger|negated|10|Group[1117]|Clement\n",
      "sans nuisance |forward|trigger|negated|10|Group[1117]|Clement\n"
     ]
    }
   ],
   "source": [
    "from nltk.parse.generate import generate, demo_grammar\n",
    "from nltk import CFG\n",
    "\n",
    "cfg_grammar= \"\"\"\n",
    "S ->  Var1 Var2 Trigger_Rule\n",
    "Var1 -> \"aucun\" | \"aucune\" | \"nul\" | \"nulle\" | \"sans\"\n",
    "Var2 -> \"douleur\" | \"souffrance\" | \"mal\" | \"supplice\" | \"nuisance\"\n",
    "Trigger_Rule -> \"|forward|trigger|negated|10|Group[1117]|Clement\"\n",
    "\"\"\"\n",
    "\n",
    "for sentence in generate(CFG.fromstring(cfg_grammar), n=1000):\n",
    "    print(' '.join(sentence))"
   ]
  },
  {
   "cell_type": "code",
   "execution_count": 28,
   "metadata": {},
   "outputs": [
    {
     "name": "stdout",
     "output_type": "stream",
     "text": [
      "sans monter |forward|trigger|negated|10|Group[1117]|Clement\n",
      "sans élever |forward|trigger|negated|10|Group[1117]|Clement\n",
      "sans rehausser |forward|trigger|negated|10|Group[1117]|Clement\n",
      "sans relever |forward|trigger|negated|10|Group[1117]|Clement\n",
      "sans hausser |forward|trigger|negated|10|Group[1117]|Clement\n",
      "sans remonter |forward|trigger|negated|10|Group[1117]|Clement\n",
      "sans réhausser |forward|trigger|negated|10|Group[1117]|Clement\n",
      "sans intensifier |forward|trigger|negated|10|Group[1117]|Clement\n",
      "sans accroître |forward|trigger|negated|10|Group[1117]|Clement\n",
      "sans accentuer |forward|trigger|negated|10|Group[1117]|Clement\n",
      "sans amplifier |forward|trigger|negated|10|Group[1117]|Clement\n"
     ]
    }
   ],
   "source": [
    "from nltk.parse.generate import generate, demo_grammar\n",
    "from nltk import CFG\n",
    "\n",
    "cfg_grammar= \"\"\"\n",
    "S ->  Var1 Var2 Trigger_Rule\n",
    "Var1 -> \"sans\"\n",
    "Var2 -> \"monter\" | \"élever\" | \"rehausser\" | \"relever\" | \"hausser\" | \"remonter\" | \"réhausser\" | \"intensifier\" | \"accroître\" | \"accentuer\" | \"amplifier\"\n",
    "Trigger_Rule -> \"|forward|trigger|negated|10|Group[1117]|Clement\"\n",
    "\"\"\"\n",
    "\n",
    "for sentence in generate(CFG.fromstring(cfg_grammar), n=1000):\n",
    "    print(' '.join(sentence))"
   ]
  },
  {
   "cell_type": "code",
   "execution_count": 29,
   "metadata": {},
   "outputs": [
    {
     "name": "stdout",
     "output_type": "stream",
     "text": [
      "sans nouveau |forward|trigger|negated|10|Group[1117]|Clement\n",
      "sans récent |forward|trigger|negated|10|Group[1117]|Clement\n",
      "sans nouvelle |forward|trigger|negated|10|Group[1117]|Clement\n",
      "sans récente |forward|trigger|negated|10|Group[1117]|Clement\n",
      "sans nouvel |forward|trigger|negated|10|Group[1117]|Clement\n"
     ]
    }
   ],
   "source": [
    "from nltk.parse.generate import generate, demo_grammar\n",
    "from nltk import CFG\n",
    "\n",
    "cfg_grammar= \"\"\"\n",
    "S ->  Var1 Var2 Trigger_Rule\n",
    "Var1 -> \"sans\"\n",
    "Var2 -> \"nouveau\" | \"récent\" | \"nouvelle\" | \"récente\" | \"nouvel\"\n",
    "Trigger_Rule -> \"|forward|trigger|negated|10|Group[1117]|Clement\"\n",
    "\"\"\"\n",
    "\n",
    "for sentence in generate(CFG.fromstring(cfg_grammar), n=1000):\n",
    "    print(' '.join(sentence))"
   ]
  },
  {
   "cell_type": "code",
   "execution_count": 30,
   "metadata": {},
   "outputs": [
    {
     "name": "stdout",
     "output_type": "stream",
     "text": [
      "sans avoir |forward|trigger|negated|10|Group[1117]|Clement\n"
     ]
    }
   ],
   "source": [
    "from nltk.parse.generate import generate, demo_grammar\n",
    "from nltk import CFG\n",
    "\n",
    "cfg_grammar= \"\"\"\n",
    "S ->  Var1 Var2 Trigger_Rule\n",
    "Var1 -> \"sans\"\n",
    "Var2 -> \"avoir\"\n",
    "Trigger_Rule -> \"|forward|trigger|negated|10|Group[1117]|Clement\"\n",
    "\"\"\"\n",
    "\n",
    "for sentence in generate(CFG.fromstring(cfg_grammar), n=1000):\n",
    "    print(' '.join(sentence))"
   ]
  },
  {
   "cell_type": "code",
   "execution_count": 31,
   "metadata": {},
   "outputs": [
    {
     "name": "stdout",
     "output_type": "stream",
     "text": [
      "sans certains |forward|trigger|negated|10|Group[1117]|Clement\n"
     ]
    }
   ],
   "source": [
    "from nltk.parse.generate import generate, demo_grammar\n",
    "from nltk import CFG\n",
    "\n",
    "cfg_grammar= \"\"\"\n",
    "S ->  Var1 Var2 Trigger_Rule\n",
    "Var1 -> \"sans\"\n",
    "Var2 -> \"certains\"\n",
    "Trigger_Rule -> \"|forward|trigger|negated|10|Group[1117]|Clement\"\n",
    "\"\"\"\n",
    "\n",
    "for sentence in generate(CFG.fromstring(cfg_grammar), n=1000):\n",
    "    print(' '.join(sentence))"
   ]
  },
  {
   "cell_type": "code",
   "execution_count": 32,
   "metadata": {},
   "outputs": [
    {
     "name": "stdout",
     "output_type": "stream",
     "text": [
      "sans beaucoup |forward|trigger|negated|10|Group[1117]|Clement\n"
     ]
    }
   ],
   "source": [
    "from nltk.parse.generate import generate, demo_grammar\n",
    "from nltk import CFG\n",
    "\n",
    "cfg_grammar= \"\"\"\n",
    "S ->  Var1 Var2 Trigger_Rule\n",
    "Var1 -> \"sans\"\n",
    "Var2 -> \"beaucoup\"\n",
    "Trigger_Rule -> \"|forward|trigger|negated|10|Group[1117]|Clement\"\n",
    "\"\"\"\n",
    "\n",
    "for sentence in generate(CFG.fromstring(cfg_grammar), n=1000):\n",
    "    print(' '.join(sentence))"
   ]
  },
  {
   "cell_type": "code",
   "execution_count": 33,
   "metadata": {},
   "outputs": [
    {
     "name": "stdout",
     "output_type": "stream",
     "text": [
      "sans éprouver |forward|trigger|negated|10|Group[1117]|Clement\n",
      "sans ressentir |forward|trigger|negated|10|Group[1117]|Clement\n",
      "sans sentir |forward|trigger|negated|10|Group[1117]|Clement\n",
      "sans souffrir |forward|trigger|negated|10|Group[1117]|Clement\n",
      "sans endurer |forward|trigger|negated|10|Group[1117]|Clement\n"
     ]
    }
   ],
   "source": [
    "from nltk.parse.generate import generate, demo_grammar\n",
    "from nltk import CFG\n",
    "\n",
    "cfg_grammar= \"\"\"\n",
    "S ->  Var1 Var2 Trigger_Rule\n",
    "Var1 -> \"sans\"\n",
    "Var2 -> \"éprouver\" | \"ressentir\" | \"sentir\" | \"souffrir\" | \"endurer\"\n",
    "Trigger_Rule -> \"|forward|trigger|negated|10|Group[1117]|Clement\"\n",
    "\"\"\"\n",
    "\n",
    "for sentence in generate(CFG.fromstring(cfg_grammar), n=1000):\n",
    "    print(' '.join(sentence))"
   ]
  },
  {
   "cell_type": "code",
   "execution_count": 34,
   "metadata": {},
   "outputs": [
    {
     "name": "stdout",
     "output_type": "stream",
     "text": [
      "sans remarquer |forward|trigger|negated|10|Group[1117]|Clement\n",
      "sans considérer |forward|trigger|negated|10|Group[1117]|Clement\n",
      "sans noter |forward|trigger|negated|10|Group[1117]|Clement\n",
      "sans observer |forward|trigger|negated|10|Group[1117]|Clement\n",
      "sans constater |forward|trigger|negated|10|Group[1117]|Clement\n",
      "sans distinguer |forward|trigger|negated|10|Group[1117]|Clement\n",
      "sans découvrir |forward|trigger|negated|10|Group[1117]|Clement\n",
      "sans observer |forward|trigger|negated|10|Group[1117]|Clement\n",
      "sans percevoir |forward|trigger|negated|10|Group[1117]|Clement\n",
      "sans voir |forward|trigger|negated|10|Group[1117]|Clement\n"
     ]
    }
   ],
   "source": [
    "from nltk.parse.generate import generate, demo_grammar\n",
    "from nltk import CFG\n",
    "\n",
    "cfg_grammar= \"\"\"\n",
    "S ->  Var1 Var2 Trigger_Rule\n",
    "Var1 -> \"sans\"\n",
    "Var2 -> \"remarquer\" | \"considérer\" | \"noter\" | \"observer\" | \"constater\" | \"distinguer\" | \"découvrir\" | \"observer\" | \"percevoir\" | \"voir\"\n",
    "Trigger_Rule -> \"|forward|trigger|negated|10|Group[1117]|Clement\"\n",
    "\"\"\"\n",
    "\n",
    "for sentence in generate(CFG.fromstring(cfg_grammar), n=1000):\n",
    "    print(' '.join(sentence))"
   ]
  },
  {
   "cell_type": "code",
   "execution_count": 35,
   "metadata": {},
   "outputs": [
    {
     "name": "stdout",
     "output_type": "stream",
     "text": [
      "sans augmentation |forward|trigger|negated|10|Group[1117]|Clement\n",
      "sans extension |forward|trigger|negated|10|Group[1117]|Clement\n",
      "sans amplification |forward|trigger|negated|10|Group[1117]|Clement\n",
      "sans allongement |forward|trigger|negated|10|Group[1117]|Clement\n",
      "sans addition |forward|trigger|negated|10|Group[1117]|Clement\n",
      "sans élévation |forward|trigger|negated|10|Group[1117]|Clement\n",
      "sans hausse |forward|trigger|negated|10|Group[1117]|Clement\n",
      "sans aggravation |forward|trigger|negated|10|Group[1117]|Clement\n",
      "sans agrandissement |forward|trigger|negated|10|Group[1117]|Clement\n",
      "sans intensification |forward|trigger|negated|10|Group[1117]|Clement\n",
      "sans redoublement |forward|trigger|negated|10|Group[1117]|Clement\n",
      "sans dilatation |forward|trigger|negated|10|Group[1117]|Clement\n",
      "sans croissance |forward|trigger|negated|10|Group[1117]|Clement\n",
      "sans développement |forward|trigger|negated|10|Group[1117]|Clement\n",
      "sans montée |forward|trigger|negated|10|Group[1117]|Clement\n"
     ]
    }
   ],
   "source": [
    "from nltk.parse.generate import generate, demo_grammar\n",
    "from nltk import CFG\n",
    "\n",
    "cfg_grammar= \"\"\"\n",
    "S ->  Var1 Var2 Trigger_Rule\n",
    "Var1 -> \"sans\"\n",
    "Var2 -> \"augmentation\" | \"extension\" | \"amplification\" | \"allongement\" | \"addition\" | \"élévation\" | \"hausse\" | \"aggravation\" | \"agrandissement\" | \"intensification\" | \"redoublement\" | \"dilatation\" | \"croissance\" | \"développement\" | \"montée\"\n",
    "Trigger_Rule -> \"|forward|trigger|negated|10|Group[1117]|Clement\"\n",
    "\"\"\"\n",
    "\n",
    "for sentence in generate(CFG.fromstring(cfg_grammar), n=1000):\n",
    "    print(' '.join(sentence))"
   ]
  },
  {
   "cell_type": "code",
   "execution_count": 36,
   "metadata": {},
   "outputs": [
    {
     "name": "stdout",
     "output_type": "stream",
     "text": [
      "sans net |forward|trigger|negated|10|Group[1117]|Clement\n",
      "sans clair |forward|trigger|negated|10|Group[1117]|Clement\n"
     ]
    }
   ],
   "source": [
    "from nltk.parse.generate import generate, demo_grammar\n",
    "from nltk import CFG\n",
    "\n",
    "cfg_grammar= \"\"\"\n",
    "S ->  Var1 Var2 Trigger_Rule\n",
    "Var1 -> \"sans\"\n",
    "Var2 ->  \"net\" | \"clair\"\n",
    "Trigger_Rule -> \"|forward|trigger|negated|10|Group[1117]|Clement\"\n",
    "\"\"\"\n",
    "\n",
    "for sentence in generate(CFG.fromstring(cfg_grammar), n=1000):\n",
    "    print(' '.join(sentence))"
   ]
  },
  {
   "cell_type": "code",
   "execution_count": 37,
   "metadata": {},
   "outputs": [
    {
     "name": "stdout",
     "output_type": "stream",
     "text": [
      "sans utiliser |forward|trigger|negated|10|Group[1117]|Clement\n",
      "sans exploiter |forward|trigger|negated|10|Group[1117]|Clement\n",
      "sans manipuler |forward|trigger|negated|10|Group[1117]|Clement\n",
      "sans user |forward|trigger|negated|10|Group[1117]|Clement\n",
      "sans recourir |forward|trigger|negated|10|Group[1117]|Clement\n",
      "sans manier |forward|trigger|negated|10|Group[1117]|Clement\n",
      "sans se servir |forward|trigger|negated|10|Group[1117]|Clement\n"
     ]
    }
   ],
   "source": [
    "from nltk.parse.generate import generate, demo_grammar\n",
    "from nltk import CFG\n",
    "\n",
    "cfg_grammar= \"\"\"\n",
    "S ->  Var1 Var2 Trigger_Rule\n",
    "Var1 -> \"sans\"\n",
    "Var2 -> \"utiliser\" | \"exploiter\" | \"manipuler\" | \"user\"| \"recourir\" | \"manier\" | \"se servir\"\n",
    "Trigger_Rule -> \"|forward|trigger|negated|10|Group[1117]|Clement\"\n",
    "\"\"\"\n",
    "\n",
    "for sentence in generate(CFG.fromstring(cfg_grammar), n=1000):\n",
    "    print(' '.join(sentence))"
   ]
  },
  {
   "cell_type": "code",
   "execution_count": 38,
   "metadata": {},
   "outputs": [
    {
     "name": "stdout",
     "output_type": "stream",
     "text": [
      "sans rapport |forward|trigger|negated|10|Group[1117]|Clement\n",
      "sans correspondance |forward|trigger|negated|10|Group[1117]|Clement\n",
      "sans relation |forward|trigger|negated|10|Group[1117]|Clement\n",
      "sans ressemblance |forward|trigger|negated|10|Group[1117]|Clement\n",
      "sans analogie |forward|trigger|negated|10|Group[1117]|Clement\n",
      "sans corrélation |forward|trigger|negated|10|Group[1117]|Clement\n",
      "sans concordance |forward|trigger|negated|10|Group[1117]|Clement\n",
      "sans rapprochement |forward|trigger|negated|10|Group[1117]|Clement\n"
     ]
    }
   ],
   "source": [
    "from nltk.parse.generate import generate, demo_grammar\n",
    "from nltk import CFG\n",
    "\n",
    "cfg_grammar= \"\"\"\n",
    "S ->  Var1 Var2 Trigger_Rule\n",
    "Var1 -> \"sans\"\n",
    "Var2 -> \"rapport\" | \"correspondance\" | \"relation\" | \"ressemblance\" | \"analogie\" | \"corrélation\" | \"concordance\" | \"rapprochement\"\n",
    "Trigger_Rule -> \"|forward|trigger|negated|10|Group[1117]|Clement\"\n",
    "\"\"\"\n",
    "\n",
    "for sentence in generate(CFG.fromstring(cfg_grammar), n=1000):\n",
    "    print(' '.join(sentence))"
   ]
  },
  {
   "cell_type": "code",
   "execution_count": 39,
   "metadata": {},
   "outputs": [
    {
     "name": "stdout",
     "output_type": "stream",
     "text": [
      "sans évidence |forward|trigger|negated|10|Group[1117]|Clement\n",
      "sans certitude |forward|trigger|negated|10|Group[1117]|Clement\n"
     ]
    }
   ],
   "source": [
    "from nltk.parse.generate import generate, demo_grammar\n",
    "from nltk import CFG\n",
    "\n",
    "cfg_grammar= \"\"\"\n",
    "S ->  Var1 Var2 Trigger_Rule\n",
    "Var1 -> \"sans\"\n",
    "Var2 -> \"évidence\" | \"certitude\"\n",
    "Trigger_Rule -> \"|forward|trigger|negated|10|Group[1117]|Clement\"\n",
    "\"\"\"\n",
    "\n",
    "for sentence in generate(CFG.fromstring(cfg_grammar), n=1000):\n",
    "    print(' '.join(sentence))"
   ]
  },
  {
   "cell_type": "code",
   "execution_count": 40,
   "metadata": {},
   "outputs": [
    {
     "name": "stdout",
     "output_type": "stream",
     "text": [
      "sans mention d' |forward|trigger|negated|10|Group[1117]|Clement\n",
      "sans mention de |forward|trigger|negated|10|Group[1117]|Clement\n",
      "sans mention d'un |forward|trigger|negated|10|Group[1117]|Clement\n",
      "sans mention d'une |forward|trigger|negated|10|Group[1117]|Clement\n",
      "sans évocation d' |forward|trigger|negated|10|Group[1117]|Clement\n",
      "sans évocation de |forward|trigger|negated|10|Group[1117]|Clement\n",
      "sans évocation d'un |forward|trigger|negated|10|Group[1117]|Clement\n",
      "sans évocation d'une |forward|trigger|negated|10|Group[1117]|Clement\n",
      "sans notation d' |forward|trigger|negated|10|Group[1117]|Clement\n",
      "sans notation de |forward|trigger|negated|10|Group[1117]|Clement\n",
      "sans notation d'un |forward|trigger|negated|10|Group[1117]|Clement\n",
      "sans notation d'une |forward|trigger|negated|10|Group[1117]|Clement\n",
      "sans signalement d' |forward|trigger|negated|10|Group[1117]|Clement\n",
      "sans signalement de |forward|trigger|negated|10|Group[1117]|Clement\n",
      "sans signalement d'un |forward|trigger|negated|10|Group[1117]|Clement\n",
      "sans signalement d'une |forward|trigger|negated|10|Group[1117]|Clement\n",
      "sans note d' |forward|trigger|negated|10|Group[1117]|Clement\n",
      "sans note de |forward|trigger|negated|10|Group[1117]|Clement\n",
      "sans note d'un |forward|trigger|negated|10|Group[1117]|Clement\n",
      "sans note d'une |forward|trigger|negated|10|Group[1117]|Clement\n",
      "sans expression d' |forward|trigger|negated|10|Group[1117]|Clement\n",
      "sans expression de |forward|trigger|negated|10|Group[1117]|Clement\n",
      "sans expression d'un |forward|trigger|negated|10|Group[1117]|Clement\n",
      "sans expression d'une |forward|trigger|negated|10|Group[1117]|Clement\n",
      "sans référence d' |forward|trigger|negated|10|Group[1117]|Clement\n",
      "sans référence de |forward|trigger|negated|10|Group[1117]|Clement\n",
      "sans référence d'un |forward|trigger|negated|10|Group[1117]|Clement\n",
      "sans référence d'une |forward|trigger|negated|10|Group[1117]|Clement\n",
      "sans allusion d' |forward|trigger|negated|10|Group[1117]|Clement\n",
      "sans allusion de |forward|trigger|negated|10|Group[1117]|Clement\n",
      "sans allusion d'un |forward|trigger|negated|10|Group[1117]|Clement\n",
      "sans allusion d'une |forward|trigger|negated|10|Group[1117]|Clement\n"
     ]
    }
   ],
   "source": [
    "from nltk.parse.generate import generate, demo_grammar\n",
    "from nltk import CFG\n",
    "\n",
    "cfg_grammar= \"\"\"\n",
    "S ->  Var1 Var2 Var3 Trigger_Rule\n",
    "Var1 -> \"sans\"\n",
    "Var2 -> \"mention\" | \"évocation\" | \"notation\" | \"signalement\" | \"note\" | \"expression\" | \"référence\" | \"allusion\"\n",
    "Var3 -> \"d'\" | \"de\" | \"d'un\" | \"d'une\"\n",
    "Trigger_Rule -> \"|forward|trigger|negated|10|Group[1117]|Clement\"\n",
    "\"\"\"\n",
    "\n",
    "for sentence in generate(CFG.fromstring(cfg_grammar), n=1000):\n",
    "    print(' '.join(sentence))"
   ]
  },
  {
   "cell_type": "code",
   "execution_count": 41,
   "metadata": {},
   "outputs": [
    {
     "name": "stdout",
     "output_type": "stream",
     "text": [
      "sans l' |forward|trigger|negated|10|Group[1117]|Clement\n",
      "sans le |forward|trigger|negated|10|Group[1117]|Clement\n",
      "sans la |forward|trigger|negated|10|Group[1117]|Clement\n",
      "sans un |forward|trigger|negated|10|Group[1117]|Clement\n",
      "sans une |forward|trigger|negated|10|Group[1117]|Clement\n"
     ]
    }
   ],
   "source": [
    "from nltk.parse.generate import generate, demo_grammar\n",
    "from nltk import CFG\n",
    "\n",
    "cfg_grammar= \"\"\"\n",
    "S ->  Var1 Article Trigger_Rule\n",
    "Var1 -> \"sans\"\n",
    "Article -> \"l'\" | \"le\" | \"la\" | \"un\" | \"une\"\n",
    "Trigger_Rule -> \"|forward|trigger|negated|10|Group[1117]|Clement\"\n",
    "\"\"\"\n",
    "\n",
    "for sentence in generate(CFG.fromstring(cfg_grammar), n=1000):\n",
    "    print(' '.join(sentence))"
   ]
  },
  {
   "cell_type": "code",
   "execution_count": 42,
   "metadata": {},
   "outputs": [
    {
     "name": "stdout",
     "output_type": "stream",
     "text": [
      "sans périphérique |forward|trigger|negated|10|Group[1117]|Clement\n"
     ]
    }
   ],
   "source": [
    "from nltk.parse.generate import generate, demo_grammar\n",
    "from nltk import CFG\n",
    "\n",
    "cfg_grammar= \"\"\"\n",
    "S ->  Var1 Var2 Trigger_Rule\n",
    "Var1 -> \"sans\"\n",
    "Var2 -> \"périphérique\"\n",
    "Trigger_Rule -> \"|forward|trigger|negated|10|Group[1117]|Clement\"\n",
    "\"\"\"\n",
    "\n",
    "for sentence in generate(CFG.fromstring(cfg_grammar), n=1000):\n",
    "    print(' '.join(sentence))"
   ]
  },
  {
   "cell_type": "code",
   "execution_count": 43,
   "metadata": {},
   "outputs": [
    {
     "name": "stdout",
     "output_type": "stream",
     "text": [
      "sans plus |forward|trigger|negated|10|Group[1117]|Clement\n"
     ]
    }
   ],
   "source": [
    "from nltk.parse.generate import generate, demo_grammar\n",
    "from nltk import CFG\n",
    "\n",
    "cfg_grammar= \"\"\"\n",
    "S ->  Var1 Var2 Trigger_Rule\n",
    "Var1 -> \"sans\"\n",
    "Var2 -> \"plus\"\n",
    "Trigger_Rule -> \"|forward|trigger|negated|10|Group[1117]|Clement\"\n",
    "\"\"\"\n",
    "\n",
    "for sentence in generate(CFG.fromstring(cfg_grammar), n=1000):\n",
    "    print(' '.join(sentence))"
   ]
  },
  {
   "cell_type": "code",
   "execution_count": 44,
   "metadata": {},
   "outputs": [
    {
     "name": "stdout",
     "output_type": "stream",
     "text": [
      "souhaiter |forward|trigger|conditional|30|Group[1129]|Clement\n",
      "convoiter |forward|trigger|conditional|30|Group[1129]|Clement\n",
      "réclamer |forward|trigger|conditional|30|Group[1129]|Clement\n",
      "tenir à |forward|trigger|conditional|30|Group[1129]|Clement\n"
     ]
    }
   ],
   "source": [
    "from nltk.parse.generate import generate, demo_grammar\n",
    "from nltk import CFG\n",
    "\n",
    "cfg_grammar= \"\"\"\n",
    "S ->  Var1 Trigger_Rule\n",
    "Var1 -> \"souhaiter\" | \"convoiter\" | \"réclamer\" | \"tenir à\" \n",
    "Trigger_Rule -> \"|forward|trigger|conditional|30|Group[1129]|Clement\"\n",
    "\"\"\"\n",
    "\n",
    "for sentence in generate(CFG.fromstring(cfg_grammar), n=1000):\n",
    "    print(' '.join(sentence))"
   ]
  },
  {
   "cell_type": "code",
   "execution_count": 45,
   "metadata": {},
   "outputs": [
    {
     "name": "stdout",
     "output_type": "stream",
     "text": [
      "a été \\w+ négatif |backward|trigger|negated|10|Group[1130, 1131]|Clement\n",
      "a été \\w+ négatifs |backward|trigger|negated|10|Group[1130, 1131]|Clement\n",
      "a été \\w+ négative |backward|trigger|negated|10|Group[1130, 1131]|Clement\n",
      "a été \\w+ négatives |backward|trigger|negated|10|Group[1130, 1131]|Clement\n",
      "ont été \\w+ négatif |backward|trigger|negated|10|Group[1130, 1131]|Clement\n",
      "ont été \\w+ négatifs |backward|trigger|negated|10|Group[1130, 1131]|Clement\n",
      "ont été \\w+ négative |backward|trigger|negated|10|Group[1130, 1131]|Clement\n",
      "ont été \\w+ négatives |backward|trigger|negated|10|Group[1130, 1131]|Clement\n"
     ]
    }
   ],
   "source": [
    "from nltk.parse.generate import generate, demo_grammar\n",
    "from nltk import CFG\n",
    "\n",
    "cfg_grammar= \"\"\"\n",
    "S ->  Var1 Var2 Word Var3 Trigger_Rule\n",
    "Var1 -> \"a\" | \"ont\" \n",
    "Var2 -> \"été\"\n",
    "Word -> \"\\\\w+\"\n",
    "Var3 -> \"négatif\" | \"négatifs\" | \"négative\" | \"négatives\" \n",
    "\n",
    "Trigger_Rule -> \"|backward|trigger|negated|10|Group[1130, 1131]|Clement\"\n",
    "\"\"\"\n",
    "\n",
    "for sentence in generate(CFG.fromstring(cfg_grammar), n=1000):\n",
    "    print(' '.join(sentence))"
   ]
  },
  {
   "cell_type": "code",
   "execution_count": 46,
   "metadata": {},
   "outputs": [
    {
     "name": "stdout",
     "output_type": "stream",
     "text": [
      "a été trouvé |both|termination|historical|30|Group[1132, 1133]|Clement\n",
      "a été trouvé |both|termination|nonpatient|30|Group[1132, 1133]|Clement\n",
      "a été reconnu |both|termination|historical|30|Group[1132, 1133]|Clement\n",
      "a été reconnu |both|termination|nonpatient|30|Group[1132, 1133]|Clement\n",
      "a été résolu |both|termination|historical|30|Group[1132, 1133]|Clement\n",
      "a été résolu |both|termination|nonpatient|30|Group[1132, 1133]|Clement\n",
      "a été détecté |both|termination|historical|30|Group[1132, 1133]|Clement\n",
      "a été détecté |both|termination|nonpatient|30|Group[1132, 1133]|Clement\n",
      "a été relevé |both|termination|historical|30|Group[1132, 1133]|Clement\n",
      "a été relevé |both|termination|nonpatient|30|Group[1132, 1133]|Clement\n",
      "a été vu |both|termination|historical|30|Group[1132, 1133]|Clement\n",
      "a été vu |both|termination|nonpatient|30|Group[1132, 1133]|Clement\n",
      "ont été trouvé |both|termination|historical|30|Group[1132, 1133]|Clement\n",
      "ont été trouvé |both|termination|nonpatient|30|Group[1132, 1133]|Clement\n",
      "ont été reconnu |both|termination|historical|30|Group[1132, 1133]|Clement\n",
      "ont été reconnu |both|termination|nonpatient|30|Group[1132, 1133]|Clement\n",
      "ont été résolu |both|termination|historical|30|Group[1132, 1133]|Clement\n",
      "ont été résolu |both|termination|nonpatient|30|Group[1132, 1133]|Clement\n",
      "ont été détecté |both|termination|historical|30|Group[1132, 1133]|Clement\n",
      "ont été détecté |both|termination|nonpatient|30|Group[1132, 1133]|Clement\n",
      "ont été relevé |both|termination|historical|30|Group[1132, 1133]|Clement\n",
      "ont été relevé |both|termination|nonpatient|30|Group[1132, 1133]|Clement\n",
      "ont été vu |both|termination|historical|30|Group[1132, 1133]|Clement\n",
      "ont été vu |both|termination|nonpatient|30|Group[1132, 1133]|Clement\n"
     ]
    }
   ],
   "source": [
    "from nltk.parse.generate import generate, demo_grammar\n",
    "from nltk import CFG\n",
    "\n",
    "cfg_grammar= \"\"\"\n",
    "S ->  Var1 Var2 Var3 Trigger_Rule\n",
    "Var1 -> \"a\" | \"ont\" \n",
    "Var2 -> \"été\"\n",
    "Var3 -> \"trouvé\" | \"reconnu\" | \"résolu\" | \"détecté\" | \"relevé\" | \"vu\"\n",
    "Trigger_Rule -> \"|both|termination|historical|30|Group[1132, 1133]|Clement\"|\"|both|termination|nonpatient|30|Group[1132, 1133]|Clement\"\n",
    "\"\"\"\n",
    "\n",
    "for sentence in generate(CFG.fromstring(cfg_grammar), n=1000):\n",
    "    print(' '.join(sentence))"
   ]
  },
  {
   "cell_type": "code",
   "execution_count": 47,
   "metadata": {},
   "outputs": [
    {
     "name": "stdout",
     "output_type": "stream",
     "text": [
      "était \\w+ suspecté |backward|trigger|uncertain|30|Group[1134]|Clement\n",
      "était \\w+ pressenti |backward|trigger|uncertain|30|Group[1134]|Clement\n",
      "était \\w+ conjecturé |backward|trigger|uncertain|30|Group[1134]|Clement\n"
     ]
    }
   ],
   "source": [
    "from nltk.parse.generate import generate, demo_grammar\n",
    "from nltk import CFG\n",
    "\n",
    "cfg_grammar= \"\"\"\n",
    "S ->  Var1 Word Var2 Trigger_Rule\n",
    "Var1 -> \"était\"\n",
    "Word -> \"\\\\w+\"\n",
    "Var2 -> \"suspecté\" | \"pressenti\" | \"conjecturé\"\n",
    "Trigger_Rule -> \"|backward|trigger|uncertain|30|Group[1134]|Clement\"\n",
    "\"\"\"\n",
    "\n",
    "for sentence in generate(CFG.fromstring(cfg_grammar), n=1000):\n",
    "    print(' '.join(sentence))"
   ]
  },
  {
   "cell_type": "code",
   "execution_count": 48,
   "metadata": {},
   "outputs": [
    {
     "name": "stdout",
     "output_type": "stream",
     "text": [
      "étaient \\w+ suspectés |backward|trigger|uncertain|30|Group[1134]|Clement\n",
      "étaient \\w+ pressentis |backward|trigger|uncertain|30|Group[1134]|Clement\n",
      "étaient \\w+ conjecturés |backward|trigger|uncertain|30|Group[1134]|Clement\n"
     ]
    }
   ],
   "source": [
    "from nltk.parse.generate import generate, demo_grammar\n",
    "from nltk import CFG\n",
    "\n",
    "cfg_grammar= \"\"\"\n",
    "S ->  Var1 Word Var2 Trigger_Rule\n",
    "Var1 -> \"étaient\"\n",
    "Word -> \"\\\\w+\"\n",
    "Var2 -> \"suspectés\" | \"pressentis\" | \"conjecturés\"\n",
    "Trigger_Rule -> \"|backward|trigger|uncertain|30|Group[1134]|Clement\"\n",
    "\"\"\"\n",
    "\n",
    "for sentence in generate(CFG.fromstring(cfg_grammar), n=1000):\n",
    "    print(' '.join(sentence))"
   ]
  },
  {
   "cell_type": "code",
   "execution_count": 49,
   "metadata": {},
   "outputs": [
    {
     "name": "stdout",
     "output_type": "stream",
     "text": [
      "a été chargé |both|termination|historical|30|Group[1135, 1136]|Clement\n",
      "a été chargé |both|termination|nonpatient|30|Group[1135, 1136]|Clement\n",
      "a été délégué |both|termination|historical|30|Group[1135, 1136]|Clement\n",
      "a été délégué |both|termination|nonpatient|30|Group[1135, 1136]|Clement\n",
      "a été confié |both|termination|historical|30|Group[1135, 1136]|Clement\n",
      "a été confié |both|termination|nonpatient|30|Group[1135, 1136]|Clement\n",
      "ont été chargé |both|termination|historical|30|Group[1135, 1136]|Clement\n",
      "ont été chargé |both|termination|nonpatient|30|Group[1135, 1136]|Clement\n",
      "ont été délégué |both|termination|historical|30|Group[1135, 1136]|Clement\n",
      "ont été délégué |both|termination|nonpatient|30|Group[1135, 1136]|Clement\n",
      "ont été confié |both|termination|historical|30|Group[1135, 1136]|Clement\n",
      "ont été confié |both|termination|nonpatient|30|Group[1135, 1136]|Clement\n"
     ]
    }
   ],
   "source": [
    "from nltk.parse.generate import generate, demo_grammar\n",
    "from nltk import CFG\n",
    "\n",
    "cfg_grammar= \"\"\"\n",
    "S ->  Var1 Var2 Var3 Trigger_Rule\n",
    "Var1 -> \"a\"| \"ont\" \n",
    "Var2 -> \"été\"\n",
    "Var3 -> \"chargé\" | \"délégué\" | \"confié\"\n",
    "Trigger_Rule -> \"|both|termination|historical|30|Group[1135, 1136]|Clement\"|\"|both|termination|nonpatient|30|Group[1135, 1136]|Clement\"\n",
    "\"\"\"\n",
    "\n",
    "for sentence in generate(CFG.fromstring(cfg_grammar), n=1000):\n",
    "    print(' '.join(sentence))"
   ]
  },
  {
   "cell_type": "code",
   "execution_count": 50,
   "metadata": {},
   "outputs": [
    {
     "name": "stdout",
     "output_type": "stream",
     "text": [
      "était négatif |backward|trigger|negated|10|Group[1137]|Clement\n",
      "était négative |backward|trigger|negated|10|Group[1137]|Clement\n",
      "était nulle |backward|trigger|negated|10|Group[1137]|Clement\n"
     ]
    }
   ],
   "source": [
    "from nltk.parse.generate import generate, demo_grammar\n",
    "from nltk import CFG\n",
    "\n",
    "cfg_grammar= \"\"\"\n",
    "S ->  Var1 Var2 Trigger_Rule\n",
    "Var1 -> \"était\"\n",
    "Var2 -> \"négatif\" | \"négative\" | \"nulle\"\n",
    "Trigger_Rule -> \"|backward|trigger|negated|10|Group[1137]|Clement\"\n",
    "\"\"\"\n",
    "\n",
    "for sentence in generate(CFG.fromstring(cfg_grammar), n=1000):\n",
    "    print(' '.join(sentence))"
   ]
  },
  {
   "cell_type": "code",
   "execution_count": 51,
   "metadata": {},
   "outputs": [
    {
     "name": "stdout",
     "output_type": "stream",
     "text": [
      "étaitent négatifs |backward|trigger|negated|10|Group[1137]|Clement\n",
      "étaitent négatives |backward|trigger|negated|10|Group[1137]|Clement\n",
      "étaitent nulles |backward|trigger|negated|10|Group[1137]|Clement\n"
     ]
    }
   ],
   "source": [
    "from nltk.parse.generate import generate, demo_grammar\n",
    "from nltk import CFG\n",
    "\n",
    "cfg_grammar= \"\"\"\n",
    "S ->  Var1 Var2 Trigger_Rule\n",
    "Var1 -> \"étaitent\"\n",
    "Var2 -> \"négatifs\" | \"négatives\" | \"nulles\"\n",
    "Trigger_Rule -> \"|backward|trigger|negated|10|Group[1137]|Clement\"\n",
    "\"\"\"\n",
    "\n",
    "for sentence in generate(CFG.fromstring(cfg_grammar), n=1000):\n",
    "    print(' '.join(sentence))"
   ]
  },
  {
   "cell_type": "code",
   "execution_count": 52,
   "metadata": {},
   "outputs": [
    {
     "name": "stdout",
     "output_type": "stream",
     "text": [
      "n'était pas |forward|trigger|negated|10|Group[1141]|Clement\n",
      "n'étaient pas |forward|trigger|negated|10|Group[1141]|Clement\n"
     ]
    }
   ],
   "source": [
    "from nltk.parse.generate import generate, demo_grammar\n",
    "from nltk import CFG\n",
    "\n",
    "cfg_grammar= \"\"\"\n",
    "S ->   Var1 Var2 Trigger_Rule\n",
    "Var1 -> \"n'était\" | \"n'étaient\"\n",
    "Var2 -> \"pas\"\n",
    "Trigger_Rule -> \"|forward|trigger|negated|10|Group[1141]|Clement\"\n",
    "\"\"\"\n",
    "\n",
    "for sentence in generate(CFG.fromstring(cfg_grammar), n=1000):\n",
    "    print(' '.join(sentence))"
   ]
  },
  {
   "cell_type": "code",
   "execution_count": 86,
   "metadata": {},
   "outputs": [
    {
     "name": "stdout",
     "output_type": "stream",
     "text": [
      "a été arrêté |backward|trigger|negated|10|Group[1145]|Clement\n",
      "a été arrêté |forward|termination|negated|10|Group[1147, 1148]|Clement\n",
      "a été arrêté _e |backward|trigger|negated|10|Group[1145]|Clement\n",
      "a été arrêté _e |forward|termination|negated|10|Group[1147, 1148]|Clement\n",
      "a été stoppé |backward|trigger|negated|10|Group[1145]|Clement\n",
      "a été stoppé |forward|termination|negated|10|Group[1147, 1148]|Clement\n",
      "a été stoppé _e |backward|trigger|negated|10|Group[1145]|Clement\n",
      "a été stoppé _e |forward|termination|negated|10|Group[1147, 1148]|Clement\n",
      "a été enrayé |backward|trigger|negated|10|Group[1145]|Clement\n",
      "a été enrayé |forward|termination|negated|10|Group[1147, 1148]|Clement\n",
      "a été enrayé _e |backward|trigger|negated|10|Group[1145]|Clement\n",
      "a été enrayé _e |forward|termination|negated|10|Group[1147, 1148]|Clement\n",
      "a été contenu |backward|trigger|negated|10|Group[1145]|Clement\n",
      "a été contenu |forward|termination|negated|10|Group[1147, 1148]|Clement\n",
      "a été contenu _e |backward|trigger|negated|10|Group[1145]|Clement\n",
      "a été contenu _e |forward|termination|negated|10|Group[1147, 1148]|Clement\n",
      "a été suspendu |backward|trigger|negated|10|Group[1145]|Clement\n",
      "a été suspendu |forward|termination|negated|10|Group[1147, 1148]|Clement\n",
      "a été suspendu _e |backward|trigger|negated|10|Group[1145]|Clement\n",
      "a été suspendu _e |forward|termination|negated|10|Group[1147, 1148]|Clement\n",
      "a été jugulé |backward|trigger|negated|10|Group[1145]|Clement\n",
      "a été jugulé |forward|termination|negated|10|Group[1147, 1148]|Clement\n",
      "a été jugulé _e |backward|trigger|negated|10|Group[1145]|Clement\n",
      "a été jugulé _e |forward|termination|negated|10|Group[1147, 1148]|Clement\n",
      "a été terminé |backward|trigger|negated|10|Group[1145]|Clement\n",
      "a été terminé |forward|termination|negated|10|Group[1147, 1148]|Clement\n",
      "a été terminé _e |backward|trigger|negated|10|Group[1145]|Clement\n",
      "a été terminé _e |forward|termination|negated|10|Group[1147, 1148]|Clement\n",
      "a été fini |backward|trigger|negated|10|Group[1145]|Clement\n",
      "a été fini |forward|termination|negated|10|Group[1147, 1148]|Clement\n",
      "a été fini _e |backward|trigger|negated|10|Group[1145]|Clement\n",
      "a été fini _e |forward|termination|negated|10|Group[1147, 1148]|Clement\n",
      "a été endigué |backward|trigger|negated|10|Group[1145]|Clement\n",
      "a été endigué |forward|termination|negated|10|Group[1147, 1148]|Clement\n",
      "a été endigué _e |backward|trigger|negated|10|Group[1145]|Clement\n",
      "a été endigué _e |forward|termination|negated|10|Group[1147, 1148]|Clement\n",
      "a été cesseé |backward|trigger|negated|10|Group[1145]|Clement\n",
      "a été cesseé |forward|termination|negated|10|Group[1147, 1148]|Clement\n",
      "a été cesseé _e |backward|trigger|negated|10|Group[1145]|Clement\n",
      "a été cesseé _e |forward|termination|negated|10|Group[1147, 1148]|Clement\n",
      "a été interrompu |backward|trigger|negated|10|Group[1145]|Clement\n",
      "a été interrompu |forward|termination|negated|10|Group[1147, 1148]|Clement\n",
      "a été interrompu _e |backward|trigger|negated|10|Group[1145]|Clement\n",
      "a été interrompu _e |forward|termination|negated|10|Group[1147, 1148]|Clement\n"
     ]
    }
   ],
   "source": [
    "from nltk.parse.generate import generate, demo_grammar\n",
    "from nltk import CFG\n",
    "\n",
    "cfg_grammar= \"\"\"\n",
    "S ->  Var1 Var2 Var3 Termin Trigger_Rule\n",
    "Var1 -> \"a\"\n",
    "Var2 -> \"été\"\n",
    "Var3 -> \"arrêté\" | \"stoppé\" | \"enrayé\" | \"contenu\" | \"suspendu\" | \"jugulé\" | \"terminé\" | \"fini\" | \"endigué\" | \"cesseé\" | \"interrompu\"\n",
    "Termin -> |\"_e\"\n",
    "Trigger_Rule -> \"|backward|trigger|negated|10|Group[1145]|Clement\"|\"|forward|termination|negated|10|Group[1147, 1148]|Clement\"\n",
    "\"\"\"\n",
    "\n",
    "for sentence in generate(CFG.fromstring(cfg_grammar), n=1000):\n",
    "    print(' '.join(sentence))"
   ]
  },
  {
   "cell_type": "code",
   "execution_count": 54,
   "metadata": {},
   "outputs": [
    {
     "name": "stdout",
     "output_type": "stream",
     "text": [
      "ont été arrêté _s |backward|trigger|negated|10|Group[1145]|Clement\n",
      "ont été arrêté _s forward|termination|negated|10|Group[1147, 1148]|Clement\n",
      "ont été arrêté _es |backward|trigger|negated|10|Group[1145]|Clement\n",
      "ont été arrêté _es forward|termination|negated|10|Group[1147, 1148]|Clement\n",
      "ont été stoppé _s |backward|trigger|negated|10|Group[1145]|Clement\n",
      "ont été stoppé _s forward|termination|negated|10|Group[1147, 1148]|Clement\n",
      "ont été stoppé _es |backward|trigger|negated|10|Group[1145]|Clement\n",
      "ont été stoppé _es forward|termination|negated|10|Group[1147, 1148]|Clement\n",
      "ont été enrayé _s |backward|trigger|negated|10|Group[1145]|Clement\n",
      "ont été enrayé _s forward|termination|negated|10|Group[1147, 1148]|Clement\n",
      "ont été enrayé _es |backward|trigger|negated|10|Group[1145]|Clement\n",
      "ont été enrayé _es forward|termination|negated|10|Group[1147, 1148]|Clement\n",
      "ont été contenu _s |backward|trigger|negated|10|Group[1145]|Clement\n",
      "ont été contenu _s forward|termination|negated|10|Group[1147, 1148]|Clement\n",
      "ont été contenu _es |backward|trigger|negated|10|Group[1145]|Clement\n",
      "ont été contenu _es forward|termination|negated|10|Group[1147, 1148]|Clement\n",
      "ont été suspendu _s |backward|trigger|negated|10|Group[1145]|Clement\n",
      "ont été suspendu _s forward|termination|negated|10|Group[1147, 1148]|Clement\n",
      "ont été suspendu _es |backward|trigger|negated|10|Group[1145]|Clement\n",
      "ont été suspendu _es forward|termination|negated|10|Group[1147, 1148]|Clement\n",
      "ont été jugulé _s |backward|trigger|negated|10|Group[1145]|Clement\n",
      "ont été jugulé _s forward|termination|negated|10|Group[1147, 1148]|Clement\n",
      "ont été jugulé _es |backward|trigger|negated|10|Group[1145]|Clement\n",
      "ont été jugulé _es forward|termination|negated|10|Group[1147, 1148]|Clement\n",
      "ont été terminé _s |backward|trigger|negated|10|Group[1145]|Clement\n",
      "ont été terminé _s forward|termination|negated|10|Group[1147, 1148]|Clement\n",
      "ont été terminé _es |backward|trigger|negated|10|Group[1145]|Clement\n",
      "ont été terminé _es forward|termination|negated|10|Group[1147, 1148]|Clement\n",
      "ont été fini _s |backward|trigger|negated|10|Group[1145]|Clement\n",
      "ont été fini _s forward|termination|negated|10|Group[1147, 1148]|Clement\n",
      "ont été fini _es |backward|trigger|negated|10|Group[1145]|Clement\n",
      "ont été fini _es forward|termination|negated|10|Group[1147, 1148]|Clement\n",
      "ont été endigué _s |backward|trigger|negated|10|Group[1145]|Clement\n",
      "ont été endigué _s forward|termination|negated|10|Group[1147, 1148]|Clement\n",
      "ont été endigué _es |backward|trigger|negated|10|Group[1145]|Clement\n",
      "ont été endigué _es forward|termination|negated|10|Group[1147, 1148]|Clement\n",
      "ont été cesseé _s |backward|trigger|negated|10|Group[1145]|Clement\n",
      "ont été cesseé _s forward|termination|negated|10|Group[1147, 1148]|Clement\n",
      "ont été cesseé _es |backward|trigger|negated|10|Group[1145]|Clement\n",
      "ont été cesseé _es forward|termination|negated|10|Group[1147, 1148]|Clement\n",
      "ont été interrompu _s |backward|trigger|negated|10|Group[1145]|Clement\n",
      "ont été interrompu _s forward|termination|negated|10|Group[1147, 1148]|Clement\n",
      "ont été interrompu _es |backward|trigger|negated|10|Group[1145]|Clement\n",
      "ont été interrompu _es forward|termination|negated|10|Group[1147, 1148]|Clement\n"
     ]
    }
   ],
   "source": [
    "from nltk.parse.generate import generate, demo_grammar\n",
    "from nltk import CFG\n",
    "\n",
    "cfg_grammar= \"\"\"\n",
    "S ->  Var1 Var2 Var3 Termin Trigger_Rule\n",
    "Var1 -> \"ont\"\n",
    "Var2 -> \"été\"\n",
    "Var3 -> \"arrêté\" | \"stoppé\" | \"enrayé\" | \"contenu\" | \"suspendu\" | \"jugulé\" | \"terminé\" | \"fini\" | \"endigué\" | \"cesseé\" | \"interrompu\"\n",
    "Termin -> \"_s\"|\"_es\"\n",
    "Trigger_Rule -> \"|backward|trigger|negated|10|Group[1145]|Clement\"|\"forward|termination|negated|10|Group[1147, 1148]|Clement\"\n",
    "\"\"\"\n",
    "\n",
    "for sentence in generate(CFG.fromstring(cfg_grammar), n=1000):\n",
    "    print(' '.join(sentence))"
   ]
  },
  {
   "cell_type": "code",
   "execution_count": 55,
   "metadata": {},
   "outputs": [
    {
     "name": "stdout",
     "output_type": "stream",
     "text": [
      "a été arrêté en raison de |forward|termination|negated|10|Group[1145]|Clement\n",
      "a été arrêté _e en raison de |forward|termination|negated|10|Group[1145]|Clement\n",
      "a été stoppé en raison de |forward|termination|negated|10|Group[1145]|Clement\n",
      "a été stoppé _e en raison de |forward|termination|negated|10|Group[1145]|Clement\n",
      "a été enrayé en raison de |forward|termination|negated|10|Group[1145]|Clement\n",
      "a été enrayé _e en raison de |forward|termination|negated|10|Group[1145]|Clement\n",
      "a été contenu en raison de |forward|termination|negated|10|Group[1145]|Clement\n",
      "a été contenu _e en raison de |forward|termination|negated|10|Group[1145]|Clement\n",
      "a été suspendu en raison de |forward|termination|negated|10|Group[1145]|Clement\n",
      "a été suspendu _e en raison de |forward|termination|negated|10|Group[1145]|Clement\n",
      "a été jugulé en raison de |forward|termination|negated|10|Group[1145]|Clement\n",
      "a été jugulé _e en raison de |forward|termination|negated|10|Group[1145]|Clement\n",
      "a été terminé en raison de |forward|termination|negated|10|Group[1145]|Clement\n",
      "a été terminé _e en raison de |forward|termination|negated|10|Group[1145]|Clement\n",
      "a été fini en raison de |forward|termination|negated|10|Group[1145]|Clement\n",
      "a été fini _e en raison de |forward|termination|negated|10|Group[1145]|Clement\n",
      "a été endigué en raison de |forward|termination|negated|10|Group[1145]|Clement\n",
      "a été endigué _e en raison de |forward|termination|negated|10|Group[1145]|Clement\n",
      "a été cesseé en raison de |forward|termination|negated|10|Group[1145]|Clement\n",
      "a été cesseé _e en raison de |forward|termination|negated|10|Group[1145]|Clement\n",
      "a été interrompu en raison de |forward|termination|negated|10|Group[1145]|Clement\n",
      "a été interrompu _e en raison de |forward|termination|negated|10|Group[1145]|Clement\n"
     ]
    }
   ],
   "source": [
    "from nltk.parse.generate import generate, demo_grammar\n",
    "from nltk import CFG\n",
    "\n",
    "cfg_grammar= \"\"\"\n",
    "S ->  Var1 Var2 Var3 Termin Var4 Trigger_Rule\n",
    "Var1 -> \"a\"\n",
    "Var2 -> \"été\"\n",
    "Var3 -> \"arrêté\" | \"stoppé\" | \"enrayé\" | \"contenu\" | \"suspendu\" | \"jugulé\" | \"terminé\" | \"fini\" | \"endigué\" | \"cesseé\" | \"interrompu\"\n",
    "Termin -> |\"_e\"\n",
    "Var4 -> \"en raison de\"\n",
    "Trigger_Rule -> \"|forward|termination|negated|10|Group[1145]|Clement\"\n",
    "\"\"\"\n",
    "\n",
    "for sentence in generate(CFG.fromstring(cfg_grammar), n=1000):\n",
    "    print(' '.join(sentence))"
   ]
  },
  {
   "cell_type": "code",
   "execution_count": 56,
   "metadata": {},
   "outputs": [
    {
     "name": "stdout",
     "output_type": "stream",
     "text": [
      "ont été arrêté _s en raison de |forward|termination|negated|10|Group[1145]|Clement\n",
      "ont été arrêté _es en raison de |forward|termination|negated|10|Group[1145]|Clement\n",
      "ont été stoppé _s en raison de |forward|termination|negated|10|Group[1145]|Clement\n",
      "ont été stoppé _es en raison de |forward|termination|negated|10|Group[1145]|Clement\n",
      "ont été enrayé _s en raison de |forward|termination|negated|10|Group[1145]|Clement\n",
      "ont été enrayé _es en raison de |forward|termination|negated|10|Group[1145]|Clement\n",
      "ont été contenu _s en raison de |forward|termination|negated|10|Group[1145]|Clement\n",
      "ont été contenu _es en raison de |forward|termination|negated|10|Group[1145]|Clement\n",
      "ont été suspendu _s en raison de |forward|termination|negated|10|Group[1145]|Clement\n",
      "ont été suspendu _es en raison de |forward|termination|negated|10|Group[1145]|Clement\n",
      "ont été jugulé _s en raison de |forward|termination|negated|10|Group[1145]|Clement\n",
      "ont été jugulé _es en raison de |forward|termination|negated|10|Group[1145]|Clement\n",
      "ont été terminé _s en raison de |forward|termination|negated|10|Group[1145]|Clement\n",
      "ont été terminé _es en raison de |forward|termination|negated|10|Group[1145]|Clement\n",
      "ont été fini _s en raison de |forward|termination|negated|10|Group[1145]|Clement\n",
      "ont été fini _es en raison de |forward|termination|negated|10|Group[1145]|Clement\n",
      "ont été endigué _s en raison de |forward|termination|negated|10|Group[1145]|Clement\n",
      "ont été endigué _es en raison de |forward|termination|negated|10|Group[1145]|Clement\n",
      "ont été cesseé _s en raison de |forward|termination|negated|10|Group[1145]|Clement\n",
      "ont été cesseé _es en raison de |forward|termination|negated|10|Group[1145]|Clement\n",
      "ont été interrompu _s en raison de |forward|termination|negated|10|Group[1145]|Clement\n",
      "ont été interrompu _es en raison de |forward|termination|negated|10|Group[1145]|Clement\n"
     ]
    }
   ],
   "source": [
    "from nltk.parse.generate import generate, demo_grammar\n",
    "from nltk import CFG\n",
    "\n",
    "cfg_grammar= \"\"\"\n",
    "S ->  Var1 Var2 Var3 Termin Var4 Trigger_Rule\n",
    "Var1 -> \"ont\"\n",
    "Var2 -> \"été\"\n",
    "Var3 -> \"arrêté\" | \"stoppé\" | \"enrayé\" | \"contenu\" | \"suspendu\" | \"jugulé\" | \"terminé\" | \"fini\" | \"endigué\" | \"cesseé\" | \"interrompu\"\n",
    "Termin -> \"_s\"|\"_es\"\n",
    "Var4 -> \"en raison de\"\n",
    "Trigger_Rule -> \"|forward|termination|negated|10|Group[1145]|Clement\"\n",
    "\"\"\"\n",
    "\n",
    "for sentence in generate(CFG.fromstring(cfg_grammar), n=1000):\n",
    "    print(' '.join(sentence))"
   ]
  },
  {
   "cell_type": "code",
   "execution_count": 57,
   "metadata": {},
   "outputs": [
    {
     "name": "stdout",
     "output_type": "stream",
     "text": [
      "était soupçonné |backward|trigger|uncertain|30|Group[1149]|Clement\n",
      "était soupçonné _e |backward|trigger|uncertain|30|Group[1149]|Clement\n",
      "était flairé |backward|trigger|uncertain|30|Group[1149]|Clement\n",
      "était flairé _e |backward|trigger|uncertain|30|Group[1149]|Clement\n",
      "était pressentié |backward|trigger|uncertain|30|Group[1149]|Clement\n",
      "était pressentié _e |backward|trigger|uncertain|30|Group[1149]|Clement\n",
      "était présumé |backward|trigger|uncertain|30|Group[1149]|Clement\n",
      "était présumé _e |backward|trigger|uncertain|30|Group[1149]|Clement\n",
      "était entrevu |backward|trigger|uncertain|30|Group[1149]|Clement\n",
      "était entrevu _e |backward|trigger|uncertain|30|Group[1149]|Clement\n",
      "était senti |backward|trigger|uncertain|30|Group[1149]|Clement\n",
      "était senti _e |backward|trigger|uncertain|30|Group[1149]|Clement\n",
      "était redouté |backward|trigger|uncertain|30|Group[1149]|Clement\n",
      "était redouté _e |backward|trigger|uncertain|30|Group[1149]|Clement\n",
      "était conjecturé |backward|trigger|uncertain|30|Group[1149]|Clement\n",
      "était conjecturé _e |backward|trigger|uncertain|30|Group[1149]|Clement\n",
      "était imaginé |backward|trigger|uncertain|30|Group[1149]|Clement\n",
      "était imaginé _e |backward|trigger|uncertain|30|Group[1149]|Clement\n",
      "était subodoré |backward|trigger|uncertain|30|Group[1149]|Clement\n",
      "était subodoré _e |backward|trigger|uncertain|30|Group[1149]|Clement\n",
      "était cru |backward|trigger|uncertain|30|Group[1149]|Clement\n",
      "était cru _e |backward|trigger|uncertain|30|Group[1149]|Clement\n"
     ]
    }
   ],
   "source": [
    "from nltk.parse.generate import generate, demo_grammar\n",
    "from nltk import CFG\n",
    "\n",
    "cfg_grammar= \"\"\"\n",
    "S ->  Var1 Var2 Termin Trigger_Rule\n",
    "Var1 -> \"était\"\n",
    "Var2 -> \"soupçonné\" | \"flairé\" | \"pressentié\" | \"présumé\" | \"entrevu\" | \"senti\" | \"redouté\" | \"conjecturé\" | \"imaginé\" | \"subodoré\" | \"cru\"\n",
    "Termin -> |\"_e\"\n",
    "Trigger_Rule -> \"|backward|trigger|uncertain|30|Group[1149]|Clement\"\n",
    "\"\"\"\n",
    "\n",
    "for sentence in generate(CFG.fromstring(cfg_grammar), n=1000):\n",
    "    print(' '.join(sentence))"
   ]
  },
  {
   "cell_type": "code",
   "execution_count": 58,
   "metadata": {},
   "outputs": [
    {
     "name": "stdout",
     "output_type": "stream",
     "text": [
      "étaient soupçonné _s |backward|trigger|uncertain|30|Group[1149]|Clement\n",
      "étaient soupçonné _es |backward|trigger|uncertain|30|Group[1149]|Clement\n",
      "étaient flairé _s |backward|trigger|uncertain|30|Group[1149]|Clement\n",
      "étaient flairé _es |backward|trigger|uncertain|30|Group[1149]|Clement\n",
      "étaient pressentié _s |backward|trigger|uncertain|30|Group[1149]|Clement\n",
      "étaient pressentié _es |backward|trigger|uncertain|30|Group[1149]|Clement\n",
      "étaient présumé _s |backward|trigger|uncertain|30|Group[1149]|Clement\n",
      "étaient présumé _es |backward|trigger|uncertain|30|Group[1149]|Clement\n",
      "étaient entrevu _s |backward|trigger|uncertain|30|Group[1149]|Clement\n",
      "étaient entrevu _es |backward|trigger|uncertain|30|Group[1149]|Clement\n",
      "étaient senti _s |backward|trigger|uncertain|30|Group[1149]|Clement\n",
      "étaient senti _es |backward|trigger|uncertain|30|Group[1149]|Clement\n",
      "étaient redouté _s |backward|trigger|uncertain|30|Group[1149]|Clement\n",
      "étaient redouté _es |backward|trigger|uncertain|30|Group[1149]|Clement\n",
      "étaient conjecturé _s |backward|trigger|uncertain|30|Group[1149]|Clement\n",
      "étaient conjecturé _es |backward|trigger|uncertain|30|Group[1149]|Clement\n",
      "étaient imaginé _s |backward|trigger|uncertain|30|Group[1149]|Clement\n",
      "étaient imaginé _es |backward|trigger|uncertain|30|Group[1149]|Clement\n",
      "étaient subodoré _s |backward|trigger|uncertain|30|Group[1149]|Clement\n",
      "étaient subodoré _es |backward|trigger|uncertain|30|Group[1149]|Clement\n",
      "étaient cru _s |backward|trigger|uncertain|30|Group[1149]|Clement\n",
      "étaient cru _es |backward|trigger|uncertain|30|Group[1149]|Clement\n"
     ]
    }
   ],
   "source": [
    "from nltk.parse.generate import generate, demo_grammar\n",
    "from nltk import CFG\n",
    "\n",
    "cfg_grammar= \"\"\"\n",
    "S ->  Var1 Var2 Termin Trigger_Rule\n",
    "Var1 -> \"étaient\"\n",
    "Var2 -> \"soupçonné\" | \"flairé\" | \"pressentié\" | \"présumé\" | \"entrevu\" | \"senti\" | \"redouté\" | \"conjecturé\" | \"imaginé\" | \"subodoré\" | \"cru\"\n",
    "Termin -> \"_s\" |\"_es\"\n",
    "Trigger_Rule -> \"|backward|trigger|uncertain|30|Group[1149]|Clement\"\n",
    "\"\"\"\n",
    "\n",
    "for sentence in generate(CFG.fromstring(cfg_grammar), n=1000):\n",
    "    print(' '.join(sentence))"
   ]
  },
  {
   "cell_type": "code",
   "execution_count": 59,
   "metadata": {},
   "outputs": [
    {
     "name": "stdout",
     "output_type": "stream",
     "text": [
      "a été instruit |both|termination|historical|30|Group[1152, 1153]|Clement\n",
      "a été instruit |both|termination|nonpatient|30|Group[1152, 1153]|Clement\n",
      "a été instruit _e |both|termination|historical|30|Group[1152, 1153]|Clement\n",
      "a été instruit _e |both|termination|nonpatient|30|Group[1152, 1153]|Clement\n",
      "a été informé |both|termination|historical|30|Group[1152, 1153]|Clement\n",
      "a été informé |both|termination|nonpatient|30|Group[1152, 1153]|Clement\n",
      "a été informé _e |both|termination|historical|30|Group[1152, 1153]|Clement\n",
      "a été informé _e |both|termination|nonpatient|30|Group[1152, 1153]|Clement\n",
      "a été renseigné |both|termination|historical|30|Group[1152, 1153]|Clement\n",
      "a été renseigné |both|termination|nonpatient|30|Group[1152, 1153]|Clement\n",
      "a été renseigné _e |both|termination|historical|30|Group[1152, 1153]|Clement\n",
      "a été renseigné _e |both|termination|nonpatient|30|Group[1152, 1153]|Clement\n",
      "a été examiné |both|termination|historical|30|Group[1152, 1153]|Clement\n",
      "a été examiné |both|termination|nonpatient|30|Group[1152, 1153]|Clement\n",
      "a été examiné _e |both|termination|historical|30|Group[1152, 1153]|Clement\n",
      "a été examiné _e |both|termination|nonpatient|30|Group[1152, 1153]|Clement\n",
      "a été expliqué |both|termination|historical|30|Group[1152, 1153]|Clement\n",
      "a été expliqué |both|termination|nonpatient|30|Group[1152, 1153]|Clement\n",
      "a été expliqué _e |both|termination|historical|30|Group[1152, 1153]|Clement\n",
      "a été expliqué _e |both|termination|nonpatient|30|Group[1152, 1153]|Clement\n",
      "a été montré |both|termination|historical|30|Group[1152, 1153]|Clement\n",
      "a été montré |both|termination|nonpatient|30|Group[1152, 1153]|Clement\n",
      "a été montré _e |both|termination|historical|30|Group[1152, 1153]|Clement\n",
      "a été montré _e |both|termination|nonpatient|30|Group[1152, 1153]|Clement\n",
      "a été soigné |both|termination|historical|30|Group[1152, 1153]|Clement\n",
      "a été soigné |both|termination|nonpatient|30|Group[1152, 1153]|Clement\n",
      "a été soigné _e |both|termination|historical|30|Group[1152, 1153]|Clement\n",
      "a été soigné _e |both|termination|nonpatient|30|Group[1152, 1153]|Clement\n",
      "a été éclairci |both|termination|historical|30|Group[1152, 1153]|Clement\n",
      "a été éclairci |both|termination|nonpatient|30|Group[1152, 1153]|Clement\n",
      "a été éclairci _e |both|termination|historical|30|Group[1152, 1153]|Clement\n",
      "a été éclairci _e |both|termination|nonpatient|30|Group[1152, 1153]|Clement\n",
      "a été expliqué |both|termination|historical|30|Group[1152, 1153]|Clement\n",
      "a été expliqué |both|termination|nonpatient|30|Group[1152, 1153]|Clement\n",
      "a été expliqué _e |both|termination|historical|30|Group[1152, 1153]|Clement\n",
      "a été expliqué _e |both|termination|nonpatient|30|Group[1152, 1153]|Clement\n"
     ]
    }
   ],
   "source": [
    "from nltk.parse.generate import generate, demo_grammar\n",
    "from nltk import CFG\n",
    "\n",
    "cfg_grammar= \"\"\"\n",
    "S ->  Var1 Var2 Var3 Termin Trigger_Rule\n",
    "Var1 -> \"a\"\n",
    "Var2 -> \"été\"\n",
    "Var3 -> \"instruit\" | \"informé\" | \"renseigné\" | \"examiné\" | \"expliqué\" | \"montré\" | \"soigné\" | \"éclairci\" | \"expliqué\"\n",
    "Termin -> |\"_e\"\n",
    "Trigger_Rule -> \"|both|termination|historical|30|Group[1152, 1153]|Clement\"|\"|both|termination|nonpatient|30|Group[1152, 1153]|Clement\"\n",
    "\"\"\"\n",
    "\n",
    "for sentence in generate(CFG.fromstring(cfg_grammar), n=1000):\n",
    "    print(' '.join(sentence))"
   ]
  },
  {
   "cell_type": "code",
   "execution_count": 60,
   "metadata": {},
   "outputs": [
    {
     "name": "stdout",
     "output_type": "stream",
     "text": [
      "ont été instruit _s |both|termination|historical|30|Group[1152, 1153]|Clement\n",
      "ont été instruit _s |both|termination|nonpatient|30|Group[1152, 1153]|Clement\n",
      "ont été instruit _es |both|termination|historical|30|Group[1152, 1153]|Clement\n",
      "ont été instruit _es |both|termination|nonpatient|30|Group[1152, 1153]|Clement\n",
      "ont été informé _s |both|termination|historical|30|Group[1152, 1153]|Clement\n",
      "ont été informé _s |both|termination|nonpatient|30|Group[1152, 1153]|Clement\n",
      "ont été informé _es |both|termination|historical|30|Group[1152, 1153]|Clement\n",
      "ont été informé _es |both|termination|nonpatient|30|Group[1152, 1153]|Clement\n",
      "ont été renseigné _s |both|termination|historical|30|Group[1152, 1153]|Clement\n",
      "ont été renseigné _s |both|termination|nonpatient|30|Group[1152, 1153]|Clement\n",
      "ont été renseigné _es |both|termination|historical|30|Group[1152, 1153]|Clement\n",
      "ont été renseigné _es |both|termination|nonpatient|30|Group[1152, 1153]|Clement\n",
      "ont été examiné _s |both|termination|historical|30|Group[1152, 1153]|Clement\n",
      "ont été examiné _s |both|termination|nonpatient|30|Group[1152, 1153]|Clement\n",
      "ont été examiné _es |both|termination|historical|30|Group[1152, 1153]|Clement\n",
      "ont été examiné _es |both|termination|nonpatient|30|Group[1152, 1153]|Clement\n",
      "ont été expliqué _s |both|termination|historical|30|Group[1152, 1153]|Clement\n",
      "ont été expliqué _s |both|termination|nonpatient|30|Group[1152, 1153]|Clement\n",
      "ont été expliqué _es |both|termination|historical|30|Group[1152, 1153]|Clement\n",
      "ont été expliqué _es |both|termination|nonpatient|30|Group[1152, 1153]|Clement\n",
      "ont été montré _s |both|termination|historical|30|Group[1152, 1153]|Clement\n",
      "ont été montré _s |both|termination|nonpatient|30|Group[1152, 1153]|Clement\n",
      "ont été montré _es |both|termination|historical|30|Group[1152, 1153]|Clement\n",
      "ont été montré _es |both|termination|nonpatient|30|Group[1152, 1153]|Clement\n",
      "ont été soigné _s |both|termination|historical|30|Group[1152, 1153]|Clement\n",
      "ont été soigné _s |both|termination|nonpatient|30|Group[1152, 1153]|Clement\n",
      "ont été soigné _es |both|termination|historical|30|Group[1152, 1153]|Clement\n",
      "ont été soigné _es |both|termination|nonpatient|30|Group[1152, 1153]|Clement\n",
      "ont été éclairci _s |both|termination|historical|30|Group[1152, 1153]|Clement\n",
      "ont été éclairci _s |both|termination|nonpatient|30|Group[1152, 1153]|Clement\n",
      "ont été éclairci _es |both|termination|historical|30|Group[1152, 1153]|Clement\n",
      "ont été éclairci _es |both|termination|nonpatient|30|Group[1152, 1153]|Clement\n",
      "ont été expliqué _s |both|termination|historical|30|Group[1152, 1153]|Clement\n",
      "ont été expliqué _s |both|termination|nonpatient|30|Group[1152, 1153]|Clement\n",
      "ont été expliqué _es |both|termination|historical|30|Group[1152, 1153]|Clement\n",
      "ont été expliqué _es |both|termination|nonpatient|30|Group[1152, 1153]|Clement\n"
     ]
    }
   ],
   "source": [
    "from nltk.parse.generate import generate, demo_grammar\n",
    "from nltk import CFG\n",
    "\n",
    "cfg_grammar= \"\"\"\n",
    "S ->  Var1 Var2 Var3 Termin Trigger_Rule\n",
    "Var1 -> \"ont\"\n",
    "Var2 -> \"été\"\n",
    "Var3 -> \"instruit\" | \"informé\" | \"renseigné\" | \"examiné\" | \"expliqué\" | \"montré\" | \"soigné\" | \"éclairci\" | \"expliqué\"\n",
    "Termin -> \"_s\"|\"_es\"\n",
    "Trigger_Rule -> \"|both|termination|historical|30|Group[1152, 1153]|Clement\"|\"|both|termination|nonpatient|30|Group[1152, 1153]|Clement\"\n",
    "\"\"\"\n",
    "\n",
    "for sentence in generate(CFG.fromstring(cfg_grammar), n=1000):\n",
    "    print(' '.join(sentence))"
   ]
  },
  {
   "cell_type": "code",
   "execution_count": 61,
   "metadata": {},
   "outputs": [
    {
     "name": "stdout",
     "output_type": "stream",
     "text": [
      "ce qui doit être exclu |forward|trigger|uncertain|30|Group[1157]|Clement\n",
      "ce qui doit être refusé |forward|trigger|uncertain|30|Group[1157]|Clement\n",
      "ce qui doit être repoussé |forward|trigger|uncertain|30|Group[1157]|Clement\n",
      "ce qui doit être rejeté |forward|trigger|uncertain|30|Group[1157]|Clement\n",
      "ce qui doit être éliminé |forward|trigger|uncertain|30|Group[1157]|Clement\n",
      "ce qui doit être proscrit |forward|trigger|uncertain|30|Group[1157]|Clement\n"
     ]
    }
   ],
   "source": [
    "from nltk.parse.generate import generate, demo_grammar\n",
    "from nltk import CFG\n",
    "\n",
    "cfg_grammar= \"\"\"\n",
    "S ->  Var1 Var2 Var3 Var4 Var5 Trigger_Rule\n",
    "Var1 -> \"ce\"\n",
    "Var2 -> \"qui\"\n",
    "Var3 -> \"doit\"\n",
    "Var4 -> \"être\"\n",
    "Var5 -> \"exclu\" | \"refusé\" | \"repoussé\" | \"rejeté\" | \"éliminé\" | \"proscrit\"\n",
    "Trigger_Rule -> \"|forward|trigger|uncertain|30|Group[1157]|Clement\"\n",
    "\"\"\"\n",
    "\n",
    "for sentence in generate(CFG.fromstring(cfg_grammar), n=1000):\n",
    "    print(' '.join(sentence))"
   ]
  },
  {
   "cell_type": "code",
   "execution_count": 62,
   "metadata": {},
   "outputs": [
    {
     "name": "stdout",
     "output_type": "stream",
     "text": [
      "si oui ou non |forward|trigger|uncertain|30|Group[1158, 1159]|Clement\n",
      "si oui ou non |forward|pseudo|negated|30|Group[1158, 1159]|Clement\n"
     ]
    }
   ],
   "source": [
    "from nltk.parse.generate import generate, demo_grammar\n",
    "from nltk import CFG\n",
    "\n",
    "cfg_grammar= \"\"\"\n",
    "S ->  Var1 Var2 Var3 Var4 Trigger_Rule\n",
    "Var1 -> \"si\"\n",
    "Var2 -> \"oui\"\n",
    "Var3 -> \"ou\"\n",
    "Var4 -> \"non\"\n",
    "Trigger_Rule -> \"|forward|trigger|uncertain|30|Group[1158, 1159]|Clement\"|\"|forward|pseudo|negated|30|Group[1158, 1159]|Clement\"\n",
    "\"\"\"\n",
    "\n",
    "for sentence in generate(CFG.fromstring(cfg_grammar), n=1000):\n",
    "    print(' '.join(sentence))"
   ]
  },
  {
   "cell_type": "code",
   "execution_count": 63,
   "metadata": {},
   "outputs": [
    {
     "name": "stdout",
     "output_type": "stream",
     "text": [
      "lequel |both|termination|historical|30|Group[1160, 1161]|Clement\n",
      "lequel |both|termination|nonpatient|30|Group[1160, 1161]|Clement\n"
     ]
    }
   ],
   "source": [
    "from nltk.parse.generate import generate, demo_grammar\n",
    "from nltk import CFG\n",
    "\n",
    "cfg_grammar= \"\"\"\n",
    "S ->  Var1 Trigger_Rule\n",
    "Var1 -> \"lequel\"\n",
    "Trigger_Rule -> \"|both|termination|historical|30|Group[1160, 1161]|Clement\"|\"|both|termination|nonpatient|30|Group[1160, 1161]|Clement\"\n",
    "\"\"\"\n",
    "\n",
    "for sentence in generate(CFG.fromstring(cfg_grammar), n=1000):\n",
    "    print(' '.join(sentence))"
   ]
  },
  {
   "cell_type": "code",
   "execution_count": 64,
   "metadata": {},
   "outputs": [
    {
     "name": "stdout",
     "output_type": "stream",
     "text": [
      "tandis que |forward|termination|negated|10|Group[1162]|Clement\n"
     ]
    }
   ],
   "source": [
    "from nltk.parse.generate import generate, demo_grammar\n",
    "from nltk import CFG\n",
    "\n",
    "cfg_grammar= \"\"\"\n",
    "S ->  Var1 Var2 Trigger_Rule\n",
    "Var1 -> \"tandis\"\n",
    "Var2 -> \"que\"\n",
    "Trigger_Rule -> \"|forward|termination|negated|10|Group[1162]|Clement\"\n",
    "\"\"\"\n",
    "\n",
    "for sentence in generate(CFG.fromstring(cfg_grammar), n=1000):\n",
    "    print(' '.join(sentence))"
   ]
  },
  {
   "cell_type": "code",
   "execution_count": 65,
   "metadata": {},
   "outputs": [
    {
     "name": "stdout",
     "output_type": "stream",
     "text": [
      "qui n'est pas présent |forward|termination|negated|10|Group[1163]|Clement\n"
     ]
    }
   ],
   "source": [
    "from nltk.parse.generate import generate, demo_grammar\n",
    "from nltk import CFG\n",
    "\n",
    "cfg_grammar= \"\"\"\n",
    "S ->  Var1 Var2 Var3 Trigger_Rule\n",
    "Var1 -> \"qui\"\n",
    "Var2 -> \"n'est pas\"\n",
    "Var3 -> \"présent\"\n",
    "Trigger_Rule -> \"|forward|termination|negated|10|Group[1163]|Clement\"\n",
    "\"\"\"\n",
    "\n",
    "for sentence in generate(CFG.fromstring(cfg_grammar), n=1000):\n",
    "    print(' '.join(sentence))"
   ]
  },
  {
   "cell_type": "code",
   "execution_count": 66,
   "metadata": {},
   "outputs": [
    {
     "name": "stdout",
     "output_type": "stream",
     "text": [
      "qui ne sont pas présents |forward|termination|negated|10|Group[1163]|Clement\n"
     ]
    }
   ],
   "source": [
    "from nltk.parse.generate import generate, demo_grammar\n",
    "from nltk import CFG\n",
    "\n",
    "cfg_grammar= \"\"\"\n",
    "S ->  Var1 Var2 Var3 Trigger_Rule\n",
    "Var1 -> \"qui\"\n",
    "Var2 -> \"ne sont pas\"\n",
    "Var3 -> \"présents\"\n",
    "Trigger_Rule -> \"|forward|termination|negated|10|Group[1163]|Clement\"\n",
    "\"\"\"\n",
    "\n",
    "for sentence in generate(CFG.fromstring(cfg_grammar), n=1000):\n",
    "    print(' '.join(sentence))"
   ]
  },
  {
   "cell_type": "code",
   "execution_count": 67,
   "metadata": {},
   "outputs": [
    {
     "name": "stdout",
     "output_type": "stream",
     "text": [
      "sera exclu pour |forward|trigger|uncertain|30|Group[1164]|Clement\n",
      "sera refusé pour |forward|trigger|uncertain|30|Group[1164]|Clement\n",
      "sera repoussé pour |forward|trigger|uncertain|30|Group[1164]|Clement\n",
      "sera rejeté pour |forward|trigger|uncertain|30|Group[1164]|Clement\n",
      "sera éliminé pour |forward|trigger|uncertain|30|Group[1164]|Clement\n",
      "sera proscrit pour |forward|trigger|uncertain|30|Group[1164]|Clement\n"
     ]
    }
   ],
   "source": [
    "from nltk.parse.generate import generate, demo_grammar\n",
    "from nltk import CFG\n",
    "\n",
    "cfg_grammar= \"\"\"\n",
    "S ->  Var1 Var2 Var3 Trigger_Rule\n",
    "Var1 -> \"sera\"\n",
    "Var2 -> \"exclu\" | \"refusé\" | \"repoussé\" | \"rejeté\" | \"éliminé\" | \"proscrit\"\n",
    "Var3 -> \"pour\"\n",
    "Trigger_Rule -> \"|forward|trigger|uncertain|30|Group[1164]|Clement\"\n",
    "\"\"\"\n",
    "\n",
    "for sentence in generate(CFG.fromstring(cfg_grammar), n=1000):\n",
    "    print(' '.join(sentence))"
   ]
  },
  {
   "cell_type": "code",
   "execution_count": 68,
   "metadata": {},
   "outputs": [
    {
     "name": "stdout",
     "output_type": "stream",
     "text": [
      "avec \\w+ parent |both|termination|historical|30|Group[1166, 1167]|Clement\n",
      "avec \\w+ parent |both|termination|nonpatient|30|Group[1166, 1167]|Clement\n",
      "avec \\w+ parents |both|termination|historical|30|Group[1166, 1167]|Clement\n",
      "avec \\w+ parents |both|termination|nonpatient|30|Group[1166, 1167]|Clement\n",
      "avec \\w+ père |both|termination|historical|30|Group[1166, 1167]|Clement\n",
      "avec \\w+ père |both|termination|nonpatient|30|Group[1166, 1167]|Clement\n",
      "avec \\w+ beau-père |both|termination|historical|30|Group[1166, 1167]|Clement\n",
      "avec \\w+ beau-père |both|termination|nonpatient|30|Group[1166, 1167]|Clement\n",
      "avec \\w+ mère |both|termination|historical|30|Group[1166, 1167]|Clement\n",
      "avec \\w+ mère |both|termination|nonpatient|30|Group[1166, 1167]|Clement\n",
      "avec \\w+ belle-mère |both|termination|historical|30|Group[1166, 1167]|Clement\n",
      "avec \\w+ belle-mère |both|termination|nonpatient|30|Group[1166, 1167]|Clement\n",
      "avec \\w+ papa |both|termination|historical|30|Group[1166, 1167]|Clement\n",
      "avec \\w+ papa |both|termination|nonpatient|30|Group[1166, 1167]|Clement\n",
      "avec \\w+ maman |both|termination|historical|30|Group[1166, 1167]|Clement\n",
      "avec \\w+ maman |both|termination|nonpatient|30|Group[1166, 1167]|Clement\n",
      "avec \\w+ fils |both|termination|historical|30|Group[1166, 1167]|Clement\n",
      "avec \\w+ fils |both|termination|nonpatient|30|Group[1166, 1167]|Clement\n",
      "avec \\w+ beau-fils |both|termination|historical|30|Group[1166, 1167]|Clement\n",
      "avec \\w+ beau-fils |both|termination|nonpatient|30|Group[1166, 1167]|Clement\n",
      "avec \\w+ garçon |both|termination|historical|30|Group[1166, 1167]|Clement\n",
      "avec \\w+ garçon |both|termination|nonpatient|30|Group[1166, 1167]|Clement\n",
      "avec \\w+ fille |both|termination|historical|30|Group[1166, 1167]|Clement\n",
      "avec \\w+ fille |both|termination|nonpatient|30|Group[1166, 1167]|Clement\n",
      "avec \\w+ belle-fille |both|termination|historical|30|Group[1166, 1167]|Clement\n",
      "avec \\w+ belle-fille |both|termination|nonpatient|30|Group[1166, 1167]|Clement\n",
      "avec \\w+ filles |both|termination|historical|30|Group[1166, 1167]|Clement\n",
      "avec \\w+ filles |both|termination|nonpatient|30|Group[1166, 1167]|Clement\n",
      "avec \\w+ frère |both|termination|historical|30|Group[1166, 1167]|Clement\n",
      "avec \\w+ frère |both|termination|nonpatient|30|Group[1166, 1167]|Clement\n",
      "avec \\w+ frères |both|termination|historical|30|Group[1166, 1167]|Clement\n",
      "avec \\w+ frères |both|termination|nonpatient|30|Group[1166, 1167]|Clement\n",
      "avec \\w+ soeur |both|termination|historical|30|Group[1166, 1167]|Clement\n",
      "avec \\w+ soeur |both|termination|nonpatient|30|Group[1166, 1167]|Clement\n",
      "avec \\w+ soeurs |both|termination|historical|30|Group[1166, 1167]|Clement\n",
      "avec \\w+ soeurs |both|termination|nonpatient|30|Group[1166, 1167]|Clement\n",
      "avec \\w+ sœur |both|termination|historical|30|Group[1166, 1167]|Clement\n",
      "avec \\w+ sœur |both|termination|nonpatient|30|Group[1166, 1167]|Clement\n",
      "avec \\w+ sœurs |both|termination|historical|30|Group[1166, 1167]|Clement\n",
      "avec \\w+ sœurs |both|termination|nonpatient|30|Group[1166, 1167]|Clement\n",
      "avec \\w+ fratrie |both|termination|historical|30|Group[1166, 1167]|Clement\n",
      "avec \\w+ fratrie |both|termination|nonpatient|30|Group[1166, 1167]|Clement\n",
      "avec \\w+ oncle |both|termination|historical|30|Group[1166, 1167]|Clement\n",
      "avec \\w+ oncle |both|termination|nonpatient|30|Group[1166, 1167]|Clement\n",
      "avec \\w+ tonton |both|termination|historical|30|Group[1166, 1167]|Clement\n",
      "avec \\w+ tonton |both|termination|nonpatient|30|Group[1166, 1167]|Clement\n",
      "avec \\w+ oncles |both|termination|historical|30|Group[1166, 1167]|Clement\n",
      "avec \\w+ oncles |both|termination|nonpatient|30|Group[1166, 1167]|Clement\n",
      "avec \\w+ tante |both|termination|historical|30|Group[1166, 1167]|Clement\n",
      "avec \\w+ tante |both|termination|nonpatient|30|Group[1166, 1167]|Clement\n",
      "avec \\w+ tata |both|termination|historical|30|Group[1166, 1167]|Clement\n",
      "avec \\w+ tata |both|termination|nonpatient|30|Group[1166, 1167]|Clement\n",
      "avec \\w+ tantes |both|termination|historical|30|Group[1166, 1167]|Clement\n",
      "avec \\w+ tantes |both|termination|nonpatient|30|Group[1166, 1167]|Clement\n",
      "avec \\w+ grand-mère |both|termination|historical|30|Group[1166, 1167]|Clement\n",
      "avec \\w+ grand-mère |both|termination|nonpatient|30|Group[1166, 1167]|Clement\n",
      "avec \\w+ grand-père |both|termination|historical|30|Group[1166, 1167]|Clement\n",
      "avec \\w+ grand-père |both|termination|nonpatient|30|Group[1166, 1167]|Clement\n",
      "avec \\w+ cousin |both|termination|historical|30|Group[1166, 1167]|Clement\n",
      "avec \\w+ cousin |both|termination|nonpatient|30|Group[1166, 1167]|Clement\n",
      "avec \\w+ cousins |both|termination|historical|30|Group[1166, 1167]|Clement\n",
      "avec \\w+ cousins |both|termination|nonpatient|30|Group[1166, 1167]|Clement\n",
      "avec \\w+ famille |both|termination|historical|30|Group[1166, 1167]|Clement\n",
      "avec \\w+ famille |both|termination|nonpatient|30|Group[1166, 1167]|Clement\n",
      "avec \\w+ colocataire |both|termination|historical|30|Group[1166, 1167]|Clement\n",
      "avec \\w+ colocataire |both|termination|nonpatient|30|Group[1166, 1167]|Clement\n",
      "avec \\w+ colocataires |both|termination|historical|30|Group[1166, 1167]|Clement\n",
      "avec \\w+ colocataires |both|termination|nonpatient|30|Group[1166, 1167]|Clement\n",
      "avec \\w+ voisin |both|termination|historical|30|Group[1166, 1167]|Clement\n",
      "avec \\w+ voisin |both|termination|nonpatient|30|Group[1166, 1167]|Clement\n",
      "avec \\w+ voisins |both|termination|historical|30|Group[1166, 1167]|Clement\n",
      "avec \\w+ voisins |both|termination|nonpatient|30|Group[1166, 1167]|Clement\n"
     ]
    }
   ],
   "source": [
    "from nltk.parse.generate import generate, demo_grammar\n",
    "from nltk import CFG\n",
    "\n",
    "cfg_grammar= \"\"\"\n",
    "S ->  Var1 Var2 Member Trigger_Rule\n",
    "Var1 -> \"avec\"\n",
    "Var2 -> \"\\\\w+\"\n",
    "Member -> \"parent\" | \"parents\" | \"père\" | \"beau-père\" | \"mère\" |\"belle-mère\" | \"papa\" | \"maman\" |\"fils\" | \"beau-fils\" | \"garçon\" | \"fille\" | \"belle-fille\" | \"filles\" | \"frère\"| \"frères\" |\"soeur\" |\"soeurs\" |\"sœur\" |\"sœurs\" | \"fratrie\" | \"oncle\" | \"tonton\"| \"oncles\" |\"tante\" |\"tata\"  |\"tantes\" |\"grand-mère\" | \"grand-père\" |\"cousin\" |\"cousins\" |\"famille\" |\"colocataire\" | \"colocataires\" | \"voisin\" | \"voisins\"\n",
    "Trigger_Rule -> \"|both|termination|historical|30|Group[1166, 1167]|Clement\"|\"|both|termination|nonpatient|30|Group[1166, 1167]|Clement\"\n",
    "\"\"\"\n",
    "\n",
    "for sentence in generate(CFG.fromstring(cfg_grammar), n=1000):\n",
    "    print(' '.join(sentence))"
   ]
  },
  {
   "cell_type": "code",
   "execution_count": 69,
   "metadata": {},
   "outputs": [
    {
     "name": "stdout",
     "output_type": "stream",
     "text": [
      "sans supplément |forward|trigger|negated|10|Group[1181]|Clement\n",
      "sans excédent |forward|trigger|negated|10|Group[1181]|Clement\n",
      "sans appoint |forward|trigger|negated|10|Group[1181]|Clement\n",
      "sans addition |forward|trigger|negated|10|Group[1181]|Clement\n",
      "sans surcroît |forward|trigger|negated|10|Group[1181]|Clement\n",
      "sans extra |forward|trigger|negated|10|Group[1181]|Clement\n",
      "sans surplus |forward|trigger|negated|10|Group[1181]|Clement\n",
      "sans additif |forward|trigger|negated|10|Group[1181]|Clement\n",
      "sans rallonge |forward|trigger|negated|10|Group[1181]|Clement\n",
      "sans ajout |forward|trigger|negated|10|Group[1181]|Clement\n",
      "sans avenant |forward|trigger|negated|10|Group[1181]|Clement\n",
      "sans excès |forward|trigger|negated|10|Group[1181]|Clement\n",
      "sans ajut |forward|trigger|negated|10|Group[1181]|Clement\n",
      "sans adjuvant |forward|trigger|negated|10|Group[1181]|Clement\n"
     ]
    }
   ],
   "source": [
    "from nltk.parse.generate import generate, demo_grammar\n",
    "from nltk import CFG\n",
    "\n",
    "cfg_grammar= \"\"\"\n",
    "S ->  Var1 Var2 Trigger_Rule\n",
    "Var1 -> \"sans\"\n",
    "Var2 -> \"supplément\" | \"excédent\" | \"appoint\" | \"addition\" | \"surcroît\" | \"extra\" | \"surplus\" | \"additif\" | \"rallonge\" | \"ajout\" | \"avenant\" | \"excès\" | \"ajut\" | \"adjuvant\"\n",
    "Trigger_Rule -> \"|forward|trigger|negated|10|Group[1181]|Clement\"\n",
    "\"\"\"\n",
    "\n",
    "for sentence in generate(CFG.fromstring(cfg_grammar), n=1000):\n",
    "    print(' '.join(sentence))"
   ]
  },
  {
   "cell_type": "code",
   "execution_count": 70,
   "metadata": {},
   "outputs": [
    {
     "name": "stdout",
     "output_type": "stream",
     "text": [
      "sans causer |forward|trigger|negated|10|Group[1181]|Clement\n",
      "sans susciter |forward|trigger|negated|10|Group[1181]|Clement\n",
      "sans amener |forward|trigger|negated|10|Group[1181]|Clement\n",
      "sans entraîner |forward|trigger|negated|10|Group[1181]|Clement\n",
      "sans provoquer |forward|trigger|negated|10|Group[1181]|Clement\n",
      "sans occasionner |forward|trigger|negated|10|Group[1181]|Clement\n",
      "sans donner |forward|trigger|negated|10|Group[1181]|Clement\n",
      "sans engendrer |forward|trigger|negated|10|Group[1181]|Clement\n",
      "sans créer |forward|trigger|negated|10|Group[1181]|Clement\n",
      "sans être cause de |forward|trigger|negated|10|Group[1181]|Clement\n",
      "sans déclencher |forward|trigger|negated|10|Group[1181]|Clement\n"
     ]
    }
   ],
   "source": [
    "from nltk.parse.generate import generate, demo_grammar\n",
    "from nltk import CFG\n",
    "\n",
    "cfg_grammar= \"\"\"\n",
    "S ->  Var1 Var2 Trigger_Rule\n",
    "Var1 -> \"sans\"\n",
    "Var2 -> \"causer\" | \"susciter\" | \"amener\" | \"entraîner\" | \"provoquer\" | \"occasionner\" | \"donner\" | \"engendrer\" | \"créer\" | \"être cause de\" | \"déclencher\"\n",
    "Trigger_Rule -> \"|forward|trigger|negated|10|Group[1181]|Clement\"\n",
    "\"\"\"\n",
    "\n",
    "for sentence in generate(CFG.fromstring(cfg_grammar), n=1000):\n",
    "    print(' '.join(sentence))"
   ]
  },
  {
   "cell_type": "code",
   "execution_count": 71,
   "metadata": {},
   "outputs": [
    {
     "name": "stdout",
     "output_type": "stream",
     "text": [
      "sans devenir |forward|trigger|negated|10|Group[1181]|Clement\n",
      "sans rendre |forward|trigger|negated|10|Group[1181]|Clement\n",
      "sans donner |forward|trigger|negated|10|Group[1181]|Clement\n"
     ]
    }
   ],
   "source": [
    "from nltk.parse.generate import generate, demo_grammar\n",
    "from nltk import CFG\n",
    "\n",
    "cfg_grammar= \"\"\"\n",
    "S ->  Var1 Var2 Trigger_Rule\n",
    "Var1 -> \"sans\"\n",
    "Var2 -> \"devenir\" | \"rendre\" | \"donner\"\n",
    "Trigger_Rule -> \"|forward|trigger|negated|10|Group[1181]|Clement\"\n",
    "\"\"\"\n",
    "\n",
    "for sentence in generate(CFG.fromstring(cfg_grammar), n=1000):\n",
    "    print(' '.join(sentence))"
   ]
  },
  {
   "cell_type": "code",
   "execution_count": 72,
   "metadata": {},
   "outputs": [
    {
     "name": "stdout",
     "output_type": "stream",
     "text": [
      "sans être |forward|trigger|negated|10|Group[1181]|Clement\n"
     ]
    }
   ],
   "source": [
    "from nltk.parse.generate import generate, demo_grammar\n",
    "from nltk import CFG\n",
    "\n",
    "cfg_grammar= \"\"\"\n",
    "S ->  Var1 Var2 Trigger_Rule\n",
    "Var1 -> \"sans\"\n",
    "Var2 -> \"être\"\n",
    "Trigger_Rule -> \"|forward|trigger|negated|10|Group[1181]|Clement\"\n",
    "\"\"\"\n",
    "\n",
    "for sentence in generate(CFG.fromstring(cfg_grammar), n=1000):\n",
    "    print(' '.join(sentence))"
   ]
  },
  {
   "cell_type": "code",
   "execution_count": 73,
   "metadata": {},
   "outputs": [
    {
     "name": "stdout",
     "output_type": "stream",
     "text": [
      "sans difficultés |both|pseudo|uncertain|30|Group[1207]|Clement\n",
      "sans mal |both|pseudo|uncertain|30|Group[1207]|Clement\n",
      "sans embarras |both|pseudo|uncertain|30|Group[1207]|Clement\n",
      "sans empêchement |both|pseudo|uncertain|30|Group[1207]|Clement\n",
      "sans obstacle |both|pseudo|uncertain|30|Group[1207]|Clement\n",
      "sans complication |both|pseudo|uncertain|30|Group[1207]|Clement\n",
      "sans problème |both|pseudo|uncertain|30|Group[1207]|Clement\n",
      "sans ennui |both|pseudo|uncertain|30|Group[1207]|Clement\n",
      "sans accroc |both|pseudo|uncertain|30|Group[1207]|Clement\n",
      "sans contrariété |both|pseudo|uncertain|30|Group[1207]|Clement\n",
      "sans résistance |both|pseudo|uncertain|30|Group[1207]|Clement\n",
      "sans complexité |both|pseudo|uncertain|30|Group[1207]|Clement\n",
      "sans tracas |both|pseudo|uncertain|30|Group[1207]|Clement\n",
      "sans objection |both|pseudo|uncertain|30|Group[1207]|Clement\n",
      "sans peine |both|pseudo|uncertain|30|Group[1207]|Clement\n"
     ]
    }
   ],
   "source": [
    "from nltk.parse.generate import generate, demo_grammar\n",
    "from nltk import CFG\n",
    "\n",
    "cfg_grammar= \"\"\"\n",
    "S ->  Var1 Var2 Trigger_Rule\n",
    "Var1 -> \"sans\"\n",
    "Var2 -> \"difficultés\" | \"mal\" | \"embarras\" | \"empêchement\" | \"obstacle\" | \"complication\" | \"problème\" | \"ennui\" | \"accroc\" | \"contrariété\" | \"résistance\" | \"complexité\" | \"tracas\" | \"objection\" | \"peine\"\n",
    "Trigger_Rule -> \"|both|pseudo|uncertain|30|Group[1207]|Clement\"\n",
    "\"\"\"\n",
    "\n",
    "for sentence in generate(CFG.fromstring(cfg_grammar), n=1000):\n",
    "    print(' '.join(sentence))"
   ]
  },
  {
   "cell_type": "code",
   "execution_count": 74,
   "metadata": {},
   "outputs": [
    {
     "name": "stdout",
     "output_type": "stream",
     "text": [
      "sans peine |both|pseudo|uncertain|30|Group[1207, 1208]|Clement\n",
      "sans peine |both|pseudo|negated|10|Group[1207, 1208]|Clement\n",
      "sans tristesse |both|pseudo|uncertain|30|Group[1207, 1208]|Clement\n",
      "sans tristesse |both|pseudo|negated|10|Group[1207, 1208]|Clement\n",
      "sans douleur |both|pseudo|uncertain|30|Group[1207, 1208]|Clement\n",
      "sans douleur |both|pseudo|negated|10|Group[1207, 1208]|Clement\n",
      "sans souffrance |both|pseudo|uncertain|30|Group[1207, 1208]|Clement\n",
      "sans souffrance |both|pseudo|negated|10|Group[1207, 1208]|Clement\n",
      "sans affliction |both|pseudo|uncertain|30|Group[1207, 1208]|Clement\n",
      "sans affliction |both|pseudo|negated|10|Group[1207, 1208]|Clement\n",
      "sans inquiétude |both|pseudo|uncertain|30|Group[1207, 1208]|Clement\n",
      "sans inquiétude |both|pseudo|negated|10|Group[1207, 1208]|Clement\n",
      "sans tourment |both|pseudo|uncertain|30|Group[1207, 1208]|Clement\n",
      "sans tourment |both|pseudo|negated|10|Group[1207, 1208]|Clement\n",
      "sans désolation |both|pseudo|uncertain|30|Group[1207, 1208]|Clement\n",
      "sans désolation |both|pseudo|negated|10|Group[1207, 1208]|Clement\n",
      "sans amertume |both|pseudo|uncertain|30|Group[1207, 1208]|Clement\n",
      "sans amertume |both|pseudo|negated|10|Group[1207, 1208]|Clement\n",
      "sans malheur |both|pseudo|uncertain|30|Group[1207, 1208]|Clement\n",
      "sans malheur |both|pseudo|negated|10|Group[1207, 1208]|Clement\n",
      "sans détresse |both|pseudo|uncertain|30|Group[1207, 1208]|Clement\n",
      "sans détresse |both|pseudo|negated|10|Group[1207, 1208]|Clement\n",
      "sans misère |both|pseudo|uncertain|30|Group[1207, 1208]|Clement\n",
      "sans misère |both|pseudo|negated|10|Group[1207, 1208]|Clement\n",
      "sans difficulté |both|pseudo|uncertain|30|Group[1207, 1208]|Clement\n",
      "sans difficulté |both|pseudo|negated|10|Group[1207, 1208]|Clement\n",
      "sans agonie |both|pseudo|uncertain|30|Group[1207, 1208]|Clement\n",
      "sans agonie |both|pseudo|negated|10|Group[1207, 1208]|Clement\n",
      "sans regret |both|pseudo|uncertain|30|Group[1207, 1208]|Clement\n",
      "sans regret |both|pseudo|negated|10|Group[1207, 1208]|Clement\n"
     ]
    }
   ],
   "source": [
    "from nltk.parse.generate import generate, demo_grammar\n",
    "from nltk import CFG\n",
    "\n",
    "cfg_grammar= \"\"\"\n",
    "S ->  Var1 Var2 Trigger_Rule\n",
    "Var1 -> \"sans\"\n",
    "Var2 -> \"peine\" | \"tristesse\" | \"douleur\" | \"souffrance\" | \"affliction\" | \"inquiétude\" | \"tourment\" | \"désolation\" | \"amertume\" | \"malheur\" | \"détresse\" | \"misère\" | \"difficulté\" | \"agonie\" | \"regret\"\n",
    "Trigger_Rule -> \"|both|pseudo|uncertain|30|Group[1207, 1208]|Clement\"|\"|both|pseudo|negated|10|Group[1207, 1208]|Clement\"\n",
    "\"\"\"\n",
    "\n",
    "for sentence in generate(CFG.fromstring(cfg_grammar), n=1000):\n",
    "    print(' '.join(sentence))"
   ]
  },
  {
   "cell_type": "code",
   "execution_count": 75,
   "metadata": {},
   "outputs": [
    {
     "name": "stdout",
     "output_type": "stream",
     "text": [
      "sans aucun |forward|trigger|negated|10|Group[1243]|Clement\n",
      "sans aucune |forward|trigger|negated|10|Group[1243]|Clement\n",
      "sans nul |forward|trigger|negated|10|Group[1243]|Clement\n",
      "sans nulle |forward|trigger|negated|10|Group[1243]|Clement\n",
      "sans |forward|trigger|negated|10|Group[1243]|Clement\n"
     ]
    }
   ],
   "source": [
    "from nltk.parse.generate import generate, demo_grammar\n",
    "from nltk import CFG\n",
    "\n",
    "cfg_grammar= \"\"\"\n",
    "S ->  Var1 Var2 Trigger_Rule\n",
    "Var1 -> \"sans\"\n",
    "Var2 -> \"aucun\" | \"aucune\" | \"nul\" | \"nulle\" |\n",
    "Trigger_Rule -> \"|forward|trigger|negated|10|Group[1243]|Clement\"\n",
    "\"\"\"\n",
    "\n",
    "for sentence in generate(CFG.fromstring(cfg_grammar), n=1000):\n",
    "    print(' '.join(sentence))"
   ]
  },
  {
   "cell_type": "code",
   "execution_count": 76,
   "metadata": {},
   "outputs": [
    {
     "name": "stdout",
     "output_type": "stream",
     "text": [
      "sans succès |backward|trigger|negated|10|Group[1269, 1270]|Clement\n",
      "sans succès |forward|termination|negated|10|Group[1269, 1270]|Clement\n",
      "sans effet |backward|trigger|negated|10|Group[1269, 1270]|Clement\n",
      "sans effet |forward|termination|negated|10|Group[1269, 1270]|Clement\n",
      "sans résultats |backward|trigger|negated|10|Group[1269, 1270]|Clement\n",
      "sans résultats |forward|termination|negated|10|Group[1269, 1270]|Clement\n",
      "sans aboutissement |backward|trigger|negated|10|Group[1269, 1270]|Clement\n",
      "sans aboutissement |forward|termination|negated|10|Group[1269, 1270]|Clement\n"
     ]
    }
   ],
   "source": [
    "from nltk.parse.generate import generate, demo_grammar\n",
    "from nltk import CFG\n",
    "\n",
    "cfg_grammar= \"\"\"\n",
    "S ->  Var1 Var2 Trigger_Rule\n",
    "Var1 -> \"sans\"\n",
    "Var2 -> \"succès\" | \"effet\" | \"résultats\" | \"aboutissement\"\n",
    "Trigger_Rule -> \"|backward|trigger|negated|10|Group[1269, 1270]|Clement\"|\"|forward|termination|negated|10|Group[1269, 1270]|Clement\"\n",
    "\"\"\"\n",
    "\n",
    "for sentence in generate(CFG.fromstring(cfg_grammar), n=1000):\n",
    "    print(' '.join(sentence))"
   ]
  },
  {
   "cell_type": "code",
   "execution_count": 77,
   "metadata": {},
   "outputs": [
    {
     "name": "stdout",
     "output_type": "stream",
     "text": [
      "sans pour autant |forward|trigger|negated|10|Group[1283]|Clement\n"
     ]
    }
   ],
   "source": [
    "from nltk.parse.generate import generate, demo_grammar\n",
    "from nltk import CFG\n",
    "\n",
    "cfg_grammar= \"\"\"\n",
    "S ->  Var1 Var2 Var3 Trigger_Rule\n",
    "Var1 -> \"sans\"\n",
    "Var2 -> \"pour\"\n",
    "Var3 -> \"autant\"\n",
    "Trigger_Rule -> \"|forward|trigger|negated|10|Group[1283]|Clement\"\n",
    "\"\"\"\n",
    "\n",
    "for sentence in generate(CFG.fromstring(cfg_grammar), n=1000):\n",
    "    print(' '.join(sentence))"
   ]
  },
  {
   "cell_type": "code",
   "execution_count": 78,
   "metadata": {},
   "outputs": [
    {
     "name": "stdout",
     "output_type": "stream",
     "text": [
      "inquiet pour |forward|trigger|uncertain|30|Group[1285]|Clement\n"
     ]
    }
   ],
   "source": [
    "from nltk.parse.generate import generate, demo_grammar\n",
    "from nltk import CFG\n",
    "\n",
    "cfg_grammar= \"\"\"\n",
    "S ->  Var1 Var2 Trigger_Rule\n",
    "Var1 -> \"inquiet\"\n",
    "Var2 -> \"pour\"\n",
    "Trigger_Rule -> \"|forward|trigger|uncertain|30|Group[1285]|Clement\"\n",
    "\"\"\"\n",
    "\n",
    "for sentence in generate(CFG.fromstring(cfg_grammar), n=1000):\n",
    "    print(' '.join(sentence))"
   ]
  },
  {
   "cell_type": "code",
   "execution_count": 85,
   "metadata": {},
   "outputs": [
    {
     "name": "stdout",
     "output_type": "stream",
     "text": [
      "inquiétant |forward|trigger|uncertain|30|Group[1285]|Clement\n",
      "troublant |forward|trigger|uncertain|30|Group[1285]|Clement\n",
      "menaçant |forward|trigger|uncertain|30|Group[1285]|Clement\n",
      "préoccupant |forward|trigger|uncertain|30|Group[1285]|Clement\n"
     ]
    }
   ],
   "source": [
    "from nltk.parse.generate import generate, demo_grammar\n",
    "from nltk import CFG\n",
    "\n",
    "cfg_grammar= \"\"\"\n",
    "S ->  Var1 Trigger_Rule\n",
    "Var1 -> \"inquiétant\" | \"troublant\" | \"menaçant\" | \"préoccupant\"\n",
    "Trigger_Rule -> \"|forward|trigger|uncertain|30|Group[1285]|Clement\"\n",
    "\"\"\"\n",
    "\n",
    "for sentence in generate(CFG.fromstring(cfg_grammar), n=1000):\n",
    "    print(' '.join(sentence))"
   ]
  },
  {
   "cell_type": "code",
   "execution_count": 80,
   "metadata": {},
   "outputs": [
    {
     "name": "stdout",
     "output_type": "stream",
     "text": [
      "donné |forward|termination|uncertain|4|Group[1288, 1289]|Clement\n",
      "donné |forward|termination|conditional|4|Group[1288, 1289]|Clement\n"
     ]
    }
   ],
   "source": [
    "from nltk.parse.generate import generate, demo_grammar\n",
    "from nltk import CFG\n",
    "\n",
    "cfg_grammar= \"\"\"\n",
    "S ->  Var1 Trigger_Rule\n",
    "Var1 -> \"donné\"\n",
    "Trigger_Rule -> \"|forward|termination|uncertain|4|Group[1288, 1289]|Clement\"|\"|forward|termination|conditional|4|Group[1288, 1289]|Clement\"\n",
    "\"\"\"\n",
    "\n",
    "for sentence in generate(CFG.fromstring(cfg_grammar), n=1000):\n",
    "    print(' '.join(sentence))"
   ]
  },
  {
   "cell_type": "code",
   "execution_count": 81,
   "metadata": {},
   "outputs": [
    {
     "name": "stdout",
     "output_type": "stream",
     "text": [
      "négatif |forward|trigger|negated|10|Group[1292]|Clement\n"
     ]
    }
   ],
   "source": [
    "from nltk.parse.generate import generate, demo_grammar\n",
    "from nltk import CFG\n",
    "\n",
    "cfg_grammar= \"\"\"\n",
    "S ->  Var1 Trigger_Rule\n",
    "Var1 -> \"négatif\"\n",
    "Trigger_Rule -> \"|forward|trigger|negated|10|Group[1292]|Clement\"\n",
    "\"\"\"\n",
    "\n",
    "for sentence in generate(CFG.fromstring(cfg_grammar), n=1000):\n",
    "    print(' '.join(sentence))"
   ]
  },
  {
   "cell_type": "code",
   "execution_count": 82,
   "metadata": {},
   "outputs": [
    {
     "name": "stdout",
     "output_type": "stream",
     "text": [
      "risque élevé pour |forward|trigger|negated|20|Group[1317]|Clement\n"
     ]
    }
   ],
   "source": [
    "from nltk.parse.generate import generate, demo_grammar\n",
    "from nltk import CFG\n",
    "\n",
    "cfg_grammar= \"\"\"\n",
    "S ->  Var1 Var2 Var3 Trigger_Rule\n",
    "Var1 -> \"risque\"\n",
    "Var2 -> \"élevé\"\n",
    "Var3 -> \"pour\"\n",
    "Trigger_Rule -> \"|forward|trigger|negated|20|Group[1317]|Clement\"\n",
    "\"\"\"\n",
    "\n",
    "for sentence in generate(CFG.fromstring(cfg_grammar), n=1000):\n",
    "    print(' '.join(sentence))"
   ]
  },
  {
   "cell_type": "code",
   "execution_count": 83,
   "metadata": {},
   "outputs": [
    {
     "name": "stdout",
     "output_type": "stream",
     "text": [
      "à risque de |forward|trigger|negated|20|Group[1318]|Clement\n"
     ]
    }
   ],
   "source": [
    "from nltk.parse.generate import generate, demo_grammar\n",
    "from nltk import CFG\n",
    "\n",
    "cfg_grammar= \"\"\"\n",
    "S ->  Var1 Var2 Var3 Trigger_Rule\n",
    "Var1 -> \"à\"\n",
    "Var2 -> \"risque\" \n",
    "Var3 -> \"de\"\n",
    "Trigger_Rule -> \"|forward|trigger|negated|20|Group[1318]|Clement\"\n",
    "\"\"\"\n",
    "\n",
    "for sentence in generate(CFG.fromstring(cfg_grammar), n=1000):\n",
    "    print(' '.join(sentence))"
   ]
  },
  {
   "cell_type": "code",
   "execution_count": 84,
   "metadata": {},
   "outputs": [
    {
     "name": "stdout",
     "output_type": "stream",
     "text": [
      "surveillé pour |forward|trigger|conditional|30|Group[1320]|Clement\n",
      "examiné pour |forward|trigger|conditional|30|Group[1320]|Clement\n",
      "suivi pour |forward|trigger|conditional|30|Group[1320]|Clement\n"
     ]
    }
   ],
   "source": [
    "from nltk.parse.generate import generate, demo_grammar\n",
    "from nltk import CFG\n",
    "\n",
    "cfg_grammar= \"\"\"\n",
    "S ->  Var1 Var2 Trigger_Rule\n",
    "Var1 -> \"surveillé\" | \"examiné\" | \"suivi\"\n",
    "Var2 -> \"pour\"\n",
    "Trigger_Rule -> \"|forward|trigger|conditional|30|Group[1320]|Clement\"\n",
    "\"\"\"\n",
    "\n",
    "for sentence in generate(CFG.fromstring(cfg_grammar), n=1000):\n",
    "    print(' '.join(sentence))"
   ]
  }
 ],
 "metadata": {
  "file_extension": ".py",
  "kernelspec": {
   "display_name": "Python 3",
   "language": "python",
   "name": "python3"
  },
  "language_info": {
   "codemirror_mode": {
    "name": "ipython",
    "version": 3
   },
   "file_extension": ".py",
   "mimetype": "text/x-python",
   "name": "python",
   "nbconvert_exporter": "python",
   "pygments_lexer": "ipython3",
   "version": "3.7.2"
  },
  "mimetype": "text/x-python",
  "name": "python",
  "nbconvert_exporter": "python",
  "pygments_lexer": "ipython3",
  "version": "3.7.2"
 },
 "nbformat": 4,
 "nbformat_minor": 2
}
