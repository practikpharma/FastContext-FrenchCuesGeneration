{
 "cells": [
  {
   "cell_type": "code",
   "execution_count": 1,
   "metadata": {},
   "outputs": [
    {
     "name": "stdout",
     "output_type": "stream",
     "text": [
      "a eu |forward|termination|negated|10|Group[429]|Clement\n",
      "ait eu |forward|termination|negated|10|Group[429]|Clement\n",
      "avait eu |forward|termination|negated|10|Group[429]|Clement\n"
     ]
    }
   ],
   "source": [
    "from nltk.parse.generate import generate, demo_grammar\n",
    "from nltk import CFG\n",
    "\n",
    "cfg_grammar= \"\"\"\n",
    "S ->  Var1 Var2 Trigger_Rule\n",
    "Var1 -> \"a\" | \"ait\"| \"avait\"\n",
    "Var2 -> \"eu\"\n",
    "Trigger_Rule -> \"|forward|termination|negated|10|Group[429]|Clement\"\n",
    "\"\"\"\n",
    "\n",
    "for sentence in generate(CFG.fromstring(cfg_grammar), n=1000):\n",
    "    print(' '.join(sentence))"
   ]
  },
  {
   "cell_type": "code",
   "execution_count": 2,
   "metadata": {},
   "outputs": [
    {
     "name": "stdout",
     "output_type": "stream",
     "text": [
      "n'a aucun |forward|trigger|negated|10|Group[430]|Clement\n",
      "n'a aucune |forward|trigger|negated|10|Group[430]|Clement\n",
      "n'a nul |forward|trigger|negated|10|Group[430]|Clement\n",
      "n'a nulle |forward|trigger|negated|10|Group[430]|Clement\n",
      "n'a eu aucun |forward|trigger|negated|10|Group[430]|Clement\n",
      "n'a eu aucune |forward|trigger|negated|10|Group[430]|Clement\n",
      "n'a eu nul |forward|trigger|negated|10|Group[430]|Clement\n",
      "n'a eu nulle |forward|trigger|negated|10|Group[430]|Clement\n",
      "n'ait aucun |forward|trigger|negated|10|Group[430]|Clement\n",
      "n'ait aucune |forward|trigger|negated|10|Group[430]|Clement\n",
      "n'ait nul |forward|trigger|negated|10|Group[430]|Clement\n",
      "n'ait nulle |forward|trigger|negated|10|Group[430]|Clement\n",
      "n'ait eu aucun |forward|trigger|negated|10|Group[430]|Clement\n",
      "n'ait eu aucune |forward|trigger|negated|10|Group[430]|Clement\n",
      "n'ait eu nul |forward|trigger|negated|10|Group[430]|Clement\n",
      "n'ait eu nulle |forward|trigger|negated|10|Group[430]|Clement\n",
      "n'avait aucun |forward|trigger|negated|10|Group[430]|Clement\n",
      "n'avait aucune |forward|trigger|negated|10|Group[430]|Clement\n",
      "n'avait nul |forward|trigger|negated|10|Group[430]|Clement\n",
      "n'avait nulle |forward|trigger|negated|10|Group[430]|Clement\n",
      "n'avait eu aucun |forward|trigger|negated|10|Group[430]|Clement\n",
      "n'avait eu aucune |forward|trigger|negated|10|Group[430]|Clement\n",
      "n'avait eu nul |forward|trigger|negated|10|Group[430]|Clement\n",
      "n'avait eu nulle |forward|trigger|negated|10|Group[430]|Clement\n",
      "n'y avait aucun |forward|trigger|negated|10|Group[430]|Clement\n",
      "n'y avait aucune |forward|trigger|negated|10|Group[430]|Clement\n",
      "n'y avait nul |forward|trigger|negated|10|Group[430]|Clement\n",
      "n'y avait nulle |forward|trigger|negated|10|Group[430]|Clement\n",
      "n'y avait eu aucun |forward|trigger|negated|10|Group[430]|Clement\n",
      "n'y avait eu aucune |forward|trigger|negated|10|Group[430]|Clement\n",
      "n'y avait eu nul |forward|trigger|negated|10|Group[430]|Clement\n",
      "n'y avait eu nulle |forward|trigger|negated|10|Group[430]|Clement\n",
      "n'y ait aucun |forward|trigger|negated|10|Group[430]|Clement\n",
      "n'y ait aucune |forward|trigger|negated|10|Group[430]|Clement\n",
      "n'y ait nul |forward|trigger|negated|10|Group[430]|Clement\n",
      "n'y ait nulle |forward|trigger|negated|10|Group[430]|Clement\n",
      "n'y ait eu aucun |forward|trigger|negated|10|Group[430]|Clement\n",
      "n'y ait eu aucune |forward|trigger|negated|10|Group[430]|Clement\n",
      "n'y ait eu nul |forward|trigger|negated|10|Group[430]|Clement\n",
      "n'y ait eu nulle |forward|trigger|negated|10|Group[430]|Clement\n",
      "n'y en ait aucun |forward|trigger|negated|10|Group[430]|Clement\n",
      "n'y en ait aucune |forward|trigger|negated|10|Group[430]|Clement\n",
      "n'y en ait nul |forward|trigger|negated|10|Group[430]|Clement\n",
      "n'y en ait nulle |forward|trigger|negated|10|Group[430]|Clement\n",
      "n'y en ait eu aucun |forward|trigger|negated|10|Group[430]|Clement\n",
      "n'y en ait eu aucune |forward|trigger|negated|10|Group[430]|Clement\n",
      "n'y en ait eu nul |forward|trigger|negated|10|Group[430]|Clement\n",
      "n'y en ait eu nulle |forward|trigger|negated|10|Group[430]|Clement\n"
     ]
    }
   ],
   "source": [
    "from nltk.parse.generate import generate, demo_grammar\n",
    "from nltk import CFG\n",
    "\n",
    "cfg_grammar= \"\"\"\n",
    "S ->   Var1 Var2 Var3 Trigger_Rule\n",
    "Var1 -> \"n'a\"| \"n'ait\"| \"n'avait\"| \"n'y avait\" |\"n'y ait\" |\"n'y en ait\"\n",
    "Var2 -> | \"eu\" \n",
    "Var3 -> \"aucun\" | \"aucune\" | \"nul\" | \"nulle\"\n",
    "Trigger_Rule -> \"|forward|trigger|negated|10|Group[430]|Clement\"\n",
    "\"\"\"\n",
    "\n",
    "for sentence in generate(CFG.fromstring(cfg_grammar), n=1000):\n",
    "    print(' '.join(sentence))"
   ]
  },
  {
   "cell_type": "code",
   "execution_count": 3,
   "metadata": {},
   "outputs": [
    {
     "name": "stdout",
     "output_type": "stream",
     "text": [
      "n'a plus d'épisodes |forward|trigger|negated|10|Group[432]|Clement\n",
      "n'a plus fait |forward|trigger|negated|10|Group[432]|Clement\n",
      "n'a plus d'histoire |forward|trigger|negated|10|Group[432]|Clement\n",
      "n'a plus de phase |forward|trigger|negated|10|Group[432]|Clement\n",
      "n'a plus d'accident |forward|trigger|negated|10|Group[432]|Clement\n"
     ]
    }
   ],
   "source": [
    "from nltk.parse.generate import generate, demo_grammar\n",
    "from nltk import CFG\n",
    "\n",
    "cfg_grammar= \"\"\"\n",
    "S -> Var1 Var2 Var3  Trigger_Rule\n",
    "Var1 -> \"n'a\"\n",
    "Var2 -> \"plus\"\n",
    "Var3 -> \"d'épisodes\" | \"fait\" | \"d'histoire\" | \"de phase\" | \"d'accident\"\n",
    "Trigger_Rule -> \"|forward|trigger|negated|10|Group[432]|Clement\"\n",
    "\"\"\"\n",
    "\n",
    "for sentence in generate(CFG.fromstring(cfg_grammar), n=1000):\n",
    "    print(' '.join(sentence))"
   ]
  },
  {
   "cell_type": "code",
   "execution_count": 4,
   "metadata": {},
   "outputs": [
    {
     "name": "stdout",
     "output_type": "stream",
     "text": [
      "n'a pas eu de |forward|trigger|negated|10|Group[434]|Clement\n",
      "n'a pas   de |forward|trigger|negated|10|Group[434]|Clement\n",
      "n'ait pas eu de |forward|trigger|negated|10|Group[434]|Clement\n",
      "n'ait pas   de |forward|trigger|negated|10|Group[434]|Clement\n",
      "n'avait pas eu de |forward|trigger|negated|10|Group[434]|Clement\n",
      "n'avait pas   de |forward|trigger|negated|10|Group[434]|Clement\n",
      "n'y avait pas eu de |forward|trigger|negated|10|Group[434]|Clement\n",
      "n'y avait pas   de |forward|trigger|negated|10|Group[434]|Clement\n",
      "n'y ait pas eu de |forward|trigger|negated|10|Group[434]|Clement\n",
      "n'y ait pas   de |forward|trigger|negated|10|Group[434]|Clement\n"
     ]
    }
   ],
   "source": [
    "from nltk.parse.generate import generate, demo_grammar\n",
    "from nltk import CFG\n",
    "\n",
    "cfg_grammar= \"\"\"\n",
    "S -> Var1 Var2 Var3 Var4 Trigger_Rule\n",
    "Var1 -> \"n'a\"| \"n'ait\"| \"n'avait\"| \"n'y avait\" |\"n'y ait\"\n",
    "Var2 -> \"pas\"\n",
    "Var3 -> \"eu\" | \" \"\n",
    "Var4 -> \"de\"\n",
    "Trigger_Rule -> \"|forward|trigger|negated|10|Group[434]|Clement\"\n",
    "\"\"\"\n",
    "\n",
    "for sentence in generate(CFG.fromstring(cfg_grammar), n=1000):\n",
    "    print(' '.join(sentence))"
   ]
  },
  {
   "cell_type": "code",
   "execution_count": 5,
   "metadata": {},
   "outputs": [
    {
     "name": "stdout",
     "output_type": "stream",
     "text": [
      "n'a pas eu de problème avec |forward|trigger|negated|10|Group[434]|Clement\n",
      "n'a pas eu d'ennui avec |forward|trigger|negated|10|Group[434]|Clement\n",
      "n'a pas eu de souci avec |forward|trigger|negated|10|Group[434]|Clement\n",
      "n'a pas eu de complication avec |forward|trigger|negated|10|Group[434]|Clement\n",
      "n'a pas eu de dysfonctionnement avec |forward|trigger|negated|10|Group[434]|Clement\n",
      "n'a pas eu de disfonctionnement avec |forward|trigger|negated|10|Group[434]|Clement\n",
      "n'a pas eu de soucis avec |forward|trigger|negated|10|Group[434]|Clement\n",
      "n'a pas eu de tracas avec |forward|trigger|negated|10|Group[434]|Clement\n",
      "n'a pas eu d'incident avec |forward|trigger|negated|10|Group[434]|Clement\n",
      "n'a pas eu de couac avec |forward|trigger|negated|10|Group[434]|Clement\n"
     ]
    }
   ],
   "source": [
    "from nltk.parse.generate import generate, demo_grammar\n",
    "from nltk import CFG\n",
    "\n",
    "cfg_grammar= \"\"\"\n",
    "S -> Var1 Var2 Var3 Var4 Var5 Trigger_Rule\n",
    "Var1 -> \"n'a\"\n",
    "Var2 -> \"pas\"\n",
    "Var3 -> \"eu\"\n",
    "Var4 -> \"de problème\" | \"d'ennui\" | \"de souci\" | \"de complication\" | \"de dysfonctionnement\" | \"de disfonctionnement\" | \"de soucis\" | \"de tracas\"  | \"d'incident\" | \"de couac\"\n",
    "Var5 -> \"avec\"\n",
    "Trigger_Rule -> \"|forward|trigger|negated|10|Group[434]|Clement\"\n",
    "\"\"\"\n",
    "\n",
    "for sentence in generate(CFG.fromstring(cfg_grammar), n=1000):\n",
    "    print(' '.join(sentence))"
   ]
  },
  {
   "cell_type": "code",
   "execution_count": 6,
   "metadata": {},
   "outputs": [
    {
     "name": "stdout",
     "output_type": "stream",
     "text": [
      "n'a signalé aucun |forward|trigger|negated|10|Group[434]|Clement\n",
      "n'a signalé aucune |forward|trigger|negated|10|Group[434]|Clement\n",
      "n'a signalé nul |forward|trigger|negated|10|Group[434]|Clement\n",
      "n'a signalé nulle |forward|trigger|negated|10|Group[434]|Clement\n",
      "n'a indiqué aucun |forward|trigger|negated|10|Group[434]|Clement\n",
      "n'a indiqué aucune |forward|trigger|negated|10|Group[434]|Clement\n",
      "n'a indiqué nul |forward|trigger|negated|10|Group[434]|Clement\n",
      "n'a indiqué nulle |forward|trigger|negated|10|Group[434]|Clement\n",
      "n'a notifié aucun |forward|trigger|negated|10|Group[434]|Clement\n",
      "n'a notifié aucune |forward|trigger|negated|10|Group[434]|Clement\n",
      "n'a notifié nul |forward|trigger|negated|10|Group[434]|Clement\n",
      "n'a notifié nulle |forward|trigger|negated|10|Group[434]|Clement\n",
      "n'a découvert aucun |forward|trigger|negated|10|Group[434]|Clement\n",
      "n'a découvert aucune |forward|trigger|negated|10|Group[434]|Clement\n",
      "n'a découvert nul |forward|trigger|negated|10|Group[434]|Clement\n",
      "n'a découvert nulle |forward|trigger|negated|10|Group[434]|Clement\n",
      "n'a montré aucun |forward|trigger|negated|10|Group[434]|Clement\n",
      "n'a montré aucune |forward|trigger|negated|10|Group[434]|Clement\n",
      "n'a montré nul |forward|trigger|negated|10|Group[434]|Clement\n",
      "n'a montré nulle |forward|trigger|negated|10|Group[434]|Clement\n",
      "n'a dévoilé aucun |forward|trigger|negated|10|Group[434]|Clement\n",
      "n'a dévoilé aucune |forward|trigger|negated|10|Group[434]|Clement\n",
      "n'a dévoilé nul |forward|trigger|negated|10|Group[434]|Clement\n",
      "n'a dévoilé nulle |forward|trigger|negated|10|Group[434]|Clement\n",
      "n'a souligné aucun |forward|trigger|negated|10|Group[434]|Clement\n",
      "n'a souligné aucune |forward|trigger|negated|10|Group[434]|Clement\n",
      "n'a souligné nul |forward|trigger|negated|10|Group[434]|Clement\n",
      "n'a souligné nulle |forward|trigger|negated|10|Group[434]|Clement\n",
      "n'a informé d' aucun |forward|trigger|negated|10|Group[434]|Clement\n",
      "n'a informé d' aucune |forward|trigger|negated|10|Group[434]|Clement\n",
      "n'a informé d' nul |forward|trigger|negated|10|Group[434]|Clement\n",
      "n'a informé d' nulle |forward|trigger|negated|10|Group[434]|Clement\n",
      "n'a révélé aucun |forward|trigger|negated|10|Group[434]|Clement\n",
      "n'a révélé aucune |forward|trigger|negated|10|Group[434]|Clement\n",
      "n'a révélé nul |forward|trigger|negated|10|Group[434]|Clement\n",
      "n'a révélé nulle |forward|trigger|negated|10|Group[434]|Clement\n",
      "n'a signifié aucun |forward|trigger|negated|10|Group[434]|Clement\n",
      "n'a signifié aucune |forward|trigger|negated|10|Group[434]|Clement\n",
      "n'a signifié nul |forward|trigger|negated|10|Group[434]|Clement\n",
      "n'a signifié nulle |forward|trigger|negated|10|Group[434]|Clement\n",
      "n'a déclaré aucun |forward|trigger|negated|10|Group[434]|Clement\n",
      "n'a déclaré aucune |forward|trigger|negated|10|Group[434]|Clement\n",
      "n'a déclaré nul |forward|trigger|negated|10|Group[434]|Clement\n",
      "n'a déclaré nulle |forward|trigger|negated|10|Group[434]|Clement\n",
      "n'a averti d' aucun |forward|trigger|negated|10|Group[434]|Clement\n",
      "n'a averti d' aucune |forward|trigger|negated|10|Group[434]|Clement\n",
      "n'a averti d' nul |forward|trigger|negated|10|Group[434]|Clement\n",
      "n'a averti d' nulle |forward|trigger|negated|10|Group[434]|Clement\n",
      "n'a rapporté aucun |forward|trigger|negated|10|Group[434]|Clement\n",
      "n'a rapporté aucune |forward|trigger|negated|10|Group[434]|Clement\n",
      "n'a rapporté nul |forward|trigger|negated|10|Group[434]|Clement\n",
      "n'a rapporté nulle |forward|trigger|negated|10|Group[434]|Clement\n",
      "n'a témoigné aucun |forward|trigger|negated|10|Group[434]|Clement\n",
      "n'a témoigné aucune |forward|trigger|negated|10|Group[434]|Clement\n",
      "n'a témoigné nul |forward|trigger|negated|10|Group[434]|Clement\n",
      "n'a témoigné nulle |forward|trigger|negated|10|Group[434]|Clement\n",
      "n'a alerté d' aucun |forward|trigger|negated|10|Group[434]|Clement\n",
      "n'a alerté d' aucune |forward|trigger|negated|10|Group[434]|Clement\n",
      "n'a alerté d' nul |forward|trigger|negated|10|Group[434]|Clement\n",
      "n'a alerté d' nulle |forward|trigger|negated|10|Group[434]|Clement\n",
      "n'ait signalé aucun |forward|trigger|negated|10|Group[434]|Clement\n",
      "n'ait signalé aucune |forward|trigger|negated|10|Group[434]|Clement\n",
      "n'ait signalé nul |forward|trigger|negated|10|Group[434]|Clement\n",
      "n'ait signalé nulle |forward|trigger|negated|10|Group[434]|Clement\n",
      "n'ait indiqué aucun |forward|trigger|negated|10|Group[434]|Clement\n",
      "n'ait indiqué aucune |forward|trigger|negated|10|Group[434]|Clement\n",
      "n'ait indiqué nul |forward|trigger|negated|10|Group[434]|Clement\n",
      "n'ait indiqué nulle |forward|trigger|negated|10|Group[434]|Clement\n",
      "n'ait notifié aucun |forward|trigger|negated|10|Group[434]|Clement\n",
      "n'ait notifié aucune |forward|trigger|negated|10|Group[434]|Clement\n",
      "n'ait notifié nul |forward|trigger|negated|10|Group[434]|Clement\n",
      "n'ait notifié nulle |forward|trigger|negated|10|Group[434]|Clement\n",
      "n'ait découvert aucun |forward|trigger|negated|10|Group[434]|Clement\n",
      "n'ait découvert aucune |forward|trigger|negated|10|Group[434]|Clement\n",
      "n'ait découvert nul |forward|trigger|negated|10|Group[434]|Clement\n",
      "n'ait découvert nulle |forward|trigger|negated|10|Group[434]|Clement\n",
      "n'ait montré aucun |forward|trigger|negated|10|Group[434]|Clement\n",
      "n'ait montré aucune |forward|trigger|negated|10|Group[434]|Clement\n",
      "n'ait montré nul |forward|trigger|negated|10|Group[434]|Clement\n",
      "n'ait montré nulle |forward|trigger|negated|10|Group[434]|Clement\n",
      "n'ait dévoilé aucun |forward|trigger|negated|10|Group[434]|Clement\n",
      "n'ait dévoilé aucune |forward|trigger|negated|10|Group[434]|Clement\n",
      "n'ait dévoilé nul |forward|trigger|negated|10|Group[434]|Clement\n",
      "n'ait dévoilé nulle |forward|trigger|negated|10|Group[434]|Clement\n",
      "n'ait souligné aucun |forward|trigger|negated|10|Group[434]|Clement\n",
      "n'ait souligné aucune |forward|trigger|negated|10|Group[434]|Clement\n",
      "n'ait souligné nul |forward|trigger|negated|10|Group[434]|Clement\n",
      "n'ait souligné nulle |forward|trigger|negated|10|Group[434]|Clement\n",
      "n'ait informé d' aucun |forward|trigger|negated|10|Group[434]|Clement\n",
      "n'ait informé d' aucune |forward|trigger|negated|10|Group[434]|Clement\n",
      "n'ait informé d' nul |forward|trigger|negated|10|Group[434]|Clement\n",
      "n'ait informé d' nulle |forward|trigger|negated|10|Group[434]|Clement\n",
      "n'ait révélé aucun |forward|trigger|negated|10|Group[434]|Clement\n",
      "n'ait révélé aucune |forward|trigger|negated|10|Group[434]|Clement\n",
      "n'ait révélé nul |forward|trigger|negated|10|Group[434]|Clement\n",
      "n'ait révélé nulle |forward|trigger|negated|10|Group[434]|Clement\n",
      "n'ait signifié aucun |forward|trigger|negated|10|Group[434]|Clement\n",
      "n'ait signifié aucune |forward|trigger|negated|10|Group[434]|Clement\n",
      "n'ait signifié nul |forward|trigger|negated|10|Group[434]|Clement\n",
      "n'ait signifié nulle |forward|trigger|negated|10|Group[434]|Clement\n",
      "n'ait déclaré aucun |forward|trigger|negated|10|Group[434]|Clement\n",
      "n'ait déclaré aucune |forward|trigger|negated|10|Group[434]|Clement\n",
      "n'ait déclaré nul |forward|trigger|negated|10|Group[434]|Clement\n",
      "n'ait déclaré nulle |forward|trigger|negated|10|Group[434]|Clement\n",
      "n'ait averti d' aucun |forward|trigger|negated|10|Group[434]|Clement\n",
      "n'ait averti d' aucune |forward|trigger|negated|10|Group[434]|Clement\n",
      "n'ait averti d' nul |forward|trigger|negated|10|Group[434]|Clement\n",
      "n'ait averti d' nulle |forward|trigger|negated|10|Group[434]|Clement\n",
      "n'ait rapporté aucun |forward|trigger|negated|10|Group[434]|Clement\n",
      "n'ait rapporté aucune |forward|trigger|negated|10|Group[434]|Clement\n",
      "n'ait rapporté nul |forward|trigger|negated|10|Group[434]|Clement\n",
      "n'ait rapporté nulle |forward|trigger|negated|10|Group[434]|Clement\n",
      "n'ait témoigné aucun |forward|trigger|negated|10|Group[434]|Clement\n",
      "n'ait témoigné aucune |forward|trigger|negated|10|Group[434]|Clement\n",
      "n'ait témoigné nul |forward|trigger|negated|10|Group[434]|Clement\n",
      "n'ait témoigné nulle |forward|trigger|negated|10|Group[434]|Clement\n",
      "n'ait alerté d' aucun |forward|trigger|negated|10|Group[434]|Clement\n",
      "n'ait alerté d' aucune |forward|trigger|negated|10|Group[434]|Clement\n",
      "n'ait alerté d' nul |forward|trigger|negated|10|Group[434]|Clement\n",
      "n'ait alerté d' nulle |forward|trigger|negated|10|Group[434]|Clement\n",
      "n'avait signalé aucun |forward|trigger|negated|10|Group[434]|Clement\n",
      "n'avait signalé aucune |forward|trigger|negated|10|Group[434]|Clement\n",
      "n'avait signalé nul |forward|trigger|negated|10|Group[434]|Clement\n",
      "n'avait signalé nulle |forward|trigger|negated|10|Group[434]|Clement\n",
      "n'avait indiqué aucun |forward|trigger|negated|10|Group[434]|Clement\n",
      "n'avait indiqué aucune |forward|trigger|negated|10|Group[434]|Clement\n",
      "n'avait indiqué nul |forward|trigger|negated|10|Group[434]|Clement\n",
      "n'avait indiqué nulle |forward|trigger|negated|10|Group[434]|Clement\n",
      "n'avait notifié aucun |forward|trigger|negated|10|Group[434]|Clement\n",
      "n'avait notifié aucune |forward|trigger|negated|10|Group[434]|Clement\n",
      "n'avait notifié nul |forward|trigger|negated|10|Group[434]|Clement\n",
      "n'avait notifié nulle |forward|trigger|negated|10|Group[434]|Clement\n",
      "n'avait découvert aucun |forward|trigger|negated|10|Group[434]|Clement\n",
      "n'avait découvert aucune |forward|trigger|negated|10|Group[434]|Clement\n",
      "n'avait découvert nul |forward|trigger|negated|10|Group[434]|Clement\n",
      "n'avait découvert nulle |forward|trigger|negated|10|Group[434]|Clement\n",
      "n'avait montré aucun |forward|trigger|negated|10|Group[434]|Clement\n",
      "n'avait montré aucune |forward|trigger|negated|10|Group[434]|Clement\n",
      "n'avait montré nul |forward|trigger|negated|10|Group[434]|Clement\n",
      "n'avait montré nulle |forward|trigger|negated|10|Group[434]|Clement\n",
      "n'avait dévoilé aucun |forward|trigger|negated|10|Group[434]|Clement\n",
      "n'avait dévoilé aucune |forward|trigger|negated|10|Group[434]|Clement\n",
      "n'avait dévoilé nul |forward|trigger|negated|10|Group[434]|Clement\n",
      "n'avait dévoilé nulle |forward|trigger|negated|10|Group[434]|Clement\n",
      "n'avait souligné aucun |forward|trigger|negated|10|Group[434]|Clement\n",
      "n'avait souligné aucune |forward|trigger|negated|10|Group[434]|Clement\n",
      "n'avait souligné nul |forward|trigger|negated|10|Group[434]|Clement\n",
      "n'avait souligné nulle |forward|trigger|negated|10|Group[434]|Clement\n",
      "n'avait informé d' aucun |forward|trigger|negated|10|Group[434]|Clement\n",
      "n'avait informé d' aucune |forward|trigger|negated|10|Group[434]|Clement\n",
      "n'avait informé d' nul |forward|trigger|negated|10|Group[434]|Clement\n",
      "n'avait informé d' nulle |forward|trigger|negated|10|Group[434]|Clement\n",
      "n'avait révélé aucun |forward|trigger|negated|10|Group[434]|Clement\n",
      "n'avait révélé aucune |forward|trigger|negated|10|Group[434]|Clement\n",
      "n'avait révélé nul |forward|trigger|negated|10|Group[434]|Clement\n",
      "n'avait révélé nulle |forward|trigger|negated|10|Group[434]|Clement\n",
      "n'avait signifié aucun |forward|trigger|negated|10|Group[434]|Clement\n",
      "n'avait signifié aucune |forward|trigger|negated|10|Group[434]|Clement\n",
      "n'avait signifié nul |forward|trigger|negated|10|Group[434]|Clement\n",
      "n'avait signifié nulle |forward|trigger|negated|10|Group[434]|Clement\n",
      "n'avait déclaré aucun |forward|trigger|negated|10|Group[434]|Clement\n",
      "n'avait déclaré aucune |forward|trigger|negated|10|Group[434]|Clement\n",
      "n'avait déclaré nul |forward|trigger|negated|10|Group[434]|Clement\n",
      "n'avait déclaré nulle |forward|trigger|negated|10|Group[434]|Clement\n",
      "n'avait averti d' aucun |forward|trigger|negated|10|Group[434]|Clement\n",
      "n'avait averti d' aucune |forward|trigger|negated|10|Group[434]|Clement\n",
      "n'avait averti d' nul |forward|trigger|negated|10|Group[434]|Clement\n",
      "n'avait averti d' nulle |forward|trigger|negated|10|Group[434]|Clement\n",
      "n'avait rapporté aucun |forward|trigger|negated|10|Group[434]|Clement\n",
      "n'avait rapporté aucune |forward|trigger|negated|10|Group[434]|Clement\n",
      "n'avait rapporté nul |forward|trigger|negated|10|Group[434]|Clement\n",
      "n'avait rapporté nulle |forward|trigger|negated|10|Group[434]|Clement\n",
      "n'avait témoigné aucun |forward|trigger|negated|10|Group[434]|Clement\n",
      "n'avait témoigné aucune |forward|trigger|negated|10|Group[434]|Clement\n",
      "n'avait témoigné nul |forward|trigger|negated|10|Group[434]|Clement\n",
      "n'avait témoigné nulle |forward|trigger|negated|10|Group[434]|Clement\n",
      "n'avait alerté d' aucun |forward|trigger|negated|10|Group[434]|Clement\n",
      "n'avait alerté d' aucune |forward|trigger|negated|10|Group[434]|Clement\n",
      "n'avait alerté d' nul |forward|trigger|negated|10|Group[434]|Clement\n",
      "n'avait alerté d' nulle |forward|trigger|negated|10|Group[434]|Clement\n"
     ]
    }
   ],
   "source": [
    "from nltk.parse.generate import generate, demo_grammar\n",
    "from nltk import CFG\n",
    "\n",
    "cfg_grammar= \"\"\"\n",
    "S -> Var1 Var2 Var3 Trigger_Rule\n",
    "Var1 -> \"n'a\"| \"n'ait\"| \"n'avait\"\n",
    "Var2 -> \"signalé\" | \"indiqué\" | \"notifié\" | \"découvert\" | \"montré\" | \"dévoilé\" | \"souligné\" | \"informé d'\" | \"révélé\" | \"signifié\" | \"déclaré\" | \"averti d'\" | \"rapporté\" | \"témoigné\" | \"alerté d'\"\n",
    "Var3 -> \"aucun\" | \"aucune\" | \"nul\" | \"nulle\"\n",
    "Trigger_Rule -> \"|forward|trigger|negated|10|Group[434]|Clement\"\n",
    "\"\"\"\n",
    "\n",
    "for sentence in generate(CFG.fromstring(cfg_grammar), n=1000):\n",
    "    print(' '.join(sentence))"
   ]
  },
  {
   "cell_type": "code",
   "execution_count": 7,
   "metadata": {},
   "outputs": [
    {
     "name": "stdout",
     "output_type": "stream",
     "text": [
      "n'a pas observé |forward|trigger|negated|10|Group[436]|Clement\n",
      "n'a pas remarqué |forward|trigger|negated|10|Group[436]|Clement\n",
      "n'a pas noté |forward|trigger|negated|10|Group[436]|Clement\n",
      "n'a pas découvert |forward|trigger|negated|10|Group[436]|Clement\n",
      "n'a pas apercu |forward|trigger|negated|10|Group[436]|Clement\n",
      "n'a pas signalé |forward|trigger|negated|10|Group[436]|Clement\n",
      "n'a pas vu |forward|trigger|negated|10|Group[436]|Clement\n",
      "n'a pas relevé |forward|trigger|negated|10|Group[436]|Clement\n",
      "n'a pas décelé |forward|trigger|negated|10|Group[436]|Clement\n",
      "n'a pas détecté |forward|trigger|negated|10|Group[436]|Clement\n",
      "n'a pas souligné |forward|trigger|negated|10|Group[436]|Clement\n",
      "n'a pas mentionné |forward|trigger|negated|10|Group[436]|Clement\n"
     ]
    }
   ],
   "source": [
    "from nltk.parse.generate import generate, demo_grammar\n",
    "from nltk import CFG\n",
    "\n",
    "cfg_grammar= \"\"\"\n",
    "S -> Var1 Var2 Var3 Trigger_Rule\n",
    "Var1 -> \"n'a\"\n",
    "Var2 -> \"pas\"\n",
    "Var3 -> \"observé\" | \"remarqué\" | \"noté\" | \"découvert\" | \"apercu\" | \"signalé\" | \"vu\" | \"relevé\" | \"décelé\" | \"détecté\" | \"souligné\" | \"mentionné\"\n",
    "Trigger_Rule -> \"|forward|trigger|negated|10|Group[436]|Clement\"\n",
    "\"\"\"\n",
    "\n",
    "for sentence in generate(CFG.fromstring(cfg_grammar), n=1000):\n",
    "    print(' '.join(sentence))"
   ]
  },
  {
   "cell_type": "code",
   "execution_count": 8,
   "metadata": {},
   "outputs": [
    {
     "name": "stdout",
     "output_type": "stream",
     "text": [
      "n'a pas exclu |backward|trigger|uncertain|30|Group[438]|Clement\n",
      "n'a pas repoussé |backward|trigger|uncertain|30|Group[438]|Clement\n",
      "n'a pas rejeté |backward|trigger|uncertain|30|Group[438]|Clement\n",
      "n'a pas éliminé |backward|trigger|uncertain|30|Group[438]|Clement\n",
      "n'a pas proscrit |backward|trigger|uncertain|30|Group[438]|Clement\n",
      "n'ait pas exclu |backward|trigger|uncertain|30|Group[438]|Clement\n",
      "n'ait pas repoussé |backward|trigger|uncertain|30|Group[438]|Clement\n",
      "n'ait pas rejeté |backward|trigger|uncertain|30|Group[438]|Clement\n",
      "n'ait pas éliminé |backward|trigger|uncertain|30|Group[438]|Clement\n",
      "n'ait pas proscrit |backward|trigger|uncertain|30|Group[438]|Clement\n"
     ]
    }
   ],
   "source": [
    "from nltk.parse.generate import generate, demo_grammar\n",
    "from nltk import CFG\n",
    "\n",
    "cfg_grammar= \"\"\"\n",
    "S -> Var1 Var2 Var3 Trigger_Rule\n",
    "Var1 -> \"n'a\" | \"n'ait\"\n",
    "Var2 -> \"pas\"\n",
    "Var3 -> \"exclu\" | \"repoussé\" | \"rejeté\" | \"éliminé\" | \"proscrit\"\n",
    "Trigger_Rule -> \"|backward|trigger|uncertain|30|Group[438]|Clement\"\n",
    "\"\"\"\n",
    "\n",
    "for sentence in generate(CFG.fromstring(cfg_grammar), n=1000):\n",
    "    print(' '.join(sentence))"
   ]
  },
  {
   "cell_type": "code",
   "execution_count": 9,
   "metadata": {},
   "outputs": [
    {
     "name": "stdout",
     "output_type": "stream",
     "text": [
      "l'a exclu |backward|trigger|negated|10|Group[439]|Clement\n",
      "l'a mise à lécart |backward|trigger|negated|10|Group[439]|Clement\n",
      "l'a mis à lécart |backward|trigger|negated|10|Group[439]|Clement\n",
      "l'a rendu inenvisageable |backward|trigger|negated|10|Group[439]|Clement\n",
      "l'a rendu irréalisable |backward|trigger|negated|10|Group[439]|Clement\n",
      "l'a évincé |backward|trigger|negated|10|Group[439]|Clement\n",
      "l'a repoussé |backward|trigger|negated|10|Group[439]|Clement\n",
      "l'a rejeté |backward|trigger|negated|10|Group[439]|Clement\n",
      "l'a éliminé |backward|trigger|negated|10|Group[439]|Clement\n",
      "l'a proscrit |backward|trigger|negated|10|Group[439]|Clement\n"
     ]
    }
   ],
   "source": [
    "from nltk.parse.generate import generate, demo_grammar\n",
    "from nltk import CFG\n",
    "\n",
    "cfg_grammar= \"\"\"\n",
    "S -> Var1 Var2 Trigger_Rule\n",
    "Var1 -> \"l'a\"\n",
    "Var2 -> \"exclu\" | \"mise à lécart\" | \"mis à lécart\" |\"rendu inenvisageable\" | \"rendu irréalisable\" | \"évincé\"| \"repoussé\" | \"rejeté\" | \"éliminé\" | \"proscrit\"\n",
    "Trigger_Rule -> \"|backward|trigger|negated|10|Group[439]|Clement\"\n",
    "\"\"\"\n",
    "\n",
    "for sentence in generate(CFG.fromstring(cfg_grammar), n=1000):\n",
    "    print(' '.join(sentence))"
   ]
  },
  {
   "cell_type": "code",
   "execution_count": 10,
   "metadata": {},
   "outputs": [
    {
     "name": "stdout",
     "output_type": "stream",
     "text": [
      "a exclu pour |forward|trigger|negated|10|Group[439]|Clement\n",
      "a refusé pour |forward|trigger|negated|10|Group[439]|Clement\n",
      "a repoussé pour |forward|trigger|negated|10|Group[439]|Clement\n",
      "a rejeté pour |forward|trigger|negated|10|Group[439]|Clement\n",
      "a éliminé pour |forward|trigger|negated|10|Group[439]|Clement\n",
      "a proscrit pour |forward|trigger|negated|10|Group[439]|Clement\n"
     ]
    }
   ],
   "source": [
    "from nltk.parse.generate import generate, demo_grammar\n",
    "from nltk import CFG\n",
    "\n",
    "cfg_grammar= \"\"\"\n",
    "S ->  Var1 Var2 Var3 Trigger_Rule\n",
    "Var1 -> \"a\"\n",
    "Var2 -> \"exclu\" | \"refusé\" | \"repoussé\" | \"rejeté\" | \"éliminé\" | \"proscrit\"\n",
    "Var3 -> \"pour\"\n",
    "Trigger_Rule -> \"|forward|trigger|negated|10|Group[439]|Clement\"\n",
    "\"\"\"\n",
    "\n",
    "for sentence in generate(CFG.fromstring(cfg_grammar), n=1000):\n",
    "    print(' '.join(sentence))"
   ]
  },
  {
   "cell_type": "code",
   "execution_count": 11,
   "metadata": {},
   "outputs": [
    {
     "name": "stdout",
     "output_type": "stream",
     "text": [
      "a exclu |forward|trigger|negated|10|Group[439]|Clement\n",
      "a refusé |forward|trigger|negated|10|Group[439]|Clement\n",
      "a repoussé |forward|trigger|negated|10|Group[439]|Clement\n",
      "a rejeté |forward|trigger|negated|10|Group[439]|Clement\n",
      "a éliminé |forward|trigger|negated|10|Group[439]|Clement\n",
      "a proscrit |forward|trigger|negated|10|Group[439]|Clement\n",
      "a contredit |forward|trigger|negated|10|Group[439]|Clement\n",
      "a démentit |forward|trigger|negated|10|Group[439]|Clement\n",
      "a refusé |forward|trigger|negated|10|Group[439]|Clement\n",
      "a rejeté |forward|trigger|negated|10|Group[439]|Clement\n",
      "a réfuté |forward|trigger|negated|10|Group[439]|Clement\n",
      "a contesté |forward|trigger|negated|10|Group[439]|Clement\n",
      "a écarté |forward|trigger|negated|10|Group[439]|Clement\n"
     ]
    }
   ],
   "source": [
    "from nltk.parse.generate import generate, demo_grammar\n",
    "from nltk import CFG\n",
    "\n",
    "cfg_grammar= \"\"\"\n",
    "S ->  Var1 Var2 Trigger_Rule\n",
    "Var1 -> \"a\"\n",
    "Var2 -> \"exclu\" | \"refusé\" | \"repoussé\" | \"rejeté\" | \"éliminé\" | \"proscrit\" |  \"contredit\" | \"démentit\" | \"refusé\" | \"rejeté\" |\"réfuté\" | \"contesté\" | \"écarté\"\n",
    "Trigger_Rule -> \"|forward|trigger|negated|10|Group[439]|Clement\"\n",
    "\"\"\"\n",
    "\n",
    "for sentence in generate(CFG.fromstring(cfg_grammar), n=1000):\n",
    "    print(' '.join(sentence))"
   ]
  },
  {
   "cell_type": "code",
   "execution_count": 12,
   "metadata": {},
   "outputs": [
    {
     "name": "stdout",
     "output_type": "stream",
     "text": [
      "a exclu le patient |forward|trigger|negated|10|Group[457]|Clement\n",
      "a exclu la patiente |forward|trigger|negated|10|Group[457]|Clement\n",
      "a exclu le souffrant |forward|trigger|negated|10|Group[457]|Clement\n",
      "a exclu la souffrante |forward|trigger|negated|10|Group[457]|Clement\n",
      "a exclu le sujet |forward|trigger|negated|10|Group[457]|Clement\n",
      "a refusé le patient |forward|trigger|negated|10|Group[457]|Clement\n",
      "a refusé la patiente |forward|trigger|negated|10|Group[457]|Clement\n",
      "a refusé le souffrant |forward|trigger|negated|10|Group[457]|Clement\n",
      "a refusé la souffrante |forward|trigger|negated|10|Group[457]|Clement\n",
      "a refusé le sujet |forward|trigger|negated|10|Group[457]|Clement\n",
      "a repoussé le patient |forward|trigger|negated|10|Group[457]|Clement\n",
      "a repoussé la patiente |forward|trigger|negated|10|Group[457]|Clement\n",
      "a repoussé le souffrant |forward|trigger|negated|10|Group[457]|Clement\n",
      "a repoussé la souffrante |forward|trigger|negated|10|Group[457]|Clement\n",
      "a repoussé le sujet |forward|trigger|negated|10|Group[457]|Clement\n",
      "a rejeté le patient |forward|trigger|negated|10|Group[457]|Clement\n",
      "a rejeté la patiente |forward|trigger|negated|10|Group[457]|Clement\n",
      "a rejeté le souffrant |forward|trigger|negated|10|Group[457]|Clement\n",
      "a rejeté la souffrante |forward|trigger|negated|10|Group[457]|Clement\n",
      "a rejeté le sujet |forward|trigger|negated|10|Group[457]|Clement\n",
      "a éliminé le patient |forward|trigger|negated|10|Group[457]|Clement\n",
      "a éliminé la patiente |forward|trigger|negated|10|Group[457]|Clement\n",
      "a éliminé le souffrant |forward|trigger|negated|10|Group[457]|Clement\n",
      "a éliminé la souffrante |forward|trigger|negated|10|Group[457]|Clement\n",
      "a éliminé le sujet |forward|trigger|negated|10|Group[457]|Clement\n",
      "a proscrit le patient |forward|trigger|negated|10|Group[457]|Clement\n",
      "a proscrit la patiente |forward|trigger|negated|10|Group[457]|Clement\n",
      "a proscrit le souffrant |forward|trigger|negated|10|Group[457]|Clement\n",
      "a proscrit la souffrante |forward|trigger|negated|10|Group[457]|Clement\n",
      "a proscrit le sujet |forward|trigger|negated|10|Group[457]|Clement\n"
     ]
    }
   ],
   "source": [
    "from nltk.parse.generate import generate, demo_grammar\n",
    "from nltk import CFG\n",
    "\n",
    "cfg_grammar= \"\"\"\n",
    "S ->  Var1 Var2 Patient Trigger_Rule\n",
    "Var1 -> \"a\"\n",
    "Var2 -> \"exclu\" | \"refusé\" | \"repoussé\" | \"rejeté\" | \"éliminé\" | \"proscrit\"\n",
    "Patient -> \"le patient\" | \"la patiente\"| \"le souffrant\" | \"la souffrante\"| \"le sujet\"\n",
    "Trigger_Rule -> \"|forward|trigger|negated|10|Group[457]|Clement\"\n",
    "\"\"\"\n",
    "\n",
    "for sentence in generate(CFG.fromstring(cfg_grammar), n=1000):\n",
    "    print(' '.join(sentence))"
   ]
  },
  {
   "cell_type": "code",
   "execution_count": 13,
   "metadata": {},
   "outputs": [
    {
     "name": "stdout",
     "output_type": "stream",
     "text": [
      "a exclu le patient |forward|trigger|negated|10|Group[457]|Clement\n",
      "a exclu le client |forward|trigger|negated|10|Group[457]|Clement\n",
      "a exclu souffrant |forward|trigger|negated|10|Group[457]|Clement\n",
      "a exclu sujet |forward|trigger|negated|10|Group[457]|Clement\n",
      "a rejeté le patient |forward|trigger|negated|10|Group[457]|Clement\n",
      "a rejeté le client |forward|trigger|negated|10|Group[457]|Clement\n",
      "a rejeté souffrant |forward|trigger|negated|10|Group[457]|Clement\n",
      "a rejeté sujet |forward|trigger|negated|10|Group[457]|Clement\n",
      "a éliminé le patient |forward|trigger|negated|10|Group[457]|Clement\n",
      "a éliminé le client |forward|trigger|negated|10|Group[457]|Clement\n",
      "a éliminé souffrant |forward|trigger|negated|10|Group[457]|Clement\n",
      "a éliminé sujet |forward|trigger|negated|10|Group[457]|Clement\n",
      "a proscrit le patient |forward|trigger|negated|10|Group[457]|Clement\n",
      "a proscrit le client |forward|trigger|negated|10|Group[457]|Clement\n",
      "a proscrit souffrant |forward|trigger|negated|10|Group[457]|Clement\n",
      "a proscrit sujet |forward|trigger|negated|10|Group[457]|Clement\n"
     ]
    }
   ],
   "source": [
    "from nltk.parse.generate import generate, demo_grammar\n",
    "from nltk import CFG\n",
    "\n",
    "cfg_grammar= \"\"\"\n",
    "S ->  Var1 Var2 Var3 Trigger_Rule\n",
    "Var1 -> \"a\"\n",
    "Var2 -> \"exclu\" | \"rejeté\" | \"éliminé\" | \"proscrit\"\n",
    "Var3 -> \"le patient\" | \"le client\" | \"souffrant\" | \"sujet\"\n",
    "Trigger_Rule -> \"|forward|trigger|negated|10|Group[457]|Clement\"\n",
    "\"\"\"\n",
    "\n",
    "for sentence in generate(CFG.fromstring(cfg_grammar), n=1000):\n",
    "    print(' '.join(sentence))"
   ]
  },
  {
   "cell_type": "code",
   "execution_count": 14,
   "metadata": {},
   "outputs": [
    {
     "name": "stdout",
     "output_type": "stream",
     "text": [
      "a montré |forward|termination|negated|10|Group[463]|Clement\n",
      "a affiché |forward|termination|negated|10|Group[463]|Clement\n",
      "a exhibé |forward|termination|negated|10|Group[463]|Clement\n",
      "a fait état |forward|termination|negated|10|Group[463]|Clement\n",
      "a démontré |forward|termination|negated|10|Group[463]|Clement\n",
      "a exposé |forward|termination|negated|10|Group[463]|Clement\n",
      "a exhibé |forward|termination|negated|10|Group[463]|Clement\n",
      "a dénoté |forward|termination|negated|10|Group[463]|Clement\n",
      "a confirmé |forward|termination|negated|10|Group[463]|Clement\n",
      "a expliqué |forward|termination|negated|10|Group[463]|Clement\n",
      "a découvert |forward|termination|negated|10|Group[463]|Clement\n",
      "a dévoilé |forward|termination|negated|10|Group[463]|Clement\n"
     ]
    }
   ],
   "source": [
    "from nltk.parse.generate import generate, demo_grammar\n",
    "from nltk import CFG\n",
    "\n",
    "cfg_grammar= \"\"\"\n",
    "S ->  Var1 Var2 Trigger_Rule\n",
    "Var1 -> \"a\"\n",
    "Var2 -> \"montré\" | \"affiché\" | \"exhibé\" | \"fait état\" | \"démontré\" | \"exposé\" | \"exhibé\" | \"dénoté\" | \"confirmé\" | \"expliqué\" | \"découvert\" | \"dévoilé\"\n",
    "Trigger_Rule -> \"|forward|termination|negated|10|Group[463]|Clement\"\n",
    "\"\"\"\n",
    "\n",
    "for sentence in generate(CFG.fromstring(cfg_grammar), n=1000):\n",
    "    print(' '.join(sentence))"
   ]
  },
  {
   "cell_type": "code",
   "execution_count": 15,
   "metadata": {},
   "outputs": [
    {
     "name": "stdout",
     "output_type": "stream",
     "text": [
      "montre _ |forward|termination|negated|10|Group[463]|Clement\n",
      "montre _ent |forward|termination|negated|10|Group[463]|Clement\n",
      "affiche _ |forward|termination|negated|10|Group[463]|Clement\n",
      "affiche _ent |forward|termination|negated|10|Group[463]|Clement\n",
      "exhibe _ |forward|termination|negated|10|Group[463]|Clement\n",
      "exhibe _ent |forward|termination|negated|10|Group[463]|Clement\n",
      "démontre _ |forward|termination|negated|10|Group[463]|Clement\n",
      "démontre _ent |forward|termination|negated|10|Group[463]|Clement\n",
      "expose _ |forward|termination|negated|10|Group[463]|Clement\n",
      "expose _ent |forward|termination|negated|10|Group[463]|Clement\n",
      "exhibe _ |forward|termination|negated|10|Group[463]|Clement\n",
      "exhibe _ent |forward|termination|negated|10|Group[463]|Clement\n",
      "dénote _ |forward|termination|negated|10|Group[463]|Clement\n",
      "dénote _ent |forward|termination|negated|10|Group[463]|Clement\n",
      "confirme _ |forward|termination|negated|10|Group[463]|Clement\n",
      "confirme _ent |forward|termination|negated|10|Group[463]|Clement\n",
      "explique _ |forward|termination|negated|10|Group[463]|Clement\n",
      "explique _ent |forward|termination|negated|10|Group[463]|Clement\n",
      "dévoile _ |forward|termination|negated|10|Group[463]|Clement\n",
      "dévoile _ent |forward|termination|negated|10|Group[463]|Clement\n"
     ]
    }
   ],
   "source": [
    "from nltk.parse.generate import generate, demo_grammar\n",
    "from nltk import CFG\n",
    "\n",
    "cfg_grammar= \"\"\"\n",
    "S -> Var1 Termin Trigger_Rule\n",
    "Var1 -> \"montre\" | \"affiche\" | \"exhibe\" | \"démontre\" | \"expose\" | \"exhibe\" | \"dénote\" | \"confirme\" | \"explique\" | \"dévoile\"\n",
    "Termin -> \"_\"|\"_ent\"\n",
    "Trigger_Rule -> \"|forward|termination|negated|10|Group[463]|Clement\"\n",
    "\"\"\"\n",
    "\n",
    "for sentence in generate(CFG.fromstring(cfg_grammar), n=1000):\n",
    "    print(' '.join(sentence))"
   ]
  },
  {
   "cell_type": "code",
   "execution_count": 16,
   "metadata": {},
   "outputs": [
    {
     "name": "stdout",
     "output_type": "stream",
     "text": [
      "fait état |forward|termination|negated|10|Group[463]|Clement\n",
      "font état |forward|termination|negated|10|Group[463]|Clement\n"
     ]
    }
   ],
   "source": [
    "from nltk.parse.generate import generate, demo_grammar\n",
    "from nltk import CFG\n",
    "\n",
    "cfg_grammar= \"\"\"\n",
    "S -> Var1 Trigger_Rule\n",
    "Var1 ->  \"fait état\" | \"font état\" \n",
    "Trigger_Rule -> \"|forward|termination|negated|10|Group[463]|Clement\"\n",
    "\"\"\"\n",
    "\n",
    "for sentence in generate(CFG.fromstring(cfg_grammar), n=1000):\n",
    "    print(' '.join(sentence))"
   ]
  },
  {
   "cell_type": "code",
   "execution_count": 17,
   "metadata": {},
   "outputs": [
    {
     "name": "stdout",
     "output_type": "stream",
     "text": [
      "n'a pas exprimé |forward|trigger|negated|10|Group[464]|Clement\n",
      "n'a pas manifesté |forward|trigger|negated|10|Group[464]|Clement\n",
      "n'a pas dit |forward|trigger|negated|10|Group[464]|Clement\n",
      "n'a pas signifié |forward|trigger|negated|10|Group[464]|Clement\n",
      "n'a pas témoigné |forward|trigger|negated|10|Group[464]|Clement\n",
      "n'a pas montré |forward|trigger|negated|10|Group[464]|Clement\n",
      "n'a pas expliqué |forward|trigger|negated|10|Group[464]|Clement\n",
      "n'a pas traduit |forward|trigger|negated|10|Group[464]|Clement\n",
      "n'a pas extériorisé |forward|trigger|negated|10|Group[464]|Clement\n",
      "n'a pas révélé |forward|trigger|negated|10|Group[464]|Clement\n",
      "n'a pas formulé |forward|trigger|negated|10|Group[464]|Clement\n",
      "n'a pas exposé |forward|trigger|negated|10|Group[464]|Clement\n",
      "n'a pas affiché |forward|trigger|negated|10|Group[464]|Clement\n",
      "n'a pas signalé |forward|trigger|negated|10|Group[464]|Clement\n",
      "n'ait pas exprimé |forward|trigger|negated|10|Group[464]|Clement\n",
      "n'ait pas manifesté |forward|trigger|negated|10|Group[464]|Clement\n",
      "n'ait pas dit |forward|trigger|negated|10|Group[464]|Clement\n",
      "n'ait pas signifié |forward|trigger|negated|10|Group[464]|Clement\n",
      "n'ait pas témoigné |forward|trigger|negated|10|Group[464]|Clement\n",
      "n'ait pas montré |forward|trigger|negated|10|Group[464]|Clement\n",
      "n'ait pas expliqué |forward|trigger|negated|10|Group[464]|Clement\n",
      "n'ait pas traduit |forward|trigger|negated|10|Group[464]|Clement\n",
      "n'ait pas extériorisé |forward|trigger|negated|10|Group[464]|Clement\n",
      "n'ait pas révélé |forward|trigger|negated|10|Group[464]|Clement\n",
      "n'ait pas formulé |forward|trigger|negated|10|Group[464]|Clement\n",
      "n'ait pas exposé |forward|trigger|negated|10|Group[464]|Clement\n",
      "n'ait pas affiché |forward|trigger|negated|10|Group[464]|Clement\n",
      "n'ait pas signalé |forward|trigger|negated|10|Group[464]|Clement\n"
     ]
    }
   ],
   "source": [
    "from nltk.parse.generate import generate, demo_grammar\n",
    "from nltk import CFG\n",
    "\n",
    "cfg_grammar= \"\"\"\n",
    "S -> Var1 Var2 Var3 Trigger_Rule\n",
    "Var1 -> \"n'a\" | \"n'ait\"\n",
    "Var2 -> \"pas\"\n",
    "Var3 -> \"exprimé\" | \"manifesté\" | \"dit\" | \"signifié\" | \"témoigné\" | \"montré\" | \"expliqué\" | \"traduit\" | \"extériorisé\" | \"révélé\" | \"formulé\" | \"exposé\" | \"affiché\" | \"signalé\"\n",
    "Trigger_Rule -> \"|forward|trigger|negated|10|Group[464]|Clement\"\n",
    "\"\"\"\n",
    "\n",
    "for sentence in generate(CFG.fromstring(cfg_grammar), n=1000):\n",
    "    print(' '.join(sentence))"
   ]
  },
  {
   "cell_type": "code",
   "execution_count": 18,
   "metadata": {},
   "outputs": [
    {
     "name": "stdout",
     "output_type": "stream",
     "text": [
      "n'a exprimé aucun |forward|trigger|negated|10|Group[466]|Clement\n",
      "n'a exprimé aucune |forward|trigger|negated|10|Group[466]|Clement\n",
      "n'a exprimé nul |forward|trigger|negated|10|Group[466]|Clement\n",
      "n'a exprimé nulle |forward|trigger|negated|10|Group[466]|Clement\n",
      "n'a manifesté aucun |forward|trigger|negated|10|Group[466]|Clement\n",
      "n'a manifesté aucune |forward|trigger|negated|10|Group[466]|Clement\n",
      "n'a manifesté nul |forward|trigger|negated|10|Group[466]|Clement\n",
      "n'a manifesté nulle |forward|trigger|negated|10|Group[466]|Clement\n",
      "n'a dit aucun |forward|trigger|negated|10|Group[466]|Clement\n",
      "n'a dit aucune |forward|trigger|negated|10|Group[466]|Clement\n",
      "n'a dit nul |forward|trigger|negated|10|Group[466]|Clement\n",
      "n'a dit nulle |forward|trigger|negated|10|Group[466]|Clement\n",
      "n'a signifié aucun |forward|trigger|negated|10|Group[466]|Clement\n",
      "n'a signifié aucune |forward|trigger|negated|10|Group[466]|Clement\n",
      "n'a signifié nul |forward|trigger|negated|10|Group[466]|Clement\n",
      "n'a signifié nulle |forward|trigger|negated|10|Group[466]|Clement\n",
      "n'a témoigné aucun |forward|trigger|negated|10|Group[466]|Clement\n",
      "n'a témoigné aucune |forward|trigger|negated|10|Group[466]|Clement\n",
      "n'a témoigné nul |forward|trigger|negated|10|Group[466]|Clement\n",
      "n'a témoigné nulle |forward|trigger|negated|10|Group[466]|Clement\n",
      "n'a montré aucun |forward|trigger|negated|10|Group[466]|Clement\n",
      "n'a montré aucune |forward|trigger|negated|10|Group[466]|Clement\n",
      "n'a montré nul |forward|trigger|negated|10|Group[466]|Clement\n",
      "n'a montré nulle |forward|trigger|negated|10|Group[466]|Clement\n",
      "n'a expliqué aucun |forward|trigger|negated|10|Group[466]|Clement\n",
      "n'a expliqué aucune |forward|trigger|negated|10|Group[466]|Clement\n",
      "n'a expliqué nul |forward|trigger|negated|10|Group[466]|Clement\n",
      "n'a expliqué nulle |forward|trigger|negated|10|Group[466]|Clement\n",
      "n'a traduit aucun |forward|trigger|negated|10|Group[466]|Clement\n",
      "n'a traduit aucune |forward|trigger|negated|10|Group[466]|Clement\n",
      "n'a traduit nul |forward|trigger|negated|10|Group[466]|Clement\n",
      "n'a traduit nulle |forward|trigger|negated|10|Group[466]|Clement\n",
      "n'a extériorisé aucun |forward|trigger|negated|10|Group[466]|Clement\n",
      "n'a extériorisé aucune |forward|trigger|negated|10|Group[466]|Clement\n",
      "n'a extériorisé nul |forward|trigger|negated|10|Group[466]|Clement\n",
      "n'a extériorisé nulle |forward|trigger|negated|10|Group[466]|Clement\n",
      "n'a révélé aucun |forward|trigger|negated|10|Group[466]|Clement\n",
      "n'a révélé aucune |forward|trigger|negated|10|Group[466]|Clement\n",
      "n'a révélé nul |forward|trigger|negated|10|Group[466]|Clement\n",
      "n'a révélé nulle |forward|trigger|negated|10|Group[466]|Clement\n",
      "n'a formulé aucun |forward|trigger|negated|10|Group[466]|Clement\n",
      "n'a formulé aucune |forward|trigger|negated|10|Group[466]|Clement\n",
      "n'a formulé nul |forward|trigger|negated|10|Group[466]|Clement\n",
      "n'a formulé nulle |forward|trigger|negated|10|Group[466]|Clement\n",
      "n'a exposé aucun |forward|trigger|negated|10|Group[466]|Clement\n",
      "n'a exposé aucune |forward|trigger|negated|10|Group[466]|Clement\n",
      "n'a exposé nul |forward|trigger|negated|10|Group[466]|Clement\n",
      "n'a exposé nulle |forward|trigger|negated|10|Group[466]|Clement\n",
      "n'a affiché aucun |forward|trigger|negated|10|Group[466]|Clement\n",
      "n'a affiché aucune |forward|trigger|negated|10|Group[466]|Clement\n",
      "n'a affiché nul |forward|trigger|negated|10|Group[466]|Clement\n",
      "n'a affiché nulle |forward|trigger|negated|10|Group[466]|Clement\n",
      "n'a signalé aucun |forward|trigger|negated|10|Group[466]|Clement\n",
      "n'a signalé aucune |forward|trigger|negated|10|Group[466]|Clement\n",
      "n'a signalé nul |forward|trigger|negated|10|Group[466]|Clement\n",
      "n'a signalé nulle |forward|trigger|negated|10|Group[466]|Clement\n",
      "n'a indiqué aucun |forward|trigger|negated|10|Group[466]|Clement\n",
      "n'a indiqué aucune |forward|trigger|negated|10|Group[466]|Clement\n",
      "n'a indiqué nul |forward|trigger|negated|10|Group[466]|Clement\n",
      "n'a indiqué nulle |forward|trigger|negated|10|Group[466]|Clement\n",
      "n'a notifié aucun |forward|trigger|negated|10|Group[466]|Clement\n",
      "n'a notifié aucune |forward|trigger|negated|10|Group[466]|Clement\n",
      "n'a notifié nul |forward|trigger|negated|10|Group[466]|Clement\n",
      "n'a notifié nulle |forward|trigger|negated|10|Group[466]|Clement\n",
      "n'a découvert aucun |forward|trigger|negated|10|Group[466]|Clement\n",
      "n'a découvert aucune |forward|trigger|negated|10|Group[466]|Clement\n",
      "n'a découvert nul |forward|trigger|negated|10|Group[466]|Clement\n",
      "n'a découvert nulle |forward|trigger|negated|10|Group[466]|Clement\n",
      "n'a dévoilé aucun |forward|trigger|negated|10|Group[466]|Clement\n",
      "n'a dévoilé aucune |forward|trigger|negated|10|Group[466]|Clement\n",
      "n'a dévoilé nul |forward|trigger|negated|10|Group[466]|Clement\n",
      "n'a dévoilé nulle |forward|trigger|negated|10|Group[466]|Clement\n",
      "n'a souligné aucun |forward|trigger|negated|10|Group[466]|Clement\n",
      "n'a souligné aucune |forward|trigger|negated|10|Group[466]|Clement\n",
      "n'a souligné nul |forward|trigger|negated|10|Group[466]|Clement\n",
      "n'a souligné nulle |forward|trigger|negated|10|Group[466]|Clement\n",
      "n'a informé aucun |forward|trigger|negated|10|Group[466]|Clement\n",
      "n'a informé aucune |forward|trigger|negated|10|Group[466]|Clement\n",
      "n'a informé nul |forward|trigger|negated|10|Group[466]|Clement\n",
      "n'a informé nulle |forward|trigger|negated|10|Group[466]|Clement\n",
      "n'a déclaré aucun |forward|trigger|negated|10|Group[466]|Clement\n",
      "n'a déclaré aucune |forward|trigger|negated|10|Group[466]|Clement\n",
      "n'a déclaré nul |forward|trigger|negated|10|Group[466]|Clement\n",
      "n'a déclaré nulle |forward|trigger|negated|10|Group[466]|Clement\n",
      "n'a averti aucun |forward|trigger|negated|10|Group[466]|Clement\n",
      "n'a averti aucune |forward|trigger|negated|10|Group[466]|Clement\n",
      "n'a averti nul |forward|trigger|negated|10|Group[466]|Clement\n",
      "n'a averti nulle |forward|trigger|negated|10|Group[466]|Clement\n",
      "n'a rapporté aucun |forward|trigger|negated|10|Group[466]|Clement\n",
      "n'a rapporté aucune |forward|trigger|negated|10|Group[466]|Clement\n",
      "n'a rapporté nul |forward|trigger|negated|10|Group[466]|Clement\n",
      "n'a rapporté nulle |forward|trigger|negated|10|Group[466]|Clement\n",
      "n'a alerté aucun |forward|trigger|negated|10|Group[466]|Clement\n",
      "n'a alerté aucune |forward|trigger|negated|10|Group[466]|Clement\n",
      "n'a alerté nul |forward|trigger|negated|10|Group[466]|Clement\n",
      "n'a alerté nulle |forward|trigger|negated|10|Group[466]|Clement\n",
      "n'ait exprimé aucun |forward|trigger|negated|10|Group[466]|Clement\n",
      "n'ait exprimé aucune |forward|trigger|negated|10|Group[466]|Clement\n",
      "n'ait exprimé nul |forward|trigger|negated|10|Group[466]|Clement\n",
      "n'ait exprimé nulle |forward|trigger|negated|10|Group[466]|Clement\n",
      "n'ait manifesté aucun |forward|trigger|negated|10|Group[466]|Clement\n",
      "n'ait manifesté aucune |forward|trigger|negated|10|Group[466]|Clement\n",
      "n'ait manifesté nul |forward|trigger|negated|10|Group[466]|Clement\n",
      "n'ait manifesté nulle |forward|trigger|negated|10|Group[466]|Clement\n",
      "n'ait dit aucun |forward|trigger|negated|10|Group[466]|Clement\n",
      "n'ait dit aucune |forward|trigger|negated|10|Group[466]|Clement\n",
      "n'ait dit nul |forward|trigger|negated|10|Group[466]|Clement\n",
      "n'ait dit nulle |forward|trigger|negated|10|Group[466]|Clement\n",
      "n'ait signifié aucun |forward|trigger|negated|10|Group[466]|Clement\n",
      "n'ait signifié aucune |forward|trigger|negated|10|Group[466]|Clement\n",
      "n'ait signifié nul |forward|trigger|negated|10|Group[466]|Clement\n",
      "n'ait signifié nulle |forward|trigger|negated|10|Group[466]|Clement\n",
      "n'ait témoigné aucun |forward|trigger|negated|10|Group[466]|Clement\n",
      "n'ait témoigné aucune |forward|trigger|negated|10|Group[466]|Clement\n",
      "n'ait témoigné nul |forward|trigger|negated|10|Group[466]|Clement\n",
      "n'ait témoigné nulle |forward|trigger|negated|10|Group[466]|Clement\n",
      "n'ait montré aucun |forward|trigger|negated|10|Group[466]|Clement\n",
      "n'ait montré aucune |forward|trigger|negated|10|Group[466]|Clement\n",
      "n'ait montré nul |forward|trigger|negated|10|Group[466]|Clement\n",
      "n'ait montré nulle |forward|trigger|negated|10|Group[466]|Clement\n",
      "n'ait expliqué aucun |forward|trigger|negated|10|Group[466]|Clement\n",
      "n'ait expliqué aucune |forward|trigger|negated|10|Group[466]|Clement\n",
      "n'ait expliqué nul |forward|trigger|negated|10|Group[466]|Clement\n",
      "n'ait expliqué nulle |forward|trigger|negated|10|Group[466]|Clement\n",
      "n'ait traduit aucun |forward|trigger|negated|10|Group[466]|Clement\n",
      "n'ait traduit aucune |forward|trigger|negated|10|Group[466]|Clement\n",
      "n'ait traduit nul |forward|trigger|negated|10|Group[466]|Clement\n",
      "n'ait traduit nulle |forward|trigger|negated|10|Group[466]|Clement\n",
      "n'ait extériorisé aucun |forward|trigger|negated|10|Group[466]|Clement\n",
      "n'ait extériorisé aucune |forward|trigger|negated|10|Group[466]|Clement\n",
      "n'ait extériorisé nul |forward|trigger|negated|10|Group[466]|Clement\n",
      "n'ait extériorisé nulle |forward|trigger|negated|10|Group[466]|Clement\n",
      "n'ait révélé aucun |forward|trigger|negated|10|Group[466]|Clement\n",
      "n'ait révélé aucune |forward|trigger|negated|10|Group[466]|Clement\n",
      "n'ait révélé nul |forward|trigger|negated|10|Group[466]|Clement\n",
      "n'ait révélé nulle |forward|trigger|negated|10|Group[466]|Clement\n",
      "n'ait formulé aucun |forward|trigger|negated|10|Group[466]|Clement\n",
      "n'ait formulé aucune |forward|trigger|negated|10|Group[466]|Clement\n",
      "n'ait formulé nul |forward|trigger|negated|10|Group[466]|Clement\n",
      "n'ait formulé nulle |forward|trigger|negated|10|Group[466]|Clement\n",
      "n'ait exposé aucun |forward|trigger|negated|10|Group[466]|Clement\n",
      "n'ait exposé aucune |forward|trigger|negated|10|Group[466]|Clement\n",
      "n'ait exposé nul |forward|trigger|negated|10|Group[466]|Clement\n",
      "n'ait exposé nulle |forward|trigger|negated|10|Group[466]|Clement\n",
      "n'ait affiché aucun |forward|trigger|negated|10|Group[466]|Clement\n",
      "n'ait affiché aucune |forward|trigger|negated|10|Group[466]|Clement\n",
      "n'ait affiché nul |forward|trigger|negated|10|Group[466]|Clement\n",
      "n'ait affiché nulle |forward|trigger|negated|10|Group[466]|Clement\n",
      "n'ait signalé aucun |forward|trigger|negated|10|Group[466]|Clement\n",
      "n'ait signalé aucune |forward|trigger|negated|10|Group[466]|Clement\n",
      "n'ait signalé nul |forward|trigger|negated|10|Group[466]|Clement\n",
      "n'ait signalé nulle |forward|trigger|negated|10|Group[466]|Clement\n",
      "n'ait indiqué aucun |forward|trigger|negated|10|Group[466]|Clement\n",
      "n'ait indiqué aucune |forward|trigger|negated|10|Group[466]|Clement\n",
      "n'ait indiqué nul |forward|trigger|negated|10|Group[466]|Clement\n",
      "n'ait indiqué nulle |forward|trigger|negated|10|Group[466]|Clement\n",
      "n'ait notifié aucun |forward|trigger|negated|10|Group[466]|Clement\n",
      "n'ait notifié aucune |forward|trigger|negated|10|Group[466]|Clement\n",
      "n'ait notifié nul |forward|trigger|negated|10|Group[466]|Clement\n",
      "n'ait notifié nulle |forward|trigger|negated|10|Group[466]|Clement\n",
      "n'ait découvert aucun |forward|trigger|negated|10|Group[466]|Clement\n",
      "n'ait découvert aucune |forward|trigger|negated|10|Group[466]|Clement\n",
      "n'ait découvert nul |forward|trigger|negated|10|Group[466]|Clement\n",
      "n'ait découvert nulle |forward|trigger|negated|10|Group[466]|Clement\n",
      "n'ait dévoilé aucun |forward|trigger|negated|10|Group[466]|Clement\n",
      "n'ait dévoilé aucune |forward|trigger|negated|10|Group[466]|Clement\n",
      "n'ait dévoilé nul |forward|trigger|negated|10|Group[466]|Clement\n",
      "n'ait dévoilé nulle |forward|trigger|negated|10|Group[466]|Clement\n",
      "n'ait souligné aucun |forward|trigger|negated|10|Group[466]|Clement\n",
      "n'ait souligné aucune |forward|trigger|negated|10|Group[466]|Clement\n",
      "n'ait souligné nul |forward|trigger|negated|10|Group[466]|Clement\n",
      "n'ait souligné nulle |forward|trigger|negated|10|Group[466]|Clement\n",
      "n'ait informé aucun |forward|trigger|negated|10|Group[466]|Clement\n",
      "n'ait informé aucune |forward|trigger|negated|10|Group[466]|Clement\n",
      "n'ait informé nul |forward|trigger|negated|10|Group[466]|Clement\n",
      "n'ait informé nulle |forward|trigger|negated|10|Group[466]|Clement\n",
      "n'ait déclaré aucun |forward|trigger|negated|10|Group[466]|Clement\n",
      "n'ait déclaré aucune |forward|trigger|negated|10|Group[466]|Clement\n",
      "n'ait déclaré nul |forward|trigger|negated|10|Group[466]|Clement\n",
      "n'ait déclaré nulle |forward|trigger|negated|10|Group[466]|Clement\n",
      "n'ait averti aucun |forward|trigger|negated|10|Group[466]|Clement\n",
      "n'ait averti aucune |forward|trigger|negated|10|Group[466]|Clement\n",
      "n'ait averti nul |forward|trigger|negated|10|Group[466]|Clement\n",
      "n'ait averti nulle |forward|trigger|negated|10|Group[466]|Clement\n",
      "n'ait rapporté aucun |forward|trigger|negated|10|Group[466]|Clement\n",
      "n'ait rapporté aucune |forward|trigger|negated|10|Group[466]|Clement\n",
      "n'ait rapporté nul |forward|trigger|negated|10|Group[466]|Clement\n",
      "n'ait rapporté nulle |forward|trigger|negated|10|Group[466]|Clement\n",
      "n'ait alerté aucun |forward|trigger|negated|10|Group[466]|Clement\n",
      "n'ait alerté aucune |forward|trigger|negated|10|Group[466]|Clement\n",
      "n'ait alerté nul |forward|trigger|negated|10|Group[466]|Clement\n",
      "n'ait alerté nulle |forward|trigger|negated|10|Group[466]|Clement\n"
     ]
    }
   ],
   "source": [
    "from nltk.parse.generate import generate, demo_grammar\n",
    "from nltk import CFG\n",
    "\n",
    "cfg_grammar= \"\"\"\n",
    "S -> Var1 Var2 Var3 Trigger_Rule\n",
    "Var1 -> \"n'a\" | \"n'ait\"\n",
    "Var2 -> \"exprimé\" | \"manifesté\" | \"dit\" | \"signifié\" | \"témoigné\" | \"montré\" | \"expliqué\" | \"traduit\" | \"extériorisé\" | \"révélé\" | \"formulé\" | \"exposé\" | \"affiché\" | \"signalé\" | \"indiqué\" | \"notifié\" | \"découvert\" | \"dévoilé\" | \"souligné\" | \"informé\" | \"déclaré\" | \"averti\" | \"rapporté\" | \"alerté\"\n",
    "Var3 -> \"aucun\" | \"aucune\" | \"nul\" | \"nulle\"\n",
    "Trigger_Rule -> \"|forward|trigger|negated|10|Group[466]|Clement\"\n",
    "\"\"\"\n",
    "\n",
    "for sentence in generate(CFG.fromstring(cfg_grammar), n=1000):\n",
    "    print(' '.join(sentence))"
   ]
  },
  {
   "cell_type": "code",
   "execution_count": 19,
   "metadata": {},
   "outputs": [
    {
     "name": "stdout",
     "output_type": "stream",
     "text": [
      "différentiel comprend |forward|trigger|uncertain|30|Group[475]|Clement\n",
      "différentiel consiste |forward|trigger|uncertain|30|Group[475]|Clement\n",
      "différentiel posséde |forward|trigger|uncertain|30|Group[475]|Clement\n",
      "différentiel contient |forward|trigger|uncertain|30|Group[475]|Clement\n"
     ]
    }
   ],
   "source": [
    "from nltk.parse.generate import generate, demo_grammar\n",
    "from nltk import CFG\n",
    "\n",
    "cfg_grammar= \"\"\"\n",
    "S ->  Var1 Var2 Trigger_Rule\n",
    "Var1 -> \"différentiel\"\n",
    "Var2 -> \"comprend\" | \"consiste\" | \"posséde\" | \"contient\"\n",
    "Trigger_Rule -> \"|forward|trigger|uncertain|30|Group[475]|Clement\"\n",
    "\"\"\"\n",
    "\n",
    "for sentence in generate(CFG.fromstring(cfg_grammar), n=1000):\n",
    "    print(' '.join(sentence))"
   ]
  },
  {
   "cell_type": "code",
   "execution_count": 20,
   "metadata": {},
   "outputs": [
    {
     "name": "stdout",
     "output_type": "stream",
     "text": [
      "diagnostics différentiels comprenent |forward|trigger|uncertain|30|Group[476]|Clement\n",
      "diagnostics différentiels consistenr |forward|trigger|uncertain|30|Group[476]|Clement\n",
      "diagnostics différentiels possédent |forward|trigger|uncertain|30|Group[476]|Clement\n",
      "diagnostics différentiels contienent |forward|trigger|uncertain|30|Group[476]|Clement\n"
     ]
    }
   ],
   "source": [
    "from nltk.parse.generate import generate, demo_grammar\n",
    "from nltk import CFG\n",
    "\n",
    "cfg_grammar= \"\"\"\n",
    "S ->  Var1 Var2 Var3 Trigger_Rule\n",
    "Var1 -> \"diagnostics\"\n",
    "Var2 -> \"différentiels\"\n",
    "Var3 -> \"comprenent\" | \"consistenr\" | \"possédent\" | \"contienent\"\n",
    "Trigger_Rule -> \"|forward|trigger|uncertain|30|Group[476]|Clement\"\n",
    "\"\"\"\n",
    "\n",
    "for sentence in generate(CFG.fromstring(cfg_grammar), n=1000):\n",
    "    print(' '.join(sentence))"
   ]
  },
  {
   "cell_type": "code",
   "execution_count": 21,
   "metadata": {},
   "outputs": [
    {
     "name": "stdout",
     "output_type": "stream",
     "text": [
      "ne semble pas avoir de |forward|trigger|negated|10|Group[479]|Clement\n",
      "ne semblent pas avoir de |forward|trigger|negated|10|Group[479]|Clement\n",
      "ne   pas avoir de |forward|trigger|negated|10|Group[479]|Clement\n"
     ]
    }
   ],
   "source": [
    "from nltk.parse.generate import generate, demo_grammar\n",
    "from nltk import CFG\n",
    "\n",
    "cfg_grammar= \"\"\"\n",
    "S ->  Var1 Var2 Var3 Var4 Var5 Trigger_Rule\n",
    "Var1 -> \"ne\"\n",
    "Var2 -> \"semble\" | \"semblent\" | \" \"\n",
    "Var3 -> \"pas\"\n",
    "Var4 -> \"avoir\"\n",
    "Var5 -> \"de\"\n",
    "Trigger_Rule -> \"|forward|trigger|negated|10|Group[479]|Clement\"\n",
    "\"\"\"\n",
    "\n",
    "for sentence in generate(CFG.fromstring(cfg_grammar), n=1000):\n",
    "    print(' '.join(sentence))"
   ]
  },
  {
   "cell_type": "code",
   "execution_count": 22,
   "metadata": {},
   "outputs": [
    {
     "name": "stdout",
     "output_type": "stream",
     "text": [
      "n'exprime _ pas |forward|trigger|negated|10|Group[487]|Clement\n",
      "n'exprime _ent pas |forward|trigger|negated|10|Group[487]|Clement\n",
      "ne dit _ pas |forward|trigger|negated|10|Group[487]|Clement\n",
      "ne dit _ent pas |forward|trigger|negated|10|Group[487]|Clement\n",
      "n'expose _ pas |forward|trigger|negated|10|Group[487]|Clement\n",
      "n'expose _ent pas |forward|trigger|negated|10|Group[487]|Clement\n",
      "n'énonce _ pas |forward|trigger|negated|10|Group[487]|Clement\n",
      "n'énonce _ent pas |forward|trigger|negated|10|Group[487]|Clement\n",
      "n'affiche _ pas |forward|trigger|negated|10|Group[487]|Clement\n",
      "n'affiche _ent pas |forward|trigger|negated|10|Group[487]|Clement\n",
      "n'émet _ pas |forward|trigger|negated|10|Group[487]|Clement\n",
      "n'émet _ent pas |forward|trigger|negated|10|Group[487]|Clement\n",
      "ne signale _ pas |forward|trigger|negated|10|Group[487]|Clement\n",
      "ne signale _ent pas |forward|trigger|negated|10|Group[487]|Clement\n",
      "ne signifie _ pas |forward|trigger|negated|10|Group[487]|Clement\n",
      "ne signifie _ent pas |forward|trigger|negated|10|Group[487]|Clement\n",
      "ne déclare _ pas |forward|trigger|negated|10|Group[487]|Clement\n",
      "ne déclare _ent pas |forward|trigger|negated|10|Group[487]|Clement\n",
      "ne témoigne _ pas |forward|trigger|negated|10|Group[487]|Clement\n",
      "ne témoigne _ent pas |forward|trigger|negated|10|Group[487]|Clement\n",
      "ne montre _ pas |forward|trigger|negated|10|Group[487]|Clement\n",
      "ne montre _ent pas |forward|trigger|negated|10|Group[487]|Clement\n",
      "ne manifeste _ pas |forward|trigger|negated|10|Group[487]|Clement\n",
      "ne manifeste _ent pas |forward|trigger|negated|10|Group[487]|Clement\n",
      "ne découvre _ pas |forward|trigger|negated|10|Group[487]|Clement\n",
      "ne découvre _ent pas |forward|trigger|negated|10|Group[487]|Clement\n",
      "ne figure _ pas |forward|trigger|negated|10|Group[487]|Clement\n",
      "ne figure _ent pas |forward|trigger|negated|10|Group[487]|Clement\n",
      "ne traduise _ pas |forward|trigger|negated|10|Group[487]|Clement\n",
      "ne traduise _ent pas |forward|trigger|negated|10|Group[487]|Clement\n"
     ]
    }
   ],
   "source": [
    "from nltk.parse.generate import generate, demo_grammar\n",
    "from nltk import CFG\n",
    "\n",
    "cfg_grammar= \"\"\"\n",
    "S -> Var1 Termin Var2 Trigger_Rule\n",
    "Var1 -> \"n'exprime\" | \"ne dit\" | \"n'expose\" | \"n'énonce\" | \"n'affiche\" | \"n'émet\" | \"ne signale\" | \"ne signifie\" | \"ne déclare\" | \"ne témoigne\" | \"ne montre\" | \"ne manifeste\" | \"ne découvre\" | \"ne figure\" | \"ne traduise\"\n",
    "Termin -> \"_\"|\"_ent\"\n",
    "Var2 -> \"pas\"\n",
    "Trigger_Rule -> \"|forward|trigger|negated|10|Group[487]|Clement\"\n",
    "\"\"\"\n",
    "\n",
    "for sentence in generate(CFG.fromstring(cfg_grammar), n=1000):\n",
    "    print(' '.join(sentence))"
   ]
  },
  {
   "cell_type": "code",
   "execution_count": 23,
   "metadata": {},
   "outputs": [
    {
     "name": "stdout",
     "output_type": "stream",
     "text": [
      "n'utilise _ pas |forward|trigger|negated|10|Group[489]|Clement\n",
      "n'utilise _ent pas |forward|trigger|negated|10|Group[489]|Clement\n",
      "n'employe _ pas |forward|trigger|negated|10|Group[489]|Clement\n",
      "n'employe _ent pas |forward|trigger|negated|10|Group[489]|Clement\n",
      "ne serve _ pas |forward|trigger|negated|10|Group[489]|Clement\n",
      "ne serve _ent pas |forward|trigger|negated|10|Group[489]|Clement\n",
      "ne recoure _ pas |forward|trigger|negated|10|Group[489]|Clement\n",
      "ne recoure _ent pas |forward|trigger|negated|10|Group[489]|Clement\n",
      "ne serve _ pas |forward|trigger|negated|10|Group[489]|Clement\n",
      "ne serve _ent pas |forward|trigger|negated|10|Group[489]|Clement\n",
      "n'use _ pas |forward|trigger|negated|10|Group[489]|Clement\n",
      "n'use _ent pas |forward|trigger|negated|10|Group[489]|Clement\n",
      "ne prene _ pas |forward|trigger|negated|10|Group[489]|Clement\n",
      "ne prene _ent pas |forward|trigger|negated|10|Group[489]|Clement\n",
      "n'applique _ pas |forward|trigger|negated|10|Group[489]|Clement\n",
      "n'applique _ent pas |forward|trigger|negated|10|Group[489]|Clement\n",
      "ne manipule _ pas |forward|trigger|negated|10|Group[489]|Clement\n",
      "ne manipule _ent pas |forward|trigger|negated|10|Group[489]|Clement\n",
      "n'exploite _ pas |forward|trigger|negated|10|Group[489]|Clement\n",
      "n'exploite _ent pas |forward|trigger|negated|10|Group[489]|Clement\n",
      "ne manie _ pas |forward|trigger|negated|10|Group[489]|Clement\n",
      "ne manie _ent pas |forward|trigger|negated|10|Group[489]|Clement\n"
     ]
    }
   ],
   "source": [
    "from nltk.parse.generate import generate, demo_grammar\n",
    "from nltk import CFG\n",
    "\n",
    "cfg_grammar= \"\"\"\n",
    "S -> Var1 Termin Var2 Trigger_Rule\n",
    "Var1 -> \"n'utilise\" | \"n'employe\" | \"ne serve\" | \"ne recoure\" | \"ne serve\" | \"n'use\" | \"ne prene\" | \"n'applique\" | \"ne manipule\" | \"n'exploite\" | \"ne manie\"\n",
    "Termin -> \"_\"|\"_ent\"\n",
    "Var2 -> \"pas\"\n",
    "Trigger_Rule -> \"|forward|trigger|negated|10|Group[489]|Clement\"\n",
    "\"\"\"\n",
    "\n",
    "for sentence in generate(CFG.fromstring(cfg_grammar), n=1000):\n",
    "    print(' '.join(sentence))"
   ]
  },
  {
   "cell_type": "code",
   "execution_count": 24,
   "metadata": {},
   "outputs": [
    {
     "name": "stdout",
     "output_type": "stream",
     "text": [
      "généralement pas |forward|trigger|negated|10|Group[491]|Clement\n",
      "en général pas |forward|trigger|negated|10|Group[491]|Clement\n",
      "habituellement pas |forward|trigger|negated|10|Group[491]|Clement\n"
     ]
    }
   ],
   "source": [
    "from nltk.parse.generate import generate, demo_grammar\n",
    "from nltk import CFG\n",
    "\n",
    "cfg_grammar= \"\"\"\n",
    "S ->  Var1 Var2 Trigger_Rule\n",
    "Var1 -> \"généralement\" | \"en général\" | \"habituellement\"\n",
    "Var2 -> \"pas\"\n",
    "Trigger_Rule -> \"|forward|trigger|negated|10|Group[491]|Clement\"\n",
    "\"\"\"\n",
    "\n",
    "for sentence in generate(CFG.fromstring(cfg_grammar), n=1000):\n",
    "    print(' '.join(sentence))"
   ]
  },
  {
   "cell_type": "code",
   "execution_count": 25,
   "metadata": {},
   "outputs": [
    {
     "name": "stdout",
     "output_type": "stream",
     "text": [
      "ne fait pas |forward|trigger|negated|10|Group[493]|Clement\n",
      "ne faisait pas |forward|trigger|negated|10|Group[493]|Clement\n"
     ]
    }
   ],
   "source": [
    "from nltk.parse.generate import generate, demo_grammar\n",
    "from nltk import CFG\n",
    "\n",
    "cfg_grammar= \"\"\"\n",
    "S ->  Var1 Var2 Var3 Trigger_Rule\n",
    "Var1 -> \"ne\"\n",
    "Var2 -> \"fait\" | \"faisait\"\n",
    "Var3 -> \"pas\"\n",
    "Trigger_Rule -> \"|forward|trigger|negated|10|Group[493]|Clement\"\n",
    "\"\"\"\n",
    "\n",
    "for sentence in generate(CFG.fromstring(cfg_grammar), n=1000):\n",
    "    print(' '.join(sentence))"
   ]
  },
  {
   "cell_type": "code",
   "execution_count": 26,
   "metadata": {},
   "outputs": [
    {
     "name": "stdout",
     "output_type": "stream",
     "text": [
      "ne ressemble _ pas |forward|trigger|negated|10|Group[495]|Clement\n",
      "ne ressemble _ent pas |forward|trigger|negated|10|Group[495]|Clement\n",
      "ne s'approche _ pas |forward|trigger|negated|10|Group[495]|Clement\n",
      "ne s'approche _ent pas |forward|trigger|negated|10|Group[495]|Clement\n",
      "ne corresponde _ pas |forward|trigger|negated|10|Group[495]|Clement\n",
      "ne corresponde _ent pas |forward|trigger|negated|10|Group[495]|Clement\n",
      "ne ne rappelle _ pas |forward|trigger|negated|10|Group[495]|Clement\n",
      "ne ne rappelle _ent pas |forward|trigger|negated|10|Group[495]|Clement\n",
      "ne se recoupe _ pas |forward|trigger|negated|10|Group[495]|Clement\n",
      "ne se recoupe _ent pas |forward|trigger|negated|10|Group[495]|Clement\n",
      "ne se rapproche _ pas |forward|trigger|negated|10|Group[495]|Clement\n",
      "ne se rapproche _ent pas |forward|trigger|negated|10|Group[495]|Clement\n"
     ]
    }
   ],
   "source": [
    "from nltk.parse.generate import generate, demo_grammar\n",
    "from nltk import CFG\n",
    "\n",
    "cfg_grammar= \"\"\"\n",
    "S ->  Var1 Var2 Termin Var3 Trigger_Rule\n",
    "Var1 -> \"ne\"\n",
    "Var2 -> \"ressemble\" | \"s'approche\" | \"corresponde\" | \"ne rappelle\" | \"se recoupe\"  | \"se rapproche\"\n",
    "Termin -> \"_\"|\"_ent\"\n",
    "Var3 -> \"pas\"\n",
    "Trigger_Rule -> \"|forward|trigger|negated|10|Group[495]|Clement\"\n",
    "\"\"\"\n",
    "\n",
    "for sentence in generate(CFG.fromstring(cfg_grammar), n=1000):\n",
    "    print(' '.join(sentence))"
   ]
  },
  {
   "cell_type": "code",
   "execution_count": 27,
   "metadata": {},
   "outputs": [
    {
     "name": "stdout",
     "output_type": "stream",
     "text": [
      "n'imite pas |forward|trigger|negated|10|Group[495]|Clement\n",
      "n'a aucun rapport avec |forward|trigger|negated|10|Group[495]|Clement\n",
      "n'est la réplique de |forward|trigger|negated|10|Group[495]|Clement\n",
      "n'ont aucun rapport avec |forward|trigger|negated|10|Group[495]|Clement\n",
      "ne sont la réplique de |forward|trigger|negated|10|Group[495]|Clement\n"
     ]
    }
   ],
   "source": [
    "from nltk.parse.generate import generate, demo_grammar\n",
    "from nltk import CFG\n",
    "\n",
    "cfg_grammar= \"\"\"\n",
    "S -> Var1 Trigger_Rule\n",
    "Var1 -> \"n'imite pas\" | \"n'a aucun rapport avec\" | \"n'est la réplique de\" | \"n'ont aucun rapport avec\" | \"ne sont la réplique de\" \n",
    "Trigger_Rule -> \"|forward|trigger|negated|10|Group[495]|Clement\"\n",
    "\"\"\"\n",
    "\n",
    "for sentence in generate(CFG.fromstring(cfg_grammar), n=1000):\n",
    "    print(' '.join(sentence))"
   ]
  },
  {
   "cell_type": "code",
   "execution_count": 28,
   "metadata": {},
   "outputs": [
    {
     "name": "stdout",
     "output_type": "stream",
     "text": [
      "doute |forward|trigger|uncertain|30|Group[497]|Clement\n",
      "perplexité |forward|trigger|uncertain|30|Group[497]|Clement\n",
      "hésitation |forward|trigger|uncertain|30|Group[497]|Clement\n",
      "indétermination |forward|trigger|uncertain|30|Group[497]|Clement\n",
      "indécision |forward|trigger|uncertain|30|Group[497]|Clement\n",
      "crainte |forward|trigger|uncertain|30|Group[497]|Clement\n",
      "appréhension |forward|trigger|uncertain|30|Group[497]|Clement\n",
      "supposition |forward|trigger|uncertain|30|Group[497]|Clement\n",
      "inquiétude |forward|trigger|uncertain|30|Group[497]|Clement\n",
      "croyance |forward|trigger|uncertain|30|Group[497]|Clement\n"
     ]
    }
   ],
   "source": [
    "from nltk.parse.generate import generate, demo_grammar\n",
    "from nltk import CFG\n",
    "\n",
    "cfg_grammar= \"\"\"\n",
    "S ->  Var1 Trigger_Rule\n",
    "Var1 -> \"doute\" | \"perplexité\" | \"hésitation\" | \"indétermination\" | \"indécision\" | \"crainte\" | \"appréhension\" | \"supposition\" | \"inquiétude\" | \"croyance\"\n",
    "Trigger_Rule -> \"|forward|trigger|uncertain|30|Group[497]|Clement\"\n",
    "\"\"\"\n",
    "\n",
    "for sentence in generate(CFG.fromstring(cfg_grammar), n=1000):\n",
    "    print(' '.join(sentence))"
   ]
  },
  {
   "cell_type": "code",
   "execution_count": 29,
   "metadata": {},
   "outputs": [
    {
     "name": "stdout",
     "output_type": "stream",
     "text": [
      "en raison de |forward|termination|negated|10|Group[498]|Clement\n",
      "a cause de |forward|termination|negated|10|Group[498]|Clement\n",
      "pourquoi de |forward|termination|negated|10|Group[498]|Clement\n",
      "comme explication de |forward|termination|negated|10|Group[498]|Clement\n",
      "comme fondement de |forward|termination|negated|10|Group[498]|Clement\n"
     ]
    }
   ],
   "source": [
    "from nltk.parse.generate import generate, demo_grammar\n",
    "from nltk import CFG\n",
    "\n",
    "cfg_grammar= \"\"\"\n",
    "S -> Var1 Var2 Trigger_Rule\n",
    "Var1 -> \"en raison\" | \"a cause\" | \"pourquoi\" | \"comme explication\" | \"comme fondement\"\n",
    "Var2 -> \"de\"\n",
    "Trigger_Rule -> \"|forward|termination|negated|10|Group[498]|Clement\"\n",
    "\"\"\"\n",
    "\n",
    "for sentence in generate(CFG.fromstring(cfg_grammar), n=1000):\n",
    "    print(' '.join(sentence))"
   ]
  },
  {
   "cell_type": "code",
   "execution_count": 30,
   "metadata": {},
   "outputs": [
    {
     "name": "stdout",
     "output_type": "stream",
     "text": [
      "ecchymoses _ à |forward|termination|negated|10|Group[499]|Clement\n",
      "ecchymoses _s à |forward|termination|negated|10|Group[499]|Clement\n",
      "hématome _ à |forward|termination|negated|10|Group[499]|Clement\n",
      "hématome _s à |forward|termination|negated|10|Group[499]|Clement\n",
      "coup _ à |forward|termination|negated|10|Group[499]|Clement\n",
      "coup _s à |forward|termination|negated|10|Group[499]|Clement\n",
      "blessure _ à |forward|termination|negated|10|Group[499]|Clement\n",
      "blessure _s à |forward|termination|negated|10|Group[499]|Clement\n",
      "meurtrissure _ à |forward|termination|negated|10|Group[499]|Clement\n",
      "meurtrissure _s à |forward|termination|negated|10|Group[499]|Clement\n",
      "cicatrice _ à |forward|termination|negated|10|Group[499]|Clement\n",
      "cicatrice _s à |forward|termination|negated|10|Group[499]|Clement\n",
      "égratignure _ à |forward|termination|negated|10|Group[499]|Clement\n",
      "égratignure _s à |forward|termination|negated|10|Group[499]|Clement\n",
      "escarre _ à |forward|termination|negated|10|Group[499]|Clement\n",
      "escarre _s à |forward|termination|negated|10|Group[499]|Clement\n",
      "contusion _ à |forward|termination|negated|10|Group[499]|Clement\n",
      "contusion _s à |forward|termination|negated|10|Group[499]|Clement\n",
      "entaille _ à |forward|termination|negated|10|Group[499]|Clement\n",
      "entaille _s à |forward|termination|negated|10|Group[499]|Clement\n",
      "éraflure _ à |forward|termination|negated|10|Group[499]|Clement\n",
      "éraflure _s à |forward|termination|negated|10|Group[499]|Clement\n"
     ]
    }
   ],
   "source": [
    "from nltk.parse.generate import generate, demo_grammar\n",
    "from nltk import CFG\n",
    "\n",
    "cfg_grammar= \"\"\"\n",
    "S ->  Var1 Termin Var2 Trigger_Rule\n",
    "Var1 -> \"ecchymoses\" | \"hématome\" | \"coup\" | \"blessure\" | \"meurtrissure\" | \"cicatrice\" | \"égratignure\" | \"escarre\" | \"contusion\" | \"entaille\" | \"éraflure\"\n",
    "Termin -> \"_\"|\"_s\"\n",
    "Var2 -> \"à\"\n",
    "Trigger_Rule -> \"|forward|termination|negated|10|Group[499]|Clement\"\n",
    "\"\"\"\n",
    "\n",
    "for sentence in generate(CFG.fromstring(cfg_grammar), n=1000):\n",
    "    print(' '.join(sentence))"
   ]
  },
  {
   "cell_type": "code",
   "execution_count": 31,
   "metadata": {},
   "outputs": [
    {
     "name": "stdout",
     "output_type": "stream",
     "text": [
      "département d'urgences |both|termination|historical|30|Group[501]|Clement\n",
      "aux urgences |both|termination|historical|30|Group[501]|Clement\n"
     ]
    }
   ],
   "source": [
    "from nltk.parse.generate import generate, demo_grammar\n",
    "from nltk import CFG\n",
    "\n",
    "cfg_grammar= \"\"\"\n",
    "S -> Var1 Trigger_Rule\n",
    "Var1 -> \"département d'urgences\" | \"aux urgences\"\n",
    "Trigger_Rule -> \"|both|termination|historical|30|Group[501]|Clement\"\n",
    "\"\"\"\n",
    "\n",
    "for sentence in generate(CFG.fromstring(cfg_grammar), n=1000):\n",
    "    print(' '.join(sentence))"
   ]
  },
  {
   "cell_type": "code",
   "execution_count": 32,
   "metadata": {},
   "outputs": [
    {
     "name": "stdout",
     "output_type": "stream",
     "text": [
      "étiologie de |forward|termination|negated|10|Group[502]|Clement\n",
      "étiologie pour |forward|termination|negated|10|Group[502]|Clement\n",
      "étiologie de |forward|termination|negated|10|Group[502]|Clement\n",
      "étiologie pour |forward|termination|negated|10|Group[502]|Clement\n",
      "causalité de |forward|termination|negated|10|Group[502]|Clement\n",
      "causalité pour |forward|termination|negated|10|Group[502]|Clement\n"
     ]
    }
   ],
   "source": [
    "from nltk.parse.generate import generate, demo_grammar\n",
    "from nltk import CFG\n",
    "\n",
    "cfg_grammar= \"\"\"\n",
    "S ->  Var1 Var2 Trigger_Rule\n",
    "Var1 -> \"étiologie\" | \"étiologie\" | \"causalité\"\n",
    "Var2 -> \"de\" | \"pour\"\n",
    "Trigger_Rule -> \"|forward|termination|negated|10|Group[502]|Clement\"\n",
    "\"\"\"\n",
    "\n",
    "for sentence in generate(CFG.fromstring(cfg_grammar), n=1000):\n",
    "    print(' '.join(sentence))"
   ]
  },
  {
   "cell_type": "code",
   "execution_count": 33,
   "metadata": {},
   "outputs": [
    {
     "name": "stdout",
     "output_type": "stream",
     "text": [
      "exacerbation de |forward|termination|negated|10|Group[504]|Clement\n",
      "redoublement de |forward|termination|negated|10|Group[504]|Clement\n",
      "intensification de |forward|termination|negated|10|Group[504]|Clement\n",
      "recrudescence de |forward|termination|negated|10|Group[504]|Clement\n",
      "excitation de |forward|termination|negated|10|Group[504]|Clement\n",
      "augmentation de |forward|termination|negated|10|Group[504]|Clement\n",
      "irritation de |forward|termination|negated|10|Group[504]|Clement\n",
      "aggravation de |forward|termination|negated|10|Group[504]|Clement\n",
      "agravation de |forward|termination|negated|10|Group[504]|Clement\n"
     ]
    }
   ],
   "source": [
    "from nltk.parse.generate import generate, demo_grammar\n",
    "from nltk import CFG\n",
    "\n",
    "cfg_grammar= \"\"\"\n",
    "S ->  Var1 Var2 Trigger_Rule\n",
    "Var1 -> \"exacerbation\" | \"redoublement\" | \"intensification\" | \"recrudescence\" | \"excitation\" | \"augmentation\" | \"irritation\" | \"aggravation\" | \"agravation\"\n",
    "Var2 -> \"de\"\n",
    "Trigger_Rule -> \"|forward|termination|negated|10|Group[504]|Clement\"\n",
    "\"\"\"\n",
    "\n",
    "for sentence in generate(CFG.fromstring(cfg_grammar), n=1000):\n",
    "    print(' '.join(sentence))"
   ]
  },
  {
   "cell_type": "code",
   "execution_count": 34,
   "metadata": {},
   "outputs": [
    {
     "name": "stdout",
     "output_type": "stream",
     "text": [
      "examens pour évaluer |forward|trigger|uncertain|30|Group[505]|Clement\n",
      "examens pour juger |forward|trigger|uncertain|30|Group[505]|Clement\n",
      "examens pour apprécier |forward|trigger|uncertain|30|Group[505]|Clement\n",
      "examens pour chiffrer |forward|trigger|uncertain|30|Group[505]|Clement\n",
      "examens pour calculer |forward|trigger|uncertain|30|Group[505]|Clement\n",
      "examens pour quantifier |forward|trigger|uncertain|30|Group[505]|Clement\n",
      "examens pour mesurer |forward|trigger|uncertain|30|Group[505]|Clement\n",
      "examens pour déterminer |forward|trigger|uncertain|30|Group[505]|Clement\n",
      "examens pour expertiser |forward|trigger|uncertain|30|Group[505]|Clement\n",
      "examens pour jauger |forward|trigger|uncertain|30|Group[505]|Clement\n",
      "examens pour compter |forward|trigger|uncertain|30|Group[505]|Clement\n",
      "examens pour examiner |forward|trigger|uncertain|30|Group[505]|Clement\n",
      "examens pour recenser |forward|trigger|uncertain|30|Group[505]|Clement\n",
      "consultation pour évaluer |forward|trigger|uncertain|30|Group[505]|Clement\n",
      "consultation pour juger |forward|trigger|uncertain|30|Group[505]|Clement\n",
      "consultation pour apprécier |forward|trigger|uncertain|30|Group[505]|Clement\n",
      "consultation pour chiffrer |forward|trigger|uncertain|30|Group[505]|Clement\n",
      "consultation pour calculer |forward|trigger|uncertain|30|Group[505]|Clement\n",
      "consultation pour quantifier |forward|trigger|uncertain|30|Group[505]|Clement\n",
      "consultation pour mesurer |forward|trigger|uncertain|30|Group[505]|Clement\n",
      "consultation pour déterminer |forward|trigger|uncertain|30|Group[505]|Clement\n",
      "consultation pour expertiser |forward|trigger|uncertain|30|Group[505]|Clement\n",
      "consultation pour jauger |forward|trigger|uncertain|30|Group[505]|Clement\n",
      "consultation pour compter |forward|trigger|uncertain|30|Group[505]|Clement\n",
      "consultation pour examiner |forward|trigger|uncertain|30|Group[505]|Clement\n",
      "consultation pour recenser |forward|trigger|uncertain|30|Group[505]|Clement\n",
      "observation pour évaluer |forward|trigger|uncertain|30|Group[505]|Clement\n",
      "observation pour juger |forward|trigger|uncertain|30|Group[505]|Clement\n",
      "observation pour apprécier |forward|trigger|uncertain|30|Group[505]|Clement\n",
      "observation pour chiffrer |forward|trigger|uncertain|30|Group[505]|Clement\n",
      "observation pour calculer |forward|trigger|uncertain|30|Group[505]|Clement\n",
      "observation pour quantifier |forward|trigger|uncertain|30|Group[505]|Clement\n",
      "observation pour mesurer |forward|trigger|uncertain|30|Group[505]|Clement\n",
      "observation pour déterminer |forward|trigger|uncertain|30|Group[505]|Clement\n",
      "observation pour expertiser |forward|trigger|uncertain|30|Group[505]|Clement\n",
      "observation pour jauger |forward|trigger|uncertain|30|Group[505]|Clement\n",
      "observation pour compter |forward|trigger|uncertain|30|Group[505]|Clement\n",
      "observation pour examiner |forward|trigger|uncertain|30|Group[505]|Clement\n",
      "observation pour recenser |forward|trigger|uncertain|30|Group[505]|Clement\n",
      "auscultation pour évaluer |forward|trigger|uncertain|30|Group[505]|Clement\n",
      "auscultation pour juger |forward|trigger|uncertain|30|Group[505]|Clement\n",
      "auscultation pour apprécier |forward|trigger|uncertain|30|Group[505]|Clement\n",
      "auscultation pour chiffrer |forward|trigger|uncertain|30|Group[505]|Clement\n",
      "auscultation pour calculer |forward|trigger|uncertain|30|Group[505]|Clement\n",
      "auscultation pour quantifier |forward|trigger|uncertain|30|Group[505]|Clement\n",
      "auscultation pour mesurer |forward|trigger|uncertain|30|Group[505]|Clement\n",
      "auscultation pour déterminer |forward|trigger|uncertain|30|Group[505]|Clement\n",
      "auscultation pour expertiser |forward|trigger|uncertain|30|Group[505]|Clement\n",
      "auscultation pour jauger |forward|trigger|uncertain|30|Group[505]|Clement\n",
      "auscultation pour compter |forward|trigger|uncertain|30|Group[505]|Clement\n",
      "auscultation pour examiner |forward|trigger|uncertain|30|Group[505]|Clement\n",
      "auscultation pour recenser |forward|trigger|uncertain|30|Group[505]|Clement\n",
      "examen médical pour évaluer |forward|trigger|uncertain|30|Group[505]|Clement\n",
      "examen médical pour juger |forward|trigger|uncertain|30|Group[505]|Clement\n",
      "examen médical pour apprécier |forward|trigger|uncertain|30|Group[505]|Clement\n",
      "examen médical pour chiffrer |forward|trigger|uncertain|30|Group[505]|Clement\n",
      "examen médical pour calculer |forward|trigger|uncertain|30|Group[505]|Clement\n",
      "examen médical pour quantifier |forward|trigger|uncertain|30|Group[505]|Clement\n",
      "examen médical pour mesurer |forward|trigger|uncertain|30|Group[505]|Clement\n",
      "examen médical pour déterminer |forward|trigger|uncertain|30|Group[505]|Clement\n",
      "examen médical pour expertiser |forward|trigger|uncertain|30|Group[505]|Clement\n",
      "examen médical pour jauger |forward|trigger|uncertain|30|Group[505]|Clement\n",
      "examen médical pour compter |forward|trigger|uncertain|30|Group[505]|Clement\n",
      "examen médical pour examiner |forward|trigger|uncertain|30|Group[505]|Clement\n",
      "examen médical pour recenser |forward|trigger|uncertain|30|Group[505]|Clement\n"
     ]
    }
   ],
   "source": [
    "from nltk.parse.generate import generate, demo_grammar\n",
    "from nltk import CFG\n",
    "\n",
    "cfg_grammar= \"\"\"\n",
    "S ->  Var1 Var2 Var3 Trigger_Rule\n",
    "Var1 -> \"examens\" | \"consultation\" | \"observation\" | \"auscultation\" | \"examen médical\"\n",
    "Var2 -> \"pour\"\n",
    "Var3 -> \"évaluer\" | \"juger\" | \"apprécier\" | \"chiffrer\" | \"calculer\" | \"quantifier\" | \"mesurer\" | \"déterminer\" | \"expertiser\" | \"jauger\" | \"compter\" | \"examiner\" | \"recenser\"\n",
    "Trigger_Rule -> \"|forward|trigger|uncertain|30|Group[505]|Clement\"\n",
    "\"\"\"\n",
    "\n",
    "for sentence in generate(CFG.fromstring(cfg_grammar), n=1000):\n",
    "    print(' '.join(sentence))"
   ]
  },
  {
   "cell_type": "code",
   "execution_count": 35,
   "metadata": {},
   "outputs": [
    {
     "name": "stdout",
     "output_type": "stream",
     "text": [
      "sauf |forward|termination|negated|10|Group[510]|Clement\n"
     ]
    }
   ],
   "source": [
    "from nltk.parse.generate import generate, demo_grammar\n",
    "from nltk import CFG\n",
    "\n",
    "cfg_grammar= \"\"\"\n",
    "S ->  Var1 Trigger_Rule\n",
    "Var1 -> \"sauf\"\n",
    "Trigger_Rule -> \"|forward|termination|negated|10|Group[510]|Clement\"\n",
    "\"\"\"\n",
    "\n",
    "for sentence in generate(CFG.fromstring(cfg_grammar), n=1000):\n",
    "    print(' '.join(sentence))"
   ]
  },
  {
   "cell_type": "code",
   "execution_count": 36,
   "metadata": {},
   "outputs": [
    {
     "name": "stdout",
     "output_type": "stream",
     "text": [
      "ne parvient pas à révéler |forward|trigger|negated|10|Group[512]|Clement\n",
      "ne parvient pas à divulguer |forward|trigger|negated|10|Group[512]|Clement\n",
      "ne parvient pas à déceler |forward|trigger|negated|10|Group[512]|Clement\n",
      "ne parvient pas à trahir |forward|trigger|negated|10|Group[512]|Clement\n",
      "ne parvient pas à dire |forward|trigger|negated|10|Group[512]|Clement\n",
      "ne parvient pas à exposer |forward|trigger|negated|10|Group[512]|Clement\n",
      "ne parvient pas à faire connaître |forward|trigger|negated|10|Group[512]|Clement\n",
      "ne parvient pas à exprimer |forward|trigger|negated|10|Group[512]|Clement\n",
      "ne parvient pas à signaler |forward|trigger|negated|10|Group[512]|Clement\n",
      "ne parvient pas à signifier |forward|trigger|negated|10|Group[512]|Clement\n",
      "ne parvient pas à annoncer |forward|trigger|negated|10|Group[512]|Clement\n",
      "ne parvient pas à développer |forward|trigger|negated|10|Group[512]|Clement\n",
      "ne parvient pas à démasquer |forward|trigger|negated|10|Group[512]|Clement\n",
      "ne parvient pas à afficher |forward|trigger|negated|10|Group[512]|Clement\n",
      "ne parvient pas à déclarer |forward|trigger|negated|10|Group[512]|Clement\n",
      "n'aboutir pas à révéler |forward|trigger|negated|10|Group[512]|Clement\n",
      "n'aboutir pas à divulguer |forward|trigger|negated|10|Group[512]|Clement\n",
      "n'aboutir pas à déceler |forward|trigger|negated|10|Group[512]|Clement\n",
      "n'aboutir pas à trahir |forward|trigger|negated|10|Group[512]|Clement\n",
      "n'aboutir pas à dire |forward|trigger|negated|10|Group[512]|Clement\n",
      "n'aboutir pas à exposer |forward|trigger|negated|10|Group[512]|Clement\n",
      "n'aboutir pas à faire connaître |forward|trigger|negated|10|Group[512]|Clement\n",
      "n'aboutir pas à exprimer |forward|trigger|negated|10|Group[512]|Clement\n",
      "n'aboutir pas à signaler |forward|trigger|negated|10|Group[512]|Clement\n",
      "n'aboutir pas à signifier |forward|trigger|negated|10|Group[512]|Clement\n",
      "n'aboutir pas à annoncer |forward|trigger|negated|10|Group[512]|Clement\n",
      "n'aboutir pas à développer |forward|trigger|negated|10|Group[512]|Clement\n",
      "n'aboutir pas à démasquer |forward|trigger|negated|10|Group[512]|Clement\n",
      "n'aboutir pas à afficher |forward|trigger|negated|10|Group[512]|Clement\n",
      "n'aboutir pas à déclarer |forward|trigger|negated|10|Group[512]|Clement\n",
      "ne réussi pas à révéler |forward|trigger|negated|10|Group[512]|Clement\n",
      "ne réussi pas à divulguer |forward|trigger|negated|10|Group[512]|Clement\n",
      "ne réussi pas à déceler |forward|trigger|negated|10|Group[512]|Clement\n",
      "ne réussi pas à trahir |forward|trigger|negated|10|Group[512]|Clement\n",
      "ne réussi pas à dire |forward|trigger|negated|10|Group[512]|Clement\n",
      "ne réussi pas à exposer |forward|trigger|negated|10|Group[512]|Clement\n",
      "ne réussi pas à faire connaître |forward|trigger|negated|10|Group[512]|Clement\n",
      "ne réussi pas à exprimer |forward|trigger|negated|10|Group[512]|Clement\n",
      "ne réussi pas à signaler |forward|trigger|negated|10|Group[512]|Clement\n",
      "ne réussi pas à signifier |forward|trigger|negated|10|Group[512]|Clement\n",
      "ne réussi pas à annoncer |forward|trigger|negated|10|Group[512]|Clement\n",
      "ne réussi pas à développer |forward|trigger|negated|10|Group[512]|Clement\n",
      "ne réussi pas à démasquer |forward|trigger|negated|10|Group[512]|Clement\n",
      "ne réussi pas à afficher |forward|trigger|negated|10|Group[512]|Clement\n",
      "ne réussi pas à déclarer |forward|trigger|negated|10|Group[512]|Clement\n"
     ]
    }
   ],
   "source": [
    "from nltk.parse.generate import generate, demo_grammar\n",
    "from nltk import CFG\n",
    "\n",
    "cfg_grammar= \"\"\"\n",
    "S -> Var1 Var2 Var3 Var4 Trigger_Rule\n",
    "Var1 -> \"ne parvient\" | \"n'aboutir\" | \"ne réussi\"\n",
    "Var2 -> \"pas\"\n",
    "Var3 -> \"à\"\n",
    "Var4 -> \"révéler\" | \"divulguer\" | \"déceler\" | \"trahir\" | \"dire\" | \"exposer\" | \"faire connaître\" | \"exprimer\" | \"signaler\" | \"signifier\" | \"annoncer\" | \"développer\" | \"démasquer\" | \"afficher\" | \"déclarer\"\n",
    "Trigger_Rule -> \"|forward|trigger|negated|10|Group[512]|Clement\"\n",
    "\"\"\"\n",
    "\n",
    "for sentence in generate(CFG.fromstring(cfg_grammar), n=1000):\n",
    "    print(' '.join(sentence))"
   ]
  },
  {
   "cell_type": "code",
   "execution_count": 37,
   "metadata": {},
   "outputs": [
    {
     "name": "stdout",
     "output_type": "stream",
     "text": [
      "faux négatif |both|pseudo|negated|10|Group[514]|Clement\n"
     ]
    }
   ],
   "source": [
    "from nltk.parse.generate import generate, demo_grammar\n",
    "from nltk import CFG\n",
    "\n",
    "cfg_grammar= \"\"\"\n",
    "S ->  Var1 Var2 Trigger_Rule\n",
    "Var1 -> \"faux\"\n",
    "Var2 -> \"négatif\"\n",
    "Trigger_Rule -> \"|both|pseudo|negated|10|Group[514]|Clement\"\n",
    "\"\"\"\n",
    "\n",
    "for sentence in generate(CFG.fromstring(cfg_grammar), n=1000):\n",
    "    print(' '.join(sentence))"
   ]
  },
  {
   "cell_type": "code",
   "execution_count": 38,
   "metadata": {},
   "outputs": [
    {
     "name": "stdout",
     "output_type": "stream",
     "text": [
      "fh |forward|trigger|nonpatient|30|Group[530]|Clement\n",
      "f / h |forward|trigger|nonpatient|30|Group[530]|Clement\n"
     ]
    }
   ],
   "source": [
    "from nltk.parse.generate import generate, demo_grammar\n",
    "from nltk import CFG\n",
    "\n",
    "cfg_grammar= \"\"\"\n",
    "S ->  Var1 Trigger_Rule\n",
    "Var1 -> \"fh\" |\"f / h\"\n",
    "Trigger_Rule -> \"|forward|trigger|nonpatient|30|Group[530]|Clement\"\n",
    "\"\"\"\n",
    "\n",
    "for sentence in generate(CFG.fromstring(cfg_grammar), n=1000):\n",
    "    print(' '.join(sentence))"
   ]
  },
  {
   "cell_type": "code",
   "execution_count": 39,
   "metadata": {},
   "outputs": [
    {
     "name": "stdout",
     "output_type": "stream",
     "text": [
      "indication du rapport final |both|pseudo|uncertain|30|Group[531]|Clement\n",
      "prescription du rapport final |both|pseudo|uncertain|30|Group[531]|Clement\n",
      "directive du rapport final |both|pseudo|uncertain|30|Group[531]|Clement\n",
      "renvoi du rapport final |both|pseudo|uncertain|30|Group[531]|Clement\n",
      "information du rapport final |both|pseudo|uncertain|30|Group[531]|Clement\n",
      "note du rapport final |both|pseudo|uncertain|30|Group[531]|Clement\n",
      "recommandation du rapport final |both|pseudo|uncertain|30|Group[531]|Clement\n",
      "suggestion du rapport final |both|pseudo|uncertain|30|Group[531]|Clement\n",
      "mention du rapport final |both|pseudo|uncertain|30|Group[531]|Clement\n"
     ]
    }
   ],
   "source": [
    "from nltk.parse.generate import generate, demo_grammar\n",
    "from nltk import CFG\n",
    "\n",
    "cfg_grammar= \"\"\"\n",
    "S ->  Var1 Var2 Var3 Var4 Trigger_Rule\n",
    "Var1 -> \"indication\" | \"prescription\" | \"directive\" | \"renvoi\" | \"information\" | \"note\" | \"recommandation\" | \"suggestion\" | \"mention\"\n",
    "Var2 -> \"du\"\n",
    "Var3 -> \"rapport\"\n",
    "Var4 -> \"final\"\n",
    "Trigger_Rule -> \"|both|pseudo|uncertain|30|Group[531]|Clement\"\n",
    "\"\"\"\n",
    "\n",
    "for sentence in generate(CFG.fromstring(cfg_grammar), n=1000):\n",
    "    print(' '.join(sentence))"
   ]
  },
  {
   "cell_type": "code",
   "execution_count": 40,
   "metadata": {},
   "outputs": [
    {
     "name": "stdout",
     "output_type": "stream",
     "text": [
      "pour présumer |forward|trigger|uncertain|30|Group[532]|Clement\n",
      "pour soupçonner |forward|trigger|uncertain|30|Group[532]|Clement\n",
      "pour estimer |forward|trigger|uncertain|30|Group[532]|Clement\n",
      "pour conjecturer |forward|trigger|uncertain|30|Group[532]|Clement\n",
      "pour pressentir |forward|trigger|uncertain|30|Group[532]|Clement\n",
      "pour présager |forward|trigger|uncertain|30|Group[532]|Clement\n",
      "pour espérer |forward|trigger|uncertain|30|Group[532]|Clement\n",
      "pour préjuger |forward|trigger|uncertain|30|Group[532]|Clement\n",
      "pour présupposer |forward|trigger|uncertain|30|Group[532]|Clement\n",
      "pour prétendre |forward|trigger|uncertain|30|Group[532]|Clement\n",
      "pour prédire |forward|trigger|uncertain|30|Group[532]|Clement\n"
     ]
    }
   ],
   "source": [
    "from nltk.parse.generate import generate, demo_grammar\n",
    "from nltk import CFG\n",
    "\n",
    "cfg_grammar= \"\"\"\n",
    "S ->  Var1 Var2 Trigger_Rule\n",
    "Var1 -> \"pour\"\n",
    "Var2 -> \"présumer\" | \"soupçonner\" | \"estimer\" | \"conjecturer\" | \"pressentir\" | \"présager\" | \"espérer\" |\"préjuger\" | \"présupposer\" | \"prétendre\" | \"prédire\"\n",
    "Trigger_Rule -> \"|forward|trigger|uncertain|30|Group[532]|Clement\"\n",
    "\"\"\"\n",
    "\n",
    "for sentence in generate(CFG.fromstring(cfg_grammar), n=1000):\n",
    "    print(' '.join(sentence))"
   ]
  },
  {
   "cell_type": "code",
   "execution_count": 41,
   "metadata": {},
   "outputs": [
    {
     "name": "stdout",
     "output_type": "stream",
     "text": [
      "mur libre |both|pseudo|negated|10|Group[533]|Clement\n",
      "mûri libre |both|pseudo|negated|10|Group[533]|Clement\n",
      "obstacle libre |both|pseudo|negated|10|Group[533]|Clement\n",
      "bon pour libre |both|pseudo|negated|10|Group[533]|Clement\n",
      "mûr libre |both|pseudo|negated|10|Group[533]|Clement\n",
      "accompli libre |both|pseudo|negated|10|Group[533]|Clement\n",
      "mature libre |both|pseudo|negated|10|Group[533]|Clement\n",
      "apte libre |both|pseudo|negated|10|Group[533]|Clement\n",
      "usagé libre |both|pseudo|negated|10|Group[533]|Clement\n",
      "falaise libre |both|pseudo|negated|10|Group[533]|Clement\n",
      "frontière libre |both|pseudo|negated|10|Group[533]|Clement\n",
      "avancé libre |both|pseudo|negated|10|Group[533]|Clement\n",
      "formé libre |both|pseudo|negated|10|Group[533]|Clement\n",
      "cloisonnement libre |both|pseudo|negated|10|Group[533]|Clement\n",
      "barrières libre |both|pseudo|negated|10|Group[533]|Clement\n"
     ]
    }
   ],
   "source": [
    "from nltk.parse.generate import generate, demo_grammar\n",
    "from nltk import CFG\n",
    "\n",
    "cfg_grammar= \"\"\"\n",
    "S ->  Var1 Var2 Trigger_Rule\n",
    "Var1 -> \"mur\" | \"mûri\" | \"obstacle\" | \"bon pour\" | \"mûr\" | \"accompli\" | \"mature\" | \"apte\" | \"usagé\" | \"falaise\" | \"frontière\" | \"avancé\" | \"formé\" | \"cloisonnement\" | \"barrières\"\n",
    "Var2 -> \"libre\"\n",
    "Trigger_Rule -> \"|both|pseudo|negated|10|Group[533]|Clement\"\n",
    "\"\"\"\n",
    "\n",
    "for sentence in generate(CFG.fromstring(cfg_grammar), n=1000):\n",
    "    print(' '.join(sentence))"
   ]
  },
  {
   "cell_type": "code",
   "execution_count": 42,
   "metadata": {},
   "outputs": [
    {
     "name": "stdout",
     "output_type": "stream",
     "text": [
      "de |both|pseudo|uncertain|30|Group[541]|Clement\n"
     ]
    }
   ],
   "source": [
    "from nltk.parse.generate import generate, demo_grammar\n",
    "from nltk import CFG\n",
    "\n",
    "cfg_grammar= \"\"\"\n",
    "S ->  Var1 Trigger_Rule\n",
    "Var1 -> \"de\"\n",
    "Trigger_Rule -> \"|both|pseudo|uncertain|30|Group[541]|Clement\"\n",
    "\"\"\"\n",
    "\n",
    "for sentence in generate(CFG.fromstring(cfg_grammar), n=1000):\n",
    "    print(' '.join(sentence))"
   ]
  },
  {
   "cell_type": "code",
   "execution_count": 43,
   "metadata": {},
   "outputs": [
    {
     "name": "stdout",
     "output_type": "stream",
     "text": [
      "histoire du patient |both|pseudo|uncertain|30|Group[542]|Clement\n",
      "histoire de la patiente |both|pseudo|uncertain|30|Group[542]|Clement\n",
      "histoire du souffrant |both|pseudo|uncertain|30|Group[542]|Clement\n",
      "histoire de la souffrante |both|pseudo|uncertain|30|Group[542]|Clement\n",
      "histoire du sujet |both|pseudo|uncertain|30|Group[542]|Clement\n",
      "passé du patient |both|pseudo|uncertain|30|Group[542]|Clement\n",
      "passé de la patiente |both|pseudo|uncertain|30|Group[542]|Clement\n",
      "passé du souffrant |both|pseudo|uncertain|30|Group[542]|Clement\n",
      "passé de la souffrante |both|pseudo|uncertain|30|Group[542]|Clement\n",
      "passé du sujet |both|pseudo|uncertain|30|Group[542]|Clement\n",
      "souvenir du patient |both|pseudo|uncertain|30|Group[542]|Clement\n",
      "souvenir de la patiente |both|pseudo|uncertain|30|Group[542]|Clement\n",
      "souvenir du souffrant |both|pseudo|uncertain|30|Group[542]|Clement\n",
      "souvenir de la souffrante |both|pseudo|uncertain|30|Group[542]|Clement\n",
      "souvenir du sujet |both|pseudo|uncertain|30|Group[542]|Clement\n",
      "historique du patient |both|pseudo|uncertain|30|Group[542]|Clement\n",
      "historique de la patiente |both|pseudo|uncertain|30|Group[542]|Clement\n",
      "historique du souffrant |both|pseudo|uncertain|30|Group[542]|Clement\n",
      "historique de la souffrante |both|pseudo|uncertain|30|Group[542]|Clement\n",
      "historique du sujet |both|pseudo|uncertain|30|Group[542]|Clement\n"
     ]
    }
   ],
   "source": [
    "from nltk.parse.generate import generate, demo_grammar\n",
    "from nltk import CFG\n",
    "\n",
    "cfg_grammar= \"\"\"\n",
    "S ->  Var1 Patient Trigger_Rule\n",
    "Var1 -> \"histoire\" | \"passé\" | \"souvenir\" | \"historique\"\n",
    "Patient -> \"du patient\" | \"de la patiente\"| \"du souffrant\" | \"de la souffrante\"| \"du sujet\"\n",
    "Trigger_Rule -> \"|both|pseudo|uncertain|30|Group[542]|Clement\"\n",
    "\"\"\"\n",
    "\n",
    "for sentence in generate(CFG.fromstring(cfg_grammar), n=1000):\n",
    "    print(' '.join(sentence))"
   ]
  },
  {
   "cell_type": "code",
   "execution_count": 44,
   "metadata": {},
   "outputs": [
    {
     "name": "stdout",
     "output_type": "stream",
     "text": [
      "compte tenu de l'histoire |forward|termination|negated|10|Group[543]|Clement\n",
      "compte tenu du passé |forward|termination|negated|10|Group[543]|Clement\n",
      "compte tenu de l'historique |forward|termination|negated|10|Group[543]|Clement\n",
      "compte tenu du fait |forward|termination|negated|10|Group[543]|Clement\n"
     ]
    }
   ],
   "source": [
    "from nltk.parse.generate import generate, demo_grammar\n",
    "from nltk import CFG\n",
    "\n",
    "cfg_grammar= \"\"\"\n",
    "S ->  Var1 Var2 Var3 Trigger_Rule\n",
    "Var1 -> \"compte\"\n",
    "Var2 -> \"tenu\"\n",
    "Var3 -> \"de l'histoire\" | \"du passé\" | \"de l'historique\" | \"du fait\"\n",
    "Trigger_Rule -> \"|forward|termination|negated|10|Group[543]|Clement\"\n",
    "\"\"\"\n",
    "\n",
    "for sentence in generate(CFG.fromstring(cfg_grammar), n=1000):\n",
    "    print(' '.join(sentence))"
   ]
  },
  {
   "cell_type": "code",
   "execution_count": 45,
   "metadata": {},
   "outputs": [
    {
     "name": "stdout",
     "output_type": "stream",
     "text": [
      "compte tenu de son histoire |forward|termination|negated|10|Group[543]|Clement\n",
      "compte tenu de son passé |forward|termination|negated|10|Group[543]|Clement\n",
      "compte tenu de son historique |forward|termination|negated|10|Group[543]|Clement\n"
     ]
    }
   ],
   "source": [
    "from nltk.parse.generate import generate, demo_grammar\n",
    "from nltk import CFG\n",
    "\n",
    "cfg_grammar= \"\"\"\n",
    "S ->  Var1 Var2 Var3 Var4 Var5 Trigger_Rule\n",
    "Var1 -> \"compte\"\n",
    "Var2 -> \"tenu\"\n",
    "Var3 -> \"de\"\n",
    "Var4 -> \"son\"\n",
    "Var5 -> \"histoire\" | \"passé\" | \"historique\"\n",
    "Trigger_Rule -> \"|forward|termination|negated|10|Group[543]|Clement\"\n",
    "\"\"\"\n",
    "\n",
    "for sentence in generate(CFG.fromstring(cfg_grammar), n=1000):\n",
    "    print(' '.join(sentence))"
   ]
  },
  {
   "cell_type": "code",
   "execution_count": 46,
   "metadata": {},
   "outputs": [
    {
     "name": "stdout",
     "output_type": "stream",
     "text": [
      "compte tenu de la gravité de |forward|termination|negated|10|Group[543]|Clement\n",
      "compte tenu du sérieux de |forward|termination|negated|10|Group[543]|Clement\n",
      "compte tenu de la sévérité de |forward|termination|negated|10|Group[543]|Clement\n",
      "compte tenu de l'urgence de |forward|termination|negated|10|Group[543]|Clement\n",
      "compte tenu du caractère de |forward|termination|negated|10|Group[543]|Clement\n",
      "compte tenu de la sériosité de |forward|termination|negated|10|Group[543]|Clement\n"
     ]
    }
   ],
   "source": [
    "from nltk.parse.generate import generate, demo_grammar\n",
    "from nltk import CFG\n",
    "\n",
    "cfg_grammar= \"\"\"\n",
    "S ->  Var1 Var2 Var3 Var4 Trigger_Rule\n",
    "Var1 -> \"compte\"\n",
    "Var2 -> \"tenu\"\n",
    "Var3 -> \"de la gravité\" | \"du sérieux\" | \"de la sévérité\" | \"de l'urgence\" | \"du caractère\" | \"de la sériosité\"\n",
    "Var4 -> \"de\"\n",
    "Trigger_Rule -> \"|forward|termination|negated|10|Group[543]|Clement\"\n",
    "\"\"\"\n",
    "\n",
    "for sentence in generate(CFG.fromstring(cfg_grammar), n=1000):\n",
    "    print(' '.join(sentence))"
   ]
  },
  {
   "cell_type": "code",
   "execution_count": 47,
   "metadata": {},
   "outputs": [
    {
     "name": "stdout",
     "output_type": "stream",
     "text": [
      "étant donné que |forward|termination|negated|10|Group[543]|Clement\n"
     ]
    }
   ],
   "source": [
    "from nltk.parse.generate import generate, demo_grammar\n",
    "from nltk import CFG\n",
    "\n",
    "cfg_grammar= \"\"\"\n",
    "S ->  Var1 Var2 Var3 Trigger_Rule\n",
    "Var1 -> \"étant\"\n",
    "Var2 -> \"donné\"\n",
    "Var3 -> \"que\"\n",
    "Trigger_Rule -> \"|forward|termination|negated|10|Group[543]|Clement\"\n",
    "\"\"\"\n",
    "\n",
    "for sentence in generate(CFG.fromstring(cfg_grammar), n=1000):\n",
    "    print(' '.join(sentence))"
   ]
  },
  {
   "cell_type": "code",
   "execution_count": 48,
   "metadata": {},
   "outputs": [
    {
     "name": "stdout",
     "output_type": "stream",
     "text": [
      "gram négatif |both|pseudo|negated|10|Group[550]|Clement\n"
     ]
    }
   ],
   "source": [
    "from nltk.parse.generate import generate, demo_grammar\n",
    "from nltk import CFG\n",
    "\n",
    "cfg_grammar= \"\"\"\n",
    "S ->  Var1 Var2 Trigger_Rule\n",
    "Var1 -> \"gram\"\n",
    "Var2 -> \"négatif\"\n",
    "Trigger_Rule -> \"|both|pseudo|negated|10|Group[550]|Clement\"\n",
    "\"\"\"\n",
    "\n",
    "for sentence in generate(CFG.fromstring(cfg_grammar), n=1000):\n",
    "    print(' '.join(sentence))"
   ]
  }
 ],
 "metadata": {
  "file_extension": ".py",
  "kernelspec": {
   "display_name": "Python 3",
   "language": "python",
   "name": "python3"
  },
  "language_info": {
   "codemirror_mode": {
    "name": "ipython",
    "version": 3
   },
   "file_extension": ".py",
   "mimetype": "text/x-python",
   "name": "python",
   "nbconvert_exporter": "python",
   "pygments_lexer": "ipython3",
   "version": "3.7.2"
  },
  "mimetype": "text/x-python",
  "name": "python",
  "nbconvert_exporter": "python",
  "pygments_lexer": "ipython3",
  "version": "3.7.2"
 },
 "nbformat": 4,
 "nbformat_minor": 2
}
