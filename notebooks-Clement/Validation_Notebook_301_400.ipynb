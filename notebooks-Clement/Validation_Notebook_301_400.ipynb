{
 "cells": [
  {
   "cell_type": "code",
   "execution_count": 1,
   "metadata": {},
   "outputs": [
    {
     "name": "stdout",
     "output_type": "stream",
     "text": [
      "avoir un \\w+ négatif |forward|trigger|negated|10|Group[557]|Clement\n",
      "avoir un \\w+ négative |forward|trigger|negated|10|Group[557]|Clement\n",
      "avoir un \\w+ nul |forward|trigger|negated|10|Group[557]|Clement\n",
      "avoir un \\w+ nulle |forward|trigger|negated|10|Group[557]|Clement\n",
      "avait un \\w+ négatif |forward|trigger|negated|10|Group[557]|Clement\n",
      "avait un \\w+ négative |forward|trigger|negated|10|Group[557]|Clement\n",
      "avait un \\w+ nul |forward|trigger|negated|10|Group[557]|Clement\n",
      "avait un \\w+ nulle |forward|trigger|negated|10|Group[557]|Clement\n",
      "a un \\w+ négatif |forward|trigger|negated|10|Group[557]|Clement\n",
      "a un \\w+ négative |forward|trigger|negated|10|Group[557]|Clement\n",
      "a un \\w+ nul |forward|trigger|negated|10|Group[557]|Clement\n",
      "a un \\w+ nulle |forward|trigger|negated|10|Group[557]|Clement\n",
      "ait un \\w+ négatif |forward|trigger|negated|10|Group[557]|Clement\n",
      "ait un \\w+ négative |forward|trigger|negated|10|Group[557]|Clement\n",
      "ait un \\w+ nul |forward|trigger|negated|10|Group[557]|Clement\n",
      "ait un \\w+ nulle |forward|trigger|negated|10|Group[557]|Clement\n",
      "aient un \\w+ négatif |forward|trigger|negated|10|Group[557]|Clement\n",
      "aient un \\w+ négative |forward|trigger|negated|10|Group[557]|Clement\n",
      "aient un \\w+ nul |forward|trigger|negated|10|Group[557]|Clement\n",
      "aient un \\w+ nulle |forward|trigger|negated|10|Group[557]|Clement\n"
     ]
    }
   ],
   "source": [
    "from nltk.parse.generate import generate, demo_grammar\n",
    "from nltk import CFG\n",
    "\n",
    "cfg_grammar= \"\"\"\n",
    "S ->  Var1 Var2 Var3 Var4 Trigger_Rule\n",
    "Var1 -> \"avoir\" |\"avait\" | \"a\" | \"ait\" | \"aient\"\n",
    "Var2 -> \"un\"\n",
    "Var3 -> \"\\\\w+\"\n",
    "Var4 -> \"négatif\" |\"négative\" | \"nul\" | \"nulle\"\n",
    "Trigger_Rule -> \"|forward|trigger|negated|10|Group[557]|Clement\"\n",
    "\"\"\"\n",
    "\n",
    "for sentence in generate(CFG.fromstring(cfg_grammar), n=1000):\n",
    "    print(' '.join(sentence))"
   ]
  },
  {
   "cell_type": "code",
   "execution_count": 2,
   "metadata": {},
   "outputs": [
    {
     "name": "stdout",
     "output_type": "stream",
     "text": [
      "avoir une \\w+ négatif |forward|trigger|negated|10|Group[557]|Clement\n",
      "avoir une \\w+ négative |forward|trigger|negated|10|Group[557]|Clement\n",
      "avoir une \\w+ nul |forward|trigger|negated|10|Group[557]|Clement\n",
      "avoir une \\w+ nulle |forward|trigger|negated|10|Group[557]|Clement\n",
      "avait une \\w+ négatif |forward|trigger|negated|10|Group[557]|Clement\n",
      "avait une \\w+ négative |forward|trigger|negated|10|Group[557]|Clement\n",
      "avait une \\w+ nul |forward|trigger|negated|10|Group[557]|Clement\n",
      "avait une \\w+ nulle |forward|trigger|negated|10|Group[557]|Clement\n",
      "a une \\w+ négatif |forward|trigger|negated|10|Group[557]|Clement\n",
      "a une \\w+ négative |forward|trigger|negated|10|Group[557]|Clement\n",
      "a une \\w+ nul |forward|trigger|negated|10|Group[557]|Clement\n",
      "a une \\w+ nulle |forward|trigger|negated|10|Group[557]|Clement\n",
      "ait une \\w+ négatif |forward|trigger|negated|10|Group[557]|Clement\n",
      "ait une \\w+ négative |forward|trigger|negated|10|Group[557]|Clement\n",
      "ait une \\w+ nul |forward|trigger|negated|10|Group[557]|Clement\n",
      "ait une \\w+ nulle |forward|trigger|negated|10|Group[557]|Clement\n",
      "aient une \\w+ négatif |forward|trigger|negated|10|Group[557]|Clement\n",
      "aient une \\w+ négative |forward|trigger|negated|10|Group[557]|Clement\n",
      "aient une \\w+ nul |forward|trigger|negated|10|Group[557]|Clement\n",
      "aient une \\w+ nulle |forward|trigger|negated|10|Group[557]|Clement\n"
     ]
    }
   ],
   "source": [
    "from nltk.parse.generate import generate, demo_grammar\n",
    "from nltk import CFG\n",
    "\n",
    "cfg_grammar= \"\"\"\n",
    "S ->  Var1 Var2 Var3 Var4 Trigger_Rule\n",
    "Var1 -> \"avoir\" |\"avait\" | \"a\" | \"ait\" | \"aient\"\n",
    "Var2 -> \"une\"\n",
    "Var3 -> \"\\\\w+\"\n",
    "Var4 -> \"négatif\" |\"négative\" | \"nul\" | \"nulle\"\n",
    "Trigger_Rule -> \"|forward|trigger|negated|10|Group[557]|Clement\"\n",
    "\"\"\"\n",
    "\n",
    "for sentence in generate(CFG.fromstring(cfg_grammar), n=1000):\n",
    "    print(' '.join(sentence))"
   ]
  },
  {
   "cell_type": "code",
   "execution_count": 3,
   "metadata": {},
   "outputs": [
    {
     "name": "stdout",
     "output_type": "stream",
     "text": [
      "a été négatif |backward|trigger|negated|10|Group[561]|Clement\n",
      "a été négative |backward|trigger|negated|10|Group[561]|Clement\n",
      "a été nul |backward|trigger|negated|10|Group[561]|Clement\n",
      "a été nulle |backward|trigger|negated|10|Group[561]|Clement\n",
      "ait été négatif |backward|trigger|negated|10|Group[561]|Clement\n",
      "ait été négative |backward|trigger|negated|10|Group[561]|Clement\n",
      "ait été nul |backward|trigger|negated|10|Group[561]|Clement\n",
      "ait été nulle |backward|trigger|negated|10|Group[561]|Clement\n",
      "était négatif |backward|trigger|negated|10|Group[561]|Clement\n",
      "était négative |backward|trigger|negated|10|Group[561]|Clement\n",
      "était nul |backward|trigger|negated|10|Group[561]|Clement\n",
      "était nulle |backward|trigger|negated|10|Group[561]|Clement\n"
     ]
    }
   ],
   "source": [
    "from nltk.parse.generate import generate, demo_grammar\n",
    "from nltk import CFG\n",
    "\n",
    "cfg_grammar= \"\"\"\n",
    "S ->  Var1 Var2 Trigger_Rule\n",
    "Var1 -> \"a été\"|\"ait été\"|\"était\"\n",
    "Var2 -> \"négatif\" |\"négative\" |\"nul\" | \"nulle\"\n",
    "Trigger_Rule -> \"|backward|trigger|negated|10|Group[561]|Clement\"\n",
    "\"\"\"\n",
    "\n",
    "for sentence in generate(CFG.fromstring(cfg_grammar), n=1000):\n",
    "    print(' '.join(sentence))"
   ]
  },
  {
   "cell_type": "code",
   "execution_count": 4,
   "metadata": {},
   "outputs": [
    {
     "name": "stdout",
     "output_type": "stream",
     "text": [
      "ont été négatifs |backward|trigger|negated|10|Group[561]|Clement\n",
      "ont été négatives |backward|trigger|negated|10|Group[561]|Clement\n",
      "ont été nuls |backward|trigger|negated|10|Group[561]|Clement\n",
      "ont été nulles |backward|trigger|negated|10|Group[561]|Clement\n",
      "aient été négatifs |backward|trigger|negated|10|Group[561]|Clement\n",
      "aient été négatives |backward|trigger|negated|10|Group[561]|Clement\n",
      "aient été nuls |backward|trigger|negated|10|Group[561]|Clement\n",
      "aient été nulles |backward|trigger|negated|10|Group[561]|Clement\n",
      "ont étaient négatifs |backward|trigger|negated|10|Group[561]|Clement\n",
      "ont étaient négatives |backward|trigger|negated|10|Group[561]|Clement\n",
      "ont étaient nuls |backward|trigger|negated|10|Group[561]|Clement\n",
      "ont étaient nulles |backward|trigger|negated|10|Group[561]|Clement\n"
     ]
    }
   ],
   "source": [
    "from nltk.parse.generate import generate, demo_grammar\n",
    "from nltk import CFG\n",
    "\n",
    "cfg_grammar= \"\"\"\n",
    "S ->  Var1 Var2 Trigger_Rule\n",
    "Var1 -> \"ont été\"|\"aient été\"|\"ont étaient\"\n",
    "Var2 -> \"négatifs\" |\"négatives\" |\"nuls\" | \"nulles\"\n",
    "Trigger_Rule -> \"|backward|trigger|negated|10|Group[561]|Clement\"\n",
    "\"\"\"\n",
    "\n",
    "for sentence in generate(CFG.fromstring(cfg_grammar), n=1000):\n",
    "    print(' '.join(sentence))"
   ]
  },
  {
   "cell_type": "code",
   "execution_count": 5,
   "metadata": {},
   "outputs": [
    {
     "name": "stdout",
     "output_type": "stream",
     "text": [
      "été exclu _ |backward|trigger|negated|10|Group[561, 563]|Clement\n",
      "été exclu _e |backward|trigger|negated|10|Group[561, 563]|Clement\n",
      "été refusé _ |backward|trigger|negated|10|Group[561, 563]|Clement\n",
      "été refusé _e |backward|trigger|negated|10|Group[561, 563]|Clement\n",
      "été repoussé _ |backward|trigger|negated|10|Group[561, 563]|Clement\n",
      "été repoussé _e |backward|trigger|negated|10|Group[561, 563]|Clement\n",
      "été rejeté _ |backward|trigger|negated|10|Group[561, 563]|Clement\n",
      "été rejeté _e |backward|trigger|negated|10|Group[561, 563]|Clement\n",
      "été éliminé _ |backward|trigger|negated|10|Group[561, 563]|Clement\n",
      "été éliminé _e |backward|trigger|negated|10|Group[561, 563]|Clement\n",
      "été proscrit _ |backward|trigger|negated|10|Group[561, 563]|Clement\n",
      "été proscrit _e |backward|trigger|negated|10|Group[561, 563]|Clement\n",
      "été écartés _ |backward|trigger|negated|10|Group[561, 563]|Clement\n",
      "été écartés _e |backward|trigger|negated|10|Group[561, 563]|Clement\n",
      "été évincé _ |backward|trigger|negated|10|Group[561, 563]|Clement\n",
      "été évincé _e |backward|trigger|negated|10|Group[561, 563]|Clement\n",
      "été supprimé _ |backward|trigger|negated|10|Group[561, 563]|Clement\n",
      "été supprimé _e |backward|trigger|negated|10|Group[561, 563]|Clement\n",
      "été éloigné _ |backward|trigger|negated|10|Group[561, 563]|Clement\n",
      "été éloigné _e |backward|trigger|negated|10|Group[561, 563]|Clement\n",
      "été enlevé _ |backward|trigger|negated|10|Group[561, 563]|Clement\n",
      "été enlevé _e |backward|trigger|negated|10|Group[561, 563]|Clement\n",
      "été arrêté _ |backward|trigger|negated|10|Group[561, 563]|Clement\n",
      "été arrêté _e |backward|trigger|negated|10|Group[561, 563]|Clement\n",
      "été stoppé _ |backward|trigger|negated|10|Group[561, 563]|Clement\n",
      "été stoppé _e |backward|trigger|negated|10|Group[561, 563]|Clement\n",
      "été enrayé _ |backward|trigger|negated|10|Group[561, 563]|Clement\n",
      "été enrayé _e |backward|trigger|negated|10|Group[561, 563]|Clement\n",
      "été contenu _ |backward|trigger|negated|10|Group[561, 563]|Clement\n",
      "été contenu _e |backward|trigger|negated|10|Group[561, 563]|Clement\n",
      "été suspendu _ |backward|trigger|negated|10|Group[561, 563]|Clement\n",
      "été suspendu _e |backward|trigger|negated|10|Group[561, 563]|Clement\n",
      "été jugulé _ |backward|trigger|negated|10|Group[561, 563]|Clement\n",
      "été jugulé _e |backward|trigger|negated|10|Group[561, 563]|Clement\n",
      "été terminé _ |backward|trigger|negated|10|Group[561, 563]|Clement\n",
      "été terminé _e |backward|trigger|negated|10|Group[561, 563]|Clement\n",
      "été fini _ |backward|trigger|negated|10|Group[561, 563]|Clement\n",
      "été fini _e |backward|trigger|negated|10|Group[561, 563]|Clement\n",
      "été endigué _ |backward|trigger|negated|10|Group[561, 563]|Clement\n",
      "été endigué _e |backward|trigger|negated|10|Group[561, 563]|Clement\n",
      "été interrompu _ |backward|trigger|negated|10|Group[561, 563]|Clement\n",
      "été interrompu _e |backward|trigger|negated|10|Group[561, 563]|Clement\n",
      "été gelé _ |backward|trigger|negated|10|Group[561, 563]|Clement\n",
      "été gelé _e |backward|trigger|negated|10|Group[561, 563]|Clement\n",
      "été absent _ |backward|trigger|negated|10|Group[561, 563]|Clement\n",
      "été absent _e |backward|trigger|negated|10|Group[561, 563]|Clement\n",
      "été en défaut _ |backward|trigger|negated|10|Group[561, 563]|Clement\n",
      "été en défaut _e |backward|trigger|negated|10|Group[561, 563]|Clement\n",
      "été dénué _ |backward|trigger|negated|10|Group[561, 563]|Clement\n",
      "été dénué _e |backward|trigger|negated|10|Group[561, 563]|Clement\n",
      "été dépourvu _ |backward|trigger|negated|10|Group[561, 563]|Clement\n",
      "été dépourvu _e |backward|trigger|negated|10|Group[561, 563]|Clement\n",
      "été disparu _ |backward|trigger|negated|10|Group[561, 563]|Clement\n",
      "été disparu _e |backward|trigger|negated|10|Group[561, 563]|Clement\n",
      "était exclu _ |backward|trigger|negated|10|Group[561, 563]|Clement\n",
      "était exclu _e |backward|trigger|negated|10|Group[561, 563]|Clement\n",
      "était refusé _ |backward|trigger|negated|10|Group[561, 563]|Clement\n",
      "était refusé _e |backward|trigger|negated|10|Group[561, 563]|Clement\n",
      "était repoussé _ |backward|trigger|negated|10|Group[561, 563]|Clement\n",
      "était repoussé _e |backward|trigger|negated|10|Group[561, 563]|Clement\n",
      "était rejeté _ |backward|trigger|negated|10|Group[561, 563]|Clement\n",
      "était rejeté _e |backward|trigger|negated|10|Group[561, 563]|Clement\n",
      "était éliminé _ |backward|trigger|negated|10|Group[561, 563]|Clement\n",
      "était éliminé _e |backward|trigger|negated|10|Group[561, 563]|Clement\n",
      "était proscrit _ |backward|trigger|negated|10|Group[561, 563]|Clement\n",
      "était proscrit _e |backward|trigger|negated|10|Group[561, 563]|Clement\n",
      "était écartés _ |backward|trigger|negated|10|Group[561, 563]|Clement\n",
      "était écartés _e |backward|trigger|negated|10|Group[561, 563]|Clement\n",
      "était évincé _ |backward|trigger|negated|10|Group[561, 563]|Clement\n",
      "était évincé _e |backward|trigger|negated|10|Group[561, 563]|Clement\n",
      "était supprimé _ |backward|trigger|negated|10|Group[561, 563]|Clement\n",
      "était supprimé _e |backward|trigger|negated|10|Group[561, 563]|Clement\n",
      "était éloigné _ |backward|trigger|negated|10|Group[561, 563]|Clement\n",
      "était éloigné _e |backward|trigger|negated|10|Group[561, 563]|Clement\n",
      "était enlevé _ |backward|trigger|negated|10|Group[561, 563]|Clement\n",
      "était enlevé _e |backward|trigger|negated|10|Group[561, 563]|Clement\n",
      "était arrêté _ |backward|trigger|negated|10|Group[561, 563]|Clement\n",
      "était arrêté _e |backward|trigger|negated|10|Group[561, 563]|Clement\n",
      "était stoppé _ |backward|trigger|negated|10|Group[561, 563]|Clement\n",
      "était stoppé _e |backward|trigger|negated|10|Group[561, 563]|Clement\n",
      "était enrayé _ |backward|trigger|negated|10|Group[561, 563]|Clement\n",
      "était enrayé _e |backward|trigger|negated|10|Group[561, 563]|Clement\n",
      "était contenu _ |backward|trigger|negated|10|Group[561, 563]|Clement\n",
      "était contenu _e |backward|trigger|negated|10|Group[561, 563]|Clement\n",
      "était suspendu _ |backward|trigger|negated|10|Group[561, 563]|Clement\n",
      "était suspendu _e |backward|trigger|negated|10|Group[561, 563]|Clement\n",
      "était jugulé _ |backward|trigger|negated|10|Group[561, 563]|Clement\n",
      "était jugulé _e |backward|trigger|negated|10|Group[561, 563]|Clement\n",
      "était terminé _ |backward|trigger|negated|10|Group[561, 563]|Clement\n",
      "était terminé _e |backward|trigger|negated|10|Group[561, 563]|Clement\n",
      "était fini _ |backward|trigger|negated|10|Group[561, 563]|Clement\n",
      "était fini _e |backward|trigger|negated|10|Group[561, 563]|Clement\n",
      "était endigué _ |backward|trigger|negated|10|Group[561, 563]|Clement\n",
      "était endigué _e |backward|trigger|negated|10|Group[561, 563]|Clement\n",
      "était interrompu _ |backward|trigger|negated|10|Group[561, 563]|Clement\n",
      "était interrompu _e |backward|trigger|negated|10|Group[561, 563]|Clement\n",
      "était gelé _ |backward|trigger|negated|10|Group[561, 563]|Clement\n",
      "était gelé _e |backward|trigger|negated|10|Group[561, 563]|Clement\n",
      "était absent _ |backward|trigger|negated|10|Group[561, 563]|Clement\n",
      "était absent _e |backward|trigger|negated|10|Group[561, 563]|Clement\n",
      "était en défaut _ |backward|trigger|negated|10|Group[561, 563]|Clement\n",
      "était en défaut _e |backward|trigger|negated|10|Group[561, 563]|Clement\n",
      "était dénué _ |backward|trigger|negated|10|Group[561, 563]|Clement\n",
      "était dénué _e |backward|trigger|negated|10|Group[561, 563]|Clement\n",
      "était dépourvu _ |backward|trigger|negated|10|Group[561, 563]|Clement\n",
      "était dépourvu _e |backward|trigger|negated|10|Group[561, 563]|Clement\n",
      "était disparu _ |backward|trigger|negated|10|Group[561, 563]|Clement\n",
      "était disparu _e |backward|trigger|negated|10|Group[561, 563]|Clement\n"
     ]
    }
   ],
   "source": [
    "from nltk.parse.generate import generate, demo_grammar\n",
    "from nltk import CFG\n",
    "\n",
    "cfg_grammar= \"\"\"\n",
    "S ->  Var1 Var2 Termin Trigger_Rule\n",
    "Var1 -> \"été\"|\"était\"\n",
    "Var2 -> \"exclu\" | \"refusé\" | \"repoussé\" | \"rejeté\" | \"éliminé\" | \"proscrit\" |\"écartés\" |\"évincé\" | \"supprimé\" | \"éloigné\" | \"enlevé\" | \"arrêté\" | \"stoppé\" | \"enrayé\" | \"contenu\" | \"suspendu\" | \"jugulé\" | \"terminé\" | \"fini\" | \"endigué\" | \"interrompu\" | \"gelé\" | \"absent\" | \"en défaut\" | \"dénué\" | \"dépourvu\" | \"disparu\"\n",
    "Termin -> \"_\" |\"_e\" \n",
    "Trigger_Rule -> \"|backward|trigger|negated|10|Group[561, 563]|Clement\"\n",
    "\"\"\"\n",
    "\n",
    "for sentence in generate(CFG.fromstring(cfg_grammar), n=1000):\n",
    "    print(' '.join(sentence))"
   ]
  },
  {
   "cell_type": "code",
   "execution_count": 6,
   "metadata": {},
   "outputs": [
    {
     "name": "stdout",
     "output_type": "stream",
     "text": [
      "étaient exclu _s |backward|trigger|negated|10|Group[561, 563]|Clement\n",
      "étaient exclu _es |backward|trigger|negated|10|Group[561, 563]|Clement\n",
      "étaient refusé _s |backward|trigger|negated|10|Group[561, 563]|Clement\n",
      "étaient refusé _es |backward|trigger|negated|10|Group[561, 563]|Clement\n",
      "étaient repoussé _s |backward|trigger|negated|10|Group[561, 563]|Clement\n",
      "étaient repoussé _es |backward|trigger|negated|10|Group[561, 563]|Clement\n",
      "étaient rejeté _s |backward|trigger|negated|10|Group[561, 563]|Clement\n",
      "étaient rejeté _es |backward|trigger|negated|10|Group[561, 563]|Clement\n",
      "étaient éliminé _s |backward|trigger|negated|10|Group[561, 563]|Clement\n",
      "étaient éliminé _es |backward|trigger|negated|10|Group[561, 563]|Clement\n",
      "étaient proscrit _s |backward|trigger|negated|10|Group[561, 563]|Clement\n",
      "étaient proscrit _es |backward|trigger|negated|10|Group[561, 563]|Clement\n",
      "étaient écarté _s |backward|trigger|negated|10|Group[561, 563]|Clement\n",
      "étaient écarté _es |backward|trigger|negated|10|Group[561, 563]|Clement\n",
      "étaient évincé _s |backward|trigger|negated|10|Group[561, 563]|Clement\n",
      "étaient évincé _es |backward|trigger|negated|10|Group[561, 563]|Clement\n",
      "étaient supprimé _s |backward|trigger|negated|10|Group[561, 563]|Clement\n",
      "étaient supprimé _es |backward|trigger|negated|10|Group[561, 563]|Clement\n",
      "étaient éloigné _s |backward|trigger|negated|10|Group[561, 563]|Clement\n",
      "étaient éloigné _es |backward|trigger|negated|10|Group[561, 563]|Clement\n",
      "étaient enlevé _s |backward|trigger|negated|10|Group[561, 563]|Clement\n",
      "étaient enlevé _es |backward|trigger|negated|10|Group[561, 563]|Clement\n",
      "étaient récusé _s |backward|trigger|negated|10|Group[561, 563]|Clement\n",
      "étaient récusé _es |backward|trigger|negated|10|Group[561, 563]|Clement\n",
      "étaient absent _s |backward|trigger|negated|10|Group[561, 563]|Clement\n",
      "étaient absent _es |backward|trigger|negated|10|Group[561, 563]|Clement\n",
      "étaient en défaut _s |backward|trigger|negated|10|Group[561, 563]|Clement\n",
      "étaient en défaut _es |backward|trigger|negated|10|Group[561, 563]|Clement\n",
      "étaient dénué _s |backward|trigger|negated|10|Group[561, 563]|Clement\n",
      "étaient dénué _es |backward|trigger|negated|10|Group[561, 563]|Clement\n",
      "étaient dépourvu _s |backward|trigger|negated|10|Group[561, 563]|Clement\n",
      "étaient dépourvu _es |backward|trigger|negated|10|Group[561, 563]|Clement\n",
      "étaient disparu _s |backward|trigger|negated|10|Group[561, 563]|Clement\n",
      "étaient disparu _es |backward|trigger|negated|10|Group[561, 563]|Clement\n"
     ]
    }
   ],
   "source": [
    "from nltk.parse.generate import generate, demo_grammar\n",
    "from nltk import CFG\n",
    "\n",
    "cfg_grammar= \"\"\"\n",
    "S ->  Var1 Var2 Termin Trigger_Rule\n",
    "Var1 -> \"étaient\"\n",
    "Var2 -> \"exclu\" | \"refusé\" | \"repoussé\" | \"rejeté\" | \"éliminé\" | \"proscrit\" |\"écarté\" |\"évincé\" | \"supprimé\" | \"éloigné\" | \"enlevé\" | \"récusé\" | \"absent\" | \"en défaut\" | \"dénué\" | \"dépourvu\" | \"disparu\"\n",
    "Termin -> \"_s\" |\"_es\"\n",
    "Trigger_Rule -> \"|backward|trigger|negated|10|Group[561, 563]|Clement\"\n",
    "\"\"\"\n",
    "\n",
    "for sentence in generate(CFG.fromstring(cfg_grammar), n=1000):\n",
    "    print(' '.join(sentence))"
   ]
  },
  {
   "cell_type": "code",
   "execution_count": 7,
   "metadata": {},
   "outputs": [
    {
     "name": "stdout",
     "output_type": "stream",
     "text": [
      "été mis à l'écart |backward|trigger|negated|10|Group[561, 563]|Clement\n",
      "été mises de coté |backward|trigger|negated|10|Group[561, 563]|Clement\n",
      "était mis à l'écart |backward|trigger|negated|10|Group[561, 563]|Clement\n",
      "était mises de coté |backward|trigger|negated|10|Group[561, 563]|Clement\n"
     ]
    }
   ],
   "source": [
    "from nltk.parse.generate import generate, demo_grammar\n",
    "from nltk import CFG\n",
    "\n",
    "cfg_grammar= \"\"\"\n",
    "S ->  Var1 Var2 Trigger_Rule\n",
    "Var1 -> \"été\"|\"était\"\n",
    "Var2 -> \"mis à l'écart\" | \"mises de coté\"\n",
    "Trigger_Rule -> \"|backward|trigger|negated|10|Group[561, 563]|Clement\"\n",
    "\"\"\"\n",
    "\n",
    "for sentence in generate(CFG.fromstring(cfg_grammar), n=1000):\n",
    "    print(' '.join(sentence))"
   ]
  },
  {
   "cell_type": "code",
   "execution_count": 8,
   "metadata": {},
   "outputs": [
    {
     "name": "stdout",
     "output_type": "stream",
     "text": [
      "étaient mises à l'écart |backward|trigger|negated|10|Group[561, 563]|Clement\n",
      "étaient mises de coté |backward|trigger|negated|10|Group[561, 563]|Clement\n"
     ]
    }
   ],
   "source": [
    "from nltk.parse.generate import generate, demo_grammar\n",
    "from nltk import CFG\n",
    "\n",
    "cfg_grammar= \"\"\"\n",
    "S ->  Var1 Var2 Trigger_Rule\n",
    "Var1 -> \"étaient\"\n",
    "Var2 -> \"mises à l'écart\" | \"mises de coté\"\n",
    "Trigger_Rule -> \"|backward|trigger|negated|10|Group[561, 563]|Clement\"\n",
    "\"\"\"\n",
    "\n",
    "for sentence in generate(CFG.fromstring(cfg_grammar), n=1000):\n",
    "    print(' '.join(sentence))"
   ]
  },
  {
   "cell_type": "code",
   "execution_count": 9,
   "metadata": {},
   "outputs": [
    {
     "name": "stdout",
     "output_type": "stream",
     "text": [
      "pas d' |forward|trigger|negated|10|Group[569]|Clement\n",
      "pas de |forward|trigger|negated|10|Group[569]|Clement\n",
      "pas eu d' |forward|trigger|negated|10|Group[569]|Clement\n",
      "pas eu de |forward|trigger|negated|10|Group[569]|Clement\n",
      "n'a pas d' |forward|trigger|negated|10|Group[569]|Clement\n",
      "n'a pas de |forward|trigger|negated|10|Group[569]|Clement\n",
      "n'a pas eu d' |forward|trigger|negated|10|Group[569]|Clement\n",
      "n'a pas eu de |forward|trigger|negated|10|Group[569]|Clement\n"
     ]
    }
   ],
   "source": [
    "from nltk.parse.generate import generate, demo_grammar\n",
    "from nltk import CFG\n",
    "\n",
    "cfg_grammar= \"\"\"\n",
    "S -> Var1 Var2 Var3 Var4 Trigger_Rule\n",
    "Var1 -> | \"n'a\"\n",
    "Var2 -> \"pas\"\n",
    "Var3 -> | \"eu\"\n",
    "Var4 -> \"d'\" | \"de\"\n",
    "Trigger_Rule -> \"|forward|trigger|negated|10|Group[569]|Clement\"\n",
    "\"\"\"\n",
    "\n",
    "for sentence in generate(CFG.fromstring(cfg_grammar), n=1000):\n",
    "    print(' '.join(sentence))"
   ]
  },
  {
   "cell_type": "code",
   "execution_count": 10,
   "metadata": {},
   "outputs": [
    {
     "name": "stdout",
     "output_type": "stream",
     "text": [
      "a continué à |forward|termination|negated|10|Group[575]|Clement\n",
      "a perpétué à |forward|termination|negated|10|Group[575]|Clement\n",
      "a tenu à |forward|termination|negated|10|Group[575]|Clement\n"
     ]
    }
   ],
   "source": [
    "from nltk.parse.generate import generate, demo_grammar\n",
    "from nltk import CFG\n",
    "\n",
    "cfg_grammar= \"\"\"\n",
    "S -> Var1 Var2 Var3 Trigger_Rule\n",
    "Var1 -> \"a\"\n",
    "Var2 -> \"continué\" | \"perpétué\" | \"tenu\"\n",
    "Var3 -> \"à\"\n",
    "Trigger_Rule -> \"|forward|termination|negated|10|Group[575]|Clement\"\n",
    "\"\"\"\n",
    "\n",
    "for sentence in generate(CFG.fromstring(cfg_grammar), n=1000):\n",
    "    print(' '.join(sentence))"
   ]
  },
  {
   "cell_type": "code",
   "execution_count": 11,
   "metadata": {},
   "outputs": [
    {
     "name": "stdout",
     "output_type": "stream",
     "text": [
      "son vieux |forward|termination|negated|10|Group[576]|Clement\n",
      "son ancien |forward|termination|negated|10|Group[576]|Clement\n",
      "son vieil |forward|termination|negated|10|Group[576]|Clement\n",
      "sa vielle |forward|termination|negated|10|Group[576]|Clement\n",
      "son ancienne |forward|termination|negated|10|Group[576]|Clement\n"
     ]
    }
   ],
   "source": [
    "from nltk.parse.generate import generate, demo_grammar\n",
    "from nltk import CFG\n",
    "\n",
    "cfg_grammar= \"\"\"\n",
    "S ->   Var1 Trigger_Rule\n",
    "Var1 -> \"son vieux\"| \"son ancien\" | \"son vieil\" | \"sa vielle\"| \"son ancienne\" \n",
    "Trigger_Rule -> \"|forward|termination|negated|10|Group[576]|Clement\"\n",
    "\"\"\"\n",
    "\n",
    "for sentence in generate(CFG.fromstring(cfg_grammar), n=1000):\n",
    "    print(' '.join(sentence))"
   ]
  },
  {
   "cell_type": "code",
   "execution_count": 12,
   "metadata": {},
   "outputs": [
    {
     "name": "stdout",
     "output_type": "stream",
     "text": [
      "examen historique |both|pseudo|historical|30|Group[578]|Clement\n"
     ]
    }
   ],
   "source": [
    "from nltk.parse.generate import generate, demo_grammar\n",
    "from nltk import CFG\n",
    "\n",
    "cfg_grammar= \"\"\"\n",
    "S ->  Var1 Trigger_Rule\n",
    "Var1 -> \"examen historique\"\n",
    "Trigger_Rule -> \"|both|pseudo|historical|30|Group[578]|Clement\"\n",
    "\"\"\"\n",
    "\n",
    "for sentence in generate(CFG.fromstring(cfg_grammar), n=1000):\n",
    "    print(' '.join(sentence))"
   ]
  },
  {
   "cell_type": "code",
   "execution_count": 13,
   "metadata": {},
   "outputs": [
    {
     "name": "stdout",
     "output_type": "stream",
     "text": [
      "histoire et |both|pseudo|historical|30|Group[578]|Clement\n",
      "passé et |both|pseudo|historical|30|Group[578]|Clement\n",
      "souvenir et |both|pseudo|historical|30|Group[578]|Clement\n",
      "historique et |both|pseudo|historical|30|Group[578]|Clement\n"
     ]
    }
   ],
   "source": [
    "from nltk.parse.generate import generate, demo_grammar\n",
    "from nltk import CFG\n",
    "\n",
    "cfg_grammar= \"\"\"\n",
    "S ->  Var1 Var2 Trigger_Rule\n",
    "Var1 -> \"histoire\" | \"passé\" | \"souvenir\" | \"historique\"\n",
    "Var2 -> \"et\"\n",
    "Trigger_Rule -> \"|both|pseudo|historical|30|Group[578]|Clement\"\n",
    "\"\"\"\n",
    "\n",
    "for sentence in generate(CFG.fromstring(cfg_grammar), n=1000):\n",
    "    print(' '.join(sentence))"
   ]
  },
  {
   "cell_type": "code",
   "execution_count": 14,
   "metadata": {},
   "outputs": [
    {
     "name": "stdout",
     "output_type": "stream",
     "text": [
      "histoire pour |both|pseudo|historical|30|Group[578]|Clement\n",
      "passé pour |both|pseudo|historical|30|Group[578]|Clement\n",
      "souvenir pour |both|pseudo|historical|30|Group[578]|Clement\n",
      "historique pour |both|pseudo|historical|30|Group[578]|Clement\n"
     ]
    }
   ],
   "source": [
    "from nltk.parse.generate import generate, demo_grammar\n",
    "from nltk import CFG\n",
    "\n",
    "cfg_grammar= \"\"\"\n",
    "S ->  Var1 Var2 Trigger_Rule\n",
    "Var1 -> \"histoire\" | \"passé\" | \"souvenir\" | \"historique\"\n",
    "Var2 -> \"pour\"\n",
    "Trigger_Rule -> \"|both|pseudo|historical|30|Group[578]|Clement\"\n",
    "\"\"\"\n",
    "\n",
    "for sentence in generate(CFG.fromstring(cfg_grammar), n=1000):\n",
    "    print(' '.join(sentence))"
   ]
  },
  {
   "cell_type": "code",
   "execution_count": 15,
   "metadata": {},
   "outputs": [
    {
     "name": "stdout",
     "output_type": "stream",
     "text": [
      "histoire et examen |both|pseudo|historical|30|Group[578]|Clement\n",
      "histoire et analyse |both|pseudo|historical|30|Group[578]|Clement\n",
      "histoire et consultation |both|pseudo|historical|30|Group[578]|Clement\n",
      "histoire et observation |both|pseudo|historical|30|Group[578]|Clement\n",
      "histoire et auscultation |both|pseudo|historical|30|Group[578]|Clement\n",
      "histoire et examen médical |both|pseudo|historical|30|Group[578]|Clement\n",
      "histoire et autopsie |both|pseudo|historical|30|Group[578]|Clement\n",
      "histoire et dépistage |both|pseudo|historical|30|Group[578]|Clement\n",
      "passé et examen |both|pseudo|historical|30|Group[578]|Clement\n",
      "passé et analyse |both|pseudo|historical|30|Group[578]|Clement\n",
      "passé et consultation |both|pseudo|historical|30|Group[578]|Clement\n",
      "passé et observation |both|pseudo|historical|30|Group[578]|Clement\n",
      "passé et auscultation |both|pseudo|historical|30|Group[578]|Clement\n",
      "passé et examen médical |both|pseudo|historical|30|Group[578]|Clement\n",
      "passé et autopsie |both|pseudo|historical|30|Group[578]|Clement\n",
      "passé et dépistage |both|pseudo|historical|30|Group[578]|Clement\n",
      "historique et examen |both|pseudo|historical|30|Group[578]|Clement\n",
      "historique et analyse |both|pseudo|historical|30|Group[578]|Clement\n",
      "historique et consultation |both|pseudo|historical|30|Group[578]|Clement\n",
      "historique et observation |both|pseudo|historical|30|Group[578]|Clement\n",
      "historique et auscultation |both|pseudo|historical|30|Group[578]|Clement\n",
      "historique et examen médical |both|pseudo|historical|30|Group[578]|Clement\n",
      "historique et autopsie |both|pseudo|historical|30|Group[578]|Clement\n",
      "historique et dépistage |both|pseudo|historical|30|Group[578]|Clement\n"
     ]
    }
   ],
   "source": [
    "from nltk.parse.generate import generate, demo_grammar\n",
    "from nltk import CFG\n",
    "\n",
    "cfg_grammar= \"\"\"\n",
    "S ->  Var1 Var2 Var3 Trigger_Rule\n",
    "Var1 -> \"histoire\" | \"passé\" | \"historique\"\n",
    "Var2 -> \"et\"\n",
    "Var3 -> \"examen\" | \"analyse\" | \"consultation\" | \"observation\" | \"auscultation\" | \"examen médical\" | \"autopsie\" | \"dépistage\"\n",
    "Trigger_Rule -> \"|both|pseudo|historical|30|Group[578]|Clement\"\n",
    "\"\"\"\n",
    "\n",
    "for sentence in generate(CFG.fromstring(cfg_grammar), n=1000):\n",
    "    print(' '.join(sentence))"
   ]
  },
  {
   "cell_type": "code",
   "execution_count": 16,
   "metadata": {},
   "outputs": [
    {
     "name": "stdout",
     "output_type": "stream",
     "text": [
      "histoire de la maladie |both|pseudo|historical|30|Group[578]|Clement\n",
      "histoire du malaise |both|pseudo|historical|30|Group[578]|Clement\n",
      "histoire du mal |both|pseudo|historical|30|Group[578]|Clement\n",
      "histoire du trouble |both|pseudo|historical|30|Group[578]|Clement\n",
      "histoire de l'indisposition |both|pseudo|historical|30|Group[578]|Clement\n",
      "histoire de la souffrance |both|pseudo|historical|30|Group[578]|Clement\n",
      "histoire du syndrome |both|pseudo|historical|30|Group[578]|Clement\n",
      "histoire de l'infirmité |both|pseudo|historical|30|Group[578]|Clement\n",
      "histoire de l'incommodité |both|pseudo|historical|30|Group[578]|Clement\n",
      "histoire de l'atteinte |both|pseudo|historical|30|Group[578]|Clement\n",
      "histoire de la tare |both|pseudo|historical|30|Group[578]|Clement\n",
      "histoire de la pathologie |both|pseudo|historical|30|Group[578]|Clement\n",
      "histoire du traumatisme |both|pseudo|historical|30|Group[578]|Clement\n",
      "passé de la maladie |both|pseudo|historical|30|Group[578]|Clement\n",
      "passé du malaise |both|pseudo|historical|30|Group[578]|Clement\n",
      "passé du mal |both|pseudo|historical|30|Group[578]|Clement\n",
      "passé du trouble |both|pseudo|historical|30|Group[578]|Clement\n",
      "passé de l'indisposition |both|pseudo|historical|30|Group[578]|Clement\n",
      "passé de la souffrance |both|pseudo|historical|30|Group[578]|Clement\n",
      "passé du syndrome |both|pseudo|historical|30|Group[578]|Clement\n",
      "passé de l'infirmité |both|pseudo|historical|30|Group[578]|Clement\n",
      "passé de l'incommodité |both|pseudo|historical|30|Group[578]|Clement\n",
      "passé de l'atteinte |both|pseudo|historical|30|Group[578]|Clement\n",
      "passé de la tare |both|pseudo|historical|30|Group[578]|Clement\n",
      "passé de la pathologie |both|pseudo|historical|30|Group[578]|Clement\n",
      "passé du traumatisme |both|pseudo|historical|30|Group[578]|Clement\n",
      "historique de la maladie |both|pseudo|historical|30|Group[578]|Clement\n",
      "historique du malaise |both|pseudo|historical|30|Group[578]|Clement\n",
      "historique du mal |both|pseudo|historical|30|Group[578]|Clement\n",
      "historique du trouble |both|pseudo|historical|30|Group[578]|Clement\n",
      "historique de l'indisposition |both|pseudo|historical|30|Group[578]|Clement\n",
      "historique de la souffrance |both|pseudo|historical|30|Group[578]|Clement\n",
      "historique du syndrome |both|pseudo|historical|30|Group[578]|Clement\n",
      "historique de l'infirmité |both|pseudo|historical|30|Group[578]|Clement\n",
      "historique de l'incommodité |both|pseudo|historical|30|Group[578]|Clement\n",
      "historique de l'atteinte |both|pseudo|historical|30|Group[578]|Clement\n",
      "historique de la tare |both|pseudo|historical|30|Group[578]|Clement\n",
      "historique de la pathologie |both|pseudo|historical|30|Group[578]|Clement\n",
      "historique du traumatisme |both|pseudo|historical|30|Group[578]|Clement\n"
     ]
    }
   ],
   "source": [
    "from nltk.parse.generate import generate, demo_grammar\n",
    "from nltk import CFG\n",
    "\n",
    "cfg_grammar= \"\"\"\n",
    "S ->  Var1 Var2 Trigger_Rule\n",
    "Var1 -> \"histoire\" | \"passé\" | \"historique\"\n",
    "Var2 -> \"de la maladie\" | \"du malaise\" | \"du mal\" | \"du trouble\" | \"de l'indisposition\" | \"de la souffrance\" | \"du syndrome\" | \"de l'infirmité\" | \"de l'incommodité\" | \"de l'atteinte\" | \"de la tare\" | \"de la pathologie\" | \"du traumatisme\"\n",
    "Trigger_Rule -> \"|both|pseudo|historical|30|Group[578]|Clement\"\n",
    "\"\"\"\n",
    "\n",
    "for sentence in generate(CFG.fromstring(cfg_grammar), n=1000):\n",
    "    print(' '.join(sentence))"
   ]
  },
  {
   "cell_type": "code",
   "execution_count": 17,
   "metadata": {},
   "outputs": [
    {
     "name": "stdout",
     "output_type": "stream",
     "text": [
      "hist. de |forward|trigger|historical|30|Group[586]|Clement\n",
      "hist. d'un |forward|trigger|historical|30|Group[586]|Clement\n",
      "hist. d'une |forward|trigger|historical|30|Group[586]|Clement\n",
      "hist. dans |forward|trigger|historical|30|Group[586]|Clement\n",
      "hist. pour |forward|trigger|historical|30|Group[586]|Clement\n",
      "hist. par |forward|trigger|historical|30|Group[586]|Clement\n",
      "histoire de |forward|trigger|historical|30|Group[586]|Clement\n",
      "histoire d'un |forward|trigger|historical|30|Group[586]|Clement\n",
      "histoire d'une |forward|trigger|historical|30|Group[586]|Clement\n",
      "histoire dans |forward|trigger|historical|30|Group[586]|Clement\n",
      "histoire pour |forward|trigger|historical|30|Group[586]|Clement\n",
      "histoire par |forward|trigger|historical|30|Group[586]|Clement\n",
      "passé de |forward|trigger|historical|30|Group[586]|Clement\n",
      "passé d'un |forward|trigger|historical|30|Group[586]|Clement\n",
      "passé d'une |forward|trigger|historical|30|Group[586]|Clement\n",
      "passé dans |forward|trigger|historical|30|Group[586]|Clement\n",
      "passé pour |forward|trigger|historical|30|Group[586]|Clement\n",
      "passé par |forward|trigger|historical|30|Group[586]|Clement\n",
      "souvenir de |forward|trigger|historical|30|Group[586]|Clement\n",
      "souvenir d'un |forward|trigger|historical|30|Group[586]|Clement\n",
      "souvenir d'une |forward|trigger|historical|30|Group[586]|Clement\n",
      "souvenir dans |forward|trigger|historical|30|Group[586]|Clement\n",
      "souvenir pour |forward|trigger|historical|30|Group[586]|Clement\n",
      "souvenir par |forward|trigger|historical|30|Group[586]|Clement\n",
      "historique de |forward|trigger|historical|30|Group[586]|Clement\n",
      "historique d'un |forward|trigger|historical|30|Group[586]|Clement\n",
      "historique d'une |forward|trigger|historical|30|Group[586]|Clement\n",
      "historique dans |forward|trigger|historical|30|Group[586]|Clement\n",
      "historique pour |forward|trigger|historical|30|Group[586]|Clement\n",
      "historique par |forward|trigger|historical|30|Group[586]|Clement\n"
     ]
    }
   ],
   "source": [
    "from nltk.parse.generate import generate, demo_grammar\n",
    "from nltk import CFG\n",
    "\n",
    "cfg_grammar= \"\"\"\n",
    "S -> Var1 Var2 Trigger_Rule\n",
    "Var1 -> \"hist.\" | \"histoire\" | \"passé\" | \"souvenir\" | \"historique\"\n",
    "Var2 -> \"de\" | \"d'un\" | \"d'une\" | \"dans\" | \"pour\" | \"par\"\n",
    "Trigger_Rule -> \"|forward|trigger|historical|30|Group[586]|Clement\"\n",
    "\"\"\"\n",
    "\n",
    "for sentence in generate(CFG.fromstring(cfg_grammar), n=1000):\n",
    "    print(' '.join(sentence))"
   ]
  },
  {
   "cell_type": "code",
   "execution_count": 18,
   "metadata": {},
   "outputs": [
    {
     "name": "stdout",
     "output_type": "stream",
     "text": [
      "toutefois |forward|termination|negated|10|Group[587]|Clement\n",
      "cependant |forward|termination|negated|10|Group[587]|Clement\n",
      "néanmoins |forward|termination|negated|10|Group[587]|Clement\n",
      "pourtant |forward|termination|negated|10|Group[587]|Clement\n"
     ]
    }
   ],
   "source": [
    "from nltk.parse.generate import generate, demo_grammar\n",
    "from nltk import CFG\n",
    "\n",
    "cfg_grammar= \"\"\"\n",
    "S ->  Var1 Trigger_Rule\n",
    "Var1 -> \"toutefois\" | \"cependant\" | \"néanmoins\" | \"pourtant\"\n",
    "Trigger_Rule -> \"|forward|termination|negated|10|Group[587]|Clement\"\n",
    "\"\"\"\n",
    "\n",
    "for sentence in generate(CFG.fromstring(cfg_grammar), n=1000):\n",
    "    print(' '.join(sentence))"
   ]
  },
  {
   "cell_type": "code",
   "execution_count": 19,
   "metadata": {},
   "outputs": [
    {
     "name": "stdout",
     "output_type": "stream",
     "text": [
      "si négatif |both|pseudo|conditional|30|Group[590]|Clement\n",
      "si négative |both|pseudo|conditional|30|Group[590]|Clement\n",
      "si nul |both|pseudo|conditional|30|Group[590]|Clement\n",
      "si nulle |both|pseudo|conditional|30|Group[590]|Clement\n"
     ]
    }
   ],
   "source": [
    "from nltk.parse.generate import generate, demo_grammar\n",
    "from nltk import CFG\n",
    "\n",
    "cfg_grammar= \"\"\"\n",
    "S ->  Var1 Var2 Trigger_Rule\n",
    "Var1 -> \"si\"\n",
    "Var2 -> \"négatif\" |\"négative\" |\"nul\" | \"nulle\"\n",
    "Trigger_Rule -> \"|both|pseudo|conditional|30|Group[590]|Clement\"\n",
    "\"\"\"\n",
    "\n",
    "for sentence in generate(CFG.fromstring(cfg_grammar), n=1000):\n",
    "    print(' '.join(sentence))"
   ]
  },
  {
   "cell_type": "code",
   "execution_count": 20,
   "metadata": {},
   "outputs": [
    {
     "name": "stdout",
     "output_type": "stream",
     "text": [
      "si |forward|trigger|conditional|30|Group[591]|Clement\n"
     ]
    }
   ],
   "source": [
    "from nltk.parse.generate import generate, demo_grammar\n",
    "from nltk import CFG\n",
    "\n",
    "cfg_grammar= \"\"\"\n",
    "S ->  Var1 Trigger_Rule\n",
    "Var1 -> \"si\"\n",
    "Trigger_Rule -> \"|forward|trigger|conditional|30|Group[591]|Clement\"\n",
    "\"\"\"\n",
    "\n",
    "for sentence in generate(CFG.fromstring(cfg_grammar), n=1000):\n",
    "    print(' '.join(sentence))"
   ]
  },
  {
   "cell_type": "code",
   "execution_count": 21,
   "metadata": {},
   "outputs": [
    {
     "name": "stdout",
     "output_type": "stream",
     "text": [
      "en elle |both|pseudo|uncertain|30|Group[592]|Clement\n",
      "en lui |both|pseudo|uncertain|30|Group[592]|Clement\n"
     ]
    }
   ],
   "source": [
    "from nltk.parse.generate import generate, demo_grammar\n",
    "from nltk import CFG\n",
    "\n",
    "cfg_grammar= \"\"\"\n",
    "S ->  Var1 Var2 Trigger_Rule\n",
    "Var1 -> \"en\"\n",
    "Var2 -> \"elle\" | \"lui\"\n",
    "Trigger_Rule -> \"|both|pseudo|uncertain|30|Group[592]|Clement\"\n",
    "\"\"\"\n",
    "\n",
    "for sentence in generate(CFG.fromstring(cfg_grammar), n=1000):\n",
    "    print(' '.join(sentence))"
   ]
  },
  {
   "cell_type": "code",
   "execution_count": 22,
   "metadata": {},
   "outputs": [
    {
     "name": "stdout",
     "output_type": "stream",
     "text": [
      "dans son |both|pseudo|uncertain|30|Group[593]|Clement\n",
      "dans sa |both|pseudo|uncertain|30|Group[593]|Clement\n",
      "dans ses |both|pseudo|uncertain|30|Group[593]|Clement\n"
     ]
    }
   ],
   "source": [
    "from nltk.parse.generate import generate, demo_grammar\n",
    "from nltk import CFG\n",
    "\n",
    "cfg_grammar= \"\"\"\n",
    "S ->  Var1 Var2 Trigger_Rule\n",
    "Var1 -> \"dans\"\n",
    "Var2 -> \"son\" | \"sa\" | \"ses\"\n",
    "Trigger_Rule -> \"|both|pseudo|uncertain|30|Group[593]|Clement\"\n",
    "\"\"\"\n",
    "\n",
    "for sentence in generate(CFG.fromstring(cfg_grammar), n=1000):\n",
    "    print(' '.join(sentence))"
   ]
  },
  {
   "cell_type": "code",
   "execution_count": 23,
   "metadata": {},
   "outputs": [
    {
     "name": "stdout",
     "output_type": "stream",
     "text": [
      "autrefois |both|trigger|historical|30|Group[594]|Clement\n",
      "anciennement |both|trigger|historical|30|Group[594]|Clement\n",
      "jadis |both|trigger|historical|30|Group[594]|Clement\n"
     ]
    }
   ],
   "source": [
    "from nltk.parse.generate import generate, demo_grammar\n",
    "from nltk import CFG\n",
    "\n",
    "cfg_grammar= \"\"\"\n",
    "S ->  Var1 Trigger_Rule\n",
    "Var1 -> \"autrefois\"|\"anciennement\" | \"jadis\"\n",
    "Trigger_Rule -> \"|both|trigger|historical|30|Group[594]|Clement\"\n",
    "\"\"\"\n",
    "\n",
    "for sentence in generate(CFG.fromstring(cfg_grammar), n=1000):\n",
    "    print(' '.join(sentence))"
   ]
  },
  {
   "cell_type": "code",
   "execution_count": 24,
   "metadata": {},
   "outputs": [
    {
     "name": "stdout",
     "output_type": "stream",
     "text": [
      "dans le contexte de |forward|termination|negated|10|Group[595]|Clement\n",
      "dans la situation de |forward|termination|negated|10|Group[595]|Clement\n",
      "dans les circonstances de |forward|termination|negated|10|Group[595]|Clement\n",
      "dans le cadre de |forward|termination|negated|10|Group[595]|Clement\n",
      "dans la condition de |forward|termination|negated|10|Group[595]|Clement\n",
      "dans les conditions de |forward|termination|negated|10|Group[595]|Clement\n"
     ]
    }
   ],
   "source": [
    "from nltk.parse.generate import generate, demo_grammar\n",
    "from nltk import CFG\n",
    "\n",
    "cfg_grammar= \"\"\"\n",
    "S ->  Var1 Var2 Var3 Trigger_Rule\n",
    "Var1 -> \"dans\"\n",
    "Var2 -> \"le contexte\" | \"la situation\" | \"les circonstances\" | \"le cadre\" |  \"la condition\" |  \"les conditions\"\n",
    "Var3 -> \"de\"\n",
    "Trigger_Rule -> \"|forward|termination|negated|10|Group[595]|Clement\"\n",
    "\"\"\"\n",
    "\n",
    "for sentence in generate(CFG.fromstring(cfg_grammar), n=1000):\n",
    "    print(' '.join(sentence))"
   ]
  },
  {
   "cell_type": "code",
   "execution_count": 25,
   "metadata": {},
   "outputs": [
    {
     "name": "stdout",
     "output_type": "stream",
     "text": [
      "incompatible avec |forward|trigger|negated|10|Group[596]|Clement\n"
     ]
    }
   ],
   "source": [
    "from nltk.parse.generate import generate, demo_grammar\n",
    "from nltk import CFG\n",
    "\n",
    "cfg_grammar= \"\"\"\n",
    "S ->  Var1 Var2 Trigger_Rule\n",
    "Var1 -> \"incompatible\"\n",
    "Var2 -> \"avec\"\n",
    "Trigger_Rule -> \"|forward|trigger|negated|10|Group[596]|Clement\"\n",
    "\"\"\"\n",
    "\n",
    "for sentence in generate(CFG.fromstring(cfg_grammar), n=1000):\n",
    "    print(' '.join(sentence))"
   ]
  },
  {
   "cell_type": "code",
   "execution_count": 26,
   "metadata": {},
   "outputs": [
    {
     "name": "stdout",
     "output_type": "stream",
     "text": [
      "indication |forward|trigger|uncertain|30|Group[598]|Clement\n",
      "avertissement |forward|trigger|uncertain|30|Group[598]|Clement\n",
      "suggestion |forward|trigger|uncertain|30|Group[598]|Clement\n",
      "mention |forward|trigger|uncertain|30|Group[598]|Clement\n"
     ]
    }
   ],
   "source": [
    "from nltk.parse.generate import generate, demo_grammar\n",
    "from nltk import CFG\n",
    "\n",
    "cfg_grammar= \"\"\"\n",
    "S ->  Var1 Trigger_Rule\n",
    "Var1 -> \"indication\" | \"avertissement\" | \"suggestion\" | \"mention\"\n",
    "Trigger_Rule -> \"|forward|trigger|uncertain|30|Group[598]|Clement\"\n",
    "\"\"\"\n",
    "\n",
    "for sentence in generate(CFG.fromstring(cfg_grammar), n=1000):\n",
    "    print(' '.join(sentence))"
   ]
  },
  {
   "cell_type": "code",
   "execution_count": 27,
   "metadata": {},
   "outputs": [
    {
     "name": "stdout",
     "output_type": "stream",
     "text": [
      "est neg |backward|trigger|negated|10|Group[599]|Clement\n",
      "est nég |backward|trigger|negated|10|Group[599]|Clement\n",
      "est nég. |backward|trigger|negated|10|Group[599]|Clement\n",
      "est négatif |backward|trigger|negated|10|Group[599]|Clement\n",
      "est négative |backward|trigger|negated|10|Group[599]|Clement\n",
      "est nul |backward|trigger|negated|10|Group[599]|Clement\n",
      "est nulle |backward|trigger|negated|10|Group[599]|Clement\n",
      "était neg |backward|trigger|negated|10|Group[599]|Clement\n",
      "était nég |backward|trigger|negated|10|Group[599]|Clement\n",
      "était nég. |backward|trigger|negated|10|Group[599]|Clement\n",
      "était négatif |backward|trigger|negated|10|Group[599]|Clement\n",
      "était négative |backward|trigger|negated|10|Group[599]|Clement\n",
      "était nul |backward|trigger|negated|10|Group[599]|Clement\n",
      "était nulle |backward|trigger|negated|10|Group[599]|Clement\n"
     ]
    }
   ],
   "source": [
    "from nltk.parse.generate import generate, demo_grammar\n",
    "from nltk import CFG\n",
    "\n",
    "cfg_grammar= \"\"\"\n",
    "S ->  Var1 Var2 Trigger_Rule\n",
    "Var1 -> \"est\"|\"était\"\n",
    "Var2 -> \"neg\"|\"nég\"|\"nég.\"| \"négatif\" |\"négative\" |\"nul\" | \"nulle\"\n",
    "Trigger_Rule -> \"|backward|trigger|negated|10|Group[599]|Clement\"\n",
    "\"\"\"\n",
    "\n",
    "for sentence in generate(CFG.fromstring(cfg_grammar), n=1000):\n",
    "    print(' '.join(sentence))"
   ]
  },
  {
   "cell_type": "code",
   "execution_count": 28,
   "metadata": {},
   "outputs": [
    {
     "name": "stdout",
     "output_type": "stream",
     "text": [
      "sont neg |backward|trigger|negated|10|Group[599]|Clement\n",
      "sont nég |backward|trigger|negated|10|Group[599]|Clement\n",
      "sont nég. |backward|trigger|negated|10|Group[599]|Clement\n",
      "sont négatifs |backward|trigger|negated|10|Group[599]|Clement\n",
      "sont négatives |backward|trigger|negated|10|Group[599]|Clement\n",
      "sont nuls |backward|trigger|negated|10|Group[599]|Clement\n",
      "sont nulles |backward|trigger|negated|10|Group[599]|Clement\n",
      "étaient neg |backward|trigger|negated|10|Group[599]|Clement\n",
      "étaient nég |backward|trigger|negated|10|Group[599]|Clement\n",
      "étaient nég. |backward|trigger|negated|10|Group[599]|Clement\n",
      "étaient négatifs |backward|trigger|negated|10|Group[599]|Clement\n",
      "étaient négatives |backward|trigger|negated|10|Group[599]|Clement\n",
      "étaient nuls |backward|trigger|negated|10|Group[599]|Clement\n",
      "étaient nulles |backward|trigger|negated|10|Group[599]|Clement\n"
     ]
    }
   ],
   "source": [
    "from nltk.parse.generate import generate, demo_grammar\n",
    "from nltk import CFG\n",
    "\n",
    "cfg_grammar= \"\"\"\n",
    "S ->  Var1 Var2 Trigger_Rule\n",
    "Var1 -> \"sont\"|\"étaient\"\n",
    "Var2 -> \"neg\"|\"nég\"|\"nég.\"| \"négatifs\" |\"négatives\" |\"nuls\" | \"nulles\"\n",
    "Trigger_Rule -> \"|backward|trigger|negated|10|Group[599]|Clement\"\n",
    "\"\"\"\n",
    "\n",
    "for sentence in generate(CFG.fromstring(cfg_grammar), n=1000):\n",
    "    print(' '.join(sentence))"
   ]
  },
  {
   "cell_type": "code",
   "execution_count": 29,
   "metadata": {},
   "outputs": [
    {
     "name": "stdout",
     "output_type": "stream",
     "text": [
      "n'est plus |backward|trigger|negated|10|Group[603]|Clement\n",
      "ne sont plus |backward|trigger|negated|10|Group[603]|Clement\n",
      "n'était plus |backward|trigger|negated|10|Group[603]|Clement\n",
      "n'étaient plus |backward|trigger|negated|10|Group[603]|Clement\n"
     ]
    }
   ],
   "source": [
    "from nltk.parse.generate import generate, demo_grammar\n",
    "from nltk import CFG\n",
    "\n",
    "cfg_grammar= \"\"\"\n",
    "S -> Var1 Var2 Trigger_Rule\n",
    "Var1 -> \"n'est\" | \"ne sont\" | \"n'était\" | \"n'étaient\"\n",
    "Var2 -> \"plus\"\n",
    "Trigger_Rule -> \"|backward|trigger|negated|10|Group[603]|Clement\"\n",
    "\"\"\"\n",
    "\n",
    "for sentence in generate(CFG.fromstring(cfg_grammar), n=1000):\n",
    "    print(' '.join(sentence))"
   ]
  },
  {
   "cell_type": "code",
   "execution_count": 30,
   "metadata": {},
   "outputs": [
    {
     "name": "stdout",
     "output_type": "stream",
     "text": [
      "n'est pas |forward|trigger|negated|10|Group[605]|Clement\n",
      "ne sont pas |forward|trigger|negated|10|Group[605]|Clement\n",
      "n'était pas |forward|trigger|negated|10|Group[605]|Clement\n",
      "n'étaient pas |forward|trigger|negated|10|Group[605]|Clement\n"
     ]
    }
   ],
   "source": [
    "from nltk.parse.generate import generate, demo_grammar\n",
    "from nltk import CFG\n",
    "\n",
    "cfg_grammar= \"\"\"\n",
    "S ->  Var1 Var2 Trigger_Rule\n",
    "Var1 -> \"n'est\" | \"ne sont\" | \"n'était\" | \"n'étaient\"\n",
    "Var2 -> \"pas\"\n",
    "Trigger_Rule -> \"|forward|trigger|negated|10|Group[605]|Clement\"\n",
    "\"\"\"\n",
    "\n",
    "for sentence in generate(CFG.fromstring(cfg_grammar), n=1000):\n",
    "    print(' '.join(sentence))"
   ]
  },
  {
   "cell_type": "code",
   "execution_count": 31,
   "metadata": {},
   "outputs": [
    {
     "name": "stdout",
     "output_type": "stream",
     "text": [
      "est exclu _ |backward|trigger|negated|10|Group[607]|Clement\n",
      "est exclu _e |backward|trigger|negated|10|Group[607]|Clement\n",
      "est refusé _ |backward|trigger|negated|10|Group[607]|Clement\n",
      "est refusé _e |backward|trigger|negated|10|Group[607]|Clement\n",
      "est repoussé _ |backward|trigger|negated|10|Group[607]|Clement\n",
      "est repoussé _e |backward|trigger|negated|10|Group[607]|Clement\n",
      "est rejeté _ |backward|trigger|negated|10|Group[607]|Clement\n",
      "est rejeté _e |backward|trigger|negated|10|Group[607]|Clement\n",
      "est éliminé _ |backward|trigger|negated|10|Group[607]|Clement\n",
      "est éliminé _e |backward|trigger|negated|10|Group[607]|Clement\n",
      "est proscrit _ |backward|trigger|negated|10|Group[607]|Clement\n",
      "est proscrit _e |backward|trigger|negated|10|Group[607]|Clement\n",
      "est écarté _ |backward|trigger|negated|10|Group[607]|Clement\n",
      "est écarté _e |backward|trigger|negated|10|Group[607]|Clement\n",
      "est évincé _ |backward|trigger|negated|10|Group[607]|Clement\n",
      "est évincé _e |backward|trigger|negated|10|Group[607]|Clement\n",
      "est supprimé _ |backward|trigger|negated|10|Group[607]|Clement\n",
      "est supprimé _e |backward|trigger|negated|10|Group[607]|Clement\n",
      "est éloigné _ |backward|trigger|negated|10|Group[607]|Clement\n",
      "est éloigné _e |backward|trigger|negated|10|Group[607]|Clement\n",
      "est enlevé _ |backward|trigger|negated|10|Group[607]|Clement\n",
      "est enlevé _e |backward|trigger|negated|10|Group[607]|Clement\n",
      "est arrêté _ |backward|trigger|negated|10|Group[607]|Clement\n",
      "est arrêté _e |backward|trigger|negated|10|Group[607]|Clement\n",
      "est stoppé _ |backward|trigger|negated|10|Group[607]|Clement\n",
      "est stoppé _e |backward|trigger|negated|10|Group[607]|Clement\n",
      "est enrayé _ |backward|trigger|negated|10|Group[607]|Clement\n",
      "est enrayé _e |backward|trigger|negated|10|Group[607]|Clement\n",
      "est contenu _ |backward|trigger|negated|10|Group[607]|Clement\n",
      "est contenu _e |backward|trigger|negated|10|Group[607]|Clement\n",
      "est suspendu _ |backward|trigger|negated|10|Group[607]|Clement\n",
      "est suspendu _e |backward|trigger|negated|10|Group[607]|Clement\n",
      "est jugulé _ |backward|trigger|negated|10|Group[607]|Clement\n",
      "est jugulé _e |backward|trigger|negated|10|Group[607]|Clement\n",
      "est terminé _ |backward|trigger|negated|10|Group[607]|Clement\n",
      "est terminé _e |backward|trigger|negated|10|Group[607]|Clement\n",
      "est fini _ |backward|trigger|negated|10|Group[607]|Clement\n",
      "est fini _e |backward|trigger|negated|10|Group[607]|Clement\n",
      "est endigué _ |backward|trigger|negated|10|Group[607]|Clement\n",
      "est endigué _e |backward|trigger|negated|10|Group[607]|Clement\n",
      "est interrompu _ |backward|trigger|negated|10|Group[607]|Clement\n",
      "est interrompu _e |backward|trigger|negated|10|Group[607]|Clement\n",
      "est gelé _ |backward|trigger|negated|10|Group[607]|Clement\n",
      "est gelé _e |backward|trigger|negated|10|Group[607]|Clement\n",
      "est absent _ |backward|trigger|negated|10|Group[607]|Clement\n",
      "est absent _e |backward|trigger|negated|10|Group[607]|Clement\n",
      "est en défaut _ |backward|trigger|negated|10|Group[607]|Clement\n",
      "est en défaut _e |backward|trigger|negated|10|Group[607]|Clement\n",
      "est dénué _ |backward|trigger|negated|10|Group[607]|Clement\n",
      "est dénué _e |backward|trigger|negated|10|Group[607]|Clement\n",
      "est dépourvu _ |backward|trigger|negated|10|Group[607]|Clement\n",
      "est dépourvu _e |backward|trigger|negated|10|Group[607]|Clement\n",
      "est disparu _ |backward|trigger|negated|10|Group[607]|Clement\n",
      "est disparu _e |backward|trigger|negated|10|Group[607]|Clement\n",
      "était exclu _ |backward|trigger|negated|10|Group[607]|Clement\n",
      "était exclu _e |backward|trigger|negated|10|Group[607]|Clement\n",
      "était refusé _ |backward|trigger|negated|10|Group[607]|Clement\n",
      "était refusé _e |backward|trigger|negated|10|Group[607]|Clement\n",
      "était repoussé _ |backward|trigger|negated|10|Group[607]|Clement\n",
      "était repoussé _e |backward|trigger|negated|10|Group[607]|Clement\n",
      "était rejeté _ |backward|trigger|negated|10|Group[607]|Clement\n",
      "était rejeté _e |backward|trigger|negated|10|Group[607]|Clement\n",
      "était éliminé _ |backward|trigger|negated|10|Group[607]|Clement\n",
      "était éliminé _e |backward|trigger|negated|10|Group[607]|Clement\n",
      "était proscrit _ |backward|trigger|negated|10|Group[607]|Clement\n",
      "était proscrit _e |backward|trigger|negated|10|Group[607]|Clement\n",
      "était écarté _ |backward|trigger|negated|10|Group[607]|Clement\n",
      "était écarté _e |backward|trigger|negated|10|Group[607]|Clement\n",
      "était évincé _ |backward|trigger|negated|10|Group[607]|Clement\n",
      "était évincé _e |backward|trigger|negated|10|Group[607]|Clement\n",
      "était supprimé _ |backward|trigger|negated|10|Group[607]|Clement\n",
      "était supprimé _e |backward|trigger|negated|10|Group[607]|Clement\n",
      "était éloigné _ |backward|trigger|negated|10|Group[607]|Clement\n",
      "était éloigné _e |backward|trigger|negated|10|Group[607]|Clement\n",
      "était enlevé _ |backward|trigger|negated|10|Group[607]|Clement\n",
      "était enlevé _e |backward|trigger|negated|10|Group[607]|Clement\n",
      "était arrêté _ |backward|trigger|negated|10|Group[607]|Clement\n",
      "était arrêté _e |backward|trigger|negated|10|Group[607]|Clement\n",
      "était stoppé _ |backward|trigger|negated|10|Group[607]|Clement\n",
      "était stoppé _e |backward|trigger|negated|10|Group[607]|Clement\n",
      "était enrayé _ |backward|trigger|negated|10|Group[607]|Clement\n",
      "était enrayé _e |backward|trigger|negated|10|Group[607]|Clement\n",
      "était contenu _ |backward|trigger|negated|10|Group[607]|Clement\n",
      "était contenu _e |backward|trigger|negated|10|Group[607]|Clement\n",
      "était suspendu _ |backward|trigger|negated|10|Group[607]|Clement\n",
      "était suspendu _e |backward|trigger|negated|10|Group[607]|Clement\n",
      "était jugulé _ |backward|trigger|negated|10|Group[607]|Clement\n",
      "était jugulé _e |backward|trigger|negated|10|Group[607]|Clement\n",
      "était terminé _ |backward|trigger|negated|10|Group[607]|Clement\n",
      "était terminé _e |backward|trigger|negated|10|Group[607]|Clement\n",
      "était fini _ |backward|trigger|negated|10|Group[607]|Clement\n",
      "était fini _e |backward|trigger|negated|10|Group[607]|Clement\n",
      "était endigué _ |backward|trigger|negated|10|Group[607]|Clement\n",
      "était endigué _e |backward|trigger|negated|10|Group[607]|Clement\n",
      "était interrompu _ |backward|trigger|negated|10|Group[607]|Clement\n",
      "était interrompu _e |backward|trigger|negated|10|Group[607]|Clement\n",
      "était gelé _ |backward|trigger|negated|10|Group[607]|Clement\n",
      "était gelé _e |backward|trigger|negated|10|Group[607]|Clement\n",
      "était absent _ |backward|trigger|negated|10|Group[607]|Clement\n",
      "était absent _e |backward|trigger|negated|10|Group[607]|Clement\n",
      "était en défaut _ |backward|trigger|negated|10|Group[607]|Clement\n",
      "était en défaut _e |backward|trigger|negated|10|Group[607]|Clement\n",
      "était dénué _ |backward|trigger|negated|10|Group[607]|Clement\n",
      "était dénué _e |backward|trigger|negated|10|Group[607]|Clement\n",
      "était dépourvu _ |backward|trigger|negated|10|Group[607]|Clement\n",
      "était dépourvu _e |backward|trigger|negated|10|Group[607]|Clement\n",
      "était disparu _ |backward|trigger|negated|10|Group[607]|Clement\n",
      "était disparu _e |backward|trigger|negated|10|Group[607]|Clement\n"
     ]
    }
   ],
   "source": [
    "from nltk.parse.generate import generate, demo_grammar\n",
    "from nltk import CFG\n",
    "\n",
    "cfg_grammar= \"\"\"\n",
    "S ->  Var1 Var2 Termin Trigger_Rule\n",
    "Var1 -> \"est\"  |\"était\"\n",
    "Var2 -> \"exclu\" | \"refusé\" | \"repoussé\" | \"rejeté\" | \"éliminé\" | \"proscrit\" |\"écarté\" |\"évincé\" | \"supprimé\" | \"éloigné\" | \"enlevé\" | \"arrêté\" | \"stoppé\" | \"enrayé\" | \"contenu\" | \"suspendu\" | \"jugulé\" | \"terminé\" | \"fini\" | \"endigué\" | \"interrompu\" | \"gelé\" | \"absent\" | \"en défaut\" | \"dénué\" | \"dépourvu\" | \"disparu\"\n",
    "Termin -> \"_\"|\"_e\"\n",
    "Trigger_Rule -> \"|backward|trigger|negated|10|Group[607]|Clement\"\n",
    "\"\"\"\n",
    "\n",
    "for sentence in generate(CFG.fromstring(cfg_grammar), n=1000):\n",
    "    print(' '.join(sentence))"
   ]
  },
  {
   "cell_type": "code",
   "execution_count": 32,
   "metadata": {},
   "outputs": [
    {
     "name": "stdout",
     "output_type": "stream",
     "text": [
      "sont exclu _s |backward|trigger|negated|10|Group[607]|Clement\n",
      "sont exclu _es |backward|trigger|negated|10|Group[607]|Clement\n",
      "sont refusé _s |backward|trigger|negated|10|Group[607]|Clement\n",
      "sont refusé _es |backward|trigger|negated|10|Group[607]|Clement\n",
      "sont repoussé _s |backward|trigger|negated|10|Group[607]|Clement\n",
      "sont repoussé _es |backward|trigger|negated|10|Group[607]|Clement\n",
      "sont rejeté _s |backward|trigger|negated|10|Group[607]|Clement\n",
      "sont rejeté _es |backward|trigger|negated|10|Group[607]|Clement\n",
      "sont éliminé _s |backward|trigger|negated|10|Group[607]|Clement\n",
      "sont éliminé _es |backward|trigger|negated|10|Group[607]|Clement\n",
      "sont proscrit _s |backward|trigger|negated|10|Group[607]|Clement\n",
      "sont proscrit _es |backward|trigger|negated|10|Group[607]|Clement\n",
      "sont écarté _s |backward|trigger|negated|10|Group[607]|Clement\n",
      "sont écarté _es |backward|trigger|negated|10|Group[607]|Clement\n",
      "sont évincé _s |backward|trigger|negated|10|Group[607]|Clement\n",
      "sont évincé _es |backward|trigger|negated|10|Group[607]|Clement\n",
      "sont supprimé _s |backward|trigger|negated|10|Group[607]|Clement\n",
      "sont supprimé _es |backward|trigger|negated|10|Group[607]|Clement\n",
      "sont éloigné _s |backward|trigger|negated|10|Group[607]|Clement\n",
      "sont éloigné _es |backward|trigger|negated|10|Group[607]|Clement\n",
      "sont enlevé _s |backward|trigger|negated|10|Group[607]|Clement\n",
      "sont enlevé _es |backward|trigger|negated|10|Group[607]|Clement\n",
      "sont arrêté _s |backward|trigger|negated|10|Group[607]|Clement\n",
      "sont arrêté _es |backward|trigger|negated|10|Group[607]|Clement\n",
      "sont stoppé _s |backward|trigger|negated|10|Group[607]|Clement\n",
      "sont stoppé _es |backward|trigger|negated|10|Group[607]|Clement\n",
      "sont enrayé _s |backward|trigger|negated|10|Group[607]|Clement\n",
      "sont enrayé _es |backward|trigger|negated|10|Group[607]|Clement\n",
      "sont contenu _s |backward|trigger|negated|10|Group[607]|Clement\n",
      "sont contenu _es |backward|trigger|negated|10|Group[607]|Clement\n",
      "sont suspendu _s |backward|trigger|negated|10|Group[607]|Clement\n",
      "sont suspendu _es |backward|trigger|negated|10|Group[607]|Clement\n",
      "sont jugulé _s |backward|trigger|negated|10|Group[607]|Clement\n",
      "sont jugulé _es |backward|trigger|negated|10|Group[607]|Clement\n",
      "sont terminé _s |backward|trigger|negated|10|Group[607]|Clement\n",
      "sont terminé _es |backward|trigger|negated|10|Group[607]|Clement\n",
      "sont fini _s |backward|trigger|negated|10|Group[607]|Clement\n",
      "sont fini _es |backward|trigger|negated|10|Group[607]|Clement\n",
      "sont endigué _s |backward|trigger|negated|10|Group[607]|Clement\n",
      "sont endigué _es |backward|trigger|negated|10|Group[607]|Clement\n",
      "sont interrompu _s |backward|trigger|negated|10|Group[607]|Clement\n",
      "sont interrompu _es |backward|trigger|negated|10|Group[607]|Clement\n",
      "sont gelé _s |backward|trigger|negated|10|Group[607]|Clement\n",
      "sont gelé _es |backward|trigger|negated|10|Group[607]|Clement\n",
      "sont absent _s |backward|trigger|negated|10|Group[607]|Clement\n",
      "sont absent _es |backward|trigger|negated|10|Group[607]|Clement\n",
      "sont en défaut _s |backward|trigger|negated|10|Group[607]|Clement\n",
      "sont en défaut _es |backward|trigger|negated|10|Group[607]|Clement\n",
      "sont dénué _s |backward|trigger|negated|10|Group[607]|Clement\n",
      "sont dénué _es |backward|trigger|negated|10|Group[607]|Clement\n",
      "sont dépourvu _s |backward|trigger|negated|10|Group[607]|Clement\n",
      "sont dépourvu _es |backward|trigger|negated|10|Group[607]|Clement\n",
      "sont disparu _s |backward|trigger|negated|10|Group[607]|Clement\n",
      "sont disparu _es |backward|trigger|negated|10|Group[607]|Clement\n",
      "étaient exclu _s |backward|trigger|negated|10|Group[607]|Clement\n",
      "étaient exclu _es |backward|trigger|negated|10|Group[607]|Clement\n",
      "étaient refusé _s |backward|trigger|negated|10|Group[607]|Clement\n",
      "étaient refusé _es |backward|trigger|negated|10|Group[607]|Clement\n",
      "étaient repoussé _s |backward|trigger|negated|10|Group[607]|Clement\n",
      "étaient repoussé _es |backward|trigger|negated|10|Group[607]|Clement\n",
      "étaient rejeté _s |backward|trigger|negated|10|Group[607]|Clement\n",
      "étaient rejeté _es |backward|trigger|negated|10|Group[607]|Clement\n",
      "étaient éliminé _s |backward|trigger|negated|10|Group[607]|Clement\n",
      "étaient éliminé _es |backward|trigger|negated|10|Group[607]|Clement\n",
      "étaient proscrit _s |backward|trigger|negated|10|Group[607]|Clement\n",
      "étaient proscrit _es |backward|trigger|negated|10|Group[607]|Clement\n",
      "étaient écarté _s |backward|trigger|negated|10|Group[607]|Clement\n",
      "étaient écarté _es |backward|trigger|negated|10|Group[607]|Clement\n",
      "étaient évincé _s |backward|trigger|negated|10|Group[607]|Clement\n",
      "étaient évincé _es |backward|trigger|negated|10|Group[607]|Clement\n",
      "étaient supprimé _s |backward|trigger|negated|10|Group[607]|Clement\n",
      "étaient supprimé _es |backward|trigger|negated|10|Group[607]|Clement\n",
      "étaient éloigné _s |backward|trigger|negated|10|Group[607]|Clement\n",
      "étaient éloigné _es |backward|trigger|negated|10|Group[607]|Clement\n",
      "étaient enlevé _s |backward|trigger|negated|10|Group[607]|Clement\n",
      "étaient enlevé _es |backward|trigger|negated|10|Group[607]|Clement\n",
      "étaient arrêté _s |backward|trigger|negated|10|Group[607]|Clement\n",
      "étaient arrêté _es |backward|trigger|negated|10|Group[607]|Clement\n",
      "étaient stoppé _s |backward|trigger|negated|10|Group[607]|Clement\n",
      "étaient stoppé _es |backward|trigger|negated|10|Group[607]|Clement\n",
      "étaient enrayé _s |backward|trigger|negated|10|Group[607]|Clement\n",
      "étaient enrayé _es |backward|trigger|negated|10|Group[607]|Clement\n",
      "étaient contenu _s |backward|trigger|negated|10|Group[607]|Clement\n",
      "étaient contenu _es |backward|trigger|negated|10|Group[607]|Clement\n",
      "étaient suspendu _s |backward|trigger|negated|10|Group[607]|Clement\n",
      "étaient suspendu _es |backward|trigger|negated|10|Group[607]|Clement\n",
      "étaient jugulé _s |backward|trigger|negated|10|Group[607]|Clement\n",
      "étaient jugulé _es |backward|trigger|negated|10|Group[607]|Clement\n",
      "étaient terminé _s |backward|trigger|negated|10|Group[607]|Clement\n",
      "étaient terminé _es |backward|trigger|negated|10|Group[607]|Clement\n",
      "étaient fini _s |backward|trigger|negated|10|Group[607]|Clement\n",
      "étaient fini _es |backward|trigger|negated|10|Group[607]|Clement\n",
      "étaient endigué _s |backward|trigger|negated|10|Group[607]|Clement\n",
      "étaient endigué _es |backward|trigger|negated|10|Group[607]|Clement\n",
      "étaient interrompu _s |backward|trigger|negated|10|Group[607]|Clement\n",
      "étaient interrompu _es |backward|trigger|negated|10|Group[607]|Clement\n",
      "étaient gelé _s |backward|trigger|negated|10|Group[607]|Clement\n",
      "étaient gelé _es |backward|trigger|negated|10|Group[607]|Clement\n",
      "étaient absent _s |backward|trigger|negated|10|Group[607]|Clement\n",
      "étaient absent _es |backward|trigger|negated|10|Group[607]|Clement\n",
      "étaient en défaut _s |backward|trigger|negated|10|Group[607]|Clement\n",
      "étaient en défaut _es |backward|trigger|negated|10|Group[607]|Clement\n",
      "étaient dénué _s |backward|trigger|negated|10|Group[607]|Clement\n",
      "étaient dénué _es |backward|trigger|negated|10|Group[607]|Clement\n",
      "étaient dépourvu _s |backward|trigger|negated|10|Group[607]|Clement\n",
      "étaient dépourvu _es |backward|trigger|negated|10|Group[607]|Clement\n",
      "étaient disparu _s |backward|trigger|negated|10|Group[607]|Clement\n",
      "étaient disparu _es |backward|trigger|negated|10|Group[607]|Clement\n"
     ]
    }
   ],
   "source": [
    "from nltk.parse.generate import generate, demo_grammar\n",
    "from nltk import CFG\n",
    "\n",
    "cfg_grammar= \"\"\"\n",
    "S ->  Var1 Var2 Termin Trigger_Rule\n",
    "Var1 -> \"sont\"|\"étaient\"\n",
    "Var2 -> \"exclu\" | \"refusé\" | \"repoussé\" | \"rejeté\" | \"éliminé\" | \"proscrit\" |\"écarté\" |\"évincé\" | \"supprimé\" | \"éloigné\" | \"enlevé\" | \"arrêté\" | \"stoppé\" | \"enrayé\" | \"contenu\" | \"suspendu\" | \"jugulé\" | \"terminé\" | \"fini\" | \"endigué\" | \"interrompu\" | \"gelé\" | \"absent\" | \"en défaut\" | \"dénué\" | \"dépourvu\" | \"disparu\"\n",
    "Termin -> \"_s\" |\"_es\"\n",
    "Trigger_Rule -> \"|backward|trigger|negated|10|Group[607]|Clement\"\n",
    "\"\"\"\n",
    "\n",
    "for sentence in generate(CFG.fromstring(cfg_grammar), n=1000):\n",
    "    print(' '.join(sentence))"
   ]
  },
  {
   "cell_type": "code",
   "execution_count": 33,
   "metadata": {},
   "outputs": [
    {
     "name": "stdout",
     "output_type": "stream",
     "text": [
      "a arrêté |backward|trigger|negated|10|Group[609]|Clement\n",
      "a stoppé |backward|trigger|negated|10|Group[609]|Clement\n",
      "a terminé |backward|trigger|negated|10|Group[609]|Clement\n",
      "a fini |backward|trigger|negated|10|Group[609]|Clement\n",
      "a cessé |backward|trigger|negated|10|Group[609]|Clement\n",
      "a pris fin |backward|trigger|negated|10|Group[609]|Clement\n",
      "a gelé |backward|trigger|negated|10|Group[609]|Clement\n",
      "a disparu |backward|trigger|negated|10|Group[609]|Clement\n",
      "a fait défaut |backward|trigger|negated|10|Group[609]|Clement\n",
      "ont arrêté |backward|trigger|negated|10|Group[609]|Clement\n",
      "ont stoppé |backward|trigger|negated|10|Group[609]|Clement\n",
      "ont terminé |backward|trigger|negated|10|Group[609]|Clement\n",
      "ont fini |backward|trigger|negated|10|Group[609]|Clement\n",
      "ont cessé |backward|trigger|negated|10|Group[609]|Clement\n",
      "ont pris fin |backward|trigger|negated|10|Group[609]|Clement\n",
      "ont gelé |backward|trigger|negated|10|Group[609]|Clement\n",
      "ont disparu |backward|trigger|negated|10|Group[609]|Clement\n",
      "ont fait défaut |backward|trigger|negated|10|Group[609]|Clement\n",
      "ait arrêté |backward|trigger|negated|10|Group[609]|Clement\n",
      "ait stoppé |backward|trigger|negated|10|Group[609]|Clement\n",
      "ait terminé |backward|trigger|negated|10|Group[609]|Clement\n",
      "ait fini |backward|trigger|negated|10|Group[609]|Clement\n",
      "ait cessé |backward|trigger|negated|10|Group[609]|Clement\n",
      "ait pris fin |backward|trigger|negated|10|Group[609]|Clement\n",
      "ait gelé |backward|trigger|negated|10|Group[609]|Clement\n",
      "ait disparu |backward|trigger|negated|10|Group[609]|Clement\n",
      "ait fait défaut |backward|trigger|negated|10|Group[609]|Clement\n",
      "aient arrêté |backward|trigger|negated|10|Group[609]|Clement\n",
      "aient stoppé |backward|trigger|negated|10|Group[609]|Clement\n",
      "aient terminé |backward|trigger|negated|10|Group[609]|Clement\n",
      "aient fini |backward|trigger|negated|10|Group[609]|Clement\n",
      "aient cessé |backward|trigger|negated|10|Group[609]|Clement\n",
      "aient pris fin |backward|trigger|negated|10|Group[609]|Clement\n",
      "aient gelé |backward|trigger|negated|10|Group[609]|Clement\n",
      "aient disparu |backward|trigger|negated|10|Group[609]|Clement\n",
      "aient fait défaut |backward|trigger|negated|10|Group[609]|Clement\n",
      "avait arrêté |backward|trigger|negated|10|Group[609]|Clement\n",
      "avait stoppé |backward|trigger|negated|10|Group[609]|Clement\n",
      "avait terminé |backward|trigger|negated|10|Group[609]|Clement\n",
      "avait fini |backward|trigger|negated|10|Group[609]|Clement\n",
      "avait cessé |backward|trigger|negated|10|Group[609]|Clement\n",
      "avait pris fin |backward|trigger|negated|10|Group[609]|Clement\n",
      "avait gelé |backward|trigger|negated|10|Group[609]|Clement\n",
      "avait disparu |backward|trigger|negated|10|Group[609]|Clement\n",
      "avait fait défaut |backward|trigger|negated|10|Group[609]|Clement\n",
      "avaient arrêté |backward|trigger|negated|10|Group[609]|Clement\n",
      "avaient stoppé |backward|trigger|negated|10|Group[609]|Clement\n",
      "avaient terminé |backward|trigger|negated|10|Group[609]|Clement\n",
      "avaient fini |backward|trigger|negated|10|Group[609]|Clement\n",
      "avaient cessé |backward|trigger|negated|10|Group[609]|Clement\n",
      "avaient pris fin |backward|trigger|negated|10|Group[609]|Clement\n",
      "avaient gelé |backward|trigger|negated|10|Group[609]|Clement\n",
      "avaient disparu |backward|trigger|negated|10|Group[609]|Clement\n",
      "avaient fait défaut |backward|trigger|negated|10|Group[609]|Clement\n"
     ]
    }
   ],
   "source": [
    "from nltk.parse.generate import generate, demo_grammar\n",
    "from nltk import CFG\n",
    "\n",
    "cfg_grammar= \"\"\"\n",
    "S ->  Var1 Var2 Trigger_Rule\n",
    "Var1 -> \"a\" |\"ont\" | \"ait\" | \"aient\" | \"avait\" | \"avaient\"\n",
    "Var2 -> \"arrêté\" | \"stoppé\" | \"terminé\" | \"fini\" | \"cessé\" | \"pris fin\" | \"gelé\" | \"disparu\" | \"fait défaut\"\n",
    "Trigger_Rule -> \"|backward|trigger|negated|10|Group[609]|Clement\"\n",
    "\"\"\"\n",
    "\n",
    "for sentence in generate(CFG.fromstring(cfg_grammar), n=1000):\n",
    "    print(' '.join(sentence))"
   ]
  },
  {
   "cell_type": "code",
   "execution_count": 34,
   "metadata": {},
   "outputs": [
    {
     "name": "stdout",
     "output_type": "stream",
     "text": [
      "est à exclure |forward|trigger|uncertain|30|Group[611]|Clement\n",
      "est à éliminer |forward|trigger|uncertain|30|Group[611]|Clement\n",
      "est à rejeter |forward|trigger|uncertain|30|Group[611]|Clement\n",
      "est à proscrire |forward|trigger|uncertain|30|Group[611]|Clement\n",
      "est à éloigner |forward|trigger|uncertain|30|Group[611]|Clement\n",
      "est à supprimer |forward|trigger|uncertain|30|Group[611]|Clement\n",
      "est à radier |forward|trigger|uncertain|30|Group[611]|Clement\n"
     ]
    }
   ],
   "source": [
    "from nltk.parse.generate import generate, demo_grammar\n",
    "from nltk import CFG\n",
    "\n",
    "cfg_grammar= \"\"\"\n",
    "S ->  Var1 Var2 Var3 Trigger_Rule\n",
    "Var1 -> \"est\"\n",
    "Var2 -> \"à\"\n",
    "Var3 -> \"exclure\" | \"éliminer\" | \"rejeter\" | \"proscrire\" | \"éloigner\" | \"supprimer\" | \"radier\"\n",
    "Trigger_Rule -> \"|forward|trigger|uncertain|30|Group[611]|Clement\"\n",
    "\"\"\"\n",
    "\n",
    "for sentence in generate(CFG.fromstring(cfg_grammar), n=1000):\n",
    "    print(' '.join(sentence))"
   ]
  },
  {
   "cell_type": "code",
   "execution_count": 35,
   "metadata": {},
   "outputs": [
    {
     "name": "stdout",
     "output_type": "stream",
     "text": [
      "manque de |forward|trigger|negated|10|Group[615]|Clement\n",
      "insuffisance de |forward|trigger|negated|10|Group[615]|Clement\n",
      "défaut de |forward|trigger|negated|10|Group[615]|Clement\n",
      "déficience de |forward|trigger|negated|10|Group[615]|Clement\n",
      "pénurie de |forward|trigger|negated|10|Group[615]|Clement\n",
      "carence de |forward|trigger|negated|10|Group[615]|Clement\n",
      "privation de |forward|trigger|negated|10|Group[615]|Clement\n",
      "lacune de |forward|trigger|negated|10|Group[615]|Clement\n",
      "omission de |forward|trigger|negated|10|Group[615]|Clement\n",
      "manquement de |forward|trigger|negated|10|Group[615]|Clement\n",
      "défaillance de |forward|trigger|negated|10|Group[615]|Clement\n",
      "rareté de |forward|trigger|negated|10|Group[615]|Clement\n",
      "oubli de |forward|trigger|negated|10|Group[615]|Clement\n",
      "faute de |forward|trigger|negated|10|Group[615]|Clement\n",
      "faiblesse de |forward|trigger|negated|10|Group[615]|Clement\n"
     ]
    }
   ],
   "source": [
    "from nltk.parse.generate import generate, demo_grammar\n",
    "from nltk import CFG\n",
    "\n",
    "cfg_grammar= \"\"\"\n",
    "S ->  Var1 Var2 Trigger_Rule\n",
    "Var1 -> \"manque\" | \"insuffisance\" | \"défaut\" | \"déficience\" | \"pénurie\" | \"carence\" | \"privation\" | \"lacune\" | \"omission\" | \"manquement\" | \"défaillance\" | \"rareté\" | \"oubli\" | \"faute\" | \"faiblesse\"\n",
    "Var2 -> \"de\"\n",
    "Trigger_Rule -> \"|forward|trigger|negated|10|Group[615]|Clement\"\n",
    "\"\"\"\n",
    "\n",
    "for sentence in generate(CFG.fromstring(cfg_grammar), n=1000):\n",
    "    print(' '.join(sentence))"
   ]
  },
  {
   "cell_type": "code",
   "execution_count": 36,
   "metadata": {},
   "outputs": [
    {
     "name": "stdout",
     "output_type": "stream",
     "text": [
      "manquait |forward|trigger|negated|10|Group[617]|Clement\n",
      "oubliait |forward|trigger|negated|10|Group[617]|Clement\n",
      "ratait |forward|trigger|negated|10|Group[617]|Clement\n",
      "omettait |forward|trigger|negated|10|Group[617]|Clement\n"
     ]
    }
   ],
   "source": [
    "from nltk.parse.generate import generate, demo_grammar\n",
    "from nltk import CFG\n",
    "\n",
    "cfg_grammar= \"\"\"\n",
    "S ->  Var1 Trigger_Rule\n",
    "Var1 -> \"manquait\" | \"oubliait\" | \"ratait\" | \"omettait\"\n",
    "Trigger_Rule -> \"|forward|trigger|negated|10|Group[617]|Clement\"\n",
    "\"\"\"\n",
    "\n",
    "for sentence in generate(CFG.fromstring(cfg_grammar), n=1000):\n",
    "    print(' '.join(sentence))"
   ]
  },
  {
   "cell_type": "code",
   "execution_count": 37,
   "metadata": {},
   "outputs": [
    {
     "name": "stdout",
     "output_type": "stream",
     "text": [
      "il y a \\> 0 année |backward|trigger|historical|30|Group[619]|Clement\n",
      "il y a \\> 0 années |backward|trigger|historical|30|Group[619]|Clement\n",
      "il y a \\> 0 an |backward|trigger|historical|30|Group[619]|Clement\n",
      "il y a \\> 0 ans |backward|trigger|historical|30|Group[619]|Clement\n"
     ]
    }
   ],
   "source": [
    "from nltk.parse.generate import generate, demo_grammar\n",
    "from nltk import CFG\n",
    "\n",
    "cfg_grammar= \"\"\"\n",
    "S -> Var1 Var2 Var3 Trigger_Rule\n",
    "Var1 -> \"il y a\"\n",
    "Var2 -> \"\\\\> 0\"\n",
    "Var3 -> \"année\" | \"années\" | \"an\" | \"ans\"\n",
    "Trigger_Rule -> \"|backward|trigger|historical|30|Group[619]|Clement\"\n",
    "\"\"\"\n",
    "\n",
    "for sentence in generate(CFG.fromstring(cfg_grammar), n=1000):\n",
    "    print(' '.join(sentence))"
   ]
  },
  {
   "cell_type": "code",
   "execution_count": 38,
   "metadata": {},
   "outputs": [
    {
     "name": "stdout",
     "output_type": "stream",
     "text": [
      "il y a \\> 1 semaines |backward|trigger|historical|30|Group[619]|Clement\n",
      "il y a \\> 13 jours |backward|trigger|historical|30|Group[619]|Clement\n"
     ]
    }
   ],
   "source": [
    "from nltk.parse.generate import generate, demo_grammar\n",
    "from nltk import CFG\n",
    "\n",
    "cfg_grammar= \"\"\"\n",
    "S -> Var1 Var2 Trigger_Rule\n",
    "Var1 -> \"il y a\"\n",
    "Var2 -> \"\\\\> 1 semaines\" | \"\\\\> 13 jours\"\n",
    "Trigger_Rule -> \"|backward|trigger|historical|30|Group[619]|Clement\"\n",
    "\"\"\"\n",
    "\n",
    "for sentence in generate(CFG.fromstring(cfg_grammar), n=1000):\n",
    "    print(' '.join(sentence))"
   ]
  },
  {
   "cell_type": "code",
   "execution_count": 39,
   "metadata": {},
   "outputs": [
    {
     "name": "stdout",
     "output_type": "stream",
     "text": [
      "au printemps dernier |backward|trigger|historical|30|Group[626]|Clement\n",
      "le printemps dernier |backward|trigger|historical|30|Group[626]|Clement\n",
      "l'été dernier |backward|trigger|historical|30|Group[626]|Clement\n",
      "l'automne dernier |backward|trigger|historical|30|Group[626]|Clement\n",
      "l'hiver dernier |backward|trigger|historical|30|Group[626]|Clement\n"
     ]
    }
   ],
   "source": [
    "from nltk.parse.generate import generate, demo_grammar\n",
    "from nltk import CFG\n",
    "\n",
    "cfg_grammar= \"\"\"\n",
    "S ->  Seasons Var1 Trigger_Rule\n",
    "Seasons -> \"au printemps\"|\"le printemps\"|\"l'été\"|\"l'automne\"|\"l'hiver\"\n",
    "Var1 -> \"dernier\"\n",
    "Trigger_Rule -> \"|backward|trigger|historical|30|Group[626]|Clement\"\n",
    "\"\"\"\n",
    "\n",
    "for sentence in generate(CFG.fromstring(cfg_grammar), n=1000):\n",
    "    print(' '.join(sentence))"
   ]
  },
  {
   "cell_type": "code",
   "execution_count": 40,
   "metadata": {},
   "outputs": [
    {
     "name": "stdout",
     "output_type": "stream",
     "text": [
      "janvier dernier |backward|trigger|historical|30|Group[626]|Clement\n",
      "février dernier |backward|trigger|historical|30|Group[626]|Clement\n",
      "mars dernier |backward|trigger|historical|30|Group[626]|Clement\n",
      "avril dernier |backward|trigger|historical|30|Group[626]|Clement\n",
      "mai dernier |backward|trigger|historical|30|Group[626]|Clement\n",
      "juin dernier |backward|trigger|historical|30|Group[626]|Clement\n",
      "juillet dernier |backward|trigger|historical|30|Group[626]|Clement\n",
      "août dernier |backward|trigger|historical|30|Group[626]|Clement\n",
      "septembre dernier |backward|trigger|historical|30|Group[626]|Clement\n",
      "octobre dernier |backward|trigger|historical|30|Group[626]|Clement\n",
      "novembre dernier |backward|trigger|historical|30|Group[626]|Clement\n",
      "décembre dernier |backward|trigger|historical|30|Group[626]|Clement\n"
     ]
    }
   ],
   "source": [
    "from nltk.parse.generate import generate, demo_grammar\n",
    "from nltk import CFG\n",
    "\n",
    "cfg_grammar= \"\"\"\n",
    "S ->  Var1 Var2 Trigger_Rule\n",
    "Var1 -> \"janvier\"|\"février\"|\"mars\"|\"avril\"|\"mai\"|\"juin\" |\"juillet\"|\"août\"|\"septembre\"|\"octobre\"|\"novembre\"|\"décembre\"\n",
    "Var2 -> \"dernier\"\n",
    "Trigger_Rule -> \"|backward|trigger|historical|30|Group[626]|Clement\"\n",
    "\"\"\"\n",
    "\n",
    "for sentence in generate(CFG.fromstring(cfg_grammar), n=1000):\n",
    "    print(' '.join(sentence))"
   ]
  },
  {
   "cell_type": "code",
   "execution_count": 41,
   "metadata": {},
   "outputs": [
    {
     "name": "stdout",
     "output_type": "stream",
     "text": [
      "en janvier |backward|trigger|historical|30|Group[626]|Clement\n",
      "en février |backward|trigger|historical|30|Group[626]|Clement\n",
      "en mars |backward|trigger|historical|30|Group[626]|Clement\n",
      "en avril |backward|trigger|historical|30|Group[626]|Clement\n",
      "en mai |backward|trigger|historical|30|Group[626]|Clement\n",
      "en juin |backward|trigger|historical|30|Group[626]|Clement\n",
      "en juillet |backward|trigger|historical|30|Group[626]|Clement\n",
      "en août |backward|trigger|historical|30|Group[626]|Clement\n",
      "en septembre |backward|trigger|historical|30|Group[626]|Clement\n",
      "en octobre |backward|trigger|historical|30|Group[626]|Clement\n",
      "en novembre |backward|trigger|historical|30|Group[626]|Clement\n",
      "en décembre |backward|trigger|historical|30|Group[626]|Clement\n"
     ]
    }
   ],
   "source": [
    "from nltk.parse.generate import generate, demo_grammar\n",
    "from nltk import CFG\n",
    "\n",
    "cfg_grammar= \"\"\"\n",
    "S ->  Var1 Var2 Trigger_Rule\n",
    "Var1 -> \"en\"\n",
    "Var2 -> \"janvier\"|\"février\"|\"mars\"|\"avril\"|\"mai\"|\"juin\" |\"juillet\"|\"août\"|\"septembre\"|\"octobre\"|\"novembre\"|\"décembre\"\n",
    "Trigger_Rule -> \"|backward|trigger|historical|30|Group[626]|Clement\"\n",
    "\"\"\"\n",
    "\n",
    "for sentence in generate(CFG.fromstring(cfg_grammar), n=1000):\n",
    "    print(' '.join(sentence))"
   ]
  },
  {
   "cell_type": "code",
   "execution_count": 42,
   "metadata": {},
   "outputs": [
    {
     "name": "stdout",
     "output_type": "stream",
     "text": [
      "contributeurs probables à |forward|termination|negated|10|Group[642]|Clement\n"
     ]
    }
   ],
   "source": [
    "from nltk.parse.generate import generate, demo_grammar\n",
    "from nltk import CFG\n",
    "\n",
    "cfg_grammar= \"\"\"\n",
    "S ->  Var1 Var2 Var3 Trigger_Rule\n",
    "Var1 -> \"contributeurs\"\n",
    "Var2 -> \"probables\"\n",
    "Var3 -> \"à\"\n",
    "Trigger_Rule -> \"|forward|termination|negated|10|Group[642]|Clement\"\n",
    "\"\"\"\n",
    "\n",
    "for sentence in generate(CFG.fromstring(cfg_grammar), n=1000):\n",
    "    print(' '.join(sentence))"
   ]
  },
  {
   "cell_type": "code",
   "execution_count": 43,
   "metadata": {},
   "outputs": [
    {
     "name": "stdout",
     "output_type": "stream",
     "text": [
      "contributeur probable à |forward|termination|negated|10|Group[642]|Clement\n"
     ]
    }
   ],
   "source": [
    "from nltk.parse.generate import generate, demo_grammar\n",
    "from nltk import CFG\n",
    "\n",
    "cfg_grammar= \"\"\"\n",
    "S ->  Var1 Var2 Var3 Trigger_Rule\n",
    "Var1 -> \"contributeur\"\n",
    "Var2 -> \"probable\"\n",
    "Var3 -> \"à\"\n",
    "Trigger_Rule -> \"|forward|termination|negated|10|Group[642]|Clement\"\n",
    "\"\"\"\n",
    "\n",
    "for sentence in generate(CFG.fromstring(cfg_grammar), n=1000):\n",
    "    print(' '.join(sentence))"
   ]
  },
  {
   "cell_type": "code",
   "execution_count": 44,
   "metadata": {},
   "outputs": [
    {
     "name": "stdout",
     "output_type": "stream",
     "text": [
      "probablement en cas de |forward|termination|negated|10|Group[642]|Clement\n",
      "probablement en situation de |forward|termination|negated|10|Group[642]|Clement\n"
     ]
    }
   ],
   "source": [
    "from nltk.parse.generate import generate, demo_grammar\n",
    "from nltk import CFG\n",
    "\n",
    "cfg_grammar= \"\"\"\n",
    "S ->  Var1 Var2 Var3 Var4 Trigger_Rule\n",
    "Var1 -> \"probablement\"\n",
    "Var2 -> \"en\"\n",
    "Var3 -> \"cas\" | \"situation\"\n",
    "Var4 -> \"de\"\n",
    "Trigger_Rule -> \"|forward|termination|negated|10|Group[642]|Clement\"\n",
    "\"\"\"\n",
    "\n",
    "for sentence in generate(CFG.fromstring(cfg_grammar), n=1000):\n",
    "    print(' '.join(sentence))"
   ]
  },
  {
   "cell_type": "code",
   "execution_count": 45,
   "metadata": {},
   "outputs": [
    {
     "name": "stdout",
     "output_type": "stream",
     "text": [
      "probablement |forward|termination|negated|10|Group[642]|Clement\n"
     ]
    }
   ],
   "source": [
    "from nltk.parse.generate import generate, demo_grammar\n",
    "from nltk import CFG\n",
    "\n",
    "cfg_grammar= \"\"\"\n",
    "S ->  Var1 Trigger_Rule\n",
    "Var1 -> \"probablement\"\n",
    "Trigger_Rule -> \"|forward|termination|negated|10|Group[642]|Clement\"\n",
    "\"\"\"\n",
    "\n",
    "for sentence in generate(CFG.fromstring(cfg_grammar), n=1000):\n",
    "    print(' '.join(sentence))"
   ]
  },
  {
   "cell_type": "code",
   "execution_count": 46,
   "metadata": {},
   "outputs": [
    {
     "name": "stdout",
     "output_type": "stream",
     "text": [
      "élément probable de |forward|termination|negated|10|Group[642]|Clement\n",
      "ingrédient probable de |forward|termination|negated|10|Group[642]|Clement\n",
      "constituant probable de |forward|termination|negated|10|Group[642]|Clement\n",
      "facteur probable de |forward|termination|negated|10|Group[642]|Clement\n"
     ]
    }
   ],
   "source": [
    "from nltk.parse.generate import generate, demo_grammar\n",
    "from nltk import CFG\n",
    "\n",
    "cfg_grammar= \"\"\"\n",
    "S ->  Var1 Var2 Var3 Trigger_Rule\n",
    "Var1 -> \"élément\" | \"ingrédient\" | \"constituant\" | \"facteur\"\n",
    "Var2 -> \"probable\"\n",
    "Var3 -> \"de\"\n",
    "Trigger_Rule -> \"|forward|termination|negated|10|Group[642]|Clement\"\n",
    "\"\"\"\n",
    "\n",
    "for sentence in generate(CFG.fromstring(cfg_grammar), n=1000):\n",
    "    print(' '.join(sentence))"
   ]
  },
  {
   "cell_type": "code",
   "execution_count": 47,
   "metadata": {},
   "outputs": [
    {
     "name": "stdout",
     "output_type": "stream",
     "text": [
      "probablement |both|pseudo|uncertain|30|Group[646]|Clement\n",
      "éventuellement |both|pseudo|uncertain|30|Group[646]|Clement\n",
      "plausiblement |both|pseudo|uncertain|30|Group[646]|Clement\n",
      "possiblement |both|pseudo|uncertain|30|Group[646]|Clement\n",
      "sans doute |both|pseudo|uncertain|30|Group[646]|Clement\n",
      "sûrement |both|pseudo|uncertain|30|Group[646]|Clement\n"
     ]
    }
   ],
   "source": [
    "from nltk.parse.generate import generate, demo_grammar\n",
    "from nltk import CFG\n",
    "\n",
    "cfg_grammar= \"\"\"\n",
    "S ->   Var1 Trigger_Rule\n",
    "Var1 -> \"probablement\"| \"éventuellement\" | \"plausiblement\" | \"possiblement\" | \"sans doute\" | \"sûrement\"\n",
    "Trigger_Rule -> \"|both|pseudo|uncertain|30|Group[646]|Clement\"\n",
    "\"\"\"\n",
    "\n",
    "for sentence in generate(CFG.fromstring(cfg_grammar), n=1000):\n",
    "    print(' '.join(sentence))"
   ]
  },
  {
   "cell_type": "code",
   "execution_count": 48,
   "metadata": {},
   "outputs": [
    {
     "name": "stdout",
     "output_type": "stream",
     "text": [
      "probable |forward|trigger|uncertain|30|Group[647]|Clement\n",
      "probable _s |forward|trigger|uncertain|30|Group[647]|Clement\n",
      "éventuel |forward|trigger|uncertain|30|Group[647]|Clement\n",
      "éventuel _s |forward|trigger|uncertain|30|Group[647]|Clement\n",
      "plausible |forward|trigger|uncertain|30|Group[647]|Clement\n",
      "plausible _s |forward|trigger|uncertain|30|Group[647]|Clement\n",
      "possible |forward|trigger|uncertain|30|Group[647]|Clement\n",
      "possible _s |forward|trigger|uncertain|30|Group[647]|Clement\n"
     ]
    }
   ],
   "source": [
    "from nltk.parse.generate import generate, demo_grammar\n",
    "from nltk import CFG\n",
    "\n",
    "cfg_grammar= \"\"\"\n",
    "S ->  Var1 Termin Trigger_Rule\n",
    "Var1 -> \"probable\"| \"éventuel\" | \"plausible\" | \"possible\"\n",
    "Termin -> |\"_s\"\n",
    "Trigger_Rule -> \"|forward|trigger|uncertain|30|Group[647]|Clement\"\n",
    "\"\"\"\n",
    "\n",
    "for sentence in generate(CFG.fromstring(cfg_grammar), n=1000):\n",
    "    print(' '.join(sentence))"
   ]
  },
  {
   "cell_type": "code",
   "execution_count": 49,
   "metadata": {},
   "outputs": [
    {
     "name": "stdout",
     "output_type": "stream",
     "text": [
      "chercher |forward|trigger|conditional|30|Group[648]|Clement\n",
      "scruter |forward|trigger|conditional|30|Group[648]|Clement\n",
      "sonder |forward|trigger|conditional|30|Group[648]|Clement\n",
      "essayer |forward|trigger|conditional|30|Group[648]|Clement\n",
      "explorer |forward|trigger|conditional|30|Group[648]|Clement\n",
      "rechercher |forward|trigger|conditional|30|Group[648]|Clement\n",
      "examiner |forward|trigger|conditional|30|Group[648]|Clement\n",
      "fouiller |forward|trigger|conditional|30|Group[648]|Clement\n"
     ]
    }
   ],
   "source": [
    "from nltk.parse.generate import generate, demo_grammar\n",
    "from nltk import CFG\n",
    "\n",
    "cfg_grammar= \"\"\"\n",
    "S ->  Var1 Trigger_Rule\n",
    "Var1 -> \"chercher\" | \"scruter\" | \"sonder\" | \"essayer\" | \"explorer\" | \"rechercher\" | \"examiner\" | \"fouiller\"\n",
    "Trigger_Rule -> \"|forward|trigger|conditional|30|Group[648]|Clement\"\n",
    "\"\"\"\n",
    "\n",
    "for sentence in generate(CFG.fromstring(cfg_grammar), n=1000):\n",
    "    print(' '.join(sentence))"
   ]
  },
  {
   "cell_type": "code",
   "execution_count": 50,
   "metadata": {},
   "outputs": [
    {
     "name": "stdout",
     "output_type": "stream",
     "text": [
      "peut être \\w+ sous-estimé |both|pseudo|uncertain|30|Group[651]|Clement\n",
      "peut être \\w+ minimisé |both|pseudo|uncertain|30|Group[651]|Clement\n",
      "peut être \\w+ minoré |both|pseudo|uncertain|30|Group[651]|Clement\n",
      "peut être \\w+ mésestimé |both|pseudo|uncertain|30|Group[651]|Clement\n",
      "peut être \\w+ sous-évalué |both|pseudo|uncertain|30|Group[651]|Clement\n"
     ]
    }
   ],
   "source": [
    "from nltk.parse.generate import generate, demo_grammar\n",
    "from nltk import CFG\n",
    "\n",
    "cfg_grammar= \"\"\"\n",
    "S ->  Var1 Var2 Var3 Var4 Trigger_Rule\n",
    "Var1 -> \"peut\"\n",
    "Var2 -> \"être\"\n",
    "Var3 -> \"\\\\w+\"\n",
    "Var4 -> \"sous-estimé\" | \"minimisé\" | \"minoré\" | \"mésestimé\" | \"sous-évalué\"\n",
    "Trigger_Rule -> \"|both|pseudo|uncertain|30|Group[651]|Clement\"\n",
    "\"\"\"\n",
    "\n",
    "for sentence in generate(CFG.fromstring(cfg_grammar), n=1000):\n",
    "    print(' '.join(sentence))"
   ]
  },
  {
   "cell_type": "code",
   "execution_count": 51,
   "metadata": {},
   "outputs": [
    {
     "name": "stdout",
     "output_type": "stream",
     "text": [
      "peut contribuer |both|pseudo|uncertain|30|Group[652]|Clement\n",
      "peut collaborer |both|pseudo|uncertain|30|Group[652]|Clement\n",
      "peut concourir |both|pseudo|uncertain|30|Group[652]|Clement\n",
      "peut participer |both|pseudo|uncertain|30|Group[652]|Clement\n",
      "peut favoriser |both|pseudo|uncertain|30|Group[652]|Clement\n",
      "peut prendre part |both|pseudo|uncertain|30|Group[652]|Clement\n"
     ]
    }
   ],
   "source": [
    "from nltk.parse.generate import generate, demo_grammar\n",
    "from nltk import CFG\n",
    "\n",
    "cfg_grammar= \"\"\"\n",
    "S ->  Var1 Var2 Trigger_Rule\n",
    "Var1 -> \"peut\"\n",
    "Var2 -> \"contribuer\" | \"collaborer\" | \"concourir\" | \"participer\" | \"favoriser\" | \"prendre part\"\n",
    "Trigger_Rule -> \"|both|pseudo|uncertain|30|Group[652]|Clement\"\n",
    "\"\"\"\n",
    "\n",
    "for sentence in generate(CFG.fromstring(cfg_grammar), n=1000):\n",
    "    print(' '.join(sentence))"
   ]
  },
  {
   "cell_type": "code",
   "execution_count": 52,
   "metadata": {},
   "outputs": [
    {
     "name": "stdout",
     "output_type": "stream",
     "text": [
      "peut-être dû |forward|trigger|uncertain|30|Group[653]|Clement\n"
     ]
    }
   ],
   "source": [
    "from nltk.parse.generate import generate, demo_grammar\n",
    "from nltk import CFG\n",
    "\n",
    "cfg_grammar= \"\"\"\n",
    "S ->  Var1 Var2 Trigger_Rule\n",
    "Var1 -> \"peut-être\"\n",
    "Var2 -> \"dû\"\n",
    "Trigger_Rule -> \"|forward|trigger|uncertain|30|Group[653]|Clement\"\n",
    "\"\"\"\n",
    "\n",
    "for sentence in generate(CFG.fromstring(cfg_grammar), n=1000):\n",
    "    print(' '.join(sentence))"
   ]
  },
  {
   "cell_type": "code",
   "execution_count": 53,
   "metadata": {},
   "outputs": [
    {
     "name": "stdout",
     "output_type": "stream",
     "text": [
      "pourrait démasquer |both|pseudo|uncertain|30|Group[654]|Clement\n",
      "pourrait révéler |both|pseudo|uncertain|30|Group[654]|Clement\n",
      "pourrait dévoiler |both|pseudo|uncertain|30|Group[654]|Clement\n",
      "pourrait déceler |both|pseudo|uncertain|30|Group[654]|Clement\n",
      "pourrait détecter |both|pseudo|uncertain|30|Group[654]|Clement\n"
     ]
    }
   ],
   "source": [
    "from nltk.parse.generate import generate, demo_grammar\n",
    "from nltk import CFG\n",
    "\n",
    "cfg_grammar= \"\"\"\n",
    "S ->  Var1 Var2 Trigger_Rule\n",
    "Var1 -> \"pourrait\"\n",
    "Var2 -> \"démasquer\" | \"révéler\" | \"dévoiler\" | \"déceler\" | \"détecter\"\n",
    "Trigger_Rule -> \"|both|pseudo|uncertain|30|Group[654]|Clement\"\n",
    "\"\"\"\n",
    "\n",
    "for sentence in generate(CFG.fromstring(cfg_grammar), n=1000):\n",
    "    print(' '.join(sentence))"
   ]
  },
  {
   "cell_type": "code",
   "execution_count": 64,
   "metadata": {},
   "outputs": [
    {
     "name": "stdout",
     "output_type": "stream",
     "text": [
      "peut être lié |both|pseudo|uncertain|30|Group[654]|Clement\n",
      "peut être connexe |both|pseudo|uncertain|30|Group[654]|Clement\n",
      "peut être relié |both|pseudo|uncertain|30|Group[654]|Clement\n",
      "peut être imbriqué |both|pseudo|uncertain|30|Group[654]|Clement\n",
      "peut être conjoint |both|pseudo|uncertain|30|Group[654]|Clement\n",
      "peut être attaché |both|pseudo|uncertain|30|Group[654]|Clement\n",
      "peut être inhérent |both|pseudo|uncertain|30|Group[654]|Clement\n",
      "peut être rattaché |both|pseudo|uncertain|30|Group[654]|Clement\n",
      "peut être coordonné |both|pseudo|uncertain|30|Group[654]|Clement\n",
      "peut être adjoint |both|pseudo|uncertain|30|Group[654]|Clement\n",
      "peut être assujetti |both|pseudo|uncertain|30|Group[654]|Clement\n"
     ]
    }
   ],
   "source": [
    "from nltk.parse.generate import generate, demo_grammar\n",
    "from nltk import CFG\n",
    "\n",
    "cfg_grammar= \"\"\"\n",
    "S ->  Var1 Var2 Var3 Trigger_Rule\n",
    "Var1 -> \"peut\"\n",
    "Var2 -> \"être\"\n",
    "Var3 -> \"lié\" | \"connexe\" | \"relié\" | \"imbriqué\" | \"conjoint\" | \"attaché\" | \"inhérent\" | \"rattaché\" | \"coordonné\" | \"adjoint\" | \"assujetti\"\n",
    "Trigger_Rule -> \"|both|pseudo|uncertain|30|Group[654]|Clement\"\n",
    "\"\"\"\n",
    "\n",
    "for sentence in generate(CFG.fromstring(cfg_grammar), n=1000):\n",
    "    print(' '.join(sentence))"
   ]
  },
  {
   "cell_type": "code",
   "execution_count": 55,
   "metadata": {},
   "outputs": [
    {
     "name": "stdout",
     "output_type": "stream",
     "text": [
      "peut être sous-estimé |both|pseudo|uncertain|30|Group[654]|Clement\n",
      "peut être minimisé |both|pseudo|uncertain|30|Group[654]|Clement\n",
      "peut être minoré |both|pseudo|uncertain|30|Group[654]|Clement\n",
      "peut être mésestimé |both|pseudo|uncertain|30|Group[654]|Clement\n",
      "peut être déconsidéré |both|pseudo|uncertain|30|Group[654]|Clement\n",
      "peut être méprisé |both|pseudo|uncertain|30|Group[654]|Clement\n",
      "peut être décrié |both|pseudo|uncertain|30|Group[654]|Clement\n",
      "peut être dévalué |both|pseudo|uncertain|30|Group[654]|Clement\n",
      "peut être décrédité |both|pseudo|uncertain|30|Group[654]|Clement\n",
      "peut être discrédité |both|pseudo|uncertain|30|Group[654]|Clement\n",
      "peut être déprécié |both|pseudo|uncertain|30|Group[654]|Clement\n",
      "peut être méjugé |both|pseudo|uncertain|30|Group[654]|Clement\n",
      "peut être dévalorisé |both|pseudo|uncertain|30|Group[654]|Clement\n",
      "peut être sous-évalué |both|pseudo|uncertain|30|Group[654]|Clement\n"
     ]
    }
   ],
   "source": [
    "from nltk.parse.generate import generate, demo_grammar\n",
    "from nltk import CFG\n",
    "\n",
    "cfg_grammar= \"\"\"\n",
    "S ->  Var1 Var2 Var3 Trigger_Rule\n",
    "Var1 -> \"peut\"\n",
    "Var2 -> \"être\"\n",
    "Var3 -> \"sous-estimé\" | \"minimisé\" | \"minoré\" | \"mésestimé\" | \"déconsidéré\" | \"méprisé\" | \"décrié\" | \"dévalué\" | \"décrédité\" | \"discrédité\" | \"déprécié\" | \"méjugé\" | \"dévalorisé\" | \"sous-évalué\"\n",
    "Trigger_Rule -> \"|both|pseudo|uncertain|30|Group[654]|Clement\"\n",
    "\"\"\"\n",
    "\n",
    "for sentence in generate(CFG.fromstring(cfg_grammar), n=1000):\n",
    "    print(' '.join(sentence))"
   ]
  },
  {
   "cell_type": "code",
   "execution_count": 56,
   "metadata": {},
   "outputs": [
    {
     "name": "stdout",
     "output_type": "stream",
     "text": [
      "peut-être |forward|trigger|uncertain|30|Group[659]|Clement\n",
      "peut être |forward|trigger|uncertain|30|Group[659]|Clement\n",
      "peut-etre |forward|trigger|uncertain|30|Group[659]|Clement\n",
      "peut etre |forward|trigger|uncertain|30|Group[659]|Clement\n"
     ]
    }
   ],
   "source": [
    "from nltk.parse.generate import generate, demo_grammar\n",
    "from nltk import CFG\n",
    "\n",
    "cfg_grammar= \"\"\"\n",
    "S ->  Var1 Trigger_Rule\n",
    "Var1 -> \"peut-être\" |\"peut être\" | \"peut-etre\" |\"peut etre\"\n",
    "Trigger_Rule -> \"|forward|trigger|uncertain|30|Group[659]|Clement\"\n",
    "\"\"\"\n",
    "\n",
    "for sentence in generate(CFG.fromstring(cfg_grammar), n=1000):\n",
    "    print(' '.join(sentence))"
   ]
  },
  {
   "cell_type": "code",
   "execution_count": 57,
   "metadata": {},
   "outputs": [
    {
     "name": "stdout",
     "output_type": "stream",
     "text": [
      "peut représenter |forward|trigger|uncertain|30|Group[659]|Clement\n",
      "peut symboliser |forward|trigger|uncertain|30|Group[659]|Clement\n",
      "peut décrire |forward|trigger|uncertain|30|Group[659]|Clement\n",
      "peut montrer |forward|trigger|uncertain|30|Group[659]|Clement\n",
      "peut dépeindre |forward|trigger|uncertain|30|Group[659]|Clement\n",
      "peut figurer |forward|trigger|uncertain|30|Group[659]|Clement\n",
      "peut exposer |forward|trigger|uncertain|30|Group[659]|Clement\n",
      "peut signifier |forward|trigger|uncertain|30|Group[659]|Clement\n",
      "peut exhiber |forward|trigger|uncertain|30|Group[659]|Clement\n",
      "peut évoquer |forward|trigger|uncertain|30|Group[659]|Clement\n",
      "peut désigner |forward|trigger|uncertain|30|Group[659]|Clement\n"
     ]
    }
   ],
   "source": [
    "from nltk.parse.generate import generate, demo_grammar\n",
    "from nltk import CFG\n",
    "\n",
    "cfg_grammar= \"\"\"\n",
    "S ->  Var1 Var2 Trigger_Rule\n",
    "Var1 -> \"peut\"\n",
    "Var2 -> \"représenter\" | \"symboliser\" | \"décrire\" | \"montrer\" | \"dépeindre\" | \"figurer\" | \"exposer\" | \"signifier\" | \"exhiber\" | \"évoquer\" | \"désigner\"\n",
    "Trigger_Rule -> \"|forward|trigger|uncertain|30|Group[659]|Clement\"\n",
    "\"\"\"\n",
    "\n",
    "for sentence in generate(CFG.fromstring(cfg_grammar), n=1000):\n",
    "    print(' '.join(sentence))"
   ]
  },
  {
   "cell_type": "code",
   "execution_count": 58,
   "metadata": {},
   "outputs": [
    {
     "name": "stdout",
     "output_type": "stream",
     "text": [
      "peut avoir |forward|trigger|uncertain|30|Group[659]|Clement\n",
      "pourrait avoir |forward|trigger|uncertain|30|Group[659]|Clement\n"
     ]
    }
   ],
   "source": [
    "from nltk.parse.generate import generate, demo_grammar\n",
    "from nltk import CFG\n",
    "\n",
    "cfg_grammar= \"\"\"\n",
    "S ->  Var1 Var2 Trigger_Rule\n",
    "Var1 -> \"peut\" | \"pourrait\"\n",
    "Var2 -> \"avoir\"\n",
    "Trigger_Rule -> \"|forward|trigger|uncertain|30|Group[659]|Clement\"\n",
    "\"\"\"\n",
    "\n",
    "for sentence in generate(CFG.fromstring(cfg_grammar), n=1000):\n",
    "    print(' '.join(sentence))"
   ]
  },
  {
   "cell_type": "code",
   "execution_count": 59,
   "metadata": {},
   "outputs": [
    {
     "name": "stdout",
     "output_type": "stream",
     "text": [
      "léger |forward|termination|negated|10|Group[666]|Clement\n",
      "légers |forward|termination|negated|10|Group[666]|Clement\n",
      "légerement |forward|termination|negated|10|Group[666]|Clement\n",
      "doux |forward|termination|negated|10|Group[666]|Clement\n",
      "douce |forward|termination|negated|10|Group[666]|Clement\n",
      "douces |forward|termination|negated|10|Group[666]|Clement\n"
     ]
    }
   ],
   "source": [
    "## from nltk.parse.generate import generate, demo_grammar\n",
    "from nltk import CFG\n",
    "\n",
    "cfg_grammar= \"\"\"\n",
    "S ->  Var1 Trigger_Rule\n",
    "Var1 -> \"léger\" | \"légers\" |\"légerement\" | \"doux\"| \"douce\"| \"douces\"\n",
    "Trigger_Rule -> \"|forward|termination|negated|10|Group[666]|Clement\"\n",
    "\"\"\"\n",
    "\n",
    "for sentence in generate(CFG.fromstring(cfg_grammar), n=1000):\n",
    "    print(' '.join(sentence))"
   ]
  },
  {
   "cell_type": "code",
   "execution_count": 60,
   "metadata": {},
   "outputs": [
    {
     "name": "stdout",
     "output_type": "stream",
     "text": [
      "surveiller le \\w+ pour |forward|trigger|conditional|30|Group[672]|Clement\n",
      "examiner le \\w+ pour |forward|trigger|conditional|30|Group[672]|Clement\n",
      "suivre le \\w+ pour |forward|trigger|conditional|30|Group[672]|Clement\n",
      "avoir à l'oeil le \\w+ pour |forward|trigger|conditional|30|Group[672]|Clement\n"
     ]
    }
   ],
   "source": [
    "from nltk.parse.generate import generate, demo_grammar\n",
    "from nltk import CFG\n",
    "\n",
    "cfg_grammar= \"\"\"\n",
    "S ->  Var1 Var2 Var3 Var4 Trigger_Rule\n",
    "Var1 -> \"surveiller\" |  \"examiner\" | \"suivre\" | \"avoir à l'oeil\"\n",
    "Var2 -> \"le\"\n",
    "Var3 -> \"\\\\w+\"\n",
    "Var4 -> \"pour\"\n",
    "Trigger_Rule -> \"|forward|trigger|conditional|30|Group[672]|Clement\"\n",
    "\"\"\"\n",
    "\n",
    "for sentence in generate(CFG.fromstring(cfg_grammar), n=1000):\n",
    "    print(' '.join(sentence))"
   ]
  },
  {
   "cell_type": "code",
   "execution_count": 61,
   "metadata": {},
   "outputs": [
    {
     "name": "stdout",
     "output_type": "stream",
     "text": [
      "être à l'affût du \\w+ pour |forward|trigger|conditional|30|Group[672]|Clement\n",
      "faire attention au \\w+ pour |forward|trigger|conditional|30|Group[672]|Clement\n"
     ]
    }
   ],
   "source": [
    "from nltk.parse.generate import generate, demo_grammar\n",
    "from nltk import CFG\n",
    "\n",
    "cfg_grammar= \"\"\"\n",
    "S ->  Var1 Var2 Var3 Trigger_Rule\n",
    "Var1 -> \"être à l'affût du\" | \"faire attention au\"\n",
    "Var2 -> \"\\\\w+\"\n",
    "Var3 -> \"pour\"\n",
    "Trigger_Rule -> \"|forward|trigger|conditional|30|Group[672]|Clement\"\n",
    "\"\"\"\n",
    "\n",
    "for sentence in generate(CFG.fromstring(cfg_grammar), n=1000):\n",
    "    print(' '.join(sentence))"
   ]
  },
  {
   "cell_type": "code",
   "execution_count": 62,
   "metadata": {},
   "outputs": [
    {
     "name": "stdout",
     "output_type": "stream",
     "text": [
      "doit être exclu pour |both|trigger|uncertain|30|Group[678]|Clement\n",
      "doit être repoussé pour |both|trigger|uncertain|30|Group[678]|Clement\n",
      "doit être rejeté pour |both|trigger|uncertain|30|Group[678]|Clement\n",
      "doit être éliminé pour |both|trigger|uncertain|30|Group[678]|Clement\n",
      "doit être proscrit pour |both|trigger|uncertain|30|Group[678]|Clement\n"
     ]
    }
   ],
   "source": [
    "from nltk.parse.generate import generate, demo_grammar\n",
    "from nltk import CFG\n",
    "\n",
    "cfg_grammar= \"\"\"\n",
    "S ->  Var1 Var2 Var3 Var4 Trigger_Rule\n",
    "Var1 -> \"doit\"\n",
    "Var2 -> \"être\"\n",
    "Var3 -> \"exclu\" | \"repoussé\" | \"rejeté\" | \"éliminé\" | \"proscrit\"\n",
    "Var4 -> \"pour\"\n",
    "Trigger_Rule -> \"|both|trigger|uncertain|30|Group[678]|Clement\"\n",
    "\"\"\"\n",
    "\n",
    "for sentence in generate(CFG.fromstring(cfg_grammar), n=1000):\n",
    "    print(' '.join(sentence))"
   ]
  },
  {
   "cell_type": "code",
   "execution_count": 63,
   "metadata": {},
   "outputs": [
    {
     "name": "stdout",
     "output_type": "stream",
     "text": [
      "neg dans |forward|trigger|negated|10|Group[682]|Clement\n",
      "neg pour |forward|trigger|negated|10|Group[682]|Clement\n",
      "neg par |forward|trigger|negated|10|Group[682]|Clement\n",
      "nég dans |forward|trigger|negated|10|Group[682]|Clement\n",
      "nég pour |forward|trigger|negated|10|Group[682]|Clement\n",
      "nég par |forward|trigger|negated|10|Group[682]|Clement\n",
      "nég. dans |forward|trigger|negated|10|Group[682]|Clement\n",
      "nég. pour |forward|trigger|negated|10|Group[682]|Clement\n",
      "nég. par |forward|trigger|negated|10|Group[682]|Clement\n",
      "négatifs dans |forward|trigger|negated|10|Group[682]|Clement\n",
      "négatifs pour |forward|trigger|negated|10|Group[682]|Clement\n",
      "négatifs par |forward|trigger|negated|10|Group[682]|Clement\n",
      "négatives dans |forward|trigger|negated|10|Group[682]|Clement\n",
      "négatives pour |forward|trigger|negated|10|Group[682]|Clement\n",
      "négatives par |forward|trigger|negated|10|Group[682]|Clement\n",
      "nuls dans |forward|trigger|negated|10|Group[682]|Clement\n",
      "nuls pour |forward|trigger|negated|10|Group[682]|Clement\n",
      "nuls par |forward|trigger|negated|10|Group[682]|Clement\n",
      "nulles dans |forward|trigger|negated|10|Group[682]|Clement\n",
      "nulles pour |forward|trigger|negated|10|Group[682]|Clement\n",
      "nulles par |forward|trigger|negated|10|Group[682]|Clement\n"
     ]
    }
   ],
   "source": [
    "from nltk.parse.generate import generate, demo_grammar\n",
    "from nltk import CFG\n",
    "\n",
    "cfg_grammar= \"\"\"\n",
    "S ->  Var1 Var2 Trigger_Rule\n",
    "Var1 -> \"neg\"|\"nég\"| \"nég.\"| \"négatifs\" |\"négatives\" |\"nuls\" | \"nulles\"\n",
    "Var2 -> \"dans\" | \"pour\" | \"par\"\n",
    "Trigger_Rule -> \"|forward|trigger|negated|10|Group[682]|Clement\"\n",
    "\"\"\"\n",
    "\n",
    "for sentence in generate(CFG.fromstring(cfg_grammar), n=1000):\n",
    "    print(' '.join(sentence))"
   ]
  }
 ],
 "metadata": {
  "file_extension": ".py",
  "kernelspec": {
   "display_name": "Python 3",
   "language": "python",
   "name": "python3"
  },
  "language_info": {
   "codemirror_mode": {
    "name": "ipython",
    "version": 3
   },
   "file_extension": ".py",
   "mimetype": "text/x-python",
   "name": "python",
   "nbconvert_exporter": "python",
   "pygments_lexer": "ipython3",
   "version": "3.7.2"
  },
  "mimetype": "text/x-python",
  "name": "python",
  "nbconvert_exporter": "python",
  "pygments_lexer": "ipython3",
  "version": "3.7.2"
 },
 "nbformat": 4,
 "nbformat_minor": 2
}
