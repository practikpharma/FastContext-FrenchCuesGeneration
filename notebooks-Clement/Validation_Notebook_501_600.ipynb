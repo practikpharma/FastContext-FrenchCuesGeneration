{
 "cells": [
  {
   "cell_type": "code",
   "execution_count": 1,
   "metadata": {},
   "outputs": [
    {
     "name": "stdout",
     "output_type": "stream",
     "text": [
      "pas exclu _ |backward|trigger|uncertain|30|Group[882]|Clement\n",
      "pas exclu _s |backward|trigger|uncertain|30|Group[882]|Clement\n",
      "pas exclu _e |backward|trigger|uncertain|30|Group[882]|Clement\n",
      "pas exclu _es |backward|trigger|uncertain|30|Group[882]|Clement\n",
      "pas rejeté _ |backward|trigger|uncertain|30|Group[882]|Clement\n",
      "pas rejeté _s |backward|trigger|uncertain|30|Group[882]|Clement\n",
      "pas rejeté _e |backward|trigger|uncertain|30|Group[882]|Clement\n",
      "pas rejeté _es |backward|trigger|uncertain|30|Group[882]|Clement\n",
      "pas éliminé _ |backward|trigger|uncertain|30|Group[882]|Clement\n",
      "pas éliminé _s |backward|trigger|uncertain|30|Group[882]|Clement\n",
      "pas éliminé _e |backward|trigger|uncertain|30|Group[882]|Clement\n",
      "pas éliminé _es |backward|trigger|uncertain|30|Group[882]|Clement\n",
      "pas proscrit _ |backward|trigger|uncertain|30|Group[882]|Clement\n",
      "pas proscrit _s |backward|trigger|uncertain|30|Group[882]|Clement\n",
      "pas proscrit _e |backward|trigger|uncertain|30|Group[882]|Clement\n",
      "pas proscrit _es |backward|trigger|uncertain|30|Group[882]|Clement\n"
     ]
    }
   ],
   "source": [
    "from nltk.parse.generate import generate, demo_grammar\n",
    "from nltk import CFG\n",
    "\n",
    "cfg_grammar= \"\"\"\n",
    "S ->  Var1 Var2 Termin Trigger_Rule\n",
    "Var1 -> \"pas\"\n",
    "Var2 -> \"exclu\" | \"rejeté\" | \"éliminé\" | \"proscrit\"\n",
    "Termin -> \"_\"|\"_s\" |\"_e\" |\"_es\"\n",
    "Trigger_Rule -> \"|backward|trigger|uncertain|30|Group[882]|Clement\"\n",
    "\"\"\"\n",
    "\n",
    "for sentence in generate(CFG.fromstring(cfg_grammar), n=1000):\n",
    "    print(' '.join(sentence))"
   ]
  },
  {
   "cell_type": "code",
   "execution_count": 2,
   "metadata": {},
   "outputs": [
    {
     "name": "stdout",
     "output_type": "stream",
     "text": [
      "pas vu |forward|trigger|negated|10|Group[883]|Clement\n"
     ]
    }
   ],
   "source": [
    "from nltk.parse.generate import generate, demo_grammar\n",
    "from nltk import CFG\n",
    "\n",
    "cfg_grammar= \"\"\"\n",
    "S ->  Var1 Var2 Trigger_Rule\n",
    "Var1 -> \"pas\"\n",
    "Var2 -> \"vu\"\n",
    "Trigger_Rule -> \"|forward|trigger|negated|10|Group[883]|Clement\"\n",
    "\"\"\"\n",
    "\n",
    "for sentence in generate(CFG.fromstring(cfg_grammar), n=1000):\n",
    "    print(' '.join(sentence))"
   ]
  },
  {
   "cell_type": "code",
   "execution_count": 3,
   "metadata": {},
   "outputs": [
    {
     "name": "stdout",
     "output_type": "stream",
     "text": [
      "pas arrêter |both|pseudo|negated|10|Group[885]|Clement\n"
     ]
    }
   ],
   "source": [
    "from nltk.parse.generate import generate, demo_grammar\n",
    "from nltk import CFG\n",
    "\n",
    "cfg_grammar= \"\"\"\n",
    "S ->  Var1 Var2 Trigger_Rule\n",
    "Var1 -> \"pas\"\n",
    "Var2 -> \"arrêter\"\n",
    "Trigger_Rule -> \"|both|pseudo|negated|10|Group[885]|Clement\"\n",
    "\"\"\"\n",
    "\n",
    "for sentence in generate(CFG.fromstring(cfg_grammar), n=1000):\n",
    "    print(' '.join(sentence))"
   ]
  },
  {
   "cell_type": "code",
   "execution_count": 4,
   "metadata": {},
   "outputs": [
    {
     "name": "stdout",
     "output_type": "stream",
     "text": [
      "ne pas être |forward|trigger|negated|10|Group[886]|Clement\n"
     ]
    }
   ],
   "source": [
    "from nltk.parse.generate import generate, demo_grammar\n",
    "from nltk import CFG\n",
    "\n",
    "cfg_grammar= \"\"\"\n",
    "S ->  Var1 Var2 Var3 Trigger_Rule\n",
    "Var1 -> \"ne\"\n",
    "Var2 -> \"pas\"\n",
    "Var3 -> \"être\"\n",
    "Trigger_Rule -> \"|forward|trigger|negated|10|Group[886]|Clement\"\n",
    "\"\"\"\n",
    "\n",
    "for sentence in generate(CFG.fromstring(cfg_grammar), n=1000):\n",
    "    print(' '.join(sentence))"
   ]
  },
  {
   "cell_type": "code",
   "execution_count": 5,
   "metadata": {},
   "outputs": [
    {
     "name": "stdout",
     "output_type": "stream",
     "text": [
      "noté |both|termination|historical|30|Group[888, 889]|Clement\n",
      "noté |both|termination|nonpatient|30|Group[888, 889]|Clement\n",
      "constaté |both|termination|historical|30|Group[888, 889]|Clement\n",
      "constaté |both|termination|nonpatient|30|Group[888, 889]|Clement\n"
     ]
    }
   ],
   "source": [
    "from nltk.parse.generate import generate, demo_grammar\n",
    "from nltk import CFG\n",
    "\n",
    "cfg_grammar= \"\"\"\n",
    "S -> Var1 Trigger_Rule\n",
    "Var1 -> \"noté\" | \"constaté\" \n",
    "Trigger_Rule -> \"|both|termination|historical|30|Group[888, 889]|Clement\"|\"|both|termination|nonpatient|30|Group[888, 889]|Clement\"\n",
    "\"\"\"\n",
    "\n",
    "for sentence in generate(CFG.fromstring(cfg_grammar), n=1000):\n",
    "    print(' '.join(sentence))"
   ]
  },
  {
   "cell_type": "code",
   "execution_count": 6,
   "metadata": {},
   "outputs": [
    {
     "name": "stdout",
     "output_type": "stream",
     "text": [
      "ne pas |forward|trigger|negated|10|Group[891, 890]|Clement\n"
     ]
    }
   ],
   "source": [
    "from nltk.parse.generate import generate, demo_grammar\n",
    "from nltk import CFG\n",
    "\n",
    "cfg_grammar= \"\"\"\n",
    "S ->  Var1 Var2 Trigger_Rule\n",
    "Var1 -> \"ne\"\n",
    "Var2 -> \"pas\"\n",
    "Trigger_Rule -> \"|forward|trigger|negated|10|Group[891, 890]|Clement\"\n",
    "\"\"\"\n",
    "\n",
    "for sentence in generate(CFG.fromstring(cfg_grammar), n=1000):\n",
    "    print(' '.join(sentence))"
   ]
  },
  {
   "cell_type": "code",
   "execution_count": 7,
   "metadata": {},
   "outputs": [
    {
     "name": "stdout",
     "output_type": "stream",
     "text": [
      "maintenant résolu |backward|trigger|negated|10|Group[892, 893]|Clement\n",
      "maintenant résolu |forward|termination|negated|10|Group[892, 893]|Clement\n",
      "maintenant solutionné |backward|trigger|negated|10|Group[892, 893]|Clement\n",
      "maintenant solutionné |forward|termination|negated|10|Group[892, 893]|Clement\n",
      "maintenant traité |backward|trigger|negated|10|Group[892, 893]|Clement\n",
      "maintenant traité |forward|termination|negated|10|Group[892, 893]|Clement\n",
      "actuellement résolu |backward|trigger|negated|10|Group[892, 893]|Clement\n",
      "actuellement résolu |forward|termination|negated|10|Group[892, 893]|Clement\n",
      "actuellement solutionné |backward|trigger|negated|10|Group[892, 893]|Clement\n",
      "actuellement solutionné |forward|termination|negated|10|Group[892, 893]|Clement\n",
      "actuellement traité |backward|trigger|negated|10|Group[892, 893]|Clement\n",
      "actuellement traité |forward|termination|negated|10|Group[892, 893]|Clement\n",
      "aujourd'hui résolu |backward|trigger|negated|10|Group[892, 893]|Clement\n",
      "aujourd'hui résolu |forward|termination|negated|10|Group[892, 893]|Clement\n",
      "aujourd'hui solutionné |backward|trigger|negated|10|Group[892, 893]|Clement\n",
      "aujourd'hui solutionné |forward|termination|negated|10|Group[892, 893]|Clement\n",
      "aujourd'hui traité |backward|trigger|negated|10|Group[892, 893]|Clement\n",
      "aujourd'hui traité |forward|termination|negated|10|Group[892, 893]|Clement\n",
      "à présent résolu |backward|trigger|negated|10|Group[892, 893]|Clement\n",
      "à présent résolu |forward|termination|negated|10|Group[892, 893]|Clement\n",
      "à présent solutionné |backward|trigger|negated|10|Group[892, 893]|Clement\n",
      "à présent solutionné |forward|termination|negated|10|Group[892, 893]|Clement\n",
      "à présent traité |backward|trigger|negated|10|Group[892, 893]|Clement\n",
      "à présent traité |forward|termination|negated|10|Group[892, 893]|Clement\n",
      "dèsdésormais résolu |backward|trigger|negated|10|Group[892, 893]|Clement\n",
      "dèsdésormais résolu |forward|termination|negated|10|Group[892, 893]|Clement\n",
      "dèsdésormais solutionné |backward|trigger|negated|10|Group[892, 893]|Clement\n",
      "dèsdésormais solutionné |forward|termination|negated|10|Group[892, 893]|Clement\n",
      "dèsdésormais traité |backward|trigger|negated|10|Group[892, 893]|Clement\n",
      "dèsdésormais traité |forward|termination|negated|10|Group[892, 893]|Clement\n",
      "présentement résolu |backward|trigger|negated|10|Group[892, 893]|Clement\n",
      "présentement résolu |forward|termination|negated|10|Group[892, 893]|Clement\n",
      "présentement solutionné |backward|trigger|negated|10|Group[892, 893]|Clement\n",
      "présentement solutionné |forward|termination|negated|10|Group[892, 893]|Clement\n",
      "présentement traité |backward|trigger|negated|10|Group[892, 893]|Clement\n",
      "présentement traité |forward|termination|negated|10|Group[892, 893]|Clement\n"
     ]
    }
   ],
   "source": [
    "from nltk.parse.generate import generate, demo_grammar\n",
    "from nltk import CFG\n",
    "\n",
    "cfg_grammar= \"\"\"\n",
    "S ->  Var1 Var2 Trigger_Rule\n",
    "Var1 -> \"maintenant\" | \"actuellement\" | \"aujourd'hui\" | \"à présent\" | \"dèsdésormais\" | \"présentement\"\n",
    "Var2 -> \"résolu\" | \"solutionné\" | \"traité\"\n",
    "Trigger_Rule -> \"|backward|trigger|negated|10|Group[892, 893]|Clement\"|\"|forward|termination|negated|10|Group[892, 893]|Clement\"\n",
    "\"\"\"\n",
    "\n",
    "for sentence in generate(CFG.fromstring(cfg_grammar), n=1000):\n",
    "    print(' '.join(sentence))"
   ]
  },
  {
   "cell_type": "code",
   "execution_count": 53,
   "metadata": {},
   "outputs": [
    {
     "name": "stdout",
     "output_type": "stream",
     "text": [
      "origine pour |forward|termination|negated|10|Group[896]|Clement\n",
      "origine de |forward|termination|negated|10|Group[896]|Clement\n",
      "origine _s pour |forward|termination|negated|10|Group[896]|Clement\n",
      "origine _s de |forward|termination|negated|10|Group[896]|Clement\n",
      "début pour |forward|termination|negated|10|Group[896]|Clement\n",
      "début de |forward|termination|negated|10|Group[896]|Clement\n",
      "début _s pour |forward|termination|negated|10|Group[896]|Clement\n",
      "début _s de |forward|termination|negated|10|Group[896]|Clement\n",
      "commencement pour |forward|termination|negated|10|Group[896]|Clement\n",
      "commencement de |forward|termination|negated|10|Group[896]|Clement\n",
      "commencement _s pour |forward|termination|negated|10|Group[896]|Clement\n",
      "commencement _s de |forward|termination|negated|10|Group[896]|Clement\n",
      "provenance pour |forward|termination|negated|10|Group[896]|Clement\n",
      "provenance de |forward|termination|negated|10|Group[896]|Clement\n",
      "provenance _s pour |forward|termination|negated|10|Group[896]|Clement\n",
      "provenance _s de |forward|termination|negated|10|Group[896]|Clement\n",
      "cause pour |forward|termination|negated|10|Group[896]|Clement\n",
      "cause de |forward|termination|negated|10|Group[896]|Clement\n",
      "cause _s pour |forward|termination|negated|10|Group[896]|Clement\n",
      "cause _s de |forward|termination|negated|10|Group[896]|Clement\n",
      "formation pour |forward|termination|negated|10|Group[896]|Clement\n",
      "formation de |forward|termination|negated|10|Group[896]|Clement\n",
      "formation _s pour |forward|termination|negated|10|Group[896]|Clement\n",
      "formation _s de |forward|termination|negated|10|Group[896]|Clement\n",
      "base pour |forward|termination|negated|10|Group[896]|Clement\n",
      "base de |forward|termination|negated|10|Group[896]|Clement\n",
      "base _s pour |forward|termination|negated|10|Group[896]|Clement\n",
      "base _s de |forward|termination|negated|10|Group[896]|Clement\n",
      "fondement pour |forward|termination|negated|10|Group[896]|Clement\n",
      "fondement de |forward|termination|negated|10|Group[896]|Clement\n",
      "fondement _s pour |forward|termination|negated|10|Group[896]|Clement\n",
      "fondement _s de |forward|termination|negated|10|Group[896]|Clement\n",
      "prédéterminant pour |forward|termination|negated|10|Group[896]|Clement\n",
      "prédéterminant de |forward|termination|negated|10|Group[896]|Clement\n",
      "prédéterminant _s pour |forward|termination|negated|10|Group[896]|Clement\n",
      "prédéterminant _s de |forward|termination|negated|10|Group[896]|Clement\n",
      "raison pour |forward|termination|negated|10|Group[896]|Clement\n",
      "raison de |forward|termination|negated|10|Group[896]|Clement\n",
      "raison _s pour |forward|termination|negated|10|Group[896]|Clement\n",
      "raison _s de |forward|termination|negated|10|Group[896]|Clement\n",
      "départ pour |forward|termination|negated|10|Group[896]|Clement\n",
      "départ de |forward|termination|negated|10|Group[896]|Clement\n",
      "départ _s pour |forward|termination|negated|10|Group[896]|Clement\n",
      "départ _s de |forward|termination|negated|10|Group[896]|Clement\n",
      "étiologie pour |forward|termination|negated|10|Group[896]|Clement\n",
      "étiologie de |forward|termination|negated|10|Group[896]|Clement\n",
      "étiologie _s pour |forward|termination|negated|10|Group[896]|Clement\n",
      "étiologie _s de |forward|termination|negated|10|Group[896]|Clement\n",
      "causalité pour |forward|termination|negated|10|Group[896]|Clement\n",
      "causalité de |forward|termination|negated|10|Group[896]|Clement\n",
      "causalité _s pour |forward|termination|negated|10|Group[896]|Clement\n",
      "causalité _s de |forward|termination|negated|10|Group[896]|Clement\n",
      "source pour |forward|termination|negated|10|Group[896]|Clement\n",
      "source de |forward|termination|negated|10|Group[896]|Clement\n",
      "source _s pour |forward|termination|negated|10|Group[896]|Clement\n",
      "source _s de |forward|termination|negated|10|Group[896]|Clement\n",
      "point de départ pour |forward|termination|negated|10|Group[896]|Clement\n",
      "point de départ de |forward|termination|negated|10|Group[896]|Clement\n",
      "point de départ _s pour |forward|termination|negated|10|Group[896]|Clement\n",
      "point de départ _s de |forward|termination|negated|10|Group[896]|Clement\n",
      "prétexte pour |forward|termination|negated|10|Group[896]|Clement\n",
      "prétexte de |forward|termination|negated|10|Group[896]|Clement\n",
      "prétexte _s pour |forward|termination|negated|10|Group[896]|Clement\n",
      "prétexte _s de |forward|termination|negated|10|Group[896]|Clement\n",
      "déclencheur pour |forward|termination|negated|10|Group[896]|Clement\n",
      "déclencheur de |forward|termination|negated|10|Group[896]|Clement\n",
      "déclencheur _s pour |forward|termination|negated|10|Group[896]|Clement\n",
      "déclencheur _s de |forward|termination|negated|10|Group[896]|Clement\n",
      "mobile pour |forward|termination|negated|10|Group[896]|Clement\n",
      "mobile de |forward|termination|negated|10|Group[896]|Clement\n",
      "mobile _s pour |forward|termination|negated|10|Group[896]|Clement\n",
      "mobile _s de |forward|termination|negated|10|Group[896]|Clement\n",
      "explication pour |forward|termination|negated|10|Group[896]|Clement\n",
      "explication de |forward|termination|negated|10|Group[896]|Clement\n",
      "explication _s pour |forward|termination|negated|10|Group[896]|Clement\n",
      "explication _s de |forward|termination|negated|10|Group[896]|Clement\n"
     ]
    }
   ],
   "source": [
    "from nltk.parse.generate import generate, demo_grammar\n",
    "from nltk import CFG\n",
    "\n",
    "cfg_grammar= \"\"\"\n",
    "S ->  Var1 Termin Var2 Trigger_Rule\n",
    "Var1 -> \"origine\" | \"début\" | \"commencement\" | \"provenance\" | \"cause\" | \"formation\" | \"base\" | \"fondement\" | \"prédéterminant\" | \"raison\" | \"départ\" | \"étiologie\" | \"causalité\" | \"source\" | \"point de départ\" | \"prétexte\" | \"déclencheur\" | \"mobile\" | \"explication\"\n",
    "Termin -> |\"_s\"\n",
    "Var2 -> \"pour\" | \"de\"\n",
    "Trigger_Rule -> \"|forward|termination|negated|10|Group[896]|Clement\"\n",
    "\"\"\"\n",
    "\n",
    "for sentence in generate(CFG.fromstring(cfg_grammar), n=1000):\n",
    "    print(' '.join(sentence))"
   ]
  },
  {
   "cell_type": "code",
   "execution_count": 9,
   "metadata": {},
   "outputs": [
    {
     "name": "stdout",
     "output_type": "stream",
     "text": [
      "autre possibilité de |forward|termination|negated|10|Group[900]|Clement\n",
      "autre cas de |forward|termination|negated|10|Group[900]|Clement\n",
      "autre hypothèse de |forward|termination|negated|10|Group[900]|Clement\n"
     ]
    }
   ],
   "source": [
    "from nltk.parse.generate import generate, demo_grammar\n",
    "from nltk import CFG\n",
    "\n",
    "cfg_grammar= \"\"\"\n",
    "S ->  Var1 Var2 Var3 Trigger_Rule\n",
    "Var1 -> \"autre\"\n",
    "Var2 -> \"possibilité\" | \"cas\" | \"hypothèse\"\n",
    "Var3 -> \"de\"\n",
    "Trigger_Rule -> \"|forward|termination|negated|10|Group[900]|Clement\"\n",
    "\"\"\"\n",
    "\n",
    "for sentence in generate(CFG.fromstring(cfg_grammar), n=1000):\n",
    "    print(' '.join(sentence))"
   ]
  },
  {
   "cell_type": "code",
   "execution_count": 10,
   "metadata": {},
   "outputs": [
    {
     "name": "stdout",
     "output_type": "stream",
     "text": [
      "autres possibilités de |forward|termination|negated|10|Group[900]|Clement\n",
      "autres cas de |forward|termination|negated|10|Group[900]|Clement\n",
      "autres hypothèses de |forward|termination|negated|10|Group[900]|Clement\n"
     ]
    }
   ],
   "source": [
    "from nltk.parse.generate import generate, demo_grammar\n",
    "from nltk import CFG\n",
    "\n",
    "cfg_grammar= \"\"\"\n",
    "S ->  Var1 Var2 Var3 Trigger_Rule\n",
    "Var1 -> \"autres\"\n",
    "Var2 -> \"possibilités\" | \"cas\" | \"hypothèses\"\n",
    "Var3 -> \"de\"\n",
    "Trigger_Rule -> \"|forward|termination|negated|10|Group[900]|Clement\"\n",
    "\"\"\"\n",
    "\n",
    "for sentence in generate(CFG.fromstring(cfg_grammar), n=1000):\n",
    "    print(' '.join(sentence))"
   ]
  },
  {
   "cell_type": "code",
   "execution_count": 11,
   "metadata": {},
   "outputs": [
    {
     "name": "stdout",
     "output_type": "stream",
     "text": [
      "devrait être exclu _ |forward|trigger|uncertain|30|Group[901]|Clement\n",
      "devrait être exclu _s |forward|trigger|uncertain|30|Group[901]|Clement\n",
      "devrait être exclu _e |forward|trigger|uncertain|30|Group[901]|Clement\n",
      "devrait être exclu _es |forward|trigger|uncertain|30|Group[901]|Clement\n",
      "devrait être repoussé _ |forward|trigger|uncertain|30|Group[901]|Clement\n",
      "devrait être repoussé _s |forward|trigger|uncertain|30|Group[901]|Clement\n",
      "devrait être repoussé _e |forward|trigger|uncertain|30|Group[901]|Clement\n",
      "devrait être repoussé _es |forward|trigger|uncertain|30|Group[901]|Clement\n",
      "devrait être rejeté _ |forward|trigger|uncertain|30|Group[901]|Clement\n",
      "devrait être rejeté _s |forward|trigger|uncertain|30|Group[901]|Clement\n",
      "devrait être rejeté _e |forward|trigger|uncertain|30|Group[901]|Clement\n",
      "devrait être rejeté _es |forward|trigger|uncertain|30|Group[901]|Clement\n",
      "devrait être éliminé _ |forward|trigger|uncertain|30|Group[901]|Clement\n",
      "devrait être éliminé _s |forward|trigger|uncertain|30|Group[901]|Clement\n",
      "devrait être éliminé _e |forward|trigger|uncertain|30|Group[901]|Clement\n",
      "devrait être éliminé _es |forward|trigger|uncertain|30|Group[901]|Clement\n",
      "devrait être proscrit _ |forward|trigger|uncertain|30|Group[901]|Clement\n",
      "devrait être proscrit _s |forward|trigger|uncertain|30|Group[901]|Clement\n",
      "devrait être proscrit _e |forward|trigger|uncertain|30|Group[901]|Clement\n",
      "devrait être proscrit _es |forward|trigger|uncertain|30|Group[901]|Clement\n",
      "pourrait être exclu _ |forward|trigger|uncertain|30|Group[901]|Clement\n",
      "pourrait être exclu _s |forward|trigger|uncertain|30|Group[901]|Clement\n",
      "pourrait être exclu _e |forward|trigger|uncertain|30|Group[901]|Clement\n",
      "pourrait être exclu _es |forward|trigger|uncertain|30|Group[901]|Clement\n",
      "pourrait être repoussé _ |forward|trigger|uncertain|30|Group[901]|Clement\n",
      "pourrait être repoussé _s |forward|trigger|uncertain|30|Group[901]|Clement\n",
      "pourrait être repoussé _e |forward|trigger|uncertain|30|Group[901]|Clement\n",
      "pourrait être repoussé _es |forward|trigger|uncertain|30|Group[901]|Clement\n",
      "pourrait être rejeté _ |forward|trigger|uncertain|30|Group[901]|Clement\n",
      "pourrait être rejeté _s |forward|trigger|uncertain|30|Group[901]|Clement\n",
      "pourrait être rejeté _e |forward|trigger|uncertain|30|Group[901]|Clement\n",
      "pourrait être rejeté _es |forward|trigger|uncertain|30|Group[901]|Clement\n",
      "pourrait être éliminé _ |forward|trigger|uncertain|30|Group[901]|Clement\n",
      "pourrait être éliminé _s |forward|trigger|uncertain|30|Group[901]|Clement\n",
      "pourrait être éliminé _e |forward|trigger|uncertain|30|Group[901]|Clement\n",
      "pourrait être éliminé _es |forward|trigger|uncertain|30|Group[901]|Clement\n",
      "pourrait être proscrit _ |forward|trigger|uncertain|30|Group[901]|Clement\n",
      "pourrait être proscrit _s |forward|trigger|uncertain|30|Group[901]|Clement\n",
      "pourrait être proscrit _e |forward|trigger|uncertain|30|Group[901]|Clement\n",
      "pourrait être proscrit _es |forward|trigger|uncertain|30|Group[901]|Clement\n"
     ]
    }
   ],
   "source": [
    "from nltk.parse.generate import generate, demo_grammar\n",
    "from nltk import CFG\n",
    "\n",
    "cfg_grammar= \"\"\"\n",
    "S ->  Var1 Var2 Var3 Termin Trigger_Rule\n",
    "Var1 -> \"devrait\" | \"pourrait\"\n",
    "Var2 -> \"être\"\n",
    "Var3 -> \"exclu\" | \"repoussé\" | \"rejeté\" | \"éliminé\" | \"proscrit\"\n",
    "Termin -> \"_\"|\"_s\" |\"_e\" |\"_es\"\n",
    "Trigger_Rule -> \"|forward|trigger|uncertain|30|Group[901]|Clement\"\n",
    "\"\"\"\n",
    "\n",
    "for sentence in generate(CFG.fromstring(cfg_grammar), n=1000):\n",
    "    print(' '.join(sentence))"
   ]
  },
  {
   "cell_type": "code",
   "execution_count": 12,
   "metadata": {},
   "outputs": [
    {
     "name": "stdout",
     "output_type": "stream",
     "text": [
      "histoire passée |forward|trigger|historical|30|Group[903]|Clement\n",
      "histoire finie |forward|trigger|historical|30|Group[903]|Clement\n",
      "historique passée |forward|trigger|historical|30|Group[903]|Clement\n",
      "historique finie |forward|trigger|historical|30|Group[903]|Clement\n"
     ]
    }
   ],
   "source": [
    "from nltk.parse.generate import generate, demo_grammar\n",
    "from nltk import CFG\n",
    "\n",
    "cfg_grammar= \"\"\"\n",
    "S ->  Var1 Var2 Trigger_Rule\n",
    "Var1 -> \"histoire\" | \"historique\"\n",
    "Var2 -> \"passée\" | \"finie\"\n",
    "Trigger_Rule -> \"|forward|trigger|historical|30|Group[903]|Clement\"\n",
    "\"\"\"\n",
    "\n",
    "for sentence in generate(CFG.fromstring(cfg_grammar), n=1000):\n",
    "    print(' '.join(sentence))"
   ]
  },
  {
   "cell_type": "code",
   "execution_count": 13,
   "metadata": {},
   "outputs": [
    {
     "name": "stdout",
     "output_type": "stream",
     "text": [
      "passé passé |forward|trigger|historical|30|Group[903]|Clement\n",
      "passé fini |forward|trigger|historical|30|Group[903]|Clement\n",
      "souvenir passé |forward|trigger|historical|30|Group[903]|Clement\n",
      "souvenir fini |forward|trigger|historical|30|Group[903]|Clement\n"
     ]
    }
   ],
   "source": [
    "from nltk.parse.generate import generate, demo_grammar\n",
    "from nltk import CFG\n",
    "\n",
    "cfg_grammar= \"\"\"\n",
    "S ->  Var1 Var2 Trigger_Rule\n",
    "Var1 ->  \"passé\" | \"souvenir\"\n",
    "Var2 -> \"passé\" | \"fini\"\n",
    "Trigger_Rule -> \"|forward|trigger|historical|30|Group[903]|Clement\"\n",
    "\"\"\"\n",
    "\n",
    "for sentence in generate(CFG.fromstring(cfg_grammar), n=1000):\n",
    "    print(' '.join(sentence))"
   ]
  },
  {
   "cell_type": "code",
   "execution_count": 14,
   "metadata": {},
   "outputs": [
    {
     "name": "stdout",
     "output_type": "stream",
     "text": [
      "antécédents médicaux |forward|trigger|historical|30|Group[904]|Clement\n",
      "antérieurs médicaux |forward|trigger|historical|30|Group[904]|Clement\n"
     ]
    }
   ],
   "source": [
    "from nltk.parse.generate import generate, demo_grammar\n",
    "from nltk import CFG\n",
    "\n",
    "cfg_grammar= \"\"\"\n",
    "S ->  Var1 Var2 Trigger_Rule\n",
    "Var1 -> \"antécédents\" | \"antérieurs\"\n",
    "Var2 -> \"médicaux\"\n",
    "Trigger_Rule -> \"|forward|trigger|historical|30|Group[904]|Clement\"\n",
    "\"\"\"\n",
    "\n",
    "for sentence in generate(CFG.fromstring(cfg_grammar), n=1000):\n",
    "    print(' '.join(sentence))"
   ]
  },
  {
   "cell_type": "code",
   "execution_count": 15,
   "metadata": {},
   "outputs": [
    {
     "name": "stdout",
     "output_type": "stream",
     "text": [
      "antécédent médical |forward|trigger|historical|30|Group[904]|Clement\n",
      "antérieur médical |forward|trigger|historical|30|Group[904]|Clement\n",
      "préexistant médical |forward|trigger|historical|30|Group[904]|Clement\n",
      "passé médical |forward|trigger|historical|30|Group[904]|Clement\n",
      "précédent médical |forward|trigger|historical|30|Group[904]|Clement\n",
      "préliminaire médical |forward|trigger|historical|30|Group[904]|Clement\n"
     ]
    }
   ],
   "source": [
    "from nltk.parse.generate import generate, demo_grammar\n",
    "from nltk import CFG\n",
    "\n",
    "cfg_grammar= \"\"\"\n",
    "S ->  Var1 Var2 Trigger_Rule\n",
    "Var1 -> \"antécédent\" | \"antérieur\" | \"préexistant\" | \"passé\" | \"précédent\" | \"préliminaire\"\n",
    "Var2 -> \"médical\"\n",
    "Trigger_Rule -> \"|forward|trigger|historical|30|Group[904]|Clement\"\n",
    "\"\"\"\n",
    "\n",
    "for sentence in generate(CFG.fromstring(cfg_grammar), n=1000):\n",
    "    print(' '.join(sentence))"
   ]
  },
  {
   "cell_type": "code",
   "execution_count": 16,
   "metadata": {},
   "outputs": [
    {
     "name": "stdout",
     "output_type": "stream",
     "text": [
      "hérédité médicale |forward|trigger|historical|30|Group[904]|Clement\n",
      "antériorité médicale |forward|trigger|historical|30|Group[904]|Clement\n",
      "condition médicale |forward|trigger|historical|30|Group[904]|Clement\n",
      "ancienneté médicale |forward|trigger|historical|30|Group[904]|Clement\n",
      "antécédence médicale |forward|trigger|historical|30|Group[904]|Clement\n"
     ]
    }
   ],
   "source": [
    "from nltk.parse.generate import generate, demo_grammar\n",
    "from nltk import CFG\n",
    "\n",
    "cfg_grammar= \"\"\"\n",
    "S ->  Var1 Var2 Trigger_Rule\n",
    "Var1 -> \"hérédité\" |\"antériorité\" | \"condition\" |\"ancienneté\" | \"antécédence\"\n",
    "Var2 -> \"médicale\"\n",
    "Trigger_Rule -> \"|forward|trigger|historical|30|Group[904]|Clement\"\n",
    "\"\"\"\n",
    "\n",
    "for sentence in generate(CFG.fromstring(cfg_grammar), n=1000):\n",
    "    print(' '.join(sentence))"
   ]
  },
  {
   "cell_type": "code",
   "execution_count": 17,
   "metadata": {},
   "outputs": [
    {
     "name": "stdout",
     "output_type": "stream",
     "text": [
      "patient a continué à |forward|termination|negated|10|Group[905]|Clement\n",
      "patiente a continué à |forward|termination|negated|10|Group[905]|Clement\n",
      "souffrant a continué à |forward|termination|negated|10|Group[905]|Clement\n",
      "souffrante a continué à |forward|termination|negated|10|Group[905]|Clement\n",
      "sujet a continué à |forward|termination|negated|10|Group[905]|Clement\n"
     ]
    }
   ],
   "source": [
    "from nltk.parse.generate import generate, demo_grammar\n",
    "from nltk import CFG\n",
    "\n",
    "cfg_grammar= \"\"\"\n",
    "S ->  Patient Var1 Var2 Var3 Trigger_Rule\n",
    "Patient -> \"patient\" | \"patiente\"| \"souffrant\" | \"souffrante\"| \"sujet\"\n",
    "Var1 -> \"a\"\n",
    "Var2 -> \"continué\"\n",
    "Var3 -> \"à\"\n",
    "Trigger_Rule -> \"|forward|termination|negated|10|Group[905]|Clement\"\n",
    "\"\"\"\n",
    "\n",
    "for sentence in generate(CFG.fromstring(cfg_grammar), n=1000):\n",
    "    print(' '.join(sentence))"
   ]
  },
  {
   "cell_type": "code",
   "execution_count": 18,
   "metadata": {},
   "outputs": [
    {
     "name": "stdout",
     "output_type": "stream",
     "text": [
      "patient n'est pas |forward|trigger|negated|10|Group[906]|Clement\n",
      "patient n'est plus |forward|trigger|negated|10|Group[906]|Clement\n",
      "patient n'était pas |forward|trigger|negated|10|Group[906]|Clement\n",
      "patient n'était plus |forward|trigger|negated|10|Group[906]|Clement\n",
      "patiente n'est pas |forward|trigger|negated|10|Group[906]|Clement\n",
      "patiente n'est plus |forward|trigger|negated|10|Group[906]|Clement\n",
      "patiente n'était pas |forward|trigger|negated|10|Group[906]|Clement\n",
      "patiente n'était plus |forward|trigger|negated|10|Group[906]|Clement\n",
      "souffrant n'est pas |forward|trigger|negated|10|Group[906]|Clement\n",
      "souffrant n'est plus |forward|trigger|negated|10|Group[906]|Clement\n",
      "souffrant n'était pas |forward|trigger|negated|10|Group[906]|Clement\n",
      "souffrant n'était plus |forward|trigger|negated|10|Group[906]|Clement\n",
      "souffrante n'est pas |forward|trigger|negated|10|Group[906]|Clement\n",
      "souffrante n'est plus |forward|trigger|negated|10|Group[906]|Clement\n",
      "souffrante n'était pas |forward|trigger|negated|10|Group[906]|Clement\n",
      "souffrante n'était plus |forward|trigger|negated|10|Group[906]|Clement\n",
      "sujet n'est pas |forward|trigger|negated|10|Group[906]|Clement\n",
      "sujet n'est plus |forward|trigger|negated|10|Group[906]|Clement\n",
      "sujet n'était pas |forward|trigger|negated|10|Group[906]|Clement\n",
      "sujet n'était plus |forward|trigger|negated|10|Group[906]|Clement\n"
     ]
    }
   ],
   "source": [
    "from nltk.parse.generate import generate, demo_grammar\n",
    "from nltk import CFG\n",
    "\n",
    "cfg_grammar= \"\"\"\n",
    "S -> Patient Var1 Var2 Trigger_Rule\n",
    "Patient -> \"patient\" | \"patiente\"| \"souffrant\" | \"souffrante\"| \"sujet\"\n",
    "Var1 -> \"n'est\" |\"n'était\"\n",
    "Var2 -> \"pas\" | \"plus\"\n",
    "Trigger_Rule -> \"|forward|trigger|negated|10|Group[906]|Clement\"\n",
    "\"\"\"\n",
    "\n",
    "for sentence in generate(CFG.fromstring(cfg_grammar), n=1000):\n",
    "    print(' '.join(sentence))"
   ]
  },
  {
   "cell_type": "code",
   "execution_count": 19,
   "metadata": {},
   "outputs": [
    {
     "name": "stdout",
     "output_type": "stream",
     "text": [
      "les patients |both|termination|historical|30|Group[908, 911]|Clement\n",
      "les patients |both|termination|nonpatient|30|Group[908, 911]|Clement\n",
      "les patientes |both|termination|historical|30|Group[908, 911]|Clement\n",
      "les patientes |both|termination|nonpatient|30|Group[908, 911]|Clement\n",
      "les souffrants |both|termination|historical|30|Group[908, 911]|Clement\n",
      "les souffrants |both|termination|nonpatient|30|Group[908, 911]|Clement\n",
      "les souffrantes |both|termination|historical|30|Group[908, 911]|Clement\n",
      "les souffrantes |both|termination|nonpatient|30|Group[908, 911]|Clement\n",
      "les sujets |both|termination|historical|30|Group[908, 911]|Clement\n",
      "les sujets |both|termination|nonpatient|30|Group[908, 911]|Clement\n"
     ]
    }
   ],
   "source": [
    "from nltk.parse.generate import generate, demo_grammar\n",
    "from nltk import CFG\n",
    "\n",
    "cfg_grammar= \"\"\"\n",
    "S ->  Var1 Patient Trigger_Rule\n",
    "Var1 -> \"les\"\n",
    "Patient -> \"patients\" | \"patientes\"| \"souffrants\" | \"souffrantes\"| \"sujets\"\n",
    "Trigger_Rule -> \"|both|termination|historical|30|Group[908, 911]|Clement\"|\"|both|termination|nonpatient|30|Group[908, 911]|Clement\"\n",
    "\"\"\"\n",
    "\n",
    "for sentence in generate(CFG.fromstring(cfg_grammar), n=1000):\n",
    "    print(' '.join(sentence))"
   ]
  },
  {
   "cell_type": "code",
   "execution_count": 20,
   "metadata": {},
   "outputs": [
    {
     "name": "stdout",
     "output_type": "stream",
     "text": [
      "patient |both|termination|historical|30|Group[908, 911]|Clement\n",
      "patient |both|termination|nonpatient|30|Group[908, 911]|Clement\n",
      "patiente |both|termination|historical|30|Group[908, 911]|Clement\n",
      "patiente |both|termination|nonpatient|30|Group[908, 911]|Clement\n",
      "souffrant |both|termination|historical|30|Group[908, 911]|Clement\n",
      "souffrant |both|termination|nonpatient|30|Group[908, 911]|Clement\n",
      "souffrante |both|termination|historical|30|Group[908, 911]|Clement\n",
      "souffrante |both|termination|nonpatient|30|Group[908, 911]|Clement\n",
      "sujet |both|termination|historical|30|Group[908, 911]|Clement\n",
      "sujet |both|termination|nonpatient|30|Group[908, 911]|Clement\n"
     ]
    }
   ],
   "source": [
    "from nltk.parse.generate import generate, demo_grammar\n",
    "from nltk import CFG\n",
    "\n",
    "cfg_grammar= \"\"\"\n",
    "S ->  Patient Trigger_Rule\n",
    "Patient -> \"patient\" | \"patiente\"| \"souffrant\" | \"souffrante\"| \"sujet\"\n",
    "Trigger_Rule -> \"|both|termination|historical|30|Group[908, 911]|Clement\"|\"|both|termination|nonpatient|30|Group[908, 911]|Clement\"\n",
    "\"\"\"\n",
    "\n",
    "for sentence in generate(CFG.fromstring(cfg_grammar), n=1000):\n",
    "    print(' '.join(sentence))"
   ]
  },
  {
   "cell_type": "code",
   "execution_count": 21,
   "metadata": {},
   "outputs": [
    {
     "name": "stdout",
     "output_type": "stream",
     "text": [
      "mauvaise historique |both|pseudo|historical|30|Group[912]|Clement\n"
     ]
    }
   ],
   "source": [
    "from nltk.parse.generate import generate, demo_grammar\n",
    "from nltk import CFG\n",
    "\n",
    "cfg_grammar= \"\"\"\n",
    "S ->  Var1 Var2 Trigger_Rule\n",
    "Var1 -> \"mauvaise\"\n",
    "Var2 -> \"historique\"\n",
    "Trigger_Rule -> \"|both|pseudo|historical|30|Group[912]|Clement\"\n",
    "\"\"\"\n",
    "\n",
    "for sentence in generate(CFG.fromstring(cfg_grammar), n=1000):\n",
    "    print(' '.join(sentence))"
   ]
  },
  {
   "cell_type": "code",
   "execution_count": 22,
   "metadata": {},
   "outputs": [
    {
     "name": "stdout",
     "output_type": "stream",
     "text": [
      "possible |backward|trigger|uncertain|30|Group[913]|Clement\n"
     ]
    }
   ],
   "source": [
    "from nltk.parse.generate import generate, demo_grammar\n",
    "from nltk import CFG\n",
    "\n",
    "cfg_grammar= \"\"\"\n",
    "S ->  Var1 Trigger_Rule\n",
    "Var1 -> \"possible\"\n",
    "Trigger_Rule -> \"|backward|trigger|uncertain|30|Group[913]|Clement\"\n",
    "\"\"\"\n",
    "\n",
    "for sentence in generate(CFG.fromstring(cfg_grammar), n=1000):\n",
    "    print(' '.join(sentence))"
   ]
  },
  {
   "cell_type": "code",
   "execution_count": 23,
   "metadata": {},
   "outputs": [
    {
     "name": "stdout",
     "output_type": "stream",
     "text": [
      "possibilité de |forward|trigger|uncertain|30|Group[913]|Clement\n",
      "hypothèse de |forward|trigger|uncertain|30|Group[913]|Clement\n",
      "probabilité de |forward|trigger|uncertain|30|Group[913]|Clement\n",
      "chance de |forward|trigger|uncertain|30|Group[913]|Clement\n"
     ]
    }
   ],
   "source": [
    "from nltk.parse.generate import generate, demo_grammar\n",
    "from nltk import CFG\n",
    "\n",
    "cfg_grammar= \"\"\"\n",
    "S ->  Var1 Var2 Trigger_Rule\n",
    "Var1 -> \"possibilité\" | \"hypothèse\" | \"probabilité\" | \"chance\"\n",
    "Var2 -> \"de\"\n",
    "Trigger_Rule -> \"|forward|trigger|uncertain|30|Group[913]|Clement\"\n",
    "\"\"\"\n",
    "\n",
    "for sentence in generate(CFG.fromstring(cfg_grammar), n=1000):\n",
    "    print(' '.join(sentence))"
   ]
  },
  {
   "cell_type": "code",
   "execution_count": 24,
   "metadata": {},
   "outputs": [
    {
     "name": "stdout",
     "output_type": "stream",
     "text": [
      "peut-être |forward|trigger|uncertain|30|Group[913]|Clement\n"
     ]
    }
   ],
   "source": [
    "from nltk.parse.generate import generate, demo_grammar\n",
    "from nltk import CFG\n",
    "\n",
    "cfg_grammar= \"\"\"\n",
    "S ->  Var1 Trigger_Rule\n",
    "Var1 -> \"peut-être\"\n",
    "Trigger_Rule -> \"|forward|trigger|uncertain|30|Group[913]|Clement\"\n",
    "\"\"\"\n",
    "\n",
    "for sentence in generate(CFG.fromstring(cfg_grammar), n=1000):\n",
    "    print(' '.join(sentence))"
   ]
  },
  {
   "cell_type": "code",
   "execution_count": 25,
   "metadata": {},
   "outputs": [
    {
     "name": "stdout",
     "output_type": "stream",
     "text": [
      "possible |forward|trigger|uncertain|30|Group[913, 914]|Clement\n",
      "possible |forward|trigger|conditional|30|Group[913, 914]|Clement\n"
     ]
    }
   ],
   "source": [
    "from nltk.parse.generate import generate, demo_grammar\n",
    "from nltk import CFG\n",
    "\n",
    "cfg_grammar= \"\"\"\n",
    "S ->  Var1 Trigger_Rule\n",
    "Var1 -> \"possible\"\n",
    "Trigger_Rule -> \"|forward|trigger|uncertain|30|Group[913, 914]|Clement\"|\"|forward|trigger|conditional|30|Group[913, 914]|Clement\"\n",
    "\"\"\"\n",
    "\n",
    "for sentence in generate(CFG.fromstring(cfg_grammar), n=1000):\n",
    "    print(' '.join(sentence))"
   ]
  },
  {
   "cell_type": "code",
   "execution_count": 26,
   "metadata": {},
   "outputs": [
    {
     "name": "stdout",
     "output_type": "stream",
     "text": [
      "présente |both|termination|historical|30|Group[918, 919]|Clement\n",
      "présente |both|termination|nonpatient|30|Group[918, 919]|Clement\n",
      "présente nt |both|termination|historical|30|Group[918, 919]|Clement\n",
      "présente nt |both|termination|nonpatient|30|Group[918, 919]|Clement\n",
      "révéle |both|termination|historical|30|Group[918, 919]|Clement\n",
      "révéle |both|termination|nonpatient|30|Group[918, 919]|Clement\n",
      "révéle nt |both|termination|historical|30|Group[918, 919]|Clement\n",
      "révéle nt |both|termination|nonpatient|30|Group[918, 919]|Clement\n",
      "expose |both|termination|historical|30|Group[918, 919]|Clement\n",
      "expose |both|termination|nonpatient|30|Group[918, 919]|Clement\n",
      "expose nt |both|termination|historical|30|Group[918, 919]|Clement\n",
      "expose nt |both|termination|nonpatient|30|Group[918, 919]|Clement\n",
      "étale |both|termination|historical|30|Group[918, 919]|Clement\n",
      "étale |both|termination|nonpatient|30|Group[918, 919]|Clement\n",
      "étale nt |both|termination|historical|30|Group[918, 919]|Clement\n",
      "étale nt |both|termination|nonpatient|30|Group[918, 919]|Clement\n",
      "affiche |both|termination|historical|30|Group[918, 919]|Clement\n",
      "affiche |both|termination|nonpatient|30|Group[918, 919]|Clement\n",
      "affiche nt |both|termination|historical|30|Group[918, 919]|Clement\n",
      "affiche nt |both|termination|nonpatient|30|Group[918, 919]|Clement\n",
      "exhibe |both|termination|historical|30|Group[918, 919]|Clement\n",
      "exhibe |both|termination|nonpatient|30|Group[918, 919]|Clement\n",
      "exhibe nt |both|termination|historical|30|Group[918, 919]|Clement\n",
      "exhibe nt |both|termination|nonpatient|30|Group[918, 919]|Clement\n",
      "montre |both|termination|historical|30|Group[918, 919]|Clement\n",
      "montre |both|termination|nonpatient|30|Group[918, 919]|Clement\n",
      "montre nt |both|termination|historical|30|Group[918, 919]|Clement\n",
      "montre nt |both|termination|nonpatient|30|Group[918, 919]|Clement\n"
     ]
    }
   ],
   "source": [
    "from nltk.parse.generate import generate, demo_grammar\n",
    "from nltk import CFG\n",
    "\n",
    "cfg_grammar= \"\"\"\n",
    "S ->  Var1 Termin Trigger_Rule\n",
    "Var1 -> \"présente\" | \"révéle\" | \"expose\" | \"étale\" |  \"affiche\" | \"exhibe\" | \"montre\"\n",
    "Termin -> |\"nt\"\n",
    "Trigger_Rule -> \"|both|termination|historical|30|Group[918, 919]|Clement\"|\"|both|termination|nonpatient|30|Group[918, 919]|Clement\"\n",
    "\"\"\"\n",
    "\n",
    "for sentence in generate(CFG.fromstring(cfg_grammar), n=1000):\n",
    "    print(' '.join(sentence))"
   ]
  },
  {
   "cell_type": "code",
   "execution_count": 27,
   "metadata": {},
   "outputs": [
    {
     "name": "stdout",
     "output_type": "stream",
     "text": [
      "en présentant |both|termination|historical|30|Group[918, 919]|Clement\n",
      "en présentant |both|termination|nonpatient|30|Group[918, 919]|Clement\n",
      "en révélant |both|termination|historical|30|Group[918, 919]|Clement\n",
      "en révélant |both|termination|nonpatient|30|Group[918, 919]|Clement\n",
      "en exposant |both|termination|historical|30|Group[918, 919]|Clement\n",
      "en exposant |both|termination|nonpatient|30|Group[918, 919]|Clement\n",
      "en étalant |both|termination|historical|30|Group[918, 919]|Clement\n",
      "en étalant |both|termination|nonpatient|30|Group[918, 919]|Clement\n",
      "en affichant |both|termination|historical|30|Group[918, 919]|Clement\n",
      "en affichant |both|termination|nonpatient|30|Group[918, 919]|Clement\n",
      "en exhibant |both|termination|historical|30|Group[918, 919]|Clement\n",
      "en exhibant |both|termination|nonpatient|30|Group[918, 919]|Clement\n",
      "en montrant |both|termination|historical|30|Group[918, 919]|Clement\n",
      "en montrant |both|termination|nonpatient|30|Group[918, 919]|Clement\n",
      "en mettant en évidence |both|termination|historical|30|Group[918, 919]|Clement\n",
      "en mettant en évidence |both|termination|nonpatient|30|Group[918, 919]|Clement\n"
     ]
    }
   ],
   "source": [
    "from nltk.parse.generate import generate, demo_grammar\n",
    "from nltk import CFG\n",
    "\n",
    "cfg_grammar= \"\"\"\n",
    "S ->  Var1 Var2 Trigger_Rule\n",
    "Var1 -> \"en\"\n",
    "Var2 -> \"présentant\" | \"révélant\" | \"exposant\" | \"étalant\" |  \"affichant\" | \"exhibant\" | \"montrant\" | \"mettant en évidence\"\n",
    "Trigger_Rule -> \"|both|termination|historical|30|Group[918, 919]|Clement\"|\"|both|termination|nonpatient|30|Group[918, 919]|Clement\"\n",
    "\"\"\"\n",
    "\n",
    "for sentence in generate(CFG.fromstring(cfg_grammar), n=1000):\n",
    "    print(' '.join(sentence))"
   ]
  },
  {
   "cell_type": "code",
   "execution_count": 28,
   "metadata": {},
   "outputs": [
    {
     "name": "stdout",
     "output_type": "stream",
     "text": [
      "probablement |forward|trigger|uncertain|30|Group[922]|Clement\n",
      "apparemment |forward|trigger|uncertain|30|Group[922]|Clement\n",
      "éventuellement |forward|trigger|uncertain|30|Group[922]|Clement\n",
      "plausiblement |forward|trigger|uncertain|30|Group[922]|Clement\n",
      "possiblement |forward|trigger|uncertain|30|Group[922]|Clement\n",
      "sans doute |forward|trigger|uncertain|30|Group[922]|Clement\n",
      "sûrement |forward|trigger|uncertain|30|Group[922]|Clement\n"
     ]
    }
   ],
   "source": [
    "from nltk.parse.generate import generate, demo_grammar\n",
    "from nltk import CFG\n",
    "\n",
    "cfg_grammar= \"\"\"\n",
    "S ->  Var1 Trigger_Rule\n",
    "Var1 -> \"probablement\" | \"apparemment\" | \"éventuellement\" | \"plausiblement\" | \"possiblement\" | \"sans doute\" | \"sûrement\"\n",
    "Trigger_Rule -> \"|forward|trigger|uncertain|30|Group[922]|Clement\"\n",
    "\"\"\"\n",
    "\n",
    "for sentence in generate(CFG.fromstring(cfg_grammar), n=1000):\n",
    "    print(' '.join(sentence))"
   ]
  },
  {
   "cell_type": "code",
   "execution_count": 29,
   "metadata": {},
   "outputs": [
    {
     "name": "stdout",
     "output_type": "stream",
     "text": [
      "présumé |forward|trigger|uncertain|30|Group[923]|Clement\n",
      "présumé _s |forward|trigger|uncertain|30|Group[923]|Clement\n",
      "présumé _e |forward|trigger|uncertain|30|Group[923]|Clement\n",
      "présumé _es |forward|trigger|uncertain|30|Group[923]|Clement\n",
      "soupçonné |forward|trigger|uncertain|30|Group[923]|Clement\n",
      "soupçonné _s |forward|trigger|uncertain|30|Group[923]|Clement\n",
      "soupçonné _e |forward|trigger|uncertain|30|Group[923]|Clement\n",
      "soupçonné _es |forward|trigger|uncertain|30|Group[923]|Clement\n",
      "conjecturé |forward|trigger|uncertain|30|Group[923]|Clement\n",
      "conjecturé _s |forward|trigger|uncertain|30|Group[923]|Clement\n",
      "conjecturé _e |forward|trigger|uncertain|30|Group[923]|Clement\n",
      "conjecturé _es |forward|trigger|uncertain|30|Group[923]|Clement\n",
      "pressenti |forward|trigger|uncertain|30|Group[923]|Clement\n",
      "pressenti _s |forward|trigger|uncertain|30|Group[923]|Clement\n",
      "pressenti _e |forward|trigger|uncertain|30|Group[923]|Clement\n",
      "pressenti _es |forward|trigger|uncertain|30|Group[923]|Clement\n",
      "présagé |forward|trigger|uncertain|30|Group[923]|Clement\n",
      "présagé _s |forward|trigger|uncertain|30|Group[923]|Clement\n",
      "présagé _e |forward|trigger|uncertain|30|Group[923]|Clement\n",
      "présagé _es |forward|trigger|uncertain|30|Group[923]|Clement\n",
      "présupposé |forward|trigger|uncertain|30|Group[923]|Clement\n",
      "présupposé _s |forward|trigger|uncertain|30|Group[923]|Clement\n",
      "présupposé _e |forward|trigger|uncertain|30|Group[923]|Clement\n",
      "présupposé _es |forward|trigger|uncertain|30|Group[923]|Clement\n"
     ]
    }
   ],
   "source": [
    "from nltk.parse.generate import generate, demo_grammar\n",
    "from nltk import CFG\n",
    "\n",
    "cfg_grammar= \"\"\"\n",
    "S ->  Var1 Termin Trigger_Rule\n",
    "Var1 -> \"présumé\" | \"soupçonné\" | \"conjecturé\" | \"pressenti\" | \"présagé\" | \"présupposé\"\n",
    "Termin -> |\"_s\" |\"_e\" |\"_es\"\n",
    "Trigger_Rule -> \"|forward|trigger|uncertain|30|Group[923]|Clement\"\n",
    "\"\"\"\n",
    "\n",
    "for sentence in generate(CFG.fromstring(cfg_grammar), n=1000):\n",
    "    print(' '.join(sentence))"
   ]
  },
  {
   "cell_type": "code",
   "execution_count": 30,
   "metadata": {},
   "outputs": [
    {
     "name": "stdout",
     "output_type": "stream",
     "text": [
      "antérieur à |forward|termination|negated|10|Group[924]|Clement\n",
      "préexistant à |forward|termination|negated|10|Group[924]|Clement\n",
      "précédent le |forward|termination|negated|10|Group[924]|Clement\n",
      "antécédent |forward|termination|negated|10|Group[924]|Clement\n",
      "préexistant |forward|termination|negated|10|Group[924]|Clement\n",
      "ancien |forward|termination|negated|10|Group[924]|Clement\n"
     ]
    }
   ],
   "source": [
    "from nltk.parse.generate import generate, demo_grammar\n",
    "from nltk import CFG\n",
    "\n",
    "cfg_grammar= \"\"\"\n",
    "S ->  Var1 Trigger_Rule\n",
    "Var1 -> \"antérieur à\" | \"préexistant à\" |\"précédent le\" | \"antécédent\" | \"préexistant\" | \"ancien\"\n",
    "Trigger_Rule -> \"|forward|termination|negated|10|Group[924]|Clement\"\n",
    "\"\"\"\n",
    "\n",
    "for sentence in generate(CFG.fromstring(cfg_grammar), n=1000):\n",
    "    print(' '.join(sentence))"
   ]
  },
  {
   "cell_type": "code",
   "execution_count": 31,
   "metadata": {},
   "outputs": [
    {
     "name": "stdout",
     "output_type": "stream",
     "text": [
      "prophylaxie |forward|trigger|conditional|10|Group[928]|Clement\n"
     ]
    }
   ],
   "source": [
    "from nltk.parse.generate import generate, demo_grammar\n",
    "from nltk import CFG\n",
    "\n",
    "cfg_grammar= \"\"\"\n",
    "S ->  Var1 Trigger_Rule\n",
    "Var1 -> \"prophylaxie\"\n",
    "Trigger_Rule -> \"|forward|trigger|conditional|10|Group[928]|Clement\"\n",
    "\"\"\"\n",
    "\n",
    "for sentence in generate(CFG.fromstring(cfg_grammar), n=1000):\n",
    "    print(' '.join(sentence))"
   ]
  },
  {
   "cell_type": "code",
   "execution_count": 32,
   "metadata": {},
   "outputs": [
    {
     "name": "stdout",
     "output_type": "stream",
     "text": [
      "la question était |forward|trigger|uncertain|30|Group[931]|Clement\n"
     ]
    }
   ],
   "source": [
    "from nltk.parse.generate import generate, demo_grammar\n",
    "from nltk import CFG\n",
    "\n",
    "cfg_grammar= \"\"\"\n",
    "S ->  Var1 Var2 Var3 Trigger_Rule\n",
    "Var1 -> \"la\"\n",
    "Var2 -> \"question\"\n",
    "Var3 -> \"était\"\n",
    "Trigger_Rule -> \"|forward|trigger|uncertain|30|Group[931]|Clement\"\n",
    "\"\"\"\n",
    "\n",
    "for sentence in generate(CFG.fromstring(cfg_grammar), n=1000):\n",
    "    print(' '.join(sentence))"
   ]
  },
  {
   "cell_type": "code",
   "execution_count": 33,
   "metadata": {},
   "outputs": [
    {
     "name": "stdout",
     "output_type": "stream",
     "text": [
      "en question |backward|trigger|uncertain|30|Group[932]|Clement\n"
     ]
    }
   ],
   "source": [
    "from nltk.parse.generate import generate, demo_grammar\n",
    "from nltk import CFG\n",
    "\n",
    "cfg_grammar= \"\"\"\n",
    "S ->  Var1 Trigger_Rule\n",
    "Var1 -> \"en question\"\n",
    "Trigger_Rule -> \"|backward|trigger|uncertain|30|Group[932]|Clement\"\n",
    "\"\"\"\n",
    "\n",
    "for sentence in generate(CFG.fromstring(cfg_grammar), n=1000):\n",
    "    print(' '.join(sentence))"
   ]
  },
  {
   "cell_type": "code",
   "execution_count": 34,
   "metadata": {},
   "outputs": [
    {
     "name": "stdout",
     "output_type": "stream",
     "text": [
      "se questionne sur |forward|trigger|uncertain|30|Group[932]|Clement\n"
     ]
    }
   ],
   "source": [
    "from nltk.parse.generate import generate, demo_grammar\n",
    "from nltk import CFG\n",
    "\n",
    "cfg_grammar= \"\"\"\n",
    "S ->  Var1 Trigger_Rule\n",
    "Var1 -> \"se questionne sur\"\n",
    "Trigger_Rule -> \"|forward|trigger|uncertain|30|Group[932]|Clement\"\n",
    "\"\"\"\n",
    "\n",
    "for sentence in generate(CFG.fromstring(cfg_grammar), n=1000):\n",
    "    print(' '.join(sentence))"
   ]
  },
  {
   "cell_type": "code",
   "execution_count": 35,
   "metadata": {},
   "outputs": [
    {
     "name": "stdout",
     "output_type": "stream",
     "text": [
      "plutôt que |forward|trigger|negated|10|Group[934]|Clement\n",
      "de préférence |forward|trigger|negated|10|Group[934]|Clement\n",
      "préférablement |forward|trigger|negated|10|Group[934]|Clement\n"
     ]
    }
   ],
   "source": [
    "from nltk.parse.generate import generate, demo_grammar\n",
    "from nltk import CFG\n",
    "\n",
    "cfg_grammar= \"\"\"\n",
    "S ->  Var1 Trigger_Rule\n",
    "Var1 -> \"plutôt que\" |\"de préférence\" | \"préférablement\"\n",
    "Trigger_Rule -> \"|forward|trigger|negated|10|Group[934]|Clement\"\n",
    "\"\"\"\n",
    "\n",
    "for sentence in generate(CFG.fromstring(cfg_grammar), n=1000):\n",
    "    print(' '.join(sentence))"
   ]
  },
  {
   "cell_type": "code",
   "execution_count": 36,
   "metadata": {},
   "outputs": [
    {
     "name": "stdout",
     "output_type": "stream",
     "text": [
      "raison d' |forward|termination|negated|10|Group[936]|Clement\n",
      "raison de |forward|termination|negated|10|Group[936]|Clement\n",
      "raison d'un |forward|termination|negated|10|Group[936]|Clement\n",
      "raison d'une |forward|termination|negated|10|Group[936]|Clement\n",
      "raison pour |forward|termination|negated|10|Group[936]|Clement\n",
      "cause d' |forward|termination|negated|10|Group[936]|Clement\n",
      "cause de |forward|termination|negated|10|Group[936]|Clement\n",
      "cause d'un |forward|termination|negated|10|Group[936]|Clement\n",
      "cause d'une |forward|termination|negated|10|Group[936]|Clement\n",
      "cause pour |forward|termination|negated|10|Group[936]|Clement\n",
      "prétexte d' |forward|termination|negated|10|Group[936]|Clement\n",
      "prétexte de |forward|termination|negated|10|Group[936]|Clement\n",
      "prétexte d'un |forward|termination|negated|10|Group[936]|Clement\n",
      "prétexte d'une |forward|termination|negated|10|Group[936]|Clement\n",
      "prétexte pour |forward|termination|negated|10|Group[936]|Clement\n",
      "justification d' |forward|termination|negated|10|Group[936]|Clement\n",
      "justification de |forward|termination|negated|10|Group[936]|Clement\n",
      "justification d'un |forward|termination|negated|10|Group[936]|Clement\n",
      "justification d'une |forward|termination|negated|10|Group[936]|Clement\n",
      "justification pour |forward|termination|negated|10|Group[936]|Clement\n",
      "explication d' |forward|termination|negated|10|Group[936]|Clement\n",
      "explication de |forward|termination|negated|10|Group[936]|Clement\n",
      "explication d'un |forward|termination|negated|10|Group[936]|Clement\n",
      "explication d'une |forward|termination|negated|10|Group[936]|Clement\n",
      "explication pour |forward|termination|negated|10|Group[936]|Clement\n",
      "fondement d' |forward|termination|negated|10|Group[936]|Clement\n",
      "fondement de |forward|termination|negated|10|Group[936]|Clement\n",
      "fondement d'un |forward|termination|negated|10|Group[936]|Clement\n",
      "fondement d'une |forward|termination|negated|10|Group[936]|Clement\n",
      "fondement pour |forward|termination|negated|10|Group[936]|Clement\n",
      "preuve d' |forward|termination|negated|10|Group[936]|Clement\n",
      "preuve de |forward|termination|negated|10|Group[936]|Clement\n",
      "preuve d'un |forward|termination|negated|10|Group[936]|Clement\n",
      "preuve d'une |forward|termination|negated|10|Group[936]|Clement\n",
      "preuve pour |forward|termination|negated|10|Group[936]|Clement\n"
     ]
    }
   ],
   "source": [
    "from nltk.parse.generate import generate, demo_grammar\n",
    "from nltk import CFG\n",
    "\n",
    "cfg_grammar= \"\"\"\n",
    "S ->  Var1 Var2 Trigger_Rule\n",
    "Var1 -> \"raison\" | \"cause\" | \"prétexte\" | \"justification\" | \"explication\" | \"fondement\" |  \"preuve\"\n",
    "Termin -> |\"_s\"\n",
    "Var2 -> \"d'\" | \"de\" | \"d'un\" | \"d'une\" | \"pour\"\n",
    "Trigger_Rule -> \"|forward|termination|negated|10|Group[936]|Clement\"\n",
    "\"\"\"\n",
    "\n",
    "for sentence in generate(CFG.fromstring(cfg_grammar), n=1000):\n",
    "    print(' '.join(sentence))"
   ]
  },
  {
   "cell_type": "code",
   "execution_count": 37,
   "metadata": {},
   "outputs": [
    {
     "name": "stdout",
     "output_type": "stream",
     "text": [
      "rapporte |both|termination|historical|30|Group[940, 941]|Clement\n",
      "rapporte |both|termination|nonpatient|30|Group[940, 941]|Clement\n",
      "rapporte _nt |both|termination|historical|30|Group[940, 941]|Clement\n",
      "rapporte _nt |both|termination|nonpatient|30|Group[940, 941]|Clement\n",
      "signale |both|termination|historical|30|Group[940, 941]|Clement\n",
      "signale |both|termination|nonpatient|30|Group[940, 941]|Clement\n",
      "signale _nt |both|termination|historical|30|Group[940, 941]|Clement\n",
      "signale _nt |both|termination|nonpatient|30|Group[940, 941]|Clement\n",
      "indique |both|termination|historical|30|Group[940, 941]|Clement\n",
      "indique |both|termination|nonpatient|30|Group[940, 941]|Clement\n",
      "indique _nt |both|termination|historical|30|Group[940, 941]|Clement\n",
      "indique _nt |both|termination|nonpatient|30|Group[940, 941]|Clement\n",
      "montre |both|termination|historical|30|Group[940, 941]|Clement\n",
      "montre |both|termination|nonpatient|30|Group[940, 941]|Clement\n",
      "montre _nt |both|termination|historical|30|Group[940, 941]|Clement\n",
      "montre _nt |both|termination|nonpatient|30|Group[940, 941]|Clement\n",
      "dévoile |both|termination|historical|30|Group[940, 941]|Clement\n",
      "dévoile |both|termination|nonpatient|30|Group[940, 941]|Clement\n",
      "dévoile _nt |both|termination|historical|30|Group[940, 941]|Clement\n",
      "dévoile _nt |both|termination|nonpatient|30|Group[940, 941]|Clement\n",
      "souligne |both|termination|historical|30|Group[940, 941]|Clement\n",
      "souligne |both|termination|nonpatient|30|Group[940, 941]|Clement\n",
      "souligne _nt |both|termination|historical|30|Group[940, 941]|Clement\n",
      "souligne _nt |both|termination|nonpatient|30|Group[940, 941]|Clement\n",
      "informe |both|termination|historical|30|Group[940, 941]|Clement\n",
      "informe |both|termination|nonpatient|30|Group[940, 941]|Clement\n",
      "informe _nt |both|termination|historical|30|Group[940, 941]|Clement\n",
      "informe _nt |both|termination|nonpatient|30|Group[940, 941]|Clement\n",
      "révéle |both|termination|historical|30|Group[940, 941]|Clement\n",
      "révéle |both|termination|nonpatient|30|Group[940, 941]|Clement\n",
      "révéle _nt |both|termination|historical|30|Group[940, 941]|Clement\n",
      "révéle _nt |both|termination|nonpatient|30|Group[940, 941]|Clement\n",
      "signifie |both|termination|historical|30|Group[940, 941]|Clement\n",
      "signifie |both|termination|nonpatient|30|Group[940, 941]|Clement\n",
      "signifie _nt |both|termination|historical|30|Group[940, 941]|Clement\n",
      "signifie _nt |both|termination|nonpatient|30|Group[940, 941]|Clement\n",
      "avertisse |both|termination|historical|30|Group[940, 941]|Clement\n",
      "avertisse |both|termination|nonpatient|30|Group[940, 941]|Clement\n",
      "avertisse _nt |both|termination|historical|30|Group[940, 941]|Clement\n",
      "avertisse _nt |both|termination|nonpatient|30|Group[940, 941]|Clement\n",
      "témoigne |both|termination|historical|30|Group[940, 941]|Clement\n",
      "témoigne |both|termination|nonpatient|30|Group[940, 941]|Clement\n",
      "témoigne _nt |both|termination|historical|30|Group[940, 941]|Clement\n",
      "témoigne _nt |both|termination|nonpatient|30|Group[940, 941]|Clement\n",
      "alerte |both|termination|historical|30|Group[940, 941]|Clement\n",
      "alerte |both|termination|nonpatient|30|Group[940, 941]|Clement\n",
      "alerte _nt |both|termination|historical|30|Group[940, 941]|Clement\n",
      "alerte _nt |both|termination|nonpatient|30|Group[940, 941]|Clement\n"
     ]
    }
   ],
   "source": [
    "from nltk.parse.generate import generate, demo_grammar\n",
    "from nltk import CFG\n",
    "\n",
    "cfg_grammar= \"\"\"\n",
    "S ->  Var1 Termin Trigger_Rule\n",
    "Var1 -> \"rapporte\" | \"signale\" | \"indique\" | \"montre\" | \"dévoile\" | \"souligne\" | \"informe\"| \"révéle\" | \"signifie\" | \"avertisse\" | \"témoigne\" | \"alerte\"\n",
    "Termin -> |\"_nt\"\n",
    "Trigger_Rule -> \"|both|termination|historical|30|Group[940, 941]|Clement\"|\"|both|termination|nonpatient|30|Group[940, 941]|Clement\"\n",
    "\"\"\"\n",
    "\n",
    "for sentence in generate(CFG.fromstring(cfg_grammar), n=1000):\n",
    "    print(' '.join(sentence))"
   ]
  },
  {
   "cell_type": "code",
   "execution_count": 38,
   "metadata": {},
   "outputs": [
    {
     "name": "stdout",
     "output_type": "stream",
     "text": [
      "rapporté |both|termination|historical|30|Group[940, 941]|Clement\n",
      "rapporté |both|termination|nonpatient|30|Group[940, 941]|Clement\n",
      "rapporté _s |both|termination|historical|30|Group[940, 941]|Clement\n",
      "rapporté _s |both|termination|nonpatient|30|Group[940, 941]|Clement\n",
      "rapporté _e |both|termination|historical|30|Group[940, 941]|Clement\n",
      "rapporté _e |both|termination|nonpatient|30|Group[940, 941]|Clement\n",
      "rapporté _es |both|termination|historical|30|Group[940, 941]|Clement\n",
      "rapporté _es |both|termination|nonpatient|30|Group[940, 941]|Clement\n",
      "signalé |both|termination|historical|30|Group[940, 941]|Clement\n",
      "signalé |both|termination|nonpatient|30|Group[940, 941]|Clement\n",
      "signalé _s |both|termination|historical|30|Group[940, 941]|Clement\n",
      "signalé _s |both|termination|nonpatient|30|Group[940, 941]|Clement\n",
      "signalé _e |both|termination|historical|30|Group[940, 941]|Clement\n",
      "signalé _e |both|termination|nonpatient|30|Group[940, 941]|Clement\n",
      "signalé _es |both|termination|historical|30|Group[940, 941]|Clement\n",
      "signalé _es |both|termination|nonpatient|30|Group[940, 941]|Clement\n",
      "indiqué |both|termination|historical|30|Group[940, 941]|Clement\n",
      "indiqué |both|termination|nonpatient|30|Group[940, 941]|Clement\n",
      "indiqué _s |both|termination|historical|30|Group[940, 941]|Clement\n",
      "indiqué _s |both|termination|nonpatient|30|Group[940, 941]|Clement\n",
      "indiqué _e |both|termination|historical|30|Group[940, 941]|Clement\n",
      "indiqué _e |both|termination|nonpatient|30|Group[940, 941]|Clement\n",
      "indiqué _es |both|termination|historical|30|Group[940, 941]|Clement\n",
      "indiqué _es |both|termination|nonpatient|30|Group[940, 941]|Clement\n",
      "montré |both|termination|historical|30|Group[940, 941]|Clement\n",
      "montré |both|termination|nonpatient|30|Group[940, 941]|Clement\n",
      "montré _s |both|termination|historical|30|Group[940, 941]|Clement\n",
      "montré _s |both|termination|nonpatient|30|Group[940, 941]|Clement\n",
      "montré _e |both|termination|historical|30|Group[940, 941]|Clement\n",
      "montré _e |both|termination|nonpatient|30|Group[940, 941]|Clement\n",
      "montré _es |both|termination|historical|30|Group[940, 941]|Clement\n",
      "montré _es |both|termination|nonpatient|30|Group[940, 941]|Clement\n",
      "dévoilé |both|termination|historical|30|Group[940, 941]|Clement\n",
      "dévoilé |both|termination|nonpatient|30|Group[940, 941]|Clement\n",
      "dévoilé _s |both|termination|historical|30|Group[940, 941]|Clement\n",
      "dévoilé _s |both|termination|nonpatient|30|Group[940, 941]|Clement\n",
      "dévoilé _e |both|termination|historical|30|Group[940, 941]|Clement\n",
      "dévoilé _e |both|termination|nonpatient|30|Group[940, 941]|Clement\n",
      "dévoilé _es |both|termination|historical|30|Group[940, 941]|Clement\n",
      "dévoilé _es |both|termination|nonpatient|30|Group[940, 941]|Clement\n",
      "souligné |both|termination|historical|30|Group[940, 941]|Clement\n",
      "souligné |both|termination|nonpatient|30|Group[940, 941]|Clement\n",
      "souligné _s |both|termination|historical|30|Group[940, 941]|Clement\n",
      "souligné _s |both|termination|nonpatient|30|Group[940, 941]|Clement\n",
      "souligné _e |both|termination|historical|30|Group[940, 941]|Clement\n",
      "souligné _e |both|termination|nonpatient|30|Group[940, 941]|Clement\n",
      "souligné _es |both|termination|historical|30|Group[940, 941]|Clement\n",
      "souligné _es |both|termination|nonpatient|30|Group[940, 941]|Clement\n",
      "informé |both|termination|historical|30|Group[940, 941]|Clement\n",
      "informé |both|termination|nonpatient|30|Group[940, 941]|Clement\n",
      "informé _s |both|termination|historical|30|Group[940, 941]|Clement\n",
      "informé _s |both|termination|nonpatient|30|Group[940, 941]|Clement\n",
      "informé _e |both|termination|historical|30|Group[940, 941]|Clement\n",
      "informé _e |both|termination|nonpatient|30|Group[940, 941]|Clement\n",
      "informé _es |both|termination|historical|30|Group[940, 941]|Clement\n",
      "informé _es |both|termination|nonpatient|30|Group[940, 941]|Clement\n",
      "révélé |both|termination|historical|30|Group[940, 941]|Clement\n",
      "révélé |both|termination|nonpatient|30|Group[940, 941]|Clement\n",
      "révélé _s |both|termination|historical|30|Group[940, 941]|Clement\n",
      "révélé _s |both|termination|nonpatient|30|Group[940, 941]|Clement\n",
      "révélé _e |both|termination|historical|30|Group[940, 941]|Clement\n",
      "révélé _e |both|termination|nonpatient|30|Group[940, 941]|Clement\n",
      "révélé _es |both|termination|historical|30|Group[940, 941]|Clement\n",
      "révélé _es |both|termination|nonpatient|30|Group[940, 941]|Clement\n",
      "signifié |both|termination|historical|30|Group[940, 941]|Clement\n",
      "signifié |both|termination|nonpatient|30|Group[940, 941]|Clement\n",
      "signifié _s |both|termination|historical|30|Group[940, 941]|Clement\n",
      "signifié _s |both|termination|nonpatient|30|Group[940, 941]|Clement\n",
      "signifié _e |both|termination|historical|30|Group[940, 941]|Clement\n",
      "signifié _e |both|termination|nonpatient|30|Group[940, 941]|Clement\n",
      "signifié _es |both|termination|historical|30|Group[940, 941]|Clement\n",
      "signifié _es |both|termination|nonpatient|30|Group[940, 941]|Clement\n",
      "averti |both|termination|historical|30|Group[940, 941]|Clement\n",
      "averti |both|termination|nonpatient|30|Group[940, 941]|Clement\n",
      "averti _s |both|termination|historical|30|Group[940, 941]|Clement\n",
      "averti _s |both|termination|nonpatient|30|Group[940, 941]|Clement\n",
      "averti _e |both|termination|historical|30|Group[940, 941]|Clement\n",
      "averti _e |both|termination|nonpatient|30|Group[940, 941]|Clement\n",
      "averti _es |both|termination|historical|30|Group[940, 941]|Clement\n",
      "averti _es |both|termination|nonpatient|30|Group[940, 941]|Clement\n",
      "témoigné |both|termination|historical|30|Group[940, 941]|Clement\n",
      "témoigné |both|termination|nonpatient|30|Group[940, 941]|Clement\n",
      "témoigné _s |both|termination|historical|30|Group[940, 941]|Clement\n",
      "témoigné _s |both|termination|nonpatient|30|Group[940, 941]|Clement\n",
      "témoigné _e |both|termination|historical|30|Group[940, 941]|Clement\n",
      "témoigné _e |both|termination|nonpatient|30|Group[940, 941]|Clement\n",
      "témoigné _es |both|termination|historical|30|Group[940, 941]|Clement\n",
      "témoigné _es |both|termination|nonpatient|30|Group[940, 941]|Clement\n",
      "alerté |both|termination|historical|30|Group[940, 941]|Clement\n",
      "alerté |both|termination|nonpatient|30|Group[940, 941]|Clement\n",
      "alerté _s |both|termination|historical|30|Group[940, 941]|Clement\n",
      "alerté _s |both|termination|nonpatient|30|Group[940, 941]|Clement\n",
      "alerté _e |both|termination|historical|30|Group[940, 941]|Clement\n",
      "alerté _e |both|termination|nonpatient|30|Group[940, 941]|Clement\n",
      "alerté _es |both|termination|historical|30|Group[940, 941]|Clement\n",
      "alerté _es |both|termination|nonpatient|30|Group[940, 941]|Clement\n"
     ]
    }
   ],
   "source": [
    "from nltk.parse.generate import generate, demo_grammar\n",
    "from nltk import CFG\n",
    "\n",
    "cfg_grammar= \"\"\"\n",
    "S ->  Var1 Termin Trigger_Rule\n",
    "Var1 -> \"rapporté\" | \"signalé\" | \"indiqué\" | \"montré\" | \"dévoilé\" | \"souligné\" | \"informé\"| \"révélé\" | \"signifié\" | \"averti\" | \"témoigné\" | \"alerté\"\n",
    "Termin -> |\"_s\" |\"_e\" |\"_es\"\n",
    "Trigger_Rule -> \"|both|termination|historical|30|Group[940, 941]|Clement\"|\"|both|termination|nonpatient|30|Group[940, 941]|Clement\"\n",
    "\"\"\"\n",
    "\n",
    "for sentence in generate(CFG.fromstring(cfg_grammar), n=1000):\n",
    "    print(' '.join(sentence))"
   ]
  },
  {
   "cell_type": "code",
   "execution_count": 39,
   "metadata": {},
   "outputs": [
    {
     "name": "stdout",
     "output_type": "stream",
     "text": [
      "risque de |forward|trigger|conditional|30|Group[947]|Clement\n",
      "chance de |forward|trigger|conditional|30|Group[947]|Clement\n"
     ]
    }
   ],
   "source": [
    "from nltk.parse.generate import generate, demo_grammar\n",
    "from nltk import CFG\n",
    "\n",
    "cfg_grammar= \"\"\"\n",
    "S ->  Var1 Var2 Trigger_Rule\n",
    "Var1 -> \"risque\" | \"chance\"\n",
    "Var2 -> \"de\"\n",
    "Trigger_Rule -> \"|forward|trigger|conditional|30|Group[947]|Clement\"\n",
    "\"\"\"\n",
    "\n",
    "for sentence in generate(CFG.fromstring(cfg_grammar), n=1000):\n",
    "    print(' '.join(sentence))"
   ]
  },
  {
   "cell_type": "code",
   "execution_count": 40,
   "metadata": {},
   "outputs": [
    {
     "name": "stdout",
     "output_type": "stream",
     "text": [
      "l'éliminer |backward|trigger|uncertain|30|Group[955]|Clement\n",
      "l'écarter |backward|trigger|uncertain|30|Group[955]|Clement\n",
      "l'évincer |backward|trigger|uncertain|30|Group[955]|Clement\n",
      "l'exclure |backward|trigger|uncertain|30|Group[955]|Clement\n"
     ]
    }
   ],
   "source": [
    "from nltk.parse.generate import generate, demo_grammar\n",
    "from nltk import CFG\n",
    "\n",
    "cfg_grammar= \"\"\"\n",
    "S -> Var1 Trigger_Rule\n",
    "Var1 -> \"l'éliminer\" | \"l'écarter\" | \"l'évincer\" | \"l'exclure\"\n",
    "Trigger_Rule -> \"|backward|trigger|uncertain|30|Group[955]|Clement\"\n",
    "\"\"\"\n",
    "\n",
    "for sentence in generate(CFG.fromstring(cfg_grammar), n=1000):\n",
    "    print(' '.join(sentence))"
   ]
  },
  {
   "cell_type": "code",
   "execution_count": 41,
   "metadata": {},
   "outputs": [
    {
     "name": "stdout",
     "output_type": "stream",
     "text": [
      "éliminer |forward|trigger|uncertain|30|Group[955]|Clement\n",
      "écarter |forward|trigger|uncertain|30|Group[955]|Clement\n",
      "évincer |forward|trigger|uncertain|30|Group[955]|Clement\n",
      "exclure |forward|trigger|uncertain|30|Group[955]|Clement\n"
     ]
    }
   ],
   "source": [
    "from nltk.parse.generate import generate, demo_grammar\n",
    "from nltk import CFG\n",
    "\n",
    "cfg_grammar= \"\"\"\n",
    "S ->  Var1 Trigger_Rule\n",
    "Var1 -> \"éliminer\" | \"écarter\" | \"évincer\" | \"exclure\"\n",
    "Trigger_Rule -> \"|forward|trigger|uncertain|30|Group[955]|Clement\"\n",
    "\"\"\"\n",
    "\n",
    "for sentence in generate(CFG.fromstring(cfg_grammar), n=1000):\n",
    "    print(' '.join(sentence))"
   ]
  },
  {
   "cell_type": "code",
   "execution_count": 42,
   "metadata": {},
   "outputs": [
    {
     "name": "stdout",
     "output_type": "stream",
     "text": [
      "exclut pour |forward|trigger|negated|10|Group[977]|Clement\n",
      "exclut par |forward|trigger|negated|10|Group[977]|Clement\n",
      "exclut contre |forward|trigger|negated|10|Group[977]|Clement\n",
      "refusé pour |forward|trigger|negated|10|Group[977]|Clement\n",
      "refusé par |forward|trigger|negated|10|Group[977]|Clement\n",
      "refusé contre |forward|trigger|negated|10|Group[977]|Clement\n",
      "repoussé pour |forward|trigger|negated|10|Group[977]|Clement\n",
      "repoussé par |forward|trigger|negated|10|Group[977]|Clement\n",
      "repoussé contre |forward|trigger|negated|10|Group[977]|Clement\n",
      "rejeté pour |forward|trigger|negated|10|Group[977]|Clement\n",
      "rejeté par |forward|trigger|negated|10|Group[977]|Clement\n",
      "rejeté contre |forward|trigger|negated|10|Group[977]|Clement\n",
      "éliminé pour |forward|trigger|negated|10|Group[977]|Clement\n",
      "éliminé par |forward|trigger|negated|10|Group[977]|Clement\n",
      "éliminé contre |forward|trigger|negated|10|Group[977]|Clement\n",
      "proscrit pour |forward|trigger|negated|10|Group[977]|Clement\n",
      "proscrit par |forward|trigger|negated|10|Group[977]|Clement\n",
      "proscrit contre |forward|trigger|negated|10|Group[977]|Clement\n",
      "écarte pour |forward|trigger|negated|10|Group[977]|Clement\n",
      "écarte par |forward|trigger|negated|10|Group[977]|Clement\n",
      "écarte contre |forward|trigger|negated|10|Group[977]|Clement\n"
     ]
    }
   ],
   "source": [
    "from nltk.parse.generate import generate, demo_grammar\n",
    "from nltk import CFG\n",
    "\n",
    "cfg_grammar= \"\"\"\n",
    "S ->  Var1 Var2 Trigger_Rule\n",
    "Var1 -> \"exclut\" | \"refusé\" | \"repoussé\" | \"rejeté\" | \"éliminé\" | \"proscrit\" | \"écarte\"\n",
    "Var2 -> \"pour\"| \"par\" | \"contre\"\n",
    "Trigger_Rule -> \"|forward|trigger|negated|10|Group[977]|Clement\"\n",
    "\"\"\"\n",
    "\n",
    "for sentence in generate(CFG.fromstring(cfg_grammar), n=1000):\n",
    "    print(' '.join(sentence))"
   ]
  },
  {
   "cell_type": "code",
   "execution_count": 43,
   "metadata": {},
   "outputs": [
    {
     "name": "stdout",
     "output_type": "stream",
     "text": [
      "exclut |backward|trigger|negated|10|Group[979]|Clement\n",
      "refusé |backward|trigger|negated|10|Group[979]|Clement\n",
      "repoussé |backward|trigger|negated|10|Group[979]|Clement\n",
      "rejeté |backward|trigger|negated|10|Group[979]|Clement\n",
      "éliminé |backward|trigger|negated|10|Group[979]|Clement\n",
      "proscrit |backward|trigger|negated|10|Group[979]|Clement\n",
      "écarte |backward|trigger|negated|10|Group[979]|Clement\n"
     ]
    }
   ],
   "source": [
    "from nltk.parse.generate import generate, demo_grammar\n",
    "from nltk import CFG\n",
    "\n",
    "cfg_grammar= \"\"\"\n",
    "S ->  Var1 Trigger_Rule\n",
    "Var1 -> \"exclut\" | \"refusé\" | \"repoussé\" | \"rejeté\" | \"éliminé\" | \"proscrit\" | \"écarte\"\n",
    "Trigger_Rule -> \"|backward|trigger|negated|10|Group[979]|Clement\"\n",
    "\"\"\"\n",
    "\n",
    "for sentence in generate(CFG.fromstring(cfg_grammar), n=1000):\n",
    "    print(' '.join(sentence))"
   ]
  },
  {
   "cell_type": "code",
   "execution_count": 44,
   "metadata": {},
   "outputs": [
    {
     "name": "stdout",
     "output_type": "stream",
     "text": [
      "exclut le patient |forward|trigger|negated|10|Group[985]|Clement\n",
      "exclut la patiente |forward|trigger|negated|10|Group[985]|Clement\n",
      "exclut le souffrant |forward|trigger|negated|10|Group[985]|Clement\n",
      "exclut la souffrante |forward|trigger|negated|10|Group[985]|Clement\n",
      "exclut le sujet |forward|trigger|negated|10|Group[985]|Clement\n",
      "refusé le patient |forward|trigger|negated|10|Group[985]|Clement\n",
      "refusé la patiente |forward|trigger|negated|10|Group[985]|Clement\n",
      "refusé le souffrant |forward|trigger|negated|10|Group[985]|Clement\n",
      "refusé la souffrante |forward|trigger|negated|10|Group[985]|Clement\n",
      "refusé le sujet |forward|trigger|negated|10|Group[985]|Clement\n",
      "repoussé le patient |forward|trigger|negated|10|Group[985]|Clement\n",
      "repoussé la patiente |forward|trigger|negated|10|Group[985]|Clement\n",
      "repoussé le souffrant |forward|trigger|negated|10|Group[985]|Clement\n",
      "repoussé la souffrante |forward|trigger|negated|10|Group[985]|Clement\n",
      "repoussé le sujet |forward|trigger|negated|10|Group[985]|Clement\n",
      "rejeté le patient |forward|trigger|negated|10|Group[985]|Clement\n",
      "rejeté la patiente |forward|trigger|negated|10|Group[985]|Clement\n",
      "rejeté le souffrant |forward|trigger|negated|10|Group[985]|Clement\n",
      "rejeté la souffrante |forward|trigger|negated|10|Group[985]|Clement\n",
      "rejeté le sujet |forward|trigger|negated|10|Group[985]|Clement\n",
      "éliminé le patient |forward|trigger|negated|10|Group[985]|Clement\n",
      "éliminé la patiente |forward|trigger|negated|10|Group[985]|Clement\n",
      "éliminé le souffrant |forward|trigger|negated|10|Group[985]|Clement\n",
      "éliminé la souffrante |forward|trigger|negated|10|Group[985]|Clement\n",
      "éliminé le sujet |forward|trigger|negated|10|Group[985]|Clement\n",
      "proscrit le patient |forward|trigger|negated|10|Group[985]|Clement\n",
      "proscrit la patiente |forward|trigger|negated|10|Group[985]|Clement\n",
      "proscrit le souffrant |forward|trigger|negated|10|Group[985]|Clement\n",
      "proscrit la souffrante |forward|trigger|negated|10|Group[985]|Clement\n",
      "proscrit le sujet |forward|trigger|negated|10|Group[985]|Clement\n",
      "écarte le patient |forward|trigger|negated|10|Group[985]|Clement\n",
      "écarte la patiente |forward|trigger|negated|10|Group[985]|Clement\n",
      "écarte le souffrant |forward|trigger|negated|10|Group[985]|Clement\n",
      "écarte la souffrante |forward|trigger|negated|10|Group[985]|Clement\n",
      "écarte le sujet |forward|trigger|negated|10|Group[985]|Clement\n"
     ]
    }
   ],
   "source": [
    "from nltk.parse.generate import generate, demo_grammar\n",
    "from nltk import CFG\n",
    "\n",
    "cfg_grammar= \"\"\"\n",
    "S ->  Var1 Patient Trigger_Rule\n",
    "Var1 -> \"exclut\" | \"refusé\" | \"repoussé\" | \"rejeté\" | \"éliminé\" | \"proscrit\" | \"écarte\"\n",
    "Patient -> \"le patient\" | \"la patiente\"| \"le souffrant\" | \"la souffrante\"| \"le sujet\"\n",
    "Trigger_Rule -> \"|forward|trigger|negated|10|Group[985]|Clement\"\n",
    "\"\"\"\n",
    "\n",
    "for sentence in generate(CFG.fromstring(cfg_grammar), n=1000):\n",
    "    print(' '.join(sentence))"
   ]
  },
  {
   "cell_type": "code",
   "execution_count": 45,
   "metadata": {},
   "outputs": [
    {
     "name": "stdout",
     "output_type": "stream",
     "text": [
      "l'exclut |backward|trigger|negated|10|Group[987]|Clement\n",
      "le refuse |backward|trigger|negated|10|Group[987]|Clement\n",
      "la refuse |backward|trigger|negated|10|Group[987]|Clement\n",
      "le repousse |backward|trigger|negated|10|Group[987]|Clement\n",
      "la repousse |backward|trigger|negated|10|Group[987]|Clement\n",
      "le rejete |backward|trigger|negated|10|Group[987]|Clement\n",
      "la rejete |backward|trigger|negated|10|Group[987]|Clement\n",
      "l'élimine |backward|trigger|negated|10|Group[987]|Clement\n",
      "le proscrit |backward|trigger|negated|10|Group[987]|Clement\n",
      "la proscrit |backward|trigger|negated|10|Group[987]|Clement\n"
     ]
    }
   ],
   "source": [
    "from nltk.parse.generate import generate, demo_grammar\n",
    "from nltk import CFG\n",
    "\n",
    "cfg_grammar= \"\"\"\n",
    "S ->   Var1  Trigger_Rule\n",
    "Var1 -> \"l'exclut\" | \"le refuse\"| \"la refuse\" | \"le repousse\" | \"la repousse\" | \"le rejete\"| \"la rejete\" | \"l'élimine\" | \"le proscrit\" | \"la proscrit\"\n",
    "Trigger_Rule -> \"|backward|trigger|negated|10|Group[987]|Clement\"\n",
    "\"\"\"\n",
    "\n",
    "for sentence in generate(CFG.fromstring(cfg_grammar), n=1000):\n",
    "    print(' '.join(sentence))"
   ]
  },
  {
   "cell_type": "code",
   "execution_count": 46,
   "metadata": {},
   "outputs": [
    {
     "name": "stdout",
     "output_type": "stream",
     "text": [
      "exclut |forward|trigger|negated|10|Group[997]|Clement\n",
      "interdit |forward|trigger|negated|10|Group[997]|Clement\n",
      "proscrit |forward|trigger|negated|10|Group[997]|Clement\n",
      "éloigne |forward|trigger|negated|10|Group[997]|Clement\n",
      "rejete |forward|trigger|negated|10|Group[997]|Clement\n",
      "évince |forward|trigger|negated|10|Group[997]|Clement\n",
      "écarte |forward|trigger|negated|10|Group[997]|Clement\n",
      "empêche |forward|trigger|negated|10|Group[997]|Clement\n",
      "écarte |forward|trigger|negated|10|Group[997]|Clement\n"
     ]
    }
   ],
   "source": [
    "from nltk.parse.generate import generate, demo_grammar\n",
    "from nltk import CFG\n",
    "\n",
    "cfg_grammar= \"\"\"\n",
    "S ->  Var1 Trigger_Rule\n",
    "Var1 -> \"exclut\" | \"interdit\" | \"proscrit\" | \"éloigne\" | \"rejete\" | \"évince\" | \"écarte\" | \"empêche\" | \"écarte\"\n",
    "Trigger_Rule -> \"|forward|trigger|negated|10|Group[997]|Clement\"\n",
    "\"\"\"\n",
    "\n",
    "for sentence in generate(CFG.fromstring(cfg_grammar), n=1000):\n",
    "    print(' '.join(sentence))"
   ]
  },
  {
   "cell_type": "code",
   "execution_count": 47,
   "metadata": {},
   "outputs": [
    {
     "name": "stdout",
     "output_type": "stream",
     "text": [
      "secondaire |forward|termination|negated|10|Group[1004]|Clement\n"
     ]
    }
   ],
   "source": [
    "from nltk.parse.generate import generate, demo_grammar\n",
    "from nltk import CFG\n",
    "\n",
    "cfg_grammar= \"\"\"\n",
    "S ->  Var1 Trigger_Rule\n",
    "Var1 -> \"secondaire\"\n",
    "Trigger_Rule -> \"|forward|termination|negated|10|Group[1004]|Clement\"\n",
    "\"\"\"\n",
    "\n",
    "for sentence in generate(CFG.fromstring(cfg_grammar), n=1000):\n",
    "    print(' '.join(sentence))"
   ]
  },
  {
   "cell_type": "code",
   "execution_count": 48,
   "metadata": {},
   "outputs": [
    {
     "name": "stdout",
     "output_type": "stream",
     "text": [
      "a continué à |forward|termination|negated|10|Group[1006]|Clement\n",
      "a perpétuer à |forward|termination|negated|10|Group[1006]|Clement\n",
      "a tenu à |forward|termination|negated|10|Group[1006]|Clement\n"
     ]
    }
   ],
   "source": [
    "from nltk.parse.generate import generate, demo_grammar\n",
    "from nltk import CFG\n",
    "\n",
    "cfg_grammar= \"\"\"\n",
    "S -> Var1 Var2 Var3 Trigger_Rule\n",
    "Var1 -> \"a\"\n",
    "Var2 -> \"continué\" | \"perpétuer\" | \"tenu\"\n",
    "Var3 -> \"à\"\n",
    "Trigger_Rule -> \"|forward|termination|negated|10|Group[1006]|Clement\"\n",
    "\"\"\"\n",
    "\n",
    "for sentence in generate(CFG.fromstring(cfg_grammar), n=1000):\n",
    "    print(' '.join(sentence))"
   ]
  },
  {
   "cell_type": "code",
   "execution_count": 49,
   "metadata": {},
   "outputs": [
    {
     "name": "stdout",
     "output_type": "stream",
     "text": [
      "devrait _-il |forward|trigger|conditional|30|Group[1009]|Clement\n",
      "devrait _-elle |forward|trigger|conditional|30|Group[1009]|Clement\n",
      "pourrait _-il |forward|trigger|conditional|30|Group[1009]|Clement\n",
      "pourrait _-elle |forward|trigger|conditional|30|Group[1009]|Clement\n"
     ]
    }
   ],
   "source": [
    "from nltk.parse.generate import generate, demo_grammar\n",
    "from nltk import CFG\n",
    "\n",
    "cfg_grammar= \"\"\"\n",
    "S ->  Var1 Pronoun Trigger_Rule\n",
    "Var1 -> \"devrait\" | \"pourrait\"\n",
    "Pronoun -> \"_-il\" | \"_-elle\"\n",
    "Trigger_Rule -> \"|forward|trigger|conditional|30|Group[1009]|Clement\"\n",
    "\"\"\"\n",
    "\n",
    "for sentence in generate(CFG.fromstring(cfg_grammar), n=1000):\n",
    "    print(' '.join(sentence))"
   ]
  },
  {
   "cell_type": "code",
   "execution_count": 50,
   "metadata": {},
   "outputs": [
    {
     "name": "stdout",
     "output_type": "stream",
     "text": [
      "montre une question |forward|trigger|uncertain|30|Group[1013]|Clement\n",
      "montre une interpellation |forward|trigger|uncertain|30|Group[1013]|Clement\n",
      "indique une question |forward|trigger|uncertain|30|Group[1013]|Clement\n",
      "indique une interpellation |forward|trigger|uncertain|30|Group[1013]|Clement\n",
      "expose une question |forward|trigger|uncertain|30|Group[1013]|Clement\n",
      "expose une interpellation |forward|trigger|uncertain|30|Group[1013]|Clement\n",
      "témoigne une question |forward|trigger|uncertain|30|Group[1013]|Clement\n",
      "témoigne une interpellation |forward|trigger|uncertain|30|Group[1013]|Clement\n",
      "signale une question |forward|trigger|uncertain|30|Group[1013]|Clement\n",
      "signale une interpellation |forward|trigger|uncertain|30|Group[1013]|Clement\n",
      "manifeste une question |forward|trigger|uncertain|30|Group[1013]|Clement\n",
      "manifeste une interpellation |forward|trigger|uncertain|30|Group[1013]|Clement\n",
      "révéle une question |forward|trigger|uncertain|30|Group[1013]|Clement\n",
      "révéle une interpellation |forward|trigger|uncertain|30|Group[1013]|Clement\n"
     ]
    }
   ],
   "source": [
    "from nltk.parse.generate import generate, demo_grammar\n",
    "from nltk import CFG\n",
    "\n",
    "cfg_grammar= \"\"\"\n",
    "S ->  Var1 Var2 Var3 Trigger_Rule\n",
    "Var1 -> \"montre\" | \"indique\" | \"expose\" | \"témoigne\" | \"signale\" | \"manifeste\" | \"révéle\"\n",
    "Var2 -> \"une\"\n",
    "Var3 -> \"question\" | \"interpellation\"\n",
    "Trigger_Rule -> \"|forward|trigger|uncertain|30|Group[1013]|Clement\"\n",
    "\"\"\"\n",
    "\n",
    "for sentence in generate(CFG.fromstring(cfg_grammar), n=1000):\n",
    "    print(' '.join(sentence))"
   ]
  },
  {
   "cell_type": "code",
   "execution_count": 51,
   "metadata": {},
   "outputs": [
    {
     "name": "stdout",
     "output_type": "stream",
     "text": [
      "depuis le printemps |backward|trigger|historical|30|Group[1015]|Clement\n",
      "depuis l'été |backward|trigger|historical|30|Group[1015]|Clement\n",
      "depuis l'automne |backward|trigger|historical|30|Group[1015]|Clement\n",
      "depuis l'hiver |backward|trigger|historical|30|Group[1015]|Clement\n",
      "dès le printemps |backward|trigger|historical|30|Group[1015]|Clement\n",
      "dès l'été |backward|trigger|historical|30|Group[1015]|Clement\n",
      "dès l'automne |backward|trigger|historical|30|Group[1015]|Clement\n",
      "dès l'hiver |backward|trigger|historical|30|Group[1015]|Clement\n",
      "à partir de le printemps |backward|trigger|historical|30|Group[1015]|Clement\n",
      "à partir de l'été |backward|trigger|historical|30|Group[1015]|Clement\n",
      "à partir de l'automne |backward|trigger|historical|30|Group[1015]|Clement\n",
      "à partir de l'hiver |backward|trigger|historical|30|Group[1015]|Clement\n"
     ]
    }
   ],
   "source": [
    "from nltk.parse.generate import generate, demo_grammar\n",
    "from nltk import CFG\n",
    "\n",
    "cfg_grammar= \"\"\"\n",
    "S ->  Depuis Seasons Trigger_Rule\n",
    "Depuis -> \"depuis\" | \"dès\" | \"à partir de\"\n",
    "Seasons -> \"le printemps\"|\"l'été\"|\"l'automne\"|\"l'hiver\" \n",
    "Trigger_Rule -> \"|backward|trigger|historical|30|Group[1015]|Clement\"\n",
    "\"\"\"\n",
    "\n",
    "for sentence in generate(CFG.fromstring(cfg_grammar), n=1000):\n",
    "    print(' '.join(sentence))"
   ]
  },
  {
   "cell_type": "code",
   "execution_count": 52,
   "metadata": {},
   "outputs": [
    {
     "name": "stdout",
     "output_type": "stream",
     "text": [
      "depuis janvier |backward|trigger|historical|30|Group[1015]|Clement\n",
      "depuis février |backward|trigger|historical|30|Group[1015]|Clement\n",
      "depuis mars |backward|trigger|historical|30|Group[1015]|Clement\n",
      "depuis avril |backward|trigger|historical|30|Group[1015]|Clement\n",
      "depuis mai |backward|trigger|historical|30|Group[1015]|Clement\n",
      "depuis juin |backward|trigger|historical|30|Group[1015]|Clement\n",
      "depuis juillet |backward|trigger|historical|30|Group[1015]|Clement\n",
      "depuis août |backward|trigger|historical|30|Group[1015]|Clement\n",
      "depuis septembre |backward|trigger|historical|30|Group[1015]|Clement\n",
      "depuis octobre |backward|trigger|historical|30|Group[1015]|Clement\n",
      "depuis novembre |backward|trigger|historical|30|Group[1015]|Clement\n",
      "depuis décembre |backward|trigger|historical|30|Group[1015]|Clement\n",
      "dès janvier |backward|trigger|historical|30|Group[1015]|Clement\n",
      "dès février |backward|trigger|historical|30|Group[1015]|Clement\n",
      "dès mars |backward|trigger|historical|30|Group[1015]|Clement\n",
      "dès avril |backward|trigger|historical|30|Group[1015]|Clement\n",
      "dès mai |backward|trigger|historical|30|Group[1015]|Clement\n",
      "dès juin |backward|trigger|historical|30|Group[1015]|Clement\n",
      "dès juillet |backward|trigger|historical|30|Group[1015]|Clement\n",
      "dès août |backward|trigger|historical|30|Group[1015]|Clement\n",
      "dès septembre |backward|trigger|historical|30|Group[1015]|Clement\n",
      "dès octobre |backward|trigger|historical|30|Group[1015]|Clement\n",
      "dès novembre |backward|trigger|historical|30|Group[1015]|Clement\n",
      "dès décembre |backward|trigger|historical|30|Group[1015]|Clement\n",
      "à partir de janvier |backward|trigger|historical|30|Group[1015]|Clement\n",
      "à partir de février |backward|trigger|historical|30|Group[1015]|Clement\n",
      "à partir de mars |backward|trigger|historical|30|Group[1015]|Clement\n",
      "à partir de avril |backward|trigger|historical|30|Group[1015]|Clement\n",
      "à partir de mai |backward|trigger|historical|30|Group[1015]|Clement\n",
      "à partir de juin |backward|trigger|historical|30|Group[1015]|Clement\n",
      "à partir de juillet |backward|trigger|historical|30|Group[1015]|Clement\n",
      "à partir de août |backward|trigger|historical|30|Group[1015]|Clement\n",
      "à partir de septembre |backward|trigger|historical|30|Group[1015]|Clement\n",
      "à partir de octobre |backward|trigger|historical|30|Group[1015]|Clement\n",
      "à partir de novembre |backward|trigger|historical|30|Group[1015]|Clement\n",
      "à partir de décembre |backward|trigger|historical|30|Group[1015]|Clement\n"
     ]
    }
   ],
   "source": [
    "from nltk.parse.generate import generate, demo_grammar\n",
    "from nltk import CFG\n",
    "\n",
    "cfg_grammar= \"\"\"\n",
    "S ->  Depuis Month Trigger_Rule\n",
    "Depuis -> \"depuis\" | \"dès\" | \"à partir de\"\n",
    "Month -> \"janvier\"|\"février\"|\"mars\"|\"avril\"|\"mai\"|\"juin\" |\"juillet\"|\"août\"|\"septembre\"|\"octobre\"|\"novembre\"|\"décembre\"\n",
    "Trigger_Rule -> \"|backward|trigger|historical|30|Group[1015]|Clement\"\n",
    "\"\"\"\n",
    "\n",
    "for sentence in generate(CFG.fromstring(cfg_grammar), n=1000):\n",
    "    print(' '.join(sentence))"
   ]
  }
 ],
 "metadata": {
  "file_extension": ".py",
  "kernelspec": {
   "display_name": "Python 3",
   "language": "python",
   "name": "python3"
  },
  "language_info": {
   "codemirror_mode": {
    "name": "ipython",
    "version": 3
   },
   "file_extension": ".py",
   "mimetype": "text/x-python",
   "name": "python",
   "nbconvert_exporter": "python",
   "pygments_lexer": "ipython3",
   "version": "3.7.2"
  },
  "mimetype": "text/x-python",
  "name": "python",
  "nbconvert_exporter": "python",
  "pygments_lexer": "ipython3",
  "version": "3.7.2"
 },
 "nbformat": 4,
 "nbformat_minor": 2
}
