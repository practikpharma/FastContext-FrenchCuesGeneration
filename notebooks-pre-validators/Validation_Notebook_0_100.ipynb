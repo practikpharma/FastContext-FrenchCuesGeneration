{
 "cells": [
  {
   "cell_type": "code",
   "execution_count": 1,
   "metadata": {},
   "outputs": [
    {
     "name": "stdout",
     "output_type": "stream",
     "text": [
      "\\> 0 -mois de |forward|trigger|historical|30|Group[2]|PRE-VALIDATION\n",
      "\\> 0-mois de |forward|trigger|historical|30|Group[2]|PRE-VALIDATION\n",
      "\\> 0 mois de |forward|trigger|historical|30|Group[2]|PRE-VALIDATION\n",
      "\\> 0 ans de |forward|trigger|historical|30|Group[2]|PRE-VALIDATION\n",
      "\\> 0-ans de |forward|trigger|historical|30|Group[2]|PRE-VALIDATION\n",
      "\\> 0 -ans de |forward|trigger|historical|30|Group[2]|PRE-VALIDATION\n",
      "\\> 0 année de |forward|trigger|historical|30|Group[2]|PRE-VALIDATION\n",
      "\\> 0 -année de |forward|trigger|historical|30|Group[2]|PRE-VALIDATION\n",
      "\\> 0 années de |forward|trigger|historical|30|Group[2]|PRE-VALIDATION\n",
      "\\> 0 -années de |forward|trigger|historical|30|Group[2]|PRE-VALIDATION\n",
      "\\> 1 semaine de |forward|trigger|historical|30|Group[2]|PRE-VALIDATION\n",
      "\\> 1 semaines de |forward|trigger|historical|30|Group[2]|PRE-VALIDATION\n",
      "\\> 1 -semaine de |forward|trigger|historical|30|Group[2]|PRE-VALIDATION\n",
      "\\> 1 -semaines de |forward|trigger|historical|30|Group[2]|PRE-VALIDATION\n",
      "\\> 13-jours de |forward|trigger|historical|30|Group[2]|PRE-VALIDATION\n",
      "\\> 13-jour de |forward|trigger|historical|30|Group[2]|PRE-VALIDATION\n",
      "\\> 13 jour de |forward|trigger|historical|30|Group[2]|PRE-VALIDATION\n",
      "\\> 13 jours de |forward|trigger|historical|30|Group[2]|PRE-VALIDATION\n",
      "\\> 13 - jour de |forward|trigger|historical|30|Group[2]|PRE-VALIDATION\n",
      "\\> 13 - jours de |forward|trigger|historical|30|Group[2]|PRE-VALIDATION\n"
     ]
    }
   ],
   "source": [
    "from nltk.parse.generate import generate, demo_grammar\n",
    "from nltk import CFG\n",
    "\n",
    "cfg_grammar= \"\"\"\n",
    "S -> Noun4 Adposition5 Trigger_Rule\n",
    "Noun4 -> \"\\\\> 0 -mois\" | \"\\\\> 0-mois\" | \"\\\\> 0 mois\" | \"\\\\> 0 ans\" | \"\\\\> 0-ans\" | \"\\\\> 0 -ans\" | \"\\\\> 0 année\" | \"\\\\> 0 -année\" | \"\\\\> 0 années\" | \"\\\\> 0 -années\" | \"\\\\> 1 semaine\" | \"\\\\> 1 semaines\" | \"\\\\> 1 -semaine\" | \"\\\\> 1 -semaines\" | \"\\\\> 13-jours\" | \"\\\\> 13-jour\" | \"\\\\> 13 jour\" | \"\\\\> 13 jours\" | \"\\\\> 13 - jour\" | \"\\\\> 13 - jours\"\n",
    "Adposition5 -> \"de\"\n",
    "Trigger_Rule -> \"|forward|trigger|historical|30|Group[2]|PRE-VALIDATION\"\n",
    "\"\"\"\n",
    "\n",
    "for sentence in generate(CFG.fromstring(cfg_grammar), n=1000):\n",
    "    print(' '.join(sentence))\n",
    "    \n",
    "# Space in the trigger terms should be removed after\n"
   ]
  },
  {
   "cell_type": "code",
   "execution_count": 2,
   "metadata": {},
   "outputs": [
    {
     "name": "stdout",
     "output_type": "stream",
     "text": [
      "Il y a \\> 0 mois |backward|trigger|historical|30|Group[4]|PRE-VALIDATION\n",
      "Il y a \\> 0 mois |backward|trigger|historical|30|Group[4]|PRE-VALIDATION\n",
      "Il y a \\> 0 an |backward|trigger|historical|30|Group[4]|PRE-VALIDATION\n",
      "Il y a \\> 0 ans |backward|trigger|historical|30|Group[4]|PRE-VALIDATION\n",
      "Il y a \\> 0 ans |backward|trigger|historical|30|Group[4]|PRE-VALIDATION\n",
      "Il y a \\> 1 semaine |backward|trigger|historical|30|Group[4]|PRE-VALIDATION\n",
      "Il y a \\> 1 semaine |backward|trigger|historical|30|Group[4]|PRE-VALIDATION\n",
      "Il y a \\> 1 semaines |backward|trigger|historical|30|Group[4]|PRE-VALIDATION\n",
      "Il y a \\> 1 semaines |backward|trigger|historical|30|Group[4]|PRE-VALIDATION\n"
     ]
    }
   ],
   "source": [
    "from nltk.parse.generate import generate, demo_grammar\n",
    "from nltk import CFG\n",
    "\n",
    "cfg_grammar= \"\"\"\n",
    "S -> Noun4 Trigger_Rule\n",
    "Noun4 -> \"Il y a \\\\> 0 mois\" | \"Il y a \\\\> 0 mois\" | \"Il y a \\\\> 0 an\" | \"Il y a \\\\> 0 ans\" | \"Il y a \\\\> 0 ans\" | \"Il y a \\\\> 1 semaine\" | \"Il y a \\\\> 1 semaine\" | \"Il y a \\\\> 1 semaines\" | \"Il y a \\\\> 1 semaines\"\n",
    "Trigger_Rule -> \"|backward|trigger|historical|30|Group[4]|PRE-VALIDATION\"\n",
    "\"\"\"\n",
    "\n",
    "for sentence in generate(CFG.fromstring(cfg_grammar), n=1000):\n",
    "    print(' '.join(sentence))"
   ]
  },
  {
   "cell_type": "code",
   "execution_count": 3,
   "metadata": {},
   "outputs": [
    {
     "name": "stdout",
     "output_type": "stream",
     "text": [
      ": non |backward|trigger|negated|10|Group[23]|PRE-VALIDATION\n",
      ": neg |backward|trigger|negated|10|Group[23]|PRE-VALIDATION\n"
     ]
    }
   ],
   "source": [
    "from nltk.parse.generate import generate, demo_grammar\n",
    "from nltk import CFG\n",
    "\n",
    "cfg_grammar= \"\"\"\n",
    "S -> Adverb2 Trigger_Rule\n",
    "Adverb2 -> \": non\" | \": neg\"\n",
    "Trigger_Rule -> \"|backward|trigger|negated|10|Group[23]|PRE-VALIDATION\"\n",
    "\"\"\"\n",
    "\n",
    "for sentence in generate(CFG.fromstring(cfg_grammar), n=1000):\n",
    "    print(' '.join(sentence))"
   ]
  },
  {
   "cell_type": "code",
   "execution_count": 4,
   "metadata": {},
   "outputs": [
    {
     "name": "stdout",
     "output_type": "stream",
     "text": [
      "\\w+ no |forward|trigger|negated|10|Group[24]|PRE-VALIDATION\n"
     ]
    }
   ],
   "source": [
    "from nltk.parse.generate import generate, demo_grammar\n",
    "from nltk import CFG\n",
    "\n",
    "cfg_grammar= \"\"\"\n",
    "S ->  Adjective1 Other4 Trigger_Rule\n",
    "Adjective1 -> \"\\\\w+\"\n",
    "Other4 -> \"no\"\n",
    "Trigger_Rule -> \"|forward|trigger|negated|10|Group[24]|PRE-VALIDATION\"\n",
    "\"\"\"\n",
    "\n",
    "for sentence in generate(CFG.fromstring(cfg_grammar), n=1000):\n",
    "    print(' '.join(sentence))"
   ]
  },
  {
   "cell_type": "code",
   "execution_count": 10,
   "metadata": {},
   "outputs": [
    {
     "name": "stdout",
     "output_type": "stream",
     "text": [
      "absence de |forward|trigger|negated|10|Group[26]|PRE-VALIDATION\n",
      "absence d'un |forward|trigger|negated|10|Group[26]|PRE-VALIDATION\n",
      "absence d'une |forward|trigger|negated|10|Group[26]|PRE-VALIDATION\n",
      "manque de |forward|trigger|negated|10|Group[26]|PRE-VALIDATION\n",
      "manque d'un |forward|trigger|negated|10|Group[26]|PRE-VALIDATION\n",
      "manque d'une |forward|trigger|negated|10|Group[26]|PRE-VALIDATION\n",
      "omission de |forward|trigger|negated|10|Group[26]|PRE-VALIDATION\n",
      "omission d'un |forward|trigger|negated|10|Group[26]|PRE-VALIDATION\n",
      "omission d'une |forward|trigger|negated|10|Group[26]|PRE-VALIDATION\n",
      "privation de |forward|trigger|negated|10|Group[26]|PRE-VALIDATION\n",
      "privation d'un |forward|trigger|negated|10|Group[26]|PRE-VALIDATION\n",
      "privation d'une |forward|trigger|negated|10|Group[26]|PRE-VALIDATION\n",
      "carence de |forward|trigger|negated|10|Group[26]|PRE-VALIDATION\n",
      "carence d'un |forward|trigger|negated|10|Group[26]|PRE-VALIDATION\n",
      "carence d'une |forward|trigger|negated|10|Group[26]|PRE-VALIDATION\n",
      "défaillance de |forward|trigger|negated|10|Group[26]|PRE-VALIDATION\n",
      "défaillance d'un |forward|trigger|negated|10|Group[26]|PRE-VALIDATION\n",
      "défaillance d'une |forward|trigger|negated|10|Group[26]|PRE-VALIDATION\n",
      "défection de |forward|trigger|negated|10|Group[26]|PRE-VALIDATION\n",
      "défection d'un |forward|trigger|negated|10|Group[26]|PRE-VALIDATION\n",
      "défection d'une |forward|trigger|negated|10|Group[26]|PRE-VALIDATION\n",
      "lacune de |forward|trigger|negated|10|Group[26]|PRE-VALIDATION\n",
      "lacune d'un |forward|trigger|negated|10|Group[26]|PRE-VALIDATION\n",
      "lacune d'une |forward|trigger|negated|10|Group[26]|PRE-VALIDATION\n",
      "déficit de |forward|trigger|negated|10|Group[26]|PRE-VALIDATION\n",
      "déficit d'un |forward|trigger|negated|10|Group[26]|PRE-VALIDATION\n",
      "déficit d'une |forward|trigger|negated|10|Group[26]|PRE-VALIDATION\n",
      "absent de |forward|trigger|negated|10|Group[26]|PRE-VALIDATION\n",
      "absent d'un |forward|trigger|negated|10|Group[26]|PRE-VALIDATION\n",
      "absent d'une |forward|trigger|negated|10|Group[26]|PRE-VALIDATION\n",
      "déficience de |forward|trigger|negated|10|Group[26]|PRE-VALIDATION\n",
      "déficience d'un |forward|trigger|negated|10|Group[26]|PRE-VALIDATION\n",
      "déficience d'une |forward|trigger|negated|10|Group[26]|PRE-VALIDATION\n"
     ]
    }
   ],
   "source": [
    "from nltk.parse.generate import generate, demo_grammar\n",
    "from nltk import CFG\n",
    "\n",
    "cfg_grammar= \"\"\"\n",
    "S ->  Noun1 Adposition2 Trigger_Rule\n",
    "Noun1 -> \"absence\" | \"manque\" | \"omission\" | \"privation\" | \"carence\" | \"défaillance\" | \"défection\" | \"lacune\" | \"déficit\" | \"absent\" | \"déficience\"\n",
    "Adposition2 -> \"de\" | \"d'un\" | \"d'une\"\n",
    "Trigger_Rule -> \"|forward|trigger|negated|10|Group[26]|PRE-VALIDATION\"\n",
    "\"\"\"\n",
    "\n",
    "for sentence in generate(CFG.fromstring(cfg_grammar), n=1000):\n",
    "    print(' '.join(sentence))"
   ]
  },
  {
   "cell_type": "code",
   "execution_count": 6,
   "metadata": {},
   "outputs": [
    {
     "name": "stdout",
     "output_type": "stream",
     "text": [
      "suffisant pour l'écarter |forward|trigger|negated|10|Group[30]|PRE-VALIDATION\n",
      "suffisant pour le rejeter |forward|trigger|negated|10|Group[30]|PRE-VALIDATION\n",
      "suffisant pour l'éliminer |forward|trigger|negated|10|Group[30]|PRE-VALIDATION\n",
      "suffisant pour l'isoler |forward|trigger|negated|10|Group[30]|PRE-VALIDATION\n",
      "suffisant pour l'évincer |forward|trigger|negated|10|Group[30]|PRE-VALIDATION\n",
      "suffisant pour le supprimer |forward|trigger|negated|10|Group[30]|PRE-VALIDATION\n",
      "suffisant pour la supprimer |forward|trigger|negated|10|Group[30]|PRE-VALIDATION\n",
      "suffisant pour proscrire |forward|trigger|negated|10|Group[30]|PRE-VALIDATION\n",
      "suffisant pour l'ôter |forward|trigger|negated|10|Group[30]|PRE-VALIDATION\n",
      "suffisant pour l'exclure |forward|trigger|negated|10|Group[30]|PRE-VALIDATION\n",
      "suffisant pour l'éloigner |forward|trigger|negated|10|Group[30]|PRE-VALIDATION\n",
      "suffisant pour renvoyer |forward|trigger|negated|10|Group[30]|PRE-VALIDATION\n",
      "suffisant pour refuser |forward|trigger|negated|10|Group[30]|PRE-VALIDATION\n",
      "suffisant pour se défaire |forward|trigger|negated|10|Group[30]|PRE-VALIDATION\n",
      "passable pour l'écarter |forward|trigger|negated|10|Group[30]|PRE-VALIDATION\n",
      "passable pour le rejeter |forward|trigger|negated|10|Group[30]|PRE-VALIDATION\n",
      "passable pour l'éliminer |forward|trigger|negated|10|Group[30]|PRE-VALIDATION\n",
      "passable pour l'isoler |forward|trigger|negated|10|Group[30]|PRE-VALIDATION\n",
      "passable pour l'évincer |forward|trigger|negated|10|Group[30]|PRE-VALIDATION\n",
      "passable pour le supprimer |forward|trigger|negated|10|Group[30]|PRE-VALIDATION\n",
      "passable pour la supprimer |forward|trigger|negated|10|Group[30]|PRE-VALIDATION\n",
      "passable pour proscrire |forward|trigger|negated|10|Group[30]|PRE-VALIDATION\n",
      "passable pour l'ôter |forward|trigger|negated|10|Group[30]|PRE-VALIDATION\n",
      "passable pour l'exclure |forward|trigger|negated|10|Group[30]|PRE-VALIDATION\n",
      "passable pour l'éloigner |forward|trigger|negated|10|Group[30]|PRE-VALIDATION\n",
      "passable pour renvoyer |forward|trigger|negated|10|Group[30]|PRE-VALIDATION\n",
      "passable pour refuser |forward|trigger|negated|10|Group[30]|PRE-VALIDATION\n",
      "passable pour se défaire |forward|trigger|negated|10|Group[30]|PRE-VALIDATION\n",
      "satisfaisant pour l'écarter |forward|trigger|negated|10|Group[30]|PRE-VALIDATION\n",
      "satisfaisant pour le rejeter |forward|trigger|negated|10|Group[30]|PRE-VALIDATION\n",
      "satisfaisant pour l'éliminer |forward|trigger|negated|10|Group[30]|PRE-VALIDATION\n",
      "satisfaisant pour l'isoler |forward|trigger|negated|10|Group[30]|PRE-VALIDATION\n",
      "satisfaisant pour l'évincer |forward|trigger|negated|10|Group[30]|PRE-VALIDATION\n",
      "satisfaisant pour le supprimer |forward|trigger|negated|10|Group[30]|PRE-VALIDATION\n",
      "satisfaisant pour la supprimer |forward|trigger|negated|10|Group[30]|PRE-VALIDATION\n",
      "satisfaisant pour proscrire |forward|trigger|negated|10|Group[30]|PRE-VALIDATION\n",
      "satisfaisant pour l'ôter |forward|trigger|negated|10|Group[30]|PRE-VALIDATION\n",
      "satisfaisant pour l'exclure |forward|trigger|negated|10|Group[30]|PRE-VALIDATION\n",
      "satisfaisant pour l'éloigner |forward|trigger|negated|10|Group[30]|PRE-VALIDATION\n",
      "satisfaisant pour renvoyer |forward|trigger|negated|10|Group[30]|PRE-VALIDATION\n",
      "satisfaisant pour refuser |forward|trigger|negated|10|Group[30]|PRE-VALIDATION\n",
      "satisfaisant pour se défaire |forward|trigger|negated|10|Group[30]|PRE-VALIDATION\n",
      "supportable pour l'écarter |forward|trigger|negated|10|Group[30]|PRE-VALIDATION\n",
      "supportable pour le rejeter |forward|trigger|negated|10|Group[30]|PRE-VALIDATION\n",
      "supportable pour l'éliminer |forward|trigger|negated|10|Group[30]|PRE-VALIDATION\n",
      "supportable pour l'isoler |forward|trigger|negated|10|Group[30]|PRE-VALIDATION\n",
      "supportable pour l'évincer |forward|trigger|negated|10|Group[30]|PRE-VALIDATION\n",
      "supportable pour le supprimer |forward|trigger|negated|10|Group[30]|PRE-VALIDATION\n",
      "supportable pour la supprimer |forward|trigger|negated|10|Group[30]|PRE-VALIDATION\n",
      "supportable pour proscrire |forward|trigger|negated|10|Group[30]|PRE-VALIDATION\n",
      "supportable pour l'ôter |forward|trigger|negated|10|Group[30]|PRE-VALIDATION\n",
      "supportable pour l'exclure |forward|trigger|negated|10|Group[30]|PRE-VALIDATION\n",
      "supportable pour l'éloigner |forward|trigger|negated|10|Group[30]|PRE-VALIDATION\n",
      "supportable pour renvoyer |forward|trigger|negated|10|Group[30]|PRE-VALIDATION\n",
      "supportable pour refuser |forward|trigger|negated|10|Group[30]|PRE-VALIDATION\n",
      "supportable pour se défaire |forward|trigger|negated|10|Group[30]|PRE-VALIDATION\n",
      "raisonnable pour l'écarter |forward|trigger|negated|10|Group[30]|PRE-VALIDATION\n",
      "raisonnable pour le rejeter |forward|trigger|negated|10|Group[30]|PRE-VALIDATION\n",
      "raisonnable pour l'éliminer |forward|trigger|negated|10|Group[30]|PRE-VALIDATION\n",
      "raisonnable pour l'isoler |forward|trigger|negated|10|Group[30]|PRE-VALIDATION\n",
      "raisonnable pour l'évincer |forward|trigger|negated|10|Group[30]|PRE-VALIDATION\n",
      "raisonnable pour le supprimer |forward|trigger|negated|10|Group[30]|PRE-VALIDATION\n",
      "raisonnable pour la supprimer |forward|trigger|negated|10|Group[30]|PRE-VALIDATION\n",
      "raisonnable pour proscrire |forward|trigger|negated|10|Group[30]|PRE-VALIDATION\n",
      "raisonnable pour l'ôter |forward|trigger|negated|10|Group[30]|PRE-VALIDATION\n",
      "raisonnable pour l'exclure |forward|trigger|negated|10|Group[30]|PRE-VALIDATION\n",
      "raisonnable pour l'éloigner |forward|trigger|negated|10|Group[30]|PRE-VALIDATION\n",
      "raisonnable pour renvoyer |forward|trigger|negated|10|Group[30]|PRE-VALIDATION\n",
      "raisonnable pour refuser |forward|trigger|negated|10|Group[30]|PRE-VALIDATION\n",
      "raisonnable pour se défaire |forward|trigger|negated|10|Group[30]|PRE-VALIDATION\n",
      "acceptable pour l'écarter |forward|trigger|negated|10|Group[30]|PRE-VALIDATION\n",
      "acceptable pour le rejeter |forward|trigger|negated|10|Group[30]|PRE-VALIDATION\n",
      "acceptable pour l'éliminer |forward|trigger|negated|10|Group[30]|PRE-VALIDATION\n",
      "acceptable pour l'isoler |forward|trigger|negated|10|Group[30]|PRE-VALIDATION\n",
      "acceptable pour l'évincer |forward|trigger|negated|10|Group[30]|PRE-VALIDATION\n",
      "acceptable pour le supprimer |forward|trigger|negated|10|Group[30]|PRE-VALIDATION\n",
      "acceptable pour la supprimer |forward|trigger|negated|10|Group[30]|PRE-VALIDATION\n",
      "acceptable pour proscrire |forward|trigger|negated|10|Group[30]|PRE-VALIDATION\n",
      "acceptable pour l'ôter |forward|trigger|negated|10|Group[30]|PRE-VALIDATION\n",
      "acceptable pour l'exclure |forward|trigger|negated|10|Group[30]|PRE-VALIDATION\n",
      "acceptable pour l'éloigner |forward|trigger|negated|10|Group[30]|PRE-VALIDATION\n",
      "acceptable pour renvoyer |forward|trigger|negated|10|Group[30]|PRE-VALIDATION\n",
      "acceptable pour refuser |forward|trigger|negated|10|Group[30]|PRE-VALIDATION\n",
      "acceptable pour se défaire |forward|trigger|negated|10|Group[30]|PRE-VALIDATION\n",
      "assez pour l'écarter |forward|trigger|negated|10|Group[30]|PRE-VALIDATION\n",
      "assez pour le rejeter |forward|trigger|negated|10|Group[30]|PRE-VALIDATION\n",
      "assez pour l'éliminer |forward|trigger|negated|10|Group[30]|PRE-VALIDATION\n",
      "assez pour l'isoler |forward|trigger|negated|10|Group[30]|PRE-VALIDATION\n",
      "assez pour l'évincer |forward|trigger|negated|10|Group[30]|PRE-VALIDATION\n",
      "assez pour le supprimer |forward|trigger|negated|10|Group[30]|PRE-VALIDATION\n",
      "assez pour la supprimer |forward|trigger|negated|10|Group[30]|PRE-VALIDATION\n",
      "assez pour proscrire |forward|trigger|negated|10|Group[30]|PRE-VALIDATION\n",
      "assez pour l'ôter |forward|trigger|negated|10|Group[30]|PRE-VALIDATION\n",
      "assez pour l'exclure |forward|trigger|negated|10|Group[30]|PRE-VALIDATION\n",
      "assez pour l'éloigner |forward|trigger|negated|10|Group[30]|PRE-VALIDATION\n",
      "assez pour renvoyer |forward|trigger|negated|10|Group[30]|PRE-VALIDATION\n",
      "assez pour refuser |forward|trigger|negated|10|Group[30]|PRE-VALIDATION\n",
      "assez pour se défaire |forward|trigger|negated|10|Group[30]|PRE-VALIDATION\n",
      "correct pour l'écarter |forward|trigger|negated|10|Group[30]|PRE-VALIDATION\n",
      "correct pour le rejeter |forward|trigger|negated|10|Group[30]|PRE-VALIDATION\n",
      "correct pour l'éliminer |forward|trigger|negated|10|Group[30]|PRE-VALIDATION\n",
      "correct pour l'isoler |forward|trigger|negated|10|Group[30]|PRE-VALIDATION\n",
      "correct pour l'évincer |forward|trigger|negated|10|Group[30]|PRE-VALIDATION\n",
      "correct pour le supprimer |forward|trigger|negated|10|Group[30]|PRE-VALIDATION\n",
      "correct pour la supprimer |forward|trigger|negated|10|Group[30]|PRE-VALIDATION\n",
      "correct pour proscrire |forward|trigger|negated|10|Group[30]|PRE-VALIDATION\n",
      "correct pour l'ôter |forward|trigger|negated|10|Group[30]|PRE-VALIDATION\n",
      "correct pour l'exclure |forward|trigger|negated|10|Group[30]|PRE-VALIDATION\n",
      "correct pour l'éloigner |forward|trigger|negated|10|Group[30]|PRE-VALIDATION\n",
      "correct pour renvoyer |forward|trigger|negated|10|Group[30]|PRE-VALIDATION\n",
      "correct pour refuser |forward|trigger|negated|10|Group[30]|PRE-VALIDATION\n",
      "correct pour se défaire |forward|trigger|negated|10|Group[30]|PRE-VALIDATION\n",
      "tolérable pour l'écarter |forward|trigger|negated|10|Group[30]|PRE-VALIDATION\n",
      "tolérable pour le rejeter |forward|trigger|negated|10|Group[30]|PRE-VALIDATION\n",
      "tolérable pour l'éliminer |forward|trigger|negated|10|Group[30]|PRE-VALIDATION\n",
      "tolérable pour l'isoler |forward|trigger|negated|10|Group[30]|PRE-VALIDATION\n",
      "tolérable pour l'évincer |forward|trigger|negated|10|Group[30]|PRE-VALIDATION\n",
      "tolérable pour le supprimer |forward|trigger|negated|10|Group[30]|PRE-VALIDATION\n",
      "tolérable pour la supprimer |forward|trigger|negated|10|Group[30]|PRE-VALIDATION\n",
      "tolérable pour proscrire |forward|trigger|negated|10|Group[30]|PRE-VALIDATION\n",
      "tolérable pour l'ôter |forward|trigger|negated|10|Group[30]|PRE-VALIDATION\n",
      "tolérable pour l'exclure |forward|trigger|negated|10|Group[30]|PRE-VALIDATION\n",
      "tolérable pour l'éloigner |forward|trigger|negated|10|Group[30]|PRE-VALIDATION\n",
      "tolérable pour renvoyer |forward|trigger|negated|10|Group[30]|PRE-VALIDATION\n",
      "tolérable pour refuser |forward|trigger|negated|10|Group[30]|PRE-VALIDATION\n",
      "tolérable pour se défaire |forward|trigger|negated|10|Group[30]|PRE-VALIDATION\n",
      "bon pour l'écarter |forward|trigger|negated|10|Group[30]|PRE-VALIDATION\n",
      "bon pour le rejeter |forward|trigger|negated|10|Group[30]|PRE-VALIDATION\n",
      "bon pour l'éliminer |forward|trigger|negated|10|Group[30]|PRE-VALIDATION\n",
      "bon pour l'isoler |forward|trigger|negated|10|Group[30]|PRE-VALIDATION\n",
      "bon pour l'évincer |forward|trigger|negated|10|Group[30]|PRE-VALIDATION\n",
      "bon pour le supprimer |forward|trigger|negated|10|Group[30]|PRE-VALIDATION\n",
      "bon pour la supprimer |forward|trigger|negated|10|Group[30]|PRE-VALIDATION\n",
      "bon pour proscrire |forward|trigger|negated|10|Group[30]|PRE-VALIDATION\n",
      "bon pour l'ôter |forward|trigger|negated|10|Group[30]|PRE-VALIDATION\n",
      "bon pour l'exclure |forward|trigger|negated|10|Group[30]|PRE-VALIDATION\n",
      "bon pour l'éloigner |forward|trigger|negated|10|Group[30]|PRE-VALIDATION\n",
      "bon pour renvoyer |forward|trigger|negated|10|Group[30]|PRE-VALIDATION\n",
      "bon pour refuser |forward|trigger|negated|10|Group[30]|PRE-VALIDATION\n",
      "bon pour se défaire |forward|trigger|negated|10|Group[30]|PRE-VALIDATION\n",
      "pas mal pour l'écarter |forward|trigger|negated|10|Group[30]|PRE-VALIDATION\n",
      "pas mal pour le rejeter |forward|trigger|negated|10|Group[30]|PRE-VALIDATION\n",
      "pas mal pour l'éliminer |forward|trigger|negated|10|Group[30]|PRE-VALIDATION\n",
      "pas mal pour l'isoler |forward|trigger|negated|10|Group[30]|PRE-VALIDATION\n",
      "pas mal pour l'évincer |forward|trigger|negated|10|Group[30]|PRE-VALIDATION\n",
      "pas mal pour le supprimer |forward|trigger|negated|10|Group[30]|PRE-VALIDATION\n",
      "pas mal pour la supprimer |forward|trigger|negated|10|Group[30]|PRE-VALIDATION\n",
      "pas mal pour proscrire |forward|trigger|negated|10|Group[30]|PRE-VALIDATION\n",
      "pas mal pour l'ôter |forward|trigger|negated|10|Group[30]|PRE-VALIDATION\n",
      "pas mal pour l'exclure |forward|trigger|negated|10|Group[30]|PRE-VALIDATION\n",
      "pas mal pour l'éloigner |forward|trigger|negated|10|Group[30]|PRE-VALIDATION\n",
      "pas mal pour renvoyer |forward|trigger|negated|10|Group[30]|PRE-VALIDATION\n",
      "pas mal pour refuser |forward|trigger|negated|10|Group[30]|PRE-VALIDATION\n",
      "pas mal pour se défaire |forward|trigger|negated|10|Group[30]|PRE-VALIDATION\n",
      "bien pour l'écarter |forward|trigger|negated|10|Group[30]|PRE-VALIDATION\n",
      "bien pour le rejeter |forward|trigger|negated|10|Group[30]|PRE-VALIDATION\n",
      "bien pour l'éliminer |forward|trigger|negated|10|Group[30]|PRE-VALIDATION\n",
      "bien pour l'isoler |forward|trigger|negated|10|Group[30]|PRE-VALIDATION\n",
      "bien pour l'évincer |forward|trigger|negated|10|Group[30]|PRE-VALIDATION\n",
      "bien pour le supprimer |forward|trigger|negated|10|Group[30]|PRE-VALIDATION\n",
      "bien pour la supprimer |forward|trigger|negated|10|Group[30]|PRE-VALIDATION\n",
      "bien pour proscrire |forward|trigger|negated|10|Group[30]|PRE-VALIDATION\n",
      "bien pour l'ôter |forward|trigger|negated|10|Group[30]|PRE-VALIDATION\n",
      "bien pour l'exclure |forward|trigger|negated|10|Group[30]|PRE-VALIDATION\n",
      "bien pour l'éloigner |forward|trigger|negated|10|Group[30]|PRE-VALIDATION\n",
      "bien pour renvoyer |forward|trigger|negated|10|Group[30]|PRE-VALIDATION\n",
      "bien pour refuser |forward|trigger|negated|10|Group[30]|PRE-VALIDATION\n",
      "bien pour se défaire |forward|trigger|negated|10|Group[30]|PRE-VALIDATION\n",
      "adéquat pour l'écarter |forward|trigger|negated|10|Group[30]|PRE-VALIDATION\n",
      "adéquat pour le rejeter |forward|trigger|negated|10|Group[30]|PRE-VALIDATION\n",
      "adéquat pour l'éliminer |forward|trigger|negated|10|Group[30]|PRE-VALIDATION\n",
      "adéquat pour l'isoler |forward|trigger|negated|10|Group[30]|PRE-VALIDATION\n",
      "adéquat pour l'évincer |forward|trigger|negated|10|Group[30]|PRE-VALIDATION\n",
      "adéquat pour le supprimer |forward|trigger|negated|10|Group[30]|PRE-VALIDATION\n",
      "adéquat pour la supprimer |forward|trigger|negated|10|Group[30]|PRE-VALIDATION\n",
      "adéquat pour proscrire |forward|trigger|negated|10|Group[30]|PRE-VALIDATION\n",
      "adéquat pour l'ôter |forward|trigger|negated|10|Group[30]|PRE-VALIDATION\n",
      "adéquat pour l'exclure |forward|trigger|negated|10|Group[30]|PRE-VALIDATION\n",
      "adéquat pour l'éloigner |forward|trigger|negated|10|Group[30]|PRE-VALIDATION\n",
      "adéquat pour renvoyer |forward|trigger|negated|10|Group[30]|PRE-VALIDATION\n",
      "adéquat pour refuser |forward|trigger|negated|10|Group[30]|PRE-VALIDATION\n",
      "adéquat pour se défaire |forward|trigger|negated|10|Group[30]|PRE-VALIDATION\n",
      "assez bien pour l'écarter |forward|trigger|negated|10|Group[30]|PRE-VALIDATION\n",
      "assez bien pour le rejeter |forward|trigger|negated|10|Group[30]|PRE-VALIDATION\n",
      "assez bien pour l'éliminer |forward|trigger|negated|10|Group[30]|PRE-VALIDATION\n",
      "assez bien pour l'isoler |forward|trigger|negated|10|Group[30]|PRE-VALIDATION\n",
      "assez bien pour l'évincer |forward|trigger|negated|10|Group[30]|PRE-VALIDATION\n",
      "assez bien pour le supprimer |forward|trigger|negated|10|Group[30]|PRE-VALIDATION\n",
      "assez bien pour la supprimer |forward|trigger|negated|10|Group[30]|PRE-VALIDATION\n",
      "assez bien pour proscrire |forward|trigger|negated|10|Group[30]|PRE-VALIDATION\n",
      "assez bien pour l'ôter |forward|trigger|negated|10|Group[30]|PRE-VALIDATION\n",
      "assez bien pour l'exclure |forward|trigger|negated|10|Group[30]|PRE-VALIDATION\n",
      "assez bien pour l'éloigner |forward|trigger|negated|10|Group[30]|PRE-VALIDATION\n",
      "assez bien pour renvoyer |forward|trigger|negated|10|Group[30]|PRE-VALIDATION\n",
      "assez bien pour refuser |forward|trigger|negated|10|Group[30]|PRE-VALIDATION\n",
      "assez bien pour se défaire |forward|trigger|negated|10|Group[30]|PRE-VALIDATION\n"
     ]
    }
   ],
   "source": [
    "from nltk.parse.generate import generate, demo_grammar\n",
    "from nltk import CFG\n",
    "\n",
    "cfg_grammar= \"\"\"\n",
    "S ->  Verb1 Adposition2 Verb3 Trigger_Rule\n",
    "Verb1 -> \"suffisant\" | \"passable\" | \"satisfaisant\" | \"supportable\" | \"raisonnable\" | \"acceptable\" | \"assez\" | \"correct\" | \"tolérable\" | \"bon\" | \"pas mal\" | \"bien\" | \"adéquat\" | \"assez bien\"\n",
    "Adposition2 -> \"pour\"\n",
    "Verb3 -> \"l'écarter\" | \"le rejeter\" | \"l'éliminer\" | \"l'isoler\" | \"l'évincer\" | \"le supprimer\" | \"la supprimer\"| \"proscrire\" | \"l'ôter\" | \"l'exclure\" | \"l'éloigner\" | \"renvoyer\" | \"refuser\" | \"se défaire\"\n",
    "Trigger_Rule -> \"|forward|trigger|negated|10|Group[30]|PRE-VALIDATION\"\n",
    "\"\"\"\n",
    "\n",
    "for sentence in generate(CFG.fromstring(cfg_grammar), n=1000):\n",
    "    print(' '.join(sentence))"
   ]
  },
  {
   "cell_type": "code",
   "execution_count": 7,
   "metadata": {},
   "outputs": [
    {
     "name": "stdout",
     "output_type": "stream",
     "text": [
      "adéquate pour exclure le patient |forward|trigger|negated|10|Group[42]|PRE-VALIDATION\n",
      "adéquate pour exclure le client |forward|trigger|negated|10|Group[42]|PRE-VALIDATION\n",
      "adéquate pour exclure la cliente |forward|trigger|negated|10|Group[42]|PRE-VALIDATION\n",
      "adéquate pour exclure le souffrant |forward|trigger|negated|10|Group[42]|PRE-VALIDATION\n",
      "adéquate pour exclure le sujet |forward|trigger|negated|10|Group[42]|PRE-VALIDATION\n",
      "adéquate pour éliminer le patient |forward|trigger|negated|10|Group[42]|PRE-VALIDATION\n",
      "adéquate pour éliminer le client |forward|trigger|negated|10|Group[42]|PRE-VALIDATION\n",
      "adéquate pour éliminer la cliente |forward|trigger|negated|10|Group[42]|PRE-VALIDATION\n",
      "adéquate pour éliminer le souffrant |forward|trigger|negated|10|Group[42]|PRE-VALIDATION\n",
      "adéquate pour éliminer le sujet |forward|trigger|negated|10|Group[42]|PRE-VALIDATION\n",
      "adéquate pour rejeter le patient |forward|trigger|negated|10|Group[42]|PRE-VALIDATION\n",
      "adéquate pour rejeter le client |forward|trigger|negated|10|Group[42]|PRE-VALIDATION\n",
      "adéquate pour rejeter la cliente |forward|trigger|negated|10|Group[42]|PRE-VALIDATION\n",
      "adéquate pour rejeter le souffrant |forward|trigger|negated|10|Group[42]|PRE-VALIDATION\n",
      "adéquate pour rejeter le sujet |forward|trigger|negated|10|Group[42]|PRE-VALIDATION\n",
      "adéquate pour proscrire le patient |forward|trigger|negated|10|Group[42]|PRE-VALIDATION\n",
      "adéquate pour proscrire le client |forward|trigger|negated|10|Group[42]|PRE-VALIDATION\n",
      "adéquate pour proscrire la cliente |forward|trigger|negated|10|Group[42]|PRE-VALIDATION\n",
      "adéquate pour proscrire le souffrant |forward|trigger|negated|10|Group[42]|PRE-VALIDATION\n",
      "adéquate pour proscrire le sujet |forward|trigger|negated|10|Group[42]|PRE-VALIDATION\n",
      "adéquate pour éloigner le patient |forward|trigger|negated|10|Group[42]|PRE-VALIDATION\n",
      "adéquate pour éloigner le client |forward|trigger|negated|10|Group[42]|PRE-VALIDATION\n",
      "adéquate pour éloigner la cliente |forward|trigger|negated|10|Group[42]|PRE-VALIDATION\n",
      "adéquate pour éloigner le souffrant |forward|trigger|negated|10|Group[42]|PRE-VALIDATION\n",
      "adéquate pour éloigner le sujet |forward|trigger|negated|10|Group[42]|PRE-VALIDATION\n",
      "adéquate pour supprimer le patient |forward|trigger|negated|10|Group[42]|PRE-VALIDATION\n",
      "adéquate pour supprimer le client |forward|trigger|negated|10|Group[42]|PRE-VALIDATION\n",
      "adéquate pour supprimer la cliente |forward|trigger|negated|10|Group[42]|PRE-VALIDATION\n",
      "adéquate pour supprimer le souffrant |forward|trigger|negated|10|Group[42]|PRE-VALIDATION\n",
      "adéquate pour supprimer le sujet |forward|trigger|negated|10|Group[42]|PRE-VALIDATION\n",
      "adéquate pour radier le patient |forward|trigger|negated|10|Group[42]|PRE-VALIDATION\n",
      "adéquate pour radier le client |forward|trigger|negated|10|Group[42]|PRE-VALIDATION\n",
      "adéquate pour radier la cliente |forward|trigger|negated|10|Group[42]|PRE-VALIDATION\n",
      "adéquate pour radier le souffrant |forward|trigger|negated|10|Group[42]|PRE-VALIDATION\n",
      "adéquate pour radier le sujet |forward|trigger|negated|10|Group[42]|PRE-VALIDATION\n"
     ]
    }
   ],
   "source": [
    "from nltk.parse.generate import generate, demo_grammar\n",
    "from nltk import CFG\n",
    "\n",
    "cfg_grammar= \"\"\"\n",
    "S ->  Adjective1 Adposition2 Noun3 Noun5 Trigger_Rule\n",
    "Adjective1 -> \"adéquate\"\n",
    "Adposition2 -> \"pour\"\n",
    "Noun3 -> \"exclure\" | \"éliminer\" | \"rejeter\" | \"proscrire\" | \"éloigner\" | \"supprimer\" | \"radier\"\n",
    "Noun5 -> \"le patient\" | \"le client\" | \"la cliente\"| \"le souffrant\" | \"le sujet\"\n",
    "Trigger_Rule -> \"|forward|trigger|negated|10|Group[42]|PRE-VALIDATION\"\n",
    "\"\"\"\n",
    "\n",
    "for sentence in generate(CFG.fromstring(cfg_grammar), n=1000):\n",
    "    print(' '.join(sentence))"
   ]
  },
  {
   "cell_type": "code",
   "execution_count": 8,
   "metadata": {},
   "outputs": [
    {
     "name": "stdout",
     "output_type": "stream",
     "text": [
      "après |both|pseudo|uncertain|30|Group[47]|PRE-VALIDATION\n"
     ]
    }
   ],
   "source": [
    "from nltk.parse.generate import generate, demo_grammar\n",
    "from nltk import CFG\n",
    "\n",
    "cfg_grammar= \"\"\"\n",
    "S ->  Adposition1 Trigger_Rule\n",
    "Adposition1 -> \"après\"\n",
    "Trigger_Rule -> \"|both|pseudo|uncertain|30|Group[47]|PRE-VALIDATION\"\n",
    "\"\"\"\n",
    "\n",
    "for sentence in generate(CFG.fromstring(cfg_grammar), n=1000):\n",
    "    print(' '.join(sentence))"
   ]
  },
  {
   "cell_type": "code",
   "execution_count": 9,
   "metadata": {},
   "outputs": [
    {
     "name": "stdout",
     "output_type": "stream",
     "text": [
      "bien que |forward|termination|negated|10|Group[48]|PRE-VALIDATION\n"
     ]
    }
   ],
   "source": [
    "from nltk.parse.generate import generate, demo_grammar\n",
    "from nltk import CFG\n",
    "\n",
    "cfg_grammar= \"\"\"\n",
    "S ->  Adverb1 Subordinating_conjunction2 Trigger_Rule\n",
    "Adverb1 -> \"bien\"\n",
    "Subordinating_conjunction2 -> \"que\"\n",
    "Trigger_Rule -> \"|forward|termination|negated|10|Group[48]|PRE-VALIDATION\"\n",
    "\"\"\"\n",
    "\n",
    "for sentence in generate(CFG.fromstring(cfg_grammar), n=1000):\n",
    "    print(' '.join(sentence))"
   ]
  },
  {
   "cell_type": "code",
   "execution_count": 10,
   "metadata": {},
   "outputs": [
    {
     "name": "stdout",
     "output_type": "stream",
     "text": [
      "présenté |forward|termination|historical|10|Group[51]|PRE-VALIDATION\n",
      "présentée |forward|termination|historical|10|Group[51]|PRE-VALIDATION\n"
     ]
    }
   ],
   "source": [
    "from nltk.parse.generate import generate, demo_grammar\n",
    "from nltk import CFG\n",
    "\n",
    "cfg_grammar= \"\"\"\n",
    "S ->  Noun1 Trigger_Rule\n",
    "Noun1 -> \"présenté\" | \"présentée\"\n",
    "Trigger_Rule -> \"|forward|termination|historical|10|Group[51]|PRE-VALIDATION\"\n",
    "\"\"\"\n",
    "\n",
    "for sentence in generate(CFG.fromstring(cfg_grammar), n=1000):\n",
    "    print(' '.join(sentence))"
   ]
  },
  {
   "cell_type": "code",
   "execution_count": 11,
   "metadata": {},
   "outputs": [
    {
     "name": "stdout",
     "output_type": "stream",
     "text": [
      "présenté |forward|termination|negated|10|Group[49]|PRE-VALIDATION\n",
      "présentée |forward|termination|negated|10|Group[49]|PRE-VALIDATION\n"
     ]
    }
   ],
   "source": [
    "from nltk.parse.generate import generate, demo_grammar\n",
    "from nltk import CFG\n",
    "\n",
    "cfg_grammar= \"\"\"\n",
    "S ->  Adjective1 Trigger_Rule\n",
    "Adjective1 -> \"présenté\" | \"présentée\"\n",
    "Trigger_Rule -> \"|forward|termination|negated|10|Group[49]|PRE-VALIDATION\"\n",
    "\"\"\"\n",
    "\n",
    "for sentence in generate(CFG.fromstring(cfg_grammar), n=1000):\n",
    "    print(' '.join(sentence))"
   ]
  },
  {
   "cell_type": "code",
   "execution_count": 12,
   "metadata": {},
   "outputs": [
    {
     "name": "stdout",
     "output_type": "stream",
     "text": [
      "et \\w+ \\w+ montre |forward|termination|negated|10|Group[53]|PRE-VALIDATION\n",
      "et \\w+ \\w+ démontrer |forward|termination|negated|10|Group[53]|PRE-VALIDATION\n",
      "et \\w+ \\w+ signale |forward|termination|negated|10|Group[53]|PRE-VALIDATION\n",
      "et \\w+ montre |forward|termination|negated|10|Group[53]|PRE-VALIDATION\n",
      "et \\w+ démontrer |forward|termination|negated|10|Group[53]|PRE-VALIDATION\n",
      "et \\w+ signale |forward|termination|negated|10|Group[53]|PRE-VALIDATION\n"
     ]
    }
   ],
   "source": [
    "from nltk.parse.generate import generate, demo_grammar\n",
    "from nltk import CFG\n",
    "\n",
    "\n",
    "cfg_grammar= \"\"\"\n",
    "S ->  Coordinating_conjunction1 Adjective2 Noun8 Trigger_Rule\n",
    "Coordinating_conjunction1 -> \"et\"\n",
    "Adjective2 -> \"\\\\w+ \\\\w+\" | \"\\\\w+\"\n",
    "Noun8 -> \"montre\" | \"démontrer\" | \"signale\" \n",
    "Trigger_Rule -> \"|forward|termination|negated|10|Group[53]|PRE-VALIDATION\"\n",
    "\"\"\"\n",
    "\n",
    "for sentence in generate(CFG.fromstring(cfg_grammar), n=1000):\n",
    "    print(' '.join(sentence))"
   ]
  },
  {
   "cell_type": "code",
   "execution_count": 13,
   "metadata": {},
   "outputs": [
    {
     "name": "stdout",
     "output_type": "stream",
     "text": [
      "et a fait |forward|termination|negated|10|Group[59]|PRE-VALIDATION\n"
     ]
    }
   ],
   "source": [
    "from nltk.parse.generate import generate, demo_grammar\n",
    "from nltk import CFG\n",
    "\n",
    "cfg_grammar= \"\"\"\n",
    "S ->  Coordinating_conjunction1 Auxiliary2 Verb3 Trigger_Rule\n",
    "Coordinating_conjunction1 -> \"et\"\n",
    "Auxiliary2 -> \"a\"\n",
    "Verb3 -> \"fait\"\n",
    "Trigger_Rule -> \"|forward|termination|negated|10|Group[59]|PRE-VALIDATION\"\n",
    "\"\"\"\n",
    "\n",
    "for sentence in generate(CFG.fromstring(cfg_grammar), n=1000):\n",
    "    print(' '.join(sentence))"
   ]
  },
  {
   "cell_type": "code",
   "execution_count": 14,
   "metadata": {},
   "outputs": [
    {
     "name": "stdout",
     "output_type": "stream",
     "text": [
      "et il avait |forward|termination|negated|10|Group[60]|PRE-VALIDATION\n"
     ]
    }
   ],
   "source": [
    "from nltk.parse.generate import generate, demo_grammar\n",
    "from nltk import CFG\n",
    "\n",
    "cfg_grammar= \"\"\"\n",
    "S ->  Coordinating_conjunction1 Pronoun2 Auxiliary3 Trigger_Rule\n",
    "Coordinating_conjunction1 -> \"et\"\n",
    "Pronoun2 -> \"il\"\n",
    "Auxiliary3 -> \"avait\"\n",
    "Trigger_Rule -> \"|forward|termination|negated|10|Group[60]|PRE-VALIDATION\"\n",
    "\"\"\"\n",
    "\n",
    "for sentence in generate(CFG.fromstring(cfg_grammar), n=1000):\n",
    "    print(' '.join(sentence))"
   ]
  },
  {
   "cell_type": "code",
   "execution_count": 15,
   "metadata": {},
   "outputs": [
    {
     "name": "stdout",
     "output_type": "stream",
     "text": [
      "et il a été noté pour avoir |forward|termination|negated|10|Group[61]|PRE-VALIDATION\n",
      "et il a été constaté pour avoir |forward|termination|negated|10|Group[61]|PRE-VALIDATION\n",
      "et il a été relevé pour avoir |forward|termination|negated|10|Group[61]|PRE-VALIDATION\n",
      "et il a été remarqué pour avoir |forward|termination|negated|10|Group[61]|PRE-VALIDATION\n",
      "et il a été observé pour avoir |forward|termination|negated|10|Group[61]|PRE-VALIDATION\n",
      "et il a été consigné pour avoir |forward|termination|negated|10|Group[61]|PRE-VALIDATION\n",
      "et il a été communiqué pour avoir |forward|termination|negated|10|Group[61]|PRE-VALIDATION\n",
      "et il a été qualité pour avoir |forward|termination|negated|10|Group[61]|PRE-VALIDATION\n",
      "et il a été transcrit pour avoir |forward|termination|negated|10|Group[61]|PRE-VALIDATION\n",
      "et il a été classé pour avoir |forward|termination|negated|10|Group[61]|PRE-VALIDATION\n",
      "et il a été évalué pour avoir |forward|termination|negated|10|Group[61]|PRE-VALIDATION\n",
      "et il a été étiqueté pour avoir |forward|termination|negated|10|Group[61]|PRE-VALIDATION\n",
      "et il a été estimé pour avoir |forward|termination|negated|10|Group[61]|PRE-VALIDATION\n",
      "et il a été mentionné pour avoir |forward|termination|negated|10|Group[61]|PRE-VALIDATION\n",
      "et il a été coché pour avoir |forward|termination|negated|10|Group[61]|PRE-VALIDATION\n"
     ]
    }
   ],
   "source": [
    "from nltk.parse.generate import generate, demo_grammar\n",
    "from nltk import CFG\n",
    "\n",
    "cfg_grammar= \"\"\"\n",
    "S ->  Coordinating_conjunction1 Pronoun2 Auxiliary3 Auxiliary4 Verb5 Adposition6 Verb7 Trigger_Rule\n",
    "Coordinating_conjunction1 -> \"et\"\n",
    "Pronoun2 -> \"il\"\n",
    "Auxiliary3 -> \"a\"\n",
    "Auxiliary4 -> \"été\"\n",
    "Verb5 -> \"noté\" | \"constaté\" | \"relevé\" | \"remarqué\" | \"observé\" | \"consigné\" | \"communiqué\" | \"qualité\" | \"transcrit\" | \"classé\" | \"évalué\" | \"étiqueté\" | \"estimé\" | \"mentionné\" | \"coché\"\n",
    "Adposition6 -> \"pour\"\n",
    "Verb7 -> \"avoir\"\n",
    "Trigger_Rule -> \"|forward|termination|negated|10|Group[61]|PRE-VALIDATION\"\n",
    "\"\"\"\n",
    "\n",
    "for sentence in generate(CFG.fromstring(cfg_grammar), n=1000):\n",
    "    print(' '.join(sentence))"
   ]
  },
  {
   "cell_type": "code",
   "execution_count": 16,
   "metadata": {},
   "outputs": [
    {
     "name": "stdout",
     "output_type": "stream",
     "text": [
      "et il était |forward|termination|negated|10|Group[62]|PRE-VALIDATION\n"
     ]
    }
   ],
   "source": [
    "from nltk.parse.generate import generate, demo_grammar\n",
    "from nltk import CFG\n",
    "\n",
    "cfg_grammar= \"\"\"\n",
    "S ->  Coordinating_conjunction1 Pronoun2 Auxiliary3 Trigger_Rule\n",
    "Coordinating_conjunction1 -> \"et\"\n",
    "Pronoun2 -> \"il\"\n",
    "Auxiliary3 -> \"était\"\n",
    "Trigger_Rule -> \"|forward|termination|negated|10|Group[62]|PRE-VALIDATION\"\n",
    "\"\"\"\n",
    "\n",
    "for sentence in generate(CFG.fromstring(cfg_grammar), n=1000):\n",
    "    print(' '.join(sentence))"
   ]
  },
  {
   "cell_type": "code",
   "execution_count": 17,
   "metadata": {},
   "outputs": [
    {
     "name": "stdout",
     "output_type": "stream",
     "text": [
      "et noté d' avoir |forward|termination|negated|10|Group[63]|PRE-VALIDATION\n",
      "et constaté d' avoir |forward|termination|negated|10|Group[63]|PRE-VALIDATION\n",
      "et relevé d' avoir |forward|termination|negated|10|Group[63]|PRE-VALIDATION\n",
      "et remarqué d' avoir |forward|termination|negated|10|Group[63]|PRE-VALIDATION\n",
      "et observé d' avoir |forward|termination|negated|10|Group[63]|PRE-VALIDATION\n",
      "et consigné d' avoir |forward|termination|negated|10|Group[63]|PRE-VALIDATION\n",
      "et communiqué d' avoir |forward|termination|negated|10|Group[63]|PRE-VALIDATION\n",
      "et qualité d' avoir |forward|termination|negated|10|Group[63]|PRE-VALIDATION\n",
      "et transcrit d' avoir |forward|termination|negated|10|Group[63]|PRE-VALIDATION\n",
      "et classé d' avoir |forward|termination|negated|10|Group[63]|PRE-VALIDATION\n",
      "et évalué d' avoir |forward|termination|negated|10|Group[63]|PRE-VALIDATION\n",
      "et étiqueté d' avoir |forward|termination|negated|10|Group[63]|PRE-VALIDATION\n",
      "et estimé d' avoir |forward|termination|negated|10|Group[63]|PRE-VALIDATION\n",
      "et mentionné d' avoir |forward|termination|negated|10|Group[63]|PRE-VALIDATION\n",
      "et coché d' avoir |forward|termination|negated|10|Group[63]|PRE-VALIDATION\n"
     ]
    }
   ],
   "source": [
    "from nltk.parse.generate import generate, demo_grammar\n",
    "from nltk import CFG\n",
    "\n",
    "cfg_grammar= \"\"\"\n",
    "S ->  Coordinating_conjunction1 Verb2 Adposition3 Verb4 Trigger_Rule\n",
    "Coordinating_conjunction1 -> \"et\"\n",
    "Verb2 -> \"noté\" | \"constaté\" | \"relevé\" | \"remarqué\" | \"observé\" | \"consigné\" | \"communiqué\" | \"qualité\" | \"transcrit\" | \"classé\" | \"évalué\" | \"étiqueté\" | \"estimé\" | \"mentionné\" | \"coché\"\n",
    "Adposition3 -> \"d'\"\n",
    "Verb4 -> \"avoir\"\n",
    "Trigger_Rule -> \"|forward|termination|negated|10|Group[63]|PRE-VALIDATION\"\n",
    "\"\"\"\n",
    "\n",
    "for sentence in generate(CFG.fromstring(cfg_grammar), n=1000):\n",
    "    print(' '.join(sentence))"
   ]
  },
  {
   "cell_type": "code",
   "execution_count": 18,
   "metadata": {},
   "outputs": [
    {
     "name": "stdout",
     "output_type": "stream",
     "text": [
      "et elle avait |forward|termination|negated|10|Group[64]|PRE-VALIDATION\n"
     ]
    }
   ],
   "source": [
    "from nltk.parse.generate import generate, demo_grammar\n",
    "from nltk import CFG\n",
    "\n",
    "cfg_grammar= \"\"\"\n",
    "S ->  Coordinating_conjunction1 Pronoun2 Auxiliary3 Trigger_Rule\n",
    "Coordinating_conjunction1 -> \"et\"\n",
    "Pronoun2 -> \"elle\"\n",
    "Auxiliary3 -> \"avait\"\n",
    "Trigger_Rule -> \"|forward|termination|negated|10|Group[64]|PRE-VALIDATION\"\n",
    "\"\"\"\n",
    "\n",
    "for sentence in generate(CFG.fromstring(cfg_grammar), n=1000):\n",
    "    print(' '.join(sentence))"
   ]
  },
  {
   "cell_type": "code",
   "execution_count": 19,
   "metadata": {},
   "outputs": [
    {
     "name": "stdout",
     "output_type": "stream",
     "text": [
      "et elle a été notée pour avoir |forward|termination|negated|10|Group[65]|PRE-VALIDATION\n",
      "et elle a été observer pour avoir |forward|termination|negated|10|Group[65]|PRE-VALIDATION\n",
      "et elle a été relever pour avoir |forward|termination|negated|10|Group[65]|PRE-VALIDATION\n",
      "et elle a été mentionner pour avoir |forward|termination|negated|10|Group[65]|PRE-VALIDATION\n",
      "et elle a été annoter pour avoir |forward|termination|negated|10|Group[65]|PRE-VALIDATION\n",
      "et elle a été constater pour avoir |forward|termination|negated|10|Group[65]|PRE-VALIDATION\n",
      "et elle a été souligner pour avoir |forward|termination|negated|10|Group[65]|PRE-VALIDATION\n",
      "et elle a été étiqueter pour avoir |forward|termination|negated|10|Group[65]|PRE-VALIDATION\n",
      "et elle a été évaluer pour avoir |forward|termination|negated|10|Group[65]|PRE-VALIDATION\n",
      "et elle a été classer pour avoir |forward|termination|negated|10|Group[65]|PRE-VALIDATION\n",
      "et elle a été juger pour avoir |forward|termination|negated|10|Group[65]|PRE-VALIDATION\n",
      "et elle a été commenter pour avoir |forward|termination|negated|10|Group[65]|PRE-VALIDATION\n"
     ]
    }
   ],
   "source": [
    "from nltk.parse.generate import generate, demo_grammar\n",
    "from nltk import CFG\n",
    "\n",
    "cfg_grammar= \"\"\"\n",
    "S ->  Coordinating_conjunction1 Pronoun2 Auxiliary3 Auxiliary4 Verb5 Adposition6 Verb7 Trigger_Rule\n",
    "Coordinating_conjunction1 -> \"et\"\n",
    "Pronoun2 -> \"elle\"\n",
    "Auxiliary3 -> \"a\"\n",
    "Auxiliary4 -> \"été\"\n",
    "Verb5 -> \"notée\" | \"observer\" | \"relever\" | \"mentionner\" | \"annoter\" | \"constater\" | \"souligner\" | \"étiqueter\" | \"évaluer\" | \"classer\" | \"juger\" | \"commenter\"\n",
    "Adposition6 -> \"pour\"\n",
    "Verb7 -> \"avoir\"\n",
    "Trigger_Rule -> \"|forward|termination|negated|10|Group[65]|PRE-VALIDATION\"\n",
    "\"\"\"\n",
    "\n",
    "for sentence in generate(CFG.fromstring(cfg_grammar), n=1000):\n",
    "    print(' '.join(sentence))"
   ]
  },
  {
   "cell_type": "code",
   "execution_count": 20,
   "metadata": {},
   "outputs": [
    {
     "name": "stdout",
     "output_type": "stream",
     "text": [
      "et elle était |forward|termination|negated|10|Group[66]|PRE-VALIDATION\n"
     ]
    }
   ],
   "source": [
    "from nltk.parse.generate import generate, demo_grammar\n",
    "from nltk import CFG\n",
    "\n",
    "\n",
    "cfg_grammar= \"\"\"\n",
    "S ->  Coordinating_conjunction1 Pronoun2 Auxiliary3 Trigger_Rule\n",
    "Coordinating_conjunction1 -> \"et\"\n",
    "Pronoun2 -> \"elle\"\n",
    "Auxiliary3 -> \"était\"\n",
    "Trigger_Rule -> \"|forward|termination|negated|10|Group[66]|PRE-VALIDATION\"\n",
    "\"\"\"\n",
    "\n",
    "for sentence in generate(CFG.fromstring(cfg_grammar), n=1000):\n",
    "    print(' '.join(sentence))"
   ]
  },
  {
   "cell_type": "code",
   "execution_count": 21,
   "metadata": {},
   "outputs": [
    {
     "name": "stdout",
     "output_type": "stream",
     "text": [
      "et le patient avait |forward|termination|negated|10|Group[67]|PRE-VALIDATION\n",
      "et le client avait |forward|termination|negated|10|Group[67]|PRE-VALIDATION\n",
      "et le souffrant avait |forward|termination|negated|10|Group[67]|PRE-VALIDATION\n",
      "et le sujet avait |forward|termination|negated|10|Group[67]|PRE-VALIDATION\n"
     ]
    }
   ],
   "source": [
    "from nltk.parse.generate import generate, demo_grammar\n",
    "from nltk import CFG\n",
    "\n",
    "cfg_grammar= \"\"\"\n",
    "S ->  Coordinating_conjunction1 Determiner2 Noun3 Auxiliary4 Trigger_Rule\n",
    "Coordinating_conjunction1 -> \"et\"\n",
    "Determiner2 -> \"le\"\n",
    "Noun3 -> \"patient\" | \"client\" | \"souffrant\" | \"sujet\"\n",
    "Auxiliary4 -> \"avait\"\n",
    "Trigger_Rule -> \"|forward|termination|negated|10|Group[67]|PRE-VALIDATION\"\n",
    "\"\"\"\n",
    "\n",
    "for sentence in generate(CFG.fromstring(cfg_grammar), n=1000):\n",
    "    print(' '.join(sentence))"
   ]
  },
  {
   "cell_type": "code",
   "execution_count": 22,
   "metadata": {},
   "outputs": [
    {
     "name": "stdout",
     "output_type": "stream",
     "text": [
      "et le patient était |forward|termination|negated|10|Group[68]|PRE-VALIDATION\n",
      "et le client était |forward|termination|negated|10|Group[68]|PRE-VALIDATION\n",
      "et le souffrant était |forward|termination|negated|10|Group[68]|PRE-VALIDATION\n",
      "et le sujet était |forward|termination|negated|10|Group[68]|PRE-VALIDATION\n"
     ]
    }
   ],
   "source": [
    "from nltk.parse.generate import generate, demo_grammar\n",
    "from nltk import CFG\n",
    "\n",
    "cfg_grammar= \"\"\"\n",
    "S ->  Coordinating_conjunction1 Determiner2 Noun3 Auxiliary4 Trigger_Rule\n",
    "Coordinating_conjunction1 -> \"et\"\n",
    "Determiner2 -> \"le\"\n",
    "Noun3 -> \"patient\" | \"client\" | \"souffrant\" | \"sujet\"\n",
    "Auxiliary4 -> \"était\"\n",
    "Trigger_Rule -> \"|forward|termination|negated|10|Group[68]|PRE-VALIDATION\"\n",
    "\"\"\"\n",
    "\n",
    "for sentence in generate(CFG.fromstring(cfg_grammar), n=1000):\n",
    "    print(' '.join(sentence))"
   ]
  },
  {
   "cell_type": "code",
   "execution_count": 23,
   "metadata": {},
   "outputs": [
    {
     "name": "stdout",
     "output_type": "stream",
     "text": [
      "et avec seulement |forward|termination|negated|10|Group[69]|PRE-VALIDATION\n"
     ]
    }
   ],
   "source": [
    "from nltk.parse.generate import generate, demo_grammar\n",
    "from nltk import CFG\n",
    "\n",
    "cfg_grammar= \"\"\"\n",
    "S ->  Coordinating_conjunction1 Adposition2 Adverb3 Trigger_Rule\n",
    "Coordinating_conjunction1 -> \"et\"\n",
    "Adposition2 -> \"avec\"\n",
    "Adverb3 -> \"seulement\"\n",
    "Trigger_Rule -> \"|forward|termination|negated|10|Group[69]|PRE-VALIDATION\"\n",
    "\"\"\"\n",
    "\n",
    "for sentence in generate(CFG.fromstring(cfg_grammar), n=1000):\n",
    "    print(' '.join(sentence))"
   ]
  },
  {
   "cell_type": "code",
   "execution_count": 24,
   "metadata": {},
   "outputs": [
    {
     "name": "stdout",
     "output_type": "stream",
     "text": [
      "tout autre |forward|trigger|negated|10|Group[71]|PRE-VALIDATION\n"
     ]
    }
   ],
   "source": [
    "from nltk.parse.generate import generate, demo_grammar\n",
    "from nltk import CFG\n",
    "\n",
    "cfg_grammar= \"\"\"\n",
    "S ->  Adverb1 Adjective2 Trigger_Rule\n",
    "Adverb1 -> \"tout\"\n",
    "Adjective2 -> \"autre\"\n",
    "Trigger_Rule -> \"|forward|trigger|negated|10|Group[71]|PRE-VALIDATION\"\n",
    "\"\"\"\n",
    "\n",
    "for sentence in generate(CFG.fromstring(cfg_grammar), n=1000):\n",
    "    print(' '.join(sentence))"
   ]
  },
  {
   "cell_type": "code",
   "execution_count": 25,
   "metadata": {},
   "outputs": [
    {
     "name": "stdout",
     "output_type": "stream",
     "text": [
      "#tout |forward|trigger|negated|13|Group[72]|PRE-VALIDATION\n"
     ]
    }
   ],
   "source": [
    "from nltk.parse.generate import generate, demo_grammar\n",
    "from nltk import CFG\n",
    "\n",
    "cfg_grammar= \"\"\"\n",
    "S ->  Noun1 Trigger_Rule\n",
    "Noun1 -> \"#tout\"\n",
    "Trigger_Rule -> \"|forward|trigger|negated|13|Group[72]|PRE-VALIDATION\"\n",
    "\"\"\"\n",
    "\n",
    "for sentence in generate(CFG.fromstring(cfg_grammar), n=1000):\n",
    "    print(' '.join(sentence))"
   ]
  },
  {
   "cell_type": "code",
   "execution_count": 26,
   "metadata": {},
   "outputs": [
    {
     "name": "stdout",
     "output_type": "stream",
     "text": [
      "excepté |forward|termination|negated|10|Group[73]|PRE-VALIDATION\n"
     ]
    }
   ],
   "source": [
    "from nltk.parse.generate import generate, demo_grammar\n",
    "from nltk import CFG\n",
    "\n",
    "cfg_grammar= \"\"\"\n",
    "S ->  Adposition1 Trigger_Rule\n",
    "Adposition1 -> \"excepté\"\n",
    "Trigger_Rule -> \"|forward|termination|negated|10|Group[73]|PRE-VALIDATION\"\n",
    "\"\"\"\n",
    "\n",
    "for sentence in generate(CFG.fromstring(cfg_grammar), n=1000):\n",
    "    print(' '.join(sentence))"
   ]
  },
  {
   "cell_type": "code",
   "execution_count": 27,
   "metadata": {},
   "outputs": [
    {
     "name": "stdout",
     "output_type": "stream",
     "text": [
      "semble |forward|trigger|uncertain|30|Group[74]|PRE-VALIDATION\n"
     ]
    }
   ],
   "source": [
    "from nltk.parse.generate import generate, demo_grammar\n",
    "from nltk import CFG\n",
    "\n",
    "cfg_grammar= \"\"\"\n",
    "S ->  Adjective1 Trigger_Rule\n",
    "Adjective1 -> \"semble\"\n",
    "Trigger_Rule -> \"|forward|trigger|uncertain|30|Group[74]|PRE-VALIDATION\"\n",
    "\"\"\"\n",
    "\n",
    "for sentence in generate(CFG.fromstring(cfg_grammar), n=1000):\n",
    "    print(' '.join(sentence))"
   ]
  },
  {
   "cell_type": "code",
   "execution_count": 28,
   "metadata": {},
   "outputs": [
    {
     "name": "stdout",
     "output_type": "stream",
     "text": [
      "sont négatifs |backward|trigger|negated|10|Group[75]|PRE-VALIDATION\n"
     ]
    }
   ],
   "source": [
    "from nltk.parse.generate import generate, demo_grammar\n",
    "from nltk import CFG\n",
    "\n",
    "cfg_grammar= \"\"\"\n",
    "S ->  Auxiliary1 Adjective2 Trigger_Rule\n",
    "Auxiliary1 -> \"sont\"\n",
    "Adjective2 -> \"négatifs\"\n",
    "Trigger_Rule -> \"|backward|trigger|negated|10|Group[75]|PRE-VALIDATION\"\n",
    "\"\"\"\n",
    "\n",
    "for sentence in generate(CFG.fromstring(cfg_grammar), n=1000):\n",
    "    print(' '.join(sentence))"
   ]
  },
  {
   "cell_type": "code",
   "execution_count": 29,
   "metadata": {},
   "outputs": [
    {
     "name": "stdout",
     "output_type": "stream",
     "text": [
      "ne sont plus |backward|trigger|negated|10|Group[77]|PRE-VALIDATION\n"
     ]
    }
   ],
   "source": [
    "from nltk.parse.generate import generate, demo_grammar\n",
    "from nltk import CFG\n",
    "\n",
    "cfg_grammar= \"\"\"\n",
    "S ->  Adverb1 Auxiliary2 Adverb3 Trigger_Rule\n",
    "Adverb1 -> \"ne\"\n",
    "Auxiliary2 -> \"sont\"\n",
    "Adverb3 -> \"plus\"\n",
    "Trigger_Rule -> \"|backward|trigger|negated|10|Group[77]|PRE-VALIDATION\"\n",
    "\"\"\"\n",
    "\n",
    "for sentence in generate(CFG.fromstring(cfg_grammar), n=1000):\n",
    "    print(' '.join(sentence))"
   ]
  },
  {
   "cell_type": "code",
   "execution_count": 30,
   "metadata": {},
   "outputs": [
    {
     "name": "stdout",
     "output_type": "stream",
     "text": [
      "sont exclus |backward|trigger|negated|10|Group[79]|PRE-VALIDATION\n"
     ]
    }
   ],
   "source": [
    "from nltk.parse.generate import generate, demo_grammar\n",
    "from nltk import CFG\n",
    "\n",
    "cfg_grammar= \"\"\"\n",
    "S ->  Auxiliary1 Adjective2 Trigger_Rule\n",
    "Auxiliary1 -> \"sont\"\n",
    "Adjective2 -> \"exclus\"\n",
    "Trigger_Rule -> \"|backward|trigger|negated|10|Group[79]|PRE-VALIDATION\"\n",
    "\"\"\"\n",
    "\n",
    "for sentence in generate(CFG.fromstring(cfg_grammar), n=1000):\n",
    "    print(' '.join(sentence))"
   ]
  },
  {
   "cell_type": "code",
   "execution_count": 31,
   "metadata": {},
   "outputs": [
    {
     "name": "stdout",
     "output_type": "stream",
     "text": [
      "sont arrêtés |backward|trigger|negated|10|Group[81]|PRE-VALIDATION\n",
      "sont stopper |backward|trigger|negated|10|Group[81]|PRE-VALIDATION\n",
      "sont enrayer |backward|trigger|negated|10|Group[81]|PRE-VALIDATION\n",
      "sont contenir |backward|trigger|negated|10|Group[81]|PRE-VALIDATION\n",
      "sont suspendre |backward|trigger|negated|10|Group[81]|PRE-VALIDATION\n",
      "sont juguler |backward|trigger|negated|10|Group[81]|PRE-VALIDATION\n",
      "sont terminer |backward|trigger|negated|10|Group[81]|PRE-VALIDATION\n",
      "sont immobiliser |backward|trigger|negated|10|Group[81]|PRE-VALIDATION\n",
      "sont finir |backward|trigger|negated|10|Group[81]|PRE-VALIDATION\n",
      "sont endiguer |backward|trigger|negated|10|Group[81]|PRE-VALIDATION\n",
      "sont cesser |backward|trigger|negated|10|Group[81]|PRE-VALIDATION\n",
      "sont barrer |backward|trigger|negated|10|Group[81]|PRE-VALIDATION\n",
      "sont empêcher |backward|trigger|negated|10|Group[81]|PRE-VALIDATION\n",
      "sont geler |backward|trigger|negated|10|Group[81]|PRE-VALIDATION\n",
      "sont couper |backward|trigger|negated|10|Group[81]|PRE-VALIDATION\n"
     ]
    }
   ],
   "source": [
    "from nltk.parse.generate import generate, demo_grammar\n",
    "from nltk import CFG\n",
    "\n",
    "cfg_grammar= \"\"\"\n",
    "S ->  Auxiliary1 Verb2 Trigger_Rule\n",
    "Auxiliary1 -> \"sont\"\n",
    "Verb2 -> \"arrêtés\" | \"stopper\" | \"enrayer\" | \"contenir\" | \"suspendre\" | \"juguler\" | \"terminer\" | \"immobiliser\" | \"finir\" | \"endiguer\" | \"cesser\" | \"barrer\" | \"empêcher\" | \"geler\" | \"couper\"\n",
    "Trigger_Rule -> \"|backward|trigger|negated|10|Group[81]|PRE-VALIDATION\"\n",
    "\"\"\"\n",
    "\n",
    "for sentence in generate(CFG.fromstring(cfg_grammar), n=1000):\n",
    "    print(' '.join(sentence))"
   ]
  },
  {
   "cell_type": "code",
   "execution_count": 32,
   "metadata": {},
   "outputs": [
    {
     "name": "stdout",
     "output_type": "stream",
     "text": [
      "comme origine de |forward|termination|negated|10|Group[84]|PRE-VALIDATION\n",
      "comme origine pour |forward|termination|negated|10|Group[84]|PRE-VALIDATION\n",
      "comme début de |forward|termination|negated|10|Group[84]|PRE-VALIDATION\n",
      "comme début pour |forward|termination|negated|10|Group[84]|PRE-VALIDATION\n",
      "comme commencement de |forward|termination|negated|10|Group[84]|PRE-VALIDATION\n",
      "comme commencement pour |forward|termination|negated|10|Group[84]|PRE-VALIDATION\n",
      "comme provenance de |forward|termination|negated|10|Group[84]|PRE-VALIDATION\n",
      "comme provenance pour |forward|termination|negated|10|Group[84]|PRE-VALIDATION\n",
      "comme cause de |forward|termination|negated|10|Group[84]|PRE-VALIDATION\n",
      "comme cause pour |forward|termination|negated|10|Group[84]|PRE-VALIDATION\n",
      "comme formation de |forward|termination|negated|10|Group[84]|PRE-VALIDATION\n",
      "comme formation pour |forward|termination|negated|10|Group[84]|PRE-VALIDATION\n",
      "comme base de |forward|termination|negated|10|Group[84]|PRE-VALIDATION\n",
      "comme base pour |forward|termination|negated|10|Group[84]|PRE-VALIDATION\n",
      "comme fondement de |forward|termination|negated|10|Group[84]|PRE-VALIDATION\n",
      "comme fondement pour |forward|termination|negated|10|Group[84]|PRE-VALIDATION\n",
      "comme prédéterminant de |forward|termination|negated|10|Group[84]|PRE-VALIDATION\n",
      "comme prédéterminant pour |forward|termination|negated|10|Group[84]|PRE-VALIDATION\n",
      "comme raison de |forward|termination|negated|10|Group[84]|PRE-VALIDATION\n",
      "comme raison pour |forward|termination|negated|10|Group[84]|PRE-VALIDATION\n",
      "comme départ de |forward|termination|negated|10|Group[84]|PRE-VALIDATION\n",
      "comme départ pour |forward|termination|negated|10|Group[84]|PRE-VALIDATION\n"
     ]
    }
   ],
   "source": [
    "from nltk.parse.generate import generate, demo_grammar\n",
    "from nltk import CFG\n",
    "\n",
    "cfg_grammar= \"\"\"\n",
    "S ->  Adposition1 Noun2 Adposition3 Trigger_Rule\n",
    "Adposition1 -> \"comme\"\n",
    "Noun2 -> \"origine\" | \"début\" | \"commencement\" | \"provenance\" | \"cause\" | \"formation\" | \"base\" | \"fondement\" | \"prédéterminant\" | \"raison\" | \"départ\"\n",
    "Adposition3 -> \"de\" | \"pour\"\n",
    "Trigger_Rule -> \"|forward|termination|negated|10|Group[84]|PRE-VALIDATION\"\n",
    "\"\"\"\n",
    "\n",
    "for sentence in generate(CFG.fromstring(cfg_grammar), n=1000):\n",
    "    print(' '.join(sentence))"
   ]
  },
  {
   "cell_type": "code",
   "execution_count": 33,
   "metadata": {},
   "outputs": [
    {
     "name": "stdout",
     "output_type": "stream",
     "text": [
      "comme une étiologie de |forward|termination|negated|10|Group[84]|PRE-VALIDATION\n",
      "comme une étiologie de |forward|termination|negated|10|Group[84]|PRE-VALIDATION\n",
      "comme une étiopathie de |forward|termination|negated|10|Group[84]|PRE-VALIDATION\n",
      "comme une causalité de |forward|termination|negated|10|Group[84]|PRE-VALIDATION\n"
     ]
    }
   ],
   "source": [
    "from nltk.parse.generate import generate, demo_grammar\n",
    "from nltk import CFG\n",
    "\n",
    "#  Item Number     : 62\n",
    "#  French Term     : comme une étiologie de\n",
    "#  English Term(s) : ['as a etiology of', 'as an etiology of']\n",
    "#  Index(es)       : [120, 136]\n",
    "#  Grouping(s)     : [84]\n",
    "\n",
    "\n",
    "cfg_grammar= \"\"\"\n",
    "S ->  Adposition1 Determiner2 Noun3 Adposition4 Trigger_Rule\n",
    "Adposition1 -> \"comme\"\n",
    "Determiner2 -> \"une\"\n",
    "Noun3 -> \"étiologie\" | \"étiologie\" | \"étiopathie\" | \"causalité\"\n",
    "Adposition4 -> \"de\"\n",
    "Trigger_Rule -> \"|forward|termination|negated|10|Group[84]|PRE-VALIDATION\"\n",
    "\"\"\"\n",
    "\n",
    "for sentence in generate(CFG.fromstring(cfg_grammar), n=1000):\n",
    "    print(' '.join(sentence))"
   ]
  },
  {
   "cell_type": "code",
   "execution_count": 34,
   "metadata": {},
   "outputs": [
    {
     "name": "stdout",
     "output_type": "stream",
     "text": [
      "comme source de |forward|termination|negated|10|Group[84]|PRE-VALIDATION\n",
      "comme provenance de |forward|termination|negated|10|Group[84]|PRE-VALIDATION\n",
      "comme commencement de |forward|termination|negated|10|Group[84]|PRE-VALIDATION\n",
      "comme cause de |forward|termination|negated|10|Group[84]|PRE-VALIDATION\n",
      "comme fondement de |forward|termination|negated|10|Group[84]|PRE-VALIDATION\n",
      "comme début de |forward|termination|negated|10|Group[84]|PRE-VALIDATION\n",
      "comme point de départ de |forward|termination|negated|10|Group[84]|PRE-VALIDATION\n",
      "comme source de |forward|termination|negated|10|Group[84]|PRE-VALIDATION\n",
      "comme départ de |forward|termination|negated|10|Group[84]|PRE-VALIDATION\n"
     ]
    }
   ],
   "source": [
    "from nltk.parse.generate import generate, demo_grammar\n",
    "from nltk import CFG\n",
    "\n",
    "cfg_grammar= \"\"\"\n",
    "S ->  Adposition1 Noun2 Adposition3 Trigger_Rule\n",
    "Adposition1 -> \"comme\"\n",
    "Noun2 -> \"source\" | \"provenance\" | \"commencement\" | \"cause\" | \"fondement\" | \"début\" | \"point de départ\" | \"source\" | \"départ\"\n",
    "Adposition3 -> \"de\"\n",
    "Trigger_Rule -> \"|forward|termination|negated|10|Group[84]|PRE-VALIDATION\"\n",
    "\"\"\"\n",
    "\n",
    "for sentence in generate(CFG.fromstring(cfg_grammar), n=1000):\n",
    "    print(' '.join(sentence))"
   ]
  },
  {
   "cell_type": "code",
   "execution_count": 35,
   "metadata": {},
   "outputs": [
    {
     "name": "stdout",
     "output_type": "stream",
     "text": [
      "comme cause de |forward|termination|negated|10|Group[84]|PRE-VALIDATION\n",
      "comme raison de |forward|termination|negated|10|Group[84]|PRE-VALIDATION\n",
      "comme prétexte de |forward|termination|negated|10|Group[84]|PRE-VALIDATION\n",
      "comme fondement de |forward|termination|negated|10|Group[84]|PRE-VALIDATION\n",
      "comme source de |forward|termination|negated|10|Group[84]|PRE-VALIDATION\n",
      "comme intention de |forward|termination|negated|10|Group[84]|PRE-VALIDATION\n",
      "comme origine de |forward|termination|negated|10|Group[84]|PRE-VALIDATION\n",
      "comme but de |forward|termination|negated|10|Group[84]|PRE-VALIDATION\n",
      "comme déclencheur de |forward|termination|negated|10|Group[84]|PRE-VALIDATION\n",
      "comme départ de |forward|termination|negated|10|Group[84]|PRE-VALIDATION\n"
     ]
    }
   ],
   "source": [
    "from nltk.parse.generate import generate, demo_grammar\n",
    "from nltk import CFG\n",
    "\n",
    "cfg_grammar= \"\"\"\n",
    "S ->  Adposition1 Noun2 Adposition3 Trigger_Rule\n",
    "Adposition1 -> \"comme\"\n",
    "Noun2 -> \"cause\" | \"raison\" | \"prétexte\" | \"fondement\" | \"source\" | \"intention\" | \"origine\" | \"but\" | \"déclencheur\" | \"départ\"\n",
    "Adposition3 -> \"de\"\n",
    "Trigger_Rule -> \"|forward|termination|negated|10|Group[84]|PRE-VALIDATION\"\n",
    "\"\"\"\n",
    "\n",
    "for sentence in generate(CFG.fromstring(cfg_grammar), n=1000):\n",
    "    print(' '.join(sentence))"
   ]
  },
  {
   "cell_type": "code",
   "execution_count": 36,
   "metadata": {},
   "outputs": [
    {
     "name": "stdout",
     "output_type": "stream",
     "text": [
      "comme une cause pour |forward|termination|negated|10|Group[84]|PRE-VALIDATION\n",
      "comme une raison pour |forward|termination|negated|10|Group[84]|PRE-VALIDATION\n",
      "comme une prétexte pour |forward|termination|negated|10|Group[84]|PRE-VALIDATION\n",
      "comme une fondement pour |forward|termination|negated|10|Group[84]|PRE-VALIDATION\n",
      "comme une source pour |forward|termination|negated|10|Group[84]|PRE-VALIDATION\n",
      "comme une intention pour |forward|termination|negated|10|Group[84]|PRE-VALIDATION\n",
      "comme une origine pour |forward|termination|negated|10|Group[84]|PRE-VALIDATION\n",
      "comme une but pour |forward|termination|negated|10|Group[84]|PRE-VALIDATION\n",
      "comme une déclencheur pour |forward|termination|negated|10|Group[84]|PRE-VALIDATION\n",
      "comme une départ pour |forward|termination|negated|10|Group[84]|PRE-VALIDATION\n"
     ]
    }
   ],
   "source": [
    "from nltk.parse.generate import generate, demo_grammar\n",
    "from nltk import CFG\n",
    "\n",
    "\n",
    "cfg_grammar= \"\"\"\n",
    "S ->  Adposition1 Determiner2 Noun3 Adposition4 Trigger_Rule\n",
    "Adposition1 -> \"comme\"\n",
    "Determiner2 -> \"une\"\n",
    "Noun3 -> \"cause\" | \"raison\" | \"prétexte\" | \"fondement\" | \"source\" | \"intention\" | \"origine\" | \"but\" | \"déclencheur\" | \"départ\"\n",
    "Adposition4 -> \"pour\"\n",
    "Trigger_Rule -> \"|forward|termination|negated|10|Group[84]|PRE-VALIDATION\"\n",
    "\"\"\"\n",
    "\n",
    "for sentence in generate(CFG.fromstring(cfg_grammar), n=1000):\n",
    "    print(' '.join(sentence))"
   ]
  },
  {
   "cell_type": "code",
   "execution_count": 37,
   "metadata": {},
   "outputs": [
    {
     "name": "stdout",
     "output_type": "stream",
     "text": [
      "comme pour |forward|termination|negated|10|Group[84]|PRE-VALIDATION\n"
     ]
    }
   ],
   "source": [
    "from nltk.parse.generate import generate, demo_grammar\n",
    "from nltk import CFG\n",
    "\n",
    "\n",
    "cfg_grammar= \"\"\"\n",
    "S ->  Adposition1 Adposition2 Trigger_Rule\n",
    "Adposition1 -> \"comme\"\n",
    "Adposition2 -> \"pour\"\n",
    "Trigger_Rule -> \"|forward|termination|negated|10|Group[84]|PRE-VALIDATION\"\n",
    "\"\"\"\n",
    "\n",
    "for sentence in generate(CFG.fromstring(cfg_grammar), n=1000):\n",
    "    print(' '.join(sentence))"
   ]
  },
  {
   "cell_type": "code",
   "execution_count": 38,
   "metadata": {},
   "outputs": [
    {
     "name": "stdout",
     "output_type": "stream",
     "text": [
      "comme l'étiologie de |forward|termination|negated|10|Group[84]|PRE-VALIDATION\n",
      "comme l'étiologie de |forward|termination|negated|10|Group[84]|PRE-VALIDATION\n",
      "comme l'étiopathie de |forward|termination|negated|10|Group[84]|PRE-VALIDATION\n",
      "comme la causalité de |forward|termination|negated|10|Group[84]|PRE-VALIDATION\n"
     ]
    }
   ],
   "source": [
    "from nltk.parse.generate import generate, demo_grammar\n",
    "from nltk import CFG\n",
    "\n",
    "cfg_grammar= \"\"\"\n",
    "S ->  Adposition1 Noun3 Adposition4 Trigger_Rule\n",
    "Adposition1 -> \"comme\"\n",
    "Noun3 -> \"l'étiologie\" | \"l'étiologie\" | \"l'étiopathie\" | \"la causalité\"\n",
    "Adposition4 -> \"de\"\n",
    "Trigger_Rule -> \"|forward|termination|negated|10|Group[84]|PRE-VALIDATION\"\n",
    "\"\"\"\n",
    "\n",
    "for sentence in generate(CFG.fromstring(cfg_grammar), n=1000):\n",
    "    print(' '.join(sentence))"
   ]
  },
  {
   "cell_type": "code",
   "execution_count": 39,
   "metadata": {},
   "outputs": [
    {
     "name": "stdout",
     "output_type": "stream",
     "text": [
      "comme origine pour |forward|termination|negated|10|Group[84]|PRE-VALIDATION\n",
      "comme début pour |forward|termination|negated|10|Group[84]|PRE-VALIDATION\n",
      "comme commencement pour |forward|termination|negated|10|Group[84]|PRE-VALIDATION\n",
      "comme provenance pour |forward|termination|negated|10|Group[84]|PRE-VALIDATION\n",
      "comme cause pour |forward|termination|negated|10|Group[84]|PRE-VALIDATION\n",
      "comme formation pour |forward|termination|negated|10|Group[84]|PRE-VALIDATION\n",
      "comme base pour |forward|termination|negated|10|Group[84]|PRE-VALIDATION\n",
      "comme fondement pour |forward|termination|negated|10|Group[84]|PRE-VALIDATION\n",
      "comme prédéterminant pour |forward|termination|negated|10|Group[84]|PRE-VALIDATION\n",
      "comme raison pour |forward|termination|negated|10|Group[84]|PRE-VALIDATION\n",
      "comme départ pour |forward|termination|negated|10|Group[84]|PRE-VALIDATION\n"
     ]
    }
   ],
   "source": [
    "from nltk.parse.generate import generate, demo_grammar\n",
    "from nltk import CFG\n",
    "\n",
    "cfg_grammar= \"\"\"\n",
    "S ->  Adposition1 Noun2 Adposition3 Trigger_Rule\n",
    "Adposition1 -> \"comme\"\n",
    "Noun2 -> \"origine\" | \"début\" | \"commencement\" | \"provenance\" | \"cause\" | \"formation\" | \"base\" | \"fondement\" | \"prédéterminant\" | \"raison\" | \"départ\"\n",
    "Adposition3 -> \"pour\"\n",
    "Trigger_Rule -> \"|forward|termination|negated|10|Group[84]|PRE-VALIDATION\"\n",
    "\"\"\"\n",
    "\n",
    "for sentence in generate(CFG.fromstring(cfg_grammar), n=1000):\n",
    "    print(' '.join(sentence))"
   ]
  },
  {
   "cell_type": "code",
   "execution_count": 40,
   "metadata": {},
   "outputs": [
    {
     "name": "stdout",
     "output_type": "stream",
     "text": [
      "comme raison de |forward|termination|negated|10|Group[84]|PRE-VALIDATION\n",
      "comme cause de |forward|termination|negated|10|Group[84]|PRE-VALIDATION\n",
      "comme pourquoi de |forward|termination|negated|10|Group[84]|PRE-VALIDATION\n",
      "comme mobile de |forward|termination|negated|10|Group[84]|PRE-VALIDATION\n",
      "comme explication de |forward|termination|negated|10|Group[84]|PRE-VALIDATION\n",
      "comme fondement de |forward|termination|negated|10|Group[84]|PRE-VALIDATION\n"
     ]
    }
   ],
   "source": [
    "from nltk.parse.generate import generate, demo_grammar\n",
    "from nltk import CFG\n",
    "\n",
    "\n",
    "cfg_grammar= \"\"\"\n",
    "S ->  Adposition1 Noun2 Adposition3 Trigger_Rule\n",
    "Adposition1 -> \"comme\"\n",
    "Noun2 -> \"raison\" | \"cause\" | \"pourquoi\" | \"mobile\" | \"explication\" | \"fondement\"\n",
    "Adposition3 -> \"de\"\n",
    "Trigger_Rule -> \"|forward|termination|negated|10|Group[84]|PRE-VALIDATION\"\n",
    "\"\"\"\n",
    "\n",
    "for sentence in generate(CFG.fromstring(cfg_grammar), n=1000):\n",
    "    print(' '.join(sentence))"
   ]
  },
  {
   "cell_type": "code",
   "execution_count": 41,
   "metadata": {},
   "outputs": [
    {
     "name": "stdout",
     "output_type": "stream",
     "text": [
      "comme une étiologie pour |forward|termination|negated|10|Group[84]|PRE-VALIDATION\n",
      "comme une étiologie pour |forward|termination|negated|10|Group[84]|PRE-VALIDATION\n",
      "comme une étiopathie pour |forward|termination|negated|10|Group[84]|PRE-VALIDATION\n",
      "comme une causalité pour |forward|termination|negated|10|Group[84]|PRE-VALIDATION\n"
     ]
    }
   ],
   "source": [
    "from nltk.parse.generate import generate, demo_grammar\n",
    "from nltk import CFG\n",
    "\n",
    "\n",
    "cfg_grammar= \"\"\"\n",
    "S ->  Adposition1 Determiner2 Noun3 Adposition4 Trigger_Rule\n",
    "Adposition1 -> \"comme\"\n",
    "Determiner2 -> \"une\"\n",
    "Noun3 -> \"étiologie\" | \"étiologie\" | \"étiopathie\" | \"causalité\"\n",
    "Adposition4 -> \"pour\"\n",
    "Trigger_Rule -> \"|forward|termination|negated|10|Group[84]|PRE-VALIDATION\"\n",
    "\"\"\"\n",
    "\n",
    "for sentence in generate(CFG.fromstring(cfg_grammar), n=1000):\n",
    "    print(' '.join(sentence))"
   ]
  },
  {
   "cell_type": "code",
   "execution_count": 42,
   "metadata": {},
   "outputs": [
    {
     "name": "stdout",
     "output_type": "stream",
     "text": [
      "comme une raison de |forward|termination|negated|10|Group[84]|PRE-VALIDATION\n",
      "comme une cause de |forward|termination|negated|10|Group[84]|PRE-VALIDATION\n",
      "comme une pourquoi de |forward|termination|negated|10|Group[84]|PRE-VALIDATION\n",
      "comme une mobile de |forward|termination|negated|10|Group[84]|PRE-VALIDATION\n",
      "comme une explication de |forward|termination|negated|10|Group[84]|PRE-VALIDATION\n",
      "comme une fondement de |forward|termination|negated|10|Group[84]|PRE-VALIDATION\n"
     ]
    }
   ],
   "source": [
    "from nltk.parse.generate import generate, demo_grammar\n",
    "from nltk import CFG\n",
    "\n",
    "cfg_grammar= \"\"\"\n",
    "S ->  Adposition1 Determiner2 Noun3 Adposition4 Trigger_Rule\n",
    "Adposition1 -> \"comme\"\n",
    "Determiner2 -> \"une\"\n",
    "Noun3 -> \"raison\" | \"cause\" | \"pourquoi\" | \"mobile\" | \"explication\" | \"fondement\"\n",
    "Adposition4 -> \"de\"\n",
    "Trigger_Rule -> \"|forward|termination|negated|10|Group[84]|PRE-VALIDATION\"\n",
    "\"\"\"\n",
    "\n",
    "for sentence in generate(CFG.fromstring(cfg_grammar), n=1000):\n",
    "    print(' '.join(sentence))"
   ]
  },
  {
   "cell_type": "code",
   "execution_count": 43,
   "metadata": {},
   "outputs": [
    {
     "name": "stdout",
     "output_type": "stream",
     "text": [
      "comme origine secondaire de |forward|termination|negated|10|Group[90]|PRE-VALIDATION\n",
      "comme début secondaire de |forward|termination|negated|10|Group[90]|PRE-VALIDATION\n",
      "comme commencement secondaire de |forward|termination|negated|10|Group[90]|PRE-VALIDATION\n",
      "comme provenance secondaire de |forward|termination|negated|10|Group[90]|PRE-VALIDATION\n",
      "comme cause secondaire de |forward|termination|negated|10|Group[90]|PRE-VALIDATION\n",
      "comme formation secondaire de |forward|termination|negated|10|Group[90]|PRE-VALIDATION\n",
      "comme base secondaire de |forward|termination|negated|10|Group[90]|PRE-VALIDATION\n",
      "comme fondement secondaire de |forward|termination|negated|10|Group[90]|PRE-VALIDATION\n",
      "comme prédéterminant secondaire de |forward|termination|negated|10|Group[90]|PRE-VALIDATION\n",
      "comme raison secondaire de |forward|termination|negated|10|Group[90]|PRE-VALIDATION\n",
      "comme départ secondaire de |forward|termination|negated|10|Group[90]|PRE-VALIDATION\n"
     ]
    }
   ],
   "source": [
    "from nltk.parse.generate import generate, demo_grammar\n",
    "from nltk import CFG\n",
    "\n",
    "cfg_grammar= \"\"\"\n",
    "S ->  Adposition1 Noun2 Adjective3 Adposition4 Trigger_Rule\n",
    "Adposition1 -> \"comme\"\n",
    "Noun2 -> \"origine\" | \"début\" | \"commencement\" | \"provenance\" | \"cause\" | \"formation\" | \"base\" | \"fondement\" | \"prédéterminant\" | \"raison\" | \"départ\"\n",
    "Adjective3 -> \"secondaire\"\n",
    "Adposition4 -> \"de\"\n",
    "Trigger_Rule -> \"|forward|termination|negated|10|Group[90]|PRE-VALIDATION\"\n",
    "\"\"\"\n",
    "\n",
    "for sentence in generate(CFG.fromstring(cfg_grammar), n=1000):\n",
    "    print(' '.join(sentence))"
   ]
  },
  {
   "cell_type": "code",
   "execution_count": 44,
   "metadata": {},
   "outputs": [
    {
     "name": "stdout",
     "output_type": "stream",
     "text": [
      "comme raison secondaire de |forward|termination|negated|10|Group[90]|PRE-VALIDATION\n",
      "comme cause secondaire de |forward|termination|negated|10|Group[90]|PRE-VALIDATION\n",
      "comme pourquoi secondaire de |forward|termination|negated|10|Group[90]|PRE-VALIDATION\n",
      "comme mobile secondaire de |forward|termination|negated|10|Group[90]|PRE-VALIDATION\n",
      "comme explication secondaire de |forward|termination|negated|10|Group[90]|PRE-VALIDATION\n",
      "comme fondement secondaire de |forward|termination|negated|10|Group[90]|PRE-VALIDATION\n"
     ]
    }
   ],
   "source": [
    "from nltk.parse.generate import generate, demo_grammar\n",
    "from nltk import CFG\n",
    "\n",
    "cfg_grammar= \"\"\"\n",
    "S ->  Adposition1 Noun2 Adjective3 Adposition4 Trigger_Rule\n",
    "Adposition1 -> \"comme\"\n",
    "Noun2 -> \"raison\" | \"cause\" | \"pourquoi\" | \"mobile\" | \"explication\" | \"fondement\"\n",
    "Adjective3 -> \"secondaire\"\n",
    "Adposition4 -> \"de\"\n",
    "Trigger_Rule -> \"|forward|termination|negated|10|Group[90]|PRE-VALIDATION\"\n",
    "\"\"\"\n",
    "\n",
    "for sentence in generate(CFG.fromstring(cfg_grammar), n=1000):\n",
    "    print(' '.join(sentence))"
   ]
  },
  {
   "cell_type": "code",
   "execution_count": 45,
   "metadata": {},
   "outputs": [
    {
     "name": "stdout",
     "output_type": "stream",
     "text": [
      "comme origine secondaire pour |forward|termination|negated|10|Group[90]|PRE-VALIDATION\n",
      "comme début secondaire pour |forward|termination|negated|10|Group[90]|PRE-VALIDATION\n",
      "comme commencement secondaire pour |forward|termination|negated|10|Group[90]|PRE-VALIDATION\n",
      "comme provenance secondaire pour |forward|termination|negated|10|Group[90]|PRE-VALIDATION\n",
      "comme cause secondaire pour |forward|termination|negated|10|Group[90]|PRE-VALIDATION\n",
      "comme formation secondaire pour |forward|termination|negated|10|Group[90]|PRE-VALIDATION\n",
      "comme base secondaire pour |forward|termination|negated|10|Group[90]|PRE-VALIDATION\n",
      "comme fondement secondaire pour |forward|termination|negated|10|Group[90]|PRE-VALIDATION\n",
      "comme prédéterminant secondaire pour |forward|termination|negated|10|Group[90]|PRE-VALIDATION\n",
      "comme raison secondaire pour |forward|termination|negated|10|Group[90]|PRE-VALIDATION\n",
      "comme départ secondaire pour |forward|termination|negated|10|Group[90]|PRE-VALIDATION\n"
     ]
    }
   ],
   "source": [
    "from nltk.parse.generate import generate, demo_grammar\n",
    "from nltk import CFG\n",
    "\n",
    "cfg_grammar= \"\"\"\n",
    "S ->  Adposition1 Noun2 Adjective3 Adposition4 Trigger_Rule\n",
    "Adposition1 -> \"comme\"\n",
    "Noun2 -> \"origine\" | \"début\" | \"commencement\" | \"provenance\" | \"cause\" | \"formation\" | \"base\" | \"fondement\" | \"prédéterminant\" | \"raison\" | \"départ\"\n",
    "Adjective3 -> \"secondaire\"\n",
    "Adposition4 -> \"pour\"\n",
    "Trigger_Rule -> \"|forward|termination|negated|10|Group[90]|PRE-VALIDATION\"\n",
    "\"\"\"\n",
    "\n",
    "for sentence in generate(CFG.fromstring(cfg_grammar), n=1000):\n",
    "    print(' '.join(sentence))"
   ]
  },
  {
   "cell_type": "code",
   "execution_count": 46,
   "metadata": {},
   "outputs": [
    {
     "name": "stdout",
     "output_type": "stream",
     "text": [
      "comme étiologie secondaire de |forward|termination|negated|10|Group[90]|PRE-VALIDATION\n",
      "comme étiologie secondaire de |forward|termination|negated|10|Group[90]|PRE-VALIDATION\n",
      "comme étiopathie secondaire de |forward|termination|negated|10|Group[90]|PRE-VALIDATION\n",
      "comme causalité secondaire de |forward|termination|negated|10|Group[90]|PRE-VALIDATION\n"
     ]
    }
   ],
   "source": [
    "from nltk.parse.generate import generate, demo_grammar\n",
    "from nltk import CFG\n",
    "\n",
    "cfg_grammar= \"\"\"\n",
    "S ->  Adposition1 Noun2 Adjective3 Adposition4 Trigger_Rule\n",
    "Adposition1 -> \"comme\"\n",
    "Noun2 -> \"étiologie\" | \"étiologie\" | \"étiopathie\" | \"causalité\"\n",
    "Adjective3 -> \"secondaire\"\n",
    "Adposition4 -> \"de\"\n",
    "Trigger_Rule -> \"|forward|termination|negated|10|Group[90]|PRE-VALIDATION\"\n",
    "\"\"\"\n",
    "\n",
    "for sentence in generate(CFG.fromstring(cfg_grammar), n=1000):\n",
    "    print(' '.join(sentence))"
   ]
  },
  {
   "cell_type": "code",
   "execution_count": 47,
   "metadata": {},
   "outputs": [
    {
     "name": "stdout",
     "output_type": "stream",
     "text": [
      "comme étiologie secondaire pour |forward|termination|negated|10|Group[90]|PRE-VALIDATION\n",
      "comme étiologie secondaire pour |forward|termination|negated|10|Group[90]|PRE-VALIDATION\n",
      "comme étiopathie secondaire pour |forward|termination|negated|10|Group[90]|PRE-VALIDATION\n",
      "comme causalité secondaire pour |forward|termination|negated|10|Group[90]|PRE-VALIDATION\n"
     ]
    }
   ],
   "source": [
    "from nltk.parse.generate import generate, demo_grammar\n",
    "from nltk import CFG\n",
    "\n",
    "cfg_grammar= \"\"\"\n",
    "S ->  Adposition1 Noun2 Adjective3 Adposition4 Trigger_Rule\n",
    "Adposition1 -> \"comme\"\n",
    "Noun2 -> \"étiologie\" | \"étiologie\" | \"étiopathie\" | \"causalité\"\n",
    "Adjective3 -> \"secondaire\"\n",
    "Adposition4 -> \"pour\"\n",
    "Trigger_Rule -> \"|forward|termination|negated|10|Group[90]|PRE-VALIDATION\"\n",
    "\"\"\"\n",
    "\n",
    "for sentence in generate(CFG.fromstring(cfg_grammar), n=1000):\n",
    "    print(' '.join(sentence))"
   ]
  },
  {
   "cell_type": "code",
   "execution_count": 48,
   "metadata": {},
   "outputs": [
    {
     "name": "stdout",
     "output_type": "stream",
     "text": [
      "comme source secondaire de |forward|termination|negated|10|Group[90]|PRE-VALIDATION\n",
      "comme provenance secondaire de |forward|termination|negated|10|Group[90]|PRE-VALIDATION\n",
      "comme commencement secondaire de |forward|termination|negated|10|Group[90]|PRE-VALIDATION\n",
      "comme cause secondaire de |forward|termination|negated|10|Group[90]|PRE-VALIDATION\n",
      "comme fondement secondaire de |forward|termination|negated|10|Group[90]|PRE-VALIDATION\n",
      "comme début secondaire de |forward|termination|negated|10|Group[90]|PRE-VALIDATION\n",
      "comme point de départ secondaire de |forward|termination|negated|10|Group[90]|PRE-VALIDATION\n",
      "comme source secondaire de |forward|termination|negated|10|Group[90]|PRE-VALIDATION\n",
      "comme départ secondaire de |forward|termination|negated|10|Group[90]|PRE-VALIDATION\n"
     ]
    }
   ],
   "source": [
    "from nltk.parse.generate import generate, demo_grammar\n",
    "from nltk import CFG\n",
    "\n",
    "cfg_grammar= \"\"\"\n",
    "S ->  Adposition1 Noun2 Adjective3 Adposition4 Trigger_Rule\n",
    "Adposition1 -> \"comme\"\n",
    "Noun2 -> \"source\" | \"provenance\" | \"commencement\" | \"cause\" | \"fondement\" | \"début\" | \"point de départ\" | \"source\" | \"départ\"\n",
    "Adjective3 -> \"secondaire\"\n",
    "Adposition4 -> \"de\"\n",
    "Trigger_Rule -> \"|forward|termination|negated|10|Group[90]|PRE-VALIDATION\"\n",
    "\"\"\"\n",
    "\n",
    "for sentence in generate(CFG.fromstring(cfg_grammar), n=1000):\n",
    "    print(' '.join(sentence))"
   ]
  },
  {
   "cell_type": "code",
   "execution_count": 49,
   "metadata": {},
   "outputs": [
    {
     "name": "stdout",
     "output_type": "stream",
     "text": [
      "comme source secondaire pour |forward|termination|negated|10|Group[90]|PRE-VALIDATION\n",
      "comme provenance secondaire pour |forward|termination|negated|10|Group[90]|PRE-VALIDATION\n",
      "comme commencement secondaire pour |forward|termination|negated|10|Group[90]|PRE-VALIDATION\n",
      "comme cause secondaire pour |forward|termination|negated|10|Group[90]|PRE-VALIDATION\n",
      "comme fondement secondaire pour |forward|termination|negated|10|Group[90]|PRE-VALIDATION\n",
      "comme début secondaire pour |forward|termination|negated|10|Group[90]|PRE-VALIDATION\n",
      "comme point de départ secondaire pour |forward|termination|negated|10|Group[90]|PRE-VALIDATION\n",
      "comme source secondaire pour |forward|termination|negated|10|Group[90]|PRE-VALIDATION\n",
      "comme départ secondaire pour |forward|termination|negated|10|Group[90]|PRE-VALIDATION\n"
     ]
    }
   ],
   "source": [
    "from nltk.parse.generate import generate, demo_grammar\n",
    "from nltk import CFG\n",
    "\n",
    "cfg_grammar= \"\"\"\n",
    "S ->  Adposition1 Noun2 Adjective3 Adposition4 Trigger_Rule\n",
    "Adposition1 -> \"comme\"\n",
    "Noun2 -> \"source\" | \"provenance\" | \"commencement\" | \"cause\" | \"fondement\" | \"début\" | \"point de départ\" | \"source\" | \"départ\"\n",
    "Adjective3 -> \"secondaire\"\n",
    "Adposition4 -> \"pour\"\n",
    "Trigger_Rule -> \"|forward|termination|negated|10|Group[90]|PRE-VALIDATION\"\n",
    "\"\"\"\n",
    "\n",
    "for sentence in generate(CFG.fromstring(cfg_grammar), n=1000):\n",
    "    print(' '.join(sentence))"
   ]
  },
  {
   "cell_type": "code",
   "execution_count": 50,
   "metadata": {},
   "outputs": [
    {
     "name": "stdout",
     "output_type": "stream",
     "text": [
      "comme cause secondaire de |forward|termination|negated|10|Group[90]|PRE-VALIDATION\n",
      "comme raison secondaire de |forward|termination|negated|10|Group[90]|PRE-VALIDATION\n",
      "comme prétexte secondaire de |forward|termination|negated|10|Group[90]|PRE-VALIDATION\n",
      "comme fondement secondaire de |forward|termination|negated|10|Group[90]|PRE-VALIDATION\n",
      "comme source secondaire de |forward|termination|negated|10|Group[90]|PRE-VALIDATION\n",
      "comme intention secondaire de |forward|termination|negated|10|Group[90]|PRE-VALIDATION\n",
      "comme origine secondaire de |forward|termination|negated|10|Group[90]|PRE-VALIDATION\n",
      "comme but secondaire de |forward|termination|negated|10|Group[90]|PRE-VALIDATION\n",
      "comme déclencheur secondaire de |forward|termination|negated|10|Group[90]|PRE-VALIDATION\n",
      "comme départ secondaire de |forward|termination|negated|10|Group[90]|PRE-VALIDATION\n"
     ]
    }
   ],
   "source": [
    "from nltk.parse.generate import generate, demo_grammar\n",
    "from nltk import CFG\n",
    "\n",
    "cfg_grammar= \"\"\"\n",
    "S ->  Adposition1 Noun2 Adjective3 Adposition4 Trigger_Rule\n",
    "Adposition1 -> \"comme\"\n",
    "Noun2 -> \"cause\" | \"raison\" | \"prétexte\" | \"fondement\" | \"source\" | \"intention\" | \"origine\" | \"but\" | \"déclencheur\" | \"départ\"\n",
    "Adjective3 -> \"secondaire\"\n",
    "Adposition4 -> \"de\"\n",
    "Trigger_Rule -> \"|forward|termination|negated|10|Group[90]|PRE-VALIDATION\"\n",
    "\"\"\"\n",
    "\n",
    "for sentence in generate(CFG.fromstring(cfg_grammar), n=1000):\n",
    "    print(' '.join(sentence))"
   ]
  },
  {
   "cell_type": "code",
   "execution_count": 51,
   "metadata": {},
   "outputs": [
    {
     "name": "stdout",
     "output_type": "stream",
     "text": [
      "comme a |forward|termination|negated|10|Group[122]|PRE-VALIDATION\n"
     ]
    }
   ],
   "source": [
    "from nltk.parse.generate import generate, demo_grammar\n",
    "from nltk import CFG\n",
    "\n",
    "cfg_grammar= \"\"\"\n",
    "S ->  Adposition1 Verb2 Trigger_Rule\n",
    "Adposition1 -> \"comme\"\n",
    "Verb2 -> \"a\"\n",
    "Trigger_Rule -> \"|forward|termination|negated|10|Group[122]|PRE-VALIDATION\"\n",
    "\"\"\"\n",
    "\n",
    "for sentence in generate(CFG.fromstring(cfg_grammar), n=1000):\n",
    "    print(' '.join(sentence))"
   ]
  },
  {
   "cell_type": "code",
   "execution_count": 52,
   "metadata": {},
   "outputs": [
    {
     "name": "stdout",
     "output_type": "stream",
     "text": [
      "comme requis |forward|trigger|conditional|30|Group[123]|PRE-VALIDATION\n",
      "comme nécessaire |forward|trigger|conditional|30|Group[123]|PRE-VALIDATION\n",
      "comme prescrit |forward|trigger|conditional|30|Group[123]|PRE-VALIDATION\n",
      "comme demandé |forward|trigger|conditional|30|Group[123]|PRE-VALIDATION\n",
      "comme réclamé |forward|trigger|conditional|30|Group[123]|PRE-VALIDATION\n",
      "comme obligé |forward|trigger|conditional|30|Group[123]|PRE-VALIDATION\n",
      "comme imposé |forward|trigger|conditional|30|Group[123]|PRE-VALIDATION\n",
      "comme exigé |forward|trigger|conditional|30|Group[123]|PRE-VALIDATION\n",
      "comme souhaitable |forward|trigger|conditional|30|Group[123]|PRE-VALIDATION\n",
      "comme sollicité |forward|trigger|conditional|30|Group[123]|PRE-VALIDATION\n",
      "comme indispensable |forward|trigger|conditional|30|Group[123]|PRE-VALIDATION\n",
      "comme commandé |forward|trigger|conditional|30|Group[123]|PRE-VALIDATION\n",
      "comme nécessité |forward|trigger|conditional|30|Group[123]|PRE-VALIDATION\n",
      "comme souhaité |forward|trigger|conditional|30|Group[123]|PRE-VALIDATION\n",
      "comme enjoint |forward|trigger|conditional|30|Group[123]|PRE-VALIDATION\n"
     ]
    }
   ],
   "source": [
    "from nltk.parse.generate import generate, demo_grammar\n",
    "from nltk import CFG\n",
    "\n",
    "cfg_grammar= \"\"\"\n",
    "S ->  Adposition1 Verb2 Trigger_Rule\n",
    "Adposition1 -> \"comme\"\n",
    "Verb2 -> \"requis\" | \"nécessaire\" | \"prescrit\" | \"demandé\" | \"réclamé\" | \"obligé\" | \"imposé\" | \"exigé\" | \"souhaitable\" | \"sollicité\" | \"indispensable\" | \"commandé\" | \"nécessité\" | \"souhaité\" | \"enjoint\"\n",
    "Trigger_Rule -> \"|forward|trigger|conditional|30|Group[123]|PRE-VALIDATION\"\n",
    "\"\"\"\n",
    "\n",
    "for sentence in generate(CFG.fromstring(cfg_grammar), n=1000):\n",
    "    print(' '.join(sentence))"
   ]
  },
  {
   "cell_type": "code",
   "execution_count": 53,
   "metadata": {},
   "outputs": [
    {
     "name": "stdout",
     "output_type": "stream",
     "text": [
      "ainsi que tout |forward|trigger|negated|10|Group[144]|PRE-VALIDATION\n"
     ]
    }
   ],
   "source": [
    "from nltk.parse.generate import generate, demo_grammar\n",
    "from nltk import CFG\n",
    "\n",
    "cfg_grammar= \"\"\"\n",
    "S ->  Adverb1 Subordinating_conjunction2 Pronoun3 Trigger_Rule\n",
    "Adverb1 -> \"ainsi\"\n",
    "Subordinating_conjunction2 -> \"que\"\n",
    "Pronoun3 -> \"tout\"\n",
    "Trigger_Rule -> \"|forward|trigger|negated|10|Group[144]|PRE-VALIDATION\"\n",
    "\"\"\"\n",
    "\n",
    "for sentence in generate(CFG.fromstring(cfg_grammar), n=1000):\n",
    "    print(' '.join(sentence))"
   ]
  },
  {
   "cell_type": "code",
   "execution_count": 54,
   "metadata": {},
   "outputs": [
    {
     "name": "stdout",
     "output_type": "stream",
     "text": [
      "à part |forward|termination|negated|10|Group[146]|PRE-VALIDATION\n",
      "à morceau |forward|termination|negated|10|Group[146]|PRE-VALIDATION\n",
      "à fragment |forward|termination|negated|10|Group[146]|PRE-VALIDATION\n",
      "à portion |forward|termination|negated|10|Group[146]|PRE-VALIDATION\n",
      "à participation |forward|termination|negated|10|Group[146]|PRE-VALIDATION\n",
      "à division |forward|termination|negated|10|Group[146]|PRE-VALIDATION\n",
      "à fraction |forward|termination|negated|10|Group[146]|PRE-VALIDATION\n",
      "à partage |forward|termination|negated|10|Group[146]|PRE-VALIDATION\n",
      "à ration |forward|termination|negated|10|Group[146]|PRE-VALIDATION\n",
      "à lot |forward|termination|negated|10|Group[146]|PRE-VALIDATION\n",
      "à quota |forward|termination|negated|10|Group[146]|PRE-VALIDATION\n",
      "à quotité |forward|termination|negated|10|Group[146]|PRE-VALIDATION\n",
      "à quote-part |forward|termination|negated|10|Group[146]|PRE-VALIDATION\n",
      "à quotepart |forward|termination|negated|10|Group[146]|PRE-VALIDATION\n",
      "à pourcentage |forward|termination|negated|10|Group[146]|PRE-VALIDATION\n"
     ]
    }
   ],
   "source": [
    "from nltk.parse.generate import generate, demo_grammar\n",
    "from nltk import CFG\n",
    "\n",
    "cfg_grammar= \"\"\"\n",
    "S ->  Adposition1 Noun2 Trigger_Rule\n",
    "Adposition1 -> \"à\"\n",
    "Noun2 -> \"part\" | \"morceau\" | \"fragment\" | \"portion\" | \"participation\" | \"division\" | \"fraction\" | \"partage\" | \"ration\" | \"lot\" | \"quota\" | \"quotité\" | \"quote-part\" | \"quotepart\" | \"pourcentage\"\n",
    "Trigger_Rule -> \"|forward|termination|negated|10|Group[146]|PRE-VALIDATION\"\n",
    "\"\"\"\n",
    "\n",
    "for sentence in generate(CFG.fromstring(cfg_grammar), n=1000):\n",
    "    print(' '.join(sentence))"
   ]
  },
  {
   "cell_type": "code",
   "execution_count": 55,
   "metadata": {},
   "outputs": [
    {
     "name": "stdout",
     "output_type": "stream",
     "text": [
      "comme |both|pseudo|uncertain|30|Group[147]|PRE-VALIDATION\n"
     ]
    }
   ],
   "source": [
    "from nltk.parse.generate import generate, demo_grammar\n",
    "from nltk import CFG\n",
    "\n",
    "cfg_grammar= \"\"\"\n",
    "S ->  Adposition1 Trigger_Rule\n",
    "Adposition1 -> \"comme\"\n",
    "Trigger_Rule -> \"|both|pseudo|uncertain|30|Group[147]|PRE-VALIDATION\"\n",
    "\"\"\"\n",
    "\n",
    "for sentence in generate(CFG.fromstring(cfg_grammar), n=1000):\n",
    "    print(' '.join(sentence))"
   ]
  },
  {
   "cell_type": "code",
   "execution_count": 56,
   "metadata": {},
   "outputs": [
    {
     "name": "stdout",
     "output_type": "stream",
     "text": [
      "en ce moment |both|pseudo|uncertain|30|Group[148]|PRE-VALIDATION\n",
      "en ce jour |both|pseudo|uncertain|30|Group[148]|PRE-VALIDATION\n",
      "en ce temps |both|pseudo|uncertain|30|Group[148]|PRE-VALIDATION\n",
      "en ce saison |both|pseudo|uncertain|30|Group[148]|PRE-VALIDATION\n",
      "en ce époque |both|pseudo|uncertain|30|Group[148]|PRE-VALIDATION\n",
      "en ce stage |both|pseudo|uncertain|30|Group[148]|PRE-VALIDATION\n",
      "en ce épisode |both|pseudo|uncertain|30|Group[148]|PRE-VALIDATION\n",
      "en ce phase |both|pseudo|uncertain|30|Group[148]|PRE-VALIDATION\n",
      "en ce plage de temps |both|pseudo|uncertain|30|Group[148]|PRE-VALIDATION\n",
      "en ce stade |both|pseudo|uncertain|30|Group[148]|PRE-VALIDATION\n",
      "en ce pendant que |both|pseudo|uncertain|30|Group[148]|PRE-VALIDATION\n"
     ]
    }
   ],
   "source": [
    "from nltk.parse.generate import generate, demo_grammar\n",
    "from nltk import CFG\n",
    "\n",
    "cfg_grammar= \"\"\"\n",
    "S ->  Adposition1 Determiner2 Noun3 Trigger_Rule\n",
    "Adposition1 -> \"en\"\n",
    "Determiner2 -> \"ce\"\n",
    "Noun3 -> \"moment\" | \"jour\" | \"temps\" | \"saison\" | \"époque\" | \"stage\" | \"épisode\" | \"phase\" | \"plage de temps\" | \"stade\" | \"pendant que\"\n",
    "Trigger_Rule -> \"|both|pseudo|uncertain|30|Group[148]|PRE-VALIDATION\"\n",
    "\"\"\"\n",
    "\n",
    "for sentence in generate(CFG.fromstring(cfg_grammar), n=1000):\n",
    "    print(' '.join(sentence))"
   ]
  },
  {
   "cell_type": "code",
   "execution_count": 57,
   "metadata": {},
   "outputs": [
    {
     "name": "stdout",
     "output_type": "stream",
     "text": [
      "à ce moment-là |both|pseudo|uncertain|30|Group[148]|PRE-VALIDATION\n",
      "à ce jour-là |both|pseudo|uncertain|30|Group[148]|PRE-VALIDATION\n",
      "à ce temps-là |both|pseudo|uncertain|30|Group[148]|PRE-VALIDATION\n",
      "à ce saison-là |both|pseudo|uncertain|30|Group[148]|PRE-VALIDATION\n",
      "à ce époque-là |both|pseudo|uncertain|30|Group[148]|PRE-VALIDATION\n",
      "à ce stage-là |both|pseudo|uncertain|30|Group[148]|PRE-VALIDATION\n",
      "à ce épisode-là |both|pseudo|uncertain|30|Group[148]|PRE-VALIDATION\n",
      "à ce phase-là |both|pseudo|uncertain|30|Group[148]|PRE-VALIDATION\n",
      "à ce plage de temps-là |both|pseudo|uncertain|30|Group[148]|PRE-VALIDATION\n",
      "à ce stade-là |both|pseudo|uncertain|30|Group[148]|PRE-VALIDATION\n",
      "à ce pendant que-là |both|pseudo|uncertain|30|Group[148]|PRE-VALIDATION\n"
     ]
    }
   ],
   "source": [
    "from nltk.parse.generate import generate, demo_grammar\n",
    "from nltk import CFG\n",
    "\n",
    "cfg_grammar= \"\"\"\n",
    "S ->  Adposition1 Determiner2 Noun3  Trigger_Rule\n",
    "Adposition1 -> \"à\"\n",
    "Determiner2 -> \"ce\"\n",
    "Noun3 -> \"moment-là\" | \"jour-là\" | \"temps-là\" | \"saison-là\" | \"époque-là\" | \"stage-là\" | \"épisode-là\" | \"phase-là\" | \"plage de temps-là\" | \"stade-là\" | \"pendant que-là\"\n",
    "Trigger_Rule -> \"|both|pseudo|uncertain|30|Group[148]|PRE-VALIDATION\"\n",
    "\"\"\"\n",
    "\n",
    "for sentence in generate(CFG.fromstring(cfg_grammar), n=1000):\n",
    "    print(' '.join(sentence))"
   ]
  },
  {
   "cell_type": "code",
   "execution_count": 58,
   "metadata": {},
   "outputs": [
    {
     "name": "stdout",
     "output_type": "stream",
     "text": [
      "tenté |both|termination|historical|30|Group[150]|PRE-VALIDATION\n",
      "tenté |both|termination|nonpatient|30|Group[151]|PRE-VALIDATION\n",
      "expérimenté |both|termination|historical|30|Group[150]|PRE-VALIDATION\n",
      "expérimenté |both|termination|nonpatient|30|Group[151]|PRE-VALIDATION\n",
      "risqué |both|termination|historical|30|Group[150]|PRE-VALIDATION\n",
      "risqué |both|termination|nonpatient|30|Group[151]|PRE-VALIDATION\n",
      "cherché |both|termination|historical|30|Group[150]|PRE-VALIDATION\n",
      "cherché |both|termination|nonpatient|30|Group[151]|PRE-VALIDATION\n",
      "entrepris |both|termination|historical|30|Group[150]|PRE-VALIDATION\n",
      "entrepris |both|termination|nonpatient|30|Group[151]|PRE-VALIDATION\n",
      "osé |both|termination|historical|30|Group[150]|PRE-VALIDATION\n",
      "osé |both|termination|nonpatient|30|Group[151]|PRE-VALIDATION\n",
      "hasarder |both|termination|historical|30|Group[150]|PRE-VALIDATION\n",
      "hasarder |both|termination|nonpatient|30|Group[151]|PRE-VALIDATION\n"
     ]
    }
   ],
   "source": [
    "from nltk.parse.generate import generate, demo_grammar\n",
    "from nltk import CFG\n",
    "\n",
    "cfg_grammar= \"\"\"\n",
    "S ->  Noun1 Trigger_Rule\n",
    "Noun1 -> \"tenté\" | \"expérimenté\" | \"risqué\" | \"cherché\" | \"entrepris\" | \"osé\" | \"hasarder\"\n",
    "Trigger_Rule -> \"|both|termination|historical|30|Group[150]|PRE-VALIDATION\"|\"|both|termination|nonpatient|30|Group[151]|PRE-VALIDATION\"\n",
    "\"\"\"\n",
    "\n",
    "for sentence in generate(CFG.fromstring(cfg_grammar), n=1000):\n",
    "    print(' '.join(sentence))"
   ]
  },
  {
   "cell_type": "code",
   "execution_count": 59,
   "metadata": {},
   "outputs": [
    {
     "name": "stdout",
     "output_type": "stream",
     "text": [
      "tentative |both|termination|historical|30|Group[152]|PRE-VALIDATION\n",
      "tentative |both|termination|nonpatient|30|Group[153]|PRE-VALIDATION\n",
      "expérience |both|termination|historical|30|Group[152]|PRE-VALIDATION\n",
      "expérience |both|termination|nonpatient|30|Group[153]|PRE-VALIDATION\n",
      "expérimentation |both|termination|historical|30|Group[152]|PRE-VALIDATION\n",
      "expérimentation |both|termination|nonpatient|30|Group[153]|PRE-VALIDATION\n"
     ]
    }
   ],
   "source": [
    "from nltk.parse.generate import generate, demo_grammar\n",
    "from nltk import CFG\n",
    "\n",
    "cfg_grammar= \"\"\"\n",
    "S ->  Noun1 Trigger_Rule\n",
    "Noun1 -> \"tentative\" | \"expérience\" | \"expérimentation\"\n",
    "Trigger_Rule -> \"|both|termination|historical|30|Group[152]|PRE-VALIDATION\"|\"|both|termination|nonpatient|30|Group[153]|PRE-VALIDATION\"\n",
    "\"\"\"\n",
    "\n",
    "for sentence in generate(CFG.fromstring(cfg_grammar), n=1000):\n",
    "    print(' '.join(sentence))"
   ]
  },
  {
   "cell_type": "code",
   "execution_count": 60,
   "metadata": {},
   "outputs": [
    {
     "name": "stdout",
     "output_type": "stream",
     "text": [
      "parlé avec la famille |both|termination|nonpatient|30|Group[234]|PRE-VALIDATION\n",
      "par famille |both|termination|nonpatient|30|Group[234]|PRE-VALIDATION\n",
      "par \\w+ famille |both|termination|nonpatient|30|Group[234]|PRE-VALIDATION\n",
      "parler avec la famille |both|termination|nonpatient|30|Group[234]|PRE-VALIDATION\n",
      "parlé avec la famille |both|termination|nonpatient|30|Group[234]|PRE-VALIDATION\n",
      "parler avec la famille |both|termination|nonpatient|30|Group[234]|PRE-VALIDATION\n",
      "rapports de fils |both|termination|nonpatient|30|Group[234]|PRE-VALIDATION\n",
      "fils rapporté |both|termination|nonpatient|30|Group[234]|PRE-VALIDATION\n",
      "fils appelé |both|termination|nonpatient|30|Group[234]|PRE-VALIDATION\n",
      "rapports de soeur |both|termination|nonpatient|30|Group[234]|PRE-VALIDATION\n",
      "soeur a rapporté |both|termination|nonpatient|30|Group[234]|PRE-VALIDATION\n",
      "soeur a appelé |both|termination|nonpatient|30|Group[234]|PRE-VALIDATION\n",
      "colocataires appelés |both|termination|nonpatient|30|Group[234]|PRE-VALIDATION\n",
      "colocataire appelée |both|termination|nonpatient|30|Group[234]|PRE-VALIDATION\n",
      "voisins appelés |both|termination|nonpatient|30|Group[234]|PRE-VALIDATION\n",
      "voisin appelé |both|termination|nonpatient|30|Group[234]|PRE-VALIDATION\n",
      "voisins appelés |both|termination|nonpatient|30|Group[234]|PRE-VALIDATION\n",
      "voisin appelé |both|termination|nonpatient|30|Group[234]|PRE-VALIDATION\n",
      "mère a appelé |both|termination|nonpatient|30|Group[234]|PRE-VALIDATION\n",
      "maman a appelé |both|termination|nonpatient|30|Group[234]|PRE-VALIDATION\n",
      "père a appelé |both|termination|nonpatient|30|Group[234]|PRE-VALIDATION\n",
      "la famille a dit |both|termination|nonpatient|30|Group[234]|PRE-VALIDATION\n",
      "la famille a déclaré |both|termination|nonpatient|30|Group[234]|PRE-VALIDATION\n",
      "la famille a dit |both|termination|nonpatient|30|Group[234]|PRE-VALIDATION\n",
      "famille trouvée |both|termination|nonpatient|30|Group[234]|PRE-VALIDATION\n",
      "rapports de fille |both|termination|nonpatient|30|Group[234]|PRE-VALIDATION\n",
      "fille a signalé |both|termination|nonpatient|30|Group[234]|PRE-VALIDATION\n",
      "fille a appelé |both|termination|nonpatient|30|Group[234]|PRE-VALIDATION\n",
      "papa appelé |both|termination|nonpatient|30|Group[234]|PRE-VALIDATION\n"
     ]
    }
   ],
   "source": [
    "from nltk.parse.generate import generate, demo_grammar\n",
    "from nltk import CFG\n",
    "\n",
    "cfg_grammar= \"\"\"\n",
    "S -> Noun2 Trigger_Rule\n",
    "Noun2 -> \"parlé avec la famille\" |\"par famille\" |\"par \\\\w+ famille\" |\"parler avec la famille\" |\"parlé avec la famille\" |\"parler avec la famille\" |\"rapports de fils\" |\"fils rapporté\" |\"fils appelé\" |\"rapports de soeur\" |\"soeur a rapporté\" |\"soeur a appelé\" |\"colocataires appelés\" |\"colocataire appelée\" |\"voisins appelés\" |\"voisin appelé\" |\"voisins appelés\" |\"voisin appelé\" |\"mère a appelé\" |\"maman a appelé\" |\"père a appelé\" |\"la famille a dit\" |\"la famille a déclaré\" |\"la famille a dit\" |\"famille trouvée\" |\"rapports de fille\" |\"fille a signalé\" |\"fille a appelé\" |\"papa appelé\"\n",
    "Trigger_Rule -> \"|both|termination|nonpatient|30|Group[234]|PRE-VALIDATION\"\n",
    "\"\"\"\n",
    "\n",
    "for sentence in generate(CFG.fromstring(cfg_grammar), n=1000):\n",
    "    print(' '.join(sentence))"
   ]
  },
  {
   "cell_type": "code",
   "execution_count": 61,
   "metadata": {},
   "outputs": [
    {
     "name": "stdout",
     "output_type": "stream",
     "text": [
      "oncle |forward|trigger|nonpatient|30|Group[154]|PRE-VALIDATION\n",
      "oncle |forward|trigger|nonpatient|30|Group[154]|PRE-VALIDATION\n",
      "des fils |forward|trigger|nonpatient|30|Group[154]|PRE-VALIDATION\n",
      "fils |forward|trigger|nonpatient|30|Group[154]|PRE-VALIDATION\n",
      "sœurs |forward|trigger|nonpatient|30|Group[154]|PRE-VALIDATION\n",
      "sœurs |forward|trigger|nonpatient|30|Group[154]|PRE-VALIDATION\n",
      "sœur |forward|trigger|nonpatient|30|Group[154]|PRE-VALIDATION\n",
      "colocataires |forward|trigger|nonpatient|30|Group[154]|PRE-VALIDATION\n",
      "colocataire |forward|trigger|nonpatient|30|Group[154]|PRE-VALIDATION\n",
      "voisins |forward|trigger|nonpatient|30|Group[154]|PRE-VALIDATION\n",
      "voisin |forward|trigger|nonpatient|30|Group[154]|PRE-VALIDATION\n",
      "voisins |forward|trigger|nonpatient|30|Group[154]|PRE-VALIDATION\n",
      "voisin |forward|trigger|nonpatient|30|Group[154]|PRE-VALIDATION\n",
      "de la mère |forward|trigger|nonpatient|30|Group[154]|PRE-VALIDATION\n",
      "mère |forward|trigger|nonpatient|30|Group[154]|PRE-VALIDATION\n",
      "la maman |forward|trigger|nonpatient|30|Group[154]|PRE-VALIDATION\n",
      "maman |forward|trigger|nonpatient|30|Group[154]|PRE-VALIDATION\n",
      "h o |forward|trigger|nonpatient|30|Group[154]|PRE-VALIDATION\n",
      "la grand-mère |forward|trigger|nonpatient|30|Group[154]|PRE-VALIDATION\n",
      "grand-mère |forward|trigger|nonpatient|30|Group[154]|PRE-VALIDATION\n",
      "du grand-père |forward|trigger|nonpatient|30|Group[154]|PRE-VALIDATION\n",
      "grand-père |forward|trigger|nonpatient|30|Group[154]|PRE-VALIDATION\n",
      "fh |forward|trigger|nonpatient|30|Group[154]|PRE-VALIDATION\n",
      "du père |forward|trigger|nonpatient|30|Group[154]|PRE-VALIDATION\n",
      "père |forward|trigger|nonpatient|30|Group[154]|PRE-VALIDATION\n",
      "histoire de famille |forward|trigger|nonpatient|30|Group[154]|PRE-VALIDATION\n",
      "famille |forward|trigger|nonpatient|30|Group[154]|PRE-VALIDATION\n",
      "les filles |forward|trigger|nonpatient|30|Group[154]|PRE-VALIDATION\n",
      "fille |forward|trigger|nonpatient|30|Group[154]|PRE-VALIDATION\n",
      "papa |forward|trigger|nonpatient|30|Group[154]|PRE-VALIDATION\n",
      "papa |forward|trigger|nonpatient|30|Group[154]|PRE-VALIDATION\n",
      "frères |forward|trigger|nonpatient|30|Group[154]|PRE-VALIDATION\n",
      "frères |forward|trigger|nonpatient|30|Group[154]|PRE-VALIDATION\n",
      "frère |forward|trigger|nonpatient|30|Group[154]|PRE-VALIDATION\n",
      "la tante |forward|trigger|nonpatient|30|Group[154]|PRE-VALIDATION\n",
      "tante |forward|trigger|nonpatient|30|Group[154]|PRE-VALIDATION\n"
     ]
    }
   ],
   "source": [
    "from nltk.parse.generate import generate, demo_grammar\n",
    "from nltk import CFG\n",
    "\n",
    "cfg_grammar= \"\"\"\n",
    "S -> Noun2 Trigger_Rule\n",
    "Noun2 -> \"oncle\" |\"oncle\" |\"des fils\" |\"fils\" |\"sœurs\" |\"sœurs\" |\"sœur\" |\"colocataires\" |\"colocataire\" |\"voisins\" |\"voisin\" |\"voisins\" |\"voisin\" |\"de la mère\" |\"mère\" |\"la maman\" |\"maman\" |\"h o\" |\"la grand-mère\" |\"grand-mère\" |\"du grand-père\" |\"grand-père\" |\"fh\" |\"du père\" |\"père\" |\"histoire de famille\" |\"famille\" |\"les filles\" |\"fille\" |\"papa\" |\"papa\" |\"frères\" |\"frères\" |\"frère\" |\"la tante\" |\"tante\"\n",
    "Trigger_Rule -> \"|forward|trigger|nonpatient|30|Group[154]|PRE-VALIDATION\"\n",
    "\"\"\"\n",
    "\n",
    "for sentence in generate(CFG.fromstring(cfg_grammar), n=1000):\n",
    "    print(' '.join(sentence))"
   ]
  },
  {
   "cell_type": "code",
   "execution_count": 62,
   "metadata": {},
   "outputs": [
    {
     "name": "stdout",
     "output_type": "stream",
     "text": [
      "parlé avec la famille |both|termination|historical|30|Group[233]|PRE-VALIDATION\n",
      "par famille |both|termination|historical|30|Group[233]|PRE-VALIDATION\n",
      "par \\w+ famille |both|termination|historical|30|Group[233]|PRE-VALIDATION\n",
      "parler avec la famille |both|termination|historical|30|Group[233]|PRE-VALIDATION\n",
      "parlé avec la famille |both|termination|historical|30|Group[233]|PRE-VALIDATION\n",
      "parler avec la famille |both|termination|historical|30|Group[233]|PRE-VALIDATION\n",
      "rapports de fils |both|termination|historical|30|Group[233]|PRE-VALIDATION\n",
      "fils rapporté |both|termination|historical|30|Group[233]|PRE-VALIDATION\n",
      "fils appelé |both|termination|historical|30|Group[233]|PRE-VALIDATION\n",
      "rapports de soeur |both|termination|historical|30|Group[233]|PRE-VALIDATION\n",
      "soeur a rapporté |both|termination|historical|30|Group[233]|PRE-VALIDATION\n",
      "soeur a appelé |both|termination|historical|30|Group[233]|PRE-VALIDATION\n",
      "colocataires appelés |both|termination|historical|30|Group[233]|PRE-VALIDATION\n",
      "colocataire appelée |both|termination|historical|30|Group[233]|PRE-VALIDATION\n",
      "voisins appelés |both|termination|historical|30|Group[233]|PRE-VALIDATION\n",
      "voisin appelé |both|termination|historical|30|Group[233]|PRE-VALIDATION\n",
      "voisins appelés |both|termination|historical|30|Group[233]|PRE-VALIDATION\n",
      "voisin appelé |both|termination|historical|30|Group[233]|PRE-VALIDATION\n",
      "mère a appelé |both|termination|historical|30|Group[233]|PRE-VALIDATION\n",
      "maman a appelé |both|termination|historical|30|Group[233]|PRE-VALIDATION\n",
      "père a appelé |both|termination|historical|30|Group[233]|PRE-VALIDATION\n",
      "la famille a dit |both|termination|historical|30|Group[233]|PRE-VALIDATION\n",
      "la famille a déclaré |both|termination|historical|30|Group[233]|PRE-VALIDATION\n",
      "la famille a dit |both|termination|historical|30|Group[233]|PRE-VALIDATION\n",
      "famille trouvée |both|termination|historical|30|Group[233]|PRE-VALIDATION\n",
      "rapports de fille |both|termination|historical|30|Group[233]|PRE-VALIDATION\n",
      "fille a signalé |both|termination|historical|30|Group[233]|PRE-VALIDATION\n",
      "fille a appelé |both|termination|historical|30|Group[233]|PRE-VALIDATION\n",
      "papa appelé |both|termination|historical|30|Group[233]|PRE-VALIDATION\n"
     ]
    }
   ],
   "source": [
    "from nltk.parse.generate import generate, demo_grammar\n",
    "from nltk import CFG\n",
    "\n",
    "cfg_grammar= \"\"\"\n",
    "S -> Noun2 Trigger_Rule\n",
    "Noun2 -> \"parlé avec la famille\" |\"par famille\" |\"par \\\\w+ famille\" |\"parler avec la famille\" |\"parlé avec la famille\" |\"parler avec la famille\" |\"rapports de fils\" |\"fils rapporté\" |\"fils appelé\" |\"rapports de soeur\" |\"soeur a rapporté\" |\"soeur a appelé\" |\"colocataires appelés\" |\"colocataire appelée\" |\"voisins appelés\" |\"voisin appelé\" |\"voisins appelés\" |\"voisin appelé\" |\"mère a appelé\" |\"maman a appelé\" |\"père a appelé\" |\"la famille a dit\" |\"la famille a déclaré\" |\"la famille a dit\" |\"famille trouvée\" |\"rapports de fille\" |\"fille a signalé\" |\"fille a appelé\" |\"papa appelé\"\n",
    "Trigger_Rule -> \"|both|termination|historical|30|Group[233]|PRE-VALIDATION\"\n",
    "\"\"\"\n",
    "\n",
    "for sentence in generate(CFG.fromstring(cfg_grammar), n=1000):\n",
    "    print(' '.join(sentence))"
   ]
  },
  {
   "cell_type": "code",
   "execution_count": 63,
   "metadata": {},
   "outputs": [
    {
     "name": "stdout",
     "output_type": "stream",
     "text": [
      "histoire sociale |both|pseudo|historical|30|Group[1040]|PRE-VALIDATION\n"
     ]
    }
   ],
   "source": [
    "from nltk.parse.generate import generate, demo_grammar\n",
    "from nltk import CFG\n",
    "\n",
    "cfg_grammar= \"\"\"\n",
    "S -> Noun2 Trigger_Rule\n",
    "Noun2 -> \"histoire sociale\" \n",
    "Trigger_Rule -> \"|both|pseudo|historical|30|Group[1040]|PRE-VALIDATION\"\n",
    "\"\"\"\n",
    "\n",
    "for sentence in generate(CFG.fromstring(cfg_grammar), n=1000):\n",
    "    print(' '.join(sentence))"
   ]
  },
  {
   "cell_type": "code",
   "execution_count": 64,
   "metadata": {},
   "outputs": [
    {
     "name": "stdout",
     "output_type": "stream",
     "text": [
      "être exclu pour |forward|trigger|uncertain|30|Group[156]|PRE-VALIDATION\n",
      "être refusé pour |forward|trigger|uncertain|30|Group[156]|PRE-VALIDATION\n",
      "être repoussé pour |forward|trigger|uncertain|30|Group[156]|PRE-VALIDATION\n",
      "être rejeté pour |forward|trigger|uncertain|30|Group[156]|PRE-VALIDATION\n",
      "être éliminé pour |forward|trigger|uncertain|30|Group[156]|PRE-VALIDATION\n",
      "être proscrit pour |forward|trigger|uncertain|30|Group[156]|PRE-VALIDATION\n"
     ]
    }
   ],
   "source": [
    "from nltk.parse.generate import generate, demo_grammar\n",
    "from nltk import CFG\n",
    "\n",
    "cfg_grammar= \"\"\"\n",
    "S ->  Auxiliary1 Verb2 Adposition3 Trigger_Rule\n",
    "Auxiliary1 -> \"être\"\n",
    "Verb2 -> \"exclu\" | \"refusé\" | \"repoussé\" | \"rejeté\" | \"éliminé\" | \"proscrit\"\n",
    "Adposition3 -> \"pour\"\n",
    "Trigger_Rule -> \"|forward|trigger|uncertain|30|Group[156]|PRE-VALIDATION\"\n",
    "\"\"\"\n",
    "\n",
    "for sentence in generate(CFG.fromstring(cfg_grammar), n=1000):\n",
    "    print(' '.join(sentence))"
   ]
  },
  {
   "cell_type": "code",
   "execution_count": 65,
   "metadata": {},
   "outputs": [
    {
     "name": "stdout",
     "output_type": "stream",
     "text": [
      "être exclu |backward|trigger|uncertain|30|Group[157]|PRE-VALIDATION\n",
      "être refusé |backward|trigger|uncertain|30|Group[157]|PRE-VALIDATION\n",
      "être repoussé |backward|trigger|uncertain|30|Group[157]|PRE-VALIDATION\n",
      "être rejeté |backward|trigger|uncertain|30|Group[157]|PRE-VALIDATION\n",
      "être éliminé |backward|trigger|uncertain|30|Group[157]|PRE-VALIDATION\n",
      "être proscrit |backward|trigger|uncertain|30|Group[157]|PRE-VALIDATION\n"
     ]
    }
   ],
   "source": [
    "from nltk.parse.generate import generate, demo_grammar\n",
    "from nltk import CFG\n",
    "\n",
    "cfg_grammar= \"\"\"\n",
    "S ->  Auxiliary1 Verb2 Trigger_Rule\n",
    "Auxiliary1 -> \"être\"\n",
    "Verb2 -> \"exclu\" | \"refusé\" | \"repoussé\" | \"rejeté\" | \"éliminé\" | \"proscrit\"\n",
    "Trigger_Rule -> \"|backward|trigger|uncertain|30|Group[157]|PRE-VALIDATION\"\n",
    "\"\"\"\n",
    "\n",
    "for sentence in generate(CFG.fromstring(cfg_grammar), n=1000):\n",
    "    print(' '.join(sentence))"
   ]
  },
  {
   "cell_type": "code",
   "execution_count": 66,
   "metadata": {},
   "outputs": [
    {
     "name": "stdout",
     "output_type": "stream",
     "text": [
      "être arrêté |backward|trigger|negated|10|Group[158]|PRE-VALIDATION\n",
      "être arrêté |forward|termination|negated|10|Group[159]|PRE-VALIDATION\n",
      "être stopper |backward|trigger|negated|10|Group[158]|PRE-VALIDATION\n",
      "être stopper |forward|termination|negated|10|Group[159]|PRE-VALIDATION\n",
      "être enrayer |backward|trigger|negated|10|Group[158]|PRE-VALIDATION\n",
      "être enrayer |forward|termination|negated|10|Group[159]|PRE-VALIDATION\n",
      "être contenir |backward|trigger|negated|10|Group[158]|PRE-VALIDATION\n",
      "être contenir |forward|termination|negated|10|Group[159]|PRE-VALIDATION\n",
      "être suspendre |backward|trigger|negated|10|Group[158]|PRE-VALIDATION\n",
      "être suspendre |forward|termination|negated|10|Group[159]|PRE-VALIDATION\n",
      "être juguler |backward|trigger|negated|10|Group[158]|PRE-VALIDATION\n",
      "être juguler |forward|termination|negated|10|Group[159]|PRE-VALIDATION\n",
      "être terminer |backward|trigger|negated|10|Group[158]|PRE-VALIDATION\n",
      "être terminer |forward|termination|negated|10|Group[159]|PRE-VALIDATION\n",
      "être finir |backward|trigger|negated|10|Group[158]|PRE-VALIDATION\n",
      "être finir |forward|termination|negated|10|Group[159]|PRE-VALIDATION\n",
      "être endiguer |backward|trigger|negated|10|Group[158]|PRE-VALIDATION\n",
      "être endiguer |forward|termination|negated|10|Group[159]|PRE-VALIDATION\n",
      "être cesser |backward|trigger|negated|10|Group[158]|PRE-VALIDATION\n",
      "être cesser |forward|termination|negated|10|Group[159]|PRE-VALIDATION\n",
      "être barrer |backward|trigger|negated|10|Group[158]|PRE-VALIDATION\n",
      "être barrer |forward|termination|negated|10|Group[159]|PRE-VALIDATION\n",
      "être empêcher |backward|trigger|negated|10|Group[158]|PRE-VALIDATION\n",
      "être empêcher |forward|termination|negated|10|Group[159]|PRE-VALIDATION\n",
      "être interrompre |backward|trigger|negated|10|Group[158]|PRE-VALIDATION\n",
      "être interrompre |forward|termination|negated|10|Group[159]|PRE-VALIDATION\n",
      "être mettre fin |backward|trigger|negated|10|Group[158]|PRE-VALIDATION\n",
      "être mettre fin |forward|termination|negated|10|Group[159]|PRE-VALIDATION\n",
      "être geler |backward|trigger|negated|10|Group[158]|PRE-VALIDATION\n",
      "être geler |forward|termination|negated|10|Group[159]|PRE-VALIDATION\n"
     ]
    }
   ],
   "source": [
    "from nltk.parse.generate import generate, demo_grammar\n",
    "from nltk import CFG\n",
    "\n",
    "#  Item Number     : 93\n",
    "#  French Term     : être arrêté\n",
    "#  English Term(s) : ['be stopped']\n",
    "#  Index(es)       : [192, 193]\n",
    "#  Grouping(s)     : [158, 159]\n",
    "\n",
    "\n",
    "cfg_grammar= \"\"\"\n",
    "S ->  Auxiliary1 Verb2 Trigger_Rule\n",
    "Auxiliary1 -> \"être\"\n",
    "Verb2 -> \"arrêté\" | \"stopper\" | \"enrayer\" | \"contenir\" | \"suspendre\" | \"juguler\" | \"terminer\" | \"finir\" | \"endiguer\" | \"cesser\" | \"barrer\" | \"empêcher\" | \"interrompre\" | \"mettre fin\" | \"geler\"\n",
    "Trigger_Rule -> \"|backward|trigger|negated|10|Group[158]|PRE-VALIDATION\"|\"|forward|termination|negated|10|Group[159]|PRE-VALIDATION\"\n",
    "\"\"\"\n",
    "\n",
    "for sentence in generate(CFG.fromstring(cfg_grammar), n=1000):\n",
    "    print(' '.join(sentence))"
   ]
  },
  {
   "cell_type": "code",
   "execution_count": 67,
   "metadata": {},
   "outputs": [
    {
     "name": "stdout",
     "output_type": "stream",
     "text": [
      "parce que |both|termination|conditional|30|Group[160]|PRE-VALIDATION\n"
     ]
    }
   ],
   "source": [
    "from nltk.parse.generate import generate, demo_grammar\n",
    "from nltk import CFG\n",
    "\n",
    "cfg_grammar= \"\"\"\n",
    "S ->  Subordinating_conjunction1 Subordinating_conjunction2 Trigger_Rule\n",
    "Subordinating_conjunction1 -> \"parce\"\n",
    "Subordinating_conjunction2 -> \"que\"\n",
    "Trigger_Rule -> \"|both|termination|conditional|30|Group[160]|PRE-VALIDATION\"\n",
    "\"\"\"\n",
    "\n",
    "for sentence in generate(CFG.fromstring(cfg_grammar), n=1000):\n",
    "    print(' '.join(sentence))"
   ]
  },
  {
   "cell_type": "code",
   "execution_count": 68,
   "metadata": {},
   "outputs": [
    {
     "name": "stdout",
     "output_type": "stream",
     "text": [
      "au-delà |forward|termination|negated|10|Group[162]|PRE-VALIDATION\n"
     ]
    }
   ],
   "source": [
    "from nltk.parse.generate import generate, demo_grammar\n",
    "from nltk import CFG\n",
    "\n",
    "cfg_grammar= \"\"\"\n",
    "S ->  Adverb1 Trigger_Rule\n",
    "Adverb1 -> \"au-delà\"\n",
    "Trigger_Rule -> \"|forward|termination|negated|10|Group[162]|PRE-VALIDATION\"\n",
    "\"\"\"\n",
    "\n",
    "for sentence in generate(CFG.fromstring(cfg_grammar), n=1000):\n",
    "    print(' '.join(sentence))"
   ]
  },
  {
   "cell_type": "code",
   "execution_count": 69,
   "metadata": {},
   "outputs": [
    {
     "name": "stdout",
     "output_type": "stream",
     "text": [
      "biopsie de |forward|termination|negated|10|Group[163]|PRE-VALIDATION\n"
     ]
    }
   ],
   "source": [
    "from nltk.parse.generate import generate, demo_grammar\n",
    "from nltk import CFG\n",
    "\n",
    "cfg_grammar= \"\"\"\n",
    "S ->  Noun1 Adposition2 Trigger_Rule\n",
    "Noun1 -> \"biopsie\"\n",
    "Adposition2 -> \"de\"\n",
    "Trigger_Rule -> \"|forward|termination|negated|10|Group[163]|PRE-VALIDATION\"\n",
    "\"\"\"\n",
    "\n",
    "for sentence in generate(CFG.fromstring(cfg_grammar), n=1000):\n",
    "    print(' '.join(sentence))"
   ]
  },
  {
   "cell_type": "code",
   "execution_count": 70,
   "metadata": {},
   "outputs": [
    {
     "name": "stdout",
     "output_type": "stream",
     "text": [
      "limite |forward|trigger|uncertain|30|Group[164]|PRE-VALIDATION\n",
      "seuil |forward|trigger|uncertain|30|Group[164]|PRE-VALIDATION\n",
      "serré |forward|trigger|uncertain|30|Group[164]|PRE-VALIDATION\n"
     ]
    }
   ],
   "source": [
    "from nltk.parse.generate import generate, demo_grammar\n",
    "from nltk import CFG\n",
    "\n",
    "cfg_grammar= \"\"\"\n",
    "S ->  Noun1 Trigger_Rule\n",
    "Noun1 -> \"limite\" | \"seuil\" | \"serré\"\n",
    "Trigger_Rule -> \"|forward|trigger|uncertain|30|Group[164]|PRE-VALIDATION\"\n",
    "\"\"\"\n",
    "\n",
    "for sentence in generate(CFG.fromstring(cfg_grammar), n=1000):\n",
    "    print(' '.join(sentence))"
   ]
  },
  {
   "cell_type": "code",
   "execution_count": 71,
   "metadata": {},
   "outputs": [
    {
     "name": "stdout",
     "output_type": "stream",
     "text": [
      "frères |forward|trigger|nonpatient|30|Group[165]|PRE-VALIDATION\n",
      "cousin |forward|trigger|nonpatient|30|Group[165]|PRE-VALIDATION\n",
      "famille |forward|trigger|nonpatient|30|Group[165]|PRE-VALIDATION\n",
      "parents |forward|trigger|nonpatient|30|Group[165]|PRE-VALIDATION\n",
      "frère |forward|trigger|nonpatient|30|Group[165]|PRE-VALIDATION\n",
      "fratrie |forward|trigger|nonpatient|30|Group[165]|PRE-VALIDATION\n",
      "frere |forward|trigger|nonpatient|30|Group[165]|PRE-VALIDATION\n",
      "sœur |forward|trigger|nonpatient|30|Group[165]|PRE-VALIDATION\n"
     ]
    }
   ],
   "source": [
    "from nltk.parse.generate import generate, demo_grammar\n",
    "from nltk import CFG\n",
    "\n",
    "cfg_grammar= \"\"\"\n",
    "S ->  Noun1 Trigger_Rule\n",
    "Noun1 -> \"frères\" | \"cousin\" | \"famille\" | \"parents\" | \"frère\" | \"fratrie\" | \"frere\" | \"sœur\"\n",
    "Trigger_Rule -> \"|forward|trigger|nonpatient|30|Group[165]|PRE-VALIDATION\"\n",
    "\"\"\"\n",
    "\n",
    "for sentence in generate(CFG.fromstring(cfg_grammar), n=1000):\n",
    "    print(' '.join(sentence))"
   ]
  },
  {
   "cell_type": "code",
   "execution_count": 72,
   "metadata": {},
   "outputs": [
    {
     "name": "stdout",
     "output_type": "stream",
     "text": [
      "frère |forward|trigger|nonpatient|30|Group[167]|PRE-VALIDATION\n",
      "cousin |forward|trigger|nonpatient|30|Group[167]|PRE-VALIDATION\n",
      "fratrie |forward|trigger|nonpatient|30|Group[167]|PRE-VALIDATION\n"
     ]
    }
   ],
   "source": [
    "from nltk.parse.generate import generate, demo_grammar\n",
    "from nltk import CFG\n",
    "\n",
    "cfg_grammar= \"\"\"\n",
    "S ->  Noun1 Trigger_Rule\n",
    "Noun1 -> \"frère\" | \"cousin\" | \"fratrie\"\n",
    "Trigger_Rule -> \"|forward|trigger|nonpatient|30|Group[167]|PRE-VALIDATION\"\n",
    "\"\"\"\n",
    "\n",
    "for sentence in generate(CFG.fromstring(cfg_grammar), n=1000):\n",
    "    print(' '.join(sentence))"
   ]
  },
  {
   "cell_type": "code",
   "execution_count": 73,
   "metadata": {},
   "outputs": [
    {
     "name": "stdout",
     "output_type": "stream",
     "text": [
      "mais |forward|termination|negated|10|Group[168]|PRE-VALIDATION\n",
      "mais |backward|termination|negated|10|Group[169]|PRE-VALIDATION\n"
     ]
    }
   ],
   "source": [
    "from nltk.parse.generate import generate, demo_grammar\n",
    "from nltk import CFG\n",
    "\n",
    "cfg_grammar= \"\"\"\n",
    "S ->  Coordinating_conjunction1 Trigger_Rule\n",
    "Coordinating_conjunction1 -> \"mais\"\n",
    "Trigger_Rule -> \"|forward|termination|negated|10|Group[168]|PRE-VALIDATION\"|\"|backward|termination|negated|10|Group[169]|PRE-VALIDATION\"\n",
    "\"\"\"\n",
    "\n",
    "for sentence in generate(CFG.fromstring(cfg_grammar), n=1000):\n",
    "    print(' '.join(sentence))"
   ]
  },
  {
   "cell_type": "code",
   "execution_count": null,
   "metadata": {},
   "outputs": [],
   "source": []
  }
 ],
 "metadata": {
  "file_extension": ".py",
  "kernelspec": {
   "display_name": "Python 3",
   "language": "python",
   "name": "python3"
  },
  "language_info": {
   "codemirror_mode": {
    "name": "ipython",
    "version": 3
   },
   "file_extension": ".py",
   "mimetype": "text/x-python",
   "name": "python",
   "nbconvert_exporter": "python",
   "pygments_lexer": "ipython3",
   "version": "3.7.2"
  },
  "mimetype": "text/x-python",
  "name": "python",
  "nbconvert_exporter": "python",
  "pygments_lexer": "ipython3",
  "version": "3.7.2"
 },
 "nbformat": 4,
 "nbformat_minor": 2
}
