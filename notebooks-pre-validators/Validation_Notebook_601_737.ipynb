{
 "cells": [
  {
   "cell_type": "code",
   "execution_count": 1,
   "metadata": {},
   "outputs": [
    {
     "name": "stdout",
     "output_type": "stream",
     "text": [
      "rapports de soeur |both|termination|historical|30|Group[1034, 1035]|PRE-VALIDATION\n",
      "rapports de soeur |both|termination|nonpatient|30|Group[1034, 1035]|PRE-VALIDATION\n",
      "rapports de jumeau |both|termination|historical|30|Group[1034, 1035]|PRE-VALIDATION\n",
      "rapports de jumeau |both|termination|nonpatient|30|Group[1034, 1035]|PRE-VALIDATION\n",
      "rapports de belle-sœur |both|termination|historical|30|Group[1034, 1035]|PRE-VALIDATION\n",
      "rapports de belle-sœur |both|termination|nonpatient|30|Group[1034, 1035]|PRE-VALIDATION\n",
      "rapports de sœur |both|termination|historical|30|Group[1034, 1035]|PRE-VALIDATION\n",
      "rapports de sœur |both|termination|nonpatient|30|Group[1034, 1035]|PRE-VALIDATION\n",
      "liaison de soeur |both|termination|historical|30|Group[1034, 1035]|PRE-VALIDATION\n",
      "liaison de soeur |both|termination|nonpatient|30|Group[1034, 1035]|PRE-VALIDATION\n",
      "liaison de jumeau |both|termination|historical|30|Group[1034, 1035]|PRE-VALIDATION\n",
      "liaison de jumeau |both|termination|nonpatient|30|Group[1034, 1035]|PRE-VALIDATION\n",
      "liaison de belle-sœur |both|termination|historical|30|Group[1034, 1035]|PRE-VALIDATION\n",
      "liaison de belle-sœur |both|termination|nonpatient|30|Group[1034, 1035]|PRE-VALIDATION\n",
      "liaison de sœur |both|termination|historical|30|Group[1034, 1035]|PRE-VALIDATION\n",
      "liaison de sœur |both|termination|nonpatient|30|Group[1034, 1035]|PRE-VALIDATION\n",
      "correspondance de soeur |both|termination|historical|30|Group[1034, 1035]|PRE-VALIDATION\n",
      "correspondance de soeur |both|termination|nonpatient|30|Group[1034, 1035]|PRE-VALIDATION\n",
      "correspondance de jumeau |both|termination|historical|30|Group[1034, 1035]|PRE-VALIDATION\n",
      "correspondance de jumeau |both|termination|nonpatient|30|Group[1034, 1035]|PRE-VALIDATION\n",
      "correspondance de belle-sœur |both|termination|historical|30|Group[1034, 1035]|PRE-VALIDATION\n",
      "correspondance de belle-sœur |both|termination|nonpatient|30|Group[1034, 1035]|PRE-VALIDATION\n",
      "correspondance de sœur |both|termination|historical|30|Group[1034, 1035]|PRE-VALIDATION\n",
      "correspondance de sœur |both|termination|nonpatient|30|Group[1034, 1035]|PRE-VALIDATION\n",
      "connexion de soeur |both|termination|historical|30|Group[1034, 1035]|PRE-VALIDATION\n",
      "connexion de soeur |both|termination|nonpatient|30|Group[1034, 1035]|PRE-VALIDATION\n",
      "connexion de jumeau |both|termination|historical|30|Group[1034, 1035]|PRE-VALIDATION\n",
      "connexion de jumeau |both|termination|nonpatient|30|Group[1034, 1035]|PRE-VALIDATION\n",
      "connexion de belle-sœur |both|termination|historical|30|Group[1034, 1035]|PRE-VALIDATION\n",
      "connexion de belle-sœur |both|termination|nonpatient|30|Group[1034, 1035]|PRE-VALIDATION\n",
      "connexion de sœur |both|termination|historical|30|Group[1034, 1035]|PRE-VALIDATION\n",
      "connexion de sœur |both|termination|nonpatient|30|Group[1034, 1035]|PRE-VALIDATION\n",
      "lien de soeur |both|termination|historical|30|Group[1034, 1035]|PRE-VALIDATION\n",
      "lien de soeur |both|termination|nonpatient|30|Group[1034, 1035]|PRE-VALIDATION\n",
      "lien de jumeau |both|termination|historical|30|Group[1034, 1035]|PRE-VALIDATION\n",
      "lien de jumeau |both|termination|nonpatient|30|Group[1034, 1035]|PRE-VALIDATION\n",
      "lien de belle-sœur |both|termination|historical|30|Group[1034, 1035]|PRE-VALIDATION\n",
      "lien de belle-sœur |both|termination|nonpatient|30|Group[1034, 1035]|PRE-VALIDATION\n",
      "lien de sœur |both|termination|historical|30|Group[1034, 1035]|PRE-VALIDATION\n",
      "lien de sœur |both|termination|nonpatient|30|Group[1034, 1035]|PRE-VALIDATION\n",
      "concordance de soeur |both|termination|historical|30|Group[1034, 1035]|PRE-VALIDATION\n",
      "concordance de soeur |both|termination|nonpatient|30|Group[1034, 1035]|PRE-VALIDATION\n",
      "concordance de jumeau |both|termination|historical|30|Group[1034, 1035]|PRE-VALIDATION\n",
      "concordance de jumeau |both|termination|nonpatient|30|Group[1034, 1035]|PRE-VALIDATION\n",
      "concordance de belle-sœur |both|termination|historical|30|Group[1034, 1035]|PRE-VALIDATION\n",
      "concordance de belle-sœur |both|termination|nonpatient|30|Group[1034, 1035]|PRE-VALIDATION\n",
      "concordance de sœur |both|termination|historical|30|Group[1034, 1035]|PRE-VALIDATION\n",
      "concordance de sœur |both|termination|nonpatient|30|Group[1034, 1035]|PRE-VALIDATION\n",
      "similitude de soeur |both|termination|historical|30|Group[1034, 1035]|PRE-VALIDATION\n",
      "similitude de soeur |both|termination|nonpatient|30|Group[1034, 1035]|PRE-VALIDATION\n",
      "similitude de jumeau |both|termination|historical|30|Group[1034, 1035]|PRE-VALIDATION\n",
      "similitude de jumeau |both|termination|nonpatient|30|Group[1034, 1035]|PRE-VALIDATION\n",
      "similitude de belle-sœur |both|termination|historical|30|Group[1034, 1035]|PRE-VALIDATION\n",
      "similitude de belle-sœur |both|termination|nonpatient|30|Group[1034, 1035]|PRE-VALIDATION\n",
      "similitude de sœur |both|termination|historical|30|Group[1034, 1035]|PRE-VALIDATION\n",
      "similitude de sœur |both|termination|nonpatient|30|Group[1034, 1035]|PRE-VALIDATION\n",
      "analogie de soeur |both|termination|historical|30|Group[1034, 1035]|PRE-VALIDATION\n",
      "analogie de soeur |both|termination|nonpatient|30|Group[1034, 1035]|PRE-VALIDATION\n",
      "analogie de jumeau |both|termination|historical|30|Group[1034, 1035]|PRE-VALIDATION\n",
      "analogie de jumeau |both|termination|nonpatient|30|Group[1034, 1035]|PRE-VALIDATION\n",
      "analogie de belle-sœur |both|termination|historical|30|Group[1034, 1035]|PRE-VALIDATION\n",
      "analogie de belle-sœur |both|termination|nonpatient|30|Group[1034, 1035]|PRE-VALIDATION\n",
      "analogie de sœur |both|termination|historical|30|Group[1034, 1035]|PRE-VALIDATION\n",
      "analogie de sœur |both|termination|nonpatient|30|Group[1034, 1035]|PRE-VALIDATION\n",
      "corrélation de soeur |both|termination|historical|30|Group[1034, 1035]|PRE-VALIDATION\n",
      "corrélation de soeur |both|termination|nonpatient|30|Group[1034, 1035]|PRE-VALIDATION\n",
      "corrélation de jumeau |both|termination|historical|30|Group[1034, 1035]|PRE-VALIDATION\n",
      "corrélation de jumeau |both|termination|nonpatient|30|Group[1034, 1035]|PRE-VALIDATION\n",
      "corrélation de belle-sœur |both|termination|historical|30|Group[1034, 1035]|PRE-VALIDATION\n",
      "corrélation de belle-sœur |both|termination|nonpatient|30|Group[1034, 1035]|PRE-VALIDATION\n",
      "corrélation de sœur |both|termination|historical|30|Group[1034, 1035]|PRE-VALIDATION\n",
      "corrélation de sœur |both|termination|nonpatient|30|Group[1034, 1035]|PRE-VALIDATION\n",
      "interdépendance de soeur |both|termination|historical|30|Group[1034, 1035]|PRE-VALIDATION\n",
      "interdépendance de soeur |both|termination|nonpatient|30|Group[1034, 1035]|PRE-VALIDATION\n",
      "interdépendance de jumeau |both|termination|historical|30|Group[1034, 1035]|PRE-VALIDATION\n",
      "interdépendance de jumeau |both|termination|nonpatient|30|Group[1034, 1035]|PRE-VALIDATION\n",
      "interdépendance de belle-sœur |both|termination|historical|30|Group[1034, 1035]|PRE-VALIDATION\n",
      "interdépendance de belle-sœur |both|termination|nonpatient|30|Group[1034, 1035]|PRE-VALIDATION\n",
      "interdépendance de sœur |both|termination|historical|30|Group[1034, 1035]|PRE-VALIDATION\n",
      "interdépendance de sœur |both|termination|nonpatient|30|Group[1034, 1035]|PRE-VALIDATION\n",
      "attachement de soeur |both|termination|historical|30|Group[1034, 1035]|PRE-VALIDATION\n",
      "attachement de soeur |both|termination|nonpatient|30|Group[1034, 1035]|PRE-VALIDATION\n",
      "attachement de jumeau |both|termination|historical|30|Group[1034, 1035]|PRE-VALIDATION\n",
      "attachement de jumeau |both|termination|nonpatient|30|Group[1034, 1035]|PRE-VALIDATION\n",
      "attachement de belle-sœur |both|termination|historical|30|Group[1034, 1035]|PRE-VALIDATION\n",
      "attachement de belle-sœur |both|termination|nonpatient|30|Group[1034, 1035]|PRE-VALIDATION\n",
      "attachement de sœur |both|termination|historical|30|Group[1034, 1035]|PRE-VALIDATION\n",
      "attachement de sœur |both|termination|nonpatient|30|Group[1034, 1035]|PRE-VALIDATION\n",
      "enchaînement de soeur |both|termination|historical|30|Group[1034, 1035]|PRE-VALIDATION\n",
      "enchaînement de soeur |both|termination|nonpatient|30|Group[1034, 1035]|PRE-VALIDATION\n",
      "enchaînement de jumeau |both|termination|historical|30|Group[1034, 1035]|PRE-VALIDATION\n",
      "enchaînement de jumeau |both|termination|nonpatient|30|Group[1034, 1035]|PRE-VALIDATION\n",
      "enchaînement de belle-sœur |both|termination|historical|30|Group[1034, 1035]|PRE-VALIDATION\n",
      "enchaînement de belle-sœur |both|termination|nonpatient|30|Group[1034, 1035]|PRE-VALIDATION\n",
      "enchaînement de sœur |both|termination|historical|30|Group[1034, 1035]|PRE-VALIDATION\n",
      "enchaînement de sœur |both|termination|nonpatient|30|Group[1034, 1035]|PRE-VALIDATION\n",
      "rapprochement de soeur |both|termination|historical|30|Group[1034, 1035]|PRE-VALIDATION\n",
      "rapprochement de soeur |both|termination|nonpatient|30|Group[1034, 1035]|PRE-VALIDATION\n",
      "rapprochement de jumeau |both|termination|historical|30|Group[1034, 1035]|PRE-VALIDATION\n",
      "rapprochement de jumeau |both|termination|nonpatient|30|Group[1034, 1035]|PRE-VALIDATION\n",
      "rapprochement de belle-sœur |both|termination|historical|30|Group[1034, 1035]|PRE-VALIDATION\n",
      "rapprochement de belle-sœur |both|termination|nonpatient|30|Group[1034, 1035]|PRE-VALIDATION\n",
      "rapprochement de sœur |both|termination|historical|30|Group[1034, 1035]|PRE-VALIDATION\n",
      "rapprochement de sœur |both|termination|nonpatient|30|Group[1034, 1035]|PRE-VALIDATION\n"
     ]
    }
   ],
   "source": [
    "from nltk.parse.generate import generate, demo_grammar\n",
    "from nltk import CFG\n",
    "\n",
    "cfg_grammar= \"\"\"\n",
    "S ->  Noun1 Adposition2 Noun3 Trigger_Rule\n",
    "Noun1 -> \"rapports\" | \"liaison\" | \"correspondance\" | \"connexion\" | \"lien\" | \"concordance\" | \"similitude\" | \"analogie\" | \"corrélation\" | \"interdépendance\" | \"attachement\" | \"enchaînement\" | \"rapprochement\"\n",
    "Adposition2 -> \"de\"\n",
    "Noun3 -> \"soeur\" | \"jumeau\" | \"belle-sœur\" | \"sœur\"\n",
    "Trigger_Rule -> \"|both|termination|historical|30|Group[1034, 1035]|PRE-VALIDATION\"|\"|both|termination|nonpatient|30|Group[1034, 1035]|PRE-VALIDATION\"\n",
    "\"\"\"\n",
    "\n",
    "for sentence in generate(CFG.fromstring(cfg_grammar), n=1000):\n",
    "    print(' '.join(sentence))"
   ]
  },
  {
   "cell_type": "code",
   "execution_count": 2,
   "metadata": {},
   "outputs": [
    {
     "name": "stdout",
     "output_type": "stream",
     "text": [
      "soeur a rapporté |both|termination|historical|30|Group[1034, 1035]|PRE-VALIDATION\n",
      "soeur a rapporté |both|termination|nonpatient|30|Group[1034, 1035]|PRE-VALIDATION\n",
      "soeur a révéler |both|termination|historical|30|Group[1034, 1035]|PRE-VALIDATION\n",
      "soeur a révéler |both|termination|nonpatient|30|Group[1034, 1035]|PRE-VALIDATION\n",
      "soeur a exposer |both|termination|historical|30|Group[1034, 1035]|PRE-VALIDATION\n",
      "soeur a exposer |both|termination|nonpatient|30|Group[1034, 1035]|PRE-VALIDATION\n",
      "soeur a signaler |both|termination|historical|30|Group[1034, 1035]|PRE-VALIDATION\n",
      "soeur a signaler |both|termination|nonpatient|30|Group[1034, 1035]|PRE-VALIDATION\n",
      "soeur a mentionner |both|termination|historical|30|Group[1034, 1035]|PRE-VALIDATION\n",
      "soeur a mentionner |both|termination|nonpatient|30|Group[1034, 1035]|PRE-VALIDATION\n",
      "soeur a dévoiler |both|termination|historical|30|Group[1034, 1035]|PRE-VALIDATION\n",
      "soeur a dévoiler |both|termination|nonpatient|30|Group[1034, 1035]|PRE-VALIDATION\n",
      "soeur a témoigner |both|termination|historical|30|Group[1034, 1035]|PRE-VALIDATION\n",
      "soeur a témoigner |both|termination|nonpatient|30|Group[1034, 1035]|PRE-VALIDATION\n",
      "jumeau a rapporté |both|termination|historical|30|Group[1034, 1035]|PRE-VALIDATION\n",
      "jumeau a rapporté |both|termination|nonpatient|30|Group[1034, 1035]|PRE-VALIDATION\n",
      "jumeau a révéler |both|termination|historical|30|Group[1034, 1035]|PRE-VALIDATION\n",
      "jumeau a révéler |both|termination|nonpatient|30|Group[1034, 1035]|PRE-VALIDATION\n",
      "jumeau a exposer |both|termination|historical|30|Group[1034, 1035]|PRE-VALIDATION\n",
      "jumeau a exposer |both|termination|nonpatient|30|Group[1034, 1035]|PRE-VALIDATION\n",
      "jumeau a signaler |both|termination|historical|30|Group[1034, 1035]|PRE-VALIDATION\n",
      "jumeau a signaler |both|termination|nonpatient|30|Group[1034, 1035]|PRE-VALIDATION\n",
      "jumeau a mentionner |both|termination|historical|30|Group[1034, 1035]|PRE-VALIDATION\n",
      "jumeau a mentionner |both|termination|nonpatient|30|Group[1034, 1035]|PRE-VALIDATION\n",
      "jumeau a dévoiler |both|termination|historical|30|Group[1034, 1035]|PRE-VALIDATION\n",
      "jumeau a dévoiler |both|termination|nonpatient|30|Group[1034, 1035]|PRE-VALIDATION\n",
      "jumeau a témoigner |both|termination|historical|30|Group[1034, 1035]|PRE-VALIDATION\n",
      "jumeau a témoigner |both|termination|nonpatient|30|Group[1034, 1035]|PRE-VALIDATION\n",
      "belle-sœur a rapporté |both|termination|historical|30|Group[1034, 1035]|PRE-VALIDATION\n",
      "belle-sœur a rapporté |both|termination|nonpatient|30|Group[1034, 1035]|PRE-VALIDATION\n",
      "belle-sœur a révéler |both|termination|historical|30|Group[1034, 1035]|PRE-VALIDATION\n",
      "belle-sœur a révéler |both|termination|nonpatient|30|Group[1034, 1035]|PRE-VALIDATION\n",
      "belle-sœur a exposer |both|termination|historical|30|Group[1034, 1035]|PRE-VALIDATION\n",
      "belle-sœur a exposer |both|termination|nonpatient|30|Group[1034, 1035]|PRE-VALIDATION\n",
      "belle-sœur a signaler |both|termination|historical|30|Group[1034, 1035]|PRE-VALIDATION\n",
      "belle-sœur a signaler |both|termination|nonpatient|30|Group[1034, 1035]|PRE-VALIDATION\n",
      "belle-sœur a mentionner |both|termination|historical|30|Group[1034, 1035]|PRE-VALIDATION\n",
      "belle-sœur a mentionner |both|termination|nonpatient|30|Group[1034, 1035]|PRE-VALIDATION\n",
      "belle-sœur a dévoiler |both|termination|historical|30|Group[1034, 1035]|PRE-VALIDATION\n",
      "belle-sœur a dévoiler |both|termination|nonpatient|30|Group[1034, 1035]|PRE-VALIDATION\n",
      "belle-sœur a témoigner |both|termination|historical|30|Group[1034, 1035]|PRE-VALIDATION\n",
      "belle-sœur a témoigner |both|termination|nonpatient|30|Group[1034, 1035]|PRE-VALIDATION\n",
      "sœur a rapporté |both|termination|historical|30|Group[1034, 1035]|PRE-VALIDATION\n",
      "sœur a rapporté |both|termination|nonpatient|30|Group[1034, 1035]|PRE-VALIDATION\n",
      "sœur a révéler |both|termination|historical|30|Group[1034, 1035]|PRE-VALIDATION\n",
      "sœur a révéler |both|termination|nonpatient|30|Group[1034, 1035]|PRE-VALIDATION\n",
      "sœur a exposer |both|termination|historical|30|Group[1034, 1035]|PRE-VALIDATION\n",
      "sœur a exposer |both|termination|nonpatient|30|Group[1034, 1035]|PRE-VALIDATION\n",
      "sœur a signaler |both|termination|historical|30|Group[1034, 1035]|PRE-VALIDATION\n",
      "sœur a signaler |both|termination|nonpatient|30|Group[1034, 1035]|PRE-VALIDATION\n",
      "sœur a mentionner |both|termination|historical|30|Group[1034, 1035]|PRE-VALIDATION\n",
      "sœur a mentionner |both|termination|nonpatient|30|Group[1034, 1035]|PRE-VALIDATION\n",
      "sœur a dévoiler |both|termination|historical|30|Group[1034, 1035]|PRE-VALIDATION\n",
      "sœur a dévoiler |both|termination|nonpatient|30|Group[1034, 1035]|PRE-VALIDATION\n",
      "sœur a témoigner |both|termination|historical|30|Group[1034, 1035]|PRE-VALIDATION\n",
      "sœur a témoigner |both|termination|nonpatient|30|Group[1034, 1035]|PRE-VALIDATION\n"
     ]
    }
   ],
   "source": [
    "from nltk.parse.generate import generate, demo_grammar\n",
    "from nltk import CFG\n",
    "\n",
    "cfg_grammar= \"\"\"\n",
    "S ->  Noun1 Auxiliary2 Verb3 Trigger_Rule\n",
    "Noun1 -> \"soeur\" | \"jumeau\" | \"belle-sœur\" | \"sœur\"\n",
    "Auxiliary2 -> \"a\"\n",
    "Verb3 -> \"rapporté\" | \"révéler\" | \"exposer\" | \"signaler\" | \"mentionner\" | \"dévoiler\" | \"témoigner\"\n",
    "Trigger_Rule -> \"|both|termination|historical|30|Group[1034, 1035]|PRE-VALIDATION\"|\"|both|termination|nonpatient|30|Group[1034, 1035]|PRE-VALIDATION\"\n",
    "\"\"\"\n",
    "\n",
    "for sentence in generate(CFG.fromstring(cfg_grammar), n=1000):\n",
    "    print(' '.join(sentence))"
   ]
  },
  {
   "cell_type": "code",
   "execution_count": 3,
   "metadata": {},
   "outputs": [
    {
     "name": "stdout",
     "output_type": "stream",
     "text": [
      "soeur a appelé |both|termination|historical|30|Group[1034, 1035]|PRE-VALIDATION\n",
      "soeur a appelé |both|termination|nonpatient|30|Group[1034, 1035]|PRE-VALIDATION\n",
      "jumeau a appelé |both|termination|historical|30|Group[1034, 1035]|PRE-VALIDATION\n",
      "jumeau a appelé |both|termination|nonpatient|30|Group[1034, 1035]|PRE-VALIDATION\n",
      "belle-sœur a appelé |both|termination|historical|30|Group[1034, 1035]|PRE-VALIDATION\n",
      "belle-sœur a appelé |both|termination|nonpatient|30|Group[1034, 1035]|PRE-VALIDATION\n",
      "sœur a appelé |both|termination|historical|30|Group[1034, 1035]|PRE-VALIDATION\n",
      "sœur a appelé |both|termination|nonpatient|30|Group[1034, 1035]|PRE-VALIDATION\n"
     ]
    }
   ],
   "source": [
    "from nltk.parse.generate import generate, demo_grammar\n",
    "from nltk import CFG\n",
    "\n",
    "cfg_grammar= \"\"\"\n",
    "S ->  Noun1 Auxiliary2 Auxiliary3 Trigger_Rule\n",
    "Noun1 -> \"soeur\" | \"jumeau\" | \"belle-sœur\" | \"sœur\"\n",
    "Auxiliary2 -> \"a\"\n",
    "Auxiliary3 -> \"appelé\"\n",
    "Trigger_Rule -> \"|both|termination|historical|30|Group[1034, 1035]|PRE-VALIDATION\"|\"|both|termination|nonpatient|30|Group[1034, 1035]|PRE-VALIDATION\"\n",
    "\"\"\"\n",
    "\n",
    "for sentence in generate(CFG.fromstring(cfg_grammar), n=1000):\n",
    "    print(' '.join(sentence))"
   ]
  },
  {
   "cell_type": "code",
   "execution_count": 4,
   "metadata": {},
   "outputs": [
    {
     "name": "stdout",
     "output_type": "stream",
     "text": [
      "histoire sociale |both|pseudo|historical|30|Group[1040]|PRE-VALIDATION\n",
      "passé sociale |both|pseudo|historical|30|Group[1040]|PRE-VALIDATION\n",
      "souvenir sociale |both|pseudo|historical|30|Group[1040]|PRE-VALIDATION\n",
      "historique sociale |both|pseudo|historical|30|Group[1040]|PRE-VALIDATION\n"
     ]
    }
   ],
   "source": [
    "from nltk.parse.generate import generate, demo_grammar\n",
    "from nltk import CFG\n",
    "\n",
    "cfg_grammar= \"\"\"\n",
    "S ->  Noun1 Adjective2 Trigger_Rule\n",
    "Noun1 -> \"histoire\" | \"passé\" | \"souvenir\" | \"historique\"\n",
    "Adjective2 -> \"sociale\"\n",
    "Trigger_Rule -> \"|both|pseudo|historical|30|Group[1040]|PRE-VALIDATION\"\n",
    "\"\"\"\n",
    "\n",
    "for sentence in generate(CFG.fromstring(cfg_grammar), n=1000):\n",
    "    print(' '.join(sentence))"
   ]
  },
  {
   "cell_type": "code",
   "execution_count": 5,
   "metadata": {},
   "outputs": [
    {
     "name": "stdout",
     "output_type": "stream",
     "text": [
      "fils rapporté |both|termination|historical|30|Group[1041, 1042]|PRE-VALIDATION\n",
      "fils rapporté |both|termination|nonpatient|30|Group[1041, 1042]|PRE-VALIDATION\n",
      "fils révéler |both|termination|historical|30|Group[1041, 1042]|PRE-VALIDATION\n",
      "fils révéler |both|termination|nonpatient|30|Group[1041, 1042]|PRE-VALIDATION\n",
      "fils exposer |both|termination|historical|30|Group[1041, 1042]|PRE-VALIDATION\n",
      "fils exposer |both|termination|nonpatient|30|Group[1041, 1042]|PRE-VALIDATION\n",
      "fils signaler |both|termination|historical|30|Group[1041, 1042]|PRE-VALIDATION\n",
      "fils signaler |both|termination|nonpatient|30|Group[1041, 1042]|PRE-VALIDATION\n",
      "fils mentionner |both|termination|historical|30|Group[1041, 1042]|PRE-VALIDATION\n",
      "fils mentionner |both|termination|nonpatient|30|Group[1041, 1042]|PRE-VALIDATION\n",
      "fils dévoiler |both|termination|historical|30|Group[1041, 1042]|PRE-VALIDATION\n",
      "fils dévoiler |both|termination|nonpatient|30|Group[1041, 1042]|PRE-VALIDATION\n",
      "fils témoigner |both|termination|historical|30|Group[1041, 1042]|PRE-VALIDATION\n",
      "fils témoigner |both|termination|nonpatient|30|Group[1041, 1042]|PRE-VALIDATION\n",
      "garçon rapporté |both|termination|historical|30|Group[1041, 1042]|PRE-VALIDATION\n",
      "garçon rapporté |both|termination|nonpatient|30|Group[1041, 1042]|PRE-VALIDATION\n",
      "garçon révéler |both|termination|historical|30|Group[1041, 1042]|PRE-VALIDATION\n",
      "garçon révéler |both|termination|nonpatient|30|Group[1041, 1042]|PRE-VALIDATION\n",
      "garçon exposer |both|termination|historical|30|Group[1041, 1042]|PRE-VALIDATION\n",
      "garçon exposer |both|termination|nonpatient|30|Group[1041, 1042]|PRE-VALIDATION\n",
      "garçon signaler |both|termination|historical|30|Group[1041, 1042]|PRE-VALIDATION\n",
      "garçon signaler |both|termination|nonpatient|30|Group[1041, 1042]|PRE-VALIDATION\n",
      "garçon mentionner |both|termination|historical|30|Group[1041, 1042]|PRE-VALIDATION\n",
      "garçon mentionner |both|termination|nonpatient|30|Group[1041, 1042]|PRE-VALIDATION\n",
      "garçon dévoiler |both|termination|historical|30|Group[1041, 1042]|PRE-VALIDATION\n",
      "garçon dévoiler |both|termination|nonpatient|30|Group[1041, 1042]|PRE-VALIDATION\n",
      "garçon témoigner |both|termination|historical|30|Group[1041, 1042]|PRE-VALIDATION\n",
      "garçon témoigner |both|termination|nonpatient|30|Group[1041, 1042]|PRE-VALIDATION\n",
      "beau-fils rapporté |both|termination|historical|30|Group[1041, 1042]|PRE-VALIDATION\n",
      "beau-fils rapporté |both|termination|nonpatient|30|Group[1041, 1042]|PRE-VALIDATION\n",
      "beau-fils révéler |both|termination|historical|30|Group[1041, 1042]|PRE-VALIDATION\n",
      "beau-fils révéler |both|termination|nonpatient|30|Group[1041, 1042]|PRE-VALIDATION\n",
      "beau-fils exposer |both|termination|historical|30|Group[1041, 1042]|PRE-VALIDATION\n",
      "beau-fils exposer |both|termination|nonpatient|30|Group[1041, 1042]|PRE-VALIDATION\n",
      "beau-fils signaler |both|termination|historical|30|Group[1041, 1042]|PRE-VALIDATION\n",
      "beau-fils signaler |both|termination|nonpatient|30|Group[1041, 1042]|PRE-VALIDATION\n",
      "beau-fils mentionner |both|termination|historical|30|Group[1041, 1042]|PRE-VALIDATION\n",
      "beau-fils mentionner |both|termination|nonpatient|30|Group[1041, 1042]|PRE-VALIDATION\n",
      "beau-fils dévoiler |both|termination|historical|30|Group[1041, 1042]|PRE-VALIDATION\n",
      "beau-fils dévoiler |both|termination|nonpatient|30|Group[1041, 1042]|PRE-VALIDATION\n",
      "beau-fils témoigner |both|termination|historical|30|Group[1041, 1042]|PRE-VALIDATION\n",
      "beau-fils témoigner |both|termination|nonpatient|30|Group[1041, 1042]|PRE-VALIDATION\n"
     ]
    }
   ],
   "source": [
    "from nltk.parse.generate import generate, demo_grammar\n",
    "from nltk import CFG\n",
    "\n",
    "cfg_grammar= \"\"\"\n",
    "S ->  Noun1 Verb2 Trigger_Rule\n",
    "Noun1 -> \"fils\" | \"garçon\" | \"beau-fils\"\n",
    "Verb2 -> \"rapporté\" | \"révéler\" | \"exposer\" | \"signaler\" | \"mentionner\" | \"dévoiler\" | \"témoigner\"\n",
    "Trigger_Rule -> \"|both|termination|historical|30|Group[1041, 1042]|PRE-VALIDATION\"|\"|both|termination|nonpatient|30|Group[1041, 1042]|PRE-VALIDATION\"\n",
    "\"\"\"\n",
    "\n",
    "for sentence in generate(CFG.fromstring(cfg_grammar), n=1000):\n",
    "    print(' '.join(sentence))"
   ]
  },
  {
   "cell_type": "code",
   "execution_count": 6,
   "metadata": {},
   "outputs": [
    {
     "name": "stdout",
     "output_type": "stream",
     "text": [
      "rapports de fils |both|termination|historical|30|Group[1041, 1042]|PRE-VALIDATION\n",
      "rapports de fils |both|termination|nonpatient|30|Group[1041, 1042]|PRE-VALIDATION\n",
      "rapports de garçon |both|termination|historical|30|Group[1041, 1042]|PRE-VALIDATION\n",
      "rapports de garçon |both|termination|nonpatient|30|Group[1041, 1042]|PRE-VALIDATION\n",
      "rapports de beau-fils |both|termination|historical|30|Group[1041, 1042]|PRE-VALIDATION\n",
      "rapports de beau-fils |both|termination|nonpatient|30|Group[1041, 1042]|PRE-VALIDATION\n",
      "liaison de fils |both|termination|historical|30|Group[1041, 1042]|PRE-VALIDATION\n",
      "liaison de fils |both|termination|nonpatient|30|Group[1041, 1042]|PRE-VALIDATION\n",
      "liaison de garçon |both|termination|historical|30|Group[1041, 1042]|PRE-VALIDATION\n",
      "liaison de garçon |both|termination|nonpatient|30|Group[1041, 1042]|PRE-VALIDATION\n",
      "liaison de beau-fils |both|termination|historical|30|Group[1041, 1042]|PRE-VALIDATION\n",
      "liaison de beau-fils |both|termination|nonpatient|30|Group[1041, 1042]|PRE-VALIDATION\n",
      "correspondance de fils |both|termination|historical|30|Group[1041, 1042]|PRE-VALIDATION\n",
      "correspondance de fils |both|termination|nonpatient|30|Group[1041, 1042]|PRE-VALIDATION\n",
      "correspondance de garçon |both|termination|historical|30|Group[1041, 1042]|PRE-VALIDATION\n",
      "correspondance de garçon |both|termination|nonpatient|30|Group[1041, 1042]|PRE-VALIDATION\n",
      "correspondance de beau-fils |both|termination|historical|30|Group[1041, 1042]|PRE-VALIDATION\n",
      "correspondance de beau-fils |both|termination|nonpatient|30|Group[1041, 1042]|PRE-VALIDATION\n",
      "connexion de fils |both|termination|historical|30|Group[1041, 1042]|PRE-VALIDATION\n",
      "connexion de fils |both|termination|nonpatient|30|Group[1041, 1042]|PRE-VALIDATION\n",
      "connexion de garçon |both|termination|historical|30|Group[1041, 1042]|PRE-VALIDATION\n",
      "connexion de garçon |both|termination|nonpatient|30|Group[1041, 1042]|PRE-VALIDATION\n",
      "connexion de beau-fils |both|termination|historical|30|Group[1041, 1042]|PRE-VALIDATION\n",
      "connexion de beau-fils |both|termination|nonpatient|30|Group[1041, 1042]|PRE-VALIDATION\n",
      "lien de fils |both|termination|historical|30|Group[1041, 1042]|PRE-VALIDATION\n",
      "lien de fils |both|termination|nonpatient|30|Group[1041, 1042]|PRE-VALIDATION\n",
      "lien de garçon |both|termination|historical|30|Group[1041, 1042]|PRE-VALIDATION\n",
      "lien de garçon |both|termination|nonpatient|30|Group[1041, 1042]|PRE-VALIDATION\n",
      "lien de beau-fils |both|termination|historical|30|Group[1041, 1042]|PRE-VALIDATION\n",
      "lien de beau-fils |both|termination|nonpatient|30|Group[1041, 1042]|PRE-VALIDATION\n",
      "concordance de fils |both|termination|historical|30|Group[1041, 1042]|PRE-VALIDATION\n",
      "concordance de fils |both|termination|nonpatient|30|Group[1041, 1042]|PRE-VALIDATION\n",
      "concordance de garçon |both|termination|historical|30|Group[1041, 1042]|PRE-VALIDATION\n",
      "concordance de garçon |both|termination|nonpatient|30|Group[1041, 1042]|PRE-VALIDATION\n",
      "concordance de beau-fils |both|termination|historical|30|Group[1041, 1042]|PRE-VALIDATION\n",
      "concordance de beau-fils |both|termination|nonpatient|30|Group[1041, 1042]|PRE-VALIDATION\n",
      "similitude de fils |both|termination|historical|30|Group[1041, 1042]|PRE-VALIDATION\n",
      "similitude de fils |both|termination|nonpatient|30|Group[1041, 1042]|PRE-VALIDATION\n",
      "similitude de garçon |both|termination|historical|30|Group[1041, 1042]|PRE-VALIDATION\n",
      "similitude de garçon |both|termination|nonpatient|30|Group[1041, 1042]|PRE-VALIDATION\n",
      "similitude de beau-fils |both|termination|historical|30|Group[1041, 1042]|PRE-VALIDATION\n",
      "similitude de beau-fils |both|termination|nonpatient|30|Group[1041, 1042]|PRE-VALIDATION\n",
      "analogie de fils |both|termination|historical|30|Group[1041, 1042]|PRE-VALIDATION\n",
      "analogie de fils |both|termination|nonpatient|30|Group[1041, 1042]|PRE-VALIDATION\n",
      "analogie de garçon |both|termination|historical|30|Group[1041, 1042]|PRE-VALIDATION\n",
      "analogie de garçon |both|termination|nonpatient|30|Group[1041, 1042]|PRE-VALIDATION\n",
      "analogie de beau-fils |both|termination|historical|30|Group[1041, 1042]|PRE-VALIDATION\n",
      "analogie de beau-fils |both|termination|nonpatient|30|Group[1041, 1042]|PRE-VALIDATION\n",
      "corrélation de fils |both|termination|historical|30|Group[1041, 1042]|PRE-VALIDATION\n",
      "corrélation de fils |both|termination|nonpatient|30|Group[1041, 1042]|PRE-VALIDATION\n",
      "corrélation de garçon |both|termination|historical|30|Group[1041, 1042]|PRE-VALIDATION\n",
      "corrélation de garçon |both|termination|nonpatient|30|Group[1041, 1042]|PRE-VALIDATION\n",
      "corrélation de beau-fils |both|termination|historical|30|Group[1041, 1042]|PRE-VALIDATION\n",
      "corrélation de beau-fils |both|termination|nonpatient|30|Group[1041, 1042]|PRE-VALIDATION\n",
      "interdépendance de fils |both|termination|historical|30|Group[1041, 1042]|PRE-VALIDATION\n",
      "interdépendance de fils |both|termination|nonpatient|30|Group[1041, 1042]|PRE-VALIDATION\n",
      "interdépendance de garçon |both|termination|historical|30|Group[1041, 1042]|PRE-VALIDATION\n",
      "interdépendance de garçon |both|termination|nonpatient|30|Group[1041, 1042]|PRE-VALIDATION\n",
      "interdépendance de beau-fils |both|termination|historical|30|Group[1041, 1042]|PRE-VALIDATION\n",
      "interdépendance de beau-fils |both|termination|nonpatient|30|Group[1041, 1042]|PRE-VALIDATION\n",
      "attachement de fils |both|termination|historical|30|Group[1041, 1042]|PRE-VALIDATION\n",
      "attachement de fils |both|termination|nonpatient|30|Group[1041, 1042]|PRE-VALIDATION\n",
      "attachement de garçon |both|termination|historical|30|Group[1041, 1042]|PRE-VALIDATION\n",
      "attachement de garçon |both|termination|nonpatient|30|Group[1041, 1042]|PRE-VALIDATION\n",
      "attachement de beau-fils |both|termination|historical|30|Group[1041, 1042]|PRE-VALIDATION\n",
      "attachement de beau-fils |both|termination|nonpatient|30|Group[1041, 1042]|PRE-VALIDATION\n",
      "enchaînement de fils |both|termination|historical|30|Group[1041, 1042]|PRE-VALIDATION\n",
      "enchaînement de fils |both|termination|nonpatient|30|Group[1041, 1042]|PRE-VALIDATION\n",
      "enchaînement de garçon |both|termination|historical|30|Group[1041, 1042]|PRE-VALIDATION\n",
      "enchaînement de garçon |both|termination|nonpatient|30|Group[1041, 1042]|PRE-VALIDATION\n",
      "enchaînement de beau-fils |both|termination|historical|30|Group[1041, 1042]|PRE-VALIDATION\n",
      "enchaînement de beau-fils |both|termination|nonpatient|30|Group[1041, 1042]|PRE-VALIDATION\n",
      "rapprochement de fils |both|termination|historical|30|Group[1041, 1042]|PRE-VALIDATION\n",
      "rapprochement de fils |both|termination|nonpatient|30|Group[1041, 1042]|PRE-VALIDATION\n",
      "rapprochement de garçon |both|termination|historical|30|Group[1041, 1042]|PRE-VALIDATION\n",
      "rapprochement de garçon |both|termination|nonpatient|30|Group[1041, 1042]|PRE-VALIDATION\n",
      "rapprochement de beau-fils |both|termination|historical|30|Group[1041, 1042]|PRE-VALIDATION\n",
      "rapprochement de beau-fils |both|termination|nonpatient|30|Group[1041, 1042]|PRE-VALIDATION\n"
     ]
    }
   ],
   "source": [
    "from nltk.parse.generate import generate, demo_grammar\n",
    "from nltk import CFG\n",
    "\n",
    "cfg_grammar= \"\"\"\n",
    "S ->  Noun1 Adposition2 Noun3 Trigger_Rule\n",
    "Noun1 -> \"rapports\" | \"liaison\" | \"correspondance\" | \"connexion\" | \"lien\" | \"concordance\" | \"similitude\" | \"analogie\" | \"corrélation\" | \"interdépendance\" | \"attachement\" | \"enchaînement\" | \"rapprochement\"\n",
    "Adposition2 -> \"de\"\n",
    "Noun3 -> \"fils\" | \"garçon\" | \"beau-fils\"\n",
    "Trigger_Rule -> \"|both|termination|historical|30|Group[1041, 1042]|PRE-VALIDATION\"|\"|both|termination|nonpatient|30|Group[1041, 1042]|PRE-VALIDATION\"\n",
    "\"\"\"\n",
    "\n",
    "for sentence in generate(CFG.fromstring(cfg_grammar), n=1000):\n",
    "    print(' '.join(sentence))"
   ]
  },
  {
   "cell_type": "code",
   "execution_count": 7,
   "metadata": {},
   "outputs": [
    {
     "name": "stdout",
     "output_type": "stream",
     "text": [
      "fils appelé |both|termination|historical|30|Group[1041, 1042]|PRE-VALIDATION\n",
      "fils appelé |both|termination|nonpatient|30|Group[1041, 1042]|PRE-VALIDATION\n",
      "garçon appelé |both|termination|historical|30|Group[1041, 1042]|PRE-VALIDATION\n",
      "garçon appelé |both|termination|nonpatient|30|Group[1041, 1042]|PRE-VALIDATION\n",
      "beau-fils appelé |both|termination|historical|30|Group[1041, 1042]|PRE-VALIDATION\n",
      "beau-fils appelé |both|termination|nonpatient|30|Group[1041, 1042]|PRE-VALIDATION\n"
     ]
    }
   ],
   "source": [
    "from nltk.parse.generate import generate, demo_grammar\n",
    "from nltk import CFG\n",
    "\n",
    "cfg_grammar= \"\"\"\n",
    "S ->  Noun1 Auxiliary2 Trigger_Rule\n",
    "Noun1 -> \"fils\" | \"garçon\" | \"beau-fils\"\n",
    "Auxiliary2 -> \"appelé\"\n",
    "Trigger_Rule -> \"|both|termination|historical|30|Group[1041, 1042]|PRE-VALIDATION\"|\"|both|termination|nonpatient|30|Group[1041, 1042]|PRE-VALIDATION\"\n",
    "\"\"\"\n",
    "\n",
    "for sentence in generate(CFG.fromstring(cfg_grammar), n=1000):\n",
    "    print(' '.join(sentence))"
   ]
  },
  {
   "cell_type": "code",
   "execution_count": 8,
   "metadata": {},
   "outputs": [
    {
     "name": "stdout",
     "output_type": "stream",
     "text": [
      "fils |forward|trigger|nonpatient|30|Group[1047]|PRE-VALIDATION\n",
      "garçon |forward|trigger|nonpatient|30|Group[1047]|PRE-VALIDATION\n",
      "beau-fils |forward|trigger|nonpatient|30|Group[1047]|PRE-VALIDATION\n"
     ]
    }
   ],
   "source": [
    "from nltk.parse.generate import generate, demo_grammar\n",
    "from nltk import CFG\n",
    "\n",
    "cfg_grammar= \"\"\"\n",
    "S ->  Noun1 Trigger_Rule\n",
    "Noun1 -> \"fils\" | \"garçon\" | \"beau-fils\"\n",
    "Trigger_Rule -> \"|forward|trigger|nonpatient|30|Group[1047]|PRE-VALIDATION\"\n",
    "\"\"\"\n",
    "\n",
    "for sentence in generate(CFG.fromstring(cfg_grammar), n=1000):\n",
    "    print(' '.join(sentence))"
   ]
  },
  {
   "cell_type": "code",
   "execution_count": 9,
   "metadata": {},
   "outputs": [
    {
     "name": "stdout",
     "output_type": "stream",
     "text": [
      "des fils |forward|trigger|nonpatient|30|Group[1047]|PRE-VALIDATION\n",
      "des garçon |forward|trigger|nonpatient|30|Group[1047]|PRE-VALIDATION\n",
      "des beau-fils |forward|trigger|nonpatient|30|Group[1047]|PRE-VALIDATION\n"
     ]
    }
   ],
   "source": [
    "from nltk.parse.generate import generate, demo_grammar\n",
    "from nltk import CFG\n",
    "\n",
    "cfg_grammar= \"\"\"\n",
    "S ->  Determiner1 Noun2 Trigger_Rule\n",
    "Determiner1 -> \"des\"\n",
    "Noun2 -> \"fils\" | \"garçon\" | \"beau-fils\"\n",
    "Trigger_Rule -> \"|forward|trigger|nonpatient|30|Group[1047]|PRE-VALIDATION\"\n",
    "\"\"\"\n",
    "\n",
    "for sentence in generate(CFG.fromstring(cfg_grammar), n=1000):\n",
    "    print(' '.join(sentence))"
   ]
  },
  {
   "cell_type": "code",
   "execution_count": 10,
   "metadata": {},
   "outputs": [
    {
     "name": "stdout",
     "output_type": "stream",
     "text": [
      "source pour |forward|termination|negated|10|Group[1049]|PRE-VALIDATION\n",
      "provenance pour |forward|termination|negated|10|Group[1049]|PRE-VALIDATION\n",
      "commencement pour |forward|termination|negated|10|Group[1049]|PRE-VALIDATION\n",
      "cause pour |forward|termination|negated|10|Group[1049]|PRE-VALIDATION\n",
      "fondement pour |forward|termination|negated|10|Group[1049]|PRE-VALIDATION\n",
      "début pour |forward|termination|negated|10|Group[1049]|PRE-VALIDATION\n",
      "point de départ pour |forward|termination|negated|10|Group[1049]|PRE-VALIDATION\n",
      "source pour |forward|termination|negated|10|Group[1049]|PRE-VALIDATION\n",
      "départ pour |forward|termination|negated|10|Group[1049]|PRE-VALIDATION\n"
     ]
    }
   ],
   "source": [
    "from nltk.parse.generate import generate, demo_grammar\n",
    "from nltk import CFG\n",
    "\n",
    "cfg_grammar= \"\"\"\n",
    "S ->  Noun1 Adposition2 Trigger_Rule\n",
    "Noun1 -> \"source\" | \"provenance\" | \"commencement\" | \"cause\" | \"fondement\" | \"début\" | \"point de départ\" | \"source\" | \"départ\"\n",
    "Adposition2 -> \"pour\"\n",
    "Trigger_Rule -> \"|forward|termination|negated|10|Group[1049]|PRE-VALIDATION\"\n",
    "\"\"\"\n",
    "\n",
    "for sentence in generate(CFG.fromstring(cfg_grammar), n=1000):\n",
    "    print(' '.join(sentence))"
   ]
  },
  {
   "cell_type": "code",
   "execution_count": 11,
   "metadata": {},
   "outputs": [
    {
     "name": "stdout",
     "output_type": "stream",
     "text": [
      "source de |forward|termination|negated|10|Group[1049]|PRE-VALIDATION\n",
      "provenance de |forward|termination|negated|10|Group[1049]|PRE-VALIDATION\n",
      "commencement de |forward|termination|negated|10|Group[1049]|PRE-VALIDATION\n",
      "cause de |forward|termination|negated|10|Group[1049]|PRE-VALIDATION\n",
      "fondement de |forward|termination|negated|10|Group[1049]|PRE-VALIDATION\n",
      "début de |forward|termination|negated|10|Group[1049]|PRE-VALIDATION\n",
      "point de départ de |forward|termination|negated|10|Group[1049]|PRE-VALIDATION\n",
      "source de |forward|termination|negated|10|Group[1049]|PRE-VALIDATION\n",
      "départ de |forward|termination|negated|10|Group[1049]|PRE-VALIDATION\n"
     ]
    }
   ],
   "source": [
    "from nltk.parse.generate import generate, demo_grammar\n",
    "from nltk import CFG\n",
    "\n",
    "cfg_grammar= \"\"\"\n",
    "S ->  Noun1 Adposition2 Trigger_Rule\n",
    "Noun1 -> \"source\" | \"provenance\" | \"commencement\" | \"cause\" | \"fondement\" | \"début\" | \"point de départ\" | \"source\" | \"départ\"\n",
    "Adposition2 -> \"de\"\n",
    "Trigger_Rule -> \"|forward|termination|negated|10|Group[1049]|PRE-VALIDATION\"\n",
    "\"\"\"\n",
    "\n",
    "for sentence in generate(CFG.fromstring(cfg_grammar), n=1000):\n",
    "    print(' '.join(sentence))"
   ]
  },
  {
   "cell_type": "code",
   "execution_count": 12,
   "metadata": {},
   "outputs": [
    {
     "name": "stdout",
     "output_type": "stream",
     "text": [
      "sources de |forward|termination|negated|10|Group[1049]|PRE-VALIDATION\n",
      "provenance de |forward|termination|negated|10|Group[1049]|PRE-VALIDATION\n",
      "racine de |forward|termination|negated|10|Group[1049]|PRE-VALIDATION\n",
      "commencement de |forward|termination|negated|10|Group[1049]|PRE-VALIDATION\n",
      "naissance de |forward|termination|negated|10|Group[1049]|PRE-VALIDATION\n",
      "cause de |forward|termination|negated|10|Group[1049]|PRE-VALIDATION\n",
      "fondement de |forward|termination|negated|10|Group[1049]|PRE-VALIDATION\n",
      "base de |forward|termination|negated|10|Group[1049]|PRE-VALIDATION\n",
      "amont de |forward|termination|negated|10|Group[1049]|PRE-VALIDATION\n",
      "début de |forward|termination|negated|10|Group[1049]|PRE-VALIDATION\n",
      "point de départ de |forward|termination|negated|10|Group[1049]|PRE-VALIDATION\n",
      "départ de |forward|termination|negated|10|Group[1049]|PRE-VALIDATION\n"
     ]
    }
   ],
   "source": [
    "from nltk.parse.generate import generate, demo_grammar\n",
    "from nltk import CFG\n",
    "\n",
    "cfg_grammar= \"\"\"\n",
    "S ->  Noun1 Adposition2 Trigger_Rule\n",
    "Noun1 -> \"sources\" | \"provenance\" | \"racine\" | \"commencement\" | \"naissance\" | \"cause\" | \"fondement\" | \"base\" | \"amont\" | \"début\" | \"point de départ\" | \"départ\"\n",
    "Adposition2 -> \"de\"\n",
    "Trigger_Rule -> \"|forward|termination|negated|10|Group[1049]|PRE-VALIDATION\"\n",
    "\"\"\"\n",
    "\n",
    "for sentence in generate(CFG.fromstring(cfg_grammar), n=1000):\n",
    "    print(' '.join(sentence))"
   ]
  },
  {
   "cell_type": "code",
   "execution_count": 13,
   "metadata": {},
   "outputs": [
    {
     "name": "stdout",
     "output_type": "stream",
     "text": [
      "sources pour |forward|termination|negated|10|Group[1049]|PRE-VALIDATION\n",
      "provenance pour |forward|termination|negated|10|Group[1049]|PRE-VALIDATION\n",
      "racine pour |forward|termination|negated|10|Group[1049]|PRE-VALIDATION\n",
      "commencement pour |forward|termination|negated|10|Group[1049]|PRE-VALIDATION\n",
      "naissance pour |forward|termination|negated|10|Group[1049]|PRE-VALIDATION\n",
      "cause pour |forward|termination|negated|10|Group[1049]|PRE-VALIDATION\n",
      "fondement pour |forward|termination|negated|10|Group[1049]|PRE-VALIDATION\n",
      "base pour |forward|termination|negated|10|Group[1049]|PRE-VALIDATION\n",
      "amont pour |forward|termination|negated|10|Group[1049]|PRE-VALIDATION\n",
      "début pour |forward|termination|negated|10|Group[1049]|PRE-VALIDATION\n",
      "point de départ pour |forward|termination|negated|10|Group[1049]|PRE-VALIDATION\n",
      "départ pour |forward|termination|negated|10|Group[1049]|PRE-VALIDATION\n"
     ]
    }
   ],
   "source": [
    "from nltk.parse.generate import generate, demo_grammar\n",
    "from nltk import CFG\n",
    "\n",
    "cfg_grammar= \"\"\"\n",
    "S ->  Noun1 Adposition2 Trigger_Rule\n",
    "Noun1 -> \"sources\" | \"provenance\" | \"racine\" | \"commencement\" | \"naissance\" | \"cause\" | \"fondement\" | \"base\" | \"amont\" | \"début\" | \"point de départ\" | \"départ\"\n",
    "Adposition2 -> \"pour\"\n",
    "Trigger_Rule -> \"|forward|termination|negated|10|Group[1049]|PRE-VALIDATION\"\n",
    "\"\"\"\n",
    "\n",
    "for sentence in generate(CFG.fromstring(cfg_grammar), n=1000):\n",
    "    print(' '.join(sentence))"
   ]
  },
  {
   "cell_type": "code",
   "execution_count": 14,
   "metadata": {},
   "outputs": [
    {
     "name": "stdout",
     "output_type": "stream",
     "text": [
      "parler avec la famille |both|termination|historical|30|Group[1053, 1054]|PRE-VALIDATION\n",
      "parler avec la famille |both|termination|nonpatient|30|Group[1053, 1054]|PRE-VALIDATION\n",
      "parler avec la cercle familial |both|termination|historical|30|Group[1053, 1054]|PRE-VALIDATION\n",
      "parler avec la cercle familial |both|termination|nonpatient|30|Group[1053, 1054]|PRE-VALIDATION\n",
      "parler avec la entourage |both|termination|historical|30|Group[1053, 1054]|PRE-VALIDATION\n",
      "parler avec la entourage |both|termination|nonpatient|30|Group[1053, 1054]|PRE-VALIDATION\n",
      "parler avec la parents |both|termination|historical|30|Group[1053, 1054]|PRE-VALIDATION\n",
      "parler avec la parents |both|termination|nonpatient|30|Group[1053, 1054]|PRE-VALIDATION\n",
      "parler avec la belle-famille |both|termination|historical|30|Group[1053, 1054]|PRE-VALIDATION\n",
      "parler avec la belle-famille |both|termination|nonpatient|30|Group[1053, 1054]|PRE-VALIDATION\n",
      "bavarder avec la famille |both|termination|historical|30|Group[1053, 1054]|PRE-VALIDATION\n",
      "bavarder avec la famille |both|termination|nonpatient|30|Group[1053, 1054]|PRE-VALIDATION\n",
      "bavarder avec la cercle familial |both|termination|historical|30|Group[1053, 1054]|PRE-VALIDATION\n",
      "bavarder avec la cercle familial |both|termination|nonpatient|30|Group[1053, 1054]|PRE-VALIDATION\n",
      "bavarder avec la entourage |both|termination|historical|30|Group[1053, 1054]|PRE-VALIDATION\n",
      "bavarder avec la entourage |both|termination|nonpatient|30|Group[1053, 1054]|PRE-VALIDATION\n",
      "bavarder avec la parents |both|termination|historical|30|Group[1053, 1054]|PRE-VALIDATION\n",
      "bavarder avec la parents |both|termination|nonpatient|30|Group[1053, 1054]|PRE-VALIDATION\n",
      "bavarder avec la belle-famille |both|termination|historical|30|Group[1053, 1054]|PRE-VALIDATION\n",
      "bavarder avec la belle-famille |both|termination|nonpatient|30|Group[1053, 1054]|PRE-VALIDATION\n",
      "discuter avec la famille |both|termination|historical|30|Group[1053, 1054]|PRE-VALIDATION\n",
      "discuter avec la famille |both|termination|nonpatient|30|Group[1053, 1054]|PRE-VALIDATION\n",
      "discuter avec la cercle familial |both|termination|historical|30|Group[1053, 1054]|PRE-VALIDATION\n",
      "discuter avec la cercle familial |both|termination|nonpatient|30|Group[1053, 1054]|PRE-VALIDATION\n",
      "discuter avec la entourage |both|termination|historical|30|Group[1053, 1054]|PRE-VALIDATION\n",
      "discuter avec la entourage |both|termination|nonpatient|30|Group[1053, 1054]|PRE-VALIDATION\n",
      "discuter avec la parents |both|termination|historical|30|Group[1053, 1054]|PRE-VALIDATION\n",
      "discuter avec la parents |both|termination|nonpatient|30|Group[1053, 1054]|PRE-VALIDATION\n",
      "discuter avec la belle-famille |both|termination|historical|30|Group[1053, 1054]|PRE-VALIDATION\n",
      "discuter avec la belle-famille |both|termination|nonpatient|30|Group[1053, 1054]|PRE-VALIDATION\n",
      "dialoguer avec la famille |both|termination|historical|30|Group[1053, 1054]|PRE-VALIDATION\n",
      "dialoguer avec la famille |both|termination|nonpatient|30|Group[1053, 1054]|PRE-VALIDATION\n",
      "dialoguer avec la cercle familial |both|termination|historical|30|Group[1053, 1054]|PRE-VALIDATION\n",
      "dialoguer avec la cercle familial |both|termination|nonpatient|30|Group[1053, 1054]|PRE-VALIDATION\n",
      "dialoguer avec la entourage |both|termination|historical|30|Group[1053, 1054]|PRE-VALIDATION\n",
      "dialoguer avec la entourage |both|termination|nonpatient|30|Group[1053, 1054]|PRE-VALIDATION\n",
      "dialoguer avec la parents |both|termination|historical|30|Group[1053, 1054]|PRE-VALIDATION\n",
      "dialoguer avec la parents |both|termination|nonpatient|30|Group[1053, 1054]|PRE-VALIDATION\n",
      "dialoguer avec la belle-famille |both|termination|historical|30|Group[1053, 1054]|PRE-VALIDATION\n",
      "dialoguer avec la belle-famille |both|termination|nonpatient|30|Group[1053, 1054]|PRE-VALIDATION\n",
      "converser avec la famille |both|termination|historical|30|Group[1053, 1054]|PRE-VALIDATION\n",
      "converser avec la famille |both|termination|nonpatient|30|Group[1053, 1054]|PRE-VALIDATION\n",
      "converser avec la cercle familial |both|termination|historical|30|Group[1053, 1054]|PRE-VALIDATION\n",
      "converser avec la cercle familial |both|termination|nonpatient|30|Group[1053, 1054]|PRE-VALIDATION\n",
      "converser avec la entourage |both|termination|historical|30|Group[1053, 1054]|PRE-VALIDATION\n",
      "converser avec la entourage |both|termination|nonpatient|30|Group[1053, 1054]|PRE-VALIDATION\n",
      "converser avec la parents |both|termination|historical|30|Group[1053, 1054]|PRE-VALIDATION\n",
      "converser avec la parents |both|termination|nonpatient|30|Group[1053, 1054]|PRE-VALIDATION\n",
      "converser avec la belle-famille |both|termination|historical|30|Group[1053, 1054]|PRE-VALIDATION\n",
      "converser avec la belle-famille |both|termination|nonpatient|30|Group[1053, 1054]|PRE-VALIDATION\n",
      "communiquer avec la famille |both|termination|historical|30|Group[1053, 1054]|PRE-VALIDATION\n",
      "communiquer avec la famille |both|termination|nonpatient|30|Group[1053, 1054]|PRE-VALIDATION\n",
      "communiquer avec la cercle familial |both|termination|historical|30|Group[1053, 1054]|PRE-VALIDATION\n",
      "communiquer avec la cercle familial |both|termination|nonpatient|30|Group[1053, 1054]|PRE-VALIDATION\n",
      "communiquer avec la entourage |both|termination|historical|30|Group[1053, 1054]|PRE-VALIDATION\n",
      "communiquer avec la entourage |both|termination|nonpatient|30|Group[1053, 1054]|PRE-VALIDATION\n",
      "communiquer avec la parents |both|termination|historical|30|Group[1053, 1054]|PRE-VALIDATION\n",
      "communiquer avec la parents |both|termination|nonpatient|30|Group[1053, 1054]|PRE-VALIDATION\n",
      "communiquer avec la belle-famille |both|termination|historical|30|Group[1053, 1054]|PRE-VALIDATION\n",
      "communiquer avec la belle-famille |both|termination|nonpatient|30|Group[1053, 1054]|PRE-VALIDATION\n",
      "s'entretenir avec la famille |both|termination|historical|30|Group[1053, 1054]|PRE-VALIDATION\n",
      "s'entretenir avec la famille |both|termination|nonpatient|30|Group[1053, 1054]|PRE-VALIDATION\n",
      "s'entretenir avec la cercle familial |both|termination|historical|30|Group[1053, 1054]|PRE-VALIDATION\n",
      "s'entretenir avec la cercle familial |both|termination|nonpatient|30|Group[1053, 1054]|PRE-VALIDATION\n",
      "s'entretenir avec la entourage |both|termination|historical|30|Group[1053, 1054]|PRE-VALIDATION\n",
      "s'entretenir avec la entourage |both|termination|nonpatient|30|Group[1053, 1054]|PRE-VALIDATION\n",
      "s'entretenir avec la parents |both|termination|historical|30|Group[1053, 1054]|PRE-VALIDATION\n",
      "s'entretenir avec la parents |both|termination|nonpatient|30|Group[1053, 1054]|PRE-VALIDATION\n",
      "s'entretenir avec la belle-famille |both|termination|historical|30|Group[1053, 1054]|PRE-VALIDATION\n",
      "s'entretenir avec la belle-famille |both|termination|nonpatient|30|Group[1053, 1054]|PRE-VALIDATION\n",
      "s'expliquer avec la famille |both|termination|historical|30|Group[1053, 1054]|PRE-VALIDATION\n",
      "s'expliquer avec la famille |both|termination|nonpatient|30|Group[1053, 1054]|PRE-VALIDATION\n",
      "s'expliquer avec la cercle familial |both|termination|historical|30|Group[1053, 1054]|PRE-VALIDATION\n",
      "s'expliquer avec la cercle familial |both|termination|nonpatient|30|Group[1053, 1054]|PRE-VALIDATION\n",
      "s'expliquer avec la entourage |both|termination|historical|30|Group[1053, 1054]|PRE-VALIDATION\n",
      "s'expliquer avec la entourage |both|termination|nonpatient|30|Group[1053, 1054]|PRE-VALIDATION\n",
      "s'expliquer avec la parents |both|termination|historical|30|Group[1053, 1054]|PRE-VALIDATION\n",
      "s'expliquer avec la parents |both|termination|nonpatient|30|Group[1053, 1054]|PRE-VALIDATION\n",
      "s'expliquer avec la belle-famille |both|termination|historical|30|Group[1053, 1054]|PRE-VALIDATION\n",
      "s'expliquer avec la belle-famille |both|termination|nonpatient|30|Group[1053, 1054]|PRE-VALIDATION\n",
      "s'adresser avec la famille |both|termination|historical|30|Group[1053, 1054]|PRE-VALIDATION\n",
      "s'adresser avec la famille |both|termination|nonpatient|30|Group[1053, 1054]|PRE-VALIDATION\n",
      "s'adresser avec la cercle familial |both|termination|historical|30|Group[1053, 1054]|PRE-VALIDATION\n",
      "s'adresser avec la cercle familial |both|termination|nonpatient|30|Group[1053, 1054]|PRE-VALIDATION\n",
      "s'adresser avec la entourage |both|termination|historical|30|Group[1053, 1054]|PRE-VALIDATION\n",
      "s'adresser avec la entourage |both|termination|nonpatient|30|Group[1053, 1054]|PRE-VALIDATION\n",
      "s'adresser avec la parents |both|termination|historical|30|Group[1053, 1054]|PRE-VALIDATION\n",
      "s'adresser avec la parents |both|termination|nonpatient|30|Group[1053, 1054]|PRE-VALIDATION\n",
      "s'adresser avec la belle-famille |both|termination|historical|30|Group[1053, 1054]|PRE-VALIDATION\n",
      "s'adresser avec la belle-famille |both|termination|nonpatient|30|Group[1053, 1054]|PRE-VALIDATION\n"
     ]
    }
   ],
   "source": [
    "from nltk.parse.generate import generate, demo_grammar\n",
    "from nltk import CFG\n",
    "\n",
    "cfg_grammar= \"\"\"\n",
    "S ->  Verb1 Adposition2 Determiner3 Noun4 Trigger_Rule\n",
    "Verb1 -> \"parler\" | \"bavarder\" | \"discuter\" | \"dialoguer\" | \"converser\" | \"communiquer\" | \"s'entretenir\" | \"s'expliquer\" | \"s'adresser\"\n",
    "Adposition2 -> \"avec\"\n",
    "Determiner3 -> \"la\"\n",
    "Noun4 -> \"famille\" | \"cercle familial\" | \"entourage\" | \"parents\" | \"belle-famille\"\n",
    "Trigger_Rule -> \"|both|termination|historical|30|Group[1053, 1054]|PRE-VALIDATION\"|\"|both|termination|nonpatient|30|Group[1053, 1054]|PRE-VALIDATION\"\n",
    "\"\"\"\n",
    "\n",
    "for sentence in generate(CFG.fromstring(cfg_grammar), n=1000):\n",
    "    print(' '.join(sentence))"
   ]
  },
  {
   "cell_type": "code",
   "execution_count": 15,
   "metadata": {},
   "outputs": [
    {
     "name": "stdout",
     "output_type": "stream",
     "text": [
      "parlé avec la famille |both|termination|historical|30|Group[1053, 1054, 1094, 1095]|PRE-VALIDATION\n",
      "parlé avec la famille |both|termination|nonpatient|30|Group[1053, 1054, 1094, 1095]|PRE-VALIDATION\n",
      "parlé avec la cercle familial |both|termination|historical|30|Group[1053, 1054, 1094, 1095]|PRE-VALIDATION\n",
      "parlé avec la cercle familial |both|termination|nonpatient|30|Group[1053, 1054, 1094, 1095]|PRE-VALIDATION\n",
      "parlé avec la entourage |both|termination|historical|30|Group[1053, 1054, 1094, 1095]|PRE-VALIDATION\n",
      "parlé avec la entourage |both|termination|nonpatient|30|Group[1053, 1054, 1094, 1095]|PRE-VALIDATION\n",
      "parlé avec la parents |both|termination|historical|30|Group[1053, 1054, 1094, 1095]|PRE-VALIDATION\n",
      "parlé avec la parents |both|termination|nonpatient|30|Group[1053, 1054, 1094, 1095]|PRE-VALIDATION\n",
      "parlé avec la belle-famille |both|termination|historical|30|Group[1053, 1054, 1094, 1095]|PRE-VALIDATION\n",
      "parlé avec la belle-famille |both|termination|nonpatient|30|Group[1053, 1054, 1094, 1095]|PRE-VALIDATION\n",
      "bavarder avec la famille |both|termination|historical|30|Group[1053, 1054, 1094, 1095]|PRE-VALIDATION\n",
      "bavarder avec la famille |both|termination|nonpatient|30|Group[1053, 1054, 1094, 1095]|PRE-VALIDATION\n",
      "bavarder avec la cercle familial |both|termination|historical|30|Group[1053, 1054, 1094, 1095]|PRE-VALIDATION\n",
      "bavarder avec la cercle familial |both|termination|nonpatient|30|Group[1053, 1054, 1094, 1095]|PRE-VALIDATION\n",
      "bavarder avec la entourage |both|termination|historical|30|Group[1053, 1054, 1094, 1095]|PRE-VALIDATION\n",
      "bavarder avec la entourage |both|termination|nonpatient|30|Group[1053, 1054, 1094, 1095]|PRE-VALIDATION\n",
      "bavarder avec la parents |both|termination|historical|30|Group[1053, 1054, 1094, 1095]|PRE-VALIDATION\n",
      "bavarder avec la parents |both|termination|nonpatient|30|Group[1053, 1054, 1094, 1095]|PRE-VALIDATION\n",
      "bavarder avec la belle-famille |both|termination|historical|30|Group[1053, 1054, 1094, 1095]|PRE-VALIDATION\n",
      "bavarder avec la belle-famille |both|termination|nonpatient|30|Group[1053, 1054, 1094, 1095]|PRE-VALIDATION\n",
      "discuter avec la famille |both|termination|historical|30|Group[1053, 1054, 1094, 1095]|PRE-VALIDATION\n",
      "discuter avec la famille |both|termination|nonpatient|30|Group[1053, 1054, 1094, 1095]|PRE-VALIDATION\n",
      "discuter avec la cercle familial |both|termination|historical|30|Group[1053, 1054, 1094, 1095]|PRE-VALIDATION\n",
      "discuter avec la cercle familial |both|termination|nonpatient|30|Group[1053, 1054, 1094, 1095]|PRE-VALIDATION\n",
      "discuter avec la entourage |both|termination|historical|30|Group[1053, 1054, 1094, 1095]|PRE-VALIDATION\n",
      "discuter avec la entourage |both|termination|nonpatient|30|Group[1053, 1054, 1094, 1095]|PRE-VALIDATION\n",
      "discuter avec la parents |both|termination|historical|30|Group[1053, 1054, 1094, 1095]|PRE-VALIDATION\n",
      "discuter avec la parents |both|termination|nonpatient|30|Group[1053, 1054, 1094, 1095]|PRE-VALIDATION\n",
      "discuter avec la belle-famille |both|termination|historical|30|Group[1053, 1054, 1094, 1095]|PRE-VALIDATION\n",
      "discuter avec la belle-famille |both|termination|nonpatient|30|Group[1053, 1054, 1094, 1095]|PRE-VALIDATION\n",
      "dialoguer avec la famille |both|termination|historical|30|Group[1053, 1054, 1094, 1095]|PRE-VALIDATION\n",
      "dialoguer avec la famille |both|termination|nonpatient|30|Group[1053, 1054, 1094, 1095]|PRE-VALIDATION\n",
      "dialoguer avec la cercle familial |both|termination|historical|30|Group[1053, 1054, 1094, 1095]|PRE-VALIDATION\n",
      "dialoguer avec la cercle familial |both|termination|nonpatient|30|Group[1053, 1054, 1094, 1095]|PRE-VALIDATION\n",
      "dialoguer avec la entourage |both|termination|historical|30|Group[1053, 1054, 1094, 1095]|PRE-VALIDATION\n",
      "dialoguer avec la entourage |both|termination|nonpatient|30|Group[1053, 1054, 1094, 1095]|PRE-VALIDATION\n",
      "dialoguer avec la parents |both|termination|historical|30|Group[1053, 1054, 1094, 1095]|PRE-VALIDATION\n",
      "dialoguer avec la parents |both|termination|nonpatient|30|Group[1053, 1054, 1094, 1095]|PRE-VALIDATION\n",
      "dialoguer avec la belle-famille |both|termination|historical|30|Group[1053, 1054, 1094, 1095]|PRE-VALIDATION\n",
      "dialoguer avec la belle-famille |both|termination|nonpatient|30|Group[1053, 1054, 1094, 1095]|PRE-VALIDATION\n",
      "converser avec la famille |both|termination|historical|30|Group[1053, 1054, 1094, 1095]|PRE-VALIDATION\n",
      "converser avec la famille |both|termination|nonpatient|30|Group[1053, 1054, 1094, 1095]|PRE-VALIDATION\n",
      "converser avec la cercle familial |both|termination|historical|30|Group[1053, 1054, 1094, 1095]|PRE-VALIDATION\n",
      "converser avec la cercle familial |both|termination|nonpatient|30|Group[1053, 1054, 1094, 1095]|PRE-VALIDATION\n",
      "converser avec la entourage |both|termination|historical|30|Group[1053, 1054, 1094, 1095]|PRE-VALIDATION\n",
      "converser avec la entourage |both|termination|nonpatient|30|Group[1053, 1054, 1094, 1095]|PRE-VALIDATION\n",
      "converser avec la parents |both|termination|historical|30|Group[1053, 1054, 1094, 1095]|PRE-VALIDATION\n",
      "converser avec la parents |both|termination|nonpatient|30|Group[1053, 1054, 1094, 1095]|PRE-VALIDATION\n",
      "converser avec la belle-famille |both|termination|historical|30|Group[1053, 1054, 1094, 1095]|PRE-VALIDATION\n",
      "converser avec la belle-famille |both|termination|nonpatient|30|Group[1053, 1054, 1094, 1095]|PRE-VALIDATION\n",
      "communiquer avec la famille |both|termination|historical|30|Group[1053, 1054, 1094, 1095]|PRE-VALIDATION\n",
      "communiquer avec la famille |both|termination|nonpatient|30|Group[1053, 1054, 1094, 1095]|PRE-VALIDATION\n",
      "communiquer avec la cercle familial |both|termination|historical|30|Group[1053, 1054, 1094, 1095]|PRE-VALIDATION\n",
      "communiquer avec la cercle familial |both|termination|nonpatient|30|Group[1053, 1054, 1094, 1095]|PRE-VALIDATION\n",
      "communiquer avec la entourage |both|termination|historical|30|Group[1053, 1054, 1094, 1095]|PRE-VALIDATION\n",
      "communiquer avec la entourage |both|termination|nonpatient|30|Group[1053, 1054, 1094, 1095]|PRE-VALIDATION\n",
      "communiquer avec la parents |both|termination|historical|30|Group[1053, 1054, 1094, 1095]|PRE-VALIDATION\n",
      "communiquer avec la parents |both|termination|nonpatient|30|Group[1053, 1054, 1094, 1095]|PRE-VALIDATION\n",
      "communiquer avec la belle-famille |both|termination|historical|30|Group[1053, 1054, 1094, 1095]|PRE-VALIDATION\n",
      "communiquer avec la belle-famille |both|termination|nonpatient|30|Group[1053, 1054, 1094, 1095]|PRE-VALIDATION\n",
      "s'entretenir avec la famille |both|termination|historical|30|Group[1053, 1054, 1094, 1095]|PRE-VALIDATION\n",
      "s'entretenir avec la famille |both|termination|nonpatient|30|Group[1053, 1054, 1094, 1095]|PRE-VALIDATION\n",
      "s'entretenir avec la cercle familial |both|termination|historical|30|Group[1053, 1054, 1094, 1095]|PRE-VALIDATION\n",
      "s'entretenir avec la cercle familial |both|termination|nonpatient|30|Group[1053, 1054, 1094, 1095]|PRE-VALIDATION\n",
      "s'entretenir avec la entourage |both|termination|historical|30|Group[1053, 1054, 1094, 1095]|PRE-VALIDATION\n",
      "s'entretenir avec la entourage |both|termination|nonpatient|30|Group[1053, 1054, 1094, 1095]|PRE-VALIDATION\n",
      "s'entretenir avec la parents |both|termination|historical|30|Group[1053, 1054, 1094, 1095]|PRE-VALIDATION\n",
      "s'entretenir avec la parents |both|termination|nonpatient|30|Group[1053, 1054, 1094, 1095]|PRE-VALIDATION\n",
      "s'entretenir avec la belle-famille |both|termination|historical|30|Group[1053, 1054, 1094, 1095]|PRE-VALIDATION\n",
      "s'entretenir avec la belle-famille |both|termination|nonpatient|30|Group[1053, 1054, 1094, 1095]|PRE-VALIDATION\n",
      "s'expliquer avec la famille |both|termination|historical|30|Group[1053, 1054, 1094, 1095]|PRE-VALIDATION\n",
      "s'expliquer avec la famille |both|termination|nonpatient|30|Group[1053, 1054, 1094, 1095]|PRE-VALIDATION\n",
      "s'expliquer avec la cercle familial |both|termination|historical|30|Group[1053, 1054, 1094, 1095]|PRE-VALIDATION\n",
      "s'expliquer avec la cercle familial |both|termination|nonpatient|30|Group[1053, 1054, 1094, 1095]|PRE-VALIDATION\n",
      "s'expliquer avec la entourage |both|termination|historical|30|Group[1053, 1054, 1094, 1095]|PRE-VALIDATION\n",
      "s'expliquer avec la entourage |both|termination|nonpatient|30|Group[1053, 1054, 1094, 1095]|PRE-VALIDATION\n",
      "s'expliquer avec la parents |both|termination|historical|30|Group[1053, 1054, 1094, 1095]|PRE-VALIDATION\n",
      "s'expliquer avec la parents |both|termination|nonpatient|30|Group[1053, 1054, 1094, 1095]|PRE-VALIDATION\n",
      "s'expliquer avec la belle-famille |both|termination|historical|30|Group[1053, 1054, 1094, 1095]|PRE-VALIDATION\n",
      "s'expliquer avec la belle-famille |both|termination|nonpatient|30|Group[1053, 1054, 1094, 1095]|PRE-VALIDATION\n",
      "s'adresser avec la famille |both|termination|historical|30|Group[1053, 1054, 1094, 1095]|PRE-VALIDATION\n",
      "s'adresser avec la famille |both|termination|nonpatient|30|Group[1053, 1054, 1094, 1095]|PRE-VALIDATION\n",
      "s'adresser avec la cercle familial |both|termination|historical|30|Group[1053, 1054, 1094, 1095]|PRE-VALIDATION\n",
      "s'adresser avec la cercle familial |both|termination|nonpatient|30|Group[1053, 1054, 1094, 1095]|PRE-VALIDATION\n",
      "s'adresser avec la entourage |both|termination|historical|30|Group[1053, 1054, 1094, 1095]|PRE-VALIDATION\n",
      "s'adresser avec la entourage |both|termination|nonpatient|30|Group[1053, 1054, 1094, 1095]|PRE-VALIDATION\n",
      "s'adresser avec la parents |both|termination|historical|30|Group[1053, 1054, 1094, 1095]|PRE-VALIDATION\n",
      "s'adresser avec la parents |both|termination|nonpatient|30|Group[1053, 1054, 1094, 1095]|PRE-VALIDATION\n",
      "s'adresser avec la belle-famille |both|termination|historical|30|Group[1053, 1054, 1094, 1095]|PRE-VALIDATION\n",
      "s'adresser avec la belle-famille |both|termination|nonpatient|30|Group[1053, 1054, 1094, 1095]|PRE-VALIDATION\n"
     ]
    }
   ],
   "source": [
    "from nltk.parse.generate import generate, demo_grammar\n",
    "from nltk import CFG\n",
    "\n",
    "cfg_grammar= \"\"\"\n",
    "S ->  Verb1 Adposition2 Determiner3 Noun4 Trigger_Rule\n",
    "Verb1 -> \"parlé\" | \"bavarder\" | \"discuter\" | \"dialoguer\" | \"converser\" | \"communiquer\" | \"s'entretenir\" | \"s'expliquer\" | \"s'adresser\"\n",
    "Adposition2 -> \"avec\"\n",
    "Determiner3 -> \"la\"\n",
    "Noun4 -> \"famille\" | \"cercle familial\" | \"entourage\" | \"parents\" | \"belle-famille\"\n",
    "Trigger_Rule -> \"|both|termination|historical|30|Group[1053, 1054, 1094, 1095]|PRE-VALIDATION\"|\"|both|termination|nonpatient|30|Group[1053, 1054, 1094, 1095]|PRE-VALIDATION\"\n",
    "\"\"\"\n",
    "\n",
    "for sentence in generate(CFG.fromstring(cfg_grammar), n=1000):\n",
    "    print(' '.join(sentence))"
   ]
  },
  {
   "cell_type": "code",
   "execution_count": 16,
   "metadata": {},
   "outputs": [
    {
     "name": "stdout",
     "output_type": "stream",
     "text": [
      "États |both|termination|historical|30|Group[1057, 1058]|PRE-VALIDATION\n",
      "États |both|termination|nonpatient|30|Group[1057, 1058]|PRE-VALIDATION\n"
     ]
    }
   ],
   "source": [
    "from nltk.parse.generate import generate, demo_grammar\n",
    "from nltk import CFG\n",
    "\n",
    "cfg_grammar= \"\"\"\n",
    "S ->  Noun1 Trigger_Rule\n",
    "Noun1 -> \"États\"\n",
    "Trigger_Rule -> \"|both|termination|historical|30|Group[1057, 1058]|PRE-VALIDATION\"|\"|both|termination|nonpatient|30|Group[1057, 1058]|PRE-VALIDATION\"\n",
    "\"\"\"\n",
    "\n",
    "for sentence in generate(CFG.fromstring(cfg_grammar), n=1000):\n",
    "    print(' '.join(sentence))"
   ]
  },
  {
   "cell_type": "code",
   "execution_count": 17,
   "metadata": {},
   "outputs": [
    {
     "name": "stdout",
     "output_type": "stream",
     "text": [
      "message de statut |both|pseudo|uncertain|30|Group[1059]|PRE-VALIDATION\n",
      "message de situation |both|pseudo|uncertain|30|Group[1059]|PRE-VALIDATION\n",
      "message de condition |both|pseudo|uncertain|30|Group[1059]|PRE-VALIDATION\n",
      "message de prescription |both|pseudo|uncertain|30|Group[1059]|PRE-VALIDATION\n",
      "message de ordonnance |both|pseudo|uncertain|30|Group[1059]|PRE-VALIDATION\n",
      "message de constitution |both|pseudo|uncertain|30|Group[1059]|PRE-VALIDATION\n",
      "communication de statut |both|pseudo|uncertain|30|Group[1059]|PRE-VALIDATION\n",
      "communication de situation |both|pseudo|uncertain|30|Group[1059]|PRE-VALIDATION\n",
      "communication de condition |both|pseudo|uncertain|30|Group[1059]|PRE-VALIDATION\n",
      "communication de prescription |both|pseudo|uncertain|30|Group[1059]|PRE-VALIDATION\n",
      "communication de ordonnance |both|pseudo|uncertain|30|Group[1059]|PRE-VALIDATION\n",
      "communication de constitution |both|pseudo|uncertain|30|Group[1059]|PRE-VALIDATION\n",
      "avis de statut |both|pseudo|uncertain|30|Group[1059]|PRE-VALIDATION\n",
      "avis de situation |both|pseudo|uncertain|30|Group[1059]|PRE-VALIDATION\n",
      "avis de condition |both|pseudo|uncertain|30|Group[1059]|PRE-VALIDATION\n",
      "avis de prescription |both|pseudo|uncertain|30|Group[1059]|PRE-VALIDATION\n",
      "avis de ordonnance |both|pseudo|uncertain|30|Group[1059]|PRE-VALIDATION\n",
      "avis de constitution |both|pseudo|uncertain|30|Group[1059]|PRE-VALIDATION\n",
      "annonce de statut |both|pseudo|uncertain|30|Group[1059]|PRE-VALIDATION\n",
      "annonce de situation |both|pseudo|uncertain|30|Group[1059]|PRE-VALIDATION\n",
      "annonce de condition |both|pseudo|uncertain|30|Group[1059]|PRE-VALIDATION\n",
      "annonce de prescription |both|pseudo|uncertain|30|Group[1059]|PRE-VALIDATION\n",
      "annonce de ordonnance |both|pseudo|uncertain|30|Group[1059]|PRE-VALIDATION\n",
      "annonce de constitution |both|pseudo|uncertain|30|Group[1059]|PRE-VALIDATION\n",
      "commission de statut |both|pseudo|uncertain|30|Group[1059]|PRE-VALIDATION\n",
      "commission de situation |both|pseudo|uncertain|30|Group[1059]|PRE-VALIDATION\n",
      "commission de condition |both|pseudo|uncertain|30|Group[1059]|PRE-VALIDATION\n",
      "commission de prescription |both|pseudo|uncertain|30|Group[1059]|PRE-VALIDATION\n",
      "commission de ordonnance |both|pseudo|uncertain|30|Group[1059]|PRE-VALIDATION\n",
      "commission de constitution |both|pseudo|uncertain|30|Group[1059]|PRE-VALIDATION\n",
      "communiqué de statut |both|pseudo|uncertain|30|Group[1059]|PRE-VALIDATION\n",
      "communiqué de situation |both|pseudo|uncertain|30|Group[1059]|PRE-VALIDATION\n",
      "communiqué de condition |both|pseudo|uncertain|30|Group[1059]|PRE-VALIDATION\n",
      "communiqué de prescription |both|pseudo|uncertain|30|Group[1059]|PRE-VALIDATION\n",
      "communiqué de ordonnance |both|pseudo|uncertain|30|Group[1059]|PRE-VALIDATION\n",
      "communiqué de constitution |both|pseudo|uncertain|30|Group[1059]|PRE-VALIDATION\n",
      "information de statut |both|pseudo|uncertain|30|Group[1059]|PRE-VALIDATION\n",
      "information de situation |both|pseudo|uncertain|30|Group[1059]|PRE-VALIDATION\n",
      "information de condition |both|pseudo|uncertain|30|Group[1059]|PRE-VALIDATION\n",
      "information de prescription |both|pseudo|uncertain|30|Group[1059]|PRE-VALIDATION\n",
      "information de ordonnance |both|pseudo|uncertain|30|Group[1059]|PRE-VALIDATION\n",
      "information de constitution |both|pseudo|uncertain|30|Group[1059]|PRE-VALIDATION\n",
      "signe de statut |both|pseudo|uncertain|30|Group[1059]|PRE-VALIDATION\n",
      "signe de situation |both|pseudo|uncertain|30|Group[1059]|PRE-VALIDATION\n",
      "signe de condition |both|pseudo|uncertain|30|Group[1059]|PRE-VALIDATION\n",
      "signe de prescription |both|pseudo|uncertain|30|Group[1059]|PRE-VALIDATION\n",
      "signe de ordonnance |both|pseudo|uncertain|30|Group[1059]|PRE-VALIDATION\n",
      "signe de constitution |both|pseudo|uncertain|30|Group[1059]|PRE-VALIDATION\n",
      "note de statut |both|pseudo|uncertain|30|Group[1059]|PRE-VALIDATION\n",
      "note de situation |both|pseudo|uncertain|30|Group[1059]|PRE-VALIDATION\n",
      "note de condition |both|pseudo|uncertain|30|Group[1059]|PRE-VALIDATION\n",
      "note de prescription |both|pseudo|uncertain|30|Group[1059]|PRE-VALIDATION\n",
      "note de ordonnance |both|pseudo|uncertain|30|Group[1059]|PRE-VALIDATION\n",
      "note de constitution |both|pseudo|uncertain|30|Group[1059]|PRE-VALIDATION\n"
     ]
    }
   ],
   "source": [
    "from nltk.parse.generate import generate, demo_grammar\n",
    "from nltk import CFG\n",
    "\n",
    "cfg_grammar= \"\"\"\n",
    "S ->  Noun1 Adposition2 Noun3 Trigger_Rule\n",
    "Noun1 -> \"message\" | \"communication\" | \"avis\" | \"annonce\" | \"commission\" | \"communiqué\" | \"information\" | \"signe\" | \"note\"\n",
    "Adposition2 -> \"de\"\n",
    "Noun3 -> \"statut\" | \"situation\" | \"condition\" | \"prescription\" | \"ordonnance\" | \"constitution\"\n",
    "Trigger_Rule -> \"|both|pseudo|uncertain|30|Group[1059]|PRE-VALIDATION\"\n",
    "\"\"\"\n",
    "\n",
    "for sentence in generate(CFG.fromstring(cfg_grammar), n=1000):\n",
    "    print(' '.join(sentence))"
   ]
  },
  {
   "cell_type": "code",
   "execution_count": 18,
   "metadata": {},
   "outputs": [
    {
     "name": "stdout",
     "output_type": "stream",
     "text": [
      "encore |forward|termination|negated|10|Group[1060]|PRE-VALIDATION\n"
     ]
    }
   ],
   "source": [
    "from nltk.parse.generate import generate, demo_grammar\n",
    "from nltk import CFG\n",
    "\n",
    "cfg_grammar= \"\"\"\n",
    "S ->  Adverb1 Trigger_Rule\n",
    "Adverb1 -> \"encore\"\n",
    "Trigger_Rule -> \"|forward|termination|negated|10|Group[1060]|PRE-VALIDATION\"\n",
    "\"\"\"\n",
    "\n",
    "for sentence in generate(CFG.fromstring(cfg_grammar), n=1000):\n",
    "    print(' '.join(sentence))"
   ]
  },
  {
   "cell_type": "code",
   "execution_count": 19,
   "metadata": {},
   "outputs": [
    {
     "name": "stdout",
     "output_type": "stream",
     "text": [
      "arrêté de prendre |both|pseudo|negated|10|Group[1061]|PRE-VALIDATION\n",
      "arrêté de manger |both|pseudo|negated|10|Group[1061]|PRE-VALIDATION\n",
      "arrêté de absorber |both|pseudo|negated|10|Group[1061]|PRE-VALIDATION\n",
      "arrêté de avaler |both|pseudo|negated|10|Group[1061]|PRE-VALIDATION\n",
      "arrêté de boire |both|pseudo|negated|10|Group[1061]|PRE-VALIDATION\n",
      "arrêté de dévorer |both|pseudo|negated|10|Group[1061]|PRE-VALIDATION\n",
      "arrêté de ingurgiter |both|pseudo|negated|10|Group[1061]|PRE-VALIDATION\n",
      "arrêté de ingérer |both|pseudo|negated|10|Group[1061]|PRE-VALIDATION\n",
      "stopper de prendre |both|pseudo|negated|10|Group[1061]|PRE-VALIDATION\n",
      "stopper de manger |both|pseudo|negated|10|Group[1061]|PRE-VALIDATION\n",
      "stopper de absorber |both|pseudo|negated|10|Group[1061]|PRE-VALIDATION\n",
      "stopper de avaler |both|pseudo|negated|10|Group[1061]|PRE-VALIDATION\n",
      "stopper de boire |both|pseudo|negated|10|Group[1061]|PRE-VALIDATION\n",
      "stopper de dévorer |both|pseudo|negated|10|Group[1061]|PRE-VALIDATION\n",
      "stopper de ingurgiter |both|pseudo|negated|10|Group[1061]|PRE-VALIDATION\n",
      "stopper de ingérer |both|pseudo|negated|10|Group[1061]|PRE-VALIDATION\n",
      "enrayer de prendre |both|pseudo|negated|10|Group[1061]|PRE-VALIDATION\n",
      "enrayer de manger |both|pseudo|negated|10|Group[1061]|PRE-VALIDATION\n",
      "enrayer de absorber |both|pseudo|negated|10|Group[1061]|PRE-VALIDATION\n",
      "enrayer de avaler |both|pseudo|negated|10|Group[1061]|PRE-VALIDATION\n",
      "enrayer de boire |both|pseudo|negated|10|Group[1061]|PRE-VALIDATION\n",
      "enrayer de dévorer |both|pseudo|negated|10|Group[1061]|PRE-VALIDATION\n",
      "enrayer de ingurgiter |both|pseudo|negated|10|Group[1061]|PRE-VALIDATION\n",
      "enrayer de ingérer |both|pseudo|negated|10|Group[1061]|PRE-VALIDATION\n",
      "contenir de prendre |both|pseudo|negated|10|Group[1061]|PRE-VALIDATION\n",
      "contenir de manger |both|pseudo|negated|10|Group[1061]|PRE-VALIDATION\n",
      "contenir de absorber |both|pseudo|negated|10|Group[1061]|PRE-VALIDATION\n",
      "contenir de avaler |both|pseudo|negated|10|Group[1061]|PRE-VALIDATION\n",
      "contenir de boire |both|pseudo|negated|10|Group[1061]|PRE-VALIDATION\n",
      "contenir de dévorer |both|pseudo|negated|10|Group[1061]|PRE-VALIDATION\n",
      "contenir de ingurgiter |both|pseudo|negated|10|Group[1061]|PRE-VALIDATION\n",
      "contenir de ingérer |both|pseudo|negated|10|Group[1061]|PRE-VALIDATION\n",
      "suspendre de prendre |both|pseudo|negated|10|Group[1061]|PRE-VALIDATION\n",
      "suspendre de manger |both|pseudo|negated|10|Group[1061]|PRE-VALIDATION\n",
      "suspendre de absorber |both|pseudo|negated|10|Group[1061]|PRE-VALIDATION\n",
      "suspendre de avaler |both|pseudo|negated|10|Group[1061]|PRE-VALIDATION\n",
      "suspendre de boire |both|pseudo|negated|10|Group[1061]|PRE-VALIDATION\n",
      "suspendre de dévorer |both|pseudo|negated|10|Group[1061]|PRE-VALIDATION\n",
      "suspendre de ingurgiter |both|pseudo|negated|10|Group[1061]|PRE-VALIDATION\n",
      "suspendre de ingérer |both|pseudo|negated|10|Group[1061]|PRE-VALIDATION\n",
      "juguler de prendre |both|pseudo|negated|10|Group[1061]|PRE-VALIDATION\n",
      "juguler de manger |both|pseudo|negated|10|Group[1061]|PRE-VALIDATION\n",
      "juguler de absorber |both|pseudo|negated|10|Group[1061]|PRE-VALIDATION\n",
      "juguler de avaler |both|pseudo|negated|10|Group[1061]|PRE-VALIDATION\n",
      "juguler de boire |both|pseudo|negated|10|Group[1061]|PRE-VALIDATION\n",
      "juguler de dévorer |both|pseudo|negated|10|Group[1061]|PRE-VALIDATION\n",
      "juguler de ingurgiter |both|pseudo|negated|10|Group[1061]|PRE-VALIDATION\n",
      "juguler de ingérer |both|pseudo|negated|10|Group[1061]|PRE-VALIDATION\n",
      "terminer de prendre |both|pseudo|negated|10|Group[1061]|PRE-VALIDATION\n",
      "terminer de manger |both|pseudo|negated|10|Group[1061]|PRE-VALIDATION\n",
      "terminer de absorber |both|pseudo|negated|10|Group[1061]|PRE-VALIDATION\n",
      "terminer de avaler |both|pseudo|negated|10|Group[1061]|PRE-VALIDATION\n",
      "terminer de boire |both|pseudo|negated|10|Group[1061]|PRE-VALIDATION\n",
      "terminer de dévorer |both|pseudo|negated|10|Group[1061]|PRE-VALIDATION\n",
      "terminer de ingurgiter |both|pseudo|negated|10|Group[1061]|PRE-VALIDATION\n",
      "terminer de ingérer |both|pseudo|negated|10|Group[1061]|PRE-VALIDATION\n",
      "finir de prendre |both|pseudo|negated|10|Group[1061]|PRE-VALIDATION\n",
      "finir de manger |both|pseudo|negated|10|Group[1061]|PRE-VALIDATION\n",
      "finir de absorber |both|pseudo|negated|10|Group[1061]|PRE-VALIDATION\n",
      "finir de avaler |both|pseudo|negated|10|Group[1061]|PRE-VALIDATION\n",
      "finir de boire |both|pseudo|negated|10|Group[1061]|PRE-VALIDATION\n",
      "finir de dévorer |both|pseudo|negated|10|Group[1061]|PRE-VALIDATION\n",
      "finir de ingurgiter |both|pseudo|negated|10|Group[1061]|PRE-VALIDATION\n",
      "finir de ingérer |both|pseudo|negated|10|Group[1061]|PRE-VALIDATION\n",
      "endiguer de prendre |both|pseudo|negated|10|Group[1061]|PRE-VALIDATION\n",
      "endiguer de manger |both|pseudo|negated|10|Group[1061]|PRE-VALIDATION\n",
      "endiguer de absorber |both|pseudo|negated|10|Group[1061]|PRE-VALIDATION\n",
      "endiguer de avaler |both|pseudo|negated|10|Group[1061]|PRE-VALIDATION\n",
      "endiguer de boire |both|pseudo|negated|10|Group[1061]|PRE-VALIDATION\n",
      "endiguer de dévorer |both|pseudo|negated|10|Group[1061]|PRE-VALIDATION\n",
      "endiguer de ingurgiter |both|pseudo|negated|10|Group[1061]|PRE-VALIDATION\n",
      "endiguer de ingérer |both|pseudo|negated|10|Group[1061]|PRE-VALIDATION\n",
      "cesser de prendre |both|pseudo|negated|10|Group[1061]|PRE-VALIDATION\n",
      "cesser de manger |both|pseudo|negated|10|Group[1061]|PRE-VALIDATION\n",
      "cesser de absorber |both|pseudo|negated|10|Group[1061]|PRE-VALIDATION\n",
      "cesser de avaler |both|pseudo|negated|10|Group[1061]|PRE-VALIDATION\n",
      "cesser de boire |both|pseudo|negated|10|Group[1061]|PRE-VALIDATION\n",
      "cesser de dévorer |both|pseudo|negated|10|Group[1061]|PRE-VALIDATION\n",
      "cesser de ingurgiter |both|pseudo|negated|10|Group[1061]|PRE-VALIDATION\n",
      "cesser de ingérer |both|pseudo|negated|10|Group[1061]|PRE-VALIDATION\n",
      "barrer de prendre |both|pseudo|negated|10|Group[1061]|PRE-VALIDATION\n",
      "barrer de manger |both|pseudo|negated|10|Group[1061]|PRE-VALIDATION\n",
      "barrer de absorber |both|pseudo|negated|10|Group[1061]|PRE-VALIDATION\n",
      "barrer de avaler |both|pseudo|negated|10|Group[1061]|PRE-VALIDATION\n",
      "barrer de boire |both|pseudo|negated|10|Group[1061]|PRE-VALIDATION\n",
      "barrer de dévorer |both|pseudo|negated|10|Group[1061]|PRE-VALIDATION\n",
      "barrer de ingurgiter |both|pseudo|negated|10|Group[1061]|PRE-VALIDATION\n",
      "barrer de ingérer |both|pseudo|negated|10|Group[1061]|PRE-VALIDATION\n",
      "empêcher de prendre |both|pseudo|negated|10|Group[1061]|PRE-VALIDATION\n",
      "empêcher de manger |both|pseudo|negated|10|Group[1061]|PRE-VALIDATION\n",
      "empêcher de absorber |both|pseudo|negated|10|Group[1061]|PRE-VALIDATION\n",
      "empêcher de avaler |both|pseudo|negated|10|Group[1061]|PRE-VALIDATION\n",
      "empêcher de boire |both|pseudo|negated|10|Group[1061]|PRE-VALIDATION\n",
      "empêcher de dévorer |both|pseudo|negated|10|Group[1061]|PRE-VALIDATION\n",
      "empêcher de ingurgiter |both|pseudo|negated|10|Group[1061]|PRE-VALIDATION\n",
      "empêcher de ingérer |both|pseudo|negated|10|Group[1061]|PRE-VALIDATION\n",
      "interrompre de prendre |both|pseudo|negated|10|Group[1061]|PRE-VALIDATION\n",
      "interrompre de manger |both|pseudo|negated|10|Group[1061]|PRE-VALIDATION\n",
      "interrompre de absorber |both|pseudo|negated|10|Group[1061]|PRE-VALIDATION\n",
      "interrompre de avaler |both|pseudo|negated|10|Group[1061]|PRE-VALIDATION\n",
      "interrompre de boire |both|pseudo|negated|10|Group[1061]|PRE-VALIDATION\n",
      "interrompre de dévorer |both|pseudo|negated|10|Group[1061]|PRE-VALIDATION\n",
      "interrompre de ingurgiter |both|pseudo|negated|10|Group[1061]|PRE-VALIDATION\n",
      "interrompre de ingérer |both|pseudo|negated|10|Group[1061]|PRE-VALIDATION\n",
      "mettre fin de prendre |both|pseudo|negated|10|Group[1061]|PRE-VALIDATION\n",
      "mettre fin de manger |both|pseudo|negated|10|Group[1061]|PRE-VALIDATION\n",
      "mettre fin de absorber |both|pseudo|negated|10|Group[1061]|PRE-VALIDATION\n",
      "mettre fin de avaler |both|pseudo|negated|10|Group[1061]|PRE-VALIDATION\n",
      "mettre fin de boire |both|pseudo|negated|10|Group[1061]|PRE-VALIDATION\n",
      "mettre fin de dévorer |both|pseudo|negated|10|Group[1061]|PRE-VALIDATION\n",
      "mettre fin de ingurgiter |both|pseudo|negated|10|Group[1061]|PRE-VALIDATION\n",
      "mettre fin de ingérer |both|pseudo|negated|10|Group[1061]|PRE-VALIDATION\n",
      "geler de prendre |both|pseudo|negated|10|Group[1061]|PRE-VALIDATION\n",
      "geler de manger |both|pseudo|negated|10|Group[1061]|PRE-VALIDATION\n",
      "geler de absorber |both|pseudo|negated|10|Group[1061]|PRE-VALIDATION\n",
      "geler de avaler |both|pseudo|negated|10|Group[1061]|PRE-VALIDATION\n",
      "geler de boire |both|pseudo|negated|10|Group[1061]|PRE-VALIDATION\n",
      "geler de dévorer |both|pseudo|negated|10|Group[1061]|PRE-VALIDATION\n",
      "geler de ingurgiter |both|pseudo|negated|10|Group[1061]|PRE-VALIDATION\n",
      "geler de ingérer |both|pseudo|negated|10|Group[1061]|PRE-VALIDATION\n"
     ]
    }
   ],
   "source": [
    "from nltk.parse.generate import generate, demo_grammar\n",
    "from nltk import CFG\n",
    "\n",
    "cfg_grammar= \"\"\"\n",
    "S ->  Verb1 Adposition2 Verb3 Trigger_Rule\n",
    "Verb1 -> \"arrêté\" | \"stopper\" | \"enrayer\" | \"contenir\" | \"suspendre\" | \"juguler\" | \"terminer\" | \"finir\" | \"endiguer\" | \"cesser\" | \"barrer\" | \"empêcher\" | \"interrompre\" | \"mettre fin\" | \"geler\"\n",
    "Adposition2 -> \"de\"\n",
    "Verb3 -> \"prendre\" | \"manger\" | \"absorber\" | \"avaler\" | \"boire\" | \"dévorer\" | \"ingurgiter\" | \"ingérer\"\n",
    "Trigger_Rule -> \"|both|pseudo|negated|10|Group[1061]|PRE-VALIDATION\"\n",
    "\"\"\"\n",
    "\n",
    "for sentence in generate(CFG.fromstring(cfg_grammar), n=1000):\n",
    "    print(' '.join(sentence))"
   ]
  },
  {
   "cell_type": "code",
   "execution_count": 20,
   "metadata": {},
   "outputs": [
    {
     "name": "stdout",
     "output_type": "stream",
     "text": [
      "études pour évaluer |forward|trigger|uncertain|30|Group[1062]|PRE-VALIDATION\n",
      "études pour juger |forward|trigger|uncertain|30|Group[1062]|PRE-VALIDATION\n",
      "études pour apprécier |forward|trigger|uncertain|30|Group[1062]|PRE-VALIDATION\n",
      "études pour chiffrer |forward|trigger|uncertain|30|Group[1062]|PRE-VALIDATION\n",
      "études pour calculer |forward|trigger|uncertain|30|Group[1062]|PRE-VALIDATION\n",
      "études pour quantifier |forward|trigger|uncertain|30|Group[1062]|PRE-VALIDATION\n",
      "études pour mesurer |forward|trigger|uncertain|30|Group[1062]|PRE-VALIDATION\n",
      "études pour déterminer |forward|trigger|uncertain|30|Group[1062]|PRE-VALIDATION\n",
      "études pour expertiser |forward|trigger|uncertain|30|Group[1062]|PRE-VALIDATION\n",
      "études pour jauger |forward|trigger|uncertain|30|Group[1062]|PRE-VALIDATION\n",
      "études pour compter |forward|trigger|uncertain|30|Group[1062]|PRE-VALIDATION\n",
      "études pour peser |forward|trigger|uncertain|30|Group[1062]|PRE-VALIDATION\n",
      "études pour comparer |forward|trigger|uncertain|30|Group[1062]|PRE-VALIDATION\n",
      "études pour examiner |forward|trigger|uncertain|30|Group[1062]|PRE-VALIDATION\n",
      "études pour recenser |forward|trigger|uncertain|30|Group[1062]|PRE-VALIDATION\n",
      "examen pour évaluer |forward|trigger|uncertain|30|Group[1062]|PRE-VALIDATION\n",
      "examen pour juger |forward|trigger|uncertain|30|Group[1062]|PRE-VALIDATION\n",
      "examen pour apprécier |forward|trigger|uncertain|30|Group[1062]|PRE-VALIDATION\n",
      "examen pour chiffrer |forward|trigger|uncertain|30|Group[1062]|PRE-VALIDATION\n",
      "examen pour calculer |forward|trigger|uncertain|30|Group[1062]|PRE-VALIDATION\n",
      "examen pour quantifier |forward|trigger|uncertain|30|Group[1062]|PRE-VALIDATION\n",
      "examen pour mesurer |forward|trigger|uncertain|30|Group[1062]|PRE-VALIDATION\n",
      "examen pour déterminer |forward|trigger|uncertain|30|Group[1062]|PRE-VALIDATION\n",
      "examen pour expertiser |forward|trigger|uncertain|30|Group[1062]|PRE-VALIDATION\n",
      "examen pour jauger |forward|trigger|uncertain|30|Group[1062]|PRE-VALIDATION\n",
      "examen pour compter |forward|trigger|uncertain|30|Group[1062]|PRE-VALIDATION\n",
      "examen pour peser |forward|trigger|uncertain|30|Group[1062]|PRE-VALIDATION\n",
      "examen pour comparer |forward|trigger|uncertain|30|Group[1062]|PRE-VALIDATION\n",
      "examen pour examiner |forward|trigger|uncertain|30|Group[1062]|PRE-VALIDATION\n",
      "examen pour recenser |forward|trigger|uncertain|30|Group[1062]|PRE-VALIDATION\n",
      "expérimentation pour évaluer |forward|trigger|uncertain|30|Group[1062]|PRE-VALIDATION\n",
      "expérimentation pour juger |forward|trigger|uncertain|30|Group[1062]|PRE-VALIDATION\n",
      "expérimentation pour apprécier |forward|trigger|uncertain|30|Group[1062]|PRE-VALIDATION\n",
      "expérimentation pour chiffrer |forward|trigger|uncertain|30|Group[1062]|PRE-VALIDATION\n",
      "expérimentation pour calculer |forward|trigger|uncertain|30|Group[1062]|PRE-VALIDATION\n",
      "expérimentation pour quantifier |forward|trigger|uncertain|30|Group[1062]|PRE-VALIDATION\n",
      "expérimentation pour mesurer |forward|trigger|uncertain|30|Group[1062]|PRE-VALIDATION\n",
      "expérimentation pour déterminer |forward|trigger|uncertain|30|Group[1062]|PRE-VALIDATION\n",
      "expérimentation pour expertiser |forward|trigger|uncertain|30|Group[1062]|PRE-VALIDATION\n",
      "expérimentation pour jauger |forward|trigger|uncertain|30|Group[1062]|PRE-VALIDATION\n",
      "expérimentation pour compter |forward|trigger|uncertain|30|Group[1062]|PRE-VALIDATION\n",
      "expérimentation pour peser |forward|trigger|uncertain|30|Group[1062]|PRE-VALIDATION\n",
      "expérimentation pour comparer |forward|trigger|uncertain|30|Group[1062]|PRE-VALIDATION\n",
      "expérimentation pour examiner |forward|trigger|uncertain|30|Group[1062]|PRE-VALIDATION\n",
      "expérimentation pour recenser |forward|trigger|uncertain|30|Group[1062]|PRE-VALIDATION\n",
      "enquête pour évaluer |forward|trigger|uncertain|30|Group[1062]|PRE-VALIDATION\n",
      "enquête pour juger |forward|trigger|uncertain|30|Group[1062]|PRE-VALIDATION\n",
      "enquête pour apprécier |forward|trigger|uncertain|30|Group[1062]|PRE-VALIDATION\n",
      "enquête pour chiffrer |forward|trigger|uncertain|30|Group[1062]|PRE-VALIDATION\n",
      "enquête pour calculer |forward|trigger|uncertain|30|Group[1062]|PRE-VALIDATION\n",
      "enquête pour quantifier |forward|trigger|uncertain|30|Group[1062]|PRE-VALIDATION\n",
      "enquête pour mesurer |forward|trigger|uncertain|30|Group[1062]|PRE-VALIDATION\n",
      "enquête pour déterminer |forward|trigger|uncertain|30|Group[1062]|PRE-VALIDATION\n",
      "enquête pour expertiser |forward|trigger|uncertain|30|Group[1062]|PRE-VALIDATION\n",
      "enquête pour jauger |forward|trigger|uncertain|30|Group[1062]|PRE-VALIDATION\n",
      "enquête pour compter |forward|trigger|uncertain|30|Group[1062]|PRE-VALIDATION\n",
      "enquête pour peser |forward|trigger|uncertain|30|Group[1062]|PRE-VALIDATION\n",
      "enquête pour comparer |forward|trigger|uncertain|30|Group[1062]|PRE-VALIDATION\n",
      "enquête pour examiner |forward|trigger|uncertain|30|Group[1062]|PRE-VALIDATION\n",
      "enquête pour recenser |forward|trigger|uncertain|30|Group[1062]|PRE-VALIDATION\n",
      "analyse pour évaluer |forward|trigger|uncertain|30|Group[1062]|PRE-VALIDATION\n",
      "analyse pour juger |forward|trigger|uncertain|30|Group[1062]|PRE-VALIDATION\n",
      "analyse pour apprécier |forward|trigger|uncertain|30|Group[1062]|PRE-VALIDATION\n",
      "analyse pour chiffrer |forward|trigger|uncertain|30|Group[1062]|PRE-VALIDATION\n",
      "analyse pour calculer |forward|trigger|uncertain|30|Group[1062]|PRE-VALIDATION\n",
      "analyse pour quantifier |forward|trigger|uncertain|30|Group[1062]|PRE-VALIDATION\n",
      "analyse pour mesurer |forward|trigger|uncertain|30|Group[1062]|PRE-VALIDATION\n",
      "analyse pour déterminer |forward|trigger|uncertain|30|Group[1062]|PRE-VALIDATION\n",
      "analyse pour expertiser |forward|trigger|uncertain|30|Group[1062]|PRE-VALIDATION\n",
      "analyse pour jauger |forward|trigger|uncertain|30|Group[1062]|PRE-VALIDATION\n",
      "analyse pour compter |forward|trigger|uncertain|30|Group[1062]|PRE-VALIDATION\n",
      "analyse pour peser |forward|trigger|uncertain|30|Group[1062]|PRE-VALIDATION\n",
      "analyse pour comparer |forward|trigger|uncertain|30|Group[1062]|PRE-VALIDATION\n",
      "analyse pour examiner |forward|trigger|uncertain|30|Group[1062]|PRE-VALIDATION\n",
      "analyse pour recenser |forward|trigger|uncertain|30|Group[1062]|PRE-VALIDATION\n",
      "approfondissement pour évaluer |forward|trigger|uncertain|30|Group[1062]|PRE-VALIDATION\n",
      "approfondissement pour juger |forward|trigger|uncertain|30|Group[1062]|PRE-VALIDATION\n",
      "approfondissement pour apprécier |forward|trigger|uncertain|30|Group[1062]|PRE-VALIDATION\n",
      "approfondissement pour chiffrer |forward|trigger|uncertain|30|Group[1062]|PRE-VALIDATION\n",
      "approfondissement pour calculer |forward|trigger|uncertain|30|Group[1062]|PRE-VALIDATION\n",
      "approfondissement pour quantifier |forward|trigger|uncertain|30|Group[1062]|PRE-VALIDATION\n",
      "approfondissement pour mesurer |forward|trigger|uncertain|30|Group[1062]|PRE-VALIDATION\n",
      "approfondissement pour déterminer |forward|trigger|uncertain|30|Group[1062]|PRE-VALIDATION\n",
      "approfondissement pour expertiser |forward|trigger|uncertain|30|Group[1062]|PRE-VALIDATION\n",
      "approfondissement pour jauger |forward|trigger|uncertain|30|Group[1062]|PRE-VALIDATION\n",
      "approfondissement pour compter |forward|trigger|uncertain|30|Group[1062]|PRE-VALIDATION\n",
      "approfondissement pour peser |forward|trigger|uncertain|30|Group[1062]|PRE-VALIDATION\n",
      "approfondissement pour comparer |forward|trigger|uncertain|30|Group[1062]|PRE-VALIDATION\n",
      "approfondissement pour examiner |forward|trigger|uncertain|30|Group[1062]|PRE-VALIDATION\n",
      "approfondissement pour recenser |forward|trigger|uncertain|30|Group[1062]|PRE-VALIDATION\n",
      "exploration pour évaluer |forward|trigger|uncertain|30|Group[1062]|PRE-VALIDATION\n",
      "exploration pour juger |forward|trigger|uncertain|30|Group[1062]|PRE-VALIDATION\n",
      "exploration pour apprécier |forward|trigger|uncertain|30|Group[1062]|PRE-VALIDATION\n",
      "exploration pour chiffrer |forward|trigger|uncertain|30|Group[1062]|PRE-VALIDATION\n",
      "exploration pour calculer |forward|trigger|uncertain|30|Group[1062]|PRE-VALIDATION\n",
      "exploration pour quantifier |forward|trigger|uncertain|30|Group[1062]|PRE-VALIDATION\n",
      "exploration pour mesurer |forward|trigger|uncertain|30|Group[1062]|PRE-VALIDATION\n",
      "exploration pour déterminer |forward|trigger|uncertain|30|Group[1062]|PRE-VALIDATION\n",
      "exploration pour expertiser |forward|trigger|uncertain|30|Group[1062]|PRE-VALIDATION\n",
      "exploration pour jauger |forward|trigger|uncertain|30|Group[1062]|PRE-VALIDATION\n",
      "exploration pour compter |forward|trigger|uncertain|30|Group[1062]|PRE-VALIDATION\n",
      "exploration pour peser |forward|trigger|uncertain|30|Group[1062]|PRE-VALIDATION\n",
      "exploration pour comparer |forward|trigger|uncertain|30|Group[1062]|PRE-VALIDATION\n",
      "exploration pour examiner |forward|trigger|uncertain|30|Group[1062]|PRE-VALIDATION\n",
      "exploration pour recenser |forward|trigger|uncertain|30|Group[1062]|PRE-VALIDATION\n",
      "observation pour évaluer |forward|trigger|uncertain|30|Group[1062]|PRE-VALIDATION\n",
      "observation pour juger |forward|trigger|uncertain|30|Group[1062]|PRE-VALIDATION\n",
      "observation pour apprécier |forward|trigger|uncertain|30|Group[1062]|PRE-VALIDATION\n",
      "observation pour chiffrer |forward|trigger|uncertain|30|Group[1062]|PRE-VALIDATION\n",
      "observation pour calculer |forward|trigger|uncertain|30|Group[1062]|PRE-VALIDATION\n",
      "observation pour quantifier |forward|trigger|uncertain|30|Group[1062]|PRE-VALIDATION\n",
      "observation pour mesurer |forward|trigger|uncertain|30|Group[1062]|PRE-VALIDATION\n",
      "observation pour déterminer |forward|trigger|uncertain|30|Group[1062]|PRE-VALIDATION\n",
      "observation pour expertiser |forward|trigger|uncertain|30|Group[1062]|PRE-VALIDATION\n",
      "observation pour jauger |forward|trigger|uncertain|30|Group[1062]|PRE-VALIDATION\n",
      "observation pour compter |forward|trigger|uncertain|30|Group[1062]|PRE-VALIDATION\n",
      "observation pour peser |forward|trigger|uncertain|30|Group[1062]|PRE-VALIDATION\n",
      "observation pour comparer |forward|trigger|uncertain|30|Group[1062]|PRE-VALIDATION\n",
      "observation pour examiner |forward|trigger|uncertain|30|Group[1062]|PRE-VALIDATION\n",
      "observation pour recenser |forward|trigger|uncertain|30|Group[1062]|PRE-VALIDATION\n",
      "expertise pour évaluer |forward|trigger|uncertain|30|Group[1062]|PRE-VALIDATION\n",
      "expertise pour juger |forward|trigger|uncertain|30|Group[1062]|PRE-VALIDATION\n",
      "expertise pour apprécier |forward|trigger|uncertain|30|Group[1062]|PRE-VALIDATION\n",
      "expertise pour chiffrer |forward|trigger|uncertain|30|Group[1062]|PRE-VALIDATION\n",
      "expertise pour calculer |forward|trigger|uncertain|30|Group[1062]|PRE-VALIDATION\n",
      "expertise pour quantifier |forward|trigger|uncertain|30|Group[1062]|PRE-VALIDATION\n",
      "expertise pour mesurer |forward|trigger|uncertain|30|Group[1062]|PRE-VALIDATION\n",
      "expertise pour déterminer |forward|trigger|uncertain|30|Group[1062]|PRE-VALIDATION\n",
      "expertise pour expertiser |forward|trigger|uncertain|30|Group[1062]|PRE-VALIDATION\n",
      "expertise pour jauger |forward|trigger|uncertain|30|Group[1062]|PRE-VALIDATION\n",
      "expertise pour compter |forward|trigger|uncertain|30|Group[1062]|PRE-VALIDATION\n",
      "expertise pour peser |forward|trigger|uncertain|30|Group[1062]|PRE-VALIDATION\n",
      "expertise pour comparer |forward|trigger|uncertain|30|Group[1062]|PRE-VALIDATION\n",
      "expertise pour examiner |forward|trigger|uncertain|30|Group[1062]|PRE-VALIDATION\n",
      "expertise pour recenser |forward|trigger|uncertain|30|Group[1062]|PRE-VALIDATION\n",
      "rapport pour évaluer |forward|trigger|uncertain|30|Group[1062]|PRE-VALIDATION\n",
      "rapport pour juger |forward|trigger|uncertain|30|Group[1062]|PRE-VALIDATION\n",
      "rapport pour apprécier |forward|trigger|uncertain|30|Group[1062]|PRE-VALIDATION\n",
      "rapport pour chiffrer |forward|trigger|uncertain|30|Group[1062]|PRE-VALIDATION\n",
      "rapport pour calculer |forward|trigger|uncertain|30|Group[1062]|PRE-VALIDATION\n",
      "rapport pour quantifier |forward|trigger|uncertain|30|Group[1062]|PRE-VALIDATION\n",
      "rapport pour mesurer |forward|trigger|uncertain|30|Group[1062]|PRE-VALIDATION\n",
      "rapport pour déterminer |forward|trigger|uncertain|30|Group[1062]|PRE-VALIDATION\n",
      "rapport pour expertiser |forward|trigger|uncertain|30|Group[1062]|PRE-VALIDATION\n",
      "rapport pour jauger |forward|trigger|uncertain|30|Group[1062]|PRE-VALIDATION\n",
      "rapport pour compter |forward|trigger|uncertain|30|Group[1062]|PRE-VALIDATION\n",
      "rapport pour peser |forward|trigger|uncertain|30|Group[1062]|PRE-VALIDATION\n",
      "rapport pour comparer |forward|trigger|uncertain|30|Group[1062]|PRE-VALIDATION\n",
      "rapport pour examiner |forward|trigger|uncertain|30|Group[1062]|PRE-VALIDATION\n",
      "rapport pour recenser |forward|trigger|uncertain|30|Group[1062]|PRE-VALIDATION\n"
     ]
    }
   ],
   "source": [
    "from nltk.parse.generate import generate, demo_grammar\n",
    "from nltk import CFG\n",
    "\n",
    "cfg_grammar= \"\"\"\n",
    "S ->  Noun1 Adposition2 Verb3 Trigger_Rule\n",
    "Noun1 -> \"études\" | \"examen\" | \"expérimentation\" | \"enquête\" | \"analyse\" | \"approfondissement\" | \"exploration\" | \"observation\" | \"expertise\" | \"rapport\"\n",
    "Adposition2 -> \"pour\"\n",
    "Verb3 -> \"évaluer\" | \"juger\" | \"apprécier\" | \"chiffrer\" | \"calculer\" | \"quantifier\" | \"mesurer\" | \"déterminer\" | \"expertiser\" | \"jauger\" | \"compter\" | \"peser\" | \"comparer\" | \"examiner\" | \"recenser\"\n",
    "Trigger_Rule -> \"|forward|trigger|uncertain|30|Group[1062]|PRE-VALIDATION\"\n",
    "\"\"\"\n",
    "\n",
    "for sentence in generate(CFG.fromstring(cfg_grammar), n=1000):\n",
    "    print(' '.join(sentence))"
   ]
  },
  {
   "cell_type": "code",
   "execution_count": 21,
   "metadata": {},
   "outputs": [
    {
     "name": "stdout",
     "output_type": "stream",
     "text": [
      "étude pour évaluer |forward|trigger|uncertain|30|Group[1063]|PRE-VALIDATION\n",
      "étude pour juger |forward|trigger|uncertain|30|Group[1063]|PRE-VALIDATION\n",
      "étude pour apprécier |forward|trigger|uncertain|30|Group[1063]|PRE-VALIDATION\n",
      "étude pour chiffrer |forward|trigger|uncertain|30|Group[1063]|PRE-VALIDATION\n",
      "étude pour calculer |forward|trigger|uncertain|30|Group[1063]|PRE-VALIDATION\n",
      "étude pour quantifier |forward|trigger|uncertain|30|Group[1063]|PRE-VALIDATION\n",
      "étude pour mesurer |forward|trigger|uncertain|30|Group[1063]|PRE-VALIDATION\n",
      "étude pour déterminer |forward|trigger|uncertain|30|Group[1063]|PRE-VALIDATION\n",
      "étude pour expertiser |forward|trigger|uncertain|30|Group[1063]|PRE-VALIDATION\n",
      "étude pour jauger |forward|trigger|uncertain|30|Group[1063]|PRE-VALIDATION\n",
      "étude pour compter |forward|trigger|uncertain|30|Group[1063]|PRE-VALIDATION\n",
      "étude pour peser |forward|trigger|uncertain|30|Group[1063]|PRE-VALIDATION\n",
      "étude pour comparer |forward|trigger|uncertain|30|Group[1063]|PRE-VALIDATION\n",
      "étude pour examiner |forward|trigger|uncertain|30|Group[1063]|PRE-VALIDATION\n",
      "étude pour recenser |forward|trigger|uncertain|30|Group[1063]|PRE-VALIDATION\n",
      "examen pour évaluer |forward|trigger|uncertain|30|Group[1063]|PRE-VALIDATION\n",
      "examen pour juger |forward|trigger|uncertain|30|Group[1063]|PRE-VALIDATION\n",
      "examen pour apprécier |forward|trigger|uncertain|30|Group[1063]|PRE-VALIDATION\n",
      "examen pour chiffrer |forward|trigger|uncertain|30|Group[1063]|PRE-VALIDATION\n",
      "examen pour calculer |forward|trigger|uncertain|30|Group[1063]|PRE-VALIDATION\n",
      "examen pour quantifier |forward|trigger|uncertain|30|Group[1063]|PRE-VALIDATION\n",
      "examen pour mesurer |forward|trigger|uncertain|30|Group[1063]|PRE-VALIDATION\n",
      "examen pour déterminer |forward|trigger|uncertain|30|Group[1063]|PRE-VALIDATION\n",
      "examen pour expertiser |forward|trigger|uncertain|30|Group[1063]|PRE-VALIDATION\n",
      "examen pour jauger |forward|trigger|uncertain|30|Group[1063]|PRE-VALIDATION\n",
      "examen pour compter |forward|trigger|uncertain|30|Group[1063]|PRE-VALIDATION\n",
      "examen pour peser |forward|trigger|uncertain|30|Group[1063]|PRE-VALIDATION\n",
      "examen pour comparer |forward|trigger|uncertain|30|Group[1063]|PRE-VALIDATION\n",
      "examen pour examiner |forward|trigger|uncertain|30|Group[1063]|PRE-VALIDATION\n",
      "examen pour recenser |forward|trigger|uncertain|30|Group[1063]|PRE-VALIDATION\n",
      "expérimentation pour évaluer |forward|trigger|uncertain|30|Group[1063]|PRE-VALIDATION\n",
      "expérimentation pour juger |forward|trigger|uncertain|30|Group[1063]|PRE-VALIDATION\n",
      "expérimentation pour apprécier |forward|trigger|uncertain|30|Group[1063]|PRE-VALIDATION\n",
      "expérimentation pour chiffrer |forward|trigger|uncertain|30|Group[1063]|PRE-VALIDATION\n",
      "expérimentation pour calculer |forward|trigger|uncertain|30|Group[1063]|PRE-VALIDATION\n",
      "expérimentation pour quantifier |forward|trigger|uncertain|30|Group[1063]|PRE-VALIDATION\n",
      "expérimentation pour mesurer |forward|trigger|uncertain|30|Group[1063]|PRE-VALIDATION\n",
      "expérimentation pour déterminer |forward|trigger|uncertain|30|Group[1063]|PRE-VALIDATION\n",
      "expérimentation pour expertiser |forward|trigger|uncertain|30|Group[1063]|PRE-VALIDATION\n",
      "expérimentation pour jauger |forward|trigger|uncertain|30|Group[1063]|PRE-VALIDATION\n",
      "expérimentation pour compter |forward|trigger|uncertain|30|Group[1063]|PRE-VALIDATION\n",
      "expérimentation pour peser |forward|trigger|uncertain|30|Group[1063]|PRE-VALIDATION\n",
      "expérimentation pour comparer |forward|trigger|uncertain|30|Group[1063]|PRE-VALIDATION\n",
      "expérimentation pour examiner |forward|trigger|uncertain|30|Group[1063]|PRE-VALIDATION\n",
      "expérimentation pour recenser |forward|trigger|uncertain|30|Group[1063]|PRE-VALIDATION\n",
      "enquête pour évaluer |forward|trigger|uncertain|30|Group[1063]|PRE-VALIDATION\n",
      "enquête pour juger |forward|trigger|uncertain|30|Group[1063]|PRE-VALIDATION\n",
      "enquête pour apprécier |forward|trigger|uncertain|30|Group[1063]|PRE-VALIDATION\n",
      "enquête pour chiffrer |forward|trigger|uncertain|30|Group[1063]|PRE-VALIDATION\n",
      "enquête pour calculer |forward|trigger|uncertain|30|Group[1063]|PRE-VALIDATION\n",
      "enquête pour quantifier |forward|trigger|uncertain|30|Group[1063]|PRE-VALIDATION\n",
      "enquête pour mesurer |forward|trigger|uncertain|30|Group[1063]|PRE-VALIDATION\n",
      "enquête pour déterminer |forward|trigger|uncertain|30|Group[1063]|PRE-VALIDATION\n",
      "enquête pour expertiser |forward|trigger|uncertain|30|Group[1063]|PRE-VALIDATION\n",
      "enquête pour jauger |forward|trigger|uncertain|30|Group[1063]|PRE-VALIDATION\n",
      "enquête pour compter |forward|trigger|uncertain|30|Group[1063]|PRE-VALIDATION\n",
      "enquête pour peser |forward|trigger|uncertain|30|Group[1063]|PRE-VALIDATION\n",
      "enquête pour comparer |forward|trigger|uncertain|30|Group[1063]|PRE-VALIDATION\n",
      "enquête pour examiner |forward|trigger|uncertain|30|Group[1063]|PRE-VALIDATION\n",
      "enquête pour recenser |forward|trigger|uncertain|30|Group[1063]|PRE-VALIDATION\n",
      "analyse pour évaluer |forward|trigger|uncertain|30|Group[1063]|PRE-VALIDATION\n",
      "analyse pour juger |forward|trigger|uncertain|30|Group[1063]|PRE-VALIDATION\n",
      "analyse pour apprécier |forward|trigger|uncertain|30|Group[1063]|PRE-VALIDATION\n",
      "analyse pour chiffrer |forward|trigger|uncertain|30|Group[1063]|PRE-VALIDATION\n",
      "analyse pour calculer |forward|trigger|uncertain|30|Group[1063]|PRE-VALIDATION\n",
      "analyse pour quantifier |forward|trigger|uncertain|30|Group[1063]|PRE-VALIDATION\n",
      "analyse pour mesurer |forward|trigger|uncertain|30|Group[1063]|PRE-VALIDATION\n",
      "analyse pour déterminer |forward|trigger|uncertain|30|Group[1063]|PRE-VALIDATION\n",
      "analyse pour expertiser |forward|trigger|uncertain|30|Group[1063]|PRE-VALIDATION\n",
      "analyse pour jauger |forward|trigger|uncertain|30|Group[1063]|PRE-VALIDATION\n",
      "analyse pour compter |forward|trigger|uncertain|30|Group[1063]|PRE-VALIDATION\n",
      "analyse pour peser |forward|trigger|uncertain|30|Group[1063]|PRE-VALIDATION\n",
      "analyse pour comparer |forward|trigger|uncertain|30|Group[1063]|PRE-VALIDATION\n",
      "analyse pour examiner |forward|trigger|uncertain|30|Group[1063]|PRE-VALIDATION\n",
      "analyse pour recenser |forward|trigger|uncertain|30|Group[1063]|PRE-VALIDATION\n",
      "exploration pour évaluer |forward|trigger|uncertain|30|Group[1063]|PRE-VALIDATION\n",
      "exploration pour juger |forward|trigger|uncertain|30|Group[1063]|PRE-VALIDATION\n",
      "exploration pour apprécier |forward|trigger|uncertain|30|Group[1063]|PRE-VALIDATION\n",
      "exploration pour chiffrer |forward|trigger|uncertain|30|Group[1063]|PRE-VALIDATION\n",
      "exploration pour calculer |forward|trigger|uncertain|30|Group[1063]|PRE-VALIDATION\n",
      "exploration pour quantifier |forward|trigger|uncertain|30|Group[1063]|PRE-VALIDATION\n",
      "exploration pour mesurer |forward|trigger|uncertain|30|Group[1063]|PRE-VALIDATION\n",
      "exploration pour déterminer |forward|trigger|uncertain|30|Group[1063]|PRE-VALIDATION\n",
      "exploration pour expertiser |forward|trigger|uncertain|30|Group[1063]|PRE-VALIDATION\n",
      "exploration pour jauger |forward|trigger|uncertain|30|Group[1063]|PRE-VALIDATION\n",
      "exploration pour compter |forward|trigger|uncertain|30|Group[1063]|PRE-VALIDATION\n",
      "exploration pour peser |forward|trigger|uncertain|30|Group[1063]|PRE-VALIDATION\n",
      "exploration pour comparer |forward|trigger|uncertain|30|Group[1063]|PRE-VALIDATION\n",
      "exploration pour examiner |forward|trigger|uncertain|30|Group[1063]|PRE-VALIDATION\n",
      "exploration pour recenser |forward|trigger|uncertain|30|Group[1063]|PRE-VALIDATION\n",
      "observation pour évaluer |forward|trigger|uncertain|30|Group[1063]|PRE-VALIDATION\n",
      "observation pour juger |forward|trigger|uncertain|30|Group[1063]|PRE-VALIDATION\n",
      "observation pour apprécier |forward|trigger|uncertain|30|Group[1063]|PRE-VALIDATION\n",
      "observation pour chiffrer |forward|trigger|uncertain|30|Group[1063]|PRE-VALIDATION\n",
      "observation pour calculer |forward|trigger|uncertain|30|Group[1063]|PRE-VALIDATION\n",
      "observation pour quantifier |forward|trigger|uncertain|30|Group[1063]|PRE-VALIDATION\n",
      "observation pour mesurer |forward|trigger|uncertain|30|Group[1063]|PRE-VALIDATION\n",
      "observation pour déterminer |forward|trigger|uncertain|30|Group[1063]|PRE-VALIDATION\n",
      "observation pour expertiser |forward|trigger|uncertain|30|Group[1063]|PRE-VALIDATION\n",
      "observation pour jauger |forward|trigger|uncertain|30|Group[1063]|PRE-VALIDATION\n",
      "observation pour compter |forward|trigger|uncertain|30|Group[1063]|PRE-VALIDATION\n",
      "observation pour peser |forward|trigger|uncertain|30|Group[1063]|PRE-VALIDATION\n",
      "observation pour comparer |forward|trigger|uncertain|30|Group[1063]|PRE-VALIDATION\n",
      "observation pour examiner |forward|trigger|uncertain|30|Group[1063]|PRE-VALIDATION\n",
      "observation pour recenser |forward|trigger|uncertain|30|Group[1063]|PRE-VALIDATION\n",
      "expertise pour évaluer |forward|trigger|uncertain|30|Group[1063]|PRE-VALIDATION\n",
      "expertise pour juger |forward|trigger|uncertain|30|Group[1063]|PRE-VALIDATION\n",
      "expertise pour apprécier |forward|trigger|uncertain|30|Group[1063]|PRE-VALIDATION\n",
      "expertise pour chiffrer |forward|trigger|uncertain|30|Group[1063]|PRE-VALIDATION\n",
      "expertise pour calculer |forward|trigger|uncertain|30|Group[1063]|PRE-VALIDATION\n",
      "expertise pour quantifier |forward|trigger|uncertain|30|Group[1063]|PRE-VALIDATION\n",
      "expertise pour mesurer |forward|trigger|uncertain|30|Group[1063]|PRE-VALIDATION\n",
      "expertise pour déterminer |forward|trigger|uncertain|30|Group[1063]|PRE-VALIDATION\n",
      "expertise pour expertiser |forward|trigger|uncertain|30|Group[1063]|PRE-VALIDATION\n",
      "expertise pour jauger |forward|trigger|uncertain|30|Group[1063]|PRE-VALIDATION\n",
      "expertise pour compter |forward|trigger|uncertain|30|Group[1063]|PRE-VALIDATION\n",
      "expertise pour peser |forward|trigger|uncertain|30|Group[1063]|PRE-VALIDATION\n",
      "expertise pour comparer |forward|trigger|uncertain|30|Group[1063]|PRE-VALIDATION\n",
      "expertise pour examiner |forward|trigger|uncertain|30|Group[1063]|PRE-VALIDATION\n",
      "expertise pour recenser |forward|trigger|uncertain|30|Group[1063]|PRE-VALIDATION\n",
      "rapport pour évaluer |forward|trigger|uncertain|30|Group[1063]|PRE-VALIDATION\n",
      "rapport pour juger |forward|trigger|uncertain|30|Group[1063]|PRE-VALIDATION\n",
      "rapport pour apprécier |forward|trigger|uncertain|30|Group[1063]|PRE-VALIDATION\n",
      "rapport pour chiffrer |forward|trigger|uncertain|30|Group[1063]|PRE-VALIDATION\n",
      "rapport pour calculer |forward|trigger|uncertain|30|Group[1063]|PRE-VALIDATION\n",
      "rapport pour quantifier |forward|trigger|uncertain|30|Group[1063]|PRE-VALIDATION\n",
      "rapport pour mesurer |forward|trigger|uncertain|30|Group[1063]|PRE-VALIDATION\n",
      "rapport pour déterminer |forward|trigger|uncertain|30|Group[1063]|PRE-VALIDATION\n",
      "rapport pour expertiser |forward|trigger|uncertain|30|Group[1063]|PRE-VALIDATION\n",
      "rapport pour jauger |forward|trigger|uncertain|30|Group[1063]|PRE-VALIDATION\n",
      "rapport pour compter |forward|trigger|uncertain|30|Group[1063]|PRE-VALIDATION\n",
      "rapport pour peser |forward|trigger|uncertain|30|Group[1063]|PRE-VALIDATION\n",
      "rapport pour comparer |forward|trigger|uncertain|30|Group[1063]|PRE-VALIDATION\n",
      "rapport pour examiner |forward|trigger|uncertain|30|Group[1063]|PRE-VALIDATION\n",
      "rapport pour recenser |forward|trigger|uncertain|30|Group[1063]|PRE-VALIDATION\n",
      "investigation pour évaluer |forward|trigger|uncertain|30|Group[1063]|PRE-VALIDATION\n",
      "investigation pour juger |forward|trigger|uncertain|30|Group[1063]|PRE-VALIDATION\n",
      "investigation pour apprécier |forward|trigger|uncertain|30|Group[1063]|PRE-VALIDATION\n",
      "investigation pour chiffrer |forward|trigger|uncertain|30|Group[1063]|PRE-VALIDATION\n",
      "investigation pour calculer |forward|trigger|uncertain|30|Group[1063]|PRE-VALIDATION\n",
      "investigation pour quantifier |forward|trigger|uncertain|30|Group[1063]|PRE-VALIDATION\n",
      "investigation pour mesurer |forward|trigger|uncertain|30|Group[1063]|PRE-VALIDATION\n",
      "investigation pour déterminer |forward|trigger|uncertain|30|Group[1063]|PRE-VALIDATION\n",
      "investigation pour expertiser |forward|trigger|uncertain|30|Group[1063]|PRE-VALIDATION\n",
      "investigation pour jauger |forward|trigger|uncertain|30|Group[1063]|PRE-VALIDATION\n",
      "investigation pour compter |forward|trigger|uncertain|30|Group[1063]|PRE-VALIDATION\n",
      "investigation pour peser |forward|trigger|uncertain|30|Group[1063]|PRE-VALIDATION\n",
      "investigation pour comparer |forward|trigger|uncertain|30|Group[1063]|PRE-VALIDATION\n",
      "investigation pour examiner |forward|trigger|uncertain|30|Group[1063]|PRE-VALIDATION\n",
      "investigation pour recenser |forward|trigger|uncertain|30|Group[1063]|PRE-VALIDATION\n"
     ]
    }
   ],
   "source": [
    "from nltk.parse.generate import generate, demo_grammar\n",
    "from nltk import CFG\n",
    "\n",
    "cfg_grammar= \"\"\"\n",
    "S ->  Noun1 Adposition2 Verb3 Trigger_Rule\n",
    "Noun1 -> \"étude\" | \"examen\" | \"expérimentation\" | \"enquête\" | \"analyse\" | \"exploration\" | \"observation\" | \"expertise\" | \"rapport\" | \"investigation\"\n",
    "Adposition2 -> \"pour\"\n",
    "Verb3 -> \"évaluer\" | \"juger\" | \"apprécier\" | \"chiffrer\" | \"calculer\" | \"quantifier\" | \"mesurer\" | \"déterminer\" | \"expertiser\" | \"jauger\" | \"compter\" | \"peser\" | \"comparer\" | \"examiner\" | \"recenser\"\n",
    "Trigger_Rule -> \"|forward|trigger|uncertain|30|Group[1063]|PRE-VALIDATION\"\n",
    "\"\"\"\n",
    "\n",
    "for sentence in generate(CFG.fromstring(cfg_grammar), n=1000):\n",
    "    print(' '.join(sentence))"
   ]
  },
  {
   "cell_type": "code",
   "execution_count": 22,
   "metadata": {},
   "outputs": [
    {
     "name": "stdout",
     "output_type": "stream",
     "text": [
      "apparition soudaine de |both|pseudo|historical|30|Group[1064]|PRE-VALIDATION\n",
      "arrivée soudaine de |both|pseudo|historical|30|Group[1064]|PRE-VALIDATION\n",
      "avènement soudaine de |both|pseudo|historical|30|Group[1064]|PRE-VALIDATION\n",
      "éclosion soudaine de |both|pseudo|historical|30|Group[1064]|PRE-VALIDATION\n",
      "venue soudaine de |both|pseudo|historical|30|Group[1064]|PRE-VALIDATION\n",
      "manifestation soudaine de |both|pseudo|historical|30|Group[1064]|PRE-VALIDATION\n",
      "éruption soudaine de |both|pseudo|historical|30|Group[1064]|PRE-VALIDATION\n",
      "création soudaine de |both|pseudo|historical|30|Group[1064]|PRE-VALIDATION\n",
      "naissance soudaine de |both|pseudo|historical|30|Group[1064]|PRE-VALIDATION\n",
      "introduction soudaine de |both|pseudo|historical|30|Group[1064]|PRE-VALIDATION\n",
      "survenance soudaine de |both|pseudo|historical|30|Group[1064]|PRE-VALIDATION\n",
      "production soudaine de |both|pseudo|historical|30|Group[1064]|PRE-VALIDATION\n",
      "survenue soudaine de |both|pseudo|historical|30|Group[1064]|PRE-VALIDATION\n",
      "émergence soudaine de |both|pseudo|historical|30|Group[1064]|PRE-VALIDATION\n",
      "poussée soudaine de |both|pseudo|historical|30|Group[1064]|PRE-VALIDATION\n"
     ]
    }
   ],
   "source": [
    "from nltk.parse.generate import generate, demo_grammar\n",
    "from nltk import CFG\n",
    "\n",
    "cfg_grammar= \"\"\"\n",
    "S ->  Noun1 Adjective2 Adposition3 Trigger_Rule\n",
    "Noun1 -> \"apparition\" | \"arrivée\" | \"avènement\" | \"éclosion\" | \"venue\" | \"manifestation\" | \"éruption\" | \"création\" | \"naissance\" | \"introduction\" | \"survenance\" | \"production\" | \"survenue\" | \"émergence\" | \"poussée\"\n",
    "Adjective2 -> \"soudaine\"\n",
    "Adposition3 -> \"de\"\n",
    "Trigger_Rule -> \"|both|pseudo|historical|30|Group[1064]|PRE-VALIDATION\"\n",
    "\"\"\"\n",
    "\n",
    "for sentence in generate(CFG.fromstring(cfg_grammar), n=1000):\n",
    "    print(' '.join(sentence))"
   ]
  },
  {
   "cell_type": "code",
   "execution_count": 23,
   "metadata": {},
   "outputs": [
    {
     "name": "stdout",
     "output_type": "stream",
     "text": [
      "évocateur de |forward|trigger|uncertain|30|Group[1089]|PRE-VALIDATION\n",
      "évocatoire de |forward|trigger|uncertain|30|Group[1089]|PRE-VALIDATION\n",
      "allusif de |forward|trigger|uncertain|30|Group[1089]|PRE-VALIDATION\n"
     ]
    }
   ],
   "source": [
    "from nltk.parse.generate import generate, demo_grammar\n",
    "from nltk import CFG\n",
    "\n",
    "cfg_grammar= \"\"\"\n",
    "S ->  Noun1 Adposition2 Trigger_Rule\n",
    "Noun1 -> \"évocateur\" | \"évocatoire\" | \"allusif\"\n",
    "Adposition2 -> \"de\"\n",
    "Trigger_Rule -> \"|forward|trigger|uncertain|30|Group[1089]|PRE-VALIDATION\"\n",
    "\"\"\"\n",
    "\n",
    "for sentence in generate(CFG.fromstring(cfg_grammar), n=1000):\n",
    "    print(' '.join(sentence))"
   ]
  },
  {
   "cell_type": "code",
   "execution_count": 24,
   "metadata": {},
   "outputs": [
    {
     "name": "stdout",
     "output_type": "stream",
     "text": [
      "suggérer |forward|trigger|uncertain|30|Group[1090]|PRE-VALIDATION\n",
      "proposer |forward|trigger|uncertain|30|Group[1090]|PRE-VALIDATION\n",
      "inspirer |forward|trigger|uncertain|30|Group[1090]|PRE-VALIDATION\n",
      "insinuer |forward|trigger|uncertain|30|Group[1090]|PRE-VALIDATION\n",
      "évoquer |forward|trigger|uncertain|30|Group[1090]|PRE-VALIDATION\n",
      "dicter |forward|trigger|uncertain|30|Group[1090]|PRE-VALIDATION\n",
      "persuader |forward|trigger|uncertain|30|Group[1090]|PRE-VALIDATION\n",
      "susciter |forward|trigger|uncertain|30|Group[1090]|PRE-VALIDATION\n",
      "soumettre |forward|trigger|uncertain|30|Group[1090]|PRE-VALIDATION\n",
      "enseigner |forward|trigger|uncertain|30|Group[1090]|PRE-VALIDATION\n",
      "recommander |forward|trigger|uncertain|30|Group[1090]|PRE-VALIDATION\n",
      "faire penser à |forward|trigger|uncertain|30|Group[1090]|PRE-VALIDATION\n",
      "sous-entendre |forward|trigger|uncertain|30|Group[1090]|PRE-VALIDATION\n",
      "supposer |forward|trigger|uncertain|30|Group[1090]|PRE-VALIDATION\n",
      "envisager |forward|trigger|uncertain|30|Group[1090]|PRE-VALIDATION\n"
     ]
    }
   ],
   "source": [
    "from nltk.parse.generate import generate, demo_grammar\n",
    "from nltk import CFG\n",
    "\n",
    "cfg_grammar= \"\"\"\n",
    "S ->  Verb1 Trigger_Rule\n",
    "Verb1 -> \"suggérer\" | \"proposer\" | \"inspirer\" | \"insinuer\" | \"évoquer\" | \"dicter\" | \"persuader\" | \"susciter\" | \"soumettre\" | \"enseigner\" | \"recommander\" | \"faire penser à\" | \"sous-entendre\" | \"supposer\" | \"envisager\"\n",
    "Trigger_Rule -> \"|forward|trigger|uncertain|30|Group[1090]|PRE-VALIDATION\"\n",
    "\"\"\"\n",
    "\n",
    "for sentence in generate(CFG.fromstring(cfg_grammar), n=1000):\n",
    "    print(' '.join(sentence))"
   ]
  },
  {
   "cell_type": "code",
   "execution_count": 25,
   "metadata": {},
   "outputs": [
    {
     "name": "stdout",
     "output_type": "stream",
     "text": [
      "soupçonné |forward|trigger|uncertain|30|Group[1091]|PRE-VALIDATION\n",
      "flairer |forward|trigger|uncertain|30|Group[1091]|PRE-VALIDATION\n",
      "pressentir |forward|trigger|uncertain|30|Group[1091]|PRE-VALIDATION\n",
      "deviner |forward|trigger|uncertain|30|Group[1091]|PRE-VALIDATION\n",
      "douter |forward|trigger|uncertain|30|Group[1091]|PRE-VALIDATION\n",
      "présumer |forward|trigger|uncertain|30|Group[1091]|PRE-VALIDATION\n",
      "entrevoir |forward|trigger|uncertain|30|Group[1091]|PRE-VALIDATION\n",
      "sentir |forward|trigger|uncertain|30|Group[1091]|PRE-VALIDATION\n",
      "redouter |forward|trigger|uncertain|30|Group[1091]|PRE-VALIDATION\n",
      "conjecturer |forward|trigger|uncertain|30|Group[1091]|PRE-VALIDATION\n",
      "penser |forward|trigger|uncertain|30|Group[1091]|PRE-VALIDATION\n",
      "imaginer |forward|trigger|uncertain|30|Group[1091]|PRE-VALIDATION\n",
      "subodorer |forward|trigger|uncertain|30|Group[1091]|PRE-VALIDATION\n",
      "croire |forward|trigger|uncertain|30|Group[1091]|PRE-VALIDATION\n",
      "avoir idée de |forward|trigger|uncertain|30|Group[1091]|PRE-VALIDATION\n"
     ]
    }
   ],
   "source": [
    "from nltk.parse.generate import generate, demo_grammar\n",
    "from nltk import CFG\n",
    "\n",
    "cfg_grammar= \"\"\"\n",
    "S ->  Verb1 Trigger_Rule\n",
    "Verb1 -> \"soupçonné\" | \"flairer\" | \"pressentir\" | \"deviner\" | \"douter\" | \"présumer\" | \"entrevoir\" | \"sentir\" | \"redouter\" | \"conjecturer\" | \"penser\" | \"imaginer\" | \"subodorer\" | \"croire\" | \"avoir idée de\"\n",
    "Trigger_Rule -> \"|forward|trigger|uncertain|30|Group[1091]|PRE-VALIDATION\"\n",
    "\"\"\"\n",
    "\n",
    "for sentence in generate(CFG.fromstring(cfg_grammar), n=1000):\n",
    "    print(' '.join(sentence))"
   ]
  },
  {
   "cell_type": "code",
   "execution_count": 26,
   "metadata": {},
   "outputs": [
    {
     "name": "stdout",
     "output_type": "stream",
     "text": [
      "soupçon de |forward|trigger|uncertain|30|Group[1092]|PRE-VALIDATION\n",
      "doute de |forward|trigger|uncertain|30|Group[1092]|PRE-VALIDATION\n",
      "suspicion de |forward|trigger|uncertain|30|Group[1092]|PRE-VALIDATION\n",
      "crainte de |forward|trigger|uncertain|30|Group[1092]|PRE-VALIDATION\n",
      "croyance de |forward|trigger|uncertain|30|Group[1092]|PRE-VALIDATION\n",
      "présomption de |forward|trigger|uncertain|30|Group[1092]|PRE-VALIDATION\n",
      "scepticisme de |forward|trigger|uncertain|30|Group[1092]|PRE-VALIDATION\n",
      "supposition de |forward|trigger|uncertain|30|Group[1092]|PRE-VALIDATION\n",
      "suspect de |forward|trigger|uncertain|30|Group[1092]|PRE-VALIDATION\n"
     ]
    }
   ],
   "source": [
    "from nltk.parse.generate import generate, demo_grammar\n",
    "from nltk import CFG\n",
    "\n",
    "cfg_grammar= \"\"\"\n",
    "S ->  Noun1 Adposition2 Trigger_Rule\n",
    "Noun1 -> \"soupçon\" | \"doute\" | \"suspicion\" | \"crainte\" | \"croyance\" | \"présomption\" | \"scepticisme\" | \"supposition\" | \"suspect\"\n",
    "Adposition2 -> \"de\"\n",
    "Trigger_Rule -> \"|forward|trigger|uncertain|30|Group[1092]|PRE-VALIDATION\"\n",
    "\"\"\"\n",
    "\n",
    "for sentence in generate(CFG.fromstring(cfg_grammar), n=1000):\n",
    "    print(' '.join(sentence))"
   ]
  },
  {
   "cell_type": "code",
   "execution_count": 27,
   "metadata": {},
   "outputs": [
    {
     "name": "stdout",
     "output_type": "stream",
     "text": [
      "méfiant pour |forward|trigger|uncertain|30|Group[1093]|PRE-VALIDATION\n",
      "soupçonneux pour |forward|trigger|uncertain|30|Group[1093]|PRE-VALIDATION\n",
      "timoré pour |forward|trigger|uncertain|30|Group[1093]|PRE-VALIDATION\n",
      "prudent pour |forward|trigger|uncertain|30|Group[1093]|PRE-VALIDATION\n",
      "suspicieux pour |forward|trigger|uncertain|30|Group[1093]|PRE-VALIDATION\n",
      "dubitatif pour |forward|trigger|uncertain|30|Group[1093]|PRE-VALIDATION\n",
      "défensif pour |forward|trigger|uncertain|30|Group[1093]|PRE-VALIDATION\n",
      "douteux pour |forward|trigger|uncertain|30|Group[1093]|PRE-VALIDATION\n",
      "craintive pour |forward|trigger|uncertain|30|Group[1093]|PRE-VALIDATION\n",
      "avec méfiance pour |forward|trigger|uncertain|30|Group[1093]|PRE-VALIDATION\n",
      "suspect pour |forward|trigger|uncertain|30|Group[1093]|PRE-VALIDATION\n",
      "précautionneux pour |forward|trigger|uncertain|30|Group[1093]|PRE-VALIDATION\n",
      "sceptique pour |forward|trigger|uncertain|30|Group[1093]|PRE-VALIDATION\n"
     ]
    }
   ],
   "source": [
    "from nltk.parse.generate import generate, demo_grammar\n",
    "from nltk import CFG\n",
    "\n",
    "cfg_grammar= \"\"\"\n",
    "S ->  Verb1 Adposition2 Trigger_Rule\n",
    "Verb1 -> \"méfiant\" | \"soupçonneux\" | \"timoré\" | \"prudent\" | \"suspicieux\" | \"dubitatif\" | \"défensif\" | \"douteux\" | \"craintive\" | \"avec méfiance\" | \"suspect\" | \"précautionneux\" | \"sceptique\"\n",
    "Adposition2 -> \"pour\"\n",
    "Trigger_Rule -> \"|forward|trigger|uncertain|30|Group[1093]|PRE-VALIDATION\"\n",
    "\"\"\"\n",
    "\n",
    "for sentence in generate(CFG.fromstring(cfg_grammar), n=1000):\n",
    "    print(' '.join(sentence))"
   ]
  },
  {
   "cell_type": "code",
   "execution_count": 137,
   "metadata": {},
   "outputs": [
    {
     "name": "stdout",
     "output_type": "stream",
     "text": [
      "présumé |forward|trigger|uncertain|30|Group[1098]|PRE-VALIDATION\n",
      "soupçonner |forward|trigger|uncertain|30|Group[1098]|PRE-VALIDATION\n",
      "estimer |forward|trigger|uncertain|30|Group[1098]|PRE-VALIDATION\n",
      "conjecturer |forward|trigger|uncertain|30|Group[1098]|PRE-VALIDATION\n",
      "pressentir |forward|trigger|uncertain|30|Group[1098]|PRE-VALIDATION\n",
      "présager |forward|trigger|uncertain|30|Group[1098]|PRE-VALIDATION\n",
      "espérer |forward|trigger|uncertain|30|Group[1098]|PRE-VALIDATION\n",
      "attendre |forward|trigger|uncertain|30|Group[1098]|PRE-VALIDATION\n",
      "compter |forward|trigger|uncertain|30|Group[1098]|PRE-VALIDATION\n",
      "préjuger |forward|trigger|uncertain|30|Group[1098]|PRE-VALIDATION\n",
      "présupposer |forward|trigger|uncertain|30|Group[1098]|PRE-VALIDATION\n",
      "prétendre |forward|trigger|uncertain|30|Group[1098]|PRE-VALIDATION\n",
      "prédire |forward|trigger|uncertain|30|Group[1098]|PRE-VALIDATION\n"
     ]
    }
   ],
   "source": [
    "from nltk.parse.generate import generate, demo_grammar\n",
    "from nltk import CFG\n",
    "\n",
    "cfg_grammar= \"\"\"\n",
    "S -> Noun2 Trigger_Rule\n",
    "Noun2 -> \"présumé\" | \"soupçonner\" | \"estimer\" | \"conjecturer\" | \"pressentir\" | \"présager\" | \"espérer\" | \"attendre\" | \"compter\" | \"préjuger\" | \"présupposer\" | \"prétendre\" | \"prédire\"\n",
    "Trigger_Rule -> \"|forward|trigger|uncertain|30|Group[1098]|PRE-VALIDATION\"\n",
    "\"\"\"\n",
    "\n",
    "for sentence in generate(CFG.fromstring(cfg_grammar), n=1000):\n",
    "    print(' '.join(sentence))"
   ]
  },
  {
   "cell_type": "code",
   "execution_count": 29,
   "metadata": {},
   "outputs": [
    {
     "name": "stdout",
     "output_type": "stream",
     "text": [
      "évaluer pour tout |forward|trigger|uncertain|30|Group[1100]|PRE-VALIDATION\n",
      "juger pour tout |forward|trigger|uncertain|30|Group[1100]|PRE-VALIDATION\n",
      "apprécier pour tout |forward|trigger|uncertain|30|Group[1100]|PRE-VALIDATION\n",
      "chiffrer pour tout |forward|trigger|uncertain|30|Group[1100]|PRE-VALIDATION\n",
      "calculer pour tout |forward|trigger|uncertain|30|Group[1100]|PRE-VALIDATION\n",
      "quantifier pour tout |forward|trigger|uncertain|30|Group[1100]|PRE-VALIDATION\n",
      "mesurer pour tout |forward|trigger|uncertain|30|Group[1100]|PRE-VALIDATION\n",
      "déterminer pour tout |forward|trigger|uncertain|30|Group[1100]|PRE-VALIDATION\n",
      "expertiser pour tout |forward|trigger|uncertain|30|Group[1100]|PRE-VALIDATION\n",
      "jauger pour tout |forward|trigger|uncertain|30|Group[1100]|PRE-VALIDATION\n",
      "compter pour tout |forward|trigger|uncertain|30|Group[1100]|PRE-VALIDATION\n",
      "peser pour tout |forward|trigger|uncertain|30|Group[1100]|PRE-VALIDATION\n",
      "comparer pour tout |forward|trigger|uncertain|30|Group[1100]|PRE-VALIDATION\n",
      "examiner pour tout |forward|trigger|uncertain|30|Group[1100]|PRE-VALIDATION\n",
      "recenser pour tout |forward|trigger|uncertain|30|Group[1100]|PRE-VALIDATION\n"
     ]
    }
   ],
   "source": [
    "from nltk.parse.generate import generate, demo_grammar\n",
    "from nltk import CFG\n",
    "\n",
    "cfg_grammar= \"\"\"\n",
    "S ->  Verb1 Adposition2 Adjective3 Trigger_Rule\n",
    "Verb1 -> \"évaluer\" | \"juger\" | \"apprécier\" | \"chiffrer\" | \"calculer\" | \"quantifier\" | \"mesurer\" | \"déterminer\" | \"expertiser\" | \"jauger\" | \"compter\" | \"peser\" | \"comparer\" | \"examiner\" | \"recenser\"\n",
    "Adposition2 -> \"pour\"\n",
    "Adjective3 -> \"tout\"\n",
    "Trigger_Rule -> \"|forward|trigger|uncertain|30|Group[1100]|PRE-VALIDATION\"\n",
    "\"\"\"\n",
    "\n",
    "for sentence in generate(CFG.fromstring(cfg_grammar), n=1000):\n",
    "    print(' '.join(sentence))"
   ]
  },
  {
   "cell_type": "code",
   "execution_count": 30,
   "metadata": {},
   "outputs": [
    {
     "name": "stdout",
     "output_type": "stream",
     "text": [
      "exclure |forward|trigger|negated|10|Group[1101]|PRE-VALIDATION\n",
      "éliminer |forward|trigger|negated|10|Group[1101]|PRE-VALIDATION\n",
      "rejeter |forward|trigger|negated|10|Group[1101]|PRE-VALIDATION\n",
      "proscrire |forward|trigger|negated|10|Group[1101]|PRE-VALIDATION\n",
      "éloigner |forward|trigger|negated|10|Group[1101]|PRE-VALIDATION\n",
      "supprimer |forward|trigger|negated|10|Group[1101]|PRE-VALIDATION\n",
      "radier |forward|trigger|negated|10|Group[1101]|PRE-VALIDATION\n"
     ]
    }
   ],
   "source": [
    "from nltk.parse.generate import generate, demo_grammar\n",
    "from nltk import CFG\n",
    "\n",
    "cfg_grammar= \"\"\"\n",
    "S ->  Noun1 Trigger_Rule\n",
    "Noun1 -> \"exclure\" | \"éliminer\" | \"rejeter\" | \"proscrire\" | \"éloigner\" | \"supprimer\" | \"radier\"\n",
    "Trigger_Rule -> \"|forward|trigger|negated|10|Group[1101]|PRE-VALIDATION\"\n",
    "\"\"\"\n",
    "\n",
    "for sentence in generate(CFG.fromstring(cfg_grammar), n=1000):\n",
    "    print(' '.join(sentence))"
   ]
  },
  {
   "cell_type": "code",
   "execution_count": 31,
   "metadata": {},
   "outputs": [
    {
     "name": "stdout",
     "output_type": "stream",
     "text": [
      "pour prévenir |forward|trigger|conditional|30|Group[1103]|PRE-VALIDATION\n",
      "pour précéder |forward|trigger|conditional|30|Group[1103]|PRE-VALIDATION\n",
      "pour avertir |forward|trigger|conditional|30|Group[1103]|PRE-VALIDATION\n",
      "pour alerter |forward|trigger|conditional|30|Group[1103]|PRE-VALIDATION\n",
      "pour anticiper |forward|trigger|conditional|30|Group[1103]|PRE-VALIDATION\n",
      "pour empêcher |forward|trigger|conditional|30|Group[1103]|PRE-VALIDATION\n",
      "pour aviser |forward|trigger|conditional|30|Group[1103]|PRE-VALIDATION\n",
      "pour éviter |forward|trigger|conditional|30|Group[1103]|PRE-VALIDATION\n",
      "pour parer |forward|trigger|conditional|30|Group[1103]|PRE-VALIDATION\n",
      "pour conjurer |forward|trigger|conditional|30|Group[1103]|PRE-VALIDATION\n",
      "pour devant |forward|trigger|conditional|30|Group[1103]|PRE-VALIDATION\n",
      "pour signaler au |forward|trigger|conditional|30|Group[1103]|PRE-VALIDATION\n",
      "pour prémunir contre |forward|trigger|conditional|30|Group[1103]|PRE-VALIDATION\n",
      "pour écarter |forward|trigger|conditional|30|Group[1103]|PRE-VALIDATION\n",
      "pour aller au-devant |forward|trigger|conditional|30|Group[1103]|PRE-VALIDATION\n"
     ]
    }
   ],
   "source": [
    "from nltk.parse.generate import generate, demo_grammar\n",
    "from nltk import CFG\n",
    "\n",
    "cfg_grammar= \"\"\"\n",
    "S ->  Adposition1 Verb2 Trigger_Rule\n",
    "Adposition1 -> \"pour\"\n",
    "Verb2 -> \"prévenir\" | \"précéder\" | \"avertir\" | \"alerter\" | \"anticiper\" | \"empêcher\" | \"aviser\" | \"éviter\" | \"parer\" | \"conjurer\" | \"devant\" | \"signaler au\" | \"prémunir contre\" | \"écarter\" | \"aller au-devant\"\n",
    "Trigger_Rule -> \"|forward|trigger|conditional|30|Group[1103]|PRE-VALIDATION\"\n",
    "\"\"\"\n",
    "\n",
    "for sentence in generate(CFG.fromstring(cfg_grammar), n=1000):\n",
    "    print(' '.join(sentence))"
   ]
  },
  {
   "cell_type": "code",
   "execution_count": 32,
   "metadata": {},
   "outputs": [
    {
     "name": "stdout",
     "output_type": "stream",
     "text": [
      "aujourd'hui |both|termination|historical|30|Group[1104, 1105]|PRE-VALIDATION\n",
      "aujourd'hui |both|termination|nonpatient|30|Group[1104, 1105]|PRE-VALIDATION\n"
     ]
    }
   ],
   "source": [
    "from nltk.parse.generate import generate, demo_grammar\n",
    "from nltk import CFG\n",
    "\n",
    "cfg_grammar= \"\"\"\n",
    "S ->  Adposition1 Trigger_Rule\n",
    "Adposition1 -> \"aujourd'hui\"\n",
    "Trigger_Rule -> \"|both|termination|historical|30|Group[1104, 1105]|PRE-VALIDATION\"|\"|both|termination|nonpatient|30|Group[1104, 1105]|PRE-VALIDATION\"\n",
    "\"\"\"\n",
    "\n",
    "for sentence in generate(CFG.fromstring(cfg_grammar), n=1000):\n",
    "    print(' '.join(sentence))"
   ]
  },
  {
   "cell_type": "code",
   "execution_count": 33,
   "metadata": {},
   "outputs": [
    {
     "name": "stdout",
     "output_type": "stream",
     "text": [
      "traitement de |both|pseudo|uncertain|30|Group[1106]|PRE-VALIDATION\n",
      "soins de |both|pseudo|uncertain|30|Group[1106]|PRE-VALIDATION\n",
      "thérapeutique de |both|pseudo|uncertain|30|Group[1106]|PRE-VALIDATION\n",
      "cure de |both|pseudo|uncertain|30|Group[1106]|PRE-VALIDATION\n",
      "intervention de |both|pseudo|uncertain|30|Group[1106]|PRE-VALIDATION\n",
      "remède de |both|pseudo|uncertain|30|Group[1106]|PRE-VALIDATION\n",
      "régime de |both|pseudo|uncertain|30|Group[1106]|PRE-VALIDATION\n",
      "soin de |both|pseudo|uncertain|30|Group[1106]|PRE-VALIDATION\n",
      "prescription de |both|pseudo|uncertain|30|Group[1106]|PRE-VALIDATION\n"
     ]
    }
   ],
   "source": [
    "from nltk.parse.generate import generate, demo_grammar\n",
    "from nltk import CFG\n",
    "\n",
    "cfg_grammar= \"\"\"\n",
    "S ->  Noun1 Adposition2 Trigger_Rule\n",
    "Noun1 -> \"traitement\" | \"soins\" | \"thérapeutique\" | \"cure\" | \"intervention\" | \"remède\" | \"régime\" | \"soin\" | \"prescription\"\n",
    "Adposition2 -> \"de\"\n",
    "Trigger_Rule -> \"|both|pseudo|uncertain|30|Group[1106]|PRE-VALIDATION\"\n",
    "\"\"\"\n",
    "\n",
    "for sentence in generate(CFG.fromstring(cfg_grammar), n=1000):\n",
    "    print(' '.join(sentence))"
   ]
  },
  {
   "cell_type": "code",
   "execution_count": 34,
   "metadata": {},
   "outputs": [
    {
     "name": "stdout",
     "output_type": "stream",
     "text": [
      "événement déclencheur pour |forward|termination|negated|10|Group[1107]|PRE-VALIDATION\n",
      "résultat déclencheur pour |forward|termination|negated|10|Group[1107]|PRE-VALIDATION\n",
      "issue déclencheur pour |forward|termination|negated|10|Group[1107]|PRE-VALIDATION\n",
      "épisode déclencheur pour |forward|termination|negated|10|Group[1107]|PRE-VALIDATION\n",
      "occasion déclencheur pour |forward|termination|negated|10|Group[1107]|PRE-VALIDATION\n",
      "incident déclencheur pour |forward|termination|negated|10|Group[1107]|PRE-VALIDATION\n",
      "fait déclencheur pour |forward|termination|negated|10|Group[1107]|PRE-VALIDATION\n",
      "histoire déclencheur pour |forward|termination|negated|10|Group[1107]|PRE-VALIDATION\n",
      "accident déclencheur pour |forward|termination|negated|10|Group[1107]|PRE-VALIDATION\n",
      "évènement déclencheur pour |forward|termination|negated|10|Group[1107]|PRE-VALIDATION\n",
      "condition déclencheur pour |forward|termination|negated|10|Group[1107]|PRE-VALIDATION\n",
      "catastrophe déclencheur pour |forward|termination|negated|10|Group[1107]|PRE-VALIDATION\n",
      "tragédie déclencheur pour |forward|termination|negated|10|Group[1107]|PRE-VALIDATION\n",
      "épreuve déclencheur pour |forward|termination|negated|10|Group[1107]|PRE-VALIDATION\n"
     ]
    }
   ],
   "source": [
    "from nltk.parse.generate import generate, demo_grammar\n",
    "from nltk import CFG\n",
    "\n",
    "cfg_grammar= \"\"\"\n",
    "S ->  Noun1 Adjective2 Adposition3 Trigger_Rule\n",
    "Noun1 -> \"événement\" | \"résultat\" | \"issue\" | \"épisode\" | \"occasion\" | \"incident\" | \"fait\" | \"histoire\" | \"accident\" | \"évènement\" | \"condition\" | \"catastrophe\" | \"tragédie\" | \"épreuve\"\n",
    "Adjective2 -> \"déclencheur\"\n",
    "Adposition3 -> \"pour\"\n",
    "Trigger_Rule -> \"|forward|termination|negated|10|Group[1107]|PRE-VALIDATION\"\n",
    "\"\"\"\n",
    "\n",
    "for sentence in generate(CFG.fromstring(cfg_grammar), n=1000):\n",
    "    print(' '.join(sentence))"
   ]
  },
  {
   "cell_type": "code",
   "execution_count": 35,
   "metadata": {},
   "outputs": [
    {
     "name": "stdout",
     "output_type": "stream",
     "text": [
      "oncle |forward|trigger|nonpatient|30|Group[1108]|PRE-VALIDATION\n",
      "tonton |forward|trigger|nonpatient|30|Group[1108]|PRE-VALIDATION\n",
      "parents |forward|trigger|nonpatient|30|Group[1108]|PRE-VALIDATION\n"
     ]
    }
   ],
   "source": [
    "from nltk.parse.generate import generate, demo_grammar\n",
    "from nltk import CFG\n",
    "\n",
    "cfg_grammar= \"\"\"\n",
    "S ->  Noun1 Trigger_Rule\n",
    "Noun1 -> \"oncle\" | \"tonton\" | \"parents\"\n",
    "Trigger_Rule -> \"|forward|trigger|nonpatient|30|Group[1108]|PRE-VALIDATION\"\n",
    "\"\"\"\n",
    "\n",
    "for sentence in generate(CFG.fromstring(cfg_grammar), n=1000):\n",
    "    print(' '.join(sentence))"
   ]
  },
  {
   "cell_type": "code",
   "execution_count": 36,
   "metadata": {},
   "outputs": [
    {
     "name": "stdout",
     "output_type": "stream",
     "text": [
      "dose incertaine |both|pseudo|uncertain|30|Group[1109]|PRE-VALIDATION\n",
      "mesure incertaine |both|pseudo|uncertain|30|Group[1109]|PRE-VALIDATION\n",
      "quantité incertaine |both|pseudo|uncertain|30|Group[1109]|PRE-VALIDATION\n",
      "posologie incertaine |both|pseudo|uncertain|30|Group[1109]|PRE-VALIDATION\n",
      "taux incertaine |both|pseudo|uncertain|30|Group[1109]|PRE-VALIDATION\n",
      "ration incertaine |both|pseudo|uncertain|30|Group[1109]|PRE-VALIDATION\n",
      "portion incertaine |both|pseudo|uncertain|30|Group[1109]|PRE-VALIDATION\n",
      "prise incertaine |both|pseudo|uncertain|30|Group[1109]|PRE-VALIDATION\n",
      "dôse incertaine |both|pseudo|uncertain|30|Group[1109]|PRE-VALIDATION\n",
      "dosage incertaine |both|pseudo|uncertain|30|Group[1109]|PRE-VALIDATION\n"
     ]
    }
   ],
   "source": [
    "from nltk.parse.generate import generate, demo_grammar\n",
    "from nltk import CFG\n",
    "\n",
    "cfg_grammar= \"\"\"\n",
    "S ->  Noun1 Adjective2 Trigger_Rule\n",
    "Noun1 -> \"dose\" | \"mesure\" | \"quantité\" | \"posologie\" | \"taux\" | \"ration\" | \"portion\" | \"prise\" | \"dôse\" | \"dosage\"\n",
    "Adjective2 -> \"incertaine\"\n",
    "Trigger_Rule -> \"|both|pseudo|uncertain|30|Group[1109]|PRE-VALIDATION\"\n",
    "\"\"\"\n",
    "\n",
    "for sentence in generate(CFG.fromstring(cfg_grammar), n=1000):\n",
    "    print(' '.join(sentence))"
   ]
  },
  {
   "cell_type": "code",
   "execution_count": 37,
   "metadata": {},
   "outputs": [
    {
     "name": "stdout",
     "output_type": "stream",
     "text": [
      "pas clair |forward|trigger|uncertain|30|Group[1110]|PRE-VALIDATION\n"
     ]
    }
   ],
   "source": [
    "from nltk.parse.generate import generate, demo_grammar\n",
    "from nltk import CFG\n",
    "\n",
    "cfg_grammar= \"\"\"\n",
    "S ->  Adverb1 Adjective2 Trigger_Rule\n",
    "Adverb1 -> \"pas\"\n",
    "Adjective2 -> \"clair\"\n",
    "Trigger_Rule -> \"|forward|trigger|uncertain|30|Group[1110]|PRE-VALIDATION\"\n",
    "\"\"\"\n",
    "\n",
    "for sentence in generate(CFG.fromstring(cfg_grammar), n=1000):\n",
    "    print(' '.join(sentence))"
   ]
  },
  {
   "cell_type": "code",
   "execution_count": 38,
   "metadata": {},
   "outputs": [
    {
     "name": "stdout",
     "output_type": "stream",
     "text": [
      "peu probable |backward|trigger|negated|10|Group[1112]|PRE-VALIDATION\n"
     ]
    }
   ],
   "source": [
    "from nltk.parse.generate import generate, demo_grammar\n",
    "from nltk import CFG\n",
    "\n",
    "cfg_grammar= \"\"\"\n",
    "S ->  Adverb1 Adjective2 Trigger_Rule\n",
    "Adverb1 -> \"peu\"\n",
    "Adjective2 -> \"probable\"\n",
    "Trigger_Rule -> \"|backward|trigger|negated|10|Group[1112]|PRE-VALIDATION\"\n",
    "\"\"\"\n",
    "\n",
    "for sentence in generate(CFG.fromstring(cfg_grammar), n=1000):\n",
    "    print(' '.join(sentence))"
   ]
  },
  {
   "cell_type": "code",
   "execution_count": 39,
   "metadata": {},
   "outputs": [
    {
     "name": "stdout",
     "output_type": "stream",
     "text": [
      "sans particularité pour |forward|trigger|negated|10|Group[1114]|PRE-VALIDATION\n",
      "sans exception pour |forward|trigger|negated|10|Group[1114]|PRE-VALIDATION\n",
      "sans irrégularité pour |forward|trigger|negated|10|Group[1114]|PRE-VALIDATION\n",
      "sans anomalie pour |forward|trigger|negated|10|Group[1114]|PRE-VALIDATION\n",
      "sans particularisme pour |forward|trigger|negated|10|Group[1114]|PRE-VALIDATION\n",
      "sans spécificité pour |forward|trigger|negated|10|Group[1114]|PRE-VALIDATION\n",
      "sans circonstance pour |forward|trigger|negated|10|Group[1114]|PRE-VALIDATION\n",
      "sans différence pour |forward|trigger|negated|10|Group[1114]|PRE-VALIDATION\n",
      "sans singularité pour |forward|trigger|negated|10|Group[1114]|PRE-VALIDATION\n",
      "sans indice pour |forward|trigger|negated|10|Group[1114]|PRE-VALIDATION\n"
     ]
    }
   ],
   "source": [
    "from nltk.parse.generate import generate, demo_grammar\n",
    "from nltk import CFG\n",
    "\n",
    "cfg_grammar= \"\"\"\n",
    "S ->  Adposition1 Noun2 Adposition3 Trigger_Rule\n",
    "Adposition1 -> \"sans\"\n",
    "Noun2 -> \"particularité\" | \"exception\" | \"irrégularité\" | \"anomalie\" | \"particularisme\" | \"spécificité\" | \"circonstance\" | \"différence\" | \"singularité\" | \"indice\"\n",
    "Adposition3 -> \"pour\"\n",
    "Trigger_Rule -> \"|forward|trigger|negated|10|Group[1114]|PRE-VALIDATION\"\n",
    "\"\"\"\n",
    "\n",
    "for sentence in generate(CFG.fromstring(cfg_grammar), n=1000):\n",
    "    print(' '.join(sentence))"
   ]
  },
  {
   "cell_type": "code",
   "execution_count": 40,
   "metadata": {},
   "outputs": [
    {
     "name": "stdout",
     "output_type": "stream",
     "text": [
      "utilisation |forward|trigger|conditional|30|Group[1116]|PRE-VALIDATION\n",
      "emploi |forward|trigger|conditional|30|Group[1116]|PRE-VALIDATION\n",
      "maniement |forward|trigger|conditional|30|Group[1116]|PRE-VALIDATION\n",
      "usage |forward|trigger|conditional|30|Group[1116]|PRE-VALIDATION\n",
      "exploitation |forward|trigger|conditional|30|Group[1116]|PRE-VALIDATION\n",
      "consommation |forward|trigger|conditional|30|Group[1116]|PRE-VALIDATION\n",
      "appel |forward|trigger|conditional|30|Group[1116]|PRE-VALIDATION\n"
     ]
    }
   ],
   "source": [
    "from nltk.parse.generate import generate, demo_grammar\n",
    "from nltk import CFG\n",
    "\n",
    "cfg_grammar= \"\"\"\n",
    "S ->  Noun1 Trigger_Rule\n",
    "Noun1 -> \"utilisation\" | \"emploi\" | \"maniement\" | \"usage\" | \"exploitation\" | \"consommation\" | \"appel\"\n",
    "Trigger_Rule -> \"|forward|trigger|conditional|30|Group[1116]|PRE-VALIDATION\"\n",
    "\"\"\"\n",
    "\n",
    "for sentence in generate(CFG.fromstring(cfg_grammar), n=1000):\n",
    "    print(' '.join(sentence))"
   ]
  },
  {
   "cell_type": "code",
   "execution_count": 41,
   "metadata": {},
   "outputs": [
    {
     "name": "stdout",
     "output_type": "stream",
     "text": [
      "sans noté |forward|trigger|negated|10|Group[1117]|PRE-VALIDATION\n",
      "sans constaté |forward|trigger|negated|10|Group[1117]|PRE-VALIDATION\n",
      "sans relevé |forward|trigger|negated|10|Group[1117]|PRE-VALIDATION\n",
      "sans remarqué |forward|trigger|negated|10|Group[1117]|PRE-VALIDATION\n",
      "sans observé |forward|trigger|negated|10|Group[1117]|PRE-VALIDATION\n",
      "sans consigné |forward|trigger|negated|10|Group[1117]|PRE-VALIDATION\n",
      "sans communiqué |forward|trigger|negated|10|Group[1117]|PRE-VALIDATION\n",
      "sans qualité |forward|trigger|negated|10|Group[1117]|PRE-VALIDATION\n",
      "sans transcrit |forward|trigger|negated|10|Group[1117]|PRE-VALIDATION\n",
      "sans classé |forward|trigger|negated|10|Group[1117]|PRE-VALIDATION\n",
      "sans évalué |forward|trigger|negated|10|Group[1117]|PRE-VALIDATION\n",
      "sans étiqueté |forward|trigger|negated|10|Group[1117]|PRE-VALIDATION\n",
      "sans estimé |forward|trigger|negated|10|Group[1117]|PRE-VALIDATION\n",
      "sans mentionné |forward|trigger|negated|10|Group[1117]|PRE-VALIDATION\n",
      "sans coché |forward|trigger|negated|10|Group[1117]|PRE-VALIDATION\n"
     ]
    }
   ],
   "source": [
    "from nltk.parse.generate import generate, demo_grammar\n",
    "from nltk import CFG\n",
    "\n",
    "cfg_grammar= \"\"\"\n",
    "S ->  Adposition1 Noun2 Trigger_Rule\n",
    "Adposition1 -> \"sans\"\n",
    "Noun2 -> \"noté\" | \"constaté\" | \"relevé\" | \"remarqué\" | \"observé\" | \"consigné\" | \"communiqué\" | \"qualité\" | \"transcrit\" | \"classé\" | \"évalué\" | \"étiqueté\" | \"estimé\" | \"mentionné\" | \"coché\"\n",
    "Trigger_Rule -> \"|forward|trigger|negated|10|Group[1117]|PRE-VALIDATION\"\n",
    "\"\"\"\n",
    "\n",
    "for sentence in generate(CFG.fromstring(cfg_grammar), n=1000):\n",
    "    print(' '.join(sentence))"
   ]
  },
  {
   "cell_type": "code",
   "execution_count": 42,
   "metadata": {},
   "outputs": [
    {
     "name": "stdout",
     "output_type": "stream",
     "text": [
      "sans signes de |forward|trigger|negated|10|Group[1117]|PRE-VALIDATION\n",
      "sans signal de |forward|trigger|negated|10|Group[1117]|PRE-VALIDATION\n",
      "sans indice de |forward|trigger|negated|10|Group[1117]|PRE-VALIDATION\n",
      "sans marque de |forward|trigger|negated|10|Group[1117]|PRE-VALIDATION\n",
      "sans preuve de |forward|trigger|negated|10|Group[1117]|PRE-VALIDATION\n",
      "sans stigmate de |forward|trigger|negated|10|Group[1117]|PRE-VALIDATION\n",
      "sans annonce de |forward|trigger|negated|10|Group[1117]|PRE-VALIDATION\n",
      "sans indication de |forward|trigger|negated|10|Group[1117]|PRE-VALIDATION\n",
      "sans témoignage de |forward|trigger|negated|10|Group[1117]|PRE-VALIDATION\n",
      "sans manifestation de |forward|trigger|negated|10|Group[1117]|PRE-VALIDATION\n",
      "sans traces de |forward|trigger|negated|10|Group[1117]|PRE-VALIDATION\n",
      "sans avertissements de |forward|trigger|negated|10|Group[1117]|PRE-VALIDATION\n",
      "sans observations de |forward|trigger|negated|10|Group[1117]|PRE-VALIDATION\n"
     ]
    }
   ],
   "source": [
    "from nltk.parse.generate import generate, demo_grammar\n",
    "from nltk import CFG\n",
    "\n",
    "cfg_grammar= \"\"\"\n",
    "S ->  Adposition1 Noun2 Adposition3 Trigger_Rule\n",
    "Adposition1 -> \"sans\"\n",
    "Noun2 -> \"signes\" | \"signal\" | \"indice\" | \"marque\" | \"preuve\" | \"stigmate\" | \"annonce\" | \"indication\" | \"témoignage\" | \"manifestation\" | \"traces\" | \"avertissements\" | \"observations\"\n",
    "Adposition3 -> \"de\"\n",
    "Trigger_Rule -> \"|forward|trigger|negated|10|Group[1117]|PRE-VALIDATION\"\n",
    "\"\"\"\n",
    "\n",
    "for sentence in generate(CFG.fromstring(cfg_grammar), n=1000):\n",
    "    print(' '.join(sentence))"
   ]
  },
  {
   "cell_type": "code",
   "execution_count": 43,
   "metadata": {},
   "outputs": [
    {
     "name": "stdout",
     "output_type": "stream",
     "text": [
      "sans vital |forward|trigger|negated|10|Group[1117]|PRE-VALIDATION\n",
      "sans indispensable |forward|trigger|negated|10|Group[1117]|PRE-VALIDATION\n",
      "sans fondamental |forward|trigger|negated|10|Group[1117]|PRE-VALIDATION\n",
      "sans primordial |forward|trigger|negated|10|Group[1117]|PRE-VALIDATION\n",
      "sans principal |forward|trigger|negated|10|Group[1117]|PRE-VALIDATION\n",
      "sans important |forward|trigger|negated|10|Group[1117]|PRE-VALIDATION\n",
      "sans capital |forward|trigger|negated|10|Group[1117]|PRE-VALIDATION\n",
      "sans substantiel |forward|trigger|negated|10|Group[1117]|PRE-VALIDATION\n",
      "sans inévitable |forward|trigger|negated|10|Group[1117]|PRE-VALIDATION\n",
      "sans crucial |forward|trigger|negated|10|Group[1117]|PRE-VALIDATION\n",
      "sans critique |forward|trigger|negated|10|Group[1117]|PRE-VALIDATION\n",
      "sans essentielle |forward|trigger|negated|10|Group[1117]|PRE-VALIDATION\n"
     ]
    }
   ],
   "source": [
    "from nltk.parse.generate import generate, demo_grammar\n",
    "from nltk import CFG\n",
    "\n",
    "cfg_grammar= \"\"\"\n",
    "S ->  Adposition1 Noun2 Trigger_Rule\n",
    "Adposition1 -> \"sans\"\n",
    "Noun2 -> \"vital\" | \"indispensable\" | \"fondamental\" | \"primordial\" | \"principal\" | \"important\" | \"capital\" | \"substantiel\" | \"inévitable\" | \"crucial\" | \"critique\" | \"essentielle\"\n",
    "Trigger_Rule -> \"|forward|trigger|negated|10|Group[1117]|PRE-VALIDATION\"\n",
    "\"\"\"\n",
    "\n",
    "for sentence in generate(CFG.fromstring(cfg_grammar), n=1000):\n",
    "    print(' '.join(sentence))"
   ]
  },
  {
   "cell_type": "code",
   "execution_count": 44,
   "metadata": {},
   "outputs": [
    {
     "name": "stdout",
     "output_type": "stream",
     "text": [
      "sans preuve de |forward|trigger|negated|10|Group[1117]|PRE-VALIDATION\n",
      "sans témoignage de |forward|trigger|negated|10|Group[1117]|PRE-VALIDATION\n",
      "sans justification de |forward|trigger|negated|10|Group[1117]|PRE-VALIDATION\n",
      "sans démonstration de |forward|trigger|negated|10|Group[1117]|PRE-VALIDATION\n",
      "sans gage de |forward|trigger|negated|10|Group[1117]|PRE-VALIDATION\n",
      "sans conviction de |forward|trigger|negated|10|Group[1117]|PRE-VALIDATION\n",
      "sans argument de |forward|trigger|negated|10|Group[1117]|PRE-VALIDATION\n",
      "sans constatation de |forward|trigger|negated|10|Group[1117]|PRE-VALIDATION\n",
      "sans confirmation de |forward|trigger|negated|10|Group[1117]|PRE-VALIDATION\n",
      "sans critère de |forward|trigger|negated|10|Group[1117]|PRE-VALIDATION\n",
      "sans signe de |forward|trigger|negated|10|Group[1117]|PRE-VALIDATION\n",
      "sans motif de |forward|trigger|negated|10|Group[1117]|PRE-VALIDATION\n",
      "sans assurance de |forward|trigger|negated|10|Group[1117]|PRE-VALIDATION\n",
      "sans fondement de |forward|trigger|negated|10|Group[1117]|PRE-VALIDATION\n",
      "sans évidence de |forward|trigger|negated|10|Group[1117]|PRE-VALIDATION\n"
     ]
    }
   ],
   "source": [
    "from nltk.parse.generate import generate, demo_grammar\n",
    "from nltk import CFG\n",
    "\n",
    "cfg_grammar= \"\"\"\n",
    "S ->  Adposition1 Noun2 Adposition3 Trigger_Rule\n",
    "Adposition1 -> \"sans\"\n",
    "Noun2 -> \"preuve\" | \"témoignage\" | \"justification\" | \"démonstration\" | \"gage\" | \"conviction\" | \"argument\" | \"constatation\" | \"confirmation\" | \"critère\" | \"signe\" | \"motif\" | \"assurance\" | \"fondement\" | \"évidence\"\n",
    "Adposition3 -> \"de\"\n",
    "Trigger_Rule -> \"|forward|trigger|negated|10|Group[1117]|PRE-VALIDATION\"\n",
    "\"\"\"\n",
    "\n",
    "for sentence in generate(CFG.fromstring(cfg_grammar), n=1000):\n",
    "    print(' '.join(sentence))"
   ]
  },
  {
   "cell_type": "code",
   "execution_count": 45,
   "metadata": {},
   "outputs": [
    {
     "name": "stdout",
     "output_type": "stream",
     "text": [
      "sans indication de |forward|trigger|negated|10|Group[1117]|PRE-VALIDATION\n",
      "sans avertissement de |forward|trigger|negated|10|Group[1117]|PRE-VALIDATION\n",
      "sans prescription de |forward|trigger|negated|10|Group[1117]|PRE-VALIDATION\n",
      "sans directive de |forward|trigger|negated|10|Group[1117]|PRE-VALIDATION\n",
      "sans annotation de |forward|trigger|negated|10|Group[1117]|PRE-VALIDATION\n",
      "sans explication de |forward|trigger|negated|10|Group[1117]|PRE-VALIDATION\n",
      "sans renvoi de |forward|trigger|negated|10|Group[1117]|PRE-VALIDATION\n",
      "sans information de |forward|trigger|negated|10|Group[1117]|PRE-VALIDATION\n",
      "sans note de |forward|trigger|negated|10|Group[1117]|PRE-VALIDATION\n",
      "sans recommandation de |forward|trigger|negated|10|Group[1117]|PRE-VALIDATION\n",
      "sans critère de |forward|trigger|negated|10|Group[1117]|PRE-VALIDATION\n",
      "sans notation de |forward|trigger|negated|10|Group[1117]|PRE-VALIDATION\n",
      "sans suggestion de |forward|trigger|negated|10|Group[1117]|PRE-VALIDATION\n",
      "sans mention de |forward|trigger|negated|10|Group[1117]|PRE-VALIDATION\n",
      "sans symptôme de |forward|trigger|negated|10|Group[1117]|PRE-VALIDATION\n"
     ]
    }
   ],
   "source": [
    "from nltk.parse.generate import generate, demo_grammar\n",
    "from nltk import CFG\n",
    "\n",
    "cfg_grammar= \"\"\"\n",
    "S ->  Adposition1 Noun2 Adposition3 Trigger_Rule\n",
    "Adposition1 -> \"sans\"\n",
    "Noun2 -> \"indication\" | \"avertissement\" | \"prescription\" | \"directive\" | \"annotation\" | \"explication\" | \"renvoi\" | \"information\" | \"note\" | \"recommandation\" | \"critère\" | \"notation\" | \"suggestion\" | \"mention\" | \"symptôme\"\n",
    "Adposition3 -> \"de\"\n",
    "Trigger_Rule -> \"|forward|trigger|negated|10|Group[1117]|PRE-VALIDATION\"\n",
    "\"\"\"\n",
    "\n",
    "for sentence in generate(CFG.fromstring(cfg_grammar), n=1000):\n",
    "    print(' '.join(sentence))"
   ]
  },
  {
   "cell_type": "code",
   "execution_count": 46,
   "metadata": {},
   "outputs": [
    {
     "name": "stdout",
     "output_type": "stream",
     "text": [
      "sans autre |forward|trigger|negated|10|Group[1117]|PRE-VALIDATION\n"
     ]
    }
   ],
   "source": [
    "from nltk.parse.generate import generate, demo_grammar\n",
    "from nltk import CFG\n",
    "\n",
    "cfg_grammar= \"\"\"\n",
    "S ->  Adposition1 Adjective2 Trigger_Rule\n",
    "Adposition1 -> \"sans\"\n",
    "Adjective2 -> \"autre\"\n",
    "Trigger_Rule -> \"|forward|trigger|negated|10|Group[1117]|PRE-VALIDATION\"\n",
    "\"\"\"\n",
    "\n",
    "for sentence in generate(CFG.fromstring(cfg_grammar), n=1000):\n",
    "    print(' '.join(sentence))"
   ]
  },
  {
   "cell_type": "code",
   "execution_count": 47,
   "metadata": {},
   "outputs": [
    {
     "name": "stdout",
     "output_type": "stream",
     "text": [
      "sans douleur |forward|trigger|negated|10|Group[1117]|PRE-VALIDATION\n",
      "sans souffrance |forward|trigger|negated|10|Group[1117]|PRE-VALIDATION\n",
      "sans mal |forward|trigger|negated|10|Group[1117]|PRE-VALIDATION\n",
      "sans supplice |forward|trigger|negated|10|Group[1117]|PRE-VALIDATION\n",
      "sans algie |forward|trigger|negated|10|Group[1117]|PRE-VALIDATION\n",
      "sans gémissement |forward|trigger|negated|10|Group[1117]|PRE-VALIDATION\n",
      "sans blessure |forward|trigger|negated|10|Group[1117]|PRE-VALIDATION\n",
      "sans faire mal |forward|trigger|negated|10|Group[1117]|PRE-VALIDATION\n",
      "sans nuisance |forward|trigger|negated|10|Group[1117]|PRE-VALIDATION\n"
     ]
    }
   ],
   "source": [
    "from nltk.parse.generate import generate, demo_grammar\n",
    "from nltk import CFG\n",
    "\n",
    "cfg_grammar= \"\"\"\n",
    "S ->  Adposition1 Noun2 Trigger_Rule\n",
    "Adposition1 -> \"sans\"\n",
    "Noun2 -> \"douleur\" | \"souffrance\" | \"mal\" | \"supplice\" | \"algie\" | \"gémissement\" | \"blessure\" | \"faire mal\" | \"nuisance\"\n",
    "Trigger_Rule -> \"|forward|trigger|negated|10|Group[1117]|PRE-VALIDATION\"\n",
    "\"\"\"\n",
    "\n",
    "for sentence in generate(CFG.fromstring(cfg_grammar), n=1000):\n",
    "    print(' '.join(sentence))"
   ]
  },
  {
   "cell_type": "code",
   "execution_count": 48,
   "metadata": {},
   "outputs": [
    {
     "name": "stdout",
     "output_type": "stream",
     "text": [
      "sans monter |forward|trigger|negated|10|Group[1117]|PRE-VALIDATION\n",
      "sans élever |forward|trigger|negated|10|Group[1117]|PRE-VALIDATION\n",
      "sans rehausser |forward|trigger|negated|10|Group[1117]|PRE-VALIDATION\n",
      "sans relever |forward|trigger|negated|10|Group[1117]|PRE-VALIDATION\n",
      "sans hausser |forward|trigger|negated|10|Group[1117]|PRE-VALIDATION\n",
      "sans remonter |forward|trigger|negated|10|Group[1117]|PRE-VALIDATION\n",
      "sans réhausser |forward|trigger|negated|10|Group[1117]|PRE-VALIDATION\n",
      "sans s'intensifier |forward|trigger|negated|10|Group[1117]|PRE-VALIDATION\n",
      "sans accroître |forward|trigger|negated|10|Group[1117]|PRE-VALIDATION\n",
      "sans accentuer |forward|trigger|negated|10|Group[1117]|PRE-VALIDATION\n",
      "sans amplifier |forward|trigger|negated|10|Group[1117]|PRE-VALIDATION\n"
     ]
    }
   ],
   "source": [
    "from nltk.parse.generate import generate, demo_grammar\n",
    "from nltk import CFG\n",
    "\n",
    "cfg_grammar= \"\"\"\n",
    "S ->  Adposition1 Verb2 Trigger_Rule\n",
    "Adposition1 -> \"sans\"\n",
    "Verb2 -> \"monter\" | \"élever\" | \"rehausser\" | \"relever\" | \"hausser\" | \"remonter\" | \"réhausser\" | \"s'intensifier\" | \"accroître\" | \"accentuer\" | \"amplifier\"\n",
    "Trigger_Rule -> \"|forward|trigger|negated|10|Group[1117]|PRE-VALIDATION\"\n",
    "\"\"\"\n",
    "\n",
    "for sentence in generate(CFG.fromstring(cfg_grammar), n=1000):\n",
    "    print(' '.join(sentence))"
   ]
  },
  {
   "cell_type": "code",
   "execution_count": 49,
   "metadata": {},
   "outputs": [
    {
     "name": "stdout",
     "output_type": "stream",
     "text": [
      "sans nouveau |forward|trigger|negated|10|Group[1117]|PRE-VALIDATION\n",
      "sans récent |forward|trigger|negated|10|Group[1117]|PRE-VALIDATION\n",
      "sans original |forward|trigger|negated|10|Group[1117]|PRE-VALIDATION\n",
      "sans inédit |forward|trigger|negated|10|Group[1117]|PRE-VALIDATION\n",
      "sans nouveauté |forward|trigger|negated|10|Group[1117]|PRE-VALIDATION\n",
      "sans naissant |forward|trigger|negated|10|Group[1117]|PRE-VALIDATION\n",
      "sans commençant |forward|trigger|negated|10|Group[1117]|PRE-VALIDATION\n",
      "sans nouvelle |forward|trigger|negated|10|Group[1117]|PRE-VALIDATION\n",
      "sans récente |forward|trigger|negated|10|Group[1117]|PRE-VALIDATION\n",
      "sans jeunes |forward|trigger|negated|10|Group[1117]|PRE-VALIDATION\n",
      "sans nouvel |forward|trigger|negated|10|Group[1117]|PRE-VALIDATION\n"
     ]
    }
   ],
   "source": [
    "from nltk.parse.generate import generate, demo_grammar\n",
    "from nltk import CFG\n",
    "\n",
    "cfg_grammar= \"\"\"\n",
    "S ->  Adposition1 Noun2 Trigger_Rule\n",
    "Adposition1 -> \"sans\"\n",
    "Noun2 -> \"nouveau\" | \"récent\" | \"original\" | \"inédit\" | \"nouveauté\" | \"naissant\" | \"commençant\" | \"nouvelle\" | \"récente\" | \"jeunes\" | \"nouvel\"\n",
    "Trigger_Rule -> \"|forward|trigger|negated|10|Group[1117]|PRE-VALIDATION\"\n",
    "\"\"\"\n",
    "\n",
    "for sentence in generate(CFG.fromstring(cfg_grammar), n=1000):\n",
    "    print(' '.join(sentence))"
   ]
  },
  {
   "cell_type": "code",
   "execution_count": 50,
   "metadata": {},
   "outputs": [
    {
     "name": "stdout",
     "output_type": "stream",
     "text": [
      "sans avoir |forward|trigger|negated|10|Group[1117]|PRE-VALIDATION\n"
     ]
    }
   ],
   "source": [
    "from nltk.parse.generate import generate, demo_grammar\n",
    "from nltk import CFG\n",
    "\n",
    "cfg_grammar= \"\"\"\n",
    "S ->  Adposition1 Verb2 Trigger_Rule\n",
    "Adposition1 -> \"sans\"\n",
    "Verb2 -> \"avoir\"\n",
    "Trigger_Rule -> \"|forward|trigger|negated|10|Group[1117]|PRE-VALIDATION\"\n",
    "\"\"\"\n",
    "\n",
    "for sentence in generate(CFG.fromstring(cfg_grammar), n=1000):\n",
    "    print(' '.join(sentence))"
   ]
  },
  {
   "cell_type": "code",
   "execution_count": 51,
   "metadata": {},
   "outputs": [
    {
     "name": "stdout",
     "output_type": "stream",
     "text": [
      "sans significative |forward|trigger|negated|10|Group[1117]|PRE-VALIDATION\n"
     ]
    }
   ],
   "source": [
    "from nltk.parse.generate import generate, demo_grammar\n",
    "from nltk import CFG\n",
    "\n",
    "cfg_grammar= \"\"\"\n",
    "S ->  Adposition1 Adjective2 Trigger_Rule\n",
    "Adposition1 -> \"sans\"\n",
    "Adjective2 -> \"significative\"\n",
    "Trigger_Rule -> \"|forward|trigger|negated|10|Group[1117]|PRE-VALIDATION\"\n",
    "\"\"\"\n",
    "\n",
    "for sentence in generate(CFG.fromstring(cfg_grammar), n=1000):\n",
    "    print(' '.join(sentence))"
   ]
  },
  {
   "cell_type": "code",
   "execution_count": 52,
   "metadata": {},
   "outputs": [
    {
     "name": "stdout",
     "output_type": "stream",
     "text": [
      "sans majeur |forward|trigger|negated|10|Group[1117]|PRE-VALIDATION\n",
      "sans important |forward|trigger|negated|10|Group[1117]|PRE-VALIDATION\n",
      "sans exceptionnel |forward|trigger|negated|10|Group[1117]|PRE-VALIDATION\n",
      "sans considérable |forward|trigger|negated|10|Group[1117]|PRE-VALIDATION\n",
      "sans essentiel |forward|trigger|negated|10|Group[1117]|PRE-VALIDATION\n",
      "sans principal |forward|trigger|negated|10|Group[1117]|PRE-VALIDATION\n",
      "sans prédominant |forward|trigger|negated|10|Group[1117]|PRE-VALIDATION\n",
      "sans prééminent |forward|trigger|negated|10|Group[1117]|PRE-VALIDATION\n",
      "sans primordial |forward|trigger|negated|10|Group[1117]|PRE-VALIDATION\n",
      "sans profond |forward|trigger|negated|10|Group[1117]|PRE-VALIDATION\n",
      "sans capital |forward|trigger|negated|10|Group[1117]|PRE-VALIDATION\n",
      "sans substantiel |forward|trigger|negated|10|Group[1117]|PRE-VALIDATION\n",
      "sans énorme |forward|trigger|negated|10|Group[1117]|PRE-VALIDATION\n",
      "sans grave |forward|trigger|negated|10|Group[1117]|PRE-VALIDATION\n",
      "sans significatif |forward|trigger|negated|10|Group[1117]|PRE-VALIDATION\n"
     ]
    }
   ],
   "source": [
    "from nltk.parse.generate import generate, demo_grammar\n",
    "from nltk import CFG\n",
    "\n",
    "cfg_grammar= \"\"\"\n",
    "S ->  Adposition1 Noun2 Trigger_Rule\n",
    "Adposition1 -> \"sans\"\n",
    "Noun2 -> \"majeur\" | \"important\" | \"exceptionnel\" | \"considérable\" | \"essentiel\" | \"principal\" | \"prédominant\" | \"prééminent\" | \"primordial\" | \"profond\" | \"capital\" | \"substantiel\" | \"énorme\" | \"grave\" | \"significatif\"\n",
    "Trigger_Rule -> \"|forward|trigger|negated|10|Group[1117]|PRE-VALIDATION\"\n",
    "\"\"\"\n",
    "\n",
    "for sentence in generate(CFG.fromstring(cfg_grammar), n=1000):\n",
    "    print(' '.join(sentence))"
   ]
  },
  {
   "cell_type": "code",
   "execution_count": 53,
   "metadata": {},
   "outputs": [
    {
     "name": "stdout",
     "output_type": "stream",
     "text": [
      "sans maximum |forward|trigger|negated|10|Group[1117]|PRE-VALIDATION\n",
      "sans maximal |forward|trigger|negated|10|Group[1117]|PRE-VALIDATION\n",
      "sans limite |forward|trigger|negated|10|Group[1117]|PRE-VALIDATION\n",
      "sans pointe |forward|trigger|negated|10|Group[1117]|PRE-VALIDATION\n",
      "sans sommet |forward|trigger|negated|10|Group[1117]|PRE-VALIDATION\n",
      "sans pic |forward|trigger|negated|10|Group[1117]|PRE-VALIDATION\n",
      "sans haut |forward|trigger|negated|10|Group[1117]|PRE-VALIDATION\n"
     ]
    }
   ],
   "source": [
    "from nltk.parse.generate import generate, demo_grammar\n",
    "from nltk import CFG\n",
    "\n",
    "cfg_grammar= \"\"\"\n",
    "S ->  Adposition1 Noun2 Trigger_Rule\n",
    "Adposition1 -> \"sans\"\n",
    "Noun2 -> \"maximum\" | \"maximal\" | \"limite\" | \"pointe\" | \"sommet\" | \"pic\" | \"haut\"\n",
    "Trigger_Rule -> \"|forward|trigger|negated|10|Group[1117]|PRE-VALIDATION\"\n",
    "\"\"\"\n",
    "\n",
    "for sentence in generate(CFG.fromstring(cfg_grammar), n=1000):\n",
    "    print(' '.join(sentence))"
   ]
  },
  {
   "cell_type": "code",
   "execution_count": 54,
   "metadata": {},
   "outputs": [
    {
     "name": "stdout",
     "output_type": "stream",
     "text": [
      "sans certains |forward|trigger|negated|10|Group[1117]|PRE-VALIDATION\n"
     ]
    }
   ],
   "source": [
    "from nltk.parse.generate import generate, demo_grammar\n",
    "from nltk import CFG\n",
    "\n",
    "cfg_grammar= \"\"\"\n",
    "S ->  Adposition1 Pronoun2 Trigger_Rule\n",
    "Adposition1 -> \"sans\"\n",
    "Pronoun2 -> \"certains\"\n",
    "Trigger_Rule -> \"|forward|trigger|negated|10|Group[1117]|PRE-VALIDATION\"\n",
    "\"\"\"\n",
    "\n",
    "for sentence in generate(CFG.fromstring(cfg_grammar), n=1000):\n",
    "    print(' '.join(sentence))"
   ]
  },
  {
   "cell_type": "code",
   "execution_count": 55,
   "metadata": {},
   "outputs": [
    {
     "name": "stdout",
     "output_type": "stream",
     "text": [
      "sans paraspinal |forward|trigger|negated|10|Group[1117]|PRE-VALIDATION\n"
     ]
    }
   ],
   "source": [
    "from nltk.parse.generate import generate, demo_grammar\n",
    "from nltk import CFG\n",
    "\n",
    "cfg_grammar= \"\"\"\n",
    "S ->  Adposition1 Adjective2 Trigger_Rule\n",
    "Adposition1 -> \"sans\"\n",
    "Adjective2 -> \"paraspinal\"\n",
    "Trigger_Rule -> \"|forward|trigger|negated|10|Group[1117]|PRE-VALIDATION\"\n",
    "\"\"\"\n",
    "\n",
    "for sentence in generate(CFG.fromstring(cfg_grammar), n=1000):\n",
    "    print(' '.join(sentence))"
   ]
  },
  {
   "cell_type": "code",
   "execution_count": 56,
   "metadata": {},
   "outputs": [
    {
     "name": "stdout",
     "output_type": "stream",
     "text": [
      "sans signe de |forward|trigger|negated|10|Group[1117]|PRE-VALIDATION\n",
      "sans signal de |forward|trigger|negated|10|Group[1117]|PRE-VALIDATION\n",
      "sans indice de |forward|trigger|negated|10|Group[1117]|PRE-VALIDATION\n",
      "sans marque de |forward|trigger|negated|10|Group[1117]|PRE-VALIDATION\n",
      "sans preuve de |forward|trigger|negated|10|Group[1117]|PRE-VALIDATION\n",
      "sans indication de |forward|trigger|negated|10|Group[1117]|PRE-VALIDATION\n",
      "sans témoignage de |forward|trigger|negated|10|Group[1117]|PRE-VALIDATION\n",
      "sans manifestation de |forward|trigger|negated|10|Group[1117]|PRE-VALIDATION\n",
      "sans avertissement de |forward|trigger|negated|10|Group[1117]|PRE-VALIDATION\n",
      "sans trace de |forward|trigger|negated|10|Group[1117]|PRE-VALIDATION\n",
      "sans observation de |forward|trigger|negated|10|Group[1117]|PRE-VALIDATION\n"
     ]
    }
   ],
   "source": [
    "from nltk.parse.generate import generate, demo_grammar\n",
    "from nltk import CFG\n",
    "\n",
    "cfg_grammar= \"\"\"\n",
    "S ->  Adposition1 Noun2 Adposition3 Trigger_Rule\n",
    "Adposition1 -> \"sans\"\n",
    "Noun2 -> \"signe\" | \"signal\" | \"indice\" | \"marque\" | \"preuve\" | \"indication\" | \"témoignage\" | \"manifestation\" | \"avertissement\" | \"trace\" | \"observation\"\n",
    "Adposition3 -> \"de\"\n",
    "Trigger_Rule -> \"|forward|trigger|negated|10|Group[1117]|PRE-VALIDATION\"\n",
    "\"\"\"\n",
    "\n",
    "for sentence in generate(CFG.fromstring(cfg_grammar), n=1000):\n",
    "    print(' '.join(sentence))"
   ]
  },
  {
   "cell_type": "code",
   "execution_count": 57,
   "metadata": {},
   "outputs": [
    {
     "name": "stdout",
     "output_type": "stream",
     "text": [
      "sans gauche |forward|trigger|negated|10|Group[1117]|PRE-VALIDATION\n"
     ]
    }
   ],
   "source": [
    "from nltk.parse.generate import generate, demo_grammar\n",
    "from nltk import CFG\n",
    "\n",
    "cfg_grammar= \"\"\"\n",
    "S ->  Adposition1 Noun2 Trigger_Rule\n",
    "Adposition1 -> \"sans\"\n",
    "Noun2 -> \"gauche\"\n",
    "Trigger_Rule -> \"|forward|trigger|negated|10|Group[1117]|PRE-VALIDATION\"\n",
    "\"\"\"\n",
    "\n",
    "for sentence in generate(CFG.fromstring(cfg_grammar), n=1000):\n",
    "    print(' '.join(sentence))"
   ]
  },
  {
   "cell_type": "code",
   "execution_count": 58,
   "metadata": {},
   "outputs": [
    {
     "name": "stdout",
     "output_type": "stream",
     "text": [
      "sans beaucoup |forward|trigger|negated|10|Group[1117]|PRE-VALIDATION\n"
     ]
    }
   ],
   "source": [
    "from nltk.parse.generate import generate, demo_grammar\n",
    "from nltk import CFG\n",
    "\n",
    "cfg_grammar= \"\"\"\n",
    "S ->  Adposition1 Adverb2 Trigger_Rule\n",
    "Adposition1 -> \"sans\"\n",
    "Adverb2 -> \"beaucoup\"\n",
    "Trigger_Rule -> \"|forward|trigger|negated|10|Group[1117]|PRE-VALIDATION\"\n",
    "\"\"\"\n",
    "\n",
    "for sentence in generate(CFG.fromstring(cfg_grammar), n=1000):\n",
    "    print(' '.join(sentence))"
   ]
  },
  {
   "cell_type": "code",
   "execution_count": 59,
   "metadata": {},
   "outputs": [
    {
     "name": "stdout",
     "output_type": "stream",
     "text": [
      "sans éprouver |forward|trigger|negated|10|Group[1117]|PRE-VALIDATION\n",
      "sans ressentir |forward|trigger|negated|10|Group[1117]|PRE-VALIDATION\n",
      "sans sentir |forward|trigger|negated|10|Group[1117]|PRE-VALIDATION\n",
      "sans souffrir |forward|trigger|negated|10|Group[1117]|PRE-VALIDATION\n",
      "sans expérimenter |forward|trigger|negated|10|Group[1117]|PRE-VALIDATION\n",
      "sans endurer |forward|trigger|negated|10|Group[1117]|PRE-VALIDATION\n",
      "sans risquer |forward|trigger|negated|10|Group[1117]|PRE-VALIDATION\n",
      "sans affliger |forward|trigger|negated|10|Group[1117]|PRE-VALIDATION\n"
     ]
    }
   ],
   "source": [
    "from nltk.parse.generate import generate, demo_grammar\n",
    "from nltk import CFG\n",
    "\n",
    "cfg_grammar= \"\"\"\n",
    "S ->  Adposition1 Verb2 Trigger_Rule\n",
    "Adposition1 -> \"sans\"\n",
    "Verb2 -> \"éprouver\" | \"ressentir\" | \"sentir\" | \"souffrir\" | \"expérimenter\" | \"endurer\" | \"risquer\" | \"affliger\"\n",
    "Trigger_Rule -> \"|forward|trigger|negated|10|Group[1117]|PRE-VALIDATION\"\n",
    "\"\"\"\n",
    "\n",
    "for sentence in generate(CFG.fromstring(cfg_grammar), n=1000):\n",
    "    print(' '.join(sentence))"
   ]
  },
  {
   "cell_type": "code",
   "execution_count": 60,
   "metadata": {},
   "outputs": [
    {
     "name": "stdout",
     "output_type": "stream",
     "text": [
      "sans grossier |forward|trigger|negated|10|Group[1117]|PRE-VALIDATION\n",
      "sans vague |forward|trigger|negated|10|Group[1117]|PRE-VALIDATION\n",
      "sans rudimentaire |forward|trigger|negated|10|Group[1117]|PRE-VALIDATION\n",
      "sans approximatif |forward|trigger|negated|10|Group[1117]|PRE-VALIDATION\n",
      "sans massif |forward|trigger|negated|10|Group[1117]|PRE-VALIDATION\n",
      "sans épais |forward|trigger|negated|10|Group[1117]|PRE-VALIDATION\n",
      "sans imparfait |forward|trigger|negated|10|Group[1117]|PRE-VALIDATION\n",
      "sans cru |forward|trigger|negated|10|Group[1117]|PRE-VALIDATION\n",
      "sans sordide |forward|trigger|negated|10|Group[1117]|PRE-VALIDATION\n",
      "sans répugnant |forward|trigger|negated|10|Group[1117]|PRE-VALIDATION\n"
     ]
    }
   ],
   "source": [
    "from nltk.parse.generate import generate, demo_grammar\n",
    "from nltk import CFG\n",
    "\n",
    "cfg_grammar= \"\"\"\n",
    "S ->  Adposition1 Verb2 Trigger_Rule\n",
    "Adposition1 -> \"sans\"\n",
    "Verb2 -> \"grossier\" | \"vague\" | \"rudimentaire\" | \"approximatif\" | \"massif\" | \"épais\" | \"imparfait\" | \"cru\" | \"sordide\" | \"répugnant\"\n",
    "Trigger_Rule -> \"|forward|trigger|negated|10|Group[1117]|PRE-VALIDATION\"\n",
    "\"\"\"\n",
    "\n",
    "for sentence in generate(CFG.fromstring(cfg_grammar), n=1000):\n",
    "    print(' '.join(sentence))"
   ]
  },
  {
   "cell_type": "code",
   "execution_count": 61,
   "metadata": {},
   "outputs": [
    {
     "name": "stdout",
     "output_type": "stream",
     "text": [
      "sans purulent |forward|trigger|negated|10|Group[1117]|PRE-VALIDATION\n",
      "sans suppuré |forward|trigger|negated|10|Group[1117]|PRE-VALIDATION\n",
      "sans suppurant |forward|trigger|negated|10|Group[1117]|PRE-VALIDATION\n",
      "sans infecté |forward|trigger|negated|10|Group[1117]|PRE-VALIDATION\n",
      "sans sanieux |forward|trigger|negated|10|Group[1117]|PRE-VALIDATION\n",
      "sans coulant |forward|trigger|negated|10|Group[1117]|PRE-VALIDATION\n",
      "sans infectieux |forward|trigger|negated|10|Group[1117]|PRE-VALIDATION\n"
     ]
    }
   ],
   "source": [
    "from nltk.parse.generate import generate, demo_grammar\n",
    "from nltk import CFG\n",
    "\n",
    "cfg_grammar= \"\"\"\n",
    "S ->  Adposition1 Noun2 Trigger_Rule\n",
    "Adposition1 -> \"sans\"\n",
    "Noun2 -> \"purulent\" | \"suppuré\" | \"suppurant\" | \"infecté\" | \"sanieux\" | \"coulant\" | \"infectieux\"\n",
    "Trigger_Rule -> \"|forward|trigger|negated|10|Group[1117]|PRE-VALIDATION\"\n",
    "\"\"\"\n",
    "\n",
    "for sentence in generate(CFG.fromstring(cfg_grammar), n=1000):\n",
    "    print(' '.join(sentence))"
   ]
  },
  {
   "cell_type": "code",
   "execution_count": 62,
   "metadata": {},
   "outputs": [
    {
     "name": "stdout",
     "output_type": "stream",
     "text": [
      "sans remarqué |forward|trigger|negated|10|Group[1117]|PRE-VALIDATION\n",
      "sans pensée |forward|trigger|negated|10|Group[1117]|PRE-VALIDATION\n",
      "sans considération |forward|trigger|negated|10|Group[1117]|PRE-VALIDATION\n",
      "sans commentaire |forward|trigger|negated|10|Group[1117]|PRE-VALIDATION\n",
      "sans note |forward|trigger|negated|10|Group[1117]|PRE-VALIDATION\n",
      "sans observation |forward|trigger|negated|10|Group[1117]|PRE-VALIDATION\n",
      "sans noté |forward|trigger|negated|10|Group[1117]|PRE-VALIDATION\n",
      "sans constaté |forward|trigger|negated|10|Group[1117]|PRE-VALIDATION\n",
      "sans distingué |forward|trigger|negated|10|Group[1117]|PRE-VALIDATION\n",
      "sans découvert |forward|trigger|negated|10|Group[1117]|PRE-VALIDATION\n",
      "sans observé |forward|trigger|negated|10|Group[1117]|PRE-VALIDATION\n",
      "sans perçu |forward|trigger|negated|10|Group[1117]|PRE-VALIDATION\n",
      "sans vu |forward|trigger|negated|10|Group[1117]|PRE-VALIDATION\n",
      "sans avisé |forward|trigger|negated|10|Group[1117]|PRE-VALIDATION\n",
      "sans repéré |forward|trigger|negated|10|Group[1117]|PRE-VALIDATION\n"
     ]
    }
   ],
   "source": [
    "from nltk.parse.generate import generate, demo_grammar\n",
    "from nltk import CFG\n",
    "\n",
    "cfg_grammar= \"\"\"\n",
    "S ->  Adposition1 Verb2 Trigger_Rule\n",
    "Adposition1 -> \"sans\"\n",
    "Verb2 -> \"remarqué\" | \"pensée\" | \"considération\" | \"commentaire\" | \"note\" | \"observation\" | \"noté\" | \"constaté\" | \"distingué\" | \"découvert\" | \"observé\" | \"perçu\" | \"vu\" | \"avisé\" | \"repéré\"\n",
    "Trigger_Rule -> \"|forward|trigger|negated|10|Group[1117]|PRE-VALIDATION\"\n",
    "\"\"\"\n",
    "\n",
    "for sentence in generate(CFG.fromstring(cfg_grammar), n=1000):\n",
    "    print(' '.join(sentence))"
   ]
  },
  {
   "cell_type": "code",
   "execution_count": 63,
   "metadata": {},
   "outputs": [
    {
     "name": "stdout",
     "output_type": "stream",
     "text": [
      "sans augmentation |forward|trigger|negated|10|Group[1117]|PRE-VALIDATION\n",
      "sans extension |forward|trigger|negated|10|Group[1117]|PRE-VALIDATION\n",
      "sans amplification |forward|trigger|negated|10|Group[1117]|PRE-VALIDATION\n",
      "sans allongement |forward|trigger|negated|10|Group[1117]|PRE-VALIDATION\n",
      "sans addition |forward|trigger|negated|10|Group[1117]|PRE-VALIDATION\n",
      "sans élévation |forward|trigger|negated|10|Group[1117]|PRE-VALIDATION\n",
      "sans hausse |forward|trigger|negated|10|Group[1117]|PRE-VALIDATION\n",
      "sans aggravation |forward|trigger|negated|10|Group[1117]|PRE-VALIDATION\n",
      "sans agrandissement |forward|trigger|negated|10|Group[1117]|PRE-VALIDATION\n",
      "sans intensification |forward|trigger|negated|10|Group[1117]|PRE-VALIDATION\n",
      "sans redoublement |forward|trigger|negated|10|Group[1117]|PRE-VALIDATION\n",
      "sans dilatation |forward|trigger|negated|10|Group[1117]|PRE-VALIDATION\n",
      "sans croissance |forward|trigger|negated|10|Group[1117]|PRE-VALIDATION\n",
      "sans développement |forward|trigger|negated|10|Group[1117]|PRE-VALIDATION\n",
      "sans montée |forward|trigger|negated|10|Group[1117]|PRE-VALIDATION\n"
     ]
    }
   ],
   "source": [
    "from nltk.parse.generate import generate, demo_grammar\n",
    "from nltk import CFG\n",
    "\n",
    "cfg_grammar= \"\"\"\n",
    "S ->  Adposition1 Noun2 Trigger_Rule\n",
    "Adposition1 -> \"sans\"\n",
    "Noun2 -> \"augmentation\" | \"extension\" | \"amplification\" | \"allongement\" | \"addition\" | \"élévation\" | \"hausse\" | \"aggravation\" | \"agrandissement\" | \"intensification\" | \"redoublement\" | \"dilatation\" | \"croissance\" | \"développement\" | \"montée\"\n",
    "Trigger_Rule -> \"|forward|trigger|negated|10|Group[1117]|PRE-VALIDATION\"\n",
    "\"\"\"\n",
    "\n",
    "for sentence in generate(CFG.fromstring(cfg_grammar), n=1000):\n",
    "    print(' '.join(sentence))"
   ]
  },
  {
   "cell_type": "code",
   "execution_count": 64,
   "metadata": {},
   "outputs": [
    {
     "name": "stdout",
     "output_type": "stream",
     "text": [
      "sans droit |forward|trigger|negated|10|Group[1117]|PRE-VALIDATION\n",
      "sans net |forward|trigger|negated|10|Group[1117]|PRE-VALIDATION\n",
      "sans franc |forward|trigger|negated|10|Group[1117]|PRE-VALIDATION\n",
      "sans clair |forward|trigger|negated|10|Group[1117]|PRE-VALIDATION\n",
      "sans uniforme |forward|trigger|negated|10|Group[1117]|PRE-VALIDATION\n",
      "sans sain |forward|trigger|negated|10|Group[1117]|PRE-VALIDATION\n",
      "sans d'aplomb |forward|trigger|negated|10|Group[1117]|PRE-VALIDATION\n"
     ]
    }
   ],
   "source": [
    "from nltk.parse.generate import generate, demo_grammar\n",
    "from nltk import CFG\n",
    "\n",
    "cfg_grammar= \"\"\"\n",
    "S ->  Adposition1 Noun2 Trigger_Rule\n",
    "Adposition1 -> \"sans\"\n",
    "Noun2 -> \"droit\" | \"net\" | \"franc\" | \"clair\" | \"uniforme\" | \"sain\" | \"d'aplomb\"\n",
    "Trigger_Rule -> \"|forward|trigger|negated|10|Group[1117]|PRE-VALIDATION\"\n",
    "\"\"\"\n",
    "\n",
    "for sentence in generate(CFG.fromstring(cfg_grammar), n=1000):\n",
    "    print(' '.join(sentence))"
   ]
  },
  {
   "cell_type": "code",
   "execution_count": 65,
   "metadata": {},
   "outputs": [
    {
     "name": "stdout",
     "output_type": "stream",
     "text": [
      "sans utiliser |forward|trigger|negated|10|Group[1117]|PRE-VALIDATION\n",
      "sans exploiter |forward|trigger|negated|10|Group[1117]|PRE-VALIDATION\n",
      "sans manipuler |forward|trigger|negated|10|Group[1117]|PRE-VALIDATION\n",
      "sans servir |forward|trigger|negated|10|Group[1117]|PRE-VALIDATION\n",
      "sans user |forward|trigger|negated|10|Group[1117]|PRE-VALIDATION\n",
      "sans bénéficier |forward|trigger|negated|10|Group[1117]|PRE-VALIDATION\n",
      "sans profiter |forward|trigger|negated|10|Group[1117]|PRE-VALIDATION\n",
      "sans recourir |forward|trigger|negated|10|Group[1117]|PRE-VALIDATION\n",
      "sans adopter |forward|trigger|negated|10|Group[1117]|PRE-VALIDATION\n",
      "sans manier |forward|trigger|negated|10|Group[1117]|PRE-VALIDATION\n",
      "sans mettre à profit |forward|trigger|negated|10|Group[1117]|PRE-VALIDATION\n",
      "sans tirer parti |forward|trigger|negated|10|Group[1117]|PRE-VALIDATION\n",
      "sans tirer profit |forward|trigger|negated|10|Group[1117]|PRE-VALIDATION\n",
      "sans se servir |forward|trigger|negated|10|Group[1117]|PRE-VALIDATION\n"
     ]
    }
   ],
   "source": [
    "from nltk.parse.generate import generate, demo_grammar\n",
    "from nltk import CFG\n",
    "\n",
    "cfg_grammar= \"\"\"\n",
    "S ->  Adposition1 Verb2 Trigger_Rule\n",
    "Adposition1 -> \"sans\"\n",
    "Verb2 -> \"utiliser\" | \"exploiter\" | \"manipuler\" | \"servir\" | \"user\" | \"bénéficier\" | \"profiter\" | \"recourir\" | \"adopter\" | \"manier\" | \"mettre à profit\" | \"tirer parti\" | \"tirer profit\" | \"se servir\"\n",
    "Trigger_Rule -> \"|forward|trigger|negated|10|Group[1117]|PRE-VALIDATION\"\n",
    "\"\"\"\n",
    "\n",
    "for sentence in generate(CFG.fromstring(cfg_grammar), n=1000):\n",
    "    print(' '.join(sentence))"
   ]
  },
  {
   "cell_type": "code",
   "execution_count": 66,
   "metadata": {},
   "outputs": [
    {
     "name": "stdout",
     "output_type": "stream",
     "text": [
      "sans rapport |forward|trigger|negated|10|Group[1117]|PRE-VALIDATION\n",
      "sans correspondance |forward|trigger|negated|10|Group[1117]|PRE-VALIDATION\n",
      "sans relation |forward|trigger|negated|10|Group[1117]|PRE-VALIDATION\n",
      "sans accord |forward|trigger|negated|10|Group[1117]|PRE-VALIDATION\n",
      "sans ressemblance |forward|trigger|negated|10|Group[1117]|PRE-VALIDATION\n",
      "sans affinité |forward|trigger|negated|10|Group[1117]|PRE-VALIDATION\n",
      "sans récit |forward|trigger|negated|10|Group[1117]|PRE-VALIDATION\n",
      "sans analogie |forward|trigger|negated|10|Group[1117]|PRE-VALIDATION\n",
      "sans corrélation |forward|trigger|negated|10|Group[1117]|PRE-VALIDATION\n",
      "sans concordance |forward|trigger|negated|10|Group[1117]|PRE-VALIDATION\n",
      "sans conformité |forward|trigger|negated|10|Group[1117]|PRE-VALIDATION\n",
      "sans parenté |forward|trigger|negated|10|Group[1117]|PRE-VALIDATION\n",
      "sans exposé |forward|trigger|negated|10|Group[1117]|PRE-VALIDATION\n",
      "sans rapprochement |forward|trigger|negated|10|Group[1117]|PRE-VALIDATION\n",
      "sans témoignage |forward|trigger|negated|10|Group[1117]|PRE-VALIDATION\n"
     ]
    }
   ],
   "source": [
    "from nltk.parse.generate import generate, demo_grammar\n",
    "from nltk import CFG\n",
    "\n",
    "cfg_grammar= \"\"\"\n",
    "S ->  Adposition1 Noun2 Trigger_Rule\n",
    "Adposition1 -> \"sans\"\n",
    "Noun2 -> \"rapport\" | \"correspondance\" | \"relation\" | \"accord\" | \"ressemblance\" | \"affinité\" | \"récit\" | \"analogie\" | \"corrélation\" | \"concordance\" | \"conformité\" | \"parenté\" | \"exposé\" | \"rapprochement\" | \"témoignage\"\n",
    "Trigger_Rule -> \"|forward|trigger|negated|10|Group[1117]|PRE-VALIDATION\"\n",
    "\"\"\"\n",
    "\n",
    "for sentence in generate(CFG.fromstring(cfg_grammar), n=1000):\n",
    "    print(' '.join(sentence))"
   ]
  },
  {
   "cell_type": "code",
   "execution_count": 67,
   "metadata": {},
   "outputs": [
    {
     "name": "stdout",
     "output_type": "stream",
     "text": [
      "sans évidence |forward|trigger|negated|10|Group[1117]|PRE-VALIDATION\n",
      "sans certitude |forward|trigger|negated|10|Group[1117]|PRE-VALIDATION\n",
      "sans preuve |forward|trigger|negated|10|Group[1117]|PRE-VALIDATION\n",
      "sans flagrance |forward|trigger|negated|10|Group[1117]|PRE-VALIDATION\n",
      "sans netteté |forward|trigger|negated|10|Group[1117]|PRE-VALIDATION\n"
     ]
    }
   ],
   "source": [
    "from nltk.parse.generate import generate, demo_grammar\n",
    "from nltk import CFG\n",
    "\n",
    "cfg_grammar= \"\"\"\n",
    "S ->  Adposition1 Noun2 Trigger_Rule\n",
    "Adposition1 -> \"sans\"\n",
    "Noun2 -> \"évidence\" | \"certitude\" | \"preuve\" | \"flagrance\" | \"netteté\"\n",
    "Trigger_Rule -> \"|forward|trigger|negated|10|Group[1117]|PRE-VALIDATION\"\n",
    "\"\"\"\n",
    "\n",
    "for sentence in generate(CFG.fromstring(cfg_grammar), n=1000):\n",
    "    print(' '.join(sentence))"
   ]
  },
  {
   "cell_type": "code",
   "execution_count": 68,
   "metadata": {},
   "outputs": [
    {
     "name": "stdout",
     "output_type": "stream",
     "text": [
      "sans mention de |forward|trigger|negated|10|Group[1117]|PRE-VALIDATION\n",
      "sans évocation de |forward|trigger|negated|10|Group[1117]|PRE-VALIDATION\n",
      "sans notation de |forward|trigger|negated|10|Group[1117]|PRE-VALIDATION\n",
      "sans signalement de |forward|trigger|negated|10|Group[1117]|PRE-VALIDATION\n",
      "sans note de |forward|trigger|negated|10|Group[1117]|PRE-VALIDATION\n",
      "sans expression de |forward|trigger|negated|10|Group[1117]|PRE-VALIDATION\n",
      "sans référence de |forward|trigger|negated|10|Group[1117]|PRE-VALIDATION\n",
      "sans reflet de |forward|trigger|negated|10|Group[1117]|PRE-VALIDATION\n",
      "sans allusion de |forward|trigger|negated|10|Group[1117]|PRE-VALIDATION\n"
     ]
    }
   ],
   "source": [
    "from nltk.parse.generate import generate, demo_grammar\n",
    "from nltk import CFG\n",
    "\n",
    "cfg_grammar= \"\"\"\n",
    "S ->  Adposition1 Noun2 Adposition3 Trigger_Rule\n",
    "Adposition1 -> \"sans\"\n",
    "Noun2 -> \"mention\" | \"évocation\" | \"notation\" | \"signalement\" | \"note\" | \"expression\" | \"référence\" | \"reflet\" | \"allusion\"\n",
    "Adposition3 -> \"de\"\n",
    "Trigger_Rule -> \"|forward|trigger|negated|10|Group[1117]|PRE-VALIDATION\"\n",
    "\"\"\"\n",
    "\n",
    "for sentence in generate(CFG.fromstring(cfg_grammar), n=1000):\n",
    "    print(' '.join(sentence))"
   ]
  },
  {
   "cell_type": "code",
   "execution_count": 69,
   "metadata": {},
   "outputs": [
    {
     "name": "stdout",
     "output_type": "stream",
     "text": [
      "sans laquelle |forward|trigger|negated|10|Group[1117]|PRE-VALIDATION\n"
     ]
    }
   ],
   "source": [
    "from nltk.parse.generate import generate, demo_grammar\n",
    "from nltk import CFG\n",
    "\n",
    "cfg_grammar= \"\"\"\n",
    "S ->  Adposition1 Pronoun2 Trigger_Rule\n",
    "Adposition1 -> \"sans\"\n",
    "Pronoun2 -> \"laquelle\"\n",
    "Trigger_Rule -> \"|forward|trigger|negated|10|Group[1117]|PRE-VALIDATION\"\n",
    "\"\"\"\n",
    "\n",
    "for sentence in generate(CFG.fromstring(cfg_grammar), n=1000):\n",
    "    print(' '.join(sentence))"
   ]
  },
  {
   "cell_type": "code",
   "execution_count": 70,
   "metadata": {},
   "outputs": [
    {
     "name": "stdout",
     "output_type": "stream",
     "text": [
      "sans le |forward|trigger|negated|10|Group[1117]|PRE-VALIDATION\n"
     ]
    }
   ],
   "source": [
    "from nltk.parse.generate import generate, demo_grammar\n",
    "from nltk import CFG\n",
    "\n",
    "cfg_grammar= \"\"\"\n",
    "S ->  Adposition1 Determiner2 Trigger_Rule\n",
    "Adposition1 -> \"sans\"\n",
    "Determiner2 -> \"le\"\n",
    "Trigger_Rule -> \"|forward|trigger|negated|10|Group[1117]|PRE-VALIDATION\"\n",
    "\"\"\"\n",
    "\n",
    "for sentence in generate(CFG.fromstring(cfg_grammar), n=1000):\n",
    "    print(' '.join(sentence))"
   ]
  },
  {
   "cell_type": "code",
   "execution_count": 71,
   "metadata": {},
   "outputs": [
    {
     "name": "stdout",
     "output_type": "stream",
     "text": [
      "sans périphérique |forward|trigger|negated|10|Group[1117]|PRE-VALIDATION\n",
      "sans périphérie |forward|trigger|negated|10|Group[1117]|PRE-VALIDATION\n",
      "sans externe |forward|trigger|negated|10|Group[1117]|PRE-VALIDATION\n"
     ]
    }
   ],
   "source": [
    "from nltk.parse.generate import generate, demo_grammar\n",
    "from nltk import CFG\n",
    "\n",
    "cfg_grammar= \"\"\"\n",
    "S ->  Adposition1 Noun2 Trigger_Rule\n",
    "Adposition1 -> \"sans\"\n",
    "Noun2 -> \"périphérique\" | \"périphérie\" | \"externe\"\n",
    "Trigger_Rule -> \"|forward|trigger|negated|10|Group[1117]|PRE-VALIDATION\"\n",
    "\"\"\"\n",
    "\n",
    "for sentence in generate(CFG.fromstring(cfg_grammar), n=1000):\n",
    "    print(' '.join(sentence))"
   ]
  },
  {
   "cell_type": "code",
   "execution_count": 72,
   "metadata": {},
   "outputs": [
    {
     "name": "stdout",
     "output_type": "stream",
     "text": [
      "sans plus |forward|trigger|negated|10|Group[1117]|PRE-VALIDATION\n"
     ]
    }
   ],
   "source": [
    "from nltk.parse.generate import generate, demo_grammar\n",
    "from nltk import CFG\n",
    "\n",
    "cfg_grammar= \"\"\"\n",
    "S ->  Adposition1 Adverb2 Trigger_Rule\n",
    "Adposition1 -> \"sans\"\n",
    "Adverb2 -> \"plus\"\n",
    "Trigger_Rule -> \"|forward|trigger|negated|10|Group[1117]|PRE-VALIDATION\"\n",
    "\"\"\"\n",
    "\n",
    "for sentence in generate(CFG.fromstring(cfg_grammar), n=1000):\n",
    "    print(' '.join(sentence))"
   ]
  },
  {
   "cell_type": "code",
   "execution_count": 73,
   "metadata": {},
   "outputs": [
    {
     "name": "stdout",
     "output_type": "stream",
     "text": [
      "sans preuve |forward|trigger|negated|10|Group[1117, 1119]|PRE-VALIDATION\n",
      "sans témoignage |forward|trigger|negated|10|Group[1117, 1119]|PRE-VALIDATION\n",
      "sans justification |forward|trigger|negated|10|Group[1117, 1119]|PRE-VALIDATION\n",
      "sans démonstration |forward|trigger|negated|10|Group[1117, 1119]|PRE-VALIDATION\n",
      "sans gage |forward|trigger|negated|10|Group[1117, 1119]|PRE-VALIDATION\n",
      "sans conviction |forward|trigger|negated|10|Group[1117, 1119]|PRE-VALIDATION\n",
      "sans argument |forward|trigger|negated|10|Group[1117, 1119]|PRE-VALIDATION\n",
      "sans constatation |forward|trigger|negated|10|Group[1117, 1119]|PRE-VALIDATION\n",
      "sans confirmation |forward|trigger|negated|10|Group[1117, 1119]|PRE-VALIDATION\n",
      "sans critère |forward|trigger|negated|10|Group[1117, 1119]|PRE-VALIDATION\n",
      "sans signe |forward|trigger|negated|10|Group[1117, 1119]|PRE-VALIDATION\n",
      "sans motif |forward|trigger|negated|10|Group[1117, 1119]|PRE-VALIDATION\n",
      "sans assurance |forward|trigger|negated|10|Group[1117, 1119]|PRE-VALIDATION\n",
      "sans fondement |forward|trigger|negated|10|Group[1117, 1119]|PRE-VALIDATION\n",
      "sans évidence |forward|trigger|negated|10|Group[1117, 1119]|PRE-VALIDATION\n"
     ]
    }
   ],
   "source": [
    "from nltk.parse.generate import generate, demo_grammar\n",
    "from nltk import CFG\n",
    "\n",
    "cfg_grammar= \"\"\"\n",
    "S ->  Adposition1 Noun2 Trigger_Rule\n",
    "Adposition1 -> \"sans\"\n",
    "Noun2 -> \"preuve\" | \"témoignage\" | \"justification\" | \"démonstration\" | \"gage\" | \"conviction\" | \"argument\" | \"constatation\" | \"confirmation\" | \"critère\" | \"signe\" | \"motif\" | \"assurance\" | \"fondement\" | \"évidence\"\n",
    "Trigger_Rule -> \"|forward|trigger|negated|10|Group[1117, 1119]|PRE-VALIDATION\"\n",
    "\"\"\"\n",
    "\n",
    "for sentence in generate(CFG.fromstring(cfg_grammar), n=1000):\n",
    "    print(' '.join(sentence))"
   ]
  },
  {
   "cell_type": "code",
   "execution_count": 74,
   "metadata": {},
   "outputs": [
    {
     "name": "stdout",
     "output_type": "stream",
     "text": [
      "sans |forward|trigger|negated|10|Group[1121]|PRE-VALIDATION\n"
     ]
    }
   ],
   "source": [
    "from nltk.parse.generate import generate, demo_grammar\n",
    "from nltk import CFG\n",
    "\n",
    "cfg_grammar= \"\"\"\n",
    "S ->  Adposition1 Trigger_Rule\n",
    "Adposition1 -> \"sans\"\n",
    "Trigger_Rule -> \"|forward|trigger|negated|10|Group[1121]|PRE-VALIDATION\"\n",
    "\"\"\"\n",
    "\n",
    "for sentence in generate(CFG.fromstring(cfg_grammar), n=1000):\n",
    "    print(' '.join(sentence))"
   ]
  },
  {
   "cell_type": "code",
   "execution_count": 75,
   "metadata": {},
   "outputs": [
    {
     "name": "stdout",
     "output_type": "stream",
     "text": [
      "w o |forward|trigger|negated|10|Group[1127]|PRE-VALIDATION\n"
     ]
    }
   ],
   "source": [
    "from nltk.parse.generate import generate, demo_grammar\n",
    "from nltk import CFG\n",
    "\n",
    "cfg_grammar= \"\"\"\n",
    "S ->  Adposition1 Adposition2 Trigger_Rule\n",
    "Adposition1 -> \"w\"\n",
    "Adposition2 -> \"o\"\n",
    "Trigger_Rule -> \"|forward|trigger|negated|10|Group[1127]|PRE-VALIDATION\"\n",
    "\"\"\"\n",
    "\n",
    "for sentence in generate(CFG.fromstring(cfg_grammar), n=1000):\n",
    "    print(' '.join(sentence))"
   ]
  },
  {
   "cell_type": "code",
   "execution_count": 76,
   "metadata": {},
   "outputs": [
    {
     "name": "stdout",
     "output_type": "stream",
     "text": [
      "vouloir |forward|trigger|conditional|30|Group[1129]|PRE-VALIDATION\n",
      "souhaiter |forward|trigger|conditional|30|Group[1129]|PRE-VALIDATION\n",
      "demander |forward|trigger|conditional|30|Group[1129]|PRE-VALIDATION\n",
      "convoiter |forward|trigger|conditional|30|Group[1129]|PRE-VALIDATION\n",
      "exiger |forward|trigger|conditional|30|Group[1129]|PRE-VALIDATION\n",
      "requérir |forward|trigger|conditional|30|Group[1129]|PRE-VALIDATION\n",
      "réclamer |forward|trigger|conditional|30|Group[1129]|PRE-VALIDATION\n",
      "ordonner |forward|trigger|conditional|30|Group[1129]|PRE-VALIDATION\n",
      "commander |forward|trigger|conditional|30|Group[1129]|PRE-VALIDATION\n",
      "tenir |forward|trigger|conditional|30|Group[1129]|PRE-VALIDATION\n",
      "envier |forward|trigger|conditional|30|Group[1129]|PRE-VALIDATION\n",
      "accepter |forward|trigger|conditional|30|Group[1129]|PRE-VALIDATION\n",
      "consentir |forward|trigger|conditional|30|Group[1129]|PRE-VALIDATION\n",
      "permettre |forward|trigger|conditional|30|Group[1129]|PRE-VALIDATION\n",
      "prétendre |forward|trigger|conditional|30|Group[1129]|PRE-VALIDATION\n"
     ]
    }
   ],
   "source": [
    "from nltk.parse.generate import generate, demo_grammar\n",
    "from nltk import CFG\n",
    "\n",
    "cfg_grammar= \"\"\"\n",
    "S ->  Verb1 Trigger_Rule\n",
    "Verb1 -> \"vouloir\" | \"souhaiter\" | \"demander\" | \"convoiter\" | \"exiger\" | \"requérir\" | \"réclamer\" | \"ordonner\" | \"commander\" | \"tenir\" | \"envier\" | \"accepter\" | \"consentir\" | \"permettre\" | \"prétendre\"\n",
    "Trigger_Rule -> \"|forward|trigger|conditional|30|Group[1129]|PRE-VALIDATION\"\n",
    "\"\"\"\n",
    "\n",
    "for sentence in generate(CFG.fromstring(cfg_grammar), n=1000):\n",
    "    print(' '.join(sentence))"
   ]
  },
  {
   "cell_type": "code",
   "execution_count": 77,
   "metadata": {},
   "outputs": [
    {
     "name": "stdout",
     "output_type": "stream",
     "text": [
      "a été trouvé négatif |backward|trigger|negated|10|Group[1130, 1131]|PRE-VALIDATION\n",
      "a été trouvé négatif |forward|termination|negated|10|Group[1130, 1131]|PRE-VALIDATION\n",
      "a été reconnu négatif |backward|trigger|negated|10|Group[1130, 1131]|PRE-VALIDATION\n",
      "a été reconnu négatif |forward|termination|negated|10|Group[1130, 1131]|PRE-VALIDATION\n",
      "a été considéré négatif |backward|trigger|negated|10|Group[1130, 1131]|PRE-VALIDATION\n",
      "a été considéré négatif |forward|termination|negated|10|Group[1130, 1131]|PRE-VALIDATION\n",
      "a été repéré négatif |backward|trigger|negated|10|Group[1130, 1131]|PRE-VALIDATION\n",
      "a été repéré négatif |forward|termination|negated|10|Group[1130, 1131]|PRE-VALIDATION\n",
      "a été résolu négatif |backward|trigger|negated|10|Group[1130, 1131]|PRE-VALIDATION\n",
      "a été résolu négatif |forward|termination|negated|10|Group[1130, 1131]|PRE-VALIDATION\n",
      "a été compris négatif |backward|trigger|negated|10|Group[1130, 1131]|PRE-VALIDATION\n",
      "a été compris négatif |forward|termination|negated|10|Group[1130, 1131]|PRE-VALIDATION\n",
      "a été estimé négatif |backward|trigger|negated|10|Group[1130, 1131]|PRE-VALIDATION\n",
      "a été estimé négatif |forward|termination|negated|10|Group[1130, 1131]|PRE-VALIDATION\n",
      "a été détecté négatif |backward|trigger|negated|10|Group[1130, 1131]|PRE-VALIDATION\n",
      "a été détecté négatif |forward|termination|negated|10|Group[1130, 1131]|PRE-VALIDATION\n",
      "a été relevé négatif |backward|trigger|negated|10|Group[1130, 1131]|PRE-VALIDATION\n",
      "a été relevé négatif |forward|termination|negated|10|Group[1130, 1131]|PRE-VALIDATION\n",
      "a été surpris négatif |backward|trigger|negated|10|Group[1130, 1131]|PRE-VALIDATION\n",
      "a été surpris négatif |forward|termination|negated|10|Group[1130, 1131]|PRE-VALIDATION\n",
      "a été vu négatif |backward|trigger|negated|10|Group[1130, 1131]|PRE-VALIDATION\n",
      "a été vu négatif |forward|termination|negated|10|Group[1130, 1131]|PRE-VALIDATION\n",
      "a été déniché négatif |backward|trigger|negated|10|Group[1130, 1131]|PRE-VALIDATION\n",
      "a été déniché négatif |forward|termination|negated|10|Group[1130, 1131]|PRE-VALIDATION\n",
      "a été retrouvé négatif |backward|trigger|negated|10|Group[1130, 1131]|PRE-VALIDATION\n",
      "a été retrouvé négatif |forward|termination|negated|10|Group[1130, 1131]|PRE-VALIDATION\n",
      "a été dégoté négatif |backward|trigger|negated|10|Group[1130, 1131]|PRE-VALIDATION\n",
      "a été dégoté négatif |forward|termination|negated|10|Group[1130, 1131]|PRE-VALIDATION\n",
      "a été deviné négatif |backward|trigger|negated|10|Group[1130, 1131]|PRE-VALIDATION\n",
      "a été deviné négatif |forward|termination|negated|10|Group[1130, 1131]|PRE-VALIDATION\n"
     ]
    }
   ],
   "source": [
    "from nltk.parse.generate import generate, demo_grammar\n",
    "from nltk import CFG\n",
    "\n",
    "cfg_grammar= \"\"\"\n",
    "S ->  Auxiliary1 Auxiliary2 Verb3 Adjective4 Trigger_Rule\n",
    "Auxiliary1 -> \"a\"\n",
    "Auxiliary2 -> \"été\"\n",
    "Verb3 -> \"trouvé\" | \"reconnu\" | \"considéré\" | \"repéré\" | \"résolu\" | \"compris\" | \"estimé\" | \"détecté\" | \"relevé\" | \"surpris\" | \"vu\" | \"déniché\" | \"retrouvé\" | \"dégoté\" | \"deviné\"\n",
    "Adjective4 -> \"négatif\"\n",
    "Trigger_Rule -> \"|backward|trigger|negated|10|Group[1130, 1131]|PRE-VALIDATION\"|\"|forward|termination|negated|10|Group[1130, 1131]|PRE-VALIDATION\"\n",
    "\"\"\"\n",
    "\n",
    "for sentence in generate(CFG.fromstring(cfg_grammar), n=1000):\n",
    "    print(' '.join(sentence))"
   ]
  },
  {
   "cell_type": "code",
   "execution_count": 78,
   "metadata": {},
   "outputs": [
    {
     "name": "stdout",
     "output_type": "stream",
     "text": [
      "a été trouvé |both|termination|historical|30|Group[1132, 1133]|PRE-VALIDATION\n",
      "a été trouvé |both|termination|nonpatient|30|Group[1132, 1133]|PRE-VALIDATION\n",
      "a été reconnu |both|termination|historical|30|Group[1132, 1133]|PRE-VALIDATION\n",
      "a été reconnu |both|termination|nonpatient|30|Group[1132, 1133]|PRE-VALIDATION\n",
      "a été considéré |both|termination|historical|30|Group[1132, 1133]|PRE-VALIDATION\n",
      "a été considéré |both|termination|nonpatient|30|Group[1132, 1133]|PRE-VALIDATION\n",
      "a été repéré |both|termination|historical|30|Group[1132, 1133]|PRE-VALIDATION\n",
      "a été repéré |both|termination|nonpatient|30|Group[1132, 1133]|PRE-VALIDATION\n",
      "a été résolu |both|termination|historical|30|Group[1132, 1133]|PRE-VALIDATION\n",
      "a été résolu |both|termination|nonpatient|30|Group[1132, 1133]|PRE-VALIDATION\n",
      "a été compris |both|termination|historical|30|Group[1132, 1133]|PRE-VALIDATION\n",
      "a été compris |both|termination|nonpatient|30|Group[1132, 1133]|PRE-VALIDATION\n",
      "a été estimé |both|termination|historical|30|Group[1132, 1133]|PRE-VALIDATION\n",
      "a été estimé |both|termination|nonpatient|30|Group[1132, 1133]|PRE-VALIDATION\n",
      "a été détecté |both|termination|historical|30|Group[1132, 1133]|PRE-VALIDATION\n",
      "a été détecté |both|termination|nonpatient|30|Group[1132, 1133]|PRE-VALIDATION\n",
      "a été relevé |both|termination|historical|30|Group[1132, 1133]|PRE-VALIDATION\n",
      "a été relevé |both|termination|nonpatient|30|Group[1132, 1133]|PRE-VALIDATION\n",
      "a été surpris |both|termination|historical|30|Group[1132, 1133]|PRE-VALIDATION\n",
      "a été surpris |both|termination|nonpatient|30|Group[1132, 1133]|PRE-VALIDATION\n",
      "a été vu |both|termination|historical|30|Group[1132, 1133]|PRE-VALIDATION\n",
      "a été vu |both|termination|nonpatient|30|Group[1132, 1133]|PRE-VALIDATION\n",
      "a été déniché |both|termination|historical|30|Group[1132, 1133]|PRE-VALIDATION\n",
      "a été déniché |both|termination|nonpatient|30|Group[1132, 1133]|PRE-VALIDATION\n",
      "a été retrouvé |both|termination|historical|30|Group[1132, 1133]|PRE-VALIDATION\n",
      "a été retrouvé |both|termination|nonpatient|30|Group[1132, 1133]|PRE-VALIDATION\n",
      "a été dégoté |both|termination|historical|30|Group[1132, 1133]|PRE-VALIDATION\n",
      "a été dégoté |both|termination|nonpatient|30|Group[1132, 1133]|PRE-VALIDATION\n",
      "a été deviné |both|termination|historical|30|Group[1132, 1133]|PRE-VALIDATION\n",
      "a été deviné |both|termination|nonpatient|30|Group[1132, 1133]|PRE-VALIDATION\n"
     ]
    }
   ],
   "source": [
    "from nltk.parse.generate import generate, demo_grammar\n",
    "from nltk import CFG\n",
    "\n",
    "cfg_grammar= \"\"\"\n",
    "S ->  Auxiliary1 Auxiliary2 Verb3 Trigger_Rule\n",
    "Auxiliary1 -> \"a\"\n",
    "Auxiliary2 -> \"été\"\n",
    "Verb3 -> \"trouvé\" | \"reconnu\" | \"considéré\" | \"repéré\" | \"résolu\" | \"compris\" | \"estimé\" | \"détecté\" | \"relevé\" | \"surpris\" | \"vu\" | \"déniché\" | \"retrouvé\" | \"dégoté\" | \"deviné\"\n",
    "Trigger_Rule -> \"|both|termination|historical|30|Group[1132, 1133]|PRE-VALIDATION\"|\"|both|termination|nonpatient|30|Group[1132, 1133]|PRE-VALIDATION\"\n",
    "\"\"\"\n",
    "\n",
    "for sentence in generate(CFG.fromstring(cfg_grammar), n=1000):\n",
    "    print(' '.join(sentence))"
   ]
  },
  {
   "cell_type": "code",
   "execution_count": 79,
   "metadata": {},
   "outputs": [
    {
     "name": "stdout",
     "output_type": "stream",
     "text": [
      "était initialement suspecté |backward|trigger|uncertain|30|Group[1134]|PRE-VALIDATION\n",
      "était initialement mettre en cause |backward|trigger|uncertain|30|Group[1134]|PRE-VALIDATION\n",
      "était initialement mettre en doute |backward|trigger|uncertain|30|Group[1134]|PRE-VALIDATION\n",
      "était initialement sentir |backward|trigger|uncertain|30|Group[1134]|PRE-VALIDATION\n",
      "était initialement pressentir |backward|trigger|uncertain|30|Group[1134]|PRE-VALIDATION\n",
      "était initialement conjecturer |backward|trigger|uncertain|30|Group[1134]|PRE-VALIDATION\n",
      "était initialement préjuger |backward|trigger|uncertain|30|Group[1134]|PRE-VALIDATION\n",
      "était initialement préfigurer |backward|trigger|uncertain|30|Group[1134]|PRE-VALIDATION\n",
      "était initialement doute |backward|trigger|uncertain|30|Group[1134]|PRE-VALIDATION\n"
     ]
    }
   ],
   "source": [
    "from nltk.parse.generate import generate, demo_grammar\n",
    "from nltk import CFG\n",
    "\n",
    "cfg_grammar= \"\"\"\n",
    "S ->  Auxiliary1 Adverb2 Verb3 Trigger_Rule\n",
    "Auxiliary1 -> \"était\"\n",
    "Adverb2 -> \"initialement\"\n",
    "Verb3 -> \"suspecté\" | \"mettre en cause\" | \"mettre en doute\" | \"sentir\" | \"pressentir\" | \"conjecturer\" | \"préjuger\" | \"préfigurer\" | \"doute\"\n",
    "Trigger_Rule -> \"|backward|trigger|uncertain|30|Group[1134]|PRE-VALIDATION\"\n",
    "\"\"\"\n",
    "\n",
    "for sentence in generate(CFG.fromstring(cfg_grammar), n=1000):\n",
    "    print(' '.join(sentence))"
   ]
  },
  {
   "cell_type": "code",
   "execution_count": 80,
   "metadata": {},
   "outputs": [
    {
     "name": "stdout",
     "output_type": "stream",
     "text": [
      "a été chargé |both|termination|historical|30|Group[1135, 1136]|PRE-VALIDATION\n",
      "a été chargé |both|termination|nonpatient|30|Group[1135, 1136]|PRE-VALIDATION\n",
      "a été délégué |both|termination|historical|30|Group[1135, 1136]|PRE-VALIDATION\n",
      "a été délégué |both|termination|nonpatient|30|Group[1135, 1136]|PRE-VALIDATION\n",
      "a été confié |both|termination|historical|30|Group[1135, 1136]|PRE-VALIDATION\n",
      "a été confié |both|termination|nonpatient|30|Group[1135, 1136]|PRE-VALIDATION\n"
     ]
    }
   ],
   "source": [
    "from nltk.parse.generate import generate, demo_grammar\n",
    "from nltk import CFG\n",
    "\n",
    "cfg_grammar= \"\"\"\n",
    "S ->  Auxiliary1 Auxiliary2 Verb3 Trigger_Rule\n",
    "Auxiliary1 -> \"a\"\n",
    "Auxiliary2 -> \"été\"\n",
    "Verb3 -> \"chargé\" | \"délégué\" | \"confié\"\n",
    "Trigger_Rule -> \"|both|termination|historical|30|Group[1135, 1136]|PRE-VALIDATION\"|\"|both|termination|nonpatient|30|Group[1135, 1136]|PRE-VALIDATION\"\n",
    "\"\"\"\n",
    "\n",
    "for sentence in generate(CFG.fromstring(cfg_grammar), n=1000):\n",
    "    print(' '.join(sentence))"
   ]
  },
  {
   "cell_type": "code",
   "execution_count": 81,
   "metadata": {},
   "outputs": [
    {
     "name": "stdout",
     "output_type": "stream",
     "text": [
      "était négatif |backward|trigger|negated|10|Group[1137]|PRE-VALIDATION\n"
     ]
    }
   ],
   "source": [
    "from nltk.parse.generate import generate, demo_grammar\n",
    "from nltk import CFG\n",
    "\n",
    "cfg_grammar= \"\"\"\n",
    "S ->  Auxiliary1 Adjective2 Trigger_Rule\n",
    "Auxiliary1 -> \"était\"\n",
    "Adjective2 -> \"négatif\"\n",
    "Trigger_Rule -> \"|backward|trigger|negated|10|Group[1137]|PRE-VALIDATION\"\n",
    "\"\"\"\n",
    "\n",
    "for sentence in generate(CFG.fromstring(cfg_grammar), n=1000):\n",
    "    print(' '.join(sentence))"
   ]
  },
  {
   "cell_type": "code",
   "execution_count": 82,
   "metadata": {},
   "outputs": [
    {
     "name": "stdout",
     "output_type": "stream",
     "text": [
      "a été noté négatif |backward|trigger|negated|10|Group[1139]|PRE-VALIDATION\n",
      "a été constaté négatif |backward|trigger|negated|10|Group[1139]|PRE-VALIDATION\n",
      "a été relevé négatif |backward|trigger|negated|10|Group[1139]|PRE-VALIDATION\n",
      "a été remarqué négatif |backward|trigger|negated|10|Group[1139]|PRE-VALIDATION\n",
      "a été observé négatif |backward|trigger|negated|10|Group[1139]|PRE-VALIDATION\n",
      "a été consigné négatif |backward|trigger|negated|10|Group[1139]|PRE-VALIDATION\n",
      "a été communiqué négatif |backward|trigger|negated|10|Group[1139]|PRE-VALIDATION\n",
      "a été qualité négatif |backward|trigger|negated|10|Group[1139]|PRE-VALIDATION\n",
      "a été transcrit négatif |backward|trigger|negated|10|Group[1139]|PRE-VALIDATION\n",
      "a été classé négatif |backward|trigger|negated|10|Group[1139]|PRE-VALIDATION\n",
      "a été évalué négatif |backward|trigger|negated|10|Group[1139]|PRE-VALIDATION\n",
      "a été étiqueté négatif |backward|trigger|negated|10|Group[1139]|PRE-VALIDATION\n",
      "a été estimé négatif |backward|trigger|negated|10|Group[1139]|PRE-VALIDATION\n",
      "a été mentionné négatif |backward|trigger|negated|10|Group[1139]|PRE-VALIDATION\n",
      "a été coché négatif |backward|trigger|negated|10|Group[1139]|PRE-VALIDATION\n"
     ]
    }
   ],
   "source": [
    "from nltk.parse.generate import generate, demo_grammar\n",
    "from nltk import CFG\n",
    "\n",
    "cfg_grammar= \"\"\"\n",
    "S ->  Auxiliary1 Auxiliary2 Verb3 Adjective4 Trigger_Rule\n",
    "Auxiliary1 -> \"a\"\n",
    "Auxiliary2 -> \"été\"\n",
    "Verb3 -> \"noté\" | \"constaté\" | \"relevé\" | \"remarqué\" | \"observé\" | \"consigné\" | \"communiqué\" | \"qualité\" | \"transcrit\" | \"classé\" | \"évalué\" | \"étiqueté\" | \"estimé\" | \"mentionné\" | \"coché\"\n",
    "Adjective4 -> \"négatif\"\n",
    "Trigger_Rule -> \"|backward|trigger|negated|10|Group[1139]|PRE-VALIDATION\"\n",
    "\"\"\"\n",
    "\n",
    "for sentence in generate(CFG.fromstring(cfg_grammar), n=1000):\n",
    "    print(' '.join(sentence))"
   ]
  },
  {
   "cell_type": "code",
   "execution_count": 83,
   "metadata": {},
   "outputs": [
    {
     "name": "stdout",
     "output_type": "stream",
     "text": [
      "n' était pas |forward|trigger|negated|10|Group[1141]|PRE-VALIDATION\n"
     ]
    }
   ],
   "source": [
    "from nltk.parse.generate import generate, demo_grammar\n",
    "from nltk import CFG\n",
    "\n",
    "cfg_grammar= \"\"\"\n",
    "S ->  Adverb1 Auxiliary2 Adverb3 Trigger_Rule\n",
    "Adverb1 -> \"n'\"\n",
    "Auxiliary2 -> \"était\"\n",
    "Adverb3 -> \"pas\"\n",
    "Trigger_Rule -> \"|forward|trigger|negated|10|Group[1141]|PRE-VALIDATION\"\n",
    "\"\"\"\n",
    "\n",
    "for sentence in generate(CFG.fromstring(cfg_grammar), n=1000):\n",
    "    print(' '.join(sentence))"
   ]
  },
  {
   "cell_type": "code",
   "execution_count": 84,
   "metadata": {},
   "outputs": [
    {
     "name": "stdout",
     "output_type": "stream",
     "text": [
      "a été arrêté par |forward|termination|negated|10|Group[1145]|PRE-VALIDATION\n",
      "a été stopper par |forward|termination|negated|10|Group[1145]|PRE-VALIDATION\n",
      "a été enrayer par |forward|termination|negated|10|Group[1145]|PRE-VALIDATION\n",
      "a été contenir par |forward|termination|negated|10|Group[1145]|PRE-VALIDATION\n",
      "a été suspendre par |forward|termination|negated|10|Group[1145]|PRE-VALIDATION\n",
      "a été juguler par |forward|termination|negated|10|Group[1145]|PRE-VALIDATION\n",
      "a été terminer par |forward|termination|negated|10|Group[1145]|PRE-VALIDATION\n",
      "a été finir par |forward|termination|negated|10|Group[1145]|PRE-VALIDATION\n",
      "a été endiguer par |forward|termination|negated|10|Group[1145]|PRE-VALIDATION\n",
      "a été cesser par |forward|termination|negated|10|Group[1145]|PRE-VALIDATION\n",
      "a été barrer par |forward|termination|negated|10|Group[1145]|PRE-VALIDATION\n",
      "a été empêcher par |forward|termination|negated|10|Group[1145]|PRE-VALIDATION\n",
      "a été interrompre par |forward|termination|negated|10|Group[1145]|PRE-VALIDATION\n",
      "a été mettre fin par |forward|termination|negated|10|Group[1145]|PRE-VALIDATION\n",
      "a été geler par |forward|termination|negated|10|Group[1145]|PRE-VALIDATION\n"
     ]
    }
   ],
   "source": [
    "from nltk.parse.generate import generate, demo_grammar\n",
    "from nltk import CFG\n",
    "\n",
    "cfg_grammar= \"\"\"\n",
    "S ->  Auxiliary1 Auxiliary2 Verb3 Adposition4 Trigger_Rule\n",
    "Auxiliary1 -> \"a\"\n",
    "Auxiliary2 -> \"été\"\n",
    "Verb3 -> \"arrêté\" | \"stopper\" | \"enrayer\" | \"contenir\" | \"suspendre\" | \"juguler\" | \"terminer\" | \"finir\" | \"endiguer\" | \"cesser\" | \"barrer\" | \"empêcher\" | \"interrompre\" | \"mettre fin\" | \"geler\"\n",
    "Adposition4 -> \"par\"\n",
    "Trigger_Rule -> \"|forward|termination|negated|10|Group[1145]|PRE-VALIDATION\"\n",
    "\"\"\"\n",
    "\n",
    "for sentence in generate(CFG.fromstring(cfg_grammar), n=1000):\n",
    "    print(' '.join(sentence))"
   ]
  },
  {
   "cell_type": "code",
   "execution_count": 85,
   "metadata": {},
   "outputs": [
    {
     "name": "stdout",
     "output_type": "stream",
     "text": [
      "a été arrêté en raison de |forward|termination|negated|10|Group[1145]|PRE-VALIDATION\n",
      "a été arrêté en cause de |forward|termination|negated|10|Group[1145]|PRE-VALIDATION\n",
      "a été arrêté en pourquoi de |forward|termination|negated|10|Group[1145]|PRE-VALIDATION\n",
      "a été arrêté en mobile de |forward|termination|negated|10|Group[1145]|PRE-VALIDATION\n",
      "a été arrêté en explication de |forward|termination|negated|10|Group[1145]|PRE-VALIDATION\n",
      "a été arrêté en fondement de |forward|termination|negated|10|Group[1145]|PRE-VALIDATION\n",
      "a été stopper en raison de |forward|termination|negated|10|Group[1145]|PRE-VALIDATION\n",
      "a été stopper en cause de |forward|termination|negated|10|Group[1145]|PRE-VALIDATION\n",
      "a été stopper en pourquoi de |forward|termination|negated|10|Group[1145]|PRE-VALIDATION\n",
      "a été stopper en mobile de |forward|termination|negated|10|Group[1145]|PRE-VALIDATION\n",
      "a été stopper en explication de |forward|termination|negated|10|Group[1145]|PRE-VALIDATION\n",
      "a été stopper en fondement de |forward|termination|negated|10|Group[1145]|PRE-VALIDATION\n",
      "a été enrayer en raison de |forward|termination|negated|10|Group[1145]|PRE-VALIDATION\n",
      "a été enrayer en cause de |forward|termination|negated|10|Group[1145]|PRE-VALIDATION\n",
      "a été enrayer en pourquoi de |forward|termination|negated|10|Group[1145]|PRE-VALIDATION\n",
      "a été enrayer en mobile de |forward|termination|negated|10|Group[1145]|PRE-VALIDATION\n",
      "a été enrayer en explication de |forward|termination|negated|10|Group[1145]|PRE-VALIDATION\n",
      "a été enrayer en fondement de |forward|termination|negated|10|Group[1145]|PRE-VALIDATION\n",
      "a été contenir en raison de |forward|termination|negated|10|Group[1145]|PRE-VALIDATION\n",
      "a été contenir en cause de |forward|termination|negated|10|Group[1145]|PRE-VALIDATION\n",
      "a été contenir en pourquoi de |forward|termination|negated|10|Group[1145]|PRE-VALIDATION\n",
      "a été contenir en mobile de |forward|termination|negated|10|Group[1145]|PRE-VALIDATION\n",
      "a été contenir en explication de |forward|termination|negated|10|Group[1145]|PRE-VALIDATION\n",
      "a été contenir en fondement de |forward|termination|negated|10|Group[1145]|PRE-VALIDATION\n",
      "a été suspendre en raison de |forward|termination|negated|10|Group[1145]|PRE-VALIDATION\n",
      "a été suspendre en cause de |forward|termination|negated|10|Group[1145]|PRE-VALIDATION\n",
      "a été suspendre en pourquoi de |forward|termination|negated|10|Group[1145]|PRE-VALIDATION\n",
      "a été suspendre en mobile de |forward|termination|negated|10|Group[1145]|PRE-VALIDATION\n",
      "a été suspendre en explication de |forward|termination|negated|10|Group[1145]|PRE-VALIDATION\n",
      "a été suspendre en fondement de |forward|termination|negated|10|Group[1145]|PRE-VALIDATION\n",
      "a été juguler en raison de |forward|termination|negated|10|Group[1145]|PRE-VALIDATION\n",
      "a été juguler en cause de |forward|termination|negated|10|Group[1145]|PRE-VALIDATION\n",
      "a été juguler en pourquoi de |forward|termination|negated|10|Group[1145]|PRE-VALIDATION\n",
      "a été juguler en mobile de |forward|termination|negated|10|Group[1145]|PRE-VALIDATION\n",
      "a été juguler en explication de |forward|termination|negated|10|Group[1145]|PRE-VALIDATION\n",
      "a été juguler en fondement de |forward|termination|negated|10|Group[1145]|PRE-VALIDATION\n",
      "a été terminer en raison de |forward|termination|negated|10|Group[1145]|PRE-VALIDATION\n",
      "a été terminer en cause de |forward|termination|negated|10|Group[1145]|PRE-VALIDATION\n",
      "a été terminer en pourquoi de |forward|termination|negated|10|Group[1145]|PRE-VALIDATION\n",
      "a été terminer en mobile de |forward|termination|negated|10|Group[1145]|PRE-VALIDATION\n",
      "a été terminer en explication de |forward|termination|negated|10|Group[1145]|PRE-VALIDATION\n",
      "a été terminer en fondement de |forward|termination|negated|10|Group[1145]|PRE-VALIDATION\n",
      "a été finir en raison de |forward|termination|negated|10|Group[1145]|PRE-VALIDATION\n",
      "a été finir en cause de |forward|termination|negated|10|Group[1145]|PRE-VALIDATION\n",
      "a été finir en pourquoi de |forward|termination|negated|10|Group[1145]|PRE-VALIDATION\n",
      "a été finir en mobile de |forward|termination|negated|10|Group[1145]|PRE-VALIDATION\n",
      "a été finir en explication de |forward|termination|negated|10|Group[1145]|PRE-VALIDATION\n",
      "a été finir en fondement de |forward|termination|negated|10|Group[1145]|PRE-VALIDATION\n",
      "a été endiguer en raison de |forward|termination|negated|10|Group[1145]|PRE-VALIDATION\n",
      "a été endiguer en cause de |forward|termination|negated|10|Group[1145]|PRE-VALIDATION\n",
      "a été endiguer en pourquoi de |forward|termination|negated|10|Group[1145]|PRE-VALIDATION\n",
      "a été endiguer en mobile de |forward|termination|negated|10|Group[1145]|PRE-VALIDATION\n",
      "a été endiguer en explication de |forward|termination|negated|10|Group[1145]|PRE-VALIDATION\n",
      "a été endiguer en fondement de |forward|termination|negated|10|Group[1145]|PRE-VALIDATION\n",
      "a été cesser en raison de |forward|termination|negated|10|Group[1145]|PRE-VALIDATION\n",
      "a été cesser en cause de |forward|termination|negated|10|Group[1145]|PRE-VALIDATION\n",
      "a été cesser en pourquoi de |forward|termination|negated|10|Group[1145]|PRE-VALIDATION\n",
      "a été cesser en mobile de |forward|termination|negated|10|Group[1145]|PRE-VALIDATION\n",
      "a été cesser en explication de |forward|termination|negated|10|Group[1145]|PRE-VALIDATION\n",
      "a été cesser en fondement de |forward|termination|negated|10|Group[1145]|PRE-VALIDATION\n",
      "a été barrer en raison de |forward|termination|negated|10|Group[1145]|PRE-VALIDATION\n",
      "a été barrer en cause de |forward|termination|negated|10|Group[1145]|PRE-VALIDATION\n",
      "a été barrer en pourquoi de |forward|termination|negated|10|Group[1145]|PRE-VALIDATION\n",
      "a été barrer en mobile de |forward|termination|negated|10|Group[1145]|PRE-VALIDATION\n",
      "a été barrer en explication de |forward|termination|negated|10|Group[1145]|PRE-VALIDATION\n",
      "a été barrer en fondement de |forward|termination|negated|10|Group[1145]|PRE-VALIDATION\n",
      "a été empêcher en raison de |forward|termination|negated|10|Group[1145]|PRE-VALIDATION\n",
      "a été empêcher en cause de |forward|termination|negated|10|Group[1145]|PRE-VALIDATION\n",
      "a été empêcher en pourquoi de |forward|termination|negated|10|Group[1145]|PRE-VALIDATION\n",
      "a été empêcher en mobile de |forward|termination|negated|10|Group[1145]|PRE-VALIDATION\n",
      "a été empêcher en explication de |forward|termination|negated|10|Group[1145]|PRE-VALIDATION\n",
      "a été empêcher en fondement de |forward|termination|negated|10|Group[1145]|PRE-VALIDATION\n",
      "a été interrompre en raison de |forward|termination|negated|10|Group[1145]|PRE-VALIDATION\n",
      "a été interrompre en cause de |forward|termination|negated|10|Group[1145]|PRE-VALIDATION\n",
      "a été interrompre en pourquoi de |forward|termination|negated|10|Group[1145]|PRE-VALIDATION\n",
      "a été interrompre en mobile de |forward|termination|negated|10|Group[1145]|PRE-VALIDATION\n",
      "a été interrompre en explication de |forward|termination|negated|10|Group[1145]|PRE-VALIDATION\n",
      "a été interrompre en fondement de |forward|termination|negated|10|Group[1145]|PRE-VALIDATION\n",
      "a été mettre fin en raison de |forward|termination|negated|10|Group[1145]|PRE-VALIDATION\n",
      "a été mettre fin en cause de |forward|termination|negated|10|Group[1145]|PRE-VALIDATION\n",
      "a été mettre fin en pourquoi de |forward|termination|negated|10|Group[1145]|PRE-VALIDATION\n",
      "a été mettre fin en mobile de |forward|termination|negated|10|Group[1145]|PRE-VALIDATION\n",
      "a été mettre fin en explication de |forward|termination|negated|10|Group[1145]|PRE-VALIDATION\n",
      "a été mettre fin en fondement de |forward|termination|negated|10|Group[1145]|PRE-VALIDATION\n",
      "a été geler en raison de |forward|termination|negated|10|Group[1145]|PRE-VALIDATION\n",
      "a été geler en cause de |forward|termination|negated|10|Group[1145]|PRE-VALIDATION\n",
      "a été geler en pourquoi de |forward|termination|negated|10|Group[1145]|PRE-VALIDATION\n",
      "a été geler en mobile de |forward|termination|negated|10|Group[1145]|PRE-VALIDATION\n",
      "a été geler en explication de |forward|termination|negated|10|Group[1145]|PRE-VALIDATION\n",
      "a été geler en fondement de |forward|termination|negated|10|Group[1145]|PRE-VALIDATION\n"
     ]
    }
   ],
   "source": [
    "from nltk.parse.generate import generate, demo_grammar\n",
    "from nltk import CFG\n",
    "\n",
    "cfg_grammar= \"\"\"\n",
    "S ->  Auxiliary1 Auxiliary2 Verb3 Adposition4 Noun5 Adposition6 Trigger_Rule\n",
    "Auxiliary1 -> \"a\"\n",
    "Auxiliary2 -> \"été\"\n",
    "Verb3 -> \"arrêté\" | \"stopper\" | \"enrayer\" | \"contenir\" | \"suspendre\" | \"juguler\" | \"terminer\" | \"finir\" | \"endiguer\" | \"cesser\" | \"barrer\" | \"empêcher\" | \"interrompre\" | \"mettre fin\" | \"geler\"\n",
    "Adposition4 -> \"en\"\n",
    "Noun5 -> \"raison\" | \"cause\" | \"pourquoi\" | \"mobile\" | \"explication\" | \"fondement\"\n",
    "Adposition6 -> \"de\"\n",
    "Trigger_Rule -> \"|forward|termination|negated|10|Group[1145]|PRE-VALIDATION\"\n",
    "\"\"\"\n",
    "\n",
    "for sentence in generate(CFG.fromstring(cfg_grammar), n=1000):\n",
    "    print(' '.join(sentence))"
   ]
  },
  {
   "cell_type": "code",
   "execution_count": 86,
   "metadata": {},
   "outputs": [
    {
     "name": "stdout",
     "output_type": "stream",
     "text": [
      "a été arrêté |backward|trigger|negated|10|Group[1147, 1148]|PRE-VALIDATION\n",
      "a été arrêté |forward|termination|negated|10|Group[1147, 1148]|PRE-VALIDATION\n",
      "a été stopper |backward|trigger|negated|10|Group[1147, 1148]|PRE-VALIDATION\n",
      "a été stopper |forward|termination|negated|10|Group[1147, 1148]|PRE-VALIDATION\n",
      "a été enrayer |backward|trigger|negated|10|Group[1147, 1148]|PRE-VALIDATION\n",
      "a été enrayer |forward|termination|negated|10|Group[1147, 1148]|PRE-VALIDATION\n",
      "a été contenir |backward|trigger|negated|10|Group[1147, 1148]|PRE-VALIDATION\n",
      "a été contenir |forward|termination|negated|10|Group[1147, 1148]|PRE-VALIDATION\n",
      "a été suspendre |backward|trigger|negated|10|Group[1147, 1148]|PRE-VALIDATION\n",
      "a été suspendre |forward|termination|negated|10|Group[1147, 1148]|PRE-VALIDATION\n",
      "a été juguler |backward|trigger|negated|10|Group[1147, 1148]|PRE-VALIDATION\n",
      "a été juguler |forward|termination|negated|10|Group[1147, 1148]|PRE-VALIDATION\n",
      "a été terminer |backward|trigger|negated|10|Group[1147, 1148]|PRE-VALIDATION\n",
      "a été terminer |forward|termination|negated|10|Group[1147, 1148]|PRE-VALIDATION\n",
      "a été finir |backward|trigger|negated|10|Group[1147, 1148]|PRE-VALIDATION\n",
      "a été finir |forward|termination|negated|10|Group[1147, 1148]|PRE-VALIDATION\n",
      "a été endiguer |backward|trigger|negated|10|Group[1147, 1148]|PRE-VALIDATION\n",
      "a été endiguer |forward|termination|negated|10|Group[1147, 1148]|PRE-VALIDATION\n",
      "a été cesser |backward|trigger|negated|10|Group[1147, 1148]|PRE-VALIDATION\n",
      "a été cesser |forward|termination|negated|10|Group[1147, 1148]|PRE-VALIDATION\n",
      "a été barrer |backward|trigger|negated|10|Group[1147, 1148]|PRE-VALIDATION\n",
      "a été barrer |forward|termination|negated|10|Group[1147, 1148]|PRE-VALIDATION\n",
      "a été empêcher |backward|trigger|negated|10|Group[1147, 1148]|PRE-VALIDATION\n",
      "a été empêcher |forward|termination|negated|10|Group[1147, 1148]|PRE-VALIDATION\n",
      "a été interrompre |backward|trigger|negated|10|Group[1147, 1148]|PRE-VALIDATION\n",
      "a été interrompre |forward|termination|negated|10|Group[1147, 1148]|PRE-VALIDATION\n",
      "a été mettre fin |backward|trigger|negated|10|Group[1147, 1148]|PRE-VALIDATION\n",
      "a été mettre fin |forward|termination|negated|10|Group[1147, 1148]|PRE-VALIDATION\n",
      "a été geler |backward|trigger|negated|10|Group[1147, 1148]|PRE-VALIDATION\n",
      "a été geler |forward|termination|negated|10|Group[1147, 1148]|PRE-VALIDATION\n"
     ]
    }
   ],
   "source": [
    "from nltk.parse.generate import generate, demo_grammar\n",
    "from nltk import CFG\n",
    "\n",
    "cfg_grammar= \"\"\"\n",
    "S ->  Auxiliary1 Auxiliary2 Verb3 Trigger_Rule\n",
    "Auxiliary1 -> \"a\"\n",
    "Auxiliary2 -> \"été\"\n",
    "Verb3 -> \"arrêté\" | \"stopper\" | \"enrayer\" | \"contenir\" | \"suspendre\" | \"juguler\" | \"terminer\" | \"finir\" | \"endiguer\" | \"cesser\" | \"barrer\" | \"empêcher\" | \"interrompre\" | \"mettre fin\" | \"geler\"\n",
    "Trigger_Rule -> \"|backward|trigger|negated|10|Group[1147, 1148]|PRE-VALIDATION\"|\"|forward|termination|negated|10|Group[1147, 1148]|PRE-VALIDATION\"\n",
    "\"\"\"\n",
    "\n",
    "for sentence in generate(CFG.fromstring(cfg_grammar), n=1000):\n",
    "    print(' '.join(sentence))"
   ]
  },
  {
   "cell_type": "code",
   "execution_count": 87,
   "metadata": {},
   "outputs": [
    {
     "name": "stdout",
     "output_type": "stream",
     "text": [
      "était soupçonné |backward|trigger|uncertain|30|Group[1149]|PRE-VALIDATION\n",
      "était flairer |backward|trigger|uncertain|30|Group[1149]|PRE-VALIDATION\n",
      "était pressentir |backward|trigger|uncertain|30|Group[1149]|PRE-VALIDATION\n",
      "était deviner |backward|trigger|uncertain|30|Group[1149]|PRE-VALIDATION\n",
      "était douter |backward|trigger|uncertain|30|Group[1149]|PRE-VALIDATION\n",
      "était présumer |backward|trigger|uncertain|30|Group[1149]|PRE-VALIDATION\n",
      "était entrevoir |backward|trigger|uncertain|30|Group[1149]|PRE-VALIDATION\n",
      "était sentir |backward|trigger|uncertain|30|Group[1149]|PRE-VALIDATION\n",
      "était redouter |backward|trigger|uncertain|30|Group[1149]|PRE-VALIDATION\n",
      "était conjecturer |backward|trigger|uncertain|30|Group[1149]|PRE-VALIDATION\n",
      "était penser |backward|trigger|uncertain|30|Group[1149]|PRE-VALIDATION\n",
      "était imaginer |backward|trigger|uncertain|30|Group[1149]|PRE-VALIDATION\n",
      "était subodorer |backward|trigger|uncertain|30|Group[1149]|PRE-VALIDATION\n",
      "était croire |backward|trigger|uncertain|30|Group[1149]|PRE-VALIDATION\n",
      "était avoir idée de |backward|trigger|uncertain|30|Group[1149]|PRE-VALIDATION\n"
     ]
    }
   ],
   "source": [
    "from nltk.parse.generate import generate, demo_grammar\n",
    "from nltk import CFG\n",
    "\n",
    "cfg_grammar= \"\"\"\n",
    "S ->  Auxiliary1 Verb2 Trigger_Rule\n",
    "Auxiliary1 -> \"était\"\n",
    "Verb2 -> \"soupçonné\" | \"flairer\" | \"pressentir\" | \"deviner\" | \"douter\" | \"présumer\" | \"entrevoir\" | \"sentir\" | \"redouter\" | \"conjecturer\" | \"penser\" | \"imaginer\" | \"subodorer\" | \"croire\" | \"avoir idée de\"\n",
    "Trigger_Rule -> \"|backward|trigger|uncertain|30|Group[1149]|PRE-VALIDATION\"\n",
    "\"\"\"\n",
    "\n",
    "for sentence in generate(CFG.fromstring(cfg_grammar), n=1000):\n",
    "    print(' '.join(sentence))"
   ]
  },
  {
   "cell_type": "code",
   "execution_count": 88,
   "metadata": {},
   "outputs": [
    {
     "name": "stdout",
     "output_type": "stream",
     "text": [
      "ont été instruits |both|termination|historical|30|Group[1152, 1153]|PRE-VALIDATION\n",
      "ont été instruits |both|termination|nonpatient|30|Group[1152, 1153]|PRE-VALIDATION\n",
      "ont été informé |both|termination|historical|30|Group[1152, 1153]|PRE-VALIDATION\n",
      "ont été informé |both|termination|nonpatient|30|Group[1152, 1153]|PRE-VALIDATION\n",
      "ont été renseigné |both|termination|historical|30|Group[1152, 1153]|PRE-VALIDATION\n",
      "ont été renseigné |both|termination|nonpatient|30|Group[1152, 1153]|PRE-VALIDATION\n",
      "ont été examiné |both|termination|historical|30|Group[1152, 1153]|PRE-VALIDATION\n",
      "ont été examiné |both|termination|nonpatient|30|Group[1152, 1153]|PRE-VALIDATION\n",
      "ont été expliqué |both|termination|historical|30|Group[1152, 1153]|PRE-VALIDATION\n",
      "ont été expliqué |both|termination|nonpatient|30|Group[1152, 1153]|PRE-VALIDATION\n",
      "ont été montré |both|termination|historical|30|Group[1152, 1153]|PRE-VALIDATION\n",
      "ont été montré |both|termination|nonpatient|30|Group[1152, 1153]|PRE-VALIDATION\n",
      "ont été soigné |both|termination|historical|30|Group[1152, 1153]|PRE-VALIDATION\n",
      "ont été soigné |both|termination|nonpatient|30|Group[1152, 1153]|PRE-VALIDATION\n",
      "ont été éclairci |both|termination|historical|30|Group[1152, 1153]|PRE-VALIDATION\n",
      "ont été éclairci |both|termination|nonpatient|30|Group[1152, 1153]|PRE-VALIDATION\n",
      "ont été expliquer |both|termination|historical|30|Group[1152, 1153]|PRE-VALIDATION\n",
      "ont été expliquer |both|termination|nonpatient|30|Group[1152, 1153]|PRE-VALIDATION\n"
     ]
    }
   ],
   "source": [
    "from nltk.parse.generate import generate, demo_grammar\n",
    "from nltk import CFG\n",
    "\n",
    "cfg_grammar= \"\"\"\n",
    "S ->  Auxiliary1 Auxiliary2 Verb3 Trigger_Rule\n",
    "Auxiliary1 -> \"ont\"\n",
    "Auxiliary2 -> \"été\"\n",
    "Verb3 -> \"instruits\" | \"informé\" | \"renseigné\" | \"examiné\" | \"expliqué\" | \"montré\" | \"soigné\" | \"éclairci\" | \"expliquer\"\n",
    "Trigger_Rule -> \"|both|termination|historical|30|Group[1152, 1153]|PRE-VALIDATION\"|\"|both|termination|nonpatient|30|Group[1152, 1153]|PRE-VALIDATION\"\n",
    "\"\"\"\n",
    "\n",
    "for sentence in generate(CFG.fromstring(cfg_grammar), n=1000):\n",
    "    print(' '.join(sentence))"
   ]
  },
  {
   "cell_type": "code",
   "execution_count": 89,
   "metadata": {},
   "outputs": [
    {
     "name": "stdout",
     "output_type": "stream",
     "text": [
      "ont été arrêtés |backward|trigger|negated|10|Group[1154, 1155]|PRE-VALIDATION\n",
      "ont été arrêtés |forward|termination|negated|10|Group[1154, 1155]|PRE-VALIDATION\n",
      "ont été stopper |backward|trigger|negated|10|Group[1154, 1155]|PRE-VALIDATION\n",
      "ont été stopper |forward|termination|negated|10|Group[1154, 1155]|PRE-VALIDATION\n",
      "ont été enrayer |backward|trigger|negated|10|Group[1154, 1155]|PRE-VALIDATION\n",
      "ont été enrayer |forward|termination|negated|10|Group[1154, 1155]|PRE-VALIDATION\n",
      "ont été contenir |backward|trigger|negated|10|Group[1154, 1155]|PRE-VALIDATION\n",
      "ont été contenir |forward|termination|negated|10|Group[1154, 1155]|PRE-VALIDATION\n",
      "ont été suspendre |backward|trigger|negated|10|Group[1154, 1155]|PRE-VALIDATION\n",
      "ont été suspendre |forward|termination|negated|10|Group[1154, 1155]|PRE-VALIDATION\n",
      "ont été juguler |backward|trigger|negated|10|Group[1154, 1155]|PRE-VALIDATION\n",
      "ont été juguler |forward|termination|negated|10|Group[1154, 1155]|PRE-VALIDATION\n",
      "ont été terminer |backward|trigger|negated|10|Group[1154, 1155]|PRE-VALIDATION\n",
      "ont été terminer |forward|termination|negated|10|Group[1154, 1155]|PRE-VALIDATION\n",
      "ont été immobiliser |backward|trigger|negated|10|Group[1154, 1155]|PRE-VALIDATION\n",
      "ont été immobiliser |forward|termination|negated|10|Group[1154, 1155]|PRE-VALIDATION\n",
      "ont été finir |backward|trigger|negated|10|Group[1154, 1155]|PRE-VALIDATION\n",
      "ont été finir |forward|termination|negated|10|Group[1154, 1155]|PRE-VALIDATION\n",
      "ont été endiguer |backward|trigger|negated|10|Group[1154, 1155]|PRE-VALIDATION\n",
      "ont été endiguer |forward|termination|negated|10|Group[1154, 1155]|PRE-VALIDATION\n",
      "ont été cesser |backward|trigger|negated|10|Group[1154, 1155]|PRE-VALIDATION\n",
      "ont été cesser |forward|termination|negated|10|Group[1154, 1155]|PRE-VALIDATION\n",
      "ont été barrer |backward|trigger|negated|10|Group[1154, 1155]|PRE-VALIDATION\n",
      "ont été barrer |forward|termination|negated|10|Group[1154, 1155]|PRE-VALIDATION\n",
      "ont été empêcher |backward|trigger|negated|10|Group[1154, 1155]|PRE-VALIDATION\n",
      "ont été empêcher |forward|termination|negated|10|Group[1154, 1155]|PRE-VALIDATION\n",
      "ont été geler |backward|trigger|negated|10|Group[1154, 1155]|PRE-VALIDATION\n",
      "ont été geler |forward|termination|negated|10|Group[1154, 1155]|PRE-VALIDATION\n",
      "ont été couper |backward|trigger|negated|10|Group[1154, 1155]|PRE-VALIDATION\n",
      "ont été couper |forward|termination|negated|10|Group[1154, 1155]|PRE-VALIDATION\n"
     ]
    }
   ],
   "source": [
    "from nltk.parse.generate import generate, demo_grammar\n",
    "from nltk import CFG\n",
    "\n",
    "cfg_grammar= \"\"\"\n",
    "S ->  Auxiliary1 Auxiliary2 Verb3 Trigger_Rule\n",
    "Auxiliary1 -> \"ont\"\n",
    "Auxiliary2 -> \"été\"\n",
    "Verb3 -> \"arrêtés\" | \"stopper\" | \"enrayer\" | \"contenir\" | \"suspendre\" | \"juguler\" | \"terminer\" | \"immobiliser\" | \"finir\" | \"endiguer\" | \"cesser\" | \"barrer\" | \"empêcher\" | \"geler\" | \"couper\"\n",
    "Trigger_Rule -> \"|backward|trigger|negated|10|Group[1154, 1155]|PRE-VALIDATION\"|\"|forward|termination|negated|10|Group[1154, 1155]|PRE-VALIDATION\"\n",
    "\"\"\"\n",
    "\n",
    "for sentence in generate(CFG.fromstring(cfg_grammar), n=1000):\n",
    "    print(' '.join(sentence))"
   ]
  },
  {
   "cell_type": "code",
   "execution_count": 90,
   "metadata": {},
   "outputs": [
    {
     "name": "stdout",
     "output_type": "stream",
     "text": [
      "étaient totalement |forward|termination|negated|10|Group[1156]|PRE-VALIDATION\n"
     ]
    }
   ],
   "source": [
    "from nltk.parse.generate import generate, demo_grammar\n",
    "from nltk import CFG\n",
    "\n",
    "cfg_grammar= \"\"\"\n",
    "S ->  Auxiliary1 Adverb2 Trigger_Rule\n",
    "Auxiliary1 -> \"étaient\"\n",
    "Adverb2 -> \"totalement\"\n",
    "Trigger_Rule -> \"|forward|termination|negated|10|Group[1156]|PRE-VALIDATION\"\n",
    "\"\"\"\n",
    "\n",
    "for sentence in generate(CFG.fromstring(cfg_grammar), n=1000):\n",
    "    print(' '.join(sentence))"
   ]
  },
  {
   "cell_type": "code",
   "execution_count": 91,
   "metadata": {},
   "outputs": [
    {
     "name": "stdout",
     "output_type": "stream",
     "text": [
      "ce qui doit être exclu est |forward|trigger|uncertain|30|Group[1157]|PRE-VALIDATION\n",
      "ce qui doit être refusé est |forward|trigger|uncertain|30|Group[1157]|PRE-VALIDATION\n",
      "ce qui doit être repoussé est |forward|trigger|uncertain|30|Group[1157]|PRE-VALIDATION\n",
      "ce qui doit être rejeté est |forward|trigger|uncertain|30|Group[1157]|PRE-VALIDATION\n",
      "ce qui doit être éliminé est |forward|trigger|uncertain|30|Group[1157]|PRE-VALIDATION\n",
      "ce qui doit être proscrit est |forward|trigger|uncertain|30|Group[1157]|PRE-VALIDATION\n"
     ]
    }
   ],
   "source": [
    "from nltk.parse.generate import generate, demo_grammar\n",
    "from nltk import CFG\n",
    "\n",
    "cfg_grammar= \"\"\"\n",
    "S ->  Pronoun1 Pronoun2 Auxiliary3 Auxiliary4 Verb5 Auxiliary6 Trigger_Rule\n",
    "Pronoun1 -> \"ce\"\n",
    "Pronoun2 -> \"qui\"\n",
    "Auxiliary3 -> \"doit\"\n",
    "Auxiliary4 -> \"être\"\n",
    "Verb5 -> \"exclu\" | \"refusé\" | \"repoussé\" | \"rejeté\" | \"éliminé\" | \"proscrit\"\n",
    "Auxiliary6 -> \"est\"\n",
    "Trigger_Rule -> \"|forward|trigger|uncertain|30|Group[1157]|PRE-VALIDATION\"\n",
    "\"\"\"\n",
    "\n",
    "for sentence in generate(CFG.fromstring(cfg_grammar), n=1000):\n",
    "    print(' '.join(sentence))"
   ]
  },
  {
   "cell_type": "code",
   "execution_count": 92,
   "metadata": {},
   "outputs": [
    {
     "name": "stdout",
     "output_type": "stream",
     "text": [
      "si oui ou non |forward|trigger|uncertain|30|Group[1158, 1159]|PRE-VALIDATION\n",
      "si oui ou non |forward|pseudo|negated|30|Group[1158, 1159]|PRE-VALIDATION\n"
     ]
    }
   ],
   "source": [
    "from nltk.parse.generate import generate, demo_grammar\n",
    "from nltk import CFG\n",
    "\n",
    "cfg_grammar= \"\"\"\n",
    "S ->  Subordinating_conjunction1 Noun2 Coordinating_conjunction3 Adverb4 Trigger_Rule\n",
    "Subordinating_conjunction1 -> \"si\"\n",
    "Noun2 -> \"oui\"\n",
    "Coordinating_conjunction3 -> \"ou\"\n",
    "Adverb4 -> \"non\"\n",
    "Trigger_Rule -> \"|forward|trigger|uncertain|30|Group[1158, 1159]|PRE-VALIDATION\"|\"|forward|pseudo|negated|30|Group[1158, 1159]|PRE-VALIDATION\"\n",
    "\"\"\"\n",
    "\n",
    "for sentence in generate(CFG.fromstring(cfg_grammar), n=1000):\n",
    "    print(' '.join(sentence))"
   ]
  },
  {
   "cell_type": "code",
   "execution_count": 93,
   "metadata": {},
   "outputs": [
    {
     "name": "stdout",
     "output_type": "stream",
     "text": [
      "lequel |both|termination|historical|30|Group[1160, 1161]|PRE-VALIDATION\n",
      "lequel |both|termination|nonpatient|30|Group[1160, 1161]|PRE-VALIDATION\n"
     ]
    }
   ],
   "source": [
    "from nltk.parse.generate import generate, demo_grammar\n",
    "from nltk import CFG\n",
    "\n",
    "cfg_grammar= \"\"\"\n",
    "S ->  Pronoun1 Trigger_Rule\n",
    "Pronoun1 -> \"lequel\"\n",
    "Trigger_Rule -> \"|both|termination|historical|30|Group[1160, 1161]|PRE-VALIDATION\"|\"|both|termination|nonpatient|30|Group[1160, 1161]|PRE-VALIDATION\"\n",
    "\"\"\"\n",
    "\n",
    "for sentence in generate(CFG.fromstring(cfg_grammar), n=1000):\n",
    "    print(' '.join(sentence))"
   ]
  },
  {
   "cell_type": "code",
   "execution_count": 94,
   "metadata": {},
   "outputs": [
    {
     "name": "stdout",
     "output_type": "stream",
     "text": [
      "tandis que |forward|termination|negated|10|Group[1162]|PRE-VALIDATION\n"
     ]
    }
   ],
   "source": [
    "from nltk.parse.generate import generate, demo_grammar\n",
    "from nltk import CFG\n",
    "\n",
    "cfg_grammar= \"\"\"\n",
    "S ->  Adverb1 Subordinating_conjunction2 Trigger_Rule\n",
    "Adverb1 -> \"tandis\"\n",
    "Subordinating_conjunction2 -> \"que\"\n",
    "Trigger_Rule -> \"|forward|termination|negated|10|Group[1162]|PRE-VALIDATION\"\n",
    "\"\"\"\n",
    "\n",
    "for sentence in generate(CFG.fromstring(cfg_grammar), n=1000):\n",
    "    print(' '.join(sentence))"
   ]
  },
  {
   "cell_type": "code",
   "execution_count": 95,
   "metadata": {},
   "outputs": [
    {
     "name": "stdout",
     "output_type": "stream",
     "text": [
      "qui ne sont pas présents |forward|termination|negated|10|Group[1163]|PRE-VALIDATION\n"
     ]
    }
   ],
   "source": [
    "from nltk.parse.generate import generate, demo_grammar\n",
    "from nltk import CFG\n",
    "\n",
    "cfg_grammar= \"\"\"\n",
    "S ->  Pronoun1 Adverb2 Auxiliary3 Adverb4 Adjective5 Trigger_Rule\n",
    "Pronoun1 -> \"qui\"\n",
    "Adverb2 -> \"ne\"\n",
    "Auxiliary3 -> \"sont\"\n",
    "Adverb4 -> \"pas\"\n",
    "Adjective5 -> \"présents\"\n",
    "Trigger_Rule -> \"|forward|termination|negated|10|Group[1163]|PRE-VALIDATION\"\n",
    "\"\"\"\n",
    "\n",
    "for sentence in generate(CFG.fromstring(cfg_grammar), n=1000):\n",
    "    print(' '.join(sentence))"
   ]
  },
  {
   "cell_type": "code",
   "execution_count": 96,
   "metadata": {},
   "outputs": [
    {
     "name": "stdout",
     "output_type": "stream",
     "text": [
      "sera exclu pour |forward|trigger|uncertain|30|Group[1164]|PRE-VALIDATION\n",
      "sera refusé pour |forward|trigger|uncertain|30|Group[1164]|PRE-VALIDATION\n",
      "sera repoussé pour |forward|trigger|uncertain|30|Group[1164]|PRE-VALIDATION\n",
      "sera rejeté pour |forward|trigger|uncertain|30|Group[1164]|PRE-VALIDATION\n",
      "sera éliminé pour |forward|trigger|uncertain|30|Group[1164]|PRE-VALIDATION\n",
      "sera proscrit pour |forward|trigger|uncertain|30|Group[1164]|PRE-VALIDATION\n"
     ]
    }
   ],
   "source": [
    "from nltk.parse.generate import generate, demo_grammar\n",
    "from nltk import CFG\n",
    "\n",
    "cfg_grammar= \"\"\"\n",
    "S ->  Auxiliary1 Verb2 Adposition3 Trigger_Rule\n",
    "Auxiliary1 -> \"sera\"\n",
    "Verb2 -> \"exclu\" | \"refusé\" | \"repoussé\" | \"rejeté\" | \"éliminé\" | \"proscrit\"\n",
    "Adposition3 -> \"pour\"\n",
    "Trigger_Rule -> \"|forward|trigger|uncertain|30|Group[1164]|PRE-VALIDATION\"\n",
    "\"\"\"\n",
    "\n",
    "for sentence in generate(CFG.fromstring(cfg_grammar), n=1000):\n",
    "    print(' '.join(sentence))"
   ]
  },
  {
   "cell_type": "code",
   "execution_count": 97,
   "metadata": {},
   "outputs": [
    {
     "name": "stdout",
     "output_type": "stream",
     "text": [
      "sera exclu |backward|trigger|uncertain|30|Group[1165]|PRE-VALIDATION\n",
      "sera refusé |backward|trigger|uncertain|30|Group[1165]|PRE-VALIDATION\n",
      "sera repoussé |backward|trigger|uncertain|30|Group[1165]|PRE-VALIDATION\n",
      "sera rejeté |backward|trigger|uncertain|30|Group[1165]|PRE-VALIDATION\n",
      "sera éliminé |backward|trigger|uncertain|30|Group[1165]|PRE-VALIDATION\n",
      "sera proscrit |backward|trigger|uncertain|30|Group[1165]|PRE-VALIDATION\n"
     ]
    }
   ],
   "source": [
    "from nltk.parse.generate import generate, demo_grammar\n",
    "from nltk import CFG\n",
    "\n",
    "cfg_grammar= \"\"\"\n",
    "S ->  Auxiliary1 Verb2 Trigger_Rule\n",
    "Auxiliary1 -> \"sera\"\n",
    "Verb2 -> \"exclu\" | \"refusé\" | \"repoussé\" | \"rejeté\" | \"éliminé\" | \"proscrit\"\n",
    "Trigger_Rule -> \"|backward|trigger|uncertain|30|Group[1165]|PRE-VALIDATION\"\n",
    "\"\"\"\n",
    "\n",
    "for sentence in generate(CFG.fromstring(cfg_grammar), n=1000):\n",
    "    print(' '.join(sentence))"
   ]
  },
  {
   "cell_type": "code",
   "execution_count": 98,
   "metadata": {},
   "outputs": [
    {
     "name": "stdout",
     "output_type": "stream",
     "text": [
      "avec \\w+ papa |both|termination|historical|30|Group[1166, 1167]|PRE-VALIDATION\n",
      "avec \\w+ papa |both|termination|nonpatient|30|Group[1166, 1167]|PRE-VALIDATION\n",
      "avec \\w+ paternel |both|termination|historical|30|Group[1166, 1167]|PRE-VALIDATION\n",
      "avec \\w+ paternel |both|termination|nonpatient|30|Group[1166, 1167]|PRE-VALIDATION\n",
      "avec \\w+ papas |both|termination|historical|30|Group[1166, 1167]|PRE-VALIDATION\n",
      "avec \\w+ papas |both|termination|nonpatient|30|Group[1166, 1167]|PRE-VALIDATION\n"
     ]
    }
   ],
   "source": [
    "from nltk.parse.generate import generate, demo_grammar\n",
    "from nltk import CFG\n",
    "\n",
    "cfg_grammar= \"\"\"\n",
    "S ->  Adposition1 Adjective2 Noun5 Trigger_Rule\n",
    "Adposition1 -> \"avec\"\n",
    "Adjective2 -> \"\\\\w+\"\n",
    "Noun5 -> \"papa\" | \"paternel\" | \"papas\"\n",
    "Trigger_Rule -> \"|both|termination|historical|30|Group[1166, 1167]|PRE-VALIDATION\"|\"|both|termination|nonpatient|30|Group[1166, 1167]|PRE-VALIDATION\"\n",
    "\"\"\"\n",
    "\n",
    "for sentence in generate(CFG.fromstring(cfg_grammar), n=1000):\n",
    "    print(' '.join(sentence))"
   ]
  },
  {
   "cell_type": "code",
   "execution_count": 99,
   "metadata": {},
   "outputs": [
    {
     "name": "stdout",
     "output_type": "stream",
     "text": [
      "avec \\w+ père |both|termination|historical|30|Group[1166, 1167]|PRE-VALIDATION\n",
      "avec \\w+ père |both|termination|nonpatient|30|Group[1166, 1167]|PRE-VALIDATION\n",
      "avec \\w+ parent |both|termination|historical|30|Group[1166, 1167]|PRE-VALIDATION\n",
      "avec \\w+ parent |both|termination|nonpatient|30|Group[1166, 1167]|PRE-VALIDATION\n",
      "avec \\w+ abbé |both|termination|historical|30|Group[1166, 1167]|PRE-VALIDATION\n",
      "avec \\w+ abbé |both|termination|nonpatient|30|Group[1166, 1167]|PRE-VALIDATION\n",
      "avec \\w+ beau-père |both|termination|historical|30|Group[1166, 1167]|PRE-VALIDATION\n",
      "avec \\w+ beau-père |both|termination|nonpatient|30|Group[1166, 1167]|PRE-VALIDATION\n"
     ]
    }
   ],
   "source": [
    "from nltk.parse.generate import generate, demo_grammar\n",
    "from nltk import CFG\n",
    "\n",
    "cfg_grammar= \"\"\"\n",
    "S ->  Adposition1 Adjective2 Noun5 Trigger_Rule\n",
    "Adposition1 -> \"avec\"\n",
    "Adjective2 -> \"\\\\w+\"\n",
    "Noun5 -> \"père\" | \"parent\" | \"abbé\" | \"beau-père\"\n",
    "Trigger_Rule -> \"|both|termination|historical|30|Group[1166, 1167]|PRE-VALIDATION\"|\"|both|termination|nonpatient|30|Group[1166, 1167]|PRE-VALIDATION\"\n",
    "\"\"\"\n",
    "\n",
    "for sentence in generate(CFG.fromstring(cfg_grammar), n=1000):\n",
    "    print(' '.join(sentence))"
   ]
  },
  {
   "cell_type": "code",
   "execution_count": 100,
   "metadata": {},
   "outputs": [
    {
     "name": "stdout",
     "output_type": "stream",
     "text": [
      "avec \\w+ mère |both|termination|historical|30|Group[1166, 1167]|PRE-VALIDATION\n",
      "avec \\w+ mère |both|termination|nonpatient|30|Group[1166, 1167]|PRE-VALIDATION\n",
      "avec \\w+ parent |both|termination|historical|30|Group[1166, 1167]|PRE-VALIDATION\n",
      "avec \\w+ parent |both|termination|nonpatient|30|Group[1166, 1167]|PRE-VALIDATION\n",
      "avec \\w+ soeur |both|termination|historical|30|Group[1166, 1167]|PRE-VALIDATION\n",
      "avec \\w+ soeur |both|termination|nonpatient|30|Group[1166, 1167]|PRE-VALIDATION\n",
      "avec \\w+ mere |both|termination|historical|30|Group[1166, 1167]|PRE-VALIDATION\n",
      "avec \\w+ mere |both|termination|nonpatient|30|Group[1166, 1167]|PRE-VALIDATION\n",
      "avec \\w+ parents |both|termination|historical|30|Group[1166, 1167]|PRE-VALIDATION\n",
      "avec \\w+ parents |both|termination|nonpatient|30|Group[1166, 1167]|PRE-VALIDATION\n",
      "avec \\w+ belle-mère |both|termination|historical|30|Group[1166, 1167]|PRE-VALIDATION\n",
      "avec \\w+ belle-mère |both|termination|nonpatient|30|Group[1166, 1167]|PRE-VALIDATION\n"
     ]
    }
   ],
   "source": [
    "from nltk.parse.generate import generate, demo_grammar\n",
    "from nltk import CFG\n",
    "\n",
    "cfg_grammar= \"\"\"\n",
    "S ->  Adposition1 Adjective2 Noun5 Trigger_Rule\n",
    "Adposition1 -> \"avec\"\n",
    "Adjective2 -> \"\\\\w+\"\n",
    "Noun5 -> \"mère\" | \"parent\" | \"soeur\" | \"mere\" | \"parents\" | \"belle-mère\"\n",
    "Trigger_Rule -> \"|both|termination|historical|30|Group[1166, 1167]|PRE-VALIDATION\"|\"|both|termination|nonpatient|30|Group[1166, 1167]|PRE-VALIDATION\"\n",
    "\"\"\"\n",
    "\n",
    "for sentence in generate(CFG.fromstring(cfg_grammar), n=1000):\n",
    "    print(' '.join(sentence))"
   ]
  },
  {
   "cell_type": "code",
   "execution_count": 101,
   "metadata": {},
   "outputs": [
    {
     "name": "stdout",
     "output_type": "stream",
     "text": [
      "avec \\w+ maman |both|termination|historical|30|Group[1166, 1167]|PRE-VALIDATION\n",
      "avec \\w+ maman |both|termination|nonpatient|30|Group[1166, 1167]|PRE-VALIDATION\n",
      "avec \\w+ belle-mère |both|termination|historical|30|Group[1166, 1167]|PRE-VALIDATION\n",
      "avec \\w+ belle-mère |both|termination|nonpatient|30|Group[1166, 1167]|PRE-VALIDATION\n",
      "avec \\w+ belle-maman |both|termination|historical|30|Group[1166, 1167]|PRE-VALIDATION\n",
      "avec \\w+ belle-maman |both|termination|nonpatient|30|Group[1166, 1167]|PRE-VALIDATION\n"
     ]
    }
   ],
   "source": [
    "from nltk.parse.generate import generate, demo_grammar\n",
    "from nltk import CFG\n",
    "\n",
    "cfg_grammar= \"\"\"\n",
    "S ->  Adposition1 Adjective2 Noun5 Trigger_Rule\n",
    "Adposition1 -> \"avec\"\n",
    "Adjective2 -> \"\\\\w+\"\n",
    "Noun5 -> \"maman\" | \"belle-mère\" | \"belle-maman\"\n",
    "Trigger_Rule -> \"|both|termination|historical|30|Group[1166, 1167]|PRE-VALIDATION\"|\"|both|termination|nonpatient|30|Group[1166, 1167]|PRE-VALIDATION\"\n",
    "\"\"\"\n",
    "\n",
    "for sentence in generate(CFG.fromstring(cfg_grammar), n=1000):\n",
    "    print(' '.join(sentence))"
   ]
  },
  {
   "cell_type": "code",
   "execution_count": 102,
   "metadata": {},
   "outputs": [
    {
     "name": "stdout",
     "output_type": "stream",
     "text": [
      "avec \\w+ fille |both|termination|historical|30|Group[1166, 1167]|PRE-VALIDATION\n",
      "avec \\w+ fille |both|termination|nonpatient|30|Group[1166, 1167]|PRE-VALIDATION\n",
      "avec \\w+ belle-fille |both|termination|historical|30|Group[1166, 1167]|PRE-VALIDATION\n",
      "avec \\w+ belle-fille |both|termination|nonpatient|30|Group[1166, 1167]|PRE-VALIDATION\n"
     ]
    }
   ],
   "source": [
    "from nltk.parse.generate import generate, demo_grammar\n",
    "from nltk import CFG\n",
    "\n",
    "cfg_grammar= \"\"\"\n",
    "S ->  Adposition1 Adjective2 Noun5 Trigger_Rule\n",
    "Adposition1 -> \"avec\"\n",
    "Adjective2 -> \"\\\\w+\"\n",
    "Noun5 -> \"fille\" | \"belle-fille\"\n",
    "Trigger_Rule -> \"|both|termination|historical|30|Group[1166, 1167]|PRE-VALIDATION\"|\"|both|termination|nonpatient|30|Group[1166, 1167]|PRE-VALIDATION\"\n",
    "\"\"\"\n",
    "\n",
    "for sentence in generate(CFG.fromstring(cfg_grammar), n=1000):\n",
    "    print(' '.join(sentence))"
   ]
  },
  {
   "cell_type": "code",
   "execution_count": 103,
   "metadata": {},
   "outputs": [
    {
     "name": "stdout",
     "output_type": "stream",
     "text": [
      "avec \\w+ fils |both|termination|historical|30|Group[1166, 1167]|PRE-VALIDATION\n",
      "avec \\w+ fils |both|termination|nonpatient|30|Group[1166, 1167]|PRE-VALIDATION\n",
      "avec \\w+ garçon |both|termination|historical|30|Group[1166, 1167]|PRE-VALIDATION\n",
      "avec \\w+ garçon |both|termination|nonpatient|30|Group[1166, 1167]|PRE-VALIDATION\n",
      "avec \\w+ beau-fils |both|termination|historical|30|Group[1166, 1167]|PRE-VALIDATION\n",
      "avec \\w+ beau-fils |both|termination|nonpatient|30|Group[1166, 1167]|PRE-VALIDATION\n"
     ]
    }
   ],
   "source": [
    "from nltk.parse.generate import generate, demo_grammar\n",
    "from nltk import CFG\n",
    "\n",
    "cfg_grammar= \"\"\"\n",
    "S ->  Adposition1 Adjective2 Noun5 Trigger_Rule\n",
    "Adposition1 -> \"avec\"\n",
    "Adjective2 -> \"\\\\w+\"\n",
    "Noun5 -> \"fils\" | \"garçon\" | \"beau-fils\"\n",
    "Trigger_Rule -> \"|both|termination|historical|30|Group[1166, 1167]|PRE-VALIDATION\"|\"|both|termination|nonpatient|30|Group[1166, 1167]|PRE-VALIDATION\"\n",
    "\"\"\"\n",
    "\n",
    "for sentence in generate(CFG.fromstring(cfg_grammar), n=1000):\n",
    "    print(' '.join(sentence))"
   ]
  },
  {
   "cell_type": "code",
   "execution_count": 104,
   "metadata": {},
   "outputs": [
    {
     "name": "stdout",
     "output_type": "stream",
     "text": [
      "avec une question de |forward|trigger|uncertain|30|Group[1178]|PRE-VALIDATION\n",
      "avec une interpellation de |forward|trigger|uncertain|30|Group[1178]|PRE-VALIDATION\n",
      "avec une information de |forward|trigger|uncertain|30|Group[1178]|PRE-VALIDATION\n"
     ]
    }
   ],
   "source": [
    "from nltk.parse.generate import generate, demo_grammar\n",
    "from nltk import CFG\n",
    "\n",
    "cfg_grammar= \"\"\"\n",
    "S ->  Adposition1 Determiner2 Noun3 Adposition4 Trigger_Rule\n",
    "Adposition1 -> \"avec\"\n",
    "Determiner2 -> \"une\"\n",
    "Noun3 -> \"question\" | \"interpellation\" | \"information\"\n",
    "Adposition4 -> \"de\"\n",
    "Trigger_Rule -> \"|forward|trigger|uncertain|30|Group[1178]|PRE-VALIDATION\"\n",
    "\"\"\"\n",
    "\n",
    "for sentence in generate(CFG.fromstring(cfg_grammar), n=1000):\n",
    "    print(' '.join(sentence))"
   ]
  },
  {
   "cell_type": "code",
   "execution_count": 105,
   "metadata": {},
   "outputs": [
    {
     "name": "stdout",
     "output_type": "stream",
     "text": [
      "sans un |forward|trigger|negated|10|Group[1181]|PRE-VALIDATION\n"
     ]
    }
   ],
   "source": [
    "from nltk.parse.generate import generate, demo_grammar\n",
    "from nltk import CFG\n",
    "\n",
    "cfg_grammar= \"\"\"\n",
    "S ->  Adposition1 Determiner2 Trigger_Rule\n",
    "Adposition1 -> \"sans\"\n",
    "Determiner2 -> \"un\"\n",
    "Trigger_Rule -> \"|forward|trigger|negated|10|Group[1181]|PRE-VALIDATION\"\n",
    "\"\"\"\n",
    "\n",
    "for sentence in generate(CFG.fromstring(cfg_grammar), n=1000):\n",
    "    print(' '.join(sentence))"
   ]
  },
  {
   "cell_type": "code",
   "execution_count": 106,
   "metadata": {},
   "outputs": [
    {
     "name": "stdout",
     "output_type": "stream",
     "text": [
      "sans supplément |forward|trigger|negated|10|Group[1181]|PRE-VALIDATION\n",
      "sans excédent |forward|trigger|negated|10|Group[1181]|PRE-VALIDATION\n",
      "sans appoint |forward|trigger|negated|10|Group[1181]|PRE-VALIDATION\n",
      "sans addition |forward|trigger|negated|10|Group[1181]|PRE-VALIDATION\n",
      "sans surcroît |forward|trigger|negated|10|Group[1181]|PRE-VALIDATION\n",
      "sans extra |forward|trigger|negated|10|Group[1181]|PRE-VALIDATION\n",
      "sans surplus |forward|trigger|negated|10|Group[1181]|PRE-VALIDATION\n",
      "sans additif |forward|trigger|negated|10|Group[1181]|PRE-VALIDATION\n",
      "sans rallonge |forward|trigger|negated|10|Group[1181]|PRE-VALIDATION\n",
      "sans ajout |forward|trigger|negated|10|Group[1181]|PRE-VALIDATION\n",
      "sans avenant |forward|trigger|negated|10|Group[1181]|PRE-VALIDATION\n",
      "sans excès |forward|trigger|negated|10|Group[1181]|PRE-VALIDATION\n",
      "sans ajut |forward|trigger|negated|10|Group[1181]|PRE-VALIDATION\n",
      "sans adjuvant |forward|trigger|negated|10|Group[1181]|PRE-VALIDATION\n"
     ]
    }
   ],
   "source": [
    "from nltk.parse.generate import generate, demo_grammar\n",
    "from nltk import CFG\n",
    "\n",
    "cfg_grammar= \"\"\"\n",
    "S ->  Adposition1 Noun2 Trigger_Rule\n",
    "Adposition1 -> \"sans\"\n",
    "Noun2 -> \"supplément\" | \"excédent\" | \"appoint\" | \"addition\" | \"surcroît\" | \"extra\" | \"surplus\" | \"additif\" | \"rallonge\" | \"ajout\" | \"avenant\" | \"excès\" | \"ajut\" | \"adjuvant\"\n",
    "Trigger_Rule -> \"|forward|trigger|negated|10|Group[1181]|PRE-VALIDATION\"\n",
    "\"\"\"\n",
    "\n",
    "for sentence in generate(CFG.fromstring(cfg_grammar), n=1000):\n",
    "    print(' '.join(sentence))"
   ]
  },
  {
   "cell_type": "code",
   "execution_count": 107,
   "metadata": {},
   "outputs": [
    {
     "name": "stdout",
     "output_type": "stream",
     "text": [
      "sans aucun |forward|trigger|negated|10|Group[1181]|PRE-VALIDATION\n"
     ]
    }
   ],
   "source": [
    "from nltk.parse.generate import generate, demo_grammar\n",
    "from nltk import CFG\n",
    "\n",
    "cfg_grammar= \"\"\"\n",
    "S ->  Adposition1 Determiner2 Trigger_Rule\n",
    "Adposition1 -> \"sans\"\n",
    "Determiner2 -> \"aucun\"\n",
    "Trigger_Rule -> \"|forward|trigger|negated|10|Group[1181]|PRE-VALIDATION\"\n",
    "\"\"\"\n",
    "\n",
    "for sentence in generate(CFG.fromstring(cfg_grammar), n=1000):\n",
    "    print(' '.join(sentence))"
   ]
  },
  {
   "cell_type": "code",
   "execution_count": 108,
   "metadata": {},
   "outputs": [
    {
     "name": "stdout",
     "output_type": "stream",
     "text": [
      "sans causer |forward|trigger|negated|10|Group[1181]|PRE-VALIDATION\n",
      "sans susciter |forward|trigger|negated|10|Group[1181]|PRE-VALIDATION\n",
      "sans amener |forward|trigger|negated|10|Group[1181]|PRE-VALIDATION\n",
      "sans entraîner |forward|trigger|negated|10|Group[1181]|PRE-VALIDATION\n",
      "sans procurer |forward|trigger|negated|10|Group[1181]|PRE-VALIDATION\n",
      "sans provoquer |forward|trigger|negated|10|Group[1181]|PRE-VALIDATION\n",
      "sans occasionner |forward|trigger|negated|10|Group[1181]|PRE-VALIDATION\n",
      "sans donner |forward|trigger|negated|10|Group[1181]|PRE-VALIDATION\n",
      "sans engendrer |forward|trigger|negated|10|Group[1181]|PRE-VALIDATION\n",
      "sans motiver |forward|trigger|negated|10|Group[1181]|PRE-VALIDATION\n",
      "sans apporter |forward|trigger|negated|10|Group[1181]|PRE-VALIDATION\n",
      "sans déterminer |forward|trigger|negated|10|Group[1181]|PRE-VALIDATION\n",
      "sans créer |forward|trigger|negated|10|Group[1181]|PRE-VALIDATION\n",
      "sans être cause de |forward|trigger|negated|10|Group[1181]|PRE-VALIDATION\n",
      "sans déclencher |forward|trigger|negated|10|Group[1181]|PRE-VALIDATION\n"
     ]
    }
   ],
   "source": [
    "from nltk.parse.generate import generate, demo_grammar\n",
    "from nltk import CFG\n",
    "\n",
    "cfg_grammar= \"\"\"\n",
    "S ->  Adposition1 Verb2 Trigger_Rule\n",
    "Adposition1 -> \"sans\"\n",
    "Verb2 -> \"causer\" | \"susciter\" | \"amener\" | \"entraîner\" | \"procurer\" | \"provoquer\" | \"occasionner\" | \"donner\" | \"engendrer\" | \"motiver\" | \"apporter\" | \"déterminer\" | \"créer\" | \"être cause de\" | \"déclencher\"\n",
    "Trigger_Rule -> \"|forward|trigger|negated|10|Group[1181]|PRE-VALIDATION\"\n",
    "\"\"\"\n",
    "\n",
    "for sentence in generate(CFG.fromstring(cfg_grammar), n=1000):\n",
    "    print(' '.join(sentence))"
   ]
  },
  {
   "cell_type": "code",
   "execution_count": 109,
   "metadata": {},
   "outputs": [
    {
     "name": "stdout",
     "output_type": "stream",
     "text": [
      "sans aucune preuve de |forward|trigger|negated|10|Group[1181]|PRE-VALIDATION\n",
      "sans aucune témoignage de |forward|trigger|negated|10|Group[1181]|PRE-VALIDATION\n",
      "sans aucune justification de |forward|trigger|negated|10|Group[1181]|PRE-VALIDATION\n",
      "sans aucune démonstration de |forward|trigger|negated|10|Group[1181]|PRE-VALIDATION\n",
      "sans aucune gage de |forward|trigger|negated|10|Group[1181]|PRE-VALIDATION\n",
      "sans aucune conviction de |forward|trigger|negated|10|Group[1181]|PRE-VALIDATION\n",
      "sans aucune argument de |forward|trigger|negated|10|Group[1181]|PRE-VALIDATION\n",
      "sans aucune constatation de |forward|trigger|negated|10|Group[1181]|PRE-VALIDATION\n",
      "sans aucune confirmation de |forward|trigger|negated|10|Group[1181]|PRE-VALIDATION\n",
      "sans aucune critère de |forward|trigger|negated|10|Group[1181]|PRE-VALIDATION\n",
      "sans aucune signe de |forward|trigger|negated|10|Group[1181]|PRE-VALIDATION\n",
      "sans aucune motif de |forward|trigger|negated|10|Group[1181]|PRE-VALIDATION\n",
      "sans aucune assurance de |forward|trigger|negated|10|Group[1181]|PRE-VALIDATION\n",
      "sans aucune fondement de |forward|trigger|negated|10|Group[1181]|PRE-VALIDATION\n",
      "sans aucune évidence de |forward|trigger|negated|10|Group[1181]|PRE-VALIDATION\n"
     ]
    }
   ],
   "source": [
    "from nltk.parse.generate import generate, demo_grammar\n",
    "from nltk import CFG\n",
    "\n",
    "cfg_grammar= \"\"\"\n",
    "S ->  Adposition1 Determiner2 Noun3 Adposition4 Trigger_Rule\n",
    "Adposition1 -> \"sans\"\n",
    "Determiner2 -> \"aucune\"\n",
    "Noun3 -> \"preuve\" | \"témoignage\" | \"justification\" | \"démonstration\" | \"gage\" | \"conviction\" | \"argument\" | \"constatation\" | \"confirmation\" | \"critère\" | \"signe\" | \"motif\" | \"assurance\" | \"fondement\" | \"évidence\"\n",
    "Adposition4 -> \"de\"\n",
    "Trigger_Rule -> \"|forward|trigger|negated|10|Group[1181]|PRE-VALIDATION\"\n",
    "\"\"\"\n",
    "\n",
    "for sentence in generate(CFG.fromstring(cfg_grammar), n=1000):\n",
    "    print(' '.join(sentence))"
   ]
  },
  {
   "cell_type": "code",
   "execution_count": 110,
   "metadata": {},
   "outputs": [
    {
     "name": "stdout",
     "output_type": "stream",
     "text": [
      "sans apparente |forward|trigger|negated|10|Group[1181]|PRE-VALIDATION\n",
      "sans visible |forward|trigger|negated|10|Group[1181]|PRE-VALIDATION\n",
      "sans évident |forward|trigger|negated|10|Group[1181]|PRE-VALIDATION\n",
      "sans supposé |forward|trigger|negated|10|Group[1181]|PRE-VALIDATION\n",
      "sans probable |forward|trigger|negated|10|Group[1181]|PRE-VALIDATION\n",
      "sans manifeste |forward|trigger|negated|10|Group[1181]|PRE-VALIDATION\n",
      "sans superficiel |forward|trigger|negated|10|Group[1181]|PRE-VALIDATION\n",
      "sans ostensible |forward|trigger|negated|10|Group[1181]|PRE-VALIDATION\n",
      "sans perceptible |forward|trigger|negated|10|Group[1181]|PRE-VALIDATION\n",
      "sans plausible |forward|trigger|negated|10|Group[1181]|PRE-VALIDATION\n",
      "sans proéminent |forward|trigger|negated|10|Group[1181]|PRE-VALIDATION\n",
      "sans vraisemblable |forward|trigger|negated|10|Group[1181]|PRE-VALIDATION\n",
      "sans discernable |forward|trigger|negated|10|Group[1181]|PRE-VALIDATION\n",
      "sans apercevable |forward|trigger|negated|10|Group[1181]|PRE-VALIDATION\n",
      "sans distinct |forward|trigger|negated|10|Group[1181]|PRE-VALIDATION\n"
     ]
    }
   ],
   "source": [
    "from nltk.parse.generate import generate, demo_grammar\n",
    "from nltk import CFG\n",
    "\n",
    "cfg_grammar= \"\"\"\n",
    "S ->  Adposition1 Noun2 Trigger_Rule\n",
    "Adposition1 -> \"sans\"\n",
    "Noun2 -> \"apparente\" | \"visible\" | \"évident\" | \"supposé\" | \"probable\" | \"manifeste\" | \"superficiel\" | \"ostensible\" | \"perceptible\" | \"plausible\" | \"proéminent\" | \"vraisemblable\" | \"discernable\" | \"apercevable\" | \"distinct\"\n",
    "Trigger_Rule -> \"|forward|trigger|negated|10|Group[1181]|PRE-VALIDATION\"\n",
    "\"\"\"\n",
    "\n",
    "for sentence in generate(CFG.fromstring(cfg_grammar), n=1000):\n",
    "    print(' '.join(sentence))"
   ]
  },
  {
   "cell_type": "code",
   "execution_count": 111,
   "metadata": {},
   "outputs": [
    {
     "name": "stdout",
     "output_type": "stream",
     "text": [
      "sans \\w+ preuves |forward|trigger|negated|10|Group[1181]|PRE-VALIDATION\n",
      "sans \\w+ témoignage |forward|trigger|negated|10|Group[1181]|PRE-VALIDATION\n",
      "sans \\w+ justification |forward|trigger|negated|10|Group[1181]|PRE-VALIDATION\n",
      "sans \\w+ démonstration |forward|trigger|negated|10|Group[1181]|PRE-VALIDATION\n",
      "sans \\w+ gage |forward|trigger|negated|10|Group[1181]|PRE-VALIDATION\n",
      "sans \\w+ conviction |forward|trigger|negated|10|Group[1181]|PRE-VALIDATION\n",
      "sans \\w+ argument |forward|trigger|negated|10|Group[1181]|PRE-VALIDATION\n",
      "sans \\w+ constatation |forward|trigger|negated|10|Group[1181]|PRE-VALIDATION\n",
      "sans \\w+ confirmation |forward|trigger|negated|10|Group[1181]|PRE-VALIDATION\n",
      "sans \\w+ critère |forward|trigger|negated|10|Group[1181]|PRE-VALIDATION\n",
      "sans \\w+ signe |forward|trigger|negated|10|Group[1181]|PRE-VALIDATION\n",
      "sans \\w+ assurance |forward|trigger|negated|10|Group[1181]|PRE-VALIDATION\n",
      "sans \\w+ fondement |forward|trigger|negated|10|Group[1181]|PRE-VALIDATION\n",
      "sans \\w+ évidence |forward|trigger|negated|10|Group[1181]|PRE-VALIDATION\n",
      "sans \\w+ affirmation |forward|trigger|negated|10|Group[1181]|PRE-VALIDATION\n"
     ]
    }
   ],
   "source": [
    "from nltk.parse.generate import generate, demo_grammar\n",
    "from nltk import CFG\n",
    "\n",
    "cfg_grammar= \"\"\"\n",
    "S ->  Adposition1 Adjective2 Noun5 Trigger_Rule\n",
    "Adposition1 -> \"sans\"\n",
    "Adjective2 -> \"\\\\w+\"\n",
    "Noun5 -> \"preuves\" | \"témoignage\" | \"justification\" | \"démonstration\" | \"gage\" | \"conviction\" | \"argument\" | \"constatation\" | \"confirmation\" | \"critère\" | \"signe\" | \"assurance\" | \"fondement\" | \"évidence\" | \"affirmation\"\n",
    "Trigger_Rule -> \"|forward|trigger|negated|10|Group[1181]|PRE-VALIDATION\"\n",
    "\"\"\"\n",
    "\n",
    "for sentence in generate(CFG.fromstring(cfg_grammar), n=1000):\n",
    "    print(' '.join(sentence))"
   ]
  },
  {
   "cell_type": "code",
   "execution_count": 112,
   "metadata": {},
   "outputs": [
    {
     "name": "stdout",
     "output_type": "stream",
     "text": [
      "sans actif |forward|trigger|negated|10|Group[1181]|PRE-VALIDATION\n"
     ]
    }
   ],
   "source": [
    "from nltk.parse.generate import generate, demo_grammar\n",
    "from nltk import CFG\n",
    "\n",
    "cfg_grammar= \"\"\"\n",
    "S ->  Adposition1 Adjective2 Trigger_Rule\n",
    "Adposition1 -> \"sans\"\n",
    "Adjective2 -> \"actif\"\n",
    "Trigger_Rule -> \"|forward|trigger|negated|10|Group[1181]|PRE-VALIDATION\"\n",
    "\"\"\"\n",
    "\n",
    "for sentence in generate(CFG.fromstring(cfg_grammar), n=1000):\n",
    "    print(' '.join(sentence))"
   ]
  },
  {
   "cell_type": "code",
   "execution_count": 113,
   "metadata": {},
   "outputs": [
    {
     "name": "stdout",
     "output_type": "stream",
     "text": [
      "sans anormal |forward|trigger|negated|10|Group[1181]|PRE-VALIDATION\n",
      "sans bizarre |forward|trigger|negated|10|Group[1181]|PRE-VALIDATION\n",
      "sans singulier |forward|trigger|negated|10|Group[1181]|PRE-VALIDATION\n",
      "sans insolite |forward|trigger|negated|10|Group[1181]|PRE-VALIDATION\n",
      "sans irrégulier |forward|trigger|negated|10|Group[1181]|PRE-VALIDATION\n",
      "sans anomal |forward|trigger|negated|10|Group[1181]|PRE-VALIDATION\n",
      "sans exceptionnel |forward|trigger|negated|10|Group[1181]|PRE-VALIDATION\n",
      "sans étonnant |forward|trigger|negated|10|Group[1181]|PRE-VALIDATION\n",
      "sans extraordinaire |forward|trigger|negated|10|Group[1181]|PRE-VALIDATION\n",
      "sans surprenant |forward|trigger|negated|10|Group[1181]|PRE-VALIDATION\n",
      "sans inhabituel |forward|trigger|negated|10|Group[1181]|PRE-VALIDATION\n",
      "sans étrange |forward|trigger|negated|10|Group[1181]|PRE-VALIDATION\n",
      "sans déformé |forward|trigger|negated|10|Group[1181]|PRE-VALIDATION\n",
      "sans malade |forward|trigger|negated|10|Group[1181]|PRE-VALIDATION\n",
      "sans pathologique |forward|trigger|negated|10|Group[1181]|PRE-VALIDATION\n"
     ]
    }
   ],
   "source": [
    "from nltk.parse.generate import generate, demo_grammar\n",
    "from nltk import CFG\n",
    "\n",
    "cfg_grammar= \"\"\"\n",
    "S ->  Adposition1 Noun2 Trigger_Rule\n",
    "Adposition1 -> \"sans\"\n",
    "Noun2 -> \"anormal\" | \"bizarre\" | \"singulier\" | \"insolite\" | \"irrégulier\" | \"anomal\" | \"exceptionnel\" | \"étonnant\" | \"extraordinaire\" | \"surprenant\" | \"inhabituel\" | \"étrange\" | \"déformé\" | \"malade\" | \"pathologique\"\n",
    "Trigger_Rule -> \"|forward|trigger|negated|10|Group[1181]|PRE-VALIDATION\"\n",
    "\"\"\"\n",
    "\n",
    "for sentence in generate(CFG.fromstring(cfg_grammar), n=1000):\n",
    "    print(' '.join(sentence))"
   ]
  },
  {
   "cell_type": "code",
   "execution_count": 114,
   "metadata": {},
   "outputs": [
    {
     "name": "stdout",
     "output_type": "stream",
     "text": [
      "sans devenir |forward|trigger|negated|10|Group[1181]|PRE-VALIDATION\n",
      "sans rendre |forward|trigger|negated|10|Group[1181]|PRE-VALIDATION\n",
      "sans futur |forward|trigger|negated|10|Group[1181]|PRE-VALIDATION\n",
      "sans mouvant |forward|trigger|negated|10|Group[1181]|PRE-VALIDATION\n",
      "sans dynamisme |forward|trigger|negated|10|Group[1181]|PRE-VALIDATION\n",
      "sans mutation |forward|trigger|negated|10|Group[1181]|PRE-VALIDATION\n",
      "sans passer |forward|trigger|negated|10|Group[1181]|PRE-VALIDATION\n",
      "sans être |forward|trigger|negated|10|Group[1181]|PRE-VALIDATION\n",
      "sans changer |forward|trigger|negated|10|Group[1181]|PRE-VALIDATION\n",
      "sans advenir |forward|trigger|negated|10|Group[1181]|PRE-VALIDATION\n",
      "sans tourner |forward|trigger|negated|10|Group[1181]|PRE-VALIDATION\n",
      "sans tomber |forward|trigger|negated|10|Group[1181]|PRE-VALIDATION\n",
      "sans transformation |forward|trigger|negated|10|Group[1181]|PRE-VALIDATION\n",
      "sans se faire |forward|trigger|negated|10|Group[1181]|PRE-VALIDATION\n",
      "sans donner |forward|trigger|negated|10|Group[1181]|PRE-VALIDATION\n"
     ]
    }
   ],
   "source": [
    "from nltk.parse.generate import generate, demo_grammar\n",
    "from nltk import CFG\n",
    "\n",
    "cfg_grammar= \"\"\"\n",
    "S ->  Adposition1 Verb2 Trigger_Rule\n",
    "Adposition1 -> \"sans\"\n",
    "Verb2 -> \"devenir\" | \"rendre\" | \"futur\" | \"mouvant\" | \"dynamisme\" | \"mutation\" | \"passer\" | \"être\" | \"changer\" | \"advenir\" | \"tourner\" | \"tomber\" | \"transformation\" | \"se faire\" | \"donner\"\n",
    "Trigger_Rule -> \"|forward|trigger|negated|10|Group[1181]|PRE-VALIDATION\"\n",
    "\"\"\"\n",
    "\n",
    "for sentence in generate(CFG.fromstring(cfg_grammar), n=1000):\n",
    "    print(' '.join(sentence))"
   ]
  },
  {
   "cell_type": "code",
   "execution_count": 115,
   "metadata": {},
   "outputs": [
    {
     "name": "stdout",
     "output_type": "stream",
     "text": [
      "sans être |forward|trigger|negated|10|Group[1181]|PRE-VALIDATION\n"
     ]
    }
   ],
   "source": [
    "from nltk.parse.generate import generate, demo_grammar\n",
    "from nltk import CFG\n",
    "\n",
    "cfg_grammar= \"\"\"\n",
    "S ->  Adposition1 Auxiliary2 Trigger_Rule\n",
    "Adposition1 -> \"sans\"\n",
    "Auxiliary2 -> \"être\"\n",
    "Trigger_Rule -> \"|forward|trigger|negated|10|Group[1181]|PRE-VALIDATION\"\n",
    "\"\"\"\n",
    "\n",
    "for sentence in generate(CFG.fromstring(cfg_grammar), n=1000):\n",
    "    print(' '.join(sentence))"
   ]
  },
  {
   "cell_type": "code",
   "execution_count": 116,
   "metadata": {},
   "outputs": [
    {
     "name": "stdout",
     "output_type": "stream",
     "text": [
      "sans audible |forward|trigger|negated|10|Group[1181]|PRE-VALIDATION\n"
     ]
    }
   ],
   "source": [
    "from nltk.parse.generate import generate, demo_grammar\n",
    "from nltk import CFG\n",
    "\n",
    "cfg_grammar= \"\"\"\n",
    "S ->  Adposition1 Adjective2 Trigger_Rule\n",
    "Adposition1 -> \"sans\"\n",
    "Adjective2 -> \"audible\"\n",
    "Trigger_Rule -> \"|forward|trigger|negated|10|Group[1181]|PRE-VALIDATION\"\n",
    "\"\"\"\n",
    "\n",
    "for sentence in generate(CFG.fromstring(cfg_grammar), n=1000):\n",
    "    print(' '.join(sentence))"
   ]
  },
  {
   "cell_type": "code",
   "execution_count": 117,
   "metadata": {},
   "outputs": [
    {
     "name": "stdout",
     "output_type": "stream",
     "text": [
      "sans difficultés |both|pseudo|uncertain|30|Group[1207]|PRE-VALIDATION\n",
      "sans mal |both|pseudo|uncertain|30|Group[1207]|PRE-VALIDATION\n",
      "sans embarras |both|pseudo|uncertain|30|Group[1207]|PRE-VALIDATION\n",
      "sans empêchement |both|pseudo|uncertain|30|Group[1207]|PRE-VALIDATION\n",
      "sans obstacle |both|pseudo|uncertain|30|Group[1207]|PRE-VALIDATION\n",
      "sans complication |both|pseudo|uncertain|30|Group[1207]|PRE-VALIDATION\n",
      "sans problème |both|pseudo|uncertain|30|Group[1207]|PRE-VALIDATION\n",
      "sans ennui |both|pseudo|uncertain|30|Group[1207]|PRE-VALIDATION\n",
      "sans accroc |both|pseudo|uncertain|30|Group[1207]|PRE-VALIDATION\n",
      "sans contrariété |both|pseudo|uncertain|30|Group[1207]|PRE-VALIDATION\n",
      "sans résistance |both|pseudo|uncertain|30|Group[1207]|PRE-VALIDATION\n",
      "sans complexité |both|pseudo|uncertain|30|Group[1207]|PRE-VALIDATION\n",
      "sans tracas |both|pseudo|uncertain|30|Group[1207]|PRE-VALIDATION\n",
      "sans objection |both|pseudo|uncertain|30|Group[1207]|PRE-VALIDATION\n",
      "sans peine |both|pseudo|uncertain|30|Group[1207]|PRE-VALIDATION\n"
     ]
    }
   ],
   "source": [
    "from nltk.parse.generate import generate, demo_grammar\n",
    "from nltk import CFG\n",
    "\n",
    "cfg_grammar= \"\"\"\n",
    "S ->  Adposition1 Noun2 Trigger_Rule\n",
    "Adposition1 -> \"sans\"\n",
    "Noun2 -> \"difficultés\" | \"mal\" | \"embarras\" | \"empêchement\" | \"obstacle\" | \"complication\" | \"problème\" | \"ennui\" | \"accroc\" | \"contrariété\" | \"résistance\" | \"complexité\" | \"tracas\" | \"objection\" | \"peine\"\n",
    "Trigger_Rule -> \"|both|pseudo|uncertain|30|Group[1207]|PRE-VALIDATION\"\n",
    "\"\"\"\n",
    "\n",
    "for sentence in generate(CFG.fromstring(cfg_grammar), n=1000):\n",
    "    print(' '.join(sentence))"
   ]
  },
  {
   "cell_type": "code",
   "execution_count": 118,
   "metadata": {},
   "outputs": [
    {
     "name": "stdout",
     "output_type": "stream",
     "text": [
      "sans diff |both|pseudo|uncertain|30|Group[1207]|PRE-VALIDATION\n"
     ]
    }
   ],
   "source": [
    "from nltk.parse.generate import generate, demo_grammar\n",
    "from nltk import CFG\n",
    "\n",
    "cfg_grammar= \"\"\"\n",
    "S ->  Adposition1 Noun2 Trigger_Rule\n",
    "Adposition1 -> \"sans\"\n",
    "Noun2 -> \"diff\"\n",
    "Trigger_Rule -> \"|both|pseudo|uncertain|30|Group[1207]|PRE-VALIDATION\"\n",
    "\"\"\"\n",
    "\n",
    "for sentence in generate(CFG.fromstring(cfg_grammar), n=1000):\n",
    "    print(' '.join(sentence))"
   ]
  },
  {
   "cell_type": "code",
   "execution_count": 119,
   "metadata": {},
   "outputs": [
    {
     "name": "stdout",
     "output_type": "stream",
     "text": [
      "sans peine |both|pseudo|uncertain|30|Group[1207, 1208]|PRE-VALIDATION\n",
      "sans peine |both|pseudo|negated|10|Group[1207, 1208]|PRE-VALIDATION\n",
      "sans tristesse |both|pseudo|uncertain|30|Group[1207, 1208]|PRE-VALIDATION\n",
      "sans tristesse |both|pseudo|negated|10|Group[1207, 1208]|PRE-VALIDATION\n",
      "sans douleur |both|pseudo|uncertain|30|Group[1207, 1208]|PRE-VALIDATION\n",
      "sans douleur |both|pseudo|negated|10|Group[1207, 1208]|PRE-VALIDATION\n",
      "sans souffrance |both|pseudo|uncertain|30|Group[1207, 1208]|PRE-VALIDATION\n",
      "sans souffrance |both|pseudo|negated|10|Group[1207, 1208]|PRE-VALIDATION\n",
      "sans affliction |both|pseudo|uncertain|30|Group[1207, 1208]|PRE-VALIDATION\n",
      "sans affliction |both|pseudo|negated|10|Group[1207, 1208]|PRE-VALIDATION\n",
      "sans inquiétude |both|pseudo|uncertain|30|Group[1207, 1208]|PRE-VALIDATION\n",
      "sans inquiétude |both|pseudo|negated|10|Group[1207, 1208]|PRE-VALIDATION\n",
      "sans tourment |both|pseudo|uncertain|30|Group[1207, 1208]|PRE-VALIDATION\n",
      "sans tourment |both|pseudo|negated|10|Group[1207, 1208]|PRE-VALIDATION\n",
      "sans désolation |both|pseudo|uncertain|30|Group[1207, 1208]|PRE-VALIDATION\n",
      "sans désolation |both|pseudo|negated|10|Group[1207, 1208]|PRE-VALIDATION\n",
      "sans amertume |both|pseudo|uncertain|30|Group[1207, 1208]|PRE-VALIDATION\n",
      "sans amertume |both|pseudo|negated|10|Group[1207, 1208]|PRE-VALIDATION\n",
      "sans malheur |both|pseudo|uncertain|30|Group[1207, 1208]|PRE-VALIDATION\n",
      "sans malheur |both|pseudo|negated|10|Group[1207, 1208]|PRE-VALIDATION\n",
      "sans détresse |both|pseudo|uncertain|30|Group[1207, 1208]|PRE-VALIDATION\n",
      "sans détresse |both|pseudo|negated|10|Group[1207, 1208]|PRE-VALIDATION\n",
      "sans misère |both|pseudo|uncertain|30|Group[1207, 1208]|PRE-VALIDATION\n",
      "sans misère |both|pseudo|negated|10|Group[1207, 1208]|PRE-VALIDATION\n",
      "sans difficulté |both|pseudo|uncertain|30|Group[1207, 1208]|PRE-VALIDATION\n",
      "sans difficulté |both|pseudo|negated|10|Group[1207, 1208]|PRE-VALIDATION\n",
      "sans agonie |both|pseudo|uncertain|30|Group[1207, 1208]|PRE-VALIDATION\n",
      "sans agonie |both|pseudo|negated|10|Group[1207, 1208]|PRE-VALIDATION\n",
      "sans regret |both|pseudo|uncertain|30|Group[1207, 1208]|PRE-VALIDATION\n",
      "sans regret |both|pseudo|negated|10|Group[1207, 1208]|PRE-VALIDATION\n"
     ]
    }
   ],
   "source": [
    "from nltk.parse.generate import generate, demo_grammar\n",
    "from nltk import CFG\n",
    "\n",
    "cfg_grammar= \"\"\"\n",
    "S ->  Adposition1 Noun2 Trigger_Rule\n",
    "Adposition1 -> \"sans\"\n",
    "Noun2 -> \"peine\" | \"tristesse\" | \"douleur\" | \"souffrance\" | \"affliction\" | \"inquiétude\" | \"tourment\" | \"désolation\" | \"amertume\" | \"malheur\" | \"détresse\" | \"misère\" | \"difficulté\" | \"agonie\" | \"regret\"\n",
    "Trigger_Rule -> \"|both|pseudo|uncertain|30|Group[1207, 1208]|PRE-VALIDATION\"|\"|both|pseudo|negated|10|Group[1207, 1208]|PRE-VALIDATION\"\n",
    "\"\"\"\n",
    "\n",
    "for sentence in generate(CFG.fromstring(cfg_grammar), n=1000):\n",
    "    print(' '.join(sentence))"
   ]
  },
  {
   "cell_type": "code",
   "execution_count": 120,
   "metadata": {},
   "outputs": [
    {
     "name": "stdout",
     "output_type": "stream",
     "text": [
      "sans non |forward|trigger|uncertain|30|Group[1243]|PRE-VALIDATION\n"
     ]
    }
   ],
   "source": [
    "from nltk.parse.generate import generate, demo_grammar\n",
    "from nltk import CFG\n",
    "\n",
    "cfg_grammar= \"\"\"\n",
    "S ->  Adposition1 Adverb2 Trigger_Rule\n",
    "Adposition1 -> \"sans\"\n",
    "Adverb2 -> \"non\"\n",
    "Trigger_Rule -> \"|forward|trigger|uncertain|30|Group[1243]|PRE-VALIDATION\"\n",
    "\"\"\"\n",
    "\n",
    "for sentence in generate(CFG.fromstring(cfg_grammar), n=1000):\n",
    "    print(' '.join(sentence))"
   ]
  },
  {
   "cell_type": "code",
   "execution_count": 121,
   "metadata": {},
   "outputs": [
    {
     "name": "stdout",
     "output_type": "stream",
     "text": [
      "sans pas |forward|trigger|uncertain|30|Group[1243]|PRE-VALIDATION\n"
     ]
    }
   ],
   "source": [
    "from nltk.parse.generate import generate, demo_grammar\n",
    "from nltk import CFG\n",
    "\n",
    "cfg_grammar= \"\"\"\n",
    "S ->  Adposition1 Adverb2 Trigger_Rule\n",
    "Adposition1 -> \"sans\"\n",
    "Adverb2 -> \"pas\"\n",
    "Trigger_Rule -> \"|forward|trigger|uncertain|30|Group[1243]|PRE-VALIDATION\"\n",
    "\"\"\"\n",
    "\n",
    "for sentence in generate(CFG.fromstring(cfg_grammar), n=1000):\n",
    "    print(' '.join(sentence))"
   ]
  },
  {
   "cell_type": "code",
   "execution_count": 122,
   "metadata": {},
   "outputs": [
    {
     "name": "stdout",
     "output_type": "stream",
     "text": [
      "sans succès |backward|trigger|negated|10|Group[1269, 1270]|PRE-VALIDATION\n",
      "sans succès |forward|termination|negated|10|Group[1269, 1270]|PRE-VALIDATION\n",
      "sans effet |backward|trigger|negated|10|Group[1269, 1270]|PRE-VALIDATION\n",
      "sans effet |forward|termination|negated|10|Group[1269, 1270]|PRE-VALIDATION\n",
      "sans résultats |backward|trigger|negated|10|Group[1269, 1270]|PRE-VALIDATION\n",
      "sans résultats |forward|termination|negated|10|Group[1269, 1270]|PRE-VALIDATION\n",
      "sans aboutissement |backward|trigger|negated|10|Group[1269, 1270]|PRE-VALIDATION\n",
      "sans aboutissement |forward|termination|negated|10|Group[1269, 1270]|PRE-VALIDATION\n"
     ]
    }
   ],
   "source": [
    "from nltk.parse.generate import generate, demo_grammar\n",
    "from nltk import CFG\n",
    "\n",
    "cfg_grammar= \"\"\"\n",
    "S ->  Adposition1 Noun2 Trigger_Rule\n",
    "Adposition1 -> \"sans\"\n",
    "Noun2 -> \"succès\" | \"effet\" | \"résultats\" | \"aboutissement\"\n",
    "Trigger_Rule -> \"|backward|trigger|negated|10|Group[1269, 1270]|PRE-VALIDATION\"|\"|forward|termination|negated|10|Group[1269, 1270]|PRE-VALIDATION\"\n",
    "\"\"\"\n",
    "\n",
    "for sentence in generate(CFG.fromstring(cfg_grammar), n=1000):\n",
    "    print(' '.join(sentence))"
   ]
  },
  {
   "cell_type": "code",
   "execution_count": 123,
   "metadata": {},
   "outputs": [
    {
     "name": "stdout",
     "output_type": "stream",
     "text": [
      "sans pour autant |forward|trigger|negated|10|Group[1283]|PRE-VALIDATION\n"
     ]
    }
   ],
   "source": [
    "from nltk.parse.generate import generate, demo_grammar\n",
    "from nltk import CFG\n",
    "\n",
    "cfg_grammar= \"\"\"\n",
    "S ->  Adposition1 Adposition2 Adverb3 Trigger_Rule\n",
    "Adposition1 -> \"sans\"\n",
    "Adposition2 -> \"pour\"\n",
    "Adverb3 -> \"autant\"\n",
    "Trigger_Rule -> \"|forward|trigger|negated|10|Group[1283]|PRE-VALIDATION\"\n",
    "\"\"\"\n",
    "\n",
    "for sentence in generate(CFG.fromstring(cfg_grammar), n=1000):\n",
    "    print(' '.join(sentence))"
   ]
  },
  {
   "cell_type": "code",
   "execution_count": 124,
   "metadata": {},
   "outputs": [
    {
     "name": "stdout",
     "output_type": "stream",
     "text": [
      "inquiet pour |forward|trigger|uncertain|30|Group[1285]|PRE-VALIDATION\n"
     ]
    }
   ],
   "source": [
    "from nltk.parse.generate import generate, demo_grammar\n",
    "from nltk import CFG\n",
    "\n",
    "cfg_grammar= \"\"\"\n",
    "S ->  Adjective1 Adposition2 Trigger_Rule\n",
    "Adjective1 -> \"inquiet\"\n",
    "Adposition2 -> \"pour\"\n",
    "Trigger_Rule -> \"|forward|trigger|uncertain|30|Group[1285]|PRE-VALIDATION\"\n",
    "\"\"\"\n",
    "\n",
    "for sentence in generate(CFG.fromstring(cfg_grammar), n=1000):\n",
    "    print(' '.join(sentence))"
   ]
  },
  {
   "cell_type": "code",
   "execution_count": 125,
   "metadata": {},
   "outputs": [
    {
     "name": "stdout",
     "output_type": "stream",
     "text": [
      "inquiétant pour |forward|trigger|uncertain|30|Group[1285]|PRE-VALIDATION\n",
      "effrayant pour |forward|trigger|uncertain|30|Group[1285]|PRE-VALIDATION\n",
      "angoissant pour |forward|trigger|uncertain|30|Group[1285]|PRE-VALIDATION\n",
      "troublant pour |forward|trigger|uncertain|30|Group[1285]|PRE-VALIDATION\n",
      "menaçant pour |forward|trigger|uncertain|30|Group[1285]|PRE-VALIDATION\n",
      "alarmant pour |forward|trigger|uncertain|30|Group[1285]|PRE-VALIDATION\n",
      "ennuyeux pour |forward|trigger|uncertain|30|Group[1285]|PRE-VALIDATION\n",
      "intimidant pour |forward|trigger|uncertain|30|Group[1285]|PRE-VALIDATION\n",
      "préoccupant pour |forward|trigger|uncertain|30|Group[1285]|PRE-VALIDATION\n",
      "déconcertant pour |forward|trigger|uncertain|30|Group[1285]|PRE-VALIDATION\n",
      "grave pour |forward|trigger|uncertain|30|Group[1285]|PRE-VALIDATION\n",
      "terrifiant pour |forward|trigger|uncertain|30|Group[1285]|PRE-VALIDATION\n",
      "pessimiste pour |forward|trigger|uncertain|30|Group[1285]|PRE-VALIDATION\n",
      "tragique pour |forward|trigger|uncertain|30|Group[1285]|PRE-VALIDATION\n",
      "sombre pour |forward|trigger|uncertain|30|Group[1285]|PRE-VALIDATION\n"
     ]
    }
   ],
   "source": [
    "from nltk.parse.generate import generate, demo_grammar\n",
    "from nltk import CFG\n",
    "\n",
    "cfg_grammar= \"\"\"\n",
    "S ->  Verb1 Adposition2 Trigger_Rule\n",
    "Verb1 -> \"inquiétant\" | \"effrayant\" | \"angoissant\" | \"troublant\" | \"menaçant\" | \"alarmant\" | \"ennuyeux\" | \"intimidant\" | \"préoccupant\" | \"déconcertant\" | \"grave\" | \"terrifiant\" | \"pessimiste\" | \"tragique\" | \"sombre\"\n",
    "Adposition2 -> \"pour\"\n",
    "Trigger_Rule -> \"|forward|trigger|uncertain|30|Group[1285]|PRE-VALIDATION\"\n",
    "\"\"\"\n",
    "\n",
    "for sentence in generate(CFG.fromstring(cfg_grammar), n=1000):\n",
    "    print(' '.join(sentence))"
   ]
  },
  {
   "cell_type": "code",
   "execution_count": 126,
   "metadata": {},
   "outputs": [
    {
     "name": "stdout",
     "output_type": "stream",
     "text": [
      "donné |forward|termination|uncertain|4|Group[1288, 1289]|PRE-VALIDATION\n",
      "donné |forward|termination|conditional|4|Group[1288, 1289]|PRE-VALIDATION\n",
      "prescrit |forward|termination|uncertain|4|Group[1288, 1289]|PRE-VALIDATION\n",
      "prescrit |forward|termination|conditional|4|Group[1288, 1289]|PRE-VALIDATION\n",
      "administré |forward|termination|uncertain|4|Group[1288, 1289]|PRE-VALIDATION\n",
      "administré |forward|termination|conditional|4|Group[1288, 1289]|PRE-VALIDATION\n",
      "prodigué |forward|termination|uncertain|4|Group[1288, 1289]|PRE-VALIDATION\n",
      "prodigué |forward|termination|conditional|4|Group[1288, 1289]|PRE-VALIDATION\n",
      "appliqué |forward|termination|uncertain|4|Group[1288, 1289]|PRE-VALIDATION\n",
      "appliqué |forward|termination|conditional|4|Group[1288, 1289]|PRE-VALIDATION\n",
      "fait |forward|termination|uncertain|4|Group[1288, 1289]|PRE-VALIDATION\n",
      "fait |forward|termination|conditional|4|Group[1288, 1289]|PRE-VALIDATION\n",
      "indiqué |forward|termination|uncertain|4|Group[1288, 1289]|PRE-VALIDATION\n",
      "indiqué |forward|termination|conditional|4|Group[1288, 1289]|PRE-VALIDATION\n",
      "proposé |forward|termination|uncertain|4|Group[1288, 1289]|PRE-VALIDATION\n",
      "proposé |forward|termination|conditional|4|Group[1288, 1289]|PRE-VALIDATION\n",
      "distribué |forward|termination|uncertain|4|Group[1288, 1289]|PRE-VALIDATION\n",
      "distribué |forward|termination|conditional|4|Group[1288, 1289]|PRE-VALIDATION\n",
      "redonné |forward|termination|uncertain|4|Group[1288, 1289]|PRE-VALIDATION\n",
      "redonné |forward|termination|conditional|4|Group[1288, 1289]|PRE-VALIDATION\n",
      "assené |forward|termination|uncertain|4|Group[1288, 1289]|PRE-VALIDATION\n",
      "assené |forward|termination|conditional|4|Group[1288, 1289]|PRE-VALIDATION\n",
      "employé |forward|termination|uncertain|4|Group[1288, 1289]|PRE-VALIDATION\n",
      "employé |forward|termination|conditional|4|Group[1288, 1289]|PRE-VALIDATION\n",
      "inoculé |forward|termination|uncertain|4|Group[1288, 1289]|PRE-VALIDATION\n",
      "inoculé |forward|termination|conditional|4|Group[1288, 1289]|PRE-VALIDATION\n"
     ]
    }
   ],
   "source": [
    "from nltk.parse.generate import generate, demo_grammar\n",
    "from nltk import CFG\n",
    "\n",
    "cfg_grammar= \"\"\"\n",
    "S ->  Verb1 Trigger_Rule\n",
    "Verb1 -> \"donné\" | \"prescrit\" | \"administré\" | \"prodigué\" | \"appliqué\" | \"fait\" | \"indiqué\" | \"proposé\" | \"distribué\" | \"redonné\" | \"assené\" | \"employé\" | \"inoculé\"\n",
    "Trigger_Rule -> \"|forward|termination|uncertain|4|Group[1288, 1289]|PRE-VALIDATION\"|\"|forward|termination|conditional|4|Group[1288, 1289]|PRE-VALIDATION\"\n",
    "\"\"\"\n",
    "\n",
    "for sentence in generate(CFG.fromstring(cfg_grammar), n=1000):\n",
    "    print(' '.join(sentence))"
   ]
  },
  {
   "cell_type": "code",
   "execution_count": 127,
   "metadata": {},
   "outputs": [
    {
     "name": "stdout",
     "output_type": "stream",
     "text": [
      "avec résolution de |forward|trigger|negated|5|Group[1290]|PRE-VALIDATION\n",
      "avec dessein de |forward|trigger|negated|5|Group[1290]|PRE-VALIDATION\n",
      "avec intention de |forward|trigger|negated|5|Group[1290]|PRE-VALIDATION\n",
      "avec volonté de |forward|trigger|negated|5|Group[1290]|PRE-VALIDATION\n",
      "avec dénouement de |forward|trigger|negated|5|Group[1290]|PRE-VALIDATION\n",
      "avec proposition de |forward|trigger|negated|5|Group[1290]|PRE-VALIDATION\n",
      "avec solution de |forward|trigger|negated|5|Group[1290]|PRE-VALIDATION\n",
      "avec ténacité de |forward|trigger|negated|5|Group[1290]|PRE-VALIDATION\n",
      "avec exigence de |forward|trigger|negated|5|Group[1290]|PRE-VALIDATION\n",
      "avec constance de |forward|trigger|negated|5|Group[1290]|PRE-VALIDATION\n",
      "avec entêtement de |forward|trigger|negated|5|Group[1290]|PRE-VALIDATION\n",
      "avec désir de |forward|trigger|negated|5|Group[1290]|PRE-VALIDATION\n",
      "avec cran de |forward|trigger|negated|5|Group[1290]|PRE-VALIDATION\n",
      "avec obstination de |forward|trigger|negated|5|Group[1290]|PRE-VALIDATION\n",
      "avec dénoûment de |forward|trigger|negated|5|Group[1290]|PRE-VALIDATION\n"
     ]
    }
   ],
   "source": [
    "from nltk.parse.generate import generate, demo_grammar\n",
    "from nltk import CFG\n",
    "\n",
    "cfg_grammar= \"\"\"\n",
    "S ->  Adposition1 Noun2 Adposition3 Trigger_Rule\n",
    "Adposition1 -> \"avec\"\n",
    "Noun2 -> \"résolution\" | \"dessein\" | \"intention\" | \"volonté\" | \"dénouement\" | \"proposition\" | \"solution\" | \"ténacité\" | \"exigence\" | \"constance\" | \"entêtement\" | \"désir\" | \"cran\" | \"obstination\" | \"dénoûment\"\n",
    "Adposition3 -> \"de\"\n",
    "Trigger_Rule -> \"|forward|trigger|negated|5|Group[1290]|PRE-VALIDATION\"\n",
    "\"\"\"\n",
    "\n",
    "for sentence in generate(CFG.fromstring(cfg_grammar), n=1000):\n",
    "    print(' '.join(sentence))"
   ]
  },
  {
   "cell_type": "code",
   "execution_count": 128,
   "metadata": {},
   "outputs": [
    {
     "name": "stdout",
     "output_type": "stream",
     "text": [
      "appel |forward|trigger|negated|5|Group[1291]|PRE-VALIDATION\n",
      "réclamation |forward|trigger|negated|5|Group[1291]|PRE-VALIDATION\n",
      "rappel |forward|trigger|negated|5|Group[1291]|PRE-VALIDATION\n",
      "avertissement |forward|trigger|negated|5|Group[1291]|PRE-VALIDATION\n",
      "communication |forward|trigger|negated|5|Group[1291]|PRE-VALIDATION\n",
      "coup de téléphone |forward|trigger|negated|5|Group[1291]|PRE-VALIDATION\n",
      "appel téléphonique |forward|trigger|negated|5|Group[1291]|PRE-VALIDATION\n",
      "téléphone |forward|trigger|negated|5|Group[1291]|PRE-VALIDATION\n"
     ]
    }
   ],
   "source": [
    "from nltk.parse.generate import generate, demo_grammar\n",
    "from nltk import CFG\n",
    "\n",
    "cfg_grammar= \"\"\"\n",
    "S ->  Noun1 Trigger_Rule\n",
    "Noun1 -> \"appel\" | \"réclamation\" | \"rappel\" | \"avertissement\" | \"communication\" | \"coup de téléphone\" | \"appel téléphonique\" | \"téléphone\"\n",
    "Trigger_Rule -> \"|forward|trigger|negated|5|Group[1291]|PRE-VALIDATION\"\n",
    "\"\"\"\n",
    "\n",
    "for sentence in generate(CFG.fromstring(cfg_grammar), n=1000):\n",
    "    print(' '.join(sentence))"
   ]
  },
  {
   "cell_type": "code",
   "execution_count": 129,
   "metadata": {},
   "outputs": [
    {
     "name": "stdout",
     "output_type": "stream",
     "text": [
      "négatif |forward|trigger|negated|10|Group[1292]|PRE-VALIDATION\n"
     ]
    }
   ],
   "source": [
    "from nltk.parse.generate import generate, demo_grammar\n",
    "from nltk import CFG\n",
    "\n",
    "cfg_grammar= \"\"\"\n",
    "S ->  Adjective1 Trigger_Rule\n",
    "Adjective1 -> \"négatif\"\n",
    "Trigger_Rule -> \"|forward|trigger|negated|10|Group[1292]|PRE-VALIDATION\"\n",
    "\"\"\"\n",
    "\n",
    "for sentence in generate(CFG.fromstring(cfg_grammar), n=1000):\n",
    "    print(' '.join(sentence))"
   ]
  },
  {
   "cell_type": "code",
   "execution_count": 130,
   "metadata": {},
   "outputs": [
    {
     "name": "stdout",
     "output_type": "stream",
     "text": [
      "h/o |forward|trigger|historical|30|Group[1300, 1301]|PRE-VALIDATION\n",
      "h/o |forward|trigger|nonpatient|30|Group[1300, 1301]|PRE-VALIDATION\n"
     ]
    }
   ],
   "source": [
    "from nltk.parse.generate import generate, demo_grammar\n",
    "from nltk import CFG\n",
    "\n",
    "cfg_grammar= \"\"\"\n",
    "S ->  Noun1 Trigger_Rule\n",
    "Noun1 -> \"h/o\"\n",
    "Trigger_Rule -> \"|forward|trigger|historical|30|Group[1300, 1301]|PRE-VALIDATION\"|\"|forward|trigger|nonpatient|30|Group[1300, 1301]|PRE-VALIDATION\"\n",
    "\"\"\"\n",
    "\n",
    "for sentence in generate(CFG.fromstring(cfg_grammar), n=1000):\n",
    "    print(' '.join(sentence))"
   ]
  },
  {
   "cell_type": "code",
   "execution_count": 131,
   "metadata": {},
   "outputs": [
    {
     "name": "stdout",
     "output_type": "stream",
     "text": [
      "non h/o |forward|trigger|negated|10|Group[1304]|PRE-VALIDATION\n"
     ]
    }
   ],
   "source": [
    "from nltk.parse.generate import generate, demo_grammar\n",
    "from nltk import CFG\n",
    "\n",
    "cfg_grammar= \"\"\"\n",
    "S ->  Adverb1 Noun2 Trigger_Rule\n",
    "Adverb1 -> \"non\"\n",
    "Noun2 -> \"h/o\"\n",
    "Trigger_Rule -> \"|forward|trigger|negated|10|Group[1304]|PRE-VALIDATION\"\n",
    "\"\"\"\n",
    "\n",
    "for sentence in generate(CFG.fromstring(cfg_grammar), n=1000):\n",
    "    print(' '.join(sentence))"
   ]
  },
  {
   "cell_type": "code",
   "execution_count": 132,
   "metadata": {},
   "outputs": [
    {
     "name": "stdout",
     "output_type": "stream",
     "text": [
      "r / o |forward|trigger|uncertain|30|Group[1306]|PRE-VALIDATION\n"
     ]
    }
   ],
   "source": [
    "from nltk.parse.generate import generate, demo_grammar\n",
    "from nltk import CFG\n",
    "\n",
    "cfg_grammar= \"\"\"\n",
    "S ->  Noun1 Adposition2 Noun3 Trigger_Rule\n",
    "Noun1 -> \"r\"\n",
    "Adposition2 -> \"/\"\n",
    "Noun3 -> \"o\"\n",
    "Trigger_Rule -> \"|forward|trigger|uncertain|30|Group[1306]|PRE-VALIDATION\"\n",
    "\"\"\"\n",
    "\n",
    "for sentence in generate(CFG.fromstring(cfg_grammar), n=1000):\n",
    "    print(' '.join(sentence))"
   ]
  },
  {
   "cell_type": "code",
   "execution_count": 133,
   "metadata": {},
   "outputs": [
    {
     "name": "stdout",
     "output_type": "stream",
     "text": [
      "risque élevé pour |forward|trigger|negated|20|Group[1317]|PRE-VALIDATION\n",
      "dangereux élevé pour |forward|trigger|negated|20|Group[1317]|PRE-VALIDATION\n",
      "chance élevé pour |forward|trigger|negated|20|Group[1317]|PRE-VALIDATION\n"
     ]
    }
   ],
   "source": [
    "from nltk.parse.generate import generate, demo_grammar\n",
    "from nltk import CFG\n",
    "\n",
    "cfg_grammar= \"\"\"\n",
    "S ->  Noun1 Adjective2 Adposition3 Trigger_Rule\n",
    "Noun1 -> \"risque\" | \"dangereux\" | \"chance\"\n",
    "Adjective2 -> \"élevé\"\n",
    "Adposition3 -> \"pour\"\n",
    "Trigger_Rule -> \"|forward|trigger|negated|20|Group[1317]|PRE-VALIDATION\"\n",
    "\"\"\"\n",
    "\n",
    "for sentence in generate(CFG.fromstring(cfg_grammar), n=1000):\n",
    "    print(' '.join(sentence))"
   ]
  },
  {
   "cell_type": "code",
   "execution_count": 134,
   "metadata": {},
   "outputs": [
    {
     "name": "stdout",
     "output_type": "stream",
     "text": [
      "à risque de |forward|trigger|negated|20|Group[1318]|PRE-VALIDATION\n",
      "à dangereux de |forward|trigger|negated|20|Group[1318]|PRE-VALIDATION\n",
      "à chance de |forward|trigger|negated|20|Group[1318]|PRE-VALIDATION\n"
     ]
    }
   ],
   "source": [
    "from nltk.parse.generate import generate, demo_grammar\n",
    "from nltk import CFG\n",
    "\n",
    "cfg_grammar= \"\"\"\n",
    "S ->  Adposition1 Noun2 Adposition3 Trigger_Rule\n",
    "Adposition1 -> \"à\"\n",
    "Noun2 -> \"risque\" | \"dangereux\" | \"chance\"\n",
    "Adposition3 -> \"de\"\n",
    "Trigger_Rule -> \"|forward|trigger|negated|20|Group[1318]|PRE-VALIDATION\"\n",
    "\"\"\"\n",
    "\n",
    "for sentence in generate(CFG.fromstring(cfg_grammar), n=1000):\n",
    "    print(' '.join(sentence))"
   ]
  },
  {
   "cell_type": "code",
   "execution_count": 135,
   "metadata": {},
   "outputs": [
    {
     "name": "stdout",
     "output_type": "stream",
     "text": [
      "surveillé pour |forward|trigger|conditional|30|Group[1320]|PRE-VALIDATION\n",
      "veiller pour |forward|trigger|conditional|30|Group[1320]|PRE-VALIDATION\n",
      "inspecter pour |forward|trigger|conditional|30|Group[1320]|PRE-VALIDATION\n",
      "examiner pour |forward|trigger|conditional|30|Group[1320]|PRE-VALIDATION\n",
      "suivre pour |forward|trigger|conditional|30|Group[1320]|PRE-VALIDATION\n",
      "vérifier pour |forward|trigger|conditional|30|Group[1320]|PRE-VALIDATION\n",
      "regarder pour |forward|trigger|conditional|30|Group[1320]|PRE-VALIDATION\n",
      "avoir à l'oeil pour |forward|trigger|conditional|30|Group[1320]|PRE-VALIDATION\n",
      "être à l'affût pour |forward|trigger|conditional|30|Group[1320]|PRE-VALIDATION\n",
      "méfier pour |forward|trigger|conditional|30|Group[1320]|PRE-VALIDATION\n",
      "superviser pour |forward|trigger|conditional|30|Group[1320]|PRE-VALIDATION\n",
      "faire attention pour |forward|trigger|conditional|30|Group[1320]|PRE-VALIDATION\n"
     ]
    }
   ],
   "source": [
    "from nltk.parse.generate import generate, demo_grammar\n",
    "from nltk import CFG\n",
    "\n",
    "cfg_grammar= \"\"\"\n",
    "S ->  Verb1 Adposition2 Trigger_Rule\n",
    "Verb1 -> \"surveillé\" | \"veiller\" | \"inspecter\" | \"examiner\" | \"suivre\" | \"vérifier\" | \"regarder\" | \"avoir à l'oeil\" | \"être à l'affût\" | \"méfier\" | \"superviser\" | \"faire attention\"\n",
    "Adposition2 -> \"pour\"\n",
    "Trigger_Rule -> \"|forward|trigger|conditional|30|Group[1320]|PRE-VALIDATION\"\n",
    "\"\"\"\n",
    "\n",
    "for sentence in generate(CFG.fromstring(cfg_grammar), n=1000):\n",
    "    print(' '.join(sentence))"
   ]
  },
  {
   "cell_type": "code",
   "execution_count": 136,
   "metadata": {},
   "outputs": [
    {
     "name": "stdout",
     "output_type": "stream",
     "text": [
      "surveiller pour |forward|trigger|conditional|30|Group[1320]|PRE-VALIDATION\n",
      "veiller pour |forward|trigger|conditional|30|Group[1320]|PRE-VALIDATION\n",
      "inspecter pour |forward|trigger|conditional|30|Group[1320]|PRE-VALIDATION\n",
      "examiner pour |forward|trigger|conditional|30|Group[1320]|PRE-VALIDATION\n",
      "suivre pour |forward|trigger|conditional|30|Group[1320]|PRE-VALIDATION\n",
      "vérifier pour |forward|trigger|conditional|30|Group[1320]|PRE-VALIDATION\n",
      "avoir à l'oeil pour |forward|trigger|conditional|30|Group[1320]|PRE-VALIDATION\n",
      "être à l'affût pour |forward|trigger|conditional|30|Group[1320]|PRE-VALIDATION\n",
      "superviser pour |forward|trigger|conditional|30|Group[1320]|PRE-VALIDATION\n",
      "faire attention pour |forward|trigger|conditional|30|Group[1320]|PRE-VALIDATION\n"
     ]
    }
   ],
   "source": [
    "from nltk.parse.generate import generate, demo_grammar\n",
    "from nltk import CFG\n",
    "\n",
    "cfg_grammar= \"\"\"\n",
    "S ->  Verb1 Adposition2 Trigger_Rule\n",
    "Verb1 -> \"surveiller\" | \"veiller\" | \"inspecter\" | \"examiner\" | \"suivre\" | \"vérifier\" | \"avoir à l'oeil\" | \"être à l'affût\" | \"superviser\" | \"faire attention\"\n",
    "Adposition2 -> \"pour\"\n",
    "Trigger_Rule -> \"|forward|trigger|conditional|30|Group[1320]|PRE-VALIDATION\"\n",
    "\"\"\"\n",
    "\n",
    "for sentence in generate(CFG.fromstring(cfg_grammar), n=1000):\n",
    "    print(' '.join(sentence))"
   ]
  }
 ],
 "metadata": {
  "file_extension": ".py",
  "kernelspec": {
   "display_name": "Python 3",
   "language": "python",
   "name": "python3"
  },
  "language_info": {
   "codemirror_mode": {
    "name": "ipython",
    "version": 3
   },
   "file_extension": ".py",
   "mimetype": "text/x-python",
   "name": "python",
   "nbconvert_exporter": "python",
   "pygments_lexer": "ipython3",
   "version": "3.7.2"
  },
  "mimetype": "text/x-python",
  "name": "python",
  "nbconvert_exporter": "python",
  "pygments_lexer": "ipython3",
  "version": "3.7.2"
 },
 "nbformat": 4,
 "nbformat_minor": 2
}
