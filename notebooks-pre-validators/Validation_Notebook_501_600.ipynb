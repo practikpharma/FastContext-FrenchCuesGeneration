{
 "cells": [
  {
   "cell_type": "code",
   "execution_count": 1,
   "metadata": {},
   "outputs": [
    {
     "name": "stdout",
     "output_type": "stream",
     "text": [
      "pas exclu |backward|trigger|uncertain|30|Group[882]|PRE-VALIDATION\n",
      "pas refusé |backward|trigger|uncertain|30|Group[882]|PRE-VALIDATION\n",
      "pas repoussé |backward|trigger|uncertain|30|Group[882]|PRE-VALIDATION\n",
      "pas rejeté |backward|trigger|uncertain|30|Group[882]|PRE-VALIDATION\n",
      "pas éliminé |backward|trigger|uncertain|30|Group[882]|PRE-VALIDATION\n",
      "pas proscrit |backward|trigger|uncertain|30|Group[882]|PRE-VALIDATION\n"
     ]
    }
   ],
   "source": [
    "from nltk.parse.generate import generate, demo_grammar\n",
    "from nltk import CFG\n",
    "\n",
    "cfg_grammar= \"\"\"\n",
    "S ->  Adverb1 Verb2 Trigger_Rule\n",
    "Adverb1 -> \"pas\"\n",
    "Verb2 -> \"exclu\" | \"refusé\" | \"repoussé\" | \"rejeté\" | \"éliminé\" | \"proscrit\"\n",
    "Trigger_Rule -> \"|backward|trigger|uncertain|30|Group[882]|PRE-VALIDATION\"\n",
    "\"\"\"\n",
    "\n",
    "for sentence in generate(CFG.fromstring(cfg_grammar), n=1000):\n",
    "    print(' '.join(sentence))"
   ]
  },
  {
   "cell_type": "code",
   "execution_count": 2,
   "metadata": {},
   "outputs": [
    {
     "name": "stdout",
     "output_type": "stream",
     "text": [
      "pas vu |forward|trigger|negated|10|Group[883]|PRE-VALIDATION\n"
     ]
    }
   ],
   "source": [
    "from nltk.parse.generate import generate, demo_grammar\n",
    "from nltk import CFG\n",
    "\n",
    "cfg_grammar= \"\"\"\n",
    "S ->  Adverb1 Verb2 Trigger_Rule\n",
    "Adverb1 -> \"pas\"\n",
    "Verb2 -> \"vu\"\n",
    "Trigger_Rule -> \"|forward|trigger|negated|10|Group[883]|PRE-VALIDATION\"\n",
    "\"\"\"\n",
    "\n",
    "for sentence in generate(CFG.fromstring(cfg_grammar), n=1000):\n",
    "    print(' '.join(sentence))"
   ]
  },
  {
   "cell_type": "code",
   "execution_count": 3,
   "metadata": {},
   "outputs": [
    {
     "name": "stdout",
     "output_type": "stream",
     "text": [
      "pas résoudre |both|pseudo|negated|10|Group[885]|PRE-VALIDATION\n",
      "pas déterminer |both|pseudo|negated|10|Group[885]|PRE-VALIDATION\n",
      "pas trancher |both|pseudo|negated|10|Group[885]|PRE-VALIDATION\n",
      "pas solutionner |both|pseudo|negated|10|Group[885]|PRE-VALIDATION\n",
      "pas conclure |both|pseudo|negated|10|Group[885]|PRE-VALIDATION\n",
      "pas régler |both|pseudo|negated|10|Group[885]|PRE-VALIDATION\n",
      "pas trouver |both|pseudo|negated|10|Group[885]|PRE-VALIDATION\n",
      "pas résilier |both|pseudo|negated|10|Group[885]|PRE-VALIDATION\n",
      "pas arrêter |both|pseudo|negated|10|Group[885]|PRE-VALIDATION\n",
      "pas déchiffrer |both|pseudo|negated|10|Group[885]|PRE-VALIDATION\n",
      "pas statuer |both|pseudo|negated|10|Group[885]|PRE-VALIDATION\n",
      "pas démêler |both|pseudo|negated|10|Group[885]|PRE-VALIDATION\n",
      "pas traiter |both|pseudo|negated|10|Group[885]|PRE-VALIDATION\n",
      "pas dénouer |both|pseudo|negated|10|Group[885]|PRE-VALIDATION\n",
      "pas en finir |both|pseudo|negated|10|Group[885]|PRE-VALIDATION\n"
     ]
    }
   ],
   "source": [
    "from nltk.parse.generate import generate, demo_grammar\n",
    "from nltk import CFG\n",
    "\n",
    "cfg_grammar= \"\"\"\n",
    "S ->  Adverb1 Verb2 Trigger_Rule\n",
    "Adverb1 -> \"pas\"\n",
    "Verb2 -> \"résoudre\" | \"déterminer\" | \"trancher\" | \"solutionner\" | \"conclure\" | \"régler\" | \"trouver\" | \"résilier\" | \"arrêter\" | \"déchiffrer\" | \"statuer\" | \"démêler\" | \"traiter\" | \"dénouer\" | \"en finir\"\n",
    "Trigger_Rule -> \"|both|pseudo|negated|10|Group[885]|PRE-VALIDATION\"\n",
    "\"\"\"\n",
    "\n",
    "for sentence in generate(CFG.fromstring(cfg_grammar), n=1000):\n",
    "    print(' '.join(sentence))"
   ]
  },
  {
   "cell_type": "code",
   "execution_count": 4,
   "metadata": {},
   "outputs": [
    {
     "name": "stdout",
     "output_type": "stream",
     "text": [
      "ne pas être |forward|trigger|negated|10|Group[886]|PRE-VALIDATION\n"
     ]
    }
   ],
   "source": [
    "from nltk.parse.generate import generate, demo_grammar\n",
    "from nltk import CFG\n",
    "\n",
    "cfg_grammar= \"\"\"\n",
    "S ->  Adverb1 Adverb2 Auxiliary3 Trigger_Rule\n",
    "Adverb1 -> \"ne\"\n",
    "Adverb2 -> \"pas\"\n",
    "Auxiliary3 -> \"être\"\n",
    "Trigger_Rule -> \"|forward|trigger|negated|10|Group[886]|PRE-VALIDATION\"\n",
    "\"\"\"\n",
    "\n",
    "for sentence in generate(CFG.fromstring(cfg_grammar), n=1000):\n",
    "    print(' '.join(sentence))"
   ]
  },
  {
   "cell_type": "code",
   "execution_count": 5,
   "metadata": {},
   "outputs": [
    {
     "name": "stdout",
     "output_type": "stream",
     "text": [
      "c'est noté |both|termination|historical|30|Group[888, 889]|PRE-VALIDATION\n",
      "c'est noté |both|termination|nonpatient|30|Group[888, 889]|PRE-VALIDATION\n",
      "c'est constaté |both|termination|historical|30|Group[888, 889]|PRE-VALIDATION\n",
      "c'est constaté |both|termination|nonpatient|30|Group[888, 889]|PRE-VALIDATION\n",
      "c'est relevé |both|termination|historical|30|Group[888, 889]|PRE-VALIDATION\n",
      "c'est relevé |both|termination|nonpatient|30|Group[888, 889]|PRE-VALIDATION\n",
      "c'est remarqué |both|termination|historical|30|Group[888, 889]|PRE-VALIDATION\n",
      "c'est remarqué |both|termination|nonpatient|30|Group[888, 889]|PRE-VALIDATION\n",
      "c'est observé |both|termination|historical|30|Group[888, 889]|PRE-VALIDATION\n",
      "c'est observé |both|termination|nonpatient|30|Group[888, 889]|PRE-VALIDATION\n",
      "c'est consigné |both|termination|historical|30|Group[888, 889]|PRE-VALIDATION\n",
      "c'est consigné |both|termination|nonpatient|30|Group[888, 889]|PRE-VALIDATION\n",
      "c'est communiqué |both|termination|historical|30|Group[888, 889]|PRE-VALIDATION\n",
      "c'est communiqué |both|termination|nonpatient|30|Group[888, 889]|PRE-VALIDATION\n",
      "c'est qualité |both|termination|historical|30|Group[888, 889]|PRE-VALIDATION\n",
      "c'est qualité |both|termination|nonpatient|30|Group[888, 889]|PRE-VALIDATION\n",
      "c'est transcrit |both|termination|historical|30|Group[888, 889]|PRE-VALIDATION\n",
      "c'est transcrit |both|termination|nonpatient|30|Group[888, 889]|PRE-VALIDATION\n",
      "c'est classé |both|termination|historical|30|Group[888, 889]|PRE-VALIDATION\n",
      "c'est classé |both|termination|nonpatient|30|Group[888, 889]|PRE-VALIDATION\n",
      "c'est évalué |both|termination|historical|30|Group[888, 889]|PRE-VALIDATION\n",
      "c'est évalué |both|termination|nonpatient|30|Group[888, 889]|PRE-VALIDATION\n",
      "c'est étiqueté |both|termination|historical|30|Group[888, 889]|PRE-VALIDATION\n",
      "c'est étiqueté |both|termination|nonpatient|30|Group[888, 889]|PRE-VALIDATION\n",
      "c'est estimé |both|termination|historical|30|Group[888, 889]|PRE-VALIDATION\n",
      "c'est estimé |both|termination|nonpatient|30|Group[888, 889]|PRE-VALIDATION\n",
      "c'est mentionné |both|termination|historical|30|Group[888, 889]|PRE-VALIDATION\n",
      "c'est mentionné |both|termination|nonpatient|30|Group[888, 889]|PRE-VALIDATION\n",
      "c'est coché |both|termination|historical|30|Group[888, 889]|PRE-VALIDATION\n",
      "c'est coché |both|termination|nonpatient|30|Group[888, 889]|PRE-VALIDATION\n"
     ]
    }
   ],
   "source": [
    "from nltk.parse.generate import generate, demo_grammar\n",
    "from nltk import CFG\n",
    "\n",
    "cfg_grammar= \"\"\"\n",
    "S -> Auxiliary2 Verb3 Trigger_Rule\n",
    "Auxiliary2 -> \"c'est\"\n",
    "Verb3 -> \"noté\" | \"constaté\" | \"relevé\" | \"remarqué\" | \"observé\" | \"consigné\" | \"communiqué\" | \"qualité\" | \"transcrit\" | \"classé\" | \"évalué\" | \"étiqueté\" | \"estimé\" | \"mentionné\" | \"coché\"\n",
    "Trigger_Rule -> \"|both|termination|historical|30|Group[888, 889]|PRE-VALIDATION\"|\"|both|termination|nonpatient|30|Group[888, 889]|PRE-VALIDATION\"\n",
    "\"\"\"\n",
    "\n",
    "for sentence in generate(CFG.fromstring(cfg_grammar), n=1000):\n",
    "    print(' '.join(sentence))"
   ]
  },
  {
   "cell_type": "code",
   "execution_count": 6,
   "metadata": {},
   "outputs": [
    {
     "name": "stdout",
     "output_type": "stream",
     "text": [
      "ne pas |forward|trigger|negated|10|Group[891, 890]|PRE-VALIDATION\n",
      "ne pas |forward|trigger|negated|20|Group[891, 890]|PRE-VALIDATION\n"
     ]
    }
   ],
   "source": [
    "from nltk.parse.generate import generate, demo_grammar\n",
    "from nltk import CFG\n",
    "\n",
    "cfg_grammar= \"\"\"\n",
    "S ->  Adverb1 Adverb2 Trigger_Rule\n",
    "Adverb1 -> \"ne\"\n",
    "Adverb2 -> \"pas\"\n",
    "Trigger_Rule -> \"|forward|trigger|negated|10|Group[891, 890]|PRE-VALIDATION\"|\"|forward|trigger|negated|20|Group[891, 890]|PRE-VALIDATION\"\n",
    "\"\"\"\n",
    "\n",
    "for sentence in generate(CFG.fromstring(cfg_grammar), n=1000):\n",
    "    print(' '.join(sentence))"
   ]
  },
  {
   "cell_type": "code",
   "execution_count": 7,
   "metadata": {},
   "outputs": [
    {
     "name": "stdout",
     "output_type": "stream",
     "text": [
      "maintenant résolu |backward|trigger|negated|10|Group[892, 893]|PRE-VALIDATION\n",
      "maintenant résolu |forward|termination|negated|10|Group[892, 893]|PRE-VALIDATION\n",
      "maintenant décidé |backward|trigger|negated|10|Group[892, 893]|PRE-VALIDATION\n",
      "maintenant décidé |forward|termination|negated|10|Group[892, 893]|PRE-VALIDATION\n",
      "maintenant solutionné |backward|trigger|negated|10|Group[892, 893]|PRE-VALIDATION\n",
      "maintenant solutionné |forward|termination|negated|10|Group[892, 893]|PRE-VALIDATION\n",
      "maintenant fixé |backward|trigger|negated|10|Group[892, 893]|PRE-VALIDATION\n",
      "maintenant fixé |forward|termination|negated|10|Group[892, 893]|PRE-VALIDATION\n",
      "maintenant conclu |backward|trigger|negated|10|Group[892, 893]|PRE-VALIDATION\n",
      "maintenant conclu |forward|termination|negated|10|Group[892, 893]|PRE-VALIDATION\n",
      "maintenant traité |backward|trigger|negated|10|Group[892, 893]|PRE-VALIDATION\n",
      "maintenant traité |forward|termination|negated|10|Group[892, 893]|PRE-VALIDATION\n"
     ]
    }
   ],
   "source": [
    "from nltk.parse.generate import generate, demo_grammar\n",
    "from nltk import CFG\n",
    "\n",
    "cfg_grammar= \"\"\"\n",
    "S ->  Adverb1 Verb2 Trigger_Rule\n",
    "Adverb1 -> \"maintenant\"\n",
    "Verb2 -> \"résolu\" | \"décidé\" | \"solutionné\" | \"fixé\" | \"conclu\" | \"traité\"\n",
    "Trigger_Rule -> \"|backward|trigger|negated|10|Group[892, 893]|PRE-VALIDATION\"|\"|forward|termination|negated|10|Group[892, 893]|PRE-VALIDATION\"\n",
    "\"\"\"\n",
    "\n",
    "for sentence in generate(CFG.fromstring(cfg_grammar), n=1000):\n",
    "    print(' '.join(sentence))"
   ]
  },
  {
   "cell_type": "code",
   "execution_count": 8,
   "metadata": {},
   "outputs": [
    {
     "name": "stdout",
     "output_type": "stream",
     "text": [
      "origines pour |forward|termination|negated|10|Group[896]|PRE-VALIDATION\n",
      "source pour |forward|termination|negated|10|Group[896]|PRE-VALIDATION\n",
      "début pour |forward|termination|negated|10|Group[896]|PRE-VALIDATION\n",
      "commencement pour |forward|termination|negated|10|Group[896]|PRE-VALIDATION\n",
      "naissance pour |forward|termination|negated|10|Group[896]|PRE-VALIDATION\n",
      "provenance pour |forward|termination|negated|10|Group[896]|PRE-VALIDATION\n",
      "cause pour |forward|termination|negated|10|Group[896]|PRE-VALIDATION\n",
      "formation pour |forward|termination|negated|10|Group[896]|PRE-VALIDATION\n",
      "base pour |forward|termination|negated|10|Group[896]|PRE-VALIDATION\n",
      "fondement pour |forward|termination|negated|10|Group[896]|PRE-VALIDATION\n",
      "genèse pour |forward|termination|negated|10|Group[896]|PRE-VALIDATION\n",
      "prédéterminant pour |forward|termination|negated|10|Group[896]|PRE-VALIDATION\n",
      "raison pour |forward|termination|negated|10|Group[896]|PRE-VALIDATION\n",
      "départ pour |forward|termination|negated|10|Group[896]|PRE-VALIDATION\n",
      "motif pour |forward|termination|negated|10|Group[896]|PRE-VALIDATION\n"
     ]
    }
   ],
   "source": [
    "from nltk.parse.generate import generate, demo_grammar\n",
    "from nltk import CFG\n",
    "\n",
    "cfg_grammar= \"\"\"\n",
    "S ->  Noun1 Adposition2 Trigger_Rule\n",
    "Noun1 -> \"origines\" | \"source\" | \"début\" | \"commencement\" | \"naissance\" | \"provenance\" | \"cause\" | \"formation\" | \"base\" | \"fondement\" | \"genèse\" | \"prédéterminant\" | \"raison\" | \"départ\" | \"motif\"\n",
    "Adposition2 -> \"pour\"\n",
    "Trigger_Rule -> \"|forward|termination|negated|10|Group[896]|PRE-VALIDATION\"\n",
    "\"\"\"\n",
    "\n",
    "for sentence in generate(CFG.fromstring(cfg_grammar), n=1000):\n",
    "    print(' '.join(sentence))"
   ]
  },
  {
   "cell_type": "code",
   "execution_count": 9,
   "metadata": {},
   "outputs": [
    {
     "name": "stdout",
     "output_type": "stream",
     "text": [
      "origine de |forward|termination|negated|10|Group[896]|PRE-VALIDATION\n",
      "début de |forward|termination|negated|10|Group[896]|PRE-VALIDATION\n",
      "commencement de |forward|termination|negated|10|Group[896]|PRE-VALIDATION\n",
      "provenance de |forward|termination|negated|10|Group[896]|PRE-VALIDATION\n",
      "cause de |forward|termination|negated|10|Group[896]|PRE-VALIDATION\n",
      "formation de |forward|termination|negated|10|Group[896]|PRE-VALIDATION\n",
      "base de |forward|termination|negated|10|Group[896]|PRE-VALIDATION\n",
      "fondement de |forward|termination|negated|10|Group[896]|PRE-VALIDATION\n",
      "prédéterminant de |forward|termination|negated|10|Group[896]|PRE-VALIDATION\n",
      "raison de |forward|termination|negated|10|Group[896]|PRE-VALIDATION\n",
      "départ de |forward|termination|negated|10|Group[896]|PRE-VALIDATION\n"
     ]
    }
   ],
   "source": [
    "from nltk.parse.generate import generate, demo_grammar\n",
    "from nltk import CFG\n",
    "\n",
    "cfg_grammar= \"\"\"\n",
    "S ->  Noun1 Adposition2 Trigger_Rule\n",
    "Noun1 -> \"origine\" | \"début\" | \"commencement\" | \"provenance\" | \"cause\" | \"formation\" | \"base\" | \"fondement\" | \"prédéterminant\" | \"raison\" | \"départ\"\n",
    "Adposition2 -> \"de\"\n",
    "Trigger_Rule -> \"|forward|termination|negated|10|Group[896]|PRE-VALIDATION\"\n",
    "\"\"\"\n",
    "\n",
    "for sentence in generate(CFG.fromstring(cfg_grammar), n=1000):\n",
    "    print(' '.join(sentence))"
   ]
  },
  {
   "cell_type": "code",
   "execution_count": 10,
   "metadata": {},
   "outputs": [
    {
     "name": "stdout",
     "output_type": "stream",
     "text": [
      "origine pour |forward|termination|negated|10|Group[896]|PRE-VALIDATION\n",
      "début pour |forward|termination|negated|10|Group[896]|PRE-VALIDATION\n",
      "commencement pour |forward|termination|negated|10|Group[896]|PRE-VALIDATION\n",
      "provenance pour |forward|termination|negated|10|Group[896]|PRE-VALIDATION\n",
      "cause pour |forward|termination|negated|10|Group[896]|PRE-VALIDATION\n",
      "formation pour |forward|termination|negated|10|Group[896]|PRE-VALIDATION\n",
      "base pour |forward|termination|negated|10|Group[896]|PRE-VALIDATION\n",
      "fondement pour |forward|termination|negated|10|Group[896]|PRE-VALIDATION\n",
      "prédéterminant pour |forward|termination|negated|10|Group[896]|PRE-VALIDATION\n",
      "raison pour |forward|termination|negated|10|Group[896]|PRE-VALIDATION\n",
      "départ pour |forward|termination|negated|10|Group[896]|PRE-VALIDATION\n"
     ]
    }
   ],
   "source": [
    "from nltk.parse.generate import generate, demo_grammar\n",
    "from nltk import CFG\n",
    "\n",
    "cfg_grammar= \"\"\"\n",
    "S ->  Noun1 Adposition2 Trigger_Rule\n",
    "Noun1 -> \"origine\" | \"début\" | \"commencement\" | \"provenance\" | \"cause\" | \"formation\" | \"base\" | \"fondement\" | \"prédéterminant\" | \"raison\" | \"départ\"\n",
    "Adposition2 -> \"pour\"\n",
    "Trigger_Rule -> \"|forward|termination|negated|10|Group[896]|PRE-VALIDATION\"\n",
    "\"\"\"\n",
    "\n",
    "for sentence in generate(CFG.fromstring(cfg_grammar), n=1000):\n",
    "    print(' '.join(sentence))"
   ]
  },
  {
   "cell_type": "code",
   "execution_count": 11,
   "metadata": {},
   "outputs": [
    {
     "name": "stdout",
     "output_type": "stream",
     "text": [
      "origines de |forward|termination|negated|10|Group[896]|PRE-VALIDATION\n",
      "source de |forward|termination|negated|10|Group[896]|PRE-VALIDATION\n",
      "début de |forward|termination|negated|10|Group[896]|PRE-VALIDATION\n",
      "commencement de |forward|termination|negated|10|Group[896]|PRE-VALIDATION\n",
      "naissance de |forward|termination|negated|10|Group[896]|PRE-VALIDATION\n",
      "provenance de |forward|termination|negated|10|Group[896]|PRE-VALIDATION\n",
      "cause de |forward|termination|negated|10|Group[896]|PRE-VALIDATION\n",
      "formation de |forward|termination|negated|10|Group[896]|PRE-VALIDATION\n",
      "base de |forward|termination|negated|10|Group[896]|PRE-VALIDATION\n",
      "fondement de |forward|termination|negated|10|Group[896]|PRE-VALIDATION\n",
      "genèse de |forward|termination|negated|10|Group[896]|PRE-VALIDATION\n",
      "prédéterminant de |forward|termination|negated|10|Group[896]|PRE-VALIDATION\n",
      "raison de |forward|termination|negated|10|Group[896]|PRE-VALIDATION\n",
      "départ de |forward|termination|negated|10|Group[896]|PRE-VALIDATION\n",
      "motif de |forward|termination|negated|10|Group[896]|PRE-VALIDATION\n"
     ]
    }
   ],
   "source": [
    "from nltk.parse.generate import generate, demo_grammar\n",
    "from nltk import CFG\n",
    "\n",
    "cfg_grammar= \"\"\"\n",
    "S ->  Noun1 Adposition2 Trigger_Rule\n",
    "Noun1 -> \"origines\" | \"source\" | \"début\" | \"commencement\" | \"naissance\" | \"provenance\" | \"cause\" | \"formation\" | \"base\" | \"fondement\" | \"genèse\" | \"prédéterminant\" | \"raison\" | \"départ\" | \"motif\"\n",
    "Adposition2 -> \"de\"\n",
    "Trigger_Rule -> \"|forward|termination|negated|10|Group[896]|PRE-VALIDATION\"\n",
    "\"\"\"\n",
    "\n",
    "for sentence in generate(CFG.fromstring(cfg_grammar), n=1000):\n",
    "    print(' '.join(sentence))"
   ]
  },
  {
   "cell_type": "code",
   "execution_count": 12,
   "metadata": {},
   "outputs": [
    {
     "name": "stdout",
     "output_type": "stream",
     "text": [
      "autres possibilités de |forward|termination|negated|10|Group[900]|PRE-VALIDATION\n",
      "autres alternative de |forward|termination|negated|10|Group[900]|PRE-VALIDATION\n",
      "autres cas de |forward|termination|negated|10|Group[900]|PRE-VALIDATION\n",
      "autres hypothèse de |forward|termination|negated|10|Group[900]|PRE-VALIDATION\n",
      "autres vraisemblance de |forward|termination|negated|10|Group[900]|PRE-VALIDATION\n",
      "autres potentiel de |forward|termination|negated|10|Group[900]|PRE-VALIDATION\n",
      "autres probabilité de |forward|termination|negated|10|Group[900]|PRE-VALIDATION\n",
      "autres chance de |forward|termination|negated|10|Group[900]|PRE-VALIDATION\n",
      "autres plausibilité de |forward|termination|negated|10|Group[900]|PRE-VALIDATION\n",
      "autres éventuel de |forward|termination|negated|10|Group[900]|PRE-VALIDATION\n",
      "autres possible de |forward|termination|negated|10|Group[900]|PRE-VALIDATION\n"
     ]
    }
   ],
   "source": [
    "from nltk.parse.generate import generate, demo_grammar\n",
    "from nltk import CFG\n",
    "\n",
    "cfg_grammar= \"\"\"\n",
    "S ->  Adjective1 Noun2 Adposition3 Trigger_Rule\n",
    "Adjective1 -> \"autres\"\n",
    "Noun2 -> \"possibilités\" | \"alternative\" | \"cas\" | \"hypothèse\" | \"vraisemblance\" | \"potentiel\" | \"probabilité\" | \"chance\" | \"plausibilité\" | \"éventuel\" | \"possible\"\n",
    "Adposition3 -> \"de\"\n",
    "Trigger_Rule -> \"|forward|termination|negated|10|Group[900]|PRE-VALIDATION\"\n",
    "\"\"\"\n",
    "\n",
    "for sentence in generate(CFG.fromstring(cfg_grammar), n=1000):\n",
    "    print(' '.join(sentence))"
   ]
  },
  {
   "cell_type": "code",
   "execution_count": 13,
   "metadata": {},
   "outputs": [
    {
     "name": "stdout",
     "output_type": "stream",
     "text": [
      "devrait être exclu pour |forward|trigger|uncertain|30|Group[901]|PRE-VALIDATION\n",
      "devrait être refusé pour |forward|trigger|uncertain|30|Group[901]|PRE-VALIDATION\n",
      "devrait être repoussé pour |forward|trigger|uncertain|30|Group[901]|PRE-VALIDATION\n",
      "devrait être rejeté pour |forward|trigger|uncertain|30|Group[901]|PRE-VALIDATION\n",
      "devrait être éliminé pour |forward|trigger|uncertain|30|Group[901]|PRE-VALIDATION\n",
      "devrait être proscrit pour |forward|trigger|uncertain|30|Group[901]|PRE-VALIDATION\n",
      "nécessité être exclu pour |forward|trigger|uncertain|30|Group[901]|PRE-VALIDATION\n",
      "nécessité être refusé pour |forward|trigger|uncertain|30|Group[901]|PRE-VALIDATION\n",
      "nécessité être repoussé pour |forward|trigger|uncertain|30|Group[901]|PRE-VALIDATION\n",
      "nécessité être rejeté pour |forward|trigger|uncertain|30|Group[901]|PRE-VALIDATION\n",
      "nécessité être éliminé pour |forward|trigger|uncertain|30|Group[901]|PRE-VALIDATION\n",
      "nécessité être proscrit pour |forward|trigger|uncertain|30|Group[901]|PRE-VALIDATION\n",
      "avoir à être exclu pour |forward|trigger|uncertain|30|Group[901]|PRE-VALIDATION\n",
      "avoir à être refusé pour |forward|trigger|uncertain|30|Group[901]|PRE-VALIDATION\n",
      "avoir à être repoussé pour |forward|trigger|uncertain|30|Group[901]|PRE-VALIDATION\n",
      "avoir à être rejeté pour |forward|trigger|uncertain|30|Group[901]|PRE-VALIDATION\n",
      "avoir à être éliminé pour |forward|trigger|uncertain|30|Group[901]|PRE-VALIDATION\n",
      "avoir à être proscrit pour |forward|trigger|uncertain|30|Group[901]|PRE-VALIDATION\n",
      "être obligé être exclu pour |forward|trigger|uncertain|30|Group[901]|PRE-VALIDATION\n",
      "être obligé être refusé pour |forward|trigger|uncertain|30|Group[901]|PRE-VALIDATION\n",
      "être obligé être repoussé pour |forward|trigger|uncertain|30|Group[901]|PRE-VALIDATION\n",
      "être obligé être rejeté pour |forward|trigger|uncertain|30|Group[901]|PRE-VALIDATION\n",
      "être obligé être éliminé pour |forward|trigger|uncertain|30|Group[901]|PRE-VALIDATION\n",
      "être obligé être proscrit pour |forward|trigger|uncertain|30|Group[901]|PRE-VALIDATION\n",
      "être tenu de être exclu pour |forward|trigger|uncertain|30|Group[901]|PRE-VALIDATION\n",
      "être tenu de être refusé pour |forward|trigger|uncertain|30|Group[901]|PRE-VALIDATION\n",
      "être tenu de être repoussé pour |forward|trigger|uncertain|30|Group[901]|PRE-VALIDATION\n",
      "être tenu de être rejeté pour |forward|trigger|uncertain|30|Group[901]|PRE-VALIDATION\n",
      "être tenu de être éliminé pour |forward|trigger|uncertain|30|Group[901]|PRE-VALIDATION\n",
      "être tenu de être proscrit pour |forward|trigger|uncertain|30|Group[901]|PRE-VALIDATION\n",
      "avoir besoin de être exclu pour |forward|trigger|uncertain|30|Group[901]|PRE-VALIDATION\n",
      "avoir besoin de être refusé pour |forward|trigger|uncertain|30|Group[901]|PRE-VALIDATION\n",
      "avoir besoin de être repoussé pour |forward|trigger|uncertain|30|Group[901]|PRE-VALIDATION\n",
      "avoir besoin de être rejeté pour |forward|trigger|uncertain|30|Group[901]|PRE-VALIDATION\n",
      "avoir besoin de être éliminé pour |forward|trigger|uncertain|30|Group[901]|PRE-VALIDATION\n",
      "avoir besoin de être proscrit pour |forward|trigger|uncertain|30|Group[901]|PRE-VALIDATION\n",
      "pourrait être exclu pour |forward|trigger|uncertain|30|Group[901]|PRE-VALIDATION\n",
      "pourrait être refusé pour |forward|trigger|uncertain|30|Group[901]|PRE-VALIDATION\n",
      "pourrait être repoussé pour |forward|trigger|uncertain|30|Group[901]|PRE-VALIDATION\n",
      "pourrait être rejeté pour |forward|trigger|uncertain|30|Group[901]|PRE-VALIDATION\n",
      "pourrait être éliminé pour |forward|trigger|uncertain|30|Group[901]|PRE-VALIDATION\n",
      "pourrait être proscrit pour |forward|trigger|uncertain|30|Group[901]|PRE-VALIDATION\n"
     ]
    }
   ],
   "source": [
    "from nltk.parse.generate import generate, demo_grammar\n",
    "from nltk import CFG\n",
    "\n",
    "cfg_grammar= \"\"\"\n",
    "S ->  Verb1 Auxiliary2 Verb3 Adposition4 Trigger_Rule\n",
    "Verb1 -> \"devrait\" | \"nécessité\" | \"avoir à\" | \"être obligé\" | \"être tenu de\" | \"avoir besoin de\" | \"pourrait\"\n",
    "Auxiliary2 -> \"être\"\n",
    "Verb3 -> \"exclu\" | \"refusé\" | \"repoussé\" | \"rejeté\" | \"éliminé\" | \"proscrit\"\n",
    "Adposition4 -> \"pour\"\n",
    "Trigger_Rule -> \"|forward|trigger|uncertain|30|Group[901]|PRE-VALIDATION\"\n",
    "\"\"\"\n",
    "\n",
    "for sentence in generate(CFG.fromstring(cfg_grammar), n=1000):\n",
    "    print(' '.join(sentence))"
   ]
  },
  {
   "cell_type": "code",
   "execution_count": 14,
   "metadata": {},
   "outputs": [
    {
     "name": "stdout",
     "output_type": "stream",
     "text": [
      "devrait être exclu |backward|trigger|uncertain|30|Group[902]|PRE-VALIDATION\n",
      "devrait être refusé |backward|trigger|uncertain|30|Group[902]|PRE-VALIDATION\n",
      "devrait être repoussé |backward|trigger|uncertain|30|Group[902]|PRE-VALIDATION\n",
      "devrait être rejeté |backward|trigger|uncertain|30|Group[902]|PRE-VALIDATION\n",
      "devrait être éliminé |backward|trigger|uncertain|30|Group[902]|PRE-VALIDATION\n",
      "devrait être proscrit |backward|trigger|uncertain|30|Group[902]|PRE-VALIDATION\n",
      "nécessité être exclu |backward|trigger|uncertain|30|Group[902]|PRE-VALIDATION\n",
      "nécessité être refusé |backward|trigger|uncertain|30|Group[902]|PRE-VALIDATION\n",
      "nécessité être repoussé |backward|trigger|uncertain|30|Group[902]|PRE-VALIDATION\n",
      "nécessité être rejeté |backward|trigger|uncertain|30|Group[902]|PRE-VALIDATION\n",
      "nécessité être éliminé |backward|trigger|uncertain|30|Group[902]|PRE-VALIDATION\n",
      "nécessité être proscrit |backward|trigger|uncertain|30|Group[902]|PRE-VALIDATION\n",
      "avoir à être exclu |backward|trigger|uncertain|30|Group[902]|PRE-VALIDATION\n",
      "avoir à être refusé |backward|trigger|uncertain|30|Group[902]|PRE-VALIDATION\n",
      "avoir à être repoussé |backward|trigger|uncertain|30|Group[902]|PRE-VALIDATION\n",
      "avoir à être rejeté |backward|trigger|uncertain|30|Group[902]|PRE-VALIDATION\n",
      "avoir à être éliminé |backward|trigger|uncertain|30|Group[902]|PRE-VALIDATION\n",
      "avoir à être proscrit |backward|trigger|uncertain|30|Group[902]|PRE-VALIDATION\n",
      "être obligé être exclu |backward|trigger|uncertain|30|Group[902]|PRE-VALIDATION\n",
      "être obligé être refusé |backward|trigger|uncertain|30|Group[902]|PRE-VALIDATION\n",
      "être obligé être repoussé |backward|trigger|uncertain|30|Group[902]|PRE-VALIDATION\n",
      "être obligé être rejeté |backward|trigger|uncertain|30|Group[902]|PRE-VALIDATION\n",
      "être obligé être éliminé |backward|trigger|uncertain|30|Group[902]|PRE-VALIDATION\n",
      "être obligé être proscrit |backward|trigger|uncertain|30|Group[902]|PRE-VALIDATION\n",
      "être tenu de être exclu |backward|trigger|uncertain|30|Group[902]|PRE-VALIDATION\n",
      "être tenu de être refusé |backward|trigger|uncertain|30|Group[902]|PRE-VALIDATION\n",
      "être tenu de être repoussé |backward|trigger|uncertain|30|Group[902]|PRE-VALIDATION\n",
      "être tenu de être rejeté |backward|trigger|uncertain|30|Group[902]|PRE-VALIDATION\n",
      "être tenu de être éliminé |backward|trigger|uncertain|30|Group[902]|PRE-VALIDATION\n",
      "être tenu de être proscrit |backward|trigger|uncertain|30|Group[902]|PRE-VALIDATION\n",
      "avoir besoin de être exclu |backward|trigger|uncertain|30|Group[902]|PRE-VALIDATION\n",
      "avoir besoin de être refusé |backward|trigger|uncertain|30|Group[902]|PRE-VALIDATION\n",
      "avoir besoin de être repoussé |backward|trigger|uncertain|30|Group[902]|PRE-VALIDATION\n",
      "avoir besoin de être rejeté |backward|trigger|uncertain|30|Group[902]|PRE-VALIDATION\n",
      "avoir besoin de être éliminé |backward|trigger|uncertain|30|Group[902]|PRE-VALIDATION\n",
      "avoir besoin de être proscrit |backward|trigger|uncertain|30|Group[902]|PRE-VALIDATION\n",
      "pourrait être exclu |backward|trigger|uncertain|30|Group[902]|PRE-VALIDATION\n",
      "pourrait être refusé |backward|trigger|uncertain|30|Group[902]|PRE-VALIDATION\n",
      "pourrait être repoussé |backward|trigger|uncertain|30|Group[902]|PRE-VALIDATION\n",
      "pourrait être rejeté |backward|trigger|uncertain|30|Group[902]|PRE-VALIDATION\n",
      "pourrait être éliminé |backward|trigger|uncertain|30|Group[902]|PRE-VALIDATION\n",
      "pourrait être proscrit |backward|trigger|uncertain|30|Group[902]|PRE-VALIDATION\n"
     ]
    }
   ],
   "source": [
    "from nltk.parse.generate import generate, demo_grammar\n",
    "from nltk import CFG\n",
    "\n",
    "cfg_grammar= \"\"\"\n",
    "S ->  Verb1 Auxiliary2 Verb3 Trigger_Rule\n",
    "Verb1 -> \"devrait\" | \"nécessité\" | \"avoir à\" | \"être obligé\" | \"être tenu de\" | \"avoir besoin de\" | \"pourrait\"\n",
    "Auxiliary2 -> \"être\"\n",
    "Verb3 -> \"exclu\" | \"refusé\" | \"repoussé\" | \"rejeté\" | \"éliminé\" | \"proscrit\"\n",
    "Trigger_Rule -> \"|backward|trigger|uncertain|30|Group[902]|PRE-VALIDATION\"\n",
    "\"\"\"\n",
    "\n",
    "for sentence in generate(CFG.fromstring(cfg_grammar), n=1000):\n",
    "    print(' '.join(sentence))"
   ]
  },
  {
   "cell_type": "code",
   "execution_count": 15,
   "metadata": {},
   "outputs": [
    {
     "name": "stdout",
     "output_type": "stream",
     "text": [
      "histoire passée |forward|trigger|historical|30|Group[903]|PRE-VALIDATION\n",
      "histoire conclure |forward|trigger|historical|30|Group[903]|PRE-VALIDATION\n",
      "histoire finie |forward|trigger|historical|30|Group[903]|PRE-VALIDATION\n",
      "passé passée |forward|trigger|historical|30|Group[903]|PRE-VALIDATION\n",
      "passé conclure |forward|trigger|historical|30|Group[903]|PRE-VALIDATION\n",
      "passé finie |forward|trigger|historical|30|Group[903]|PRE-VALIDATION\n",
      "souvenir passée |forward|trigger|historical|30|Group[903]|PRE-VALIDATION\n",
      "souvenir conclure |forward|trigger|historical|30|Group[903]|PRE-VALIDATION\n",
      "souvenir finie |forward|trigger|historical|30|Group[903]|PRE-VALIDATION\n",
      "historique passée |forward|trigger|historical|30|Group[903]|PRE-VALIDATION\n",
      "historique conclure |forward|trigger|historical|30|Group[903]|PRE-VALIDATION\n",
      "historique finie |forward|trigger|historical|30|Group[903]|PRE-VALIDATION\n"
     ]
    }
   ],
   "source": [
    "from nltk.parse.generate import generate, demo_grammar\n",
    "from nltk import CFG\n",
    "\n",
    "cfg_grammar= \"\"\"\n",
    "S ->  Noun1 Verb2 Trigger_Rule\n",
    "Noun1 -> \"histoire\" | \"passé\" | \"souvenir\" | \"historique\"\n",
    "Verb2 -> \"passée\" | \"conclure\" | \"finie\"\n",
    "Trigger_Rule -> \"|forward|trigger|historical|30|Group[903]|PRE-VALIDATION\"\n",
    "\"\"\"\n",
    "\n",
    "for sentence in generate(CFG.fromstring(cfg_grammar), n=1000):\n",
    "    print(' '.join(sentence))"
   ]
  },
  {
   "cell_type": "code",
   "execution_count": 16,
   "metadata": {},
   "outputs": [
    {
     "name": "stdout",
     "output_type": "stream",
     "text": [
      "antécédents médicaux |forward|trigger|historical|30|Group[904]|PRE-VALIDATION\n",
      "antérieur médicaux |forward|trigger|historical|30|Group[904]|PRE-VALIDATION\n",
      "préalable médicaux |forward|trigger|historical|30|Group[904]|PRE-VALIDATION\n",
      "préexistant médicaux |forward|trigger|historical|30|Group[904]|PRE-VALIDATION\n",
      "passé médicaux |forward|trigger|historical|30|Group[904]|PRE-VALIDATION\n",
      "hérédité médicaux |forward|trigger|historical|30|Group[904]|PRE-VALIDATION\n",
      "précurseur médicaux |forward|trigger|historical|30|Group[904]|PRE-VALIDATION\n",
      "précédente médicaux |forward|trigger|historical|30|Group[904]|PRE-VALIDATION\n",
      "antériorité médicaux |forward|trigger|historical|30|Group[904]|PRE-VALIDATION\n",
      "préliminaire médicaux |forward|trigger|historical|30|Group[904]|PRE-VALIDATION\n",
      "condition médicaux |forward|trigger|historical|30|Group[904]|PRE-VALIDATION\n",
      "premier médicaux |forward|trigger|historical|30|Group[904]|PRE-VALIDATION\n",
      "antan médicaux |forward|trigger|historical|30|Group[904]|PRE-VALIDATION\n",
      "ancienneté médicaux |forward|trigger|historical|30|Group[904]|PRE-VALIDATION\n",
      "antécédence médicaux |forward|trigger|historical|30|Group[904]|PRE-VALIDATION\n"
     ]
    }
   ],
   "source": [
    "from nltk.parse.generate import generate, demo_grammar\n",
    "from nltk import CFG\n",
    "\n",
    "cfg_grammar= \"\"\"\n",
    "S ->  Noun1 Adjective2 Trigger_Rule\n",
    "Noun1 -> \"antécédents\" | \"antérieur\" | \"préalable\" | \"préexistant\" | \"passé\" | \"hérédité\" | \"précurseur\" | \"précédente\" | \"antériorité\" | \"préliminaire\" | \"condition\" | \"premier\" | \"antan\" | \"ancienneté\" | \"antécédence\"\n",
    "Adjective2 -> \"médicaux\"\n",
    "Trigger_Rule -> \"|forward|trigger|historical|30|Group[904]|PRE-VALIDATION\"\n",
    "\"\"\"\n",
    "\n",
    "for sentence in generate(CFG.fromstring(cfg_grammar), n=1000):\n",
    "    print(' '.join(sentence))"
   ]
  },
  {
   "cell_type": "code",
   "execution_count": 17,
   "metadata": {},
   "outputs": [
    {
     "name": "stdout",
     "output_type": "stream",
     "text": [
      "patient a continué à |forward|termination|negated|10|Group[905]|PRE-VALIDATION\n",
      "patient a reconduire à |forward|termination|negated|10|Group[905]|PRE-VALIDATION\n",
      "patient a perpétuer à |forward|termination|negated|10|Group[905]|PRE-VALIDATION\n",
      "patient a conserver à |forward|termination|negated|10|Group[905]|PRE-VALIDATION\n",
      "patient a suivre à |forward|termination|negated|10|Group[905]|PRE-VALIDATION\n",
      "patient a tenir à |forward|termination|negated|10|Group[905]|PRE-VALIDATION\n",
      "patient a se poursuivre à |forward|termination|negated|10|Group[905]|PRE-VALIDATION\n",
      "patient a donner suite à |forward|termination|negated|10|Group[905]|PRE-VALIDATION\n",
      "patient a se perpétuer à |forward|termination|negated|10|Group[905]|PRE-VALIDATION\n",
      "patient a s'acharner à |forward|termination|negated|10|Group[905]|PRE-VALIDATION\n",
      "patient a s'obstiner à |forward|termination|negated|10|Group[905]|PRE-VALIDATION\n",
      "patient a entretenir à |forward|termination|negated|10|Group[905]|PRE-VALIDATION\n",
      "patient a perdurer à |forward|termination|negated|10|Group[905]|PRE-VALIDATION\n",
      "patient a opiniâtrer à |forward|termination|negated|10|Group[905]|PRE-VALIDATION\n",
      "patient a entêter à |forward|termination|negated|10|Group[905]|PRE-VALIDATION\n",
      "client a continué à |forward|termination|negated|10|Group[905]|PRE-VALIDATION\n",
      "client a reconduire à |forward|termination|negated|10|Group[905]|PRE-VALIDATION\n",
      "client a perpétuer à |forward|termination|negated|10|Group[905]|PRE-VALIDATION\n",
      "client a conserver à |forward|termination|negated|10|Group[905]|PRE-VALIDATION\n",
      "client a suivre à |forward|termination|negated|10|Group[905]|PRE-VALIDATION\n",
      "client a tenir à |forward|termination|negated|10|Group[905]|PRE-VALIDATION\n",
      "client a se poursuivre à |forward|termination|negated|10|Group[905]|PRE-VALIDATION\n",
      "client a donner suite à |forward|termination|negated|10|Group[905]|PRE-VALIDATION\n",
      "client a se perpétuer à |forward|termination|negated|10|Group[905]|PRE-VALIDATION\n",
      "client a s'acharner à |forward|termination|negated|10|Group[905]|PRE-VALIDATION\n",
      "client a s'obstiner à |forward|termination|negated|10|Group[905]|PRE-VALIDATION\n",
      "client a entretenir à |forward|termination|negated|10|Group[905]|PRE-VALIDATION\n",
      "client a perdurer à |forward|termination|negated|10|Group[905]|PRE-VALIDATION\n",
      "client a opiniâtrer à |forward|termination|negated|10|Group[905]|PRE-VALIDATION\n",
      "client a entêter à |forward|termination|negated|10|Group[905]|PRE-VALIDATION\n",
      "souffrant a continué à |forward|termination|negated|10|Group[905]|PRE-VALIDATION\n",
      "souffrant a reconduire à |forward|termination|negated|10|Group[905]|PRE-VALIDATION\n",
      "souffrant a perpétuer à |forward|termination|negated|10|Group[905]|PRE-VALIDATION\n",
      "souffrant a conserver à |forward|termination|negated|10|Group[905]|PRE-VALIDATION\n",
      "souffrant a suivre à |forward|termination|negated|10|Group[905]|PRE-VALIDATION\n",
      "souffrant a tenir à |forward|termination|negated|10|Group[905]|PRE-VALIDATION\n",
      "souffrant a se poursuivre à |forward|termination|negated|10|Group[905]|PRE-VALIDATION\n",
      "souffrant a donner suite à |forward|termination|negated|10|Group[905]|PRE-VALIDATION\n",
      "souffrant a se perpétuer à |forward|termination|negated|10|Group[905]|PRE-VALIDATION\n",
      "souffrant a s'acharner à |forward|termination|negated|10|Group[905]|PRE-VALIDATION\n",
      "souffrant a s'obstiner à |forward|termination|negated|10|Group[905]|PRE-VALIDATION\n",
      "souffrant a entretenir à |forward|termination|negated|10|Group[905]|PRE-VALIDATION\n",
      "souffrant a perdurer à |forward|termination|negated|10|Group[905]|PRE-VALIDATION\n",
      "souffrant a opiniâtrer à |forward|termination|negated|10|Group[905]|PRE-VALIDATION\n",
      "souffrant a entêter à |forward|termination|negated|10|Group[905]|PRE-VALIDATION\n",
      "sujet a continué à |forward|termination|negated|10|Group[905]|PRE-VALIDATION\n",
      "sujet a reconduire à |forward|termination|negated|10|Group[905]|PRE-VALIDATION\n",
      "sujet a perpétuer à |forward|termination|negated|10|Group[905]|PRE-VALIDATION\n",
      "sujet a conserver à |forward|termination|negated|10|Group[905]|PRE-VALIDATION\n",
      "sujet a suivre à |forward|termination|negated|10|Group[905]|PRE-VALIDATION\n",
      "sujet a tenir à |forward|termination|negated|10|Group[905]|PRE-VALIDATION\n",
      "sujet a se poursuivre à |forward|termination|negated|10|Group[905]|PRE-VALIDATION\n",
      "sujet a donner suite à |forward|termination|negated|10|Group[905]|PRE-VALIDATION\n",
      "sujet a se perpétuer à |forward|termination|negated|10|Group[905]|PRE-VALIDATION\n",
      "sujet a s'acharner à |forward|termination|negated|10|Group[905]|PRE-VALIDATION\n",
      "sujet a s'obstiner à |forward|termination|negated|10|Group[905]|PRE-VALIDATION\n",
      "sujet a entretenir à |forward|termination|negated|10|Group[905]|PRE-VALIDATION\n",
      "sujet a perdurer à |forward|termination|negated|10|Group[905]|PRE-VALIDATION\n",
      "sujet a opiniâtrer à |forward|termination|negated|10|Group[905]|PRE-VALIDATION\n",
      "sujet a entêter à |forward|termination|negated|10|Group[905]|PRE-VALIDATION\n"
     ]
    }
   ],
   "source": [
    "from nltk.parse.generate import generate, demo_grammar\n",
    "from nltk import CFG\n",
    "\n",
    "cfg_grammar= \"\"\"\n",
    "S ->  Noun1 Auxiliary2 Verb3 Adposition4 Trigger_Rule\n",
    "Noun1 -> \"patient\" | \"client\" | \"souffrant\" | \"sujet\"\n",
    "Auxiliary2 -> \"a\"\n",
    "Verb3 -> \"continué\" | \"reconduire\" | \"perpétuer\" | \"conserver\" | \"suivre\" | \"tenir\" | \"se poursuivre\" | \"donner suite\" | \"se perpétuer\" | \"s'acharner\" | \"s'obstiner\" | \"entretenir\" | \"perdurer\" | \"opiniâtrer\" | \"entêter\"\n",
    "Adposition4 -> \"à\"\n",
    "Trigger_Rule -> \"|forward|termination|negated|10|Group[905]|PRE-VALIDATION\"\n",
    "\"\"\"\n",
    "\n",
    "for sentence in generate(CFG.fromstring(cfg_grammar), n=1000):\n",
    "    print(' '.join(sentence))"
   ]
  },
  {
   "cell_type": "code",
   "execution_count": 18,
   "metadata": {},
   "outputs": [
    {
     "name": "stdout",
     "output_type": "stream",
     "text": [
      "le patient n'était pas |forward|trigger|negated|10|Group[906]|PRE-VALIDATION\n",
      "le client n'était pas |forward|trigger|negated|10|Group[906]|PRE-VALIDATION\n",
      "le souffrant n'était pas |forward|trigger|negated|10|Group[906]|PRE-VALIDATION\n",
      "le sujet n'était pas |forward|trigger|negated|10|Group[906]|PRE-VALIDATION\n"
     ]
    }
   ],
   "source": [
    "from nltk.parse.generate import generate, demo_grammar\n",
    "from nltk import CFG\n",
    "\n",
    "cfg_grammar= \"\"\"\n",
    "S ->  Determiner1 Noun2 Auxiliary4 Adverb5 Trigger_Rule\n",
    "Determiner1 -> \"le\"\n",
    "Noun2 -> \"patient\" | \"client\" | \"souffrant\" | \"sujet\"\n",
    "Auxiliary4 -> \"n'était\"\n",
    "Adverb5 -> \"pas\"\n",
    "Trigger_Rule -> \"|forward|trigger|negated|10|Group[906]|PRE-VALIDATION\"\n",
    "\"\"\"\n",
    "\n",
    "for sentence in generate(CFG.fromstring(cfg_grammar), n=1000):\n",
    "    print(' '.join(sentence))"
   ]
  },
  {
   "cell_type": "code",
   "execution_count": 19,
   "metadata": {},
   "outputs": [
    {
     "name": "stdout",
     "output_type": "stream",
     "text": [
      "les patients |both|termination|historical|30|Group[908, 911]|PRE-VALIDATION\n",
      "les patients |both|termination|nonpatient|30|Group[908, 911]|PRE-VALIDATION\n"
     ]
    }
   ],
   "source": [
    "from nltk.parse.generate import generate, demo_grammar\n",
    "from nltk import CFG\n",
    "\n",
    "cfg_grammar= \"\"\"\n",
    "S ->  Determiner1 Noun2 Trigger_Rule\n",
    "Determiner1 -> \"les\"\n",
    "Noun2 -> \"patients\"\n",
    "Trigger_Rule -> \"|both|termination|historical|30|Group[908, 911]|PRE-VALIDATION\"|\"|both|termination|nonpatient|30|Group[908, 911]|PRE-VALIDATION\"\n",
    "\"\"\"\n",
    "\n",
    "for sentence in generate(CFG.fromstring(cfg_grammar), n=1000):\n",
    "    print(' '.join(sentence))"
   ]
  },
  {
   "cell_type": "code",
   "execution_count": 20,
   "metadata": {},
   "outputs": [
    {
     "name": "stdout",
     "output_type": "stream",
     "text": [
      "patient |both|termination|historical|30|Group[908, 911]|PRE-VALIDATION\n",
      "patient |both|termination|nonpatient|30|Group[908, 911]|PRE-VALIDATION\n",
      "client |both|termination|historical|30|Group[908, 911]|PRE-VALIDATION\n",
      "client |both|termination|nonpatient|30|Group[908, 911]|PRE-VALIDATION\n",
      "souffrant |both|termination|historical|30|Group[908, 911]|PRE-VALIDATION\n",
      "souffrant |both|termination|nonpatient|30|Group[908, 911]|PRE-VALIDATION\n",
      "sujet |both|termination|historical|30|Group[908, 911]|PRE-VALIDATION\n",
      "sujet |both|termination|nonpatient|30|Group[908, 911]|PRE-VALIDATION\n"
     ]
    }
   ],
   "source": [
    "from nltk.parse.generate import generate, demo_grammar\n",
    "from nltk import CFG\n",
    "\n",
    "cfg_grammar= \"\"\"\n",
    "S ->  Noun1 Trigger_Rule\n",
    "Noun1 -> \"patient\" | \"client\" | \"souffrant\" | \"sujet\"\n",
    "Trigger_Rule -> \"|both|termination|historical|30|Group[908, 911]|PRE-VALIDATION\"|\"|both|termination|nonpatient|30|Group[908, 911]|PRE-VALIDATION\"\n",
    "\"\"\"\n",
    "\n",
    "for sentence in generate(CFG.fromstring(cfg_grammar), n=1000):\n",
    "    print(' '.join(sentence))"
   ]
  },
  {
   "cell_type": "code",
   "execution_count": 21,
   "metadata": {},
   "outputs": [
    {
     "name": "stdout",
     "output_type": "stream",
     "text": [
      "pauvre histoire |both|pseudo|historical|30|Group[912]|PRE-VALIDATION\n",
      "pauvre passé |both|pseudo|historical|30|Group[912]|PRE-VALIDATION\n",
      "pauvre souvenir |both|pseudo|historical|30|Group[912]|PRE-VALIDATION\n",
      "pauvre historique |both|pseudo|historical|30|Group[912]|PRE-VALIDATION\n",
      "faible histoire |both|pseudo|historical|30|Group[912]|PRE-VALIDATION\n",
      "faible passé |both|pseudo|historical|30|Group[912]|PRE-VALIDATION\n",
      "faible souvenir |both|pseudo|historical|30|Group[912]|PRE-VALIDATION\n",
      "faible historique |both|pseudo|historical|30|Group[912]|PRE-VALIDATION\n",
      "court histoire |both|pseudo|historical|30|Group[912]|PRE-VALIDATION\n",
      "court passé |both|pseudo|historical|30|Group[912]|PRE-VALIDATION\n",
      "court souvenir |both|pseudo|historical|30|Group[912]|PRE-VALIDATION\n",
      "court historique |both|pseudo|historical|30|Group[912]|PRE-VALIDATION\n",
      "petit histoire |both|pseudo|historical|30|Group[912]|PRE-VALIDATION\n",
      "petit passé |both|pseudo|historical|30|Group[912]|PRE-VALIDATION\n",
      "petit souvenir |both|pseudo|historical|30|Group[912]|PRE-VALIDATION\n",
      "petit historique |both|pseudo|historical|30|Group[912]|PRE-VALIDATION\n",
      "modique histoire |both|pseudo|historical|30|Group[912]|PRE-VALIDATION\n",
      "modique passé |both|pseudo|historical|30|Group[912]|PRE-VALIDATION\n",
      "modique souvenir |both|pseudo|historical|30|Group[912]|PRE-VALIDATION\n",
      "modique historique |both|pseudo|historical|30|Group[912]|PRE-VALIDATION\n",
      "jeune histoire |both|pseudo|historical|30|Group[912]|PRE-VALIDATION\n",
      "jeune passé |both|pseudo|historical|30|Group[912]|PRE-VALIDATION\n",
      "jeune souvenir |both|pseudo|historical|30|Group[912]|PRE-VALIDATION\n",
      "jeune historique |both|pseudo|historical|30|Group[912]|PRE-VALIDATION\n",
      "banal histoire |both|pseudo|historical|30|Group[912]|PRE-VALIDATION\n",
      "banal passé |both|pseudo|historical|30|Group[912]|PRE-VALIDATION\n",
      "banal souvenir |both|pseudo|historical|30|Group[912]|PRE-VALIDATION\n",
      "banal historique |both|pseudo|historical|30|Group[912]|PRE-VALIDATION\n"
     ]
    }
   ],
   "source": [
    "from nltk.parse.generate import generate, demo_grammar\n",
    "from nltk import CFG\n",
    "\n",
    "cfg_grammar= \"\"\"\n",
    "S ->  Verb1 Noun2 Trigger_Rule\n",
    "Verb1 -> \"pauvre\" | \"faible\" | \"court\" | \"petit\" | \"modique\" | \"jeune\" | \"banal\"\n",
    "Noun2 -> \"histoire\" | \"passé\" | \"souvenir\" | \"historique\"\n",
    "Trigger_Rule -> \"|both|pseudo|historical|30|Group[912]|PRE-VALIDATION\"\n",
    "\"\"\"\n",
    "\n",
    "for sentence in generate(CFG.fromstring(cfg_grammar), n=1000):\n",
    "    print(' '.join(sentence))"
   ]
  },
  {
   "cell_type": "code",
   "execution_count": 22,
   "metadata": {},
   "outputs": [
    {
     "name": "stdout",
     "output_type": "stream",
     "text": [
      "poss |forward|trigger|uncertain|30|Group[913]|PRE-VALIDATION\n"
     ]
    }
   ],
   "source": [
    "from nltk.parse.generate import generate, demo_grammar\n",
    "from nltk import CFG\n",
    "\n",
    "cfg_grammar= \"\"\"\n",
    "S ->  Adjective1 Trigger_Rule\n",
    "Adjective1 -> \"poss\"\n",
    "Trigger_Rule -> \"|forward|trigger|uncertain|30|Group[913]|PRE-VALIDATION\"\n",
    "\"\"\"\n",
    "\n",
    "for sentence in generate(CFG.fromstring(cfg_grammar), n=1000):\n",
    "    print(' '.join(sentence))"
   ]
  },
  {
   "cell_type": "code",
   "execution_count": 23,
   "metadata": {},
   "outputs": [
    {
     "name": "stdout",
     "output_type": "stream",
     "text": [
      "possibilité de |forward|trigger|uncertain|30|Group[913]|PRE-VALIDATION\n",
      "alternative de |forward|trigger|uncertain|30|Group[913]|PRE-VALIDATION\n",
      "cas de |forward|trigger|uncertain|30|Group[913]|PRE-VALIDATION\n",
      "hypothèse de |forward|trigger|uncertain|30|Group[913]|PRE-VALIDATION\n",
      "probabilité de |forward|trigger|uncertain|30|Group[913]|PRE-VALIDATION\n",
      "chance de |forward|trigger|uncertain|30|Group[913]|PRE-VALIDATION\n"
     ]
    }
   ],
   "source": [
    "from nltk.parse.generate import generate, demo_grammar\n",
    "from nltk import CFG\n",
    "\n",
    "cfg_grammar= \"\"\"\n",
    "S ->  Noun1 Adposition2 Trigger_Rule\n",
    "Noun1 -> \"possibilité\" | \"alternative\" | \"cas\" | \"hypothèse\" | \"probabilité\" | \"chance\"\n",
    "Adposition2 -> \"de\"\n",
    "Trigger_Rule -> \"|forward|trigger|uncertain|30|Group[913]|PRE-VALIDATION\"\n",
    "\"\"\"\n",
    "\n",
    "for sentence in generate(CFG.fromstring(cfg_grammar), n=1000):\n",
    "    print(' '.join(sentence))"
   ]
  },
  {
   "cell_type": "code",
   "execution_count": 24,
   "metadata": {},
   "outputs": [
    {
     "name": "stdout",
     "output_type": "stream",
     "text": [
      "peut-être |forward|trigger|uncertain|30|Group[913]|PRE-VALIDATION\n"
     ]
    }
   ],
   "source": [
    "from nltk.parse.generate import generate, demo_grammar\n",
    "from nltk import CFG\n",
    "\n",
    "cfg_grammar= \"\"\"\n",
    "S ->  Adverb1 Trigger_Rule\n",
    "Adverb1 -> \"peut-être\"\n",
    "Trigger_Rule -> \"|forward|trigger|uncertain|30|Group[913]|PRE-VALIDATION\"\n",
    "\"\"\"\n",
    "\n",
    "for sentence in generate(CFG.fromstring(cfg_grammar), n=1000):\n",
    "    print(' '.join(sentence))"
   ]
  },
  {
   "cell_type": "code",
   "execution_count": 25,
   "metadata": {},
   "outputs": [
    {
     "name": "stdout",
     "output_type": "stream",
     "text": [
      "possible |forward|trigger|uncertain|30|Group[913, 914]|PRE-VALIDATION\n",
      "possible |forward|trigger|conditional|30|Group[913, 914]|PRE-VALIDATION\n"
     ]
    }
   ],
   "source": [
    "from nltk.parse.generate import generate, demo_grammar\n",
    "from nltk import CFG\n",
    "\n",
    "cfg_grammar= \"\"\"\n",
    "S ->  Adjective1 Trigger_Rule\n",
    "Adjective1 -> \"possible\"\n",
    "Trigger_Rule -> \"|forward|trigger|uncertain|30|Group[913, 914]|PRE-VALIDATION\"|\"|forward|trigger|conditional|30|Group[913, 914]|PRE-VALIDATION\"\n",
    "\"\"\"\n",
    "\n",
    "for sentence in generate(CFG.fromstring(cfg_grammar), n=1000):\n",
    "    print(' '.join(sentence))"
   ]
  },
  {
   "cell_type": "code",
   "execution_count": 26,
   "metadata": {},
   "outputs": [
    {
     "name": "stdout",
     "output_type": "stream",
     "text": [
      "présente |both|termination|historical|30|Group[918, 919]|PRE-VALIDATION\n",
      "présente |both|termination|nonpatient|30|Group[918, 919]|PRE-VALIDATION\n"
     ]
    }
   ],
   "source": [
    "from nltk.parse.generate import generate, demo_grammar\n",
    "from nltk import CFG\n",
    "\n",
    "cfg_grammar= \"\"\"\n",
    "S ->  Adjective1 Trigger_Rule\n",
    "Adjective1 -> \"présente\"\n",
    "Trigger_Rule -> \"|both|termination|historical|30|Group[918, 919]|PRE-VALIDATION\"|\"|both|termination|nonpatient|30|Group[918, 919]|PRE-VALIDATION\"\n",
    "\"\"\"\n",
    "\n",
    "for sentence in generate(CFG.fromstring(cfg_grammar), n=1000):\n",
    "    print(' '.join(sentence))"
   ]
  },
  {
   "cell_type": "code",
   "execution_count": 27,
   "metadata": {},
   "outputs": [
    {
     "name": "stdout",
     "output_type": "stream",
     "text": [
      "en présentant |both|termination|historical|30|Group[918, 919]|PRE-VALIDATION\n",
      "en présentant |both|termination|nonpatient|30|Group[918, 919]|PRE-VALIDATION\n",
      "en révéler |both|termination|historical|30|Group[918, 919]|PRE-VALIDATION\n",
      "en révéler |both|termination|nonpatient|30|Group[918, 919]|PRE-VALIDATION\n",
      "en exposer |both|termination|historical|30|Group[918, 919]|PRE-VALIDATION\n",
      "en exposer |both|termination|nonpatient|30|Group[918, 919]|PRE-VALIDATION\n",
      "en étaler |both|termination|historical|30|Group[918, 919]|PRE-VALIDATION\n",
      "en étaler |both|termination|nonpatient|30|Group[918, 919]|PRE-VALIDATION\n",
      "en constituer |both|termination|historical|30|Group[918, 919]|PRE-VALIDATION\n",
      "en constituer |both|termination|nonpatient|30|Group[918, 919]|PRE-VALIDATION\n",
      "en afficher |both|termination|historical|30|Group[918, 919]|PRE-VALIDATION\n",
      "en afficher |both|termination|nonpatient|30|Group[918, 919]|PRE-VALIDATION\n",
      "en exhiber |both|termination|historical|30|Group[918, 919]|PRE-VALIDATION\n",
      "en exhiber |both|termination|nonpatient|30|Group[918, 919]|PRE-VALIDATION\n",
      "en avancer |both|termination|historical|30|Group[918, 919]|PRE-VALIDATION\n",
      "en avancer |both|termination|nonpatient|30|Group[918, 919]|PRE-VALIDATION\n",
      "en montrer |both|termination|historical|30|Group[918, 919]|PRE-VALIDATION\n",
      "en montrer |both|termination|nonpatient|30|Group[918, 919]|PRE-VALIDATION\n",
      "en mettre en évidence |both|termination|historical|30|Group[918, 919]|PRE-VALIDATION\n",
      "en mettre en évidence |both|termination|nonpatient|30|Group[918, 919]|PRE-VALIDATION\n"
     ]
    }
   ],
   "source": [
    "from nltk.parse.generate import generate, demo_grammar\n",
    "from nltk import CFG\n",
    "\n",
    "cfg_grammar= \"\"\"\n",
    "S ->  Adposition1 Verb2 Trigger_Rule\n",
    "Adposition1 -> \"en\"\n",
    "Verb2 -> \"présentant\" | \"révéler\" | \"exposer\" | \"étaler\" | \"constituer\" | \"afficher\" | \"exhiber\" | \"avancer\" | \"montrer\" | \"mettre en évidence\"\n",
    "Trigger_Rule -> \"|both|termination|historical|30|Group[918, 919]|PRE-VALIDATION\"|\"|both|termination|nonpatient|30|Group[918, 919]|PRE-VALIDATION\"\n",
    "\"\"\"\n",
    "\n",
    "for sentence in generate(CFG.fromstring(cfg_grammar), n=1000):\n",
    "    print(' '.join(sentence))"
   ]
  },
  {
   "cell_type": "code",
   "execution_count": 28,
   "metadata": {},
   "outputs": [
    {
     "name": "stdout",
     "output_type": "stream",
     "text": [
      "probablement |forward|trigger|uncertain|30|Group[922]|PRE-VALIDATION\n"
     ]
    }
   ],
   "source": [
    "from nltk.parse.generate import generate, demo_grammar\n",
    "from nltk import CFG\n",
    "\n",
    "cfg_grammar= \"\"\"\n",
    "S ->  Adverb1 Trigger_Rule\n",
    "Adverb1 -> \"probablement\"\n",
    "Trigger_Rule -> \"|forward|trigger|uncertain|30|Group[922]|PRE-VALIDATION\"\n",
    "\"\"\"\n",
    "\n",
    "for sentence in generate(CFG.fromstring(cfg_grammar), n=1000):\n",
    "    print(' '.join(sentence))"
   ]
  },
  {
   "cell_type": "code",
   "execution_count": 29,
   "metadata": {},
   "outputs": [
    {
     "name": "stdout",
     "output_type": "stream",
     "text": [
      "probablement |forward|trigger|uncertain|30|Group[922]|PRE-VALIDATION\n"
     ]
    }
   ],
   "source": [
    "from nltk.parse.generate import generate, demo_grammar\n",
    "from nltk import CFG\n",
    "\n",
    "cfg_grammar= \"\"\"\n",
    "S ->  Adverb1 Trigger_Rule\n",
    "Adverb1 -> \"probablement\"\n",
    "Trigger_Rule -> \"|forward|trigger|uncertain|30|Group[922]|PRE-VALIDATION\"\n",
    "\"\"\"\n",
    "\n",
    "for sentence in generate(CFG.fromstring(cfg_grammar), n=1000):\n",
    "    print(' '.join(sentence))"
   ]
  },
  {
   "cell_type": "code",
   "execution_count": 30,
   "metadata": {},
   "outputs": [
    {
     "name": "stdout",
     "output_type": "stream",
     "text": [
      "présumé |forward|trigger|uncertain|30|Group[923]|PRE-VALIDATION\n",
      "soupçonner |forward|trigger|uncertain|30|Group[923]|PRE-VALIDATION\n",
      "estimer |forward|trigger|uncertain|30|Group[923]|PRE-VALIDATION\n",
      "conjecturer |forward|trigger|uncertain|30|Group[923]|PRE-VALIDATION\n",
      "pressentir |forward|trigger|uncertain|30|Group[923]|PRE-VALIDATION\n",
      "présager |forward|trigger|uncertain|30|Group[923]|PRE-VALIDATION\n",
      "espérer |forward|trigger|uncertain|30|Group[923]|PRE-VALIDATION\n",
      "attendre |forward|trigger|uncertain|30|Group[923]|PRE-VALIDATION\n",
      "compter |forward|trigger|uncertain|30|Group[923]|PRE-VALIDATION\n",
      "préjuger |forward|trigger|uncertain|30|Group[923]|PRE-VALIDATION\n",
      "présupposer |forward|trigger|uncertain|30|Group[923]|PRE-VALIDATION\n",
      "prétendre |forward|trigger|uncertain|30|Group[923]|PRE-VALIDATION\n",
      "prédire |forward|trigger|uncertain|30|Group[923]|PRE-VALIDATION\n"
     ]
    }
   ],
   "source": [
    "from nltk.parse.generate import generate, demo_grammar\n",
    "from nltk import CFG\n",
    "\n",
    "cfg_grammar= \"\"\"\n",
    "S ->  Noun1 Trigger_Rule\n",
    "Noun1 -> \"présumé\" | \"soupçonner\" | \"estimer\" | \"conjecturer\" | \"pressentir\" | \"présager\" | \"espérer\" | \"attendre\" | \"compter\" | \"préjuger\" | \"présupposer\" | \"prétendre\" | \"prédire\"\n",
    "Trigger_Rule -> \"|forward|trigger|uncertain|30|Group[923]|PRE-VALIDATION\"\n",
    "\"\"\"\n",
    "\n",
    "for sentence in generate(CFG.fromstring(cfg_grammar), n=1000):\n",
    "    print(' '.join(sentence))"
   ]
  },
  {
   "cell_type": "code",
   "execution_count": 31,
   "metadata": {},
   "outputs": [
    {
     "name": "stdout",
     "output_type": "stream",
     "text": [
      "antérieur à |forward|termination|negated|10|Group[924]|PRE-VALIDATION\n",
      "précédent à |forward|termination|negated|10|Group[924]|PRE-VALIDATION\n",
      "antécédent à |forward|termination|negated|10|Group[924]|PRE-VALIDATION\n",
      "antéposé à |forward|termination|negated|10|Group[924]|PRE-VALIDATION\n",
      "préexistant à |forward|termination|negated|10|Group[924]|PRE-VALIDATION\n",
      "ancien à |forward|termination|negated|10|Group[924]|PRE-VALIDATION\n",
      "premier à |forward|termination|negated|10|Group[924]|PRE-VALIDATION\n",
      "anténuptial à |forward|termination|negated|10|Group[924]|PRE-VALIDATION\n",
      "avant à |forward|termination|negated|10|Group[924]|PRE-VALIDATION\n",
      "passé à |forward|termination|negated|10|Group[924]|PRE-VALIDATION\n",
      "préliminaire à |forward|termination|negated|10|Group[924]|PRE-VALIDATION\n",
      "plus ancien à |forward|termination|negated|10|Group[924]|PRE-VALIDATION\n",
      "ancienne à |forward|termination|negated|10|Group[924]|PRE-VALIDATION\n",
      "première à |forward|termination|negated|10|Group[924]|PRE-VALIDATION\n",
      "ATCD à |forward|termination|negated|10|Group[924]|PRE-VALIDATION\n"
     ]
    }
   ],
   "source": [
    "from nltk.parse.generate import generate, demo_grammar\n",
    "from nltk import CFG\n",
    "\n",
    "cfg_grammar= \"\"\"\n",
    "S ->  Noun1 Adposition2 Trigger_Rule\n",
    "Noun1 -> \"antérieur\" | \"précédent\" | \"antécédent\" | \"antéposé\" | \"préexistant\" | \"ancien\" | \"premier\" | \"anténuptial\" | \"avant\" | \"passé\" | \"préliminaire\" | \"plus ancien\" | \"ancienne\" | \"première\" | \"ATCD\"\n",
    "Adposition2 -> \"à\"\n",
    "Trigger_Rule -> \"|forward|termination|negated|10|Group[924]|PRE-VALIDATION\"\n",
    "\"\"\"\n",
    "\n",
    "for sentence in generate(CFG.fromstring(cfg_grammar), n=1000):\n",
    "    print(' '.join(sentence))"
   ]
  },
  {
   "cell_type": "code",
   "execution_count": 32,
   "metadata": {},
   "outputs": [
    {
     "name": "stdout",
     "output_type": "stream",
     "text": [
      "prn |forward|trigger|conditional|30|Group[925]|PRE-VALIDATION\n"
     ]
    }
   ],
   "source": [
    "from nltk.parse.generate import generate, demo_grammar\n",
    "from nltk import CFG\n",
    "\n",
    "cfg_grammar= \"\"\"\n",
    "S ->  Adjective1 Trigger_Rule\n",
    "Adjective1 -> \"prn\"\n",
    "Trigger_Rule -> \"|forward|trigger|conditional|30|Group[925]|PRE-VALIDATION\"\n",
    "\"\"\"\n",
    "\n",
    "for sentence in generate(CFG.fromstring(cfg_grammar), n=1000):\n",
    "    print(' '.join(sentence))"
   ]
  },
  {
   "cell_type": "code",
   "execution_count": 33,
   "metadata": {},
   "outputs": [
    {
     "name": "stdout",
     "output_type": "stream",
     "text": [
      "prophylaxie |backward|trigger|conditional|10|Group[928]|PRE-VALIDATION\n"
     ]
    }
   ],
   "source": [
    "from nltk.parse.generate import generate, demo_grammar\n",
    "from nltk import CFG\n",
    "\n",
    "cfg_grammar= \"\"\"\n",
    "S ->  Auxiliary1 Trigger_Rule\n",
    "Auxiliary1 -> \"prophylaxie\"\n",
    "Trigger_Rule -> \"|backward|trigger|conditional|10|Group[928]|PRE-VALIDATION\"\n",
    "\"\"\"\n",
    "\n",
    "for sentence in generate(CFG.fromstring(cfg_grammar), n=1000):\n",
    "    print(' '.join(sentence))"
   ]
  },
  {
   "cell_type": "code",
   "execution_count": 34,
   "metadata": {},
   "outputs": [
    {
     "name": "stdout",
     "output_type": "stream",
     "text": [
      "pt |both|termination|historical|30|Group[929, 930]|PRE-VALIDATION\n",
      "pt |both|termination|nonpatient|30|Group[929, 930]|PRE-VALIDATION\n"
     ]
    }
   ],
   "source": [
    "from nltk.parse.generate import generate, demo_grammar\n",
    "from nltk import CFG\n",
    "\n",
    "cfg_grammar= \"\"\"\n",
    "S ->  Noun1 Trigger_Rule\n",
    "Noun1 -> \"pt\"\n",
    "Trigger_Rule -> \"|both|termination|historical|30|Group[929, 930]|PRE-VALIDATION\"|\"|both|termination|nonpatient|30|Group[929, 930]|PRE-VALIDATION\"\n",
    "\"\"\"\n",
    "\n",
    "for sentence in generate(CFG.fromstring(cfg_grammar), n=1000):\n",
    "    print(' '.join(sentence))"
   ]
  },
  {
   "cell_type": "code",
   "execution_count": 35,
   "metadata": {},
   "outputs": [
    {
     "name": "stdout",
     "output_type": "stream",
     "text": [
      "la question était |forward|trigger|uncertain|30|Group[931]|PRE-VALIDATION\n",
      "la interpellation était |forward|trigger|uncertain|30|Group[931]|PRE-VALIDATION\n",
      "la information était |forward|trigger|uncertain|30|Group[931]|PRE-VALIDATION\n"
     ]
    }
   ],
   "source": [
    "from nltk.parse.generate import generate, demo_grammar\n",
    "from nltk import CFG\n",
    "\n",
    "cfg_grammar= \"\"\"\n",
    "S ->  Determiner1 Noun2 Auxiliary3 Trigger_Rule\n",
    "Determiner1 -> \"la\"\n",
    "Noun2 -> \"question\" | \"interpellation\" | \"information\"\n",
    "Auxiliary3 -> \"était\"\n",
    "Trigger_Rule -> \"|forward|trigger|uncertain|30|Group[931]|PRE-VALIDATION\"\n",
    "\"\"\"\n",
    "\n",
    "for sentence in generate(CFG.fromstring(cfg_grammar), n=1000):\n",
    "    print(' '.join(sentence))"
   ]
  },
  {
   "cell_type": "code",
   "execution_count": 36,
   "metadata": {},
   "outputs": [
    {
     "name": "stdout",
     "output_type": "stream",
     "text": [
      "interrogé |forward|trigger|uncertain|30|Group[932]|PRE-VALIDATION\n",
      "demander |forward|trigger|uncertain|30|Group[932]|PRE-VALIDATION\n",
      "consulter |forward|trigger|uncertain|30|Group[932]|PRE-VALIDATION\n",
      "sonder |forward|trigger|uncertain|30|Group[932]|PRE-VALIDATION\n",
      "solliciter |forward|trigger|uncertain|30|Group[932]|PRE-VALIDATION\n",
      "interpeller |forward|trigger|uncertain|30|Group[932]|PRE-VALIDATION\n",
      "poser une question |forward|trigger|uncertain|30|Group[932]|PRE-VALIDATION\n",
      "s'informer |forward|trigger|uncertain|30|Group[932]|PRE-VALIDATION\n",
      "s'enquérir |forward|trigger|uncertain|30|Group[932]|PRE-VALIDATION\n",
      "auditionner |forward|trigger|uncertain|30|Group[932]|PRE-VALIDATION\n",
      "se demander |forward|trigger|uncertain|30|Group[932]|PRE-VALIDATION\n"
     ]
    }
   ],
   "source": [
    "from nltk.parse.generate import generate, demo_grammar\n",
    "from nltk import CFG\n",
    "\n",
    "cfg_grammar= \"\"\"\n",
    "S ->  Verb1 Trigger_Rule\n",
    "Verb1 -> \"interrogé\" | \"demander\" | \"consulter\" | \"sonder\" | \"solliciter\" | \"interpeller\" | \"poser une question\" | \"s'informer\" | \"s'enquérir\" | \"auditionner\" | \"se demander\"\n",
    "Trigger_Rule -> \"|forward|trigger|uncertain|30|Group[932]|PRE-VALIDATION\"\n",
    "\"\"\"\n",
    "\n",
    "for sentence in generate(CFG.fromstring(cfg_grammar), n=1000):\n",
    "    print(' '.join(sentence))"
   ]
  },
  {
   "cell_type": "code",
   "execution_count": 37,
   "metadata": {},
   "outputs": [
    {
     "name": "stdout",
     "output_type": "stream",
     "text": [
      "r o |forward|trigger|uncertain|30|Group[933]|PRE-VALIDATION\n"
     ]
    }
   ],
   "source": [
    "from nltk.parse.generate import generate, demo_grammar\n",
    "from nltk import CFG\n",
    "\n",
    "cfg_grammar= \"\"\"\n",
    "S ->  Adposition1 Adposition2 Trigger_Rule\n",
    "Adposition1 -> \"r\"\n",
    "Adposition2 -> \"o\"\n",
    "Trigger_Rule -> \"|forward|trigger|uncertain|30|Group[933]|PRE-VALIDATION\"\n",
    "\"\"\"\n",
    "\n",
    "for sentence in generate(CFG.fromstring(cfg_grammar), n=1000):\n",
    "    print(' '.join(sentence))"
   ]
  },
  {
   "cell_type": "code",
   "execution_count": 38,
   "metadata": {},
   "outputs": [
    {
     "name": "stdout",
     "output_type": "stream",
     "text": [
      "plutôt que |forward|trigger|negated|10|Group[934]|PRE-VALIDATION\n"
     ]
    }
   ],
   "source": [
    "from nltk.parse.generate import generate, demo_grammar\n",
    "from nltk import CFG\n",
    "\n",
    "cfg_grammar= \"\"\"\n",
    "S ->  Adverb1 Subordinating_conjunction2 Trigger_Rule\n",
    "Adverb1 -> \"plutôt\"\n",
    "Subordinating_conjunction2 -> \"que\"\n",
    "Trigger_Rule -> \"|forward|trigger|negated|10|Group[934]|PRE-VALIDATION\"\n",
    "\"\"\"\n",
    "\n",
    "for sentence in generate(CFG.fromstring(cfg_grammar), n=1000):\n",
    "    print(' '.join(sentence))"
   ]
  },
  {
   "cell_type": "code",
   "execution_count": 39,
   "metadata": {},
   "outputs": [
    {
     "name": "stdout",
     "output_type": "stream",
     "text": [
      "raisons de |forward|termination|negated|10|Group[936]|PRE-VALIDATION\n",
      "cause de |forward|termination|negated|10|Group[936]|PRE-VALIDATION\n",
      "prétexte de |forward|termination|negated|10|Group[936]|PRE-VALIDATION\n",
      "justification de |forward|termination|negated|10|Group[936]|PRE-VALIDATION\n",
      "mobile de |forward|termination|negated|10|Group[936]|PRE-VALIDATION\n",
      "excuse de |forward|termination|negated|10|Group[936]|PRE-VALIDATION\n",
      "explication de |forward|termination|negated|10|Group[936]|PRE-VALIDATION\n",
      "rapport de |forward|termination|negated|10|Group[936]|PRE-VALIDATION\n",
      "fondement de |forward|termination|negated|10|Group[936]|PRE-VALIDATION\n",
      "allégation de |forward|termination|negated|10|Group[936]|PRE-VALIDATION\n",
      "argument de |forward|termination|negated|10|Group[936]|PRE-VALIDATION\n",
      "démonstration de |forward|termination|negated|10|Group[936]|PRE-VALIDATION\n",
      "indice de |forward|termination|negated|10|Group[936]|PRE-VALIDATION\n",
      "preuve de |forward|termination|negated|10|Group[936]|PRE-VALIDATION\n",
      "motivation de |forward|termination|negated|10|Group[936]|PRE-VALIDATION\n"
     ]
    }
   ],
   "source": [
    "from nltk.parse.generate import generate, demo_grammar\n",
    "from nltk import CFG\n",
    "\n",
    "cfg_grammar= \"\"\"\n",
    "S ->  Noun1 Adposition2 Trigger_Rule\n",
    "Noun1 -> \"raisons\" | \"cause\" | \"prétexte\" | \"justification\" | \"mobile\" | \"excuse\" | \"explication\" | \"rapport\" | \"fondement\" | \"allégation\" | \"argument\" | \"démonstration\" | \"indice\" | \"preuve\" | \"motivation\"\n",
    "Adposition2 -> \"de\"\n",
    "Trigger_Rule -> \"|forward|termination|negated|10|Group[936]|PRE-VALIDATION\"\n",
    "\"\"\"\n",
    "\n",
    "for sentence in generate(CFG.fromstring(cfg_grammar), n=1000):\n",
    "    print(' '.join(sentence))"
   ]
  },
  {
   "cell_type": "code",
   "execution_count": 40,
   "metadata": {},
   "outputs": [
    {
     "name": "stdout",
     "output_type": "stream",
     "text": [
      "raison pour |forward|termination|negated|10|Group[936]|PRE-VALIDATION\n",
      "cause pour |forward|termination|negated|10|Group[936]|PRE-VALIDATION\n",
      "pourquoi pour |forward|termination|negated|10|Group[936]|PRE-VALIDATION\n",
      "mobile pour |forward|termination|negated|10|Group[936]|PRE-VALIDATION\n",
      "explication pour |forward|termination|negated|10|Group[936]|PRE-VALIDATION\n",
      "fondement pour |forward|termination|negated|10|Group[936]|PRE-VALIDATION\n"
     ]
    }
   ],
   "source": [
    "from nltk.parse.generate import generate, demo_grammar\n",
    "from nltk import CFG\n",
    "\n",
    "cfg_grammar= \"\"\"\n",
    "S ->  Noun1 Adposition2 Trigger_Rule\n",
    "Noun1 -> \"raison\" | \"cause\" | \"pourquoi\" | \"mobile\" | \"explication\" | \"fondement\"\n",
    "Adposition2 -> \"pour\"\n",
    "Trigger_Rule -> \"|forward|termination|negated|10|Group[936]|PRE-VALIDATION\"\n",
    "\"\"\"\n",
    "\n",
    "for sentence in generate(CFG.fromstring(cfg_grammar), n=1000):\n",
    "    print(' '.join(sentence))"
   ]
  },
  {
   "cell_type": "code",
   "execution_count": 41,
   "metadata": {},
   "outputs": [
    {
     "name": "stdout",
     "output_type": "stream",
     "text": [
      "raisons pour |forward|termination|negated|10|Group[936]|PRE-VALIDATION\n",
      "cause pour |forward|termination|negated|10|Group[936]|PRE-VALIDATION\n",
      "prétexte pour |forward|termination|negated|10|Group[936]|PRE-VALIDATION\n",
      "justification pour |forward|termination|negated|10|Group[936]|PRE-VALIDATION\n",
      "mobile pour |forward|termination|negated|10|Group[936]|PRE-VALIDATION\n",
      "excuse pour |forward|termination|negated|10|Group[936]|PRE-VALIDATION\n",
      "explication pour |forward|termination|negated|10|Group[936]|PRE-VALIDATION\n",
      "rapport pour |forward|termination|negated|10|Group[936]|PRE-VALIDATION\n",
      "fondement pour |forward|termination|negated|10|Group[936]|PRE-VALIDATION\n",
      "allégation pour |forward|termination|negated|10|Group[936]|PRE-VALIDATION\n",
      "argument pour |forward|termination|negated|10|Group[936]|PRE-VALIDATION\n",
      "démonstration pour |forward|termination|negated|10|Group[936]|PRE-VALIDATION\n",
      "indice pour |forward|termination|negated|10|Group[936]|PRE-VALIDATION\n",
      "preuve pour |forward|termination|negated|10|Group[936]|PRE-VALIDATION\n",
      "motivation pour |forward|termination|negated|10|Group[936]|PRE-VALIDATION\n"
     ]
    }
   ],
   "source": [
    "from nltk.parse.generate import generate, demo_grammar\n",
    "from nltk import CFG\n",
    "\n",
    "cfg_grammar= \"\"\"\n",
    "S ->  Noun1 Adposition2 Trigger_Rule\n",
    "Noun1 -> \"raisons\" | \"cause\" | \"prétexte\" | \"justification\" | \"mobile\" | \"excuse\" | \"explication\" | \"rapport\" | \"fondement\" | \"allégation\" | \"argument\" | \"démonstration\" | \"indice\" | \"preuve\" | \"motivation\"\n",
    "Adposition2 -> \"pour\"\n",
    "Trigger_Rule -> \"|forward|termination|negated|10|Group[936]|PRE-VALIDATION\"\n",
    "\"\"\"\n",
    "\n",
    "for sentence in generate(CFG.fromstring(cfg_grammar), n=1000):\n",
    "    print(' '.join(sentence))"
   ]
  },
  {
   "cell_type": "code",
   "execution_count": 42,
   "metadata": {},
   "outputs": [
    {
     "name": "stdout",
     "output_type": "stream",
     "text": [
      "raison de |forward|termination|negated|10|Group[936]|PRE-VALIDATION\n",
      "cause de |forward|termination|negated|10|Group[936]|PRE-VALIDATION\n",
      "pourquoi de |forward|termination|negated|10|Group[936]|PRE-VALIDATION\n",
      "mobile de |forward|termination|negated|10|Group[936]|PRE-VALIDATION\n",
      "explication de |forward|termination|negated|10|Group[936]|PRE-VALIDATION\n",
      "fondement de |forward|termination|negated|10|Group[936]|PRE-VALIDATION\n"
     ]
    }
   ],
   "source": [
    "from nltk.parse.generate import generate, demo_grammar\n",
    "from nltk import CFG\n",
    "\n",
    "cfg_grammar= \"\"\"\n",
    "S ->  Noun1 Adposition2 Trigger_Rule\n",
    "Noun1 -> \"raison\" | \"cause\" | \"pourquoi\" | \"mobile\" | \"explication\" | \"fondement\"\n",
    "Adposition2 -> \"de\"\n",
    "Trigger_Rule -> \"|forward|termination|negated|10|Group[936]|PRE-VALIDATION\"\n",
    "\"\"\"\n",
    "\n",
    "for sentence in generate(CFG.fromstring(cfg_grammar), n=1000):\n",
    "    print(' '.join(sentence))"
   ]
  },
  {
   "cell_type": "code",
   "execution_count": 43,
   "metadata": {},
   "outputs": [
    {
     "name": "stdout",
     "output_type": "stream",
     "text": [
      "rapports |both|termination|historical|30|Group[940, 941]|PRE-VALIDATION\n",
      "rapports |both|termination|nonpatient|30|Group[940, 941]|PRE-VALIDATION\n",
      "liaison |both|termination|historical|30|Group[940, 941]|PRE-VALIDATION\n",
      "liaison |both|termination|nonpatient|30|Group[940, 941]|PRE-VALIDATION\n",
      "correspondance |both|termination|historical|30|Group[940, 941]|PRE-VALIDATION\n",
      "correspondance |both|termination|nonpatient|30|Group[940, 941]|PRE-VALIDATION\n",
      "connexion |both|termination|historical|30|Group[940, 941]|PRE-VALIDATION\n",
      "connexion |both|termination|nonpatient|30|Group[940, 941]|PRE-VALIDATION\n",
      "lien |both|termination|historical|30|Group[940, 941]|PRE-VALIDATION\n",
      "lien |both|termination|nonpatient|30|Group[940, 941]|PRE-VALIDATION\n",
      "concordance |both|termination|historical|30|Group[940, 941]|PRE-VALIDATION\n",
      "concordance |both|termination|nonpatient|30|Group[940, 941]|PRE-VALIDATION\n",
      "similitude |both|termination|historical|30|Group[940, 941]|PRE-VALIDATION\n",
      "similitude |both|termination|nonpatient|30|Group[940, 941]|PRE-VALIDATION\n",
      "analogie |both|termination|historical|30|Group[940, 941]|PRE-VALIDATION\n",
      "analogie |both|termination|nonpatient|30|Group[940, 941]|PRE-VALIDATION\n",
      "corrélation |both|termination|historical|30|Group[940, 941]|PRE-VALIDATION\n",
      "corrélation |both|termination|nonpatient|30|Group[940, 941]|PRE-VALIDATION\n",
      "interdépendance |both|termination|historical|30|Group[940, 941]|PRE-VALIDATION\n",
      "interdépendance |both|termination|nonpatient|30|Group[940, 941]|PRE-VALIDATION\n",
      "attachement |both|termination|historical|30|Group[940, 941]|PRE-VALIDATION\n",
      "attachement |both|termination|nonpatient|30|Group[940, 941]|PRE-VALIDATION\n",
      "enchaînement |both|termination|historical|30|Group[940, 941]|PRE-VALIDATION\n",
      "enchaînement |both|termination|nonpatient|30|Group[940, 941]|PRE-VALIDATION\n",
      "rapprochement |both|termination|historical|30|Group[940, 941]|PRE-VALIDATION\n",
      "rapprochement |both|termination|nonpatient|30|Group[940, 941]|PRE-VALIDATION\n"
     ]
    }
   ],
   "source": [
    "from nltk.parse.generate import generate, demo_grammar\n",
    "from nltk import CFG\n",
    "\n",
    "cfg_grammar= \"\"\"\n",
    "S ->  Noun1 Trigger_Rule\n",
    "Noun1 -> \"rapports\" | \"liaison\" | \"correspondance\" | \"connexion\" | \"lien\" | \"concordance\" | \"similitude\" | \"analogie\" | \"corrélation\" | \"interdépendance\" | \"attachement\" | \"enchaînement\" | \"rapprochement\"\n",
    "Trigger_Rule -> \"|both|termination|historical|30|Group[940, 941]|PRE-VALIDATION\"|\"|both|termination|nonpatient|30|Group[940, 941]|PRE-VALIDATION\"\n",
    "\"\"\"\n",
    "\n",
    "for sentence in generate(CFG.fromstring(cfg_grammar), n=1000):\n",
    "    print(' '.join(sentence))"
   ]
  },
  {
   "cell_type": "code",
   "execution_count": 44,
   "metadata": {},
   "outputs": [
    {
     "name": "stdout",
     "output_type": "stream",
     "text": [
      "signalé |both|termination|historical|30|Group[940, 941]|PRE-VALIDATION\n",
      "signalé |both|termination|nonpatient|30|Group[940, 941]|PRE-VALIDATION\n",
      "indiqué |both|termination|historical|30|Group[940, 941]|PRE-VALIDATION\n",
      "indiqué |both|termination|nonpatient|30|Group[940, 941]|PRE-VALIDATION\n",
      "notifié |both|termination|historical|30|Group[940, 941]|PRE-VALIDATION\n",
      "notifié |both|termination|nonpatient|30|Group[940, 941]|PRE-VALIDATION\n",
      "découvert |both|termination|historical|30|Group[940, 941]|PRE-VALIDATION\n",
      "découvert |both|termination|nonpatient|30|Group[940, 941]|PRE-VALIDATION\n",
      "montré |both|termination|historical|30|Group[940, 941]|PRE-VALIDATION\n",
      "montré |both|termination|nonpatient|30|Group[940, 941]|PRE-VALIDATION\n",
      "dévoilé |both|termination|historical|30|Group[940, 941]|PRE-VALIDATION\n",
      "dévoilé |both|termination|nonpatient|30|Group[940, 941]|PRE-VALIDATION\n",
      "souligné |both|termination|historical|30|Group[940, 941]|PRE-VALIDATION\n",
      "souligné |both|termination|nonpatient|30|Group[940, 941]|PRE-VALIDATION\n",
      "informé |both|termination|historical|30|Group[940, 941]|PRE-VALIDATION\n",
      "informé |both|termination|nonpatient|30|Group[940, 941]|PRE-VALIDATION\n",
      "révélé |both|termination|historical|30|Group[940, 941]|PRE-VALIDATION\n",
      "révélé |both|termination|nonpatient|30|Group[940, 941]|PRE-VALIDATION\n",
      "signifié |both|termination|historical|30|Group[940, 941]|PRE-VALIDATION\n",
      "signifié |both|termination|nonpatient|30|Group[940, 941]|PRE-VALIDATION\n",
      "déclaré |both|termination|historical|30|Group[940, 941]|PRE-VALIDATION\n",
      "déclaré |both|termination|nonpatient|30|Group[940, 941]|PRE-VALIDATION\n",
      "averti |both|termination|historical|30|Group[940, 941]|PRE-VALIDATION\n",
      "averti |both|termination|nonpatient|30|Group[940, 941]|PRE-VALIDATION\n",
      "rapporté |both|termination|historical|30|Group[940, 941]|PRE-VALIDATION\n",
      "rapporté |both|termination|nonpatient|30|Group[940, 941]|PRE-VALIDATION\n",
      "témoigné |both|termination|historical|30|Group[940, 941]|PRE-VALIDATION\n",
      "témoigné |both|termination|nonpatient|30|Group[940, 941]|PRE-VALIDATION\n",
      "alerté |both|termination|historical|30|Group[940, 941]|PRE-VALIDATION\n",
      "alerté |both|termination|nonpatient|30|Group[940, 941]|PRE-VALIDATION\n"
     ]
    }
   ],
   "source": [
    "from nltk.parse.generate import generate, demo_grammar\n",
    "from nltk import CFG\n",
    "\n",
    "cfg_grammar= \"\"\"\n",
    "S ->  Noun1 Trigger_Rule\n",
    "Noun1 -> \"signalé\" | \"indiqué\" | \"notifié\" | \"découvert\" | \"montré\" | \"dévoilé\" | \"souligné\" | \"informé\" | \"révélé\" | \"signifié\" | \"déclaré\" | \"averti\" | \"rapporté\" | \"témoigné\" | \"alerté\"\n",
    "Trigger_Rule -> \"|both|termination|historical|30|Group[940, 941]|PRE-VALIDATION\"|\"|both|termination|nonpatient|30|Group[940, 941]|PRE-VALIDATION\"\n",
    "\"\"\"\n",
    "\n",
    "for sentence in generate(CFG.fromstring(cfg_grammar), n=1000):\n",
    "    print(' '.join(sentence))"
   ]
  },
  {
   "cell_type": "code",
   "execution_count": 45,
   "metadata": {},
   "outputs": [
    {
     "name": "stdout",
     "output_type": "stream",
     "text": [
      "résolu |forward|trigger|negated|10|Group[944]|PRE-VALIDATION\n",
      "décidé |forward|trigger|negated|10|Group[944]|PRE-VALIDATION\n",
      "solutionné |forward|trigger|negated|10|Group[944]|PRE-VALIDATION\n",
      "fixé |forward|trigger|negated|10|Group[944]|PRE-VALIDATION\n",
      "conclu |forward|trigger|negated|10|Group[944]|PRE-VALIDATION\n",
      "traité |forward|trigger|negated|10|Group[944]|PRE-VALIDATION\n"
     ]
    }
   ],
   "source": [
    "from nltk.parse.generate import generate, demo_grammar\n",
    "from nltk import CFG\n",
    "\n",
    "cfg_grammar= \"\"\"\n",
    "S ->  Verb1 Trigger_Rule\n",
    "Verb1 -> \"résolu\" | \"décidé\" | \"solutionné\" | \"fixé\" | \"conclu\" | \"traité\"\n",
    "Trigger_Rule -> \"|forward|trigger|negated|10|Group[944]|PRE-VALIDATION\"\n",
    "\"\"\"\n",
    "\n",
    "for sentence in generate(CFG.fromstring(cfg_grammar), n=1000):\n",
    "    print(' '.join(sentence))"
   ]
  },
  {
   "cell_type": "code",
   "execution_count": 46,
   "metadata": {},
   "outputs": [
    {
     "name": "stdout",
     "output_type": "stream",
     "text": [
      "revenir |forward|trigger|conditional|30|Group[946]|PRE-VALIDATION\n",
      "regagner |forward|trigger|conditional|30|Group[946]|PRE-VALIDATION\n",
      "rentrer |forward|trigger|conditional|30|Group[946]|PRE-VALIDATION\n",
      "reparaître |forward|trigger|conditional|30|Group[946]|PRE-VALIDATION\n",
      "reprendre |forward|trigger|conditional|30|Group[946]|PRE-VALIDATION\n",
      "repasser |forward|trigger|conditional|30|Group[946]|PRE-VALIDATION\n",
      "recommencer |forward|trigger|conditional|30|Group[946]|PRE-VALIDATION\n",
      "retomber |forward|trigger|conditional|30|Group[946]|PRE-VALIDATION\n",
      "récidiver |forward|trigger|conditional|30|Group[946]|PRE-VALIDATION\n",
      "retrouver |forward|trigger|conditional|30|Group[946]|PRE-VALIDATION\n",
      "ressurgir |forward|trigger|conditional|30|Group[946]|PRE-VALIDATION\n",
      "ressortir |forward|trigger|conditional|30|Group[946]|PRE-VALIDATION\n",
      "reconduire |forward|trigger|conditional|30|Group[946]|PRE-VALIDATION\n",
      "ramener |forward|trigger|conditional|30|Group[946]|PRE-VALIDATION\n",
      "remettre |forward|trigger|conditional|30|Group[946]|PRE-VALIDATION\n"
     ]
    }
   ],
   "source": [
    "from nltk.parse.generate import generate, demo_grammar\n",
    "from nltk import CFG\n",
    "\n",
    "cfg_grammar= \"\"\"\n",
    "S ->  Verb1 Trigger_Rule\n",
    "Verb1 -> \"revenir\" | \"regagner\" | \"rentrer\" | \"reparaître\" | \"reprendre\" | \"repasser\" | \"recommencer\" | \"retomber\" | \"récidiver\" | \"retrouver\" | \"ressurgir\" | \"ressortir\" | \"reconduire\" | \"ramener\" | \"remettre\"\n",
    "Trigger_Rule -> \"|forward|trigger|conditional|30|Group[946]|PRE-VALIDATION\"\n",
    "\"\"\"\n",
    "\n",
    "for sentence in generate(CFG.fromstring(cfg_grammar), n=1000):\n",
    "    print(' '.join(sentence))"
   ]
  },
  {
   "cell_type": "code",
   "execution_count": 47,
   "metadata": {},
   "outputs": [
    {
     "name": "stdout",
     "output_type": "stream",
     "text": [
      "risque de |forward|trigger|conditional|30|Group[947]|PRE-VALIDATION\n",
      "dangereux de |forward|trigger|conditional|30|Group[947]|PRE-VALIDATION\n",
      "chance de |forward|trigger|conditional|30|Group[947]|PRE-VALIDATION\n"
     ]
    }
   ],
   "source": [
    "from nltk.parse.generate import generate, demo_grammar\n",
    "from nltk import CFG\n",
    "\n",
    "cfg_grammar= \"\"\"\n",
    "S ->  Noun1 Adposition2 Trigger_Rule\n",
    "Noun1 -> \"risque\" | \"dangereux\" | \"chance\"\n",
    "Adposition2 -> \"de\"\n",
    "Trigger_Rule -> \"|forward|trigger|conditional|30|Group[947]|PRE-VALIDATION\"\n",
    "\"\"\"\n",
    "\n",
    "for sentence in generate(CFG.fromstring(cfg_grammar), n=1000):\n",
    "    print(' '.join(sentence))"
   ]
  },
  {
   "cell_type": "code",
   "execution_count": 48,
   "metadata": {},
   "outputs": [
    {
     "name": "stdout",
     "output_type": "stream",
     "text": [
      "colocataires appelés |both|termination|historical|30|Group[948, 949]|PRE-VALIDATION\n",
      "colocataires appelés |both|termination|nonpatient|30|Group[948, 949]|PRE-VALIDATION\n",
      "colocataires solliciter |both|termination|historical|30|Group[948, 949]|PRE-VALIDATION\n",
      "colocataires solliciter |both|termination|nonpatient|30|Group[948, 949]|PRE-VALIDATION\n",
      "colocataires requérir |both|termination|historical|30|Group[948, 949]|PRE-VALIDATION\n",
      "colocataires requérir |both|termination|nonpatient|30|Group[948, 949]|PRE-VALIDATION\n",
      "colocataires téléphoner |both|termination|historical|30|Group[948, 949]|PRE-VALIDATION\n",
      "colocataires téléphoner |both|termination|nonpatient|30|Group[948, 949]|PRE-VALIDATION\n",
      "colocataires avertir |both|termination|historical|30|Group[948, 949]|PRE-VALIDATION\n",
      "colocataires avertir |both|termination|nonpatient|30|Group[948, 949]|PRE-VALIDATION\n",
      "colocataires prévenir |both|termination|historical|30|Group[948, 949]|PRE-VALIDATION\n",
      "colocataires prévenir |both|termination|nonpatient|30|Group[948, 949]|PRE-VALIDATION\n",
      "colocataires alerter |both|termination|historical|30|Group[948, 949]|PRE-VALIDATION\n",
      "colocataires alerter |both|termination|nonpatient|30|Group[948, 949]|PRE-VALIDATION\n",
      "colocataires signaler |both|termination|historical|30|Group[948, 949]|PRE-VALIDATION\n",
      "colocataires signaler |both|termination|nonpatient|30|Group[948, 949]|PRE-VALIDATION\n"
     ]
    }
   ],
   "source": [
    "from nltk.parse.generate import generate, demo_grammar\n",
    "from nltk import CFG\n",
    "\n",
    "cfg_grammar= \"\"\"\n",
    "S ->  Noun1 Verb2 Trigger_Rule\n",
    "Noun1 -> \"colocataires\"\n",
    "Verb2 -> \"appelés\" | \"solliciter\" | \"requérir\" | \"téléphoner\" | \"avertir\" | \"prévenir\" | \"alerter\" | \"signaler\"\n",
    "Trigger_Rule -> \"|both|termination|historical|30|Group[948, 949]|PRE-VALIDATION\"|\"|both|termination|nonpatient|30|Group[948, 949]|PRE-VALIDATION\"\n",
    "\"\"\"\n",
    "\n",
    "for sentence in generate(CFG.fromstring(cfg_grammar), n=1000):\n",
    "    print(' '.join(sentence))"
   ]
  },
  {
   "cell_type": "code",
   "execution_count": 49,
   "metadata": {},
   "outputs": [
    {
     "name": "stdout",
     "output_type": "stream",
     "text": [
      "colocataire appelée |both|termination|historical|30|Group[948, 949]|PRE-VALIDATION\n",
      "colocataire appelée |both|termination|nonpatient|30|Group[948, 949]|PRE-VALIDATION\n"
     ]
    }
   ],
   "source": [
    "from nltk.parse.generate import generate, demo_grammar\n",
    "from nltk import CFG\n",
    "\n",
    "cfg_grammar= \"\"\"\n",
    "S ->  Adjective1 Auxiliary2 Trigger_Rule\n",
    "Adjective1 -> \"colocataire\"\n",
    "Auxiliary2 -> \"appelée\"\n",
    "Trigger_Rule -> \"|both|termination|historical|30|Group[948, 949]|PRE-VALIDATION\"|\"|both|termination|nonpatient|30|Group[948, 949]|PRE-VALIDATION\"\n",
    "\"\"\"\n",
    "\n",
    "for sentence in generate(CFG.fromstring(cfg_grammar), n=1000):\n",
    "    print(' '.join(sentence))"
   ]
  },
  {
   "cell_type": "code",
   "execution_count": 50,
   "metadata": {},
   "outputs": [
    {
     "name": "stdout",
     "output_type": "stream",
     "text": [
      "colocataire |forward|trigger|nonpatient|30|Group[952]|PRE-VALIDATION\n"
     ]
    }
   ],
   "source": [
    "from nltk.parse.generate import generate, demo_grammar\n",
    "from nltk import CFG\n",
    "\n",
    "cfg_grammar= \"\"\"\n",
    "S ->  Adjective1 Trigger_Rule\n",
    "Adjective1 -> \"colocataire\"\n",
    "Trigger_Rule -> \"|forward|trigger|nonpatient|30|Group[952]|PRE-VALIDATION\"\n",
    "\"\"\"\n",
    "\n",
    "for sentence in generate(CFG.fromstring(cfg_grammar), n=1000):\n",
    "    print(' '.join(sentence))"
   ]
  },
  {
   "cell_type": "code",
   "execution_count": 51,
   "metadata": {},
   "outputs": [
    {
     "name": "stdout",
     "output_type": "stream",
     "text": [
      "colocataires |forward|trigger|nonpatient|30|Group[952]|PRE-VALIDATION\n"
     ]
    }
   ],
   "source": [
    "from nltk.parse.generate import generate, demo_grammar\n",
    "from nltk import CFG\n",
    "\n",
    "cfg_grammar= \"\"\"\n",
    "S ->  Noun1 Trigger_Rule\n",
    "Noun1 -> \"colocataires\"\n",
    "Trigger_Rule -> \"|forward|trigger|nonpatient|30|Group[952]|PRE-VALIDATION\"\n",
    "\"\"\"\n",
    "\n",
    "for sentence in generate(CFG.fromstring(cfg_grammar), n=1000):\n",
    "    print(' '.join(sentence))"
   ]
  },
  {
   "cell_type": "code",
   "execution_count": 52,
   "metadata": {},
   "outputs": [
    {
     "name": "stdout",
     "output_type": "stream",
     "text": [
      "ro |forward|trigger|uncertain|30|Group[954]|PRE-VALIDATION\n"
     ]
    }
   ],
   "source": [
    "from nltk.parse.generate import generate, demo_grammar\n",
    "from nltk import CFG\n",
    "\n",
    "cfg_grammar= \"\"\"\n",
    "S ->  Adposition1 Trigger_Rule\n",
    "Adposition1 -> \"ro\"\n",
    "Trigger_Rule -> \"|forward|trigger|uncertain|30|Group[954]|PRE-VALIDATION\"\n",
    "\"\"\"\n",
    "\n",
    "for sentence in generate(CFG.fromstring(cfg_grammar), n=1000):\n",
    "    print(' '.join(sentence))"
   ]
  },
  {
   "cell_type": "code",
   "execution_count": 53,
   "metadata": {},
   "outputs": [
    {
     "name": "stdout",
     "output_type": "stream",
     "text": [
      "l'éliminer |forward|trigger|uncertain|30|Group[955]|PRE-VALIDATION\n",
      "l'écarter |forward|trigger|uncertain|30|Group[955]|PRE-VALIDATION\n",
      "l'évincer |forward|trigger|uncertain|30|Group[955]|PRE-VALIDATION\n",
      "l'exclure |forward|trigger|uncertain|30|Group[955]|PRE-VALIDATION\n",
      "chasser |forward|trigger|uncertain|30|Group[955]|PRE-VALIDATION\n",
      "proscrire |forward|trigger|uncertain|30|Group[955]|PRE-VALIDATION\n",
      "rejeter |forward|trigger|uncertain|30|Group[955]|PRE-VALIDATION\n",
      "repousser |forward|trigger|uncertain|30|Group[955]|PRE-VALIDATION\n",
      "l'enlever |forward|trigger|uncertain|30|Group[955]|PRE-VALIDATION\n",
      "l'éloigner |forward|trigger|uncertain|30|Group[955]|PRE-VALIDATION\n",
      "retirer |forward|trigger|uncertain|30|Group[955]|PRE-VALIDATION\n",
      "l'omettre |forward|trigger|uncertain|30|Group[955]|PRE-VALIDATION\n",
      "l'ôter |forward|trigger|uncertain|30|Group[955]|PRE-VALIDATION\n",
      "l'obmettre |forward|trigger|uncertain|30|Group[955]|PRE-VALIDATION\n",
      "récuser |forward|trigger|uncertain|30|Group[955]|PRE-VALIDATION\n"
     ]
    }
   ],
   "source": [
    "from nltk.parse.generate import generate, demo_grammar\n",
    "from nltk import CFG\n",
    "\n",
    "cfg_grammar= \"\"\"\n",
    "S -> Verb2 Trigger_Rule\n",
    "Verb2 -> \"l'éliminer\" | \"l'écarter\" | \"l'évincer\" | \"l'exclure\" | \"chasser\" | \"proscrire\" | \"rejeter\" | \"repousser\" | \"l'enlever\" | \"l'éloigner\" | \"retirer\" | \"l'omettre\" | \"l'ôter\" | \"l'obmettre\" | \"récuser\"\n",
    "Trigger_Rule -> \"|forward|trigger|uncertain|30|Group[955]|PRE-VALIDATION\"\n",
    "\"\"\"\n",
    "\n",
    "for sentence in generate(CFG.fromstring(cfg_grammar), n=1000):\n",
    "    print(' '.join(sentence))"
   ]
  },
  {
   "cell_type": "code",
   "execution_count": 54,
   "metadata": {},
   "outputs": [
    {
     "name": "stdout",
     "output_type": "stream",
     "text": [
      "l'exclure pour |forward|trigger|uncertain|30|Group[955]|PRE-VALIDATION\n",
      "l'éliminer pour |forward|trigger|uncertain|30|Group[955]|PRE-VALIDATION\n",
      "rejeter pour |forward|trigger|uncertain|30|Group[955]|PRE-VALIDATION\n",
      "proscrire pour |forward|trigger|uncertain|30|Group[955]|PRE-VALIDATION\n",
      "l'éloigner pour |forward|trigger|uncertain|30|Group[955]|PRE-VALIDATION\n",
      "supprimer pour |forward|trigger|uncertain|30|Group[955]|PRE-VALIDATION\n",
      "radier pour |forward|trigger|uncertain|30|Group[955]|PRE-VALIDATION\n"
     ]
    }
   ],
   "source": [
    "from nltk.parse.generate import generate, demo_grammar\n",
    "from nltk import CFG\n",
    "\n",
    "cfg_grammar= \"\"\"\n",
    "S -> Noun2 Adposition3 Trigger_Rule\n",
    "Noun2 -> \"l'exclure\" | \"l'éliminer\" | \"rejeter\" | \"proscrire\" | \"l'éloigner\" | \"supprimer\" | \"radier\"\n",
    "Adposition3 -> \"pour\"\n",
    "Trigger_Rule -> \"|forward|trigger|uncertain|30|Group[955]|PRE-VALIDATION\"\n",
    "\"\"\"\n",
    "\n",
    "for sentence in generate(CFG.fromstring(cfg_grammar), n=1000):\n",
    "    print(' '.join(sentence))"
   ]
  },
  {
   "cell_type": "code",
   "execution_count": 55,
   "metadata": {},
   "outputs": [
    {
     "name": "stdout",
     "output_type": "stream",
     "text": [
      "éliminer |forward|trigger|uncertain|30|Group[955]|PRE-VALIDATION\n",
      "écarter |forward|trigger|uncertain|30|Group[955]|PRE-VALIDATION\n",
      "évincer |forward|trigger|uncertain|30|Group[955]|PRE-VALIDATION\n",
      "exclure |forward|trigger|uncertain|30|Group[955]|PRE-VALIDATION\n",
      "chasser |forward|trigger|uncertain|30|Group[955]|PRE-VALIDATION\n",
      "proscrire |forward|trigger|uncertain|30|Group[955]|PRE-VALIDATION\n",
      "rejeter |forward|trigger|uncertain|30|Group[955]|PRE-VALIDATION\n",
      "repousser |forward|trigger|uncertain|30|Group[955]|PRE-VALIDATION\n",
      "enlever |forward|trigger|uncertain|30|Group[955]|PRE-VALIDATION\n",
      "éloigner |forward|trigger|uncertain|30|Group[955]|PRE-VALIDATION\n",
      "retirer |forward|trigger|uncertain|30|Group[955]|PRE-VALIDATION\n",
      "omettre |forward|trigger|uncertain|30|Group[955]|PRE-VALIDATION\n",
      "ôter |forward|trigger|uncertain|30|Group[955]|PRE-VALIDATION\n",
      "obmettre |forward|trigger|uncertain|30|Group[955]|PRE-VALIDATION\n",
      "récuser |forward|trigger|uncertain|30|Group[955]|PRE-VALIDATION\n"
     ]
    }
   ],
   "source": [
    "from nltk.parse.generate import generate, demo_grammar\n",
    "from nltk import CFG\n",
    "\n",
    "cfg_grammar= \"\"\"\n",
    "S ->  Verb1 Trigger_Rule\n",
    "Verb1 -> \"éliminer\" | \"écarter\" | \"évincer\" | \"exclure\" | \"chasser\" | \"proscrire\" | \"rejeter\" | \"repousser\" | \"enlever\" | \"éloigner\" | \"retirer\" | \"omettre\" | \"ôter\" | \"obmettre\" | \"récuser\"\n",
    "Trigger_Rule -> \"|forward|trigger|uncertain|30|Group[955]|PRE-VALIDATION\"\n",
    "\"\"\"\n",
    "\n",
    "for sentence in generate(CFG.fromstring(cfg_grammar), n=1000):\n",
    "    print(' '.join(sentence))"
   ]
  },
  {
   "cell_type": "code",
   "execution_count": 56,
   "metadata": {},
   "outputs": [
    {
     "name": "stdout",
     "output_type": "stream",
     "text": [
      "exclure pour |forward|trigger|uncertain|30|Group[955]|PRE-VALIDATION\n",
      "éliminer pour |forward|trigger|uncertain|30|Group[955]|PRE-VALIDATION\n",
      "rejeter pour |forward|trigger|uncertain|30|Group[955]|PRE-VALIDATION\n",
      "proscrire pour |forward|trigger|uncertain|30|Group[955]|PRE-VALIDATION\n",
      "éloigner pour |forward|trigger|uncertain|30|Group[955]|PRE-VALIDATION\n",
      "supprimer pour |forward|trigger|uncertain|30|Group[955]|PRE-VALIDATION\n",
      "radier pour |forward|trigger|uncertain|30|Group[955]|PRE-VALIDATION\n"
     ]
    }
   ],
   "source": [
    "from nltk.parse.generate import generate, demo_grammar\n",
    "from nltk import CFG\n",
    "\n",
    "cfg_grammar= \"\"\"\n",
    "S ->  Noun1 Adposition2 Trigger_Rule\n",
    "Noun1 -> \"exclure\" | \"éliminer\" | \"rejeter\" | \"proscrire\" | \"éloigner\" | \"supprimer\" | \"radier\"\n",
    "Adposition2 -> \"pour\"\n",
    "Trigger_Rule -> \"|forward|trigger|uncertain|30|Group[955]|PRE-VALIDATION\"\n",
    "\"\"\"\n",
    "\n",
    "for sentence in generate(CFG.fromstring(cfg_grammar), n=1000):\n",
    "    print(' '.join(sentence))"
   ]
  },
  {
   "cell_type": "code",
   "execution_count": 57,
   "metadata": {},
   "outputs": [
    {
     "name": "stdout",
     "output_type": "stream",
     "text": [
      "l'éliminer pour |forward|trigger|uncertain|30|Group[955]|PRE-VALIDATION\n",
      "l'écarter pour |forward|trigger|uncertain|30|Group[955]|PRE-VALIDATION\n",
      "l'évincer pour |forward|trigger|uncertain|30|Group[955]|PRE-VALIDATION\n",
      "l'exclure pour |forward|trigger|uncertain|30|Group[955]|PRE-VALIDATION\n",
      "chasser pour |forward|trigger|uncertain|30|Group[955]|PRE-VALIDATION\n",
      "proscrire pour |forward|trigger|uncertain|30|Group[955]|PRE-VALIDATION\n",
      "rejeter pour |forward|trigger|uncertain|30|Group[955]|PRE-VALIDATION\n",
      "repousser pour |forward|trigger|uncertain|30|Group[955]|PRE-VALIDATION\n",
      "l'enlever pour |forward|trigger|uncertain|30|Group[955]|PRE-VALIDATION\n",
      "l'éloigner pour |forward|trigger|uncertain|30|Group[955]|PRE-VALIDATION\n",
      "retirer pour |forward|trigger|uncertain|30|Group[955]|PRE-VALIDATION\n",
      "l'omettre pour |forward|trigger|uncertain|30|Group[955]|PRE-VALIDATION\n",
      "l'ôter pour |forward|trigger|uncertain|30|Group[955]|PRE-VALIDATION\n",
      "l'obmettre pour |forward|trigger|uncertain|30|Group[955]|PRE-VALIDATION\n",
      "récuser pour |forward|trigger|uncertain|30|Group[955]|PRE-VALIDATION\n"
     ]
    }
   ],
   "source": [
    "from nltk.parse.generate import generate, demo_grammar\n",
    "from nltk import CFG\n",
    "\n",
    "cfg_grammar= \"\"\"\n",
    "S -> Verb2 Adposition3 Trigger_Rule\n",
    "Verb2 -> \"l'éliminer\" | \"l'écarter\" | \"l'évincer\" | \"l'exclure\" | \"chasser\" | \"proscrire\" | \"rejeter\" | \"repousser\" | \"l'enlever\" | \"l'éloigner\" | \"retirer\" | \"l'omettre\" | \"l'ôter\" | \"l'obmettre\" | \"récuser\"\n",
    "Adposition3 -> \"pour\"\n",
    "Trigger_Rule -> \"|forward|trigger|uncertain|30|Group[955]|PRE-VALIDATION\"\n",
    "\"\"\"\n",
    "\n",
    "for sentence in generate(CFG.fromstring(cfg_grammar), n=1000):\n",
    "    print(' '.join(sentence))"
   ]
  },
  {
   "cell_type": "code",
   "execution_count": 58,
   "metadata": {},
   "outputs": [
    {
     "name": "stdout",
     "output_type": "stream",
     "text": [
      "exclure le patient |forward|trigger|uncertain|30|Group[961]|PRE-VALIDATION\n",
      "exclure le client |forward|trigger|uncertain|30|Group[961]|PRE-VALIDATION\n",
      "exclure le souffrant |forward|trigger|uncertain|30|Group[961]|PRE-VALIDATION\n",
      "exclure le sujet |forward|trigger|uncertain|30|Group[961]|PRE-VALIDATION\n",
      "éliminer le patient |forward|trigger|uncertain|30|Group[961]|PRE-VALIDATION\n",
      "éliminer le client |forward|trigger|uncertain|30|Group[961]|PRE-VALIDATION\n",
      "éliminer le souffrant |forward|trigger|uncertain|30|Group[961]|PRE-VALIDATION\n",
      "éliminer le sujet |forward|trigger|uncertain|30|Group[961]|PRE-VALIDATION\n",
      "rejeter le patient |forward|trigger|uncertain|30|Group[961]|PRE-VALIDATION\n",
      "rejeter le client |forward|trigger|uncertain|30|Group[961]|PRE-VALIDATION\n",
      "rejeter le souffrant |forward|trigger|uncertain|30|Group[961]|PRE-VALIDATION\n",
      "rejeter le sujet |forward|trigger|uncertain|30|Group[961]|PRE-VALIDATION\n",
      "proscrire le patient |forward|trigger|uncertain|30|Group[961]|PRE-VALIDATION\n",
      "proscrire le client |forward|trigger|uncertain|30|Group[961]|PRE-VALIDATION\n",
      "proscrire le souffrant |forward|trigger|uncertain|30|Group[961]|PRE-VALIDATION\n",
      "proscrire le sujet |forward|trigger|uncertain|30|Group[961]|PRE-VALIDATION\n",
      "éloigner le patient |forward|trigger|uncertain|30|Group[961]|PRE-VALIDATION\n",
      "éloigner le client |forward|trigger|uncertain|30|Group[961]|PRE-VALIDATION\n",
      "éloigner le souffrant |forward|trigger|uncertain|30|Group[961]|PRE-VALIDATION\n",
      "éloigner le sujet |forward|trigger|uncertain|30|Group[961]|PRE-VALIDATION\n",
      "supprimer le patient |forward|trigger|uncertain|30|Group[961]|PRE-VALIDATION\n",
      "supprimer le client |forward|trigger|uncertain|30|Group[961]|PRE-VALIDATION\n",
      "supprimer le souffrant |forward|trigger|uncertain|30|Group[961]|PRE-VALIDATION\n",
      "supprimer le sujet |forward|trigger|uncertain|30|Group[961]|PRE-VALIDATION\n",
      "radier le patient |forward|trigger|uncertain|30|Group[961]|PRE-VALIDATION\n",
      "radier le client |forward|trigger|uncertain|30|Group[961]|PRE-VALIDATION\n",
      "radier le souffrant |forward|trigger|uncertain|30|Group[961]|PRE-VALIDATION\n",
      "radier le sujet |forward|trigger|uncertain|30|Group[961]|PRE-VALIDATION\n"
     ]
    }
   ],
   "source": [
    "from nltk.parse.generate import generate, demo_grammar\n",
    "from nltk import CFG\n",
    "\n",
    "cfg_grammar= \"\"\"\n",
    "S ->  Noun1 Determiner2 Noun3 Trigger_Rule\n",
    "Noun1 -> \"exclure\" | \"éliminer\" | \"rejeter\" | \"proscrire\" | \"éloigner\" | \"supprimer\" | \"radier\"\n",
    "Determiner2 -> \"le\"\n",
    "Noun3 -> \"patient\" | \"client\" | \"souffrant\" | \"sujet\"\n",
    "Trigger_Rule -> \"|forward|trigger|uncertain|30|Group[961]|PRE-VALIDATION\"\n",
    "\"\"\"\n",
    "\n",
    "for sentence in generate(CFG.fromstring(cfg_grammar), n=1000):\n",
    "    print(' '.join(sentence))"
   ]
  },
  {
   "cell_type": "code",
   "execution_count": 59,
   "metadata": {},
   "outputs": [
    {
     "name": "stdout",
     "output_type": "stream",
     "text": [
      "exclure la patinet pour |forward|trigger|uncertain|30|Group[961]|PRE-VALIDATION\n",
      "éliminer la patinet pour |forward|trigger|uncertain|30|Group[961]|PRE-VALIDATION\n",
      "rejeter la patinet pour |forward|trigger|uncertain|30|Group[961]|PRE-VALIDATION\n",
      "proscrire la patinet pour |forward|trigger|uncertain|30|Group[961]|PRE-VALIDATION\n",
      "éloigner la patinet pour |forward|trigger|uncertain|30|Group[961]|PRE-VALIDATION\n",
      "supprimer la patinet pour |forward|trigger|uncertain|30|Group[961]|PRE-VALIDATION\n",
      "radier la patinet pour |forward|trigger|uncertain|30|Group[961]|PRE-VALIDATION\n"
     ]
    }
   ],
   "source": [
    "from nltk.parse.generate import generate, demo_grammar\n",
    "from nltk import CFG\n",
    "\n",
    "cfg_grammar= \"\"\"\n",
    "S ->  Noun1 Determiner2 Noun3 Adposition4 Trigger_Rule\n",
    "Noun1 -> \"exclure\" | \"éliminer\" | \"rejeter\" | \"proscrire\" | \"éloigner\" | \"supprimer\" | \"radier\"\n",
    "Determiner2 -> \"la\"\n",
    "Noun3 -> \"patinet\"\n",
    "Adposition4 -> \"pour\"\n",
    "Trigger_Rule -> \"|forward|trigger|uncertain|30|Group[961]|PRE-VALIDATION\"\n",
    "\"\"\"\n",
    "\n",
    "for sentence in generate(CFG.fromstring(cfg_grammar), n=1000):\n",
    "    print(' '.join(sentence))"
   ]
  },
  {
   "cell_type": "code",
   "execution_count": 60,
   "metadata": {},
   "outputs": [
    {
     "name": "stdout",
     "output_type": "stream",
     "text": [
      "exclu contre |forward|trigger|negated|10|Group[975]|PRE-VALIDATION\n",
      "refusé contre |forward|trigger|negated|10|Group[975]|PRE-VALIDATION\n",
      "repoussé contre |forward|trigger|negated|10|Group[975]|PRE-VALIDATION\n",
      "rejeté contre |forward|trigger|negated|10|Group[975]|PRE-VALIDATION\n",
      "éliminé contre |forward|trigger|negated|10|Group[975]|PRE-VALIDATION\n",
      "proscrit contre |forward|trigger|negated|10|Group[975]|PRE-VALIDATION\n"
     ]
    }
   ],
   "source": [
    "from nltk.parse.generate import generate, demo_grammar\n",
    "from nltk import CFG\n",
    "\n",
    "cfg_grammar= \"\"\"\n",
    "S ->  Verb1 Adposition2 Trigger_Rule\n",
    "Verb1 -> \"exclu\" | \"refusé\" | \"repoussé\" | \"rejeté\" | \"éliminé\" | \"proscrit\"\n",
    "Adposition2 -> \"contre\"\n",
    "Trigger_Rule -> \"|forward|trigger|negated|10|Group[975]|PRE-VALIDATION\"\n",
    "\"\"\"\n",
    "\n",
    "for sentence in generate(CFG.fromstring(cfg_grammar), n=1000):\n",
    "    print(' '.join(sentence))"
   ]
  },
  {
   "cell_type": "code",
   "execution_count": 61,
   "metadata": {},
   "outputs": [
    {
     "name": "stdout",
     "output_type": "stream",
     "text": [
      "exclu pour |forward|trigger|negated|10|Group[977]|PRE-VALIDATION\n",
      "refusé pour |forward|trigger|negated|10|Group[977]|PRE-VALIDATION\n",
      "repoussé pour |forward|trigger|negated|10|Group[977]|PRE-VALIDATION\n",
      "rejeté pour |forward|trigger|negated|10|Group[977]|PRE-VALIDATION\n",
      "éliminé pour |forward|trigger|negated|10|Group[977]|PRE-VALIDATION\n",
      "proscrit pour |forward|trigger|negated|10|Group[977]|PRE-VALIDATION\n"
     ]
    }
   ],
   "source": [
    "from nltk.parse.generate import generate, demo_grammar\n",
    "from nltk import CFG\n",
    "\n",
    "cfg_grammar= \"\"\"\n",
    "S ->  Verb1 Adposition2 Trigger_Rule\n",
    "Verb1 -> \"exclu\" | \"refusé\" | \"repoussé\" | \"rejeté\" | \"éliminé\" | \"proscrit\"\n",
    "Adposition2 -> \"pour\"\n",
    "Trigger_Rule -> \"|forward|trigger|negated|10|Group[977]|PRE-VALIDATION\"\n",
    "\"\"\"\n",
    "\n",
    "for sentence in generate(CFG.fromstring(cfg_grammar), n=1000):\n",
    "    print(' '.join(sentence))"
   ]
  },
  {
   "cell_type": "code",
   "execution_count": 62,
   "metadata": {},
   "outputs": [
    {
     "name": "stdout",
     "output_type": "stream",
     "text": [
      "exclu |forward|trigger|negated|10|Group[979]|PRE-VALIDATION\n",
      "refusé |forward|trigger|negated|10|Group[979]|PRE-VALIDATION\n",
      "repoussé |forward|trigger|negated|10|Group[979]|PRE-VALIDATION\n",
      "rejeté |forward|trigger|negated|10|Group[979]|PRE-VALIDATION\n",
      "éliminé |forward|trigger|negated|10|Group[979]|PRE-VALIDATION\n",
      "proscrit |forward|trigger|negated|10|Group[979]|PRE-VALIDATION\n"
     ]
    }
   ],
   "source": [
    "from nltk.parse.generate import generate, demo_grammar\n",
    "from nltk import CFG\n",
    "\n",
    "cfg_grammar= \"\"\"\n",
    "S ->  Verb1 Trigger_Rule\n",
    "Verb1 -> \"exclu\" | \"refusé\" | \"repoussé\" | \"rejeté\" | \"éliminé\" | \"proscrit\"\n",
    "Trigger_Rule -> \"|forward|trigger|negated|10|Group[979]|PRE-VALIDATION\"\n",
    "\"\"\"\n",
    "\n",
    "for sentence in generate(CFG.fromstring(cfg_grammar), n=1000):\n",
    "    print(' '.join(sentence))"
   ]
  },
  {
   "cell_type": "code",
   "execution_count": 63,
   "metadata": {},
   "outputs": [
    {
     "name": "stdout",
     "output_type": "stream",
     "text": [
      "a jugé le patient contre |forward|trigger|negated|10|Group[981]|PRE-VALIDATION\n",
      "a jugé le client contre |forward|trigger|negated|10|Group[981]|PRE-VALIDATION\n",
      "a jugé le souffrant contre |forward|trigger|negated|10|Group[981]|PRE-VALIDATION\n",
      "a jugé le sujet contre |forward|trigger|negated|10|Group[981]|PRE-VALIDATION\n",
      "a prononcer le patient contre |forward|trigger|negated|10|Group[981]|PRE-VALIDATION\n",
      "a prononcer le client contre |forward|trigger|negated|10|Group[981]|PRE-VALIDATION\n",
      "a prononcer le souffrant contre |forward|trigger|negated|10|Group[981]|PRE-VALIDATION\n",
      "a prononcer le sujet contre |forward|trigger|negated|10|Group[981]|PRE-VALIDATION\n",
      "a reconnu le patient contre |forward|trigger|negated|10|Group[981]|PRE-VALIDATION\n",
      "a reconnu le client contre |forward|trigger|negated|10|Group[981]|PRE-VALIDATION\n",
      "a reconnu le souffrant contre |forward|trigger|negated|10|Group[981]|PRE-VALIDATION\n",
      "a reconnu le sujet contre |forward|trigger|negated|10|Group[981]|PRE-VALIDATION\n",
      "a noté le patient contre |forward|trigger|negated|10|Group[981]|PRE-VALIDATION\n",
      "a noté le client contre |forward|trigger|negated|10|Group[981]|PRE-VALIDATION\n",
      "a noté le souffrant contre |forward|trigger|negated|10|Group[981]|PRE-VALIDATION\n",
      "a noté le sujet contre |forward|trigger|negated|10|Group[981]|PRE-VALIDATION\n",
      "a classé le patient contre |forward|trigger|negated|10|Group[981]|PRE-VALIDATION\n",
      "a classé le client contre |forward|trigger|negated|10|Group[981]|PRE-VALIDATION\n",
      "a classé le souffrant contre |forward|trigger|negated|10|Group[981]|PRE-VALIDATION\n",
      "a classé le sujet contre |forward|trigger|negated|10|Group[981]|PRE-VALIDATION\n",
      "a évalué le patient contre |forward|trigger|negated|10|Group[981]|PRE-VALIDATION\n",
      "a évalué le client contre |forward|trigger|negated|10|Group[981]|PRE-VALIDATION\n",
      "a évalué le souffrant contre |forward|trigger|negated|10|Group[981]|PRE-VALIDATION\n",
      "a évalué le sujet contre |forward|trigger|negated|10|Group[981]|PRE-VALIDATION\n",
      "a considéré le patient contre |forward|trigger|negated|10|Group[981]|PRE-VALIDATION\n",
      "a considéré le client contre |forward|trigger|negated|10|Group[981]|PRE-VALIDATION\n",
      "a considéré le souffrant contre |forward|trigger|negated|10|Group[981]|PRE-VALIDATION\n",
      "a considéré le sujet contre |forward|trigger|negated|10|Group[981]|PRE-VALIDATION\n",
      "a examiné le patient contre |forward|trigger|negated|10|Group[981]|PRE-VALIDATION\n",
      "a examiné le client contre |forward|trigger|negated|10|Group[981]|PRE-VALIDATION\n",
      "a examiné le souffrant contre |forward|trigger|negated|10|Group[981]|PRE-VALIDATION\n",
      "a examiné le sujet contre |forward|trigger|negated|10|Group[981]|PRE-VALIDATION\n",
      "a estimé le patient contre |forward|trigger|negated|10|Group[981]|PRE-VALIDATION\n",
      "a estimé le client contre |forward|trigger|negated|10|Group[981]|PRE-VALIDATION\n",
      "a estimé le souffrant contre |forward|trigger|negated|10|Group[981]|PRE-VALIDATION\n",
      "a estimé le sujet contre |forward|trigger|negated|10|Group[981]|PRE-VALIDATION\n",
      "a conclu le patient contre |forward|trigger|negated|10|Group[981]|PRE-VALIDATION\n",
      "a conclu le client contre |forward|trigger|negated|10|Group[981]|PRE-VALIDATION\n",
      "a conclu le souffrant contre |forward|trigger|negated|10|Group[981]|PRE-VALIDATION\n",
      "a conclu le sujet contre |forward|trigger|negated|10|Group[981]|PRE-VALIDATION\n",
      "a sondé le patient contre |forward|trigger|negated|10|Group[981]|PRE-VALIDATION\n",
      "a sondé le client contre |forward|trigger|negated|10|Group[981]|PRE-VALIDATION\n",
      "a sondé le souffrant contre |forward|trigger|negated|10|Group[981]|PRE-VALIDATION\n",
      "a sondé le sujet contre |forward|trigger|negated|10|Group[981]|PRE-VALIDATION\n",
      "a expertisé le patient contre |forward|trigger|negated|10|Group[981]|PRE-VALIDATION\n",
      "a expertisé le client contre |forward|trigger|negated|10|Group[981]|PRE-VALIDATION\n",
      "a expertisé le souffrant contre |forward|trigger|negated|10|Group[981]|PRE-VALIDATION\n",
      "a expertisé le sujet contre |forward|trigger|negated|10|Group[981]|PRE-VALIDATION\n",
      "a entendu le patient contre |forward|trigger|negated|10|Group[981]|PRE-VALIDATION\n",
      "a entendu le client contre |forward|trigger|negated|10|Group[981]|PRE-VALIDATION\n",
      "a entendu le souffrant contre |forward|trigger|negated|10|Group[981]|PRE-VALIDATION\n",
      "a entendu le sujet contre |forward|trigger|negated|10|Group[981]|PRE-VALIDATION\n",
      "a trouvé le patient contre |forward|trigger|negated|10|Group[981]|PRE-VALIDATION\n",
      "a trouvé le client contre |forward|trigger|negated|10|Group[981]|PRE-VALIDATION\n",
      "a trouvé le souffrant contre |forward|trigger|negated|10|Group[981]|PRE-VALIDATION\n",
      "a trouvé le sujet contre |forward|trigger|negated|10|Group[981]|PRE-VALIDATION\n",
      "a déterminé le patient contre |forward|trigger|negated|10|Group[981]|PRE-VALIDATION\n",
      "a déterminé le client contre |forward|trigger|negated|10|Group[981]|PRE-VALIDATION\n",
      "a déterminé le souffrant contre |forward|trigger|negated|10|Group[981]|PRE-VALIDATION\n",
      "a déterminé le sujet contre |forward|trigger|negated|10|Group[981]|PRE-VALIDATION\n"
     ]
    }
   ],
   "source": [
    "from nltk.parse.generate import generate, demo_grammar\n",
    "from nltk import CFG\n",
    "\n",
    "cfg_grammar= \"\"\"\n",
    "S ->  Auxiliary1 Verb2 Determiner3 Noun4 Adposition5 Trigger_Rule\n",
    "Auxiliary1 -> \"a\"\n",
    "Verb2 -> \"jugé\" | \"prononcer\" | \"reconnu\" | \"noté\" | \"classé\" | \"évalué\" | \"considéré\" | \"examiné\" | \"estimé\" | \"conclu\" | \"sondé\" | \"expertisé\" | \"entendu\" | \"trouvé\" | \"déterminé\"\n",
    "Determiner3 -> \"le\"\n",
    "Noun4 -> \"patient\" | \"client\" | \"souffrant\" | \"sujet\"\n",
    "Adposition5 -> \"contre\"\n",
    "Trigger_Rule -> \"|forward|trigger|negated|10|Group[981]|PRE-VALIDATION\"\n",
    "\"\"\"\n",
    "\n",
    "for sentence in generate(CFG.fromstring(cfg_grammar), n=1000):\n",
    "    print(' '.join(sentence))"
   ]
  },
  {
   "cell_type": "code",
   "execution_count": 64,
   "metadata": {},
   "outputs": [
    {
     "name": "stdout",
     "output_type": "stream",
     "text": [
      "a jugé le patient pour |forward|trigger|negated|10|Group[983]|PRE-VALIDATION\n",
      "a jugé le client pour |forward|trigger|negated|10|Group[983]|PRE-VALIDATION\n",
      "a jugé le souffrant pour |forward|trigger|negated|10|Group[983]|PRE-VALIDATION\n",
      "a jugé le sujet pour |forward|trigger|negated|10|Group[983]|PRE-VALIDATION\n",
      "a prononcer le patient pour |forward|trigger|negated|10|Group[983]|PRE-VALIDATION\n",
      "a prononcer le client pour |forward|trigger|negated|10|Group[983]|PRE-VALIDATION\n",
      "a prononcer le souffrant pour |forward|trigger|negated|10|Group[983]|PRE-VALIDATION\n",
      "a prononcer le sujet pour |forward|trigger|negated|10|Group[983]|PRE-VALIDATION\n",
      "a reconnu le patient pour |forward|trigger|negated|10|Group[983]|PRE-VALIDATION\n",
      "a reconnu le client pour |forward|trigger|negated|10|Group[983]|PRE-VALIDATION\n",
      "a reconnu le souffrant pour |forward|trigger|negated|10|Group[983]|PRE-VALIDATION\n",
      "a reconnu le sujet pour |forward|trigger|negated|10|Group[983]|PRE-VALIDATION\n",
      "a noté le patient pour |forward|trigger|negated|10|Group[983]|PRE-VALIDATION\n",
      "a noté le client pour |forward|trigger|negated|10|Group[983]|PRE-VALIDATION\n",
      "a noté le souffrant pour |forward|trigger|negated|10|Group[983]|PRE-VALIDATION\n",
      "a noté le sujet pour |forward|trigger|negated|10|Group[983]|PRE-VALIDATION\n",
      "a classé le patient pour |forward|trigger|negated|10|Group[983]|PRE-VALIDATION\n",
      "a classé le client pour |forward|trigger|negated|10|Group[983]|PRE-VALIDATION\n",
      "a classé le souffrant pour |forward|trigger|negated|10|Group[983]|PRE-VALIDATION\n",
      "a classé le sujet pour |forward|trigger|negated|10|Group[983]|PRE-VALIDATION\n",
      "a évalué le patient pour |forward|trigger|negated|10|Group[983]|PRE-VALIDATION\n",
      "a évalué le client pour |forward|trigger|negated|10|Group[983]|PRE-VALIDATION\n",
      "a évalué le souffrant pour |forward|trigger|negated|10|Group[983]|PRE-VALIDATION\n",
      "a évalué le sujet pour |forward|trigger|negated|10|Group[983]|PRE-VALIDATION\n",
      "a considéré le patient pour |forward|trigger|negated|10|Group[983]|PRE-VALIDATION\n",
      "a considéré le client pour |forward|trigger|negated|10|Group[983]|PRE-VALIDATION\n",
      "a considéré le souffrant pour |forward|trigger|negated|10|Group[983]|PRE-VALIDATION\n",
      "a considéré le sujet pour |forward|trigger|negated|10|Group[983]|PRE-VALIDATION\n",
      "a examiné le patient pour |forward|trigger|negated|10|Group[983]|PRE-VALIDATION\n",
      "a examiné le client pour |forward|trigger|negated|10|Group[983]|PRE-VALIDATION\n",
      "a examiné le souffrant pour |forward|trigger|negated|10|Group[983]|PRE-VALIDATION\n",
      "a examiné le sujet pour |forward|trigger|negated|10|Group[983]|PRE-VALIDATION\n",
      "a estimé le patient pour |forward|trigger|negated|10|Group[983]|PRE-VALIDATION\n",
      "a estimé le client pour |forward|trigger|negated|10|Group[983]|PRE-VALIDATION\n",
      "a estimé le souffrant pour |forward|trigger|negated|10|Group[983]|PRE-VALIDATION\n",
      "a estimé le sujet pour |forward|trigger|negated|10|Group[983]|PRE-VALIDATION\n",
      "a conclu le patient pour |forward|trigger|negated|10|Group[983]|PRE-VALIDATION\n",
      "a conclu le client pour |forward|trigger|negated|10|Group[983]|PRE-VALIDATION\n",
      "a conclu le souffrant pour |forward|trigger|negated|10|Group[983]|PRE-VALIDATION\n",
      "a conclu le sujet pour |forward|trigger|negated|10|Group[983]|PRE-VALIDATION\n",
      "a sondé le patient pour |forward|trigger|negated|10|Group[983]|PRE-VALIDATION\n",
      "a sondé le client pour |forward|trigger|negated|10|Group[983]|PRE-VALIDATION\n",
      "a sondé le souffrant pour |forward|trigger|negated|10|Group[983]|PRE-VALIDATION\n",
      "a sondé le sujet pour |forward|trigger|negated|10|Group[983]|PRE-VALIDATION\n",
      "a expertisé le patient pour |forward|trigger|negated|10|Group[983]|PRE-VALIDATION\n",
      "a expertisé le client pour |forward|trigger|negated|10|Group[983]|PRE-VALIDATION\n",
      "a expertisé le souffrant pour |forward|trigger|negated|10|Group[983]|PRE-VALIDATION\n",
      "a expertisé le sujet pour |forward|trigger|negated|10|Group[983]|PRE-VALIDATION\n",
      "a entendu le patient pour |forward|trigger|negated|10|Group[983]|PRE-VALIDATION\n",
      "a entendu le client pour |forward|trigger|negated|10|Group[983]|PRE-VALIDATION\n",
      "a entendu le souffrant pour |forward|trigger|negated|10|Group[983]|PRE-VALIDATION\n",
      "a entendu le sujet pour |forward|trigger|negated|10|Group[983]|PRE-VALIDATION\n",
      "a trouvé le patient pour |forward|trigger|negated|10|Group[983]|PRE-VALIDATION\n",
      "a trouvé le client pour |forward|trigger|negated|10|Group[983]|PRE-VALIDATION\n",
      "a trouvé le souffrant pour |forward|trigger|negated|10|Group[983]|PRE-VALIDATION\n",
      "a trouvé le sujet pour |forward|trigger|negated|10|Group[983]|PRE-VALIDATION\n",
      "a déterminé le patient pour |forward|trigger|negated|10|Group[983]|PRE-VALIDATION\n",
      "a déterminé le client pour |forward|trigger|negated|10|Group[983]|PRE-VALIDATION\n",
      "a déterminé le souffrant pour |forward|trigger|negated|10|Group[983]|PRE-VALIDATION\n",
      "a déterminé le sujet pour |forward|trigger|negated|10|Group[983]|PRE-VALIDATION\n"
     ]
    }
   ],
   "source": [
    "from nltk.parse.generate import generate, demo_grammar\n",
    "from nltk import CFG\n",
    "\n",
    "cfg_grammar= \"\"\"\n",
    "S ->  Auxiliary1 Verb2 Determiner3 Noun4 Adposition5 Trigger_Rule\n",
    "Auxiliary1 -> \"a\"\n",
    "Verb2 -> \"jugé\" | \"prononcer\" | \"reconnu\" | \"noté\" | \"classé\" | \"évalué\" | \"considéré\" | \"examiné\" | \"estimé\" | \"conclu\" | \"sondé\" | \"expertisé\" | \"entendu\" | \"trouvé\" | \"déterminé\"\n",
    "Determiner3 -> \"le\"\n",
    "Noun4 -> \"patient\" | \"client\" | \"souffrant\" | \"sujet\"\n",
    "Adposition5 -> \"pour\"\n",
    "Trigger_Rule -> \"|forward|trigger|negated|10|Group[983]|PRE-VALIDATION\"\n",
    "\"\"\"\n",
    "\n",
    "for sentence in generate(CFG.fromstring(cfg_grammar), n=1000):\n",
    "    print(' '.join(sentence))"
   ]
  },
  {
   "cell_type": "code",
   "execution_count": 65,
   "metadata": {},
   "outputs": [
    {
     "name": "stdout",
     "output_type": "stream",
     "text": [
      "exclu le patient |forward|trigger|negated|10|Group[985]|PRE-VALIDATION\n",
      "exclu le client |forward|trigger|negated|10|Group[985]|PRE-VALIDATION\n",
      "exclu le souffrant |forward|trigger|negated|10|Group[985]|PRE-VALIDATION\n",
      "exclu le sujet |forward|trigger|negated|10|Group[985]|PRE-VALIDATION\n",
      "refusé le patient |forward|trigger|negated|10|Group[985]|PRE-VALIDATION\n",
      "refusé le client |forward|trigger|negated|10|Group[985]|PRE-VALIDATION\n",
      "refusé le souffrant |forward|trigger|negated|10|Group[985]|PRE-VALIDATION\n",
      "refusé le sujet |forward|trigger|negated|10|Group[985]|PRE-VALIDATION\n",
      "repoussé le patient |forward|trigger|negated|10|Group[985]|PRE-VALIDATION\n",
      "repoussé le client |forward|trigger|negated|10|Group[985]|PRE-VALIDATION\n",
      "repoussé le souffrant |forward|trigger|negated|10|Group[985]|PRE-VALIDATION\n",
      "repoussé le sujet |forward|trigger|negated|10|Group[985]|PRE-VALIDATION\n",
      "rejeté le patient |forward|trigger|negated|10|Group[985]|PRE-VALIDATION\n",
      "rejeté le client |forward|trigger|negated|10|Group[985]|PRE-VALIDATION\n",
      "rejeté le souffrant |forward|trigger|negated|10|Group[985]|PRE-VALIDATION\n",
      "rejeté le sujet |forward|trigger|negated|10|Group[985]|PRE-VALIDATION\n",
      "éliminé le patient |forward|trigger|negated|10|Group[985]|PRE-VALIDATION\n",
      "éliminé le client |forward|trigger|negated|10|Group[985]|PRE-VALIDATION\n",
      "éliminé le souffrant |forward|trigger|negated|10|Group[985]|PRE-VALIDATION\n",
      "éliminé le sujet |forward|trigger|negated|10|Group[985]|PRE-VALIDATION\n",
      "proscrit le patient |forward|trigger|negated|10|Group[985]|PRE-VALIDATION\n",
      "proscrit le client |forward|trigger|negated|10|Group[985]|PRE-VALIDATION\n",
      "proscrit le souffrant |forward|trigger|negated|10|Group[985]|PRE-VALIDATION\n",
      "proscrit le sujet |forward|trigger|negated|10|Group[985]|PRE-VALIDATION\n"
     ]
    }
   ],
   "source": [
    "from nltk.parse.generate import generate, demo_grammar\n",
    "from nltk import CFG\n",
    "\n",
    "cfg_grammar= \"\"\"\n",
    "S ->  Verb1 Determiner2 Noun3 Trigger_Rule\n",
    "Verb1 -> \"exclu\" | \"refusé\" | \"repoussé\" | \"rejeté\" | \"éliminé\" | \"proscrit\"\n",
    "Determiner2 -> \"le\"\n",
    "Noun3 -> \"patient\" | \"client\" | \"souffrant\" | \"sujet\"\n",
    "Trigger_Rule -> \"|forward|trigger|negated|10|Group[985]|PRE-VALIDATION\"\n",
    "\"\"\"\n",
    "\n",
    "for sentence in generate(CFG.fromstring(cfg_grammar), n=1000):\n",
    "    print(' '.join(sentence))"
   ]
  },
  {
   "cell_type": "code",
   "execution_count": 66,
   "metadata": {},
   "outputs": [
    {
     "name": "stdout",
     "output_type": "stream",
     "text": [
      "la chasse pour |forward|trigger|negated|10|Group[987]|PRE-VALIDATION\n"
     ]
    }
   ],
   "source": [
    "from nltk.parse.generate import generate, demo_grammar\n",
    "from nltk import CFG\n",
    "\n",
    "cfg_grammar= \"\"\"\n",
    "S ->  Determiner1 Noun2 Adposition3 Trigger_Rule\n",
    "Determiner1 -> \"la\"\n",
    "Noun2 -> \"chasse\"\n",
    "Adposition3 -> \"pour\"\n",
    "Trigger_Rule -> \"|forward|trigger|negated|10|Group[987]|PRE-VALIDATION\"\n",
    "\"\"\"\n",
    "\n",
    "for sentence in generate(CFG.fromstring(cfg_grammar), n=1000):\n",
    "    print(' '.join(sentence))"
   ]
  },
  {
   "cell_type": "code",
   "execution_count": 67,
   "metadata": {},
   "outputs": [
    {
     "name": "stdout",
     "output_type": "stream",
     "text": [
      "la chasse |forward|trigger|negated|10|Group[989]|PRE-VALIDATION\n"
     ]
    }
   ],
   "source": [
    "from nltk.parse.generate import generate, demo_grammar\n",
    "from nltk import CFG\n",
    "\n",
    "cfg_grammar= \"\"\"\n",
    "S ->  Determiner1 Noun2 Trigger_Rule\n",
    "Determiner1 -> \"la\"\n",
    "Noun2 -> \"chasse\"\n",
    "Trigger_Rule -> \"|forward|trigger|negated|10|Group[989]|PRE-VALIDATION\"\n",
    "\"\"\"\n",
    "\n",
    "for sentence in generate(CFG.fromstring(cfg_grammar), n=1000):\n",
    "    print(' '.join(sentence))"
   ]
  },
  {
   "cell_type": "code",
   "execution_count": 68,
   "metadata": {},
   "outputs": [
    {
     "name": "stdout",
     "output_type": "stream",
     "text": [
      "l'exclut pour |forward|trigger|negated|10|Group[991]|PRE-VALIDATION\n",
      "l'interdire pour |forward|trigger|negated|10|Group[991]|PRE-VALIDATION\n",
      "proscrire pour |forward|trigger|negated|10|Group[991]|PRE-VALIDATION\n",
      "l'éloigner pour |forward|trigger|negated|10|Group[991]|PRE-VALIDATION\n",
      "renvoyer pour |forward|trigger|negated|10|Group[991]|PRE-VALIDATION\n",
      "rejeter pour |forward|trigger|negated|10|Group[991]|PRE-VALIDATION\n",
      "l'évincer pour |forward|trigger|negated|10|Group[991]|PRE-VALIDATION\n",
      "radier pour |forward|trigger|negated|10|Group[991]|PRE-VALIDATION\n",
      "l'écarter pour |forward|trigger|negated|10|Group[991]|PRE-VALIDATION\n",
      "l'empêcher pour |forward|trigger|negated|10|Group[991]|PRE-VALIDATION\n",
      "l'écart pour |forward|trigger|negated|10|Group[991]|PRE-VALIDATION\n"
     ]
    }
   ],
   "source": [
    "from nltk.parse.generate import generate, demo_grammar\n",
    "from nltk import CFG\n",
    "\n",
    "cfg_grammar= \"\"\"\n",
    "S -> Noun2 Adposition3 Trigger_Rule\n",
    "Noun2 -> \"l'exclut\" | \"l'interdire\" | \"proscrire\" | \"l'éloigner\" | \"renvoyer\" | \"rejeter\" | \"l'évincer\" | \"radier\" | \"l'écarter\" | \"l'empêcher\" | \"l'écart\"\n",
    "Adposition3 -> \"pour\"\n",
    "Trigger_Rule -> \"|forward|trigger|negated|10|Group[991]|PRE-VALIDATION\"\n",
    "\"\"\"\n",
    "\n",
    "for sentence in generate(CFG.fromstring(cfg_grammar), n=1000):\n",
    "    print(' '.join(sentence))"
   ]
  },
  {
   "cell_type": "code",
   "execution_count": 69,
   "metadata": {},
   "outputs": [
    {
     "name": "stdout",
     "output_type": "stream",
     "text": [
      "l'exclut |forward|trigger|negated|10|Group[993]|PRE-VALIDATION\n",
      "l'interdire |forward|trigger|negated|10|Group[993]|PRE-VALIDATION\n",
      "proscrire |forward|trigger|negated|10|Group[993]|PRE-VALIDATION\n",
      "l'éloigner |forward|trigger|negated|10|Group[993]|PRE-VALIDATION\n",
      "renvoyer |forward|trigger|negated|10|Group[993]|PRE-VALIDATION\n",
      "rejeter |forward|trigger|negated|10|Group[993]|PRE-VALIDATION\n",
      "l'évincer |forward|trigger|negated|10|Group[993]|PRE-VALIDATION\n",
      "radier |forward|trigger|negated|10|Group[993]|PRE-VALIDATION\n",
      "l'écarter |forward|trigger|negated|10|Group[993]|PRE-VALIDATION\n",
      "l'empêcher |forward|trigger|negated|10|Group[993]|PRE-VALIDATION\n",
      "l'écart |forward|trigger|negated|10|Group[993]|PRE-VALIDATION\n"
     ]
    }
   ],
   "source": [
    "from nltk.parse.generate import generate, demo_grammar\n",
    "from nltk import CFG\n",
    "\n",
    "cfg_grammar= \"\"\"\n",
    "S -> Noun2 Trigger_Rule\n",
    "Noun2 -> \"l'exclut\" | \"l'interdire\" | \"proscrire\" | \"l'éloigner\" | \"renvoyer\" | \"rejeter\" | \"l'évincer\" | \"radier\" | \"l'écarter\" | \"l'empêcher\" | \"l'écart\"\n",
    "Trigger_Rule -> \"|forward|trigger|negated|10|Group[993]|PRE-VALIDATION\"\n",
    "\"\"\"\n",
    "\n",
    "for sentence in generate(CFG.fromstring(cfg_grammar), n=1000):\n",
    "    print(' '.join(sentence))"
   ]
  },
  {
   "cell_type": "code",
   "execution_count": 70,
   "metadata": {},
   "outputs": [
    {
     "name": "stdout",
     "output_type": "stream",
     "text": [
      "exclut pour |forward|trigger|negated|10|Group[995]|PRE-VALIDATION\n",
      "interdire pour |forward|trigger|negated|10|Group[995]|PRE-VALIDATION\n",
      "proscrire pour |forward|trigger|negated|10|Group[995]|PRE-VALIDATION\n",
      "éloigner pour |forward|trigger|negated|10|Group[995]|PRE-VALIDATION\n",
      "renvoyer pour |forward|trigger|negated|10|Group[995]|PRE-VALIDATION\n",
      "rejeter pour |forward|trigger|negated|10|Group[995]|PRE-VALIDATION\n",
      "évincer pour |forward|trigger|negated|10|Group[995]|PRE-VALIDATION\n",
      "radier pour |forward|trigger|negated|10|Group[995]|PRE-VALIDATION\n",
      "écarter pour |forward|trigger|negated|10|Group[995]|PRE-VALIDATION\n",
      "empêcher pour |forward|trigger|negated|10|Group[995]|PRE-VALIDATION\n",
      "écart pour |forward|trigger|negated|10|Group[995]|PRE-VALIDATION\n"
     ]
    }
   ],
   "source": [
    "from nltk.parse.generate import generate, demo_grammar\n",
    "from nltk import CFG\n",
    "\n",
    "cfg_grammar= \"\"\"\n",
    "S ->  Verb1 Adposition2 Trigger_Rule\n",
    "Verb1 -> \"exclut\" | \"interdire\" | \"proscrire\" | \"éloigner\" | \"renvoyer\" | \"rejeter\" | \"évincer\" | \"radier\" | \"écarter\" | \"empêcher\" | \"écart\"\n",
    "Adposition2 -> \"pour\"\n",
    "Trigger_Rule -> \"|forward|trigger|negated|10|Group[995]|PRE-VALIDATION\"\n",
    "\"\"\"\n",
    "\n",
    "for sentence in generate(CFG.fromstring(cfg_grammar), n=1000):\n",
    "    print(' '.join(sentence))"
   ]
  },
  {
   "cell_type": "code",
   "execution_count": 71,
   "metadata": {},
   "outputs": [
    {
     "name": "stdout",
     "output_type": "stream",
     "text": [
      "exclut |forward|trigger|negated|10|Group[997]|PRE-VALIDATION\n",
      "interdire |forward|trigger|negated|10|Group[997]|PRE-VALIDATION\n",
      "proscrire |forward|trigger|negated|10|Group[997]|PRE-VALIDATION\n",
      "éloigner |forward|trigger|negated|10|Group[997]|PRE-VALIDATION\n",
      "renvoyer |forward|trigger|negated|10|Group[997]|PRE-VALIDATION\n",
      "rejeter |forward|trigger|negated|10|Group[997]|PRE-VALIDATION\n",
      "évincer |forward|trigger|negated|10|Group[997]|PRE-VALIDATION\n",
      "radier |forward|trigger|negated|10|Group[997]|PRE-VALIDATION\n",
      "écarter |forward|trigger|negated|10|Group[997]|PRE-VALIDATION\n",
      "empêcher |forward|trigger|negated|10|Group[997]|PRE-VALIDATION\n",
      "écart |forward|trigger|negated|10|Group[997]|PRE-VALIDATION\n"
     ]
    }
   ],
   "source": [
    "from nltk.parse.generate import generate, demo_grammar\n",
    "from nltk import CFG\n",
    "\n",
    "cfg_grammar= \"\"\"\n",
    "S ->  Verb1 Trigger_Rule\n",
    "Verb1 -> \"exclut\" | \"interdire\" | \"proscrire\" | \"éloigner\" | \"renvoyer\" | \"rejeter\" | \"évincer\" | \"radier\" | \"écarter\" | \"empêcher\" | \"écart\"\n",
    "Trigger_Rule -> \"|forward|trigger|negated|10|Group[997]|PRE-VALIDATION\"\n",
    "\"\"\"\n",
    "\n",
    "for sentence in generate(CFG.fromstring(cfg_grammar), n=1000):\n",
    "    print(' '.join(sentence))"
   ]
  },
  {
   "cell_type": "code",
   "execution_count": 72,
   "metadata": {},
   "outputs": [
    {
     "name": "stdout",
     "output_type": "stream",
     "text": [
      "exclut le patient pour |forward|trigger|negated|10|Group[999]|PRE-VALIDATION\n",
      "exclut le client pour |forward|trigger|negated|10|Group[999]|PRE-VALIDATION\n",
      "exclut le souffrant pour |forward|trigger|negated|10|Group[999]|PRE-VALIDATION\n",
      "exclut le sujet pour |forward|trigger|negated|10|Group[999]|PRE-VALIDATION\n",
      "interdire le patient pour |forward|trigger|negated|10|Group[999]|PRE-VALIDATION\n",
      "interdire le client pour |forward|trigger|negated|10|Group[999]|PRE-VALIDATION\n",
      "interdire le souffrant pour |forward|trigger|negated|10|Group[999]|PRE-VALIDATION\n",
      "interdire le sujet pour |forward|trigger|negated|10|Group[999]|PRE-VALIDATION\n",
      "proscrire le patient pour |forward|trigger|negated|10|Group[999]|PRE-VALIDATION\n",
      "proscrire le client pour |forward|trigger|negated|10|Group[999]|PRE-VALIDATION\n",
      "proscrire le souffrant pour |forward|trigger|negated|10|Group[999]|PRE-VALIDATION\n",
      "proscrire le sujet pour |forward|trigger|negated|10|Group[999]|PRE-VALIDATION\n",
      "éloigner le patient pour |forward|trigger|negated|10|Group[999]|PRE-VALIDATION\n",
      "éloigner le client pour |forward|trigger|negated|10|Group[999]|PRE-VALIDATION\n",
      "éloigner le souffrant pour |forward|trigger|negated|10|Group[999]|PRE-VALIDATION\n",
      "éloigner le sujet pour |forward|trigger|negated|10|Group[999]|PRE-VALIDATION\n",
      "renvoyer le patient pour |forward|trigger|negated|10|Group[999]|PRE-VALIDATION\n",
      "renvoyer le client pour |forward|trigger|negated|10|Group[999]|PRE-VALIDATION\n",
      "renvoyer le souffrant pour |forward|trigger|negated|10|Group[999]|PRE-VALIDATION\n",
      "renvoyer le sujet pour |forward|trigger|negated|10|Group[999]|PRE-VALIDATION\n",
      "rejeter le patient pour |forward|trigger|negated|10|Group[999]|PRE-VALIDATION\n",
      "rejeter le client pour |forward|trigger|negated|10|Group[999]|PRE-VALIDATION\n",
      "rejeter le souffrant pour |forward|trigger|negated|10|Group[999]|PRE-VALIDATION\n",
      "rejeter le sujet pour |forward|trigger|negated|10|Group[999]|PRE-VALIDATION\n",
      "évincer le patient pour |forward|trigger|negated|10|Group[999]|PRE-VALIDATION\n",
      "évincer le client pour |forward|trigger|negated|10|Group[999]|PRE-VALIDATION\n",
      "évincer le souffrant pour |forward|trigger|negated|10|Group[999]|PRE-VALIDATION\n",
      "évincer le sujet pour |forward|trigger|negated|10|Group[999]|PRE-VALIDATION\n",
      "radier le patient pour |forward|trigger|negated|10|Group[999]|PRE-VALIDATION\n",
      "radier le client pour |forward|trigger|negated|10|Group[999]|PRE-VALIDATION\n",
      "radier le souffrant pour |forward|trigger|negated|10|Group[999]|PRE-VALIDATION\n",
      "radier le sujet pour |forward|trigger|negated|10|Group[999]|PRE-VALIDATION\n",
      "écarter le patient pour |forward|trigger|negated|10|Group[999]|PRE-VALIDATION\n",
      "écarter le client pour |forward|trigger|negated|10|Group[999]|PRE-VALIDATION\n",
      "écarter le souffrant pour |forward|trigger|negated|10|Group[999]|PRE-VALIDATION\n",
      "écarter le sujet pour |forward|trigger|negated|10|Group[999]|PRE-VALIDATION\n",
      "empêcher le patient pour |forward|trigger|negated|10|Group[999]|PRE-VALIDATION\n",
      "empêcher le client pour |forward|trigger|negated|10|Group[999]|PRE-VALIDATION\n",
      "empêcher le souffrant pour |forward|trigger|negated|10|Group[999]|PRE-VALIDATION\n",
      "empêcher le sujet pour |forward|trigger|negated|10|Group[999]|PRE-VALIDATION\n",
      "écart le patient pour |forward|trigger|negated|10|Group[999]|PRE-VALIDATION\n",
      "écart le client pour |forward|trigger|negated|10|Group[999]|PRE-VALIDATION\n",
      "écart le souffrant pour |forward|trigger|negated|10|Group[999]|PRE-VALIDATION\n",
      "écart le sujet pour |forward|trigger|negated|10|Group[999]|PRE-VALIDATION\n"
     ]
    }
   ],
   "source": [
    "from nltk.parse.generate import generate, demo_grammar\n",
    "from nltk import CFG\n",
    "\n",
    "cfg_grammar= \"\"\"\n",
    "S ->  Verb1 Determiner2 Noun3 Adposition4 Trigger_Rule\n",
    "Verb1 -> \"exclut\" | \"interdire\" | \"proscrire\" | \"éloigner\" | \"renvoyer\" | \"rejeter\" | \"évincer\" | \"radier\" | \"écarter\" | \"empêcher\" | \"écart\"\n",
    "Determiner2 -> \"le\"\n",
    "Noun3 -> \"patient\" | \"client\" | \"souffrant\" | \"sujet\"\n",
    "Adposition4 -> \"pour\"\n",
    "Trigger_Rule -> \"|forward|trigger|negated|10|Group[999]|PRE-VALIDATION\"\n",
    "\"\"\"\n",
    "\n",
    "for sentence in generate(CFG.fromstring(cfg_grammar), n=1000):\n",
    "    print(' '.join(sentence))"
   ]
  },
  {
   "cell_type": "code",
   "execution_count": 73,
   "metadata": {},
   "outputs": [
    {
     "name": "stdout",
     "output_type": "stream",
     "text": [
      "exclut le patient |forward|trigger|negated|10|Group[1001]|PRE-VALIDATION\n",
      "exclut le client |forward|trigger|negated|10|Group[1001]|PRE-VALIDATION\n",
      "exclut le souffrant |forward|trigger|negated|10|Group[1001]|PRE-VALIDATION\n",
      "exclut le sujet |forward|trigger|negated|10|Group[1001]|PRE-VALIDATION\n",
      "interdire le patient |forward|trigger|negated|10|Group[1001]|PRE-VALIDATION\n",
      "interdire le client |forward|trigger|negated|10|Group[1001]|PRE-VALIDATION\n",
      "interdire le souffrant |forward|trigger|negated|10|Group[1001]|PRE-VALIDATION\n",
      "interdire le sujet |forward|trigger|negated|10|Group[1001]|PRE-VALIDATION\n",
      "proscrire le patient |forward|trigger|negated|10|Group[1001]|PRE-VALIDATION\n",
      "proscrire le client |forward|trigger|negated|10|Group[1001]|PRE-VALIDATION\n",
      "proscrire le souffrant |forward|trigger|negated|10|Group[1001]|PRE-VALIDATION\n",
      "proscrire le sujet |forward|trigger|negated|10|Group[1001]|PRE-VALIDATION\n",
      "éloigner le patient |forward|trigger|negated|10|Group[1001]|PRE-VALIDATION\n",
      "éloigner le client |forward|trigger|negated|10|Group[1001]|PRE-VALIDATION\n",
      "éloigner le souffrant |forward|trigger|negated|10|Group[1001]|PRE-VALIDATION\n",
      "éloigner le sujet |forward|trigger|negated|10|Group[1001]|PRE-VALIDATION\n",
      "renvoyer le patient |forward|trigger|negated|10|Group[1001]|PRE-VALIDATION\n",
      "renvoyer le client |forward|trigger|negated|10|Group[1001]|PRE-VALIDATION\n",
      "renvoyer le souffrant |forward|trigger|negated|10|Group[1001]|PRE-VALIDATION\n",
      "renvoyer le sujet |forward|trigger|negated|10|Group[1001]|PRE-VALIDATION\n",
      "rejeter le patient |forward|trigger|negated|10|Group[1001]|PRE-VALIDATION\n",
      "rejeter le client |forward|trigger|negated|10|Group[1001]|PRE-VALIDATION\n",
      "rejeter le souffrant |forward|trigger|negated|10|Group[1001]|PRE-VALIDATION\n",
      "rejeter le sujet |forward|trigger|negated|10|Group[1001]|PRE-VALIDATION\n",
      "évincer le patient |forward|trigger|negated|10|Group[1001]|PRE-VALIDATION\n",
      "évincer le client |forward|trigger|negated|10|Group[1001]|PRE-VALIDATION\n",
      "évincer le souffrant |forward|trigger|negated|10|Group[1001]|PRE-VALIDATION\n",
      "évincer le sujet |forward|trigger|negated|10|Group[1001]|PRE-VALIDATION\n",
      "radier le patient |forward|trigger|negated|10|Group[1001]|PRE-VALIDATION\n",
      "radier le client |forward|trigger|negated|10|Group[1001]|PRE-VALIDATION\n",
      "radier le souffrant |forward|trigger|negated|10|Group[1001]|PRE-VALIDATION\n",
      "radier le sujet |forward|trigger|negated|10|Group[1001]|PRE-VALIDATION\n",
      "écarter le patient |forward|trigger|negated|10|Group[1001]|PRE-VALIDATION\n",
      "écarter le client |forward|trigger|negated|10|Group[1001]|PRE-VALIDATION\n",
      "écarter le souffrant |forward|trigger|negated|10|Group[1001]|PRE-VALIDATION\n",
      "écarter le sujet |forward|trigger|negated|10|Group[1001]|PRE-VALIDATION\n",
      "empêcher le patient |forward|trigger|negated|10|Group[1001]|PRE-VALIDATION\n",
      "empêcher le client |forward|trigger|negated|10|Group[1001]|PRE-VALIDATION\n",
      "empêcher le souffrant |forward|trigger|negated|10|Group[1001]|PRE-VALIDATION\n",
      "empêcher le sujet |forward|trigger|negated|10|Group[1001]|PRE-VALIDATION\n",
      "écart le patient |forward|trigger|negated|10|Group[1001]|PRE-VALIDATION\n",
      "écart le client |forward|trigger|negated|10|Group[1001]|PRE-VALIDATION\n",
      "écart le souffrant |forward|trigger|negated|10|Group[1001]|PRE-VALIDATION\n",
      "écart le sujet |forward|trigger|negated|10|Group[1001]|PRE-VALIDATION\n"
     ]
    }
   ],
   "source": [
    "from nltk.parse.generate import generate, demo_grammar\n",
    "from nltk import CFG\n",
    "\n",
    "cfg_grammar= \"\"\"\n",
    "S ->  Verb1 Determiner2 Noun3 Trigger_Rule\n",
    "Verb1 -> \"exclut\" | \"interdire\" | \"proscrire\" | \"éloigner\" | \"renvoyer\" | \"rejeter\" | \"évincer\" | \"radier\" | \"écarter\" | \"empêcher\" | \"écart\"\n",
    "Determiner2 -> \"le\"\n",
    "Noun3 -> \"patient\" | \"client\" | \"souffrant\" | \"sujet\"\n",
    "Trigger_Rule -> \"|forward|trigger|negated|10|Group[1001]|PRE-VALIDATION\"\n",
    "\"\"\"\n",
    "\n",
    "for sentence in generate(CFG.fromstring(cfg_grammar), n=1000):\n",
    "    print(' '.join(sentence))"
   ]
  },
  {
   "cell_type": "code",
   "execution_count": 74,
   "metadata": {},
   "outputs": [
    {
     "name": "stdout",
     "output_type": "stream",
     "text": [
      "s p |both|pseudo|uncertain|30|Group[1003]|PRE-VALIDATION\n"
     ]
    }
   ],
   "source": [
    "from nltk.parse.generate import generate, demo_grammar\n",
    "from nltk import CFG\n",
    "\n",
    "cfg_grammar= \"\"\"\n",
    "S ->  Adposition1 Noun2 Trigger_Rule\n",
    "Adposition1 -> \"s\"\n",
    "Noun2 -> \"p\"\n",
    "Trigger_Rule -> \"|both|pseudo|uncertain|30|Group[1003]|PRE-VALIDATION\"\n",
    "\"\"\"\n",
    "\n",
    "for sentence in generate(CFG.fromstring(cfg_grammar), n=1000):\n",
    "    print(' '.join(sentence))"
   ]
  },
  {
   "cell_type": "code",
   "execution_count": 75,
   "metadata": {},
   "outputs": [
    {
     "name": "stdout",
     "output_type": "stream",
     "text": [
      "secondaire à |forward|termination|negated|10|Group[1004]|PRE-VALIDATION\n"
     ]
    }
   ],
   "source": [
    "from nltk.parse.generate import generate, demo_grammar\n",
    "from nltk import CFG\n",
    "\n",
    "cfg_grammar= \"\"\"\n",
    "S ->  Adjective1 Adposition2 Trigger_Rule\n",
    "Adjective1 -> \"secondaire\"\n",
    "Adposition2 -> \"à\"\n",
    "Trigger_Rule -> \"|forward|termination|negated|10|Group[1004]|PRE-VALIDATION\"\n",
    "\"\"\"\n",
    "\n",
    "for sentence in generate(CFG.fromstring(cfg_grammar), n=1000):\n",
    "    print(' '.join(sentence))"
   ]
  },
  {
   "cell_type": "code",
   "execution_count": 76,
   "metadata": {},
   "outputs": [
    {
     "name": "stdout",
     "output_type": "stream",
     "text": [
      "secondaire |forward|termination|negated|10|Group[1004]|PRE-VALIDATION\n"
     ]
    }
   ],
   "source": [
    "from nltk.parse.generate import generate, demo_grammar\n",
    "from nltk import CFG\n",
    "\n",
    "cfg_grammar= \"\"\"\n",
    "S ->  Adjective1 Trigger_Rule\n",
    "Adjective1 -> \"secondaire\"\n",
    "Trigger_Rule -> \"|forward|termination|negated|10|Group[1004]|PRE-VALIDATION\"\n",
    "\"\"\"\n",
    "\n",
    "for sentence in generate(CFG.fromstring(cfg_grammar), n=1000):\n",
    "    print(' '.join(sentence))"
   ]
  },
  {
   "cell_type": "code",
   "execution_count": 77,
   "metadata": {},
   "outputs": [
    {
     "name": "stdout",
     "output_type": "stream",
     "text": [
      "elle a continué à |forward|termination|negated|10|Group[1006]|PRE-VALIDATION\n",
      "elle a reconduire à |forward|termination|negated|10|Group[1006]|PRE-VALIDATION\n",
      "elle a perpétuer à |forward|termination|negated|10|Group[1006]|PRE-VALIDATION\n",
      "elle a conserver à |forward|termination|negated|10|Group[1006]|PRE-VALIDATION\n",
      "elle a suivre à |forward|termination|negated|10|Group[1006]|PRE-VALIDATION\n",
      "elle a tenir à |forward|termination|negated|10|Group[1006]|PRE-VALIDATION\n",
      "elle a se poursuivre à |forward|termination|negated|10|Group[1006]|PRE-VALIDATION\n",
      "elle a donner suite à |forward|termination|negated|10|Group[1006]|PRE-VALIDATION\n",
      "elle a se perpétuer à |forward|termination|negated|10|Group[1006]|PRE-VALIDATION\n",
      "elle a s'acharner à |forward|termination|negated|10|Group[1006]|PRE-VALIDATION\n",
      "elle a s'obstiner à |forward|termination|negated|10|Group[1006]|PRE-VALIDATION\n",
      "elle a entretenir à |forward|termination|negated|10|Group[1006]|PRE-VALIDATION\n",
      "elle a perdurer à |forward|termination|negated|10|Group[1006]|PRE-VALIDATION\n",
      "elle a opiniâtrer à |forward|termination|negated|10|Group[1006]|PRE-VALIDATION\n",
      "elle a entêter à |forward|termination|negated|10|Group[1006]|PRE-VALIDATION\n"
     ]
    }
   ],
   "source": [
    "from nltk.parse.generate import generate, demo_grammar\n",
    "from nltk import CFG\n",
    "\n",
    "cfg_grammar= \"\"\"\n",
    "S ->  Pronoun1 Auxiliary2 Verb3 Adposition4 Trigger_Rule\n",
    "Pronoun1 -> \"elle\"\n",
    "Auxiliary2 -> \"a\"\n",
    "Verb3 -> \"continué\" | \"reconduire\" | \"perpétuer\" | \"conserver\" | \"suivre\" | \"tenir\" | \"se poursuivre\" | \"donner suite\" | \"se perpétuer\" | \"s'acharner\" | \"s'obstiner\" | \"entretenir\" | \"perdurer\" | \"opiniâtrer\" | \"entêter\"\n",
    "Adposition4 -> \"à\"\n",
    "Trigger_Rule -> \"|forward|termination|negated|10|Group[1006]|PRE-VALIDATION\"\n",
    "\"\"\"\n",
    "\n",
    "for sentence in generate(CFG.fromstring(cfg_grammar), n=1000):\n",
    "    print(' '.join(sentence))"
   ]
  },
  {
   "cell_type": "code",
   "execution_count": 78,
   "metadata": {},
   "outputs": [
    {
     "name": "stdout",
     "output_type": "stream",
     "text": [
      "devrait - il |forward|trigger|conditional|30|Group[1009]|PRE-VALIDATION\n",
      "nécessité - il |forward|trigger|conditional|30|Group[1009]|PRE-VALIDATION\n",
      "avoir à - il |forward|trigger|conditional|30|Group[1009]|PRE-VALIDATION\n",
      "être obligé - il |forward|trigger|conditional|30|Group[1009]|PRE-VALIDATION\n",
      "être tenu de - il |forward|trigger|conditional|30|Group[1009]|PRE-VALIDATION\n",
      "avoir besoin de - il |forward|trigger|conditional|30|Group[1009]|PRE-VALIDATION\n",
      "pourrait - il |forward|trigger|conditional|30|Group[1009]|PRE-VALIDATION\n"
     ]
    }
   ],
   "source": [
    "from nltk.parse.generate import generate, demo_grammar\n",
    "from nltk import CFG\n",
    "\n",
    "cfg_grammar= \"\"\"\n",
    "S ->  Verb1 Punctuation2 Pronoun3 Trigger_Rule\n",
    "Verb1 -> \"devrait\" | \"nécessité\" | \"avoir à\" | \"être obligé\" | \"être tenu de\" | \"avoir besoin de\" | \"pourrait\"\n",
    "Punctuation2 -> \"-\"\n",
    "Pronoun3 -> \"il\"\n",
    "Trigger_Rule -> \"|forward|trigger|conditional|30|Group[1009]|PRE-VALIDATION\"\n",
    "\"\"\"\n",
    "\n",
    "for sentence in generate(CFG.fromstring(cfg_grammar), n=1000):\n",
    "    print(' '.join(sentence))"
   ]
  },
  {
   "cell_type": "code",
   "execution_count": 79,
   "metadata": {},
   "outputs": [
    {
     "name": "stdout",
     "output_type": "stream",
     "text": [
      "devrait - elle |forward|trigger|conditional|30|Group[1009]|PRE-VALIDATION\n",
      "nécessité - elle |forward|trigger|conditional|30|Group[1009]|PRE-VALIDATION\n",
      "avoir à - elle |forward|trigger|conditional|30|Group[1009]|PRE-VALIDATION\n",
      "être obligé - elle |forward|trigger|conditional|30|Group[1009]|PRE-VALIDATION\n",
      "être tenu de - elle |forward|trigger|conditional|30|Group[1009]|PRE-VALIDATION\n",
      "avoir besoin de - elle |forward|trigger|conditional|30|Group[1009]|PRE-VALIDATION\n",
      "pourrait - elle |forward|trigger|conditional|30|Group[1009]|PRE-VALIDATION\n"
     ]
    }
   ],
   "source": [
    "from nltk.parse.generate import generate, demo_grammar\n",
    "from nltk import CFG\n",
    "\n",
    "cfg_grammar= \"\"\"\n",
    "S ->  Verb1 Punctuation2 Pronoun3 Trigger_Rule\n",
    "Verb1 -> \"devrait\" | \"nécessité\" | \"avoir à\" | \"être obligé\" | \"être tenu de\" | \"avoir besoin de\" | \"pourrait\"\n",
    "Punctuation2 -> \"-\"\n",
    "Pronoun3 -> \"elle\"\n",
    "Trigger_Rule -> \"|forward|trigger|conditional|30|Group[1009]|PRE-VALIDATION\"\n",
    "\"\"\"\n",
    "\n",
    "for sentence in generate(CFG.fromstring(cfg_grammar), n=1000):\n",
    "    print(' '.join(sentence))"
   ]
  },
  {
   "cell_type": "code",
   "execution_count": 80,
   "metadata": {},
   "outputs": [
    {
     "name": "stdout",
     "output_type": "stream",
     "text": [
      "le patient devrait - il |forward|trigger|conditional|30|Group[1011]|PRE-VALIDATION\n",
      "le patient nécessité - il |forward|trigger|conditional|30|Group[1011]|PRE-VALIDATION\n",
      "le patient avoir à - il |forward|trigger|conditional|30|Group[1011]|PRE-VALIDATION\n",
      "le patient être obligé - il |forward|trigger|conditional|30|Group[1011]|PRE-VALIDATION\n",
      "le patient être tenu de - il |forward|trigger|conditional|30|Group[1011]|PRE-VALIDATION\n",
      "le patient avoir besoin de - il |forward|trigger|conditional|30|Group[1011]|PRE-VALIDATION\n",
      "le patient pourrait - il |forward|trigger|conditional|30|Group[1011]|PRE-VALIDATION\n",
      "le client devrait - il |forward|trigger|conditional|30|Group[1011]|PRE-VALIDATION\n",
      "le client nécessité - il |forward|trigger|conditional|30|Group[1011]|PRE-VALIDATION\n",
      "le client avoir à - il |forward|trigger|conditional|30|Group[1011]|PRE-VALIDATION\n",
      "le client être obligé - il |forward|trigger|conditional|30|Group[1011]|PRE-VALIDATION\n",
      "le client être tenu de - il |forward|trigger|conditional|30|Group[1011]|PRE-VALIDATION\n",
      "le client avoir besoin de - il |forward|trigger|conditional|30|Group[1011]|PRE-VALIDATION\n",
      "le client pourrait - il |forward|trigger|conditional|30|Group[1011]|PRE-VALIDATION\n",
      "le souffrant devrait - il |forward|trigger|conditional|30|Group[1011]|PRE-VALIDATION\n",
      "le souffrant nécessité - il |forward|trigger|conditional|30|Group[1011]|PRE-VALIDATION\n",
      "le souffrant avoir à - il |forward|trigger|conditional|30|Group[1011]|PRE-VALIDATION\n",
      "le souffrant être obligé - il |forward|trigger|conditional|30|Group[1011]|PRE-VALIDATION\n",
      "le souffrant être tenu de - il |forward|trigger|conditional|30|Group[1011]|PRE-VALIDATION\n",
      "le souffrant avoir besoin de - il |forward|trigger|conditional|30|Group[1011]|PRE-VALIDATION\n",
      "le souffrant pourrait - il |forward|trigger|conditional|30|Group[1011]|PRE-VALIDATION\n",
      "le sujet devrait - il |forward|trigger|conditional|30|Group[1011]|PRE-VALIDATION\n",
      "le sujet nécessité - il |forward|trigger|conditional|30|Group[1011]|PRE-VALIDATION\n",
      "le sujet avoir à - il |forward|trigger|conditional|30|Group[1011]|PRE-VALIDATION\n",
      "le sujet être obligé - il |forward|trigger|conditional|30|Group[1011]|PRE-VALIDATION\n",
      "le sujet être tenu de - il |forward|trigger|conditional|30|Group[1011]|PRE-VALIDATION\n",
      "le sujet avoir besoin de - il |forward|trigger|conditional|30|Group[1011]|PRE-VALIDATION\n",
      "le sujet pourrait - il |forward|trigger|conditional|30|Group[1011]|PRE-VALIDATION\n"
     ]
    }
   ],
   "source": [
    "from nltk.parse.generate import generate, demo_grammar\n",
    "from nltk import CFG\n",
    "\n",
    "cfg_grammar= \"\"\"\n",
    "S ->  Determiner1 Noun2 Verb3 Punctuation4 Pronoun5 Trigger_Rule\n",
    "Determiner1 -> \"le\"\n",
    "Noun2 -> \"patient\" | \"client\" | \"souffrant\" | \"sujet\"\n",
    "Verb3 -> \"devrait\" | \"nécessité\" | \"avoir à\" | \"être obligé\" | \"être tenu de\" | \"avoir besoin de\" | \"pourrait\"\n",
    "Punctuation4 -> \"-\"\n",
    "Pronoun5 -> \"il\"\n",
    "Trigger_Rule -> \"|forward|trigger|conditional|30|Group[1011]|PRE-VALIDATION\"\n",
    "\"\"\"\n",
    "\n",
    "for sentence in generate(CFG.fromstring(cfg_grammar), n=1000):\n",
    "    print(' '.join(sentence))"
   ]
  },
  {
   "cell_type": "code",
   "execution_count": 81,
   "metadata": {},
   "outputs": [
    {
     "name": "stdout",
     "output_type": "stream",
     "text": [
      "montré une question de |forward|trigger|uncertain|30|Group[1013]|PRE-VALIDATION\n",
      "montré une interpellation de |forward|trigger|uncertain|30|Group[1013]|PRE-VALIDATION\n",
      "montré une information de |forward|trigger|uncertain|30|Group[1013]|PRE-VALIDATION\n",
      "affiché une question de |forward|trigger|uncertain|30|Group[1013]|PRE-VALIDATION\n",
      "affiché une interpellation de |forward|trigger|uncertain|30|Group[1013]|PRE-VALIDATION\n",
      "affiché une information de |forward|trigger|uncertain|30|Group[1013]|PRE-VALIDATION\n",
      "exhibition une question de |forward|trigger|uncertain|30|Group[1013]|PRE-VALIDATION\n",
      "exhibition une interpellation de |forward|trigger|uncertain|30|Group[1013]|PRE-VALIDATION\n",
      "exhibition une information de |forward|trigger|uncertain|30|Group[1013]|PRE-VALIDATION\n",
      "état une question de |forward|trigger|uncertain|30|Group[1013]|PRE-VALIDATION\n",
      "état une interpellation de |forward|trigger|uncertain|30|Group[1013]|PRE-VALIDATION\n",
      "état une information de |forward|trigger|uncertain|30|Group[1013]|PRE-VALIDATION\n",
      "démonstration une question de |forward|trigger|uncertain|30|Group[1013]|PRE-VALIDATION\n",
      "démonstration une interpellation de |forward|trigger|uncertain|30|Group[1013]|PRE-VALIDATION\n",
      "démonstration une information de |forward|trigger|uncertain|30|Group[1013]|PRE-VALIDATION\n",
      "exposition une question de |forward|trigger|uncertain|30|Group[1013]|PRE-VALIDATION\n",
      "exposition une interpellation de |forward|trigger|uncertain|30|Group[1013]|PRE-VALIDATION\n",
      "exposition une information de |forward|trigger|uncertain|30|Group[1013]|PRE-VALIDATION\n",
      "livré une question de |forward|trigger|uncertain|30|Group[1013]|PRE-VALIDATION\n",
      "livré une interpellation de |forward|trigger|uncertain|30|Group[1013]|PRE-VALIDATION\n",
      "livré une information de |forward|trigger|uncertain|30|Group[1013]|PRE-VALIDATION\n",
      "dénudé une question de |forward|trigger|uncertain|30|Group[1013]|PRE-VALIDATION\n",
      "dénudé une interpellation de |forward|trigger|uncertain|30|Group[1013]|PRE-VALIDATION\n",
      "dénudé une information de |forward|trigger|uncertain|30|Group[1013]|PRE-VALIDATION\n",
      "exhibé une question de |forward|trigger|uncertain|30|Group[1013]|PRE-VALIDATION\n",
      "exhibé une interpellation de |forward|trigger|uncertain|30|Group[1013]|PRE-VALIDATION\n",
      "exhibé une information de |forward|trigger|uncertain|30|Group[1013]|PRE-VALIDATION\n",
      "dénoté une question de |forward|trigger|uncertain|30|Group[1013]|PRE-VALIDATION\n",
      "dénoté une interpellation de |forward|trigger|uncertain|30|Group[1013]|PRE-VALIDATION\n",
      "dénoté une information de |forward|trigger|uncertain|30|Group[1013]|PRE-VALIDATION\n",
      "confirmé une question de |forward|trigger|uncertain|30|Group[1013]|PRE-VALIDATION\n",
      "confirmé une interpellation de |forward|trigger|uncertain|30|Group[1013]|PRE-VALIDATION\n",
      "confirmé une information de |forward|trigger|uncertain|30|Group[1013]|PRE-VALIDATION\n",
      "expliqué une question de |forward|trigger|uncertain|30|Group[1013]|PRE-VALIDATION\n",
      "expliqué une interpellation de |forward|trigger|uncertain|30|Group[1013]|PRE-VALIDATION\n",
      "expliqué une information de |forward|trigger|uncertain|30|Group[1013]|PRE-VALIDATION\n",
      "découvert une question de |forward|trigger|uncertain|30|Group[1013]|PRE-VALIDATION\n",
      "découvert une interpellation de |forward|trigger|uncertain|30|Group[1013]|PRE-VALIDATION\n",
      "découvert une information de |forward|trigger|uncertain|30|Group[1013]|PRE-VALIDATION\n",
      "affecté une question de |forward|trigger|uncertain|30|Group[1013]|PRE-VALIDATION\n",
      "affecté une interpellation de |forward|trigger|uncertain|30|Group[1013]|PRE-VALIDATION\n",
      "affecté une information de |forward|trigger|uncertain|30|Group[1013]|PRE-VALIDATION\n",
      "dévoilé une question de |forward|trigger|uncertain|30|Group[1013]|PRE-VALIDATION\n",
      "dévoilé une interpellation de |forward|trigger|uncertain|30|Group[1013]|PRE-VALIDATION\n",
      "dévoilé une information de |forward|trigger|uncertain|30|Group[1013]|PRE-VALIDATION\n"
     ]
    }
   ],
   "source": [
    "from nltk.parse.generate import generate, demo_grammar\n",
    "from nltk import CFG\n",
    "\n",
    "cfg_grammar= \"\"\"\n",
    "S ->  Verb1 Determiner2 Noun3 Adposition4 Trigger_Rule\n",
    "Verb1 -> \"montré\" | \"affiché\" | \"exhibition\" | \"état\" | \"démonstration\" | \"exposition\" | \"livré\" | \"dénudé\" | \"exhibé\" | \"dénoté\" | \"confirmé\" | \"expliqué\" | \"découvert\" | \"affecté\" | \"dévoilé\"\n",
    "Determiner2 -> \"une\"\n",
    "Noun3 -> \"question\" | \"interpellation\" | \"information\"\n",
    "Adposition4 -> \"de\"\n",
    "Trigger_Rule -> \"|forward|trigger|uncertain|30|Group[1013]|PRE-VALIDATION\"\n",
    "\"\"\"\n",
    "\n",
    "for sentence in generate(CFG.fromstring(cfg_grammar), n=1000):\n",
    "    print(' '.join(sentence))"
   ]
  },
  {
   "cell_type": "code",
   "execution_count": 82,
   "metadata": {},
   "outputs": [
    {
     "name": "stdout",
     "output_type": "stream",
     "text": [
      "montrer une question de |forward|trigger|uncertain|30|Group[1013]|PRE-VALIDATION\n",
      "montrer une interpellation de |forward|trigger|uncertain|30|Group[1013]|PRE-VALIDATION\n",
      "montrer une information de |forward|trigger|uncertain|30|Group[1013]|PRE-VALIDATION\n",
      "indiquer une question de |forward|trigger|uncertain|30|Group[1013]|PRE-VALIDATION\n",
      "indiquer une interpellation de |forward|trigger|uncertain|30|Group[1013]|PRE-VALIDATION\n",
      "indiquer une information de |forward|trigger|uncertain|30|Group[1013]|PRE-VALIDATION\n",
      "exposer une question de |forward|trigger|uncertain|30|Group[1013]|PRE-VALIDATION\n",
      "exposer une interpellation de |forward|trigger|uncertain|30|Group[1013]|PRE-VALIDATION\n",
      "exposer une information de |forward|trigger|uncertain|30|Group[1013]|PRE-VALIDATION\n",
      "afficher une question de |forward|trigger|uncertain|30|Group[1013]|PRE-VALIDATION\n",
      "afficher une interpellation de |forward|trigger|uncertain|30|Group[1013]|PRE-VALIDATION\n",
      "afficher une information de |forward|trigger|uncertain|30|Group[1013]|PRE-VALIDATION\n",
      "témoigner une question de |forward|trigger|uncertain|30|Group[1013]|PRE-VALIDATION\n",
      "témoigner une interpellation de |forward|trigger|uncertain|30|Group[1013]|PRE-VALIDATION\n",
      "témoigner une information de |forward|trigger|uncertain|30|Group[1013]|PRE-VALIDATION\n",
      "établir une question de |forward|trigger|uncertain|30|Group[1013]|PRE-VALIDATION\n",
      "établir une interpellation de |forward|trigger|uncertain|30|Group[1013]|PRE-VALIDATION\n",
      "établir une information de |forward|trigger|uncertain|30|Group[1013]|PRE-VALIDATION\n",
      "démontrer une question de |forward|trigger|uncertain|30|Group[1013]|PRE-VALIDATION\n",
      "démontrer une interpellation de |forward|trigger|uncertain|30|Group[1013]|PRE-VALIDATION\n",
      "démontrer une information de |forward|trigger|uncertain|30|Group[1013]|PRE-VALIDATION\n",
      "signaler une question de |forward|trigger|uncertain|30|Group[1013]|PRE-VALIDATION\n",
      "signaler une interpellation de |forward|trigger|uncertain|30|Group[1013]|PRE-VALIDATION\n",
      "signaler une information de |forward|trigger|uncertain|30|Group[1013]|PRE-VALIDATION\n",
      "prouver une question de |forward|trigger|uncertain|30|Group[1013]|PRE-VALIDATION\n",
      "prouver une interpellation de |forward|trigger|uncertain|30|Group[1013]|PRE-VALIDATION\n",
      "prouver une information de |forward|trigger|uncertain|30|Group[1013]|PRE-VALIDATION\n",
      "manifester une question de |forward|trigger|uncertain|30|Group[1013]|PRE-VALIDATION\n",
      "manifester une interpellation de |forward|trigger|uncertain|30|Group[1013]|PRE-VALIDATION\n",
      "manifester une information de |forward|trigger|uncertain|30|Group[1013]|PRE-VALIDATION\n",
      "représenter une question de |forward|trigger|uncertain|30|Group[1013]|PRE-VALIDATION\n",
      "représenter une interpellation de |forward|trigger|uncertain|30|Group[1013]|PRE-VALIDATION\n",
      "représenter une information de |forward|trigger|uncertain|30|Group[1013]|PRE-VALIDATION\n",
      "révéler une question de |forward|trigger|uncertain|30|Group[1013]|PRE-VALIDATION\n",
      "révéler une interpellation de |forward|trigger|uncertain|30|Group[1013]|PRE-VALIDATION\n",
      "révéler une information de |forward|trigger|uncertain|30|Group[1013]|PRE-VALIDATION\n",
      "confirmer une question de |forward|trigger|uncertain|30|Group[1013]|PRE-VALIDATION\n",
      "confirmer une interpellation de |forward|trigger|uncertain|30|Group[1013]|PRE-VALIDATION\n",
      "confirmer une information de |forward|trigger|uncertain|30|Group[1013]|PRE-VALIDATION\n",
      "attester une question de |forward|trigger|uncertain|30|Group[1013]|PRE-VALIDATION\n",
      "attester une interpellation de |forward|trigger|uncertain|30|Group[1013]|PRE-VALIDATION\n",
      "attester une information de |forward|trigger|uncertain|30|Group[1013]|PRE-VALIDATION\n",
      "désigner une question de |forward|trigger|uncertain|30|Group[1013]|PRE-VALIDATION\n",
      "désigner une interpellation de |forward|trigger|uncertain|30|Group[1013]|PRE-VALIDATION\n",
      "désigner une information de |forward|trigger|uncertain|30|Group[1013]|PRE-VALIDATION\n"
     ]
    }
   ],
   "source": [
    "from nltk.parse.generate import generate, demo_grammar\n",
    "from nltk import CFG\n",
    "\n",
    "cfg_grammar= \"\"\"\n",
    "S ->  Verb1 Determiner2 Noun3 Adposition4 Trigger_Rule\n",
    "Verb1 -> \"montrer\" | \"indiquer\" | \"exposer\" | \"afficher\" | \"témoigner\" | \"établir\" | \"démontrer\" | \"signaler\" | \"prouver\" | \"manifester\" | \"représenter\" | \"révéler\" | \"confirmer\" | \"attester\" | \"désigner\"\n",
    "Determiner2 -> \"une\"\n",
    "Noun3 -> \"question\" | \"interpellation\" | \"information\"\n",
    "Adposition4 -> \"de\"\n",
    "Trigger_Rule -> \"|forward|trigger|uncertain|30|Group[1013]|PRE-VALIDATION\"\n",
    "\"\"\"\n",
    "\n",
    "for sentence in generate(CFG.fromstring(cfg_grammar), n=1000):\n",
    "    print(' '.join(sentence))"
   ]
  },
  {
   "cell_type": "code",
   "execution_count": 83,
   "metadata": {},
   "outputs": [
    {
     "name": "stdout",
     "output_type": "stream",
     "text": [
      "depuis l'hiver |backward|trigger|historical|30|Group[1015]|PRE-VALIDATION\n",
      "depuis l'été |backward|trigger|historical|30|Group[1015]|PRE-VALIDATION\n",
      "depuis le printemps |backward|trigger|historical|30|Group[1015]|PRE-VALIDATION\n",
      "depuis septembre |backward|trigger|historical|30|Group[1015]|PRE-VALIDATION\n",
      "depuis octobre |backward|trigger|historical|30|Group[1015]|PRE-VALIDATION\n",
      "depuis novembre |backward|trigger|historical|30|Group[1015]|PRE-VALIDATION\n",
      "depuis mai |backward|trigger|historical|30|Group[1015]|PRE-VALIDATION\n",
      "depuis mars |backward|trigger|historical|30|Group[1015]|PRE-VALIDATION\n",
      "depuis juin |backward|trigger|historical|30|Group[1015]|PRE-VALIDATION\n",
      "depuis juillet |backward|trigger|historical|30|Group[1015]|PRE-VALIDATION\n",
      "depuis janvier |backward|trigger|historical|30|Group[1015]|PRE-VALIDATION\n",
      "depuis février |backward|trigger|historical|30|Group[1015]|PRE-VALIDATION\n",
      "depuis l'automne |backward|trigger|historical|30|Group[1015]|PRE-VALIDATION\n",
      "depuis décembre |backward|trigger|historical|30|Group[1015]|PRE-VALIDATION\n",
      "depuis août |backward|trigger|historical|30|Group[1015]|PRE-VALIDATION\n"
     ]
    }
   ],
   "source": [
    "from nltk.parse.generate import generate, demo_grammar\n",
    "from nltk import CFG\n",
    "\n",
    "cfg_grammar= \"\"\"\n",
    "S ->  Adposition1 Noun3 Trigger_Rule\n",
    "Adposition1 -> \"depuis\"\n",
    "Noun3 -> \"l'hiver\" |\"l'été\" |\"le printemps\" |\"septembre\" |\"octobre\" |\"novembre\" |\"mai\" |\"mars\" |\"juin\" |\"juillet\" |\"janvier\" |\"février\" |\"l'automne\" |\"décembre\" |\"août\"\n",
    "Trigger_Rule -> \"|backward|trigger|historical|30|Group[1015]|PRE-VALIDATION\"\n",
    "\"\"\"\n",
    "\n",
    "for sentence in generate(CFG.fromstring(cfg_grammar), n=1000):\n",
    "    print(' '.join(sentence))"
   ]
  },
  {
   "cell_type": "code",
   "execution_count": null,
   "metadata": {},
   "outputs": [],
   "source": []
  }
 ],
 "metadata": {
  "file_extension": ".py",
  "kernelspec": {
   "display_name": "Python 3",
   "language": "python",
   "name": "python3"
  },
  "language_info": {
   "codemirror_mode": {
    "name": "ipython",
    "version": 3
   },
   "file_extension": ".py",
   "mimetype": "text/x-python",
   "name": "python",
   "nbconvert_exporter": "python",
   "pygments_lexer": "ipython3",
   "version": "3.7.2"
  },
  "mimetype": "text/x-python",
  "name": "python",
  "nbconvert_exporter": "python",
  "pygments_lexer": "ipython3",
  "version": "3.7.2"
 },
 "nbformat": 4,
 "nbformat_minor": 2
}
