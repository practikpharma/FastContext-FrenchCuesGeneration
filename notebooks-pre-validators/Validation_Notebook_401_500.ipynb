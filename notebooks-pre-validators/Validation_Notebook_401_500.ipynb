{
 "cells": [
  {
   "cell_type": "code",
   "execution_count": 1,
   "metadata": {},
   "outputs": [
    {
     "name": "stdout",
     "output_type": "stream",
     "text": [
      "nég |backward|trigger|negated|10|Group[688]|PRE-VALIDATION\n"
     ]
    }
   ],
   "source": [
    "from nltk.parse.generate import generate, demo_grammar\n",
    "from nltk import CFG\n",
    "\n",
    "cfg_grammar= \"\"\"\n",
    "S ->  Noun1 Trigger_Rule\n",
    "Noun1 -> \"nég\"\n",
    "Trigger_Rule -> \"|backward|trigger|negated|10|Group[688]|PRE-VALIDATION\"\n",
    "\"\"\"\n",
    "\n",
    "for sentence in generate(CFG.fromstring(cfg_grammar), n=1000):\n",
    "    print(' '.join(sentence))"
   ]
  },
  {
   "cell_type": "code",
   "execution_count": 2,
   "metadata": {},
   "outputs": [
    {
     "name": "stdout",
     "output_type": "stream",
     "text": [
      "voisin appelé |both|termination|historical|30|Group[690, 691]|PRE-VALIDATION\n",
      "voisin appelé |both|termination|nonpatient|30|Group[690, 691]|PRE-VALIDATION\n"
     ]
    }
   ],
   "source": [
    "from nltk.parse.generate import generate, demo_grammar\n",
    "from nltk import CFG\n",
    "\n",
    "cfg_grammar= \"\"\"\n",
    "S ->  Adjective1 Auxiliary2 Trigger_Rule\n",
    "Adjective1 -> \"voisin\"\n",
    "Auxiliary2 -> \"appelé\"\n",
    "Trigger_Rule -> \"|both|termination|historical|30|Group[690, 691]|PRE-VALIDATION\"|\"|both|termination|nonpatient|30|Group[690, 691]|PRE-VALIDATION\"\n",
    "\"\"\"\n",
    "\n",
    "for sentence in generate(CFG.fromstring(cfg_grammar), n=1000):\n",
    "    print(' '.join(sentence))"
   ]
  },
  {
   "cell_type": "code",
   "execution_count": 3,
   "metadata": {},
   "outputs": [
    {
     "name": "stdout",
     "output_type": "stream",
     "text": [
      "voisins appelés |both|termination|historical|30|Group[690, 691]|PRE-VALIDATION\n",
      "voisins appelés |both|termination|nonpatient|30|Group[690, 691]|PRE-VALIDATION\n",
      "voisins solliciter |both|termination|historical|30|Group[690, 691]|PRE-VALIDATION\n",
      "voisins solliciter |both|termination|nonpatient|30|Group[690, 691]|PRE-VALIDATION\n",
      "voisins requérir |both|termination|historical|30|Group[690, 691]|PRE-VALIDATION\n",
      "voisins requérir |both|termination|nonpatient|30|Group[690, 691]|PRE-VALIDATION\n",
      "voisins téléphoner |both|termination|historical|30|Group[690, 691]|PRE-VALIDATION\n",
      "voisins téléphoner |both|termination|nonpatient|30|Group[690, 691]|PRE-VALIDATION\n",
      "voisins avertir |both|termination|historical|30|Group[690, 691]|PRE-VALIDATION\n",
      "voisins avertir |both|termination|nonpatient|30|Group[690, 691]|PRE-VALIDATION\n",
      "voisins prévenir |both|termination|historical|30|Group[690, 691]|PRE-VALIDATION\n",
      "voisins prévenir |both|termination|nonpatient|30|Group[690, 691]|PRE-VALIDATION\n",
      "voisins alerter |both|termination|historical|30|Group[690, 691]|PRE-VALIDATION\n",
      "voisins alerter |both|termination|nonpatient|30|Group[690, 691]|PRE-VALIDATION\n",
      "voisins signaler |both|termination|historical|30|Group[690, 691]|PRE-VALIDATION\n",
      "voisins signaler |both|termination|nonpatient|30|Group[690, 691]|PRE-VALIDATION\n"
     ]
    }
   ],
   "source": [
    "from nltk.parse.generate import generate, demo_grammar\n",
    "from nltk import CFG\n",
    "\n",
    "cfg_grammar= \"\"\"\n",
    "S ->  Adjective1 Verb2 Trigger_Rule\n",
    "Adjective1 -> \"voisins\"\n",
    "Verb2 -> \"appelés\" | \"solliciter\" | \"requérir\" | \"téléphoner\" | \"avertir\" | \"prévenir\" | \"alerter\" | \"signaler\"\n",
    "Trigger_Rule -> \"|both|termination|historical|30|Group[690, 691]|PRE-VALIDATION\"|\"|both|termination|nonpatient|30|Group[690, 691]|PRE-VALIDATION\"\n",
    "\"\"\"\n",
    "\n",
    "for sentence in generate(CFG.fromstring(cfg_grammar), n=1000):\n",
    "    print(' '.join(sentence))"
   ]
  },
  {
   "cell_type": "code",
   "execution_count": 4,
   "metadata": {},
   "outputs": [
    {
     "name": "stdout",
     "output_type": "stream",
     "text": [
      "voisins |forward|trigger|nonpatient|30|Group[694]|PRE-VALIDATION\n"
     ]
    }
   ],
   "source": [
    "from nltk.parse.generate import generate, demo_grammar\n",
    "from nltk import CFG\n",
    "\n",
    "cfg_grammar= \"\"\"\n",
    "S ->  Adjective1 Trigger_Rule\n",
    "Adjective1 -> \"voisins\"\n",
    "Trigger_Rule -> \"|forward|trigger|nonpatient|30|Group[694]|PRE-VALIDATION\"\n",
    "\"\"\"\n",
    "\n",
    "for sentence in generate(CFG.fromstring(cfg_grammar), n=1000):\n",
    "    print(' '.join(sentence))"
   ]
  },
  {
   "cell_type": "code",
   "execution_count": 5,
   "metadata": {},
   "outputs": [
    {
     "name": "stdout",
     "output_type": "stream",
     "text": [
      "voisin |forward|trigger|nonpatient|30|Group[694, 695]|PRE-VALIDATION\n"
     ]
    }
   ],
   "source": [
    "from nltk.parse.generate import generate, demo_grammar\n",
    "from nltk import CFG\n",
    "\n",
    "cfg_grammar= \"\"\"\n",
    "S ->  Adjective1 Trigger_Rule\n",
    "Adjective1 -> \"voisin\"\n",
    "Trigger_Rule -> \"|forward|trigger|nonpatient|30|Group[694, 695]|PRE-VALIDATION\"\n",
    "\"\"\"\n",
    "\n",
    "for sentence in generate(CFG.fromstring(cfg_grammar), n=1000):\n",
    "    print(' '.join(sentence))"
   ]
  },
  {
   "cell_type": "code",
   "execution_count": 6,
   "metadata": {},
   "outputs": [
    {
     "name": "stdout",
     "output_type": "stream",
     "text": [
      "jamais aucun |forward|trigger|negated|10|Group[702]|PRE-VALIDATION\n"
     ]
    }
   ],
   "source": [
    "from nltk.parse.generate import generate, demo_grammar\n",
    "from nltk import CFG\n",
    "\n",
    "cfg_grammar= \"\"\"\n",
    "S ->  Adverb1 Determiner2 Trigger_Rule\n",
    "Adverb1 -> \"jamais\"\n",
    "Determiner2 -> \"aucun\"\n",
    "Trigger_Rule -> \"|forward|trigger|negated|10|Group[702]|PRE-VALIDATION\"\n",
    "\"\"\"\n",
    "\n",
    "for sentence in generate(CFG.fromstring(cfg_grammar), n=1000):\n",
    "    print(' '.join(sentence))"
   ]
  },
  {
   "cell_type": "code",
   "execution_count": 7,
   "metadata": {},
   "outputs": [
    {
     "name": "stdout",
     "output_type": "stream",
     "text": [
      "jamais développé |forward|trigger|negated|10|Group[704]|PRE-VALIDATION\n",
      "jamais évolué |forward|trigger|negated|10|Group[704]|PRE-VALIDATION\n",
      "jamais étendu |forward|trigger|negated|10|Group[704]|PRE-VALIDATION\n",
      "jamais grossi |forward|trigger|negated|10|Group[704]|PRE-VALIDATION\n",
      "jamais amplifié |forward|trigger|negated|10|Group[704]|PRE-VALIDATION\n",
      "jamais manifesté |forward|trigger|negated|10|Group[704]|PRE-VALIDATION\n",
      "jamais révélé |forward|trigger|negated|10|Group[704]|PRE-VALIDATION\n",
      "jamais aggravé |forward|trigger|negated|10|Group[704]|PRE-VALIDATION\n",
      "jamais augmenté |forward|trigger|negated|10|Group[704]|PRE-VALIDATION\n",
      "jamais rallongé |forward|trigger|negated|10|Group[704]|PRE-VALIDATION\n",
      "jamais aiguisé |forward|trigger|negated|10|Group[704]|PRE-VALIDATION\n",
      "jamais élargi |forward|trigger|negated|10|Group[704]|PRE-VALIDATION\n",
      "jamais accroître |forward|trigger|negated|10|Group[704]|PRE-VALIDATION\n",
      "jamais répandre |forward|trigger|negated|10|Group[704]|PRE-VALIDATION\n",
      "jamais grandir |forward|trigger|negated|10|Group[704]|PRE-VALIDATION\n"
     ]
    }
   ],
   "source": [
    "from nltk.parse.generate import generate, demo_grammar\n",
    "from nltk import CFG\n",
    "\n",
    "cfg_grammar= \"\"\"\n",
    "S ->  Adverb1 Verb2 Trigger_Rule\n",
    "Adverb1 -> \"jamais\"\n",
    "Verb2 -> \"développé\" | \"évolué\" | \"étendu\" | \"grossi\" | \"amplifié\" | \"manifesté\" | \"révélé\" | \"aggravé\" | \"augmenté\" | \"rallongé\" | \"aiguisé\" | \"élargi\" | \"accroître\" | \"répandre\" | \"grandir\"\n",
    "Trigger_Rule -> \"|forward|trigger|negated|10|Group[704]|PRE-VALIDATION\"\n",
    "\"\"\"\n",
    "\n",
    "for sentence in generate(CFG.fromstring(cfg_grammar), n=1000):\n",
    "    print(' '.join(sentence))"
   ]
  },
  {
   "cell_type": "code",
   "execution_count": 8,
   "metadata": {},
   "outputs": [
    {
     "name": "stdout",
     "output_type": "stream",
     "text": [
      "jamais eu |forward|trigger|negated|10|Group[706]|PRE-VALIDATION\n"
     ]
    }
   ],
   "source": [
    "from nltk.parse.generate import generate, demo_grammar\n",
    "from nltk import CFG\n",
    "\n",
    "cfg_grammar= \"\"\"\n",
    "S ->  Adverb1 Verb2 Trigger_Rule\n",
    "Adverb1 -> \"jamais\"\n",
    "Verb2 -> \"eu\"\n",
    "Trigger_Rule -> \"|forward|trigger|negated|10|Group[706]|PRE-VALIDATION\"\n",
    "\"\"\"\n",
    "\n",
    "for sentence in generate(CFG.fromstring(cfg_grammar), n=1000):\n",
    "    print(' '.join(sentence))"
   ]
  },
  {
   "cell_type": "code",
   "execution_count": 9,
   "metadata": {},
   "outputs": [
    {
     "name": "stdout",
     "output_type": "stream",
     "text": [
      "Néanmoins |forward|termination|negated|10|Group[708]|PRE-VALIDATION\n"
     ]
    }
   ],
   "source": [
    "from nltk.parse.generate import generate, demo_grammar\n",
    "from nltk import CFG\n",
    "\n",
    "cfg_grammar= \"\"\"\n",
    "S ->  Adverb1 Trigger_Rule\n",
    "Adverb1 -> \"Néanmoins\"\n",
    "Trigger_Rule -> \"|forward|termination|negated|10|Group[708]|PRE-VALIDATION\"\n",
    "\"\"\"\n",
    "\n",
    "for sentence in generate(CFG.fromstring(cfg_grammar), n=1000):\n",
    "    print(' '.join(sentence))"
   ]
  },
  {
   "cell_type": "code",
   "execution_count": 10,
   "metadata": {},
   "outputs": [
    {
     "name": "stdout",
     "output_type": "stream",
     "text": [
      "non \\w+ évident de |forward|trigger|negated|10|Group[709]|PRE-VALIDATION\n",
      "non \\w+ clair de |forward|trigger|negated|10|Group[709]|PRE-VALIDATION\n",
      "non \\w+ indubitable de |forward|trigger|negated|10|Group[709]|PRE-VALIDATION\n",
      "non \\w+ indiscutable de |forward|trigger|negated|10|Group[709]|PRE-VALIDATION\n",
      "non \\w+ notoire de |forward|trigger|negated|10|Group[709]|PRE-VALIDATION\n",
      "non \\w+ patent de |forward|trigger|negated|10|Group[709]|PRE-VALIDATION\n",
      "non \\w+ authentique de |forward|trigger|negated|10|Group[709]|PRE-VALIDATION\n",
      "non \\w+ certain de |forward|trigger|negated|10|Group[709]|PRE-VALIDATION\n",
      "non \\w+ apparent de |forward|trigger|negated|10|Group[709]|PRE-VALIDATION\n",
      "non \\w+ indéniable de |forward|trigger|negated|10|Group[709]|PRE-VALIDATION\n",
      "non \\w+ flagrant de |forward|trigger|negated|10|Group[709]|PRE-VALIDATION\n",
      "non \\w+ incontestable de |forward|trigger|negated|10|Group[709]|PRE-VALIDATION\n",
      "non \\w+ sûr de |forward|trigger|negated|10|Group[709]|PRE-VALIDATION\n",
      "non \\w+ assuré de |forward|trigger|negated|10|Group[709]|PRE-VALIDATION\n",
      "non \\w+ palpable de |forward|trigger|negated|10|Group[709]|PRE-VALIDATION\n"
     ]
    }
   ],
   "source": [
    "from nltk.parse.generate import generate, demo_grammar\n",
    "from nltk import CFG\n",
    "\n",
    "cfg_grammar= \"\"\"\n",
    "S ->  Adverb1 Adjective2 Noun5 Adposition6 Trigger_Rule\n",
    "Adverb1 -> \"non\"\n",
    "Adjective2 -> \"\\\\w+\"\n",
    "Noun5 -> \"évident\" | \"clair\" | \"indubitable\" | \"indiscutable\" | \"notoire\" | \"patent\" | \"authentique\" | \"certain\" | \"apparent\" | \"indéniable\" | \"flagrant\" | \"incontestable\" | \"sûr\" | \"assuré\" | \"palpable\"\n",
    "Adposition6 -> \"de\"\n",
    "Trigger_Rule -> \"|forward|trigger|negated|10|Group[709]|PRE-VALIDATION\"\n",
    "\"\"\"\n",
    "\n",
    "for sentence in generate(CFG.fromstring(cfg_grammar), n=1000):\n",
    "    print(' '.join(sentence))"
   ]
  },
  {
   "cell_type": "code",
   "execution_count": 11,
   "metadata": {},
   "outputs": [
    {
     "name": "stdout",
     "output_type": "stream",
     "text": [
      "non \\w+ évident de suggérer |forward|trigger|negated|10|Group[711]|PRE-VALIDATION\n",
      "non \\w+ évident de proposer |forward|trigger|negated|10|Group[711]|PRE-VALIDATION\n",
      "non \\w+ évident de inspirer |forward|trigger|negated|10|Group[711]|PRE-VALIDATION\n",
      "non \\w+ évident de insinuer |forward|trigger|negated|10|Group[711]|PRE-VALIDATION\n",
      "non \\w+ évident de évoquer |forward|trigger|negated|10|Group[711]|PRE-VALIDATION\n",
      "non \\w+ évident de dicter |forward|trigger|negated|10|Group[711]|PRE-VALIDATION\n",
      "non \\w+ évident de persuader |forward|trigger|negated|10|Group[711]|PRE-VALIDATION\n",
      "non \\w+ évident de susciter |forward|trigger|negated|10|Group[711]|PRE-VALIDATION\n",
      "non \\w+ évident de soumettre |forward|trigger|negated|10|Group[711]|PRE-VALIDATION\n",
      "non \\w+ évident de enseigner |forward|trigger|negated|10|Group[711]|PRE-VALIDATION\n",
      "non \\w+ évident de recommander |forward|trigger|negated|10|Group[711]|PRE-VALIDATION\n",
      "non \\w+ évident de faire penser à |forward|trigger|negated|10|Group[711]|PRE-VALIDATION\n",
      "non \\w+ évident de sous-entendre |forward|trigger|negated|10|Group[711]|PRE-VALIDATION\n",
      "non \\w+ évident de supposer |forward|trigger|negated|10|Group[711]|PRE-VALIDATION\n",
      "non \\w+ évident de envisager |forward|trigger|negated|10|Group[711]|PRE-VALIDATION\n",
      "non \\w+ clair de suggérer |forward|trigger|negated|10|Group[711]|PRE-VALIDATION\n",
      "non \\w+ clair de proposer |forward|trigger|negated|10|Group[711]|PRE-VALIDATION\n",
      "non \\w+ clair de inspirer |forward|trigger|negated|10|Group[711]|PRE-VALIDATION\n",
      "non \\w+ clair de insinuer |forward|trigger|negated|10|Group[711]|PRE-VALIDATION\n",
      "non \\w+ clair de évoquer |forward|trigger|negated|10|Group[711]|PRE-VALIDATION\n",
      "non \\w+ clair de dicter |forward|trigger|negated|10|Group[711]|PRE-VALIDATION\n",
      "non \\w+ clair de persuader |forward|trigger|negated|10|Group[711]|PRE-VALIDATION\n",
      "non \\w+ clair de susciter |forward|trigger|negated|10|Group[711]|PRE-VALIDATION\n",
      "non \\w+ clair de soumettre |forward|trigger|negated|10|Group[711]|PRE-VALIDATION\n",
      "non \\w+ clair de enseigner |forward|trigger|negated|10|Group[711]|PRE-VALIDATION\n",
      "non \\w+ clair de recommander |forward|trigger|negated|10|Group[711]|PRE-VALIDATION\n",
      "non \\w+ clair de faire penser à |forward|trigger|negated|10|Group[711]|PRE-VALIDATION\n",
      "non \\w+ clair de sous-entendre |forward|trigger|negated|10|Group[711]|PRE-VALIDATION\n",
      "non \\w+ clair de supposer |forward|trigger|negated|10|Group[711]|PRE-VALIDATION\n",
      "non \\w+ clair de envisager |forward|trigger|negated|10|Group[711]|PRE-VALIDATION\n",
      "non \\w+ indubitable de suggérer |forward|trigger|negated|10|Group[711]|PRE-VALIDATION\n",
      "non \\w+ indubitable de proposer |forward|trigger|negated|10|Group[711]|PRE-VALIDATION\n",
      "non \\w+ indubitable de inspirer |forward|trigger|negated|10|Group[711]|PRE-VALIDATION\n",
      "non \\w+ indubitable de insinuer |forward|trigger|negated|10|Group[711]|PRE-VALIDATION\n",
      "non \\w+ indubitable de évoquer |forward|trigger|negated|10|Group[711]|PRE-VALIDATION\n",
      "non \\w+ indubitable de dicter |forward|trigger|negated|10|Group[711]|PRE-VALIDATION\n",
      "non \\w+ indubitable de persuader |forward|trigger|negated|10|Group[711]|PRE-VALIDATION\n",
      "non \\w+ indubitable de susciter |forward|trigger|negated|10|Group[711]|PRE-VALIDATION\n",
      "non \\w+ indubitable de soumettre |forward|trigger|negated|10|Group[711]|PRE-VALIDATION\n",
      "non \\w+ indubitable de enseigner |forward|trigger|negated|10|Group[711]|PRE-VALIDATION\n",
      "non \\w+ indubitable de recommander |forward|trigger|negated|10|Group[711]|PRE-VALIDATION\n",
      "non \\w+ indubitable de faire penser à |forward|trigger|negated|10|Group[711]|PRE-VALIDATION\n",
      "non \\w+ indubitable de sous-entendre |forward|trigger|negated|10|Group[711]|PRE-VALIDATION\n",
      "non \\w+ indubitable de supposer |forward|trigger|negated|10|Group[711]|PRE-VALIDATION\n",
      "non \\w+ indubitable de envisager |forward|trigger|negated|10|Group[711]|PRE-VALIDATION\n",
      "non \\w+ indiscutable de suggérer |forward|trigger|negated|10|Group[711]|PRE-VALIDATION\n",
      "non \\w+ indiscutable de proposer |forward|trigger|negated|10|Group[711]|PRE-VALIDATION\n",
      "non \\w+ indiscutable de inspirer |forward|trigger|negated|10|Group[711]|PRE-VALIDATION\n",
      "non \\w+ indiscutable de insinuer |forward|trigger|negated|10|Group[711]|PRE-VALIDATION\n",
      "non \\w+ indiscutable de évoquer |forward|trigger|negated|10|Group[711]|PRE-VALIDATION\n",
      "non \\w+ indiscutable de dicter |forward|trigger|negated|10|Group[711]|PRE-VALIDATION\n",
      "non \\w+ indiscutable de persuader |forward|trigger|negated|10|Group[711]|PRE-VALIDATION\n",
      "non \\w+ indiscutable de susciter |forward|trigger|negated|10|Group[711]|PRE-VALIDATION\n",
      "non \\w+ indiscutable de soumettre |forward|trigger|negated|10|Group[711]|PRE-VALIDATION\n",
      "non \\w+ indiscutable de enseigner |forward|trigger|negated|10|Group[711]|PRE-VALIDATION\n",
      "non \\w+ indiscutable de recommander |forward|trigger|negated|10|Group[711]|PRE-VALIDATION\n",
      "non \\w+ indiscutable de faire penser à |forward|trigger|negated|10|Group[711]|PRE-VALIDATION\n",
      "non \\w+ indiscutable de sous-entendre |forward|trigger|negated|10|Group[711]|PRE-VALIDATION\n",
      "non \\w+ indiscutable de supposer |forward|trigger|negated|10|Group[711]|PRE-VALIDATION\n",
      "non \\w+ indiscutable de envisager |forward|trigger|negated|10|Group[711]|PRE-VALIDATION\n",
      "non \\w+ notoire de suggérer |forward|trigger|negated|10|Group[711]|PRE-VALIDATION\n",
      "non \\w+ notoire de proposer |forward|trigger|negated|10|Group[711]|PRE-VALIDATION\n",
      "non \\w+ notoire de inspirer |forward|trigger|negated|10|Group[711]|PRE-VALIDATION\n",
      "non \\w+ notoire de insinuer |forward|trigger|negated|10|Group[711]|PRE-VALIDATION\n",
      "non \\w+ notoire de évoquer |forward|trigger|negated|10|Group[711]|PRE-VALIDATION\n",
      "non \\w+ notoire de dicter |forward|trigger|negated|10|Group[711]|PRE-VALIDATION\n",
      "non \\w+ notoire de persuader |forward|trigger|negated|10|Group[711]|PRE-VALIDATION\n",
      "non \\w+ notoire de susciter |forward|trigger|negated|10|Group[711]|PRE-VALIDATION\n",
      "non \\w+ notoire de soumettre |forward|trigger|negated|10|Group[711]|PRE-VALIDATION\n",
      "non \\w+ notoire de enseigner |forward|trigger|negated|10|Group[711]|PRE-VALIDATION\n",
      "non \\w+ notoire de recommander |forward|trigger|negated|10|Group[711]|PRE-VALIDATION\n",
      "non \\w+ notoire de faire penser à |forward|trigger|negated|10|Group[711]|PRE-VALIDATION\n",
      "non \\w+ notoire de sous-entendre |forward|trigger|negated|10|Group[711]|PRE-VALIDATION\n",
      "non \\w+ notoire de supposer |forward|trigger|negated|10|Group[711]|PRE-VALIDATION\n",
      "non \\w+ notoire de envisager |forward|trigger|negated|10|Group[711]|PRE-VALIDATION\n",
      "non \\w+ patent de suggérer |forward|trigger|negated|10|Group[711]|PRE-VALIDATION\n",
      "non \\w+ patent de proposer |forward|trigger|negated|10|Group[711]|PRE-VALIDATION\n",
      "non \\w+ patent de inspirer |forward|trigger|negated|10|Group[711]|PRE-VALIDATION\n",
      "non \\w+ patent de insinuer |forward|trigger|negated|10|Group[711]|PRE-VALIDATION\n",
      "non \\w+ patent de évoquer |forward|trigger|negated|10|Group[711]|PRE-VALIDATION\n",
      "non \\w+ patent de dicter |forward|trigger|negated|10|Group[711]|PRE-VALIDATION\n",
      "non \\w+ patent de persuader |forward|trigger|negated|10|Group[711]|PRE-VALIDATION\n",
      "non \\w+ patent de susciter |forward|trigger|negated|10|Group[711]|PRE-VALIDATION\n",
      "non \\w+ patent de soumettre |forward|trigger|negated|10|Group[711]|PRE-VALIDATION\n",
      "non \\w+ patent de enseigner |forward|trigger|negated|10|Group[711]|PRE-VALIDATION\n",
      "non \\w+ patent de recommander |forward|trigger|negated|10|Group[711]|PRE-VALIDATION\n",
      "non \\w+ patent de faire penser à |forward|trigger|negated|10|Group[711]|PRE-VALIDATION\n",
      "non \\w+ patent de sous-entendre |forward|trigger|negated|10|Group[711]|PRE-VALIDATION\n",
      "non \\w+ patent de supposer |forward|trigger|negated|10|Group[711]|PRE-VALIDATION\n",
      "non \\w+ patent de envisager |forward|trigger|negated|10|Group[711]|PRE-VALIDATION\n",
      "non \\w+ authentique de suggérer |forward|trigger|negated|10|Group[711]|PRE-VALIDATION\n",
      "non \\w+ authentique de proposer |forward|trigger|negated|10|Group[711]|PRE-VALIDATION\n",
      "non \\w+ authentique de inspirer |forward|trigger|negated|10|Group[711]|PRE-VALIDATION\n",
      "non \\w+ authentique de insinuer |forward|trigger|negated|10|Group[711]|PRE-VALIDATION\n",
      "non \\w+ authentique de évoquer |forward|trigger|negated|10|Group[711]|PRE-VALIDATION\n",
      "non \\w+ authentique de dicter |forward|trigger|negated|10|Group[711]|PRE-VALIDATION\n",
      "non \\w+ authentique de persuader |forward|trigger|negated|10|Group[711]|PRE-VALIDATION\n",
      "non \\w+ authentique de susciter |forward|trigger|negated|10|Group[711]|PRE-VALIDATION\n",
      "non \\w+ authentique de soumettre |forward|trigger|negated|10|Group[711]|PRE-VALIDATION\n",
      "non \\w+ authentique de enseigner |forward|trigger|negated|10|Group[711]|PRE-VALIDATION\n",
      "non \\w+ authentique de recommander |forward|trigger|negated|10|Group[711]|PRE-VALIDATION\n",
      "non \\w+ authentique de faire penser à |forward|trigger|negated|10|Group[711]|PRE-VALIDATION\n",
      "non \\w+ authentique de sous-entendre |forward|trigger|negated|10|Group[711]|PRE-VALIDATION\n",
      "non \\w+ authentique de supposer |forward|trigger|negated|10|Group[711]|PRE-VALIDATION\n",
      "non \\w+ authentique de envisager |forward|trigger|negated|10|Group[711]|PRE-VALIDATION\n",
      "non \\w+ certain de suggérer |forward|trigger|negated|10|Group[711]|PRE-VALIDATION\n",
      "non \\w+ certain de proposer |forward|trigger|negated|10|Group[711]|PRE-VALIDATION\n",
      "non \\w+ certain de inspirer |forward|trigger|negated|10|Group[711]|PRE-VALIDATION\n",
      "non \\w+ certain de insinuer |forward|trigger|negated|10|Group[711]|PRE-VALIDATION\n",
      "non \\w+ certain de évoquer |forward|trigger|negated|10|Group[711]|PRE-VALIDATION\n",
      "non \\w+ certain de dicter |forward|trigger|negated|10|Group[711]|PRE-VALIDATION\n",
      "non \\w+ certain de persuader |forward|trigger|negated|10|Group[711]|PRE-VALIDATION\n",
      "non \\w+ certain de susciter |forward|trigger|negated|10|Group[711]|PRE-VALIDATION\n",
      "non \\w+ certain de soumettre |forward|trigger|negated|10|Group[711]|PRE-VALIDATION\n",
      "non \\w+ certain de enseigner |forward|trigger|negated|10|Group[711]|PRE-VALIDATION\n",
      "non \\w+ certain de recommander |forward|trigger|negated|10|Group[711]|PRE-VALIDATION\n",
      "non \\w+ certain de faire penser à |forward|trigger|negated|10|Group[711]|PRE-VALIDATION\n",
      "non \\w+ certain de sous-entendre |forward|trigger|negated|10|Group[711]|PRE-VALIDATION\n",
      "non \\w+ certain de supposer |forward|trigger|negated|10|Group[711]|PRE-VALIDATION\n",
      "non \\w+ certain de envisager |forward|trigger|negated|10|Group[711]|PRE-VALIDATION\n",
      "non \\w+ apparent de suggérer |forward|trigger|negated|10|Group[711]|PRE-VALIDATION\n",
      "non \\w+ apparent de proposer |forward|trigger|negated|10|Group[711]|PRE-VALIDATION\n",
      "non \\w+ apparent de inspirer |forward|trigger|negated|10|Group[711]|PRE-VALIDATION\n",
      "non \\w+ apparent de insinuer |forward|trigger|negated|10|Group[711]|PRE-VALIDATION\n",
      "non \\w+ apparent de évoquer |forward|trigger|negated|10|Group[711]|PRE-VALIDATION\n",
      "non \\w+ apparent de dicter |forward|trigger|negated|10|Group[711]|PRE-VALIDATION\n",
      "non \\w+ apparent de persuader |forward|trigger|negated|10|Group[711]|PRE-VALIDATION\n",
      "non \\w+ apparent de susciter |forward|trigger|negated|10|Group[711]|PRE-VALIDATION\n",
      "non \\w+ apparent de soumettre |forward|trigger|negated|10|Group[711]|PRE-VALIDATION\n",
      "non \\w+ apparent de enseigner |forward|trigger|negated|10|Group[711]|PRE-VALIDATION\n",
      "non \\w+ apparent de recommander |forward|trigger|negated|10|Group[711]|PRE-VALIDATION\n",
      "non \\w+ apparent de faire penser à |forward|trigger|negated|10|Group[711]|PRE-VALIDATION\n",
      "non \\w+ apparent de sous-entendre |forward|trigger|negated|10|Group[711]|PRE-VALIDATION\n",
      "non \\w+ apparent de supposer |forward|trigger|negated|10|Group[711]|PRE-VALIDATION\n",
      "non \\w+ apparent de envisager |forward|trigger|negated|10|Group[711]|PRE-VALIDATION\n",
      "non \\w+ indéniable de suggérer |forward|trigger|negated|10|Group[711]|PRE-VALIDATION\n",
      "non \\w+ indéniable de proposer |forward|trigger|negated|10|Group[711]|PRE-VALIDATION\n",
      "non \\w+ indéniable de inspirer |forward|trigger|negated|10|Group[711]|PRE-VALIDATION\n",
      "non \\w+ indéniable de insinuer |forward|trigger|negated|10|Group[711]|PRE-VALIDATION\n",
      "non \\w+ indéniable de évoquer |forward|trigger|negated|10|Group[711]|PRE-VALIDATION\n",
      "non \\w+ indéniable de dicter |forward|trigger|negated|10|Group[711]|PRE-VALIDATION\n",
      "non \\w+ indéniable de persuader |forward|trigger|negated|10|Group[711]|PRE-VALIDATION\n",
      "non \\w+ indéniable de susciter |forward|trigger|negated|10|Group[711]|PRE-VALIDATION\n",
      "non \\w+ indéniable de soumettre |forward|trigger|negated|10|Group[711]|PRE-VALIDATION\n",
      "non \\w+ indéniable de enseigner |forward|trigger|negated|10|Group[711]|PRE-VALIDATION\n",
      "non \\w+ indéniable de recommander |forward|trigger|negated|10|Group[711]|PRE-VALIDATION\n",
      "non \\w+ indéniable de faire penser à |forward|trigger|negated|10|Group[711]|PRE-VALIDATION\n",
      "non \\w+ indéniable de sous-entendre |forward|trigger|negated|10|Group[711]|PRE-VALIDATION\n",
      "non \\w+ indéniable de supposer |forward|trigger|negated|10|Group[711]|PRE-VALIDATION\n",
      "non \\w+ indéniable de envisager |forward|trigger|negated|10|Group[711]|PRE-VALIDATION\n",
      "non \\w+ flagrant de suggérer |forward|trigger|negated|10|Group[711]|PRE-VALIDATION\n",
      "non \\w+ flagrant de proposer |forward|trigger|negated|10|Group[711]|PRE-VALIDATION\n",
      "non \\w+ flagrant de inspirer |forward|trigger|negated|10|Group[711]|PRE-VALIDATION\n",
      "non \\w+ flagrant de insinuer |forward|trigger|negated|10|Group[711]|PRE-VALIDATION\n",
      "non \\w+ flagrant de évoquer |forward|trigger|negated|10|Group[711]|PRE-VALIDATION\n",
      "non \\w+ flagrant de dicter |forward|trigger|negated|10|Group[711]|PRE-VALIDATION\n",
      "non \\w+ flagrant de persuader |forward|trigger|negated|10|Group[711]|PRE-VALIDATION\n",
      "non \\w+ flagrant de susciter |forward|trigger|negated|10|Group[711]|PRE-VALIDATION\n",
      "non \\w+ flagrant de soumettre |forward|trigger|negated|10|Group[711]|PRE-VALIDATION\n",
      "non \\w+ flagrant de enseigner |forward|trigger|negated|10|Group[711]|PRE-VALIDATION\n",
      "non \\w+ flagrant de recommander |forward|trigger|negated|10|Group[711]|PRE-VALIDATION\n",
      "non \\w+ flagrant de faire penser à |forward|trigger|negated|10|Group[711]|PRE-VALIDATION\n",
      "non \\w+ flagrant de sous-entendre |forward|trigger|negated|10|Group[711]|PRE-VALIDATION\n",
      "non \\w+ flagrant de supposer |forward|trigger|negated|10|Group[711]|PRE-VALIDATION\n",
      "non \\w+ flagrant de envisager |forward|trigger|negated|10|Group[711]|PRE-VALIDATION\n",
      "non \\w+ incontestable de suggérer |forward|trigger|negated|10|Group[711]|PRE-VALIDATION\n",
      "non \\w+ incontestable de proposer |forward|trigger|negated|10|Group[711]|PRE-VALIDATION\n",
      "non \\w+ incontestable de inspirer |forward|trigger|negated|10|Group[711]|PRE-VALIDATION\n",
      "non \\w+ incontestable de insinuer |forward|trigger|negated|10|Group[711]|PRE-VALIDATION\n",
      "non \\w+ incontestable de évoquer |forward|trigger|negated|10|Group[711]|PRE-VALIDATION\n",
      "non \\w+ incontestable de dicter |forward|trigger|negated|10|Group[711]|PRE-VALIDATION\n",
      "non \\w+ incontestable de persuader |forward|trigger|negated|10|Group[711]|PRE-VALIDATION\n",
      "non \\w+ incontestable de susciter |forward|trigger|negated|10|Group[711]|PRE-VALIDATION\n",
      "non \\w+ incontestable de soumettre |forward|trigger|negated|10|Group[711]|PRE-VALIDATION\n",
      "non \\w+ incontestable de enseigner |forward|trigger|negated|10|Group[711]|PRE-VALIDATION\n",
      "non \\w+ incontestable de recommander |forward|trigger|negated|10|Group[711]|PRE-VALIDATION\n",
      "non \\w+ incontestable de faire penser à |forward|trigger|negated|10|Group[711]|PRE-VALIDATION\n",
      "non \\w+ incontestable de sous-entendre |forward|trigger|negated|10|Group[711]|PRE-VALIDATION\n",
      "non \\w+ incontestable de supposer |forward|trigger|negated|10|Group[711]|PRE-VALIDATION\n",
      "non \\w+ incontestable de envisager |forward|trigger|negated|10|Group[711]|PRE-VALIDATION\n",
      "non \\w+ sûr de suggérer |forward|trigger|negated|10|Group[711]|PRE-VALIDATION\n",
      "non \\w+ sûr de proposer |forward|trigger|negated|10|Group[711]|PRE-VALIDATION\n",
      "non \\w+ sûr de inspirer |forward|trigger|negated|10|Group[711]|PRE-VALIDATION\n",
      "non \\w+ sûr de insinuer |forward|trigger|negated|10|Group[711]|PRE-VALIDATION\n",
      "non \\w+ sûr de évoquer |forward|trigger|negated|10|Group[711]|PRE-VALIDATION\n",
      "non \\w+ sûr de dicter |forward|trigger|negated|10|Group[711]|PRE-VALIDATION\n",
      "non \\w+ sûr de persuader |forward|trigger|negated|10|Group[711]|PRE-VALIDATION\n",
      "non \\w+ sûr de susciter |forward|trigger|negated|10|Group[711]|PRE-VALIDATION\n",
      "non \\w+ sûr de soumettre |forward|trigger|negated|10|Group[711]|PRE-VALIDATION\n",
      "non \\w+ sûr de enseigner |forward|trigger|negated|10|Group[711]|PRE-VALIDATION\n",
      "non \\w+ sûr de recommander |forward|trigger|negated|10|Group[711]|PRE-VALIDATION\n",
      "non \\w+ sûr de faire penser à |forward|trigger|negated|10|Group[711]|PRE-VALIDATION\n",
      "non \\w+ sûr de sous-entendre |forward|trigger|negated|10|Group[711]|PRE-VALIDATION\n",
      "non \\w+ sûr de supposer |forward|trigger|negated|10|Group[711]|PRE-VALIDATION\n",
      "non \\w+ sûr de envisager |forward|trigger|negated|10|Group[711]|PRE-VALIDATION\n",
      "non \\w+ assuré de suggérer |forward|trigger|negated|10|Group[711]|PRE-VALIDATION\n",
      "non \\w+ assuré de proposer |forward|trigger|negated|10|Group[711]|PRE-VALIDATION\n",
      "non \\w+ assuré de inspirer |forward|trigger|negated|10|Group[711]|PRE-VALIDATION\n",
      "non \\w+ assuré de insinuer |forward|trigger|negated|10|Group[711]|PRE-VALIDATION\n",
      "non \\w+ assuré de évoquer |forward|trigger|negated|10|Group[711]|PRE-VALIDATION\n",
      "non \\w+ assuré de dicter |forward|trigger|negated|10|Group[711]|PRE-VALIDATION\n",
      "non \\w+ assuré de persuader |forward|trigger|negated|10|Group[711]|PRE-VALIDATION\n",
      "non \\w+ assuré de susciter |forward|trigger|negated|10|Group[711]|PRE-VALIDATION\n",
      "non \\w+ assuré de soumettre |forward|trigger|negated|10|Group[711]|PRE-VALIDATION\n",
      "non \\w+ assuré de enseigner |forward|trigger|negated|10|Group[711]|PRE-VALIDATION\n",
      "non \\w+ assuré de recommander |forward|trigger|negated|10|Group[711]|PRE-VALIDATION\n",
      "non \\w+ assuré de faire penser à |forward|trigger|negated|10|Group[711]|PRE-VALIDATION\n",
      "non \\w+ assuré de sous-entendre |forward|trigger|negated|10|Group[711]|PRE-VALIDATION\n",
      "non \\w+ assuré de supposer |forward|trigger|negated|10|Group[711]|PRE-VALIDATION\n",
      "non \\w+ assuré de envisager |forward|trigger|negated|10|Group[711]|PRE-VALIDATION\n",
      "non \\w+ palpable de suggérer |forward|trigger|negated|10|Group[711]|PRE-VALIDATION\n",
      "non \\w+ palpable de proposer |forward|trigger|negated|10|Group[711]|PRE-VALIDATION\n",
      "non \\w+ palpable de inspirer |forward|trigger|negated|10|Group[711]|PRE-VALIDATION\n",
      "non \\w+ palpable de insinuer |forward|trigger|negated|10|Group[711]|PRE-VALIDATION\n",
      "non \\w+ palpable de évoquer |forward|trigger|negated|10|Group[711]|PRE-VALIDATION\n",
      "non \\w+ palpable de dicter |forward|trigger|negated|10|Group[711]|PRE-VALIDATION\n",
      "non \\w+ palpable de persuader |forward|trigger|negated|10|Group[711]|PRE-VALIDATION\n",
      "non \\w+ palpable de susciter |forward|trigger|negated|10|Group[711]|PRE-VALIDATION\n",
      "non \\w+ palpable de soumettre |forward|trigger|negated|10|Group[711]|PRE-VALIDATION\n",
      "non \\w+ palpable de enseigner |forward|trigger|negated|10|Group[711]|PRE-VALIDATION\n",
      "non \\w+ palpable de recommander |forward|trigger|negated|10|Group[711]|PRE-VALIDATION\n",
      "non \\w+ palpable de faire penser à |forward|trigger|negated|10|Group[711]|PRE-VALIDATION\n",
      "non \\w+ palpable de sous-entendre |forward|trigger|negated|10|Group[711]|PRE-VALIDATION\n",
      "non \\w+ palpable de supposer |forward|trigger|negated|10|Group[711]|PRE-VALIDATION\n",
      "non \\w+ palpable de envisager |forward|trigger|negated|10|Group[711]|PRE-VALIDATION\n"
     ]
    }
   ],
   "source": [
    "from nltk.parse.generate import generate, demo_grammar\n",
    "from nltk import CFG\n",
    "\n",
    "cfg_grammar= \"\"\"\n",
    "S ->  Adverb1 Adjective2 Noun5 Adposition6 Verb7 Trigger_Rule\n",
    "Adverb1 -> \"non\"\n",
    "Adjective2 -> \"\\\\w+\"\n",
    "Noun5 -> \"évident\" | \"clair\" | \"indubitable\" | \"indiscutable\" | \"notoire\" | \"patent\" | \"authentique\" | \"certain\" | \"apparent\" | \"indéniable\" | \"flagrant\" | \"incontestable\" | \"sûr\" | \"assuré\" | \"palpable\"\n",
    "Adposition6 -> \"de\"\n",
    "Verb7 -> \"suggérer\" | \"proposer\" | \"inspirer\" | \"insinuer\" | \"évoquer\" | \"dicter\" | \"persuader\" | \"susciter\" | \"soumettre\" | \"enseigner\" | \"recommander\" | \"faire penser à\" | \"sous-entendre\" | \"supposer\" | \"envisager\"\n",
    "Trigger_Rule -> \"|forward|trigger|negated|10|Group[711]|PRE-VALIDATION\"\n",
    "\"\"\"\n",
    "\n",
    "for sentence in generate(CFG.fromstring(cfg_grammar), n=1000):\n",
    "    print(' '.join(sentence))"
   ]
  },
  {
   "cell_type": "code",
   "execution_count": 12,
   "metadata": {},
   "outputs": [
    {
     "name": "stdout",
     "output_type": "stream",
     "text": [
      "non \\w+ évident pour |forward|trigger|negated|10|Group[713]|PRE-VALIDATION\n",
      "non \\w+ clair pour |forward|trigger|negated|10|Group[713]|PRE-VALIDATION\n",
      "non \\w+ indubitable pour |forward|trigger|negated|10|Group[713]|PRE-VALIDATION\n",
      "non \\w+ indiscutable pour |forward|trigger|negated|10|Group[713]|PRE-VALIDATION\n",
      "non \\w+ notoire pour |forward|trigger|negated|10|Group[713]|PRE-VALIDATION\n",
      "non \\w+ patent pour |forward|trigger|negated|10|Group[713]|PRE-VALIDATION\n",
      "non \\w+ authentique pour |forward|trigger|negated|10|Group[713]|PRE-VALIDATION\n",
      "non \\w+ certain pour |forward|trigger|negated|10|Group[713]|PRE-VALIDATION\n",
      "non \\w+ apparent pour |forward|trigger|negated|10|Group[713]|PRE-VALIDATION\n",
      "non \\w+ indéniable pour |forward|trigger|negated|10|Group[713]|PRE-VALIDATION\n",
      "non \\w+ flagrant pour |forward|trigger|negated|10|Group[713]|PRE-VALIDATION\n",
      "non \\w+ incontestable pour |forward|trigger|negated|10|Group[713]|PRE-VALIDATION\n",
      "non \\w+ sûr pour |forward|trigger|negated|10|Group[713]|PRE-VALIDATION\n",
      "non \\w+ assuré pour |forward|trigger|negated|10|Group[713]|PRE-VALIDATION\n",
      "non \\w+ palpable pour |forward|trigger|negated|10|Group[713]|PRE-VALIDATION\n"
     ]
    }
   ],
   "source": [
    "from nltk.parse.generate import generate, demo_grammar\n",
    "from nltk import CFG\n",
    "\n",
    "cfg_grammar= \"\"\"\n",
    "S ->  Adverb1 Adjective2 Noun5 Adposition6 Trigger_Rule\n",
    "Adverb1 -> \"non\"\n",
    "Adjective2 -> \"\\\\w+\"\n",
    "Noun5 -> \"évident\" | \"clair\" | \"indubitable\" | \"indiscutable\" | \"notoire\" | \"patent\" | \"authentique\" | \"certain\" | \"apparent\" | \"indéniable\" | \"flagrant\" | \"incontestable\" | \"sûr\" | \"assuré\" | \"palpable\"\n",
    "Adposition6 -> \"pour\"\n",
    "Trigger_Rule -> \"|forward|trigger|negated|10|Group[713]|PRE-VALIDATION\"\n",
    "\"\"\"\n",
    "\n",
    "for sentence in generate(CFG.fromstring(cfg_grammar), n=1000):\n",
    "    print(' '.join(sentence))"
   ]
  },
  {
   "cell_type": "code",
   "execution_count": 13,
   "metadata": {},
   "outputs": [
    {
     "name": "stdout",
     "output_type": "stream",
     "text": [
      "aucun \\w+ preuve de |forward|trigger|negated|10|Group[715]|PRE-VALIDATION\n",
      "aucun \\w+ témoignage de |forward|trigger|negated|10|Group[715]|PRE-VALIDATION\n",
      "aucun \\w+ justification de |forward|trigger|negated|10|Group[715]|PRE-VALIDATION\n",
      "aucun \\w+ démonstration de |forward|trigger|negated|10|Group[715]|PRE-VALIDATION\n",
      "aucun \\w+ gage de |forward|trigger|negated|10|Group[715]|PRE-VALIDATION\n",
      "aucun \\w+ conviction de |forward|trigger|negated|10|Group[715]|PRE-VALIDATION\n",
      "aucun \\w+ argument de |forward|trigger|negated|10|Group[715]|PRE-VALIDATION\n",
      "aucun \\w+ constatation de |forward|trigger|negated|10|Group[715]|PRE-VALIDATION\n",
      "aucun \\w+ confirmation de |forward|trigger|negated|10|Group[715]|PRE-VALIDATION\n",
      "aucun \\w+ critère de |forward|trigger|negated|10|Group[715]|PRE-VALIDATION\n",
      "aucun \\w+ signe de |forward|trigger|negated|10|Group[715]|PRE-VALIDATION\n",
      "aucun \\w+ motif de |forward|trigger|negated|10|Group[715]|PRE-VALIDATION\n",
      "aucun \\w+ assurance de |forward|trigger|negated|10|Group[715]|PRE-VALIDATION\n",
      "aucun \\w+ fondement de |forward|trigger|negated|10|Group[715]|PRE-VALIDATION\n",
      "aucun \\w+ évidence de |forward|trigger|negated|10|Group[715]|PRE-VALIDATION\n"
     ]
    }
   ],
   "source": [
    "from nltk.parse.generate import generate, demo_grammar\n",
    "from nltk import CFG\n",
    "\n",
    "cfg_grammar= \"\"\"\n",
    "S ->  Determiner1 Adjective2 Noun5 Adposition6 Trigger_Rule\n",
    "Determiner1 -> \"aucun\"\n",
    "Adjective2 -> \"\\\\w+\"\n",
    "Noun5 -> \"preuve\" | \"témoignage\" | \"justification\" | \"démonstration\" | \"gage\" | \"conviction\" | \"argument\" | \"constatation\" | \"confirmation\" | \"critère\" | \"signe\" | \"motif\" | \"assurance\" | \"fondement\" | \"évidence\"\n",
    "Adposition6 -> \"de\"\n",
    "Trigger_Rule -> \"|forward|trigger|negated|10|Group[715]|PRE-VALIDATION\"\n",
    "\"\"\"\n",
    "\n",
    "for sentence in generate(CFG.fromstring(cfg_grammar), n=1000):\n",
    "    print(' '.join(sentence))"
   ]
  },
  {
   "cell_type": "code",
   "execution_count": 14,
   "metadata": {},
   "outputs": [
    {
     "name": "stdout",
     "output_type": "stream",
     "text": [
      "aucune preuve à suggérer |forward|trigger|negated|10|Group[717]|PRE-VALIDATION\n",
      "aucune preuve à proposer |forward|trigger|negated|10|Group[717]|PRE-VALIDATION\n",
      "aucune preuve à inspirer |forward|trigger|negated|10|Group[717]|PRE-VALIDATION\n",
      "aucune preuve à insinuer |forward|trigger|negated|10|Group[717]|PRE-VALIDATION\n",
      "aucune preuve à évoquer |forward|trigger|negated|10|Group[717]|PRE-VALIDATION\n",
      "aucune preuve à dicter |forward|trigger|negated|10|Group[717]|PRE-VALIDATION\n",
      "aucune preuve à persuader |forward|trigger|negated|10|Group[717]|PRE-VALIDATION\n",
      "aucune preuve à susciter |forward|trigger|negated|10|Group[717]|PRE-VALIDATION\n",
      "aucune preuve à soumettre |forward|trigger|negated|10|Group[717]|PRE-VALIDATION\n",
      "aucune preuve à enseigner |forward|trigger|negated|10|Group[717]|PRE-VALIDATION\n",
      "aucune preuve à recommander |forward|trigger|negated|10|Group[717]|PRE-VALIDATION\n",
      "aucune preuve à faire penser à |forward|trigger|negated|10|Group[717]|PRE-VALIDATION\n",
      "aucune preuve à sous-entendre |forward|trigger|negated|10|Group[717]|PRE-VALIDATION\n",
      "aucune preuve à supposer |forward|trigger|negated|10|Group[717]|PRE-VALIDATION\n",
      "aucune preuve à envisager |forward|trigger|negated|10|Group[717]|PRE-VALIDATION\n",
      "aucune témoignage à suggérer |forward|trigger|negated|10|Group[717]|PRE-VALIDATION\n",
      "aucune témoignage à proposer |forward|trigger|negated|10|Group[717]|PRE-VALIDATION\n",
      "aucune témoignage à inspirer |forward|trigger|negated|10|Group[717]|PRE-VALIDATION\n",
      "aucune témoignage à insinuer |forward|trigger|negated|10|Group[717]|PRE-VALIDATION\n",
      "aucune témoignage à évoquer |forward|trigger|negated|10|Group[717]|PRE-VALIDATION\n",
      "aucune témoignage à dicter |forward|trigger|negated|10|Group[717]|PRE-VALIDATION\n",
      "aucune témoignage à persuader |forward|trigger|negated|10|Group[717]|PRE-VALIDATION\n",
      "aucune témoignage à susciter |forward|trigger|negated|10|Group[717]|PRE-VALIDATION\n",
      "aucune témoignage à soumettre |forward|trigger|negated|10|Group[717]|PRE-VALIDATION\n",
      "aucune témoignage à enseigner |forward|trigger|negated|10|Group[717]|PRE-VALIDATION\n",
      "aucune témoignage à recommander |forward|trigger|negated|10|Group[717]|PRE-VALIDATION\n",
      "aucune témoignage à faire penser à |forward|trigger|negated|10|Group[717]|PRE-VALIDATION\n",
      "aucune témoignage à sous-entendre |forward|trigger|negated|10|Group[717]|PRE-VALIDATION\n",
      "aucune témoignage à supposer |forward|trigger|negated|10|Group[717]|PRE-VALIDATION\n",
      "aucune témoignage à envisager |forward|trigger|negated|10|Group[717]|PRE-VALIDATION\n",
      "aucune justification à suggérer |forward|trigger|negated|10|Group[717]|PRE-VALIDATION\n",
      "aucune justification à proposer |forward|trigger|negated|10|Group[717]|PRE-VALIDATION\n",
      "aucune justification à inspirer |forward|trigger|negated|10|Group[717]|PRE-VALIDATION\n",
      "aucune justification à insinuer |forward|trigger|negated|10|Group[717]|PRE-VALIDATION\n",
      "aucune justification à évoquer |forward|trigger|negated|10|Group[717]|PRE-VALIDATION\n",
      "aucune justification à dicter |forward|trigger|negated|10|Group[717]|PRE-VALIDATION\n",
      "aucune justification à persuader |forward|trigger|negated|10|Group[717]|PRE-VALIDATION\n",
      "aucune justification à susciter |forward|trigger|negated|10|Group[717]|PRE-VALIDATION\n",
      "aucune justification à soumettre |forward|trigger|negated|10|Group[717]|PRE-VALIDATION\n",
      "aucune justification à enseigner |forward|trigger|negated|10|Group[717]|PRE-VALIDATION\n",
      "aucune justification à recommander |forward|trigger|negated|10|Group[717]|PRE-VALIDATION\n",
      "aucune justification à faire penser à |forward|trigger|negated|10|Group[717]|PRE-VALIDATION\n",
      "aucune justification à sous-entendre |forward|trigger|negated|10|Group[717]|PRE-VALIDATION\n",
      "aucune justification à supposer |forward|trigger|negated|10|Group[717]|PRE-VALIDATION\n",
      "aucune justification à envisager |forward|trigger|negated|10|Group[717]|PRE-VALIDATION\n",
      "aucune démonstration à suggérer |forward|trigger|negated|10|Group[717]|PRE-VALIDATION\n",
      "aucune démonstration à proposer |forward|trigger|negated|10|Group[717]|PRE-VALIDATION\n",
      "aucune démonstration à inspirer |forward|trigger|negated|10|Group[717]|PRE-VALIDATION\n",
      "aucune démonstration à insinuer |forward|trigger|negated|10|Group[717]|PRE-VALIDATION\n",
      "aucune démonstration à évoquer |forward|trigger|negated|10|Group[717]|PRE-VALIDATION\n",
      "aucune démonstration à dicter |forward|trigger|negated|10|Group[717]|PRE-VALIDATION\n",
      "aucune démonstration à persuader |forward|trigger|negated|10|Group[717]|PRE-VALIDATION\n",
      "aucune démonstration à susciter |forward|trigger|negated|10|Group[717]|PRE-VALIDATION\n",
      "aucune démonstration à soumettre |forward|trigger|negated|10|Group[717]|PRE-VALIDATION\n",
      "aucune démonstration à enseigner |forward|trigger|negated|10|Group[717]|PRE-VALIDATION\n",
      "aucune démonstration à recommander |forward|trigger|negated|10|Group[717]|PRE-VALIDATION\n",
      "aucune démonstration à faire penser à |forward|trigger|negated|10|Group[717]|PRE-VALIDATION\n",
      "aucune démonstration à sous-entendre |forward|trigger|negated|10|Group[717]|PRE-VALIDATION\n",
      "aucune démonstration à supposer |forward|trigger|negated|10|Group[717]|PRE-VALIDATION\n",
      "aucune démonstration à envisager |forward|trigger|negated|10|Group[717]|PRE-VALIDATION\n",
      "aucune gage à suggérer |forward|trigger|negated|10|Group[717]|PRE-VALIDATION\n",
      "aucune gage à proposer |forward|trigger|negated|10|Group[717]|PRE-VALIDATION\n",
      "aucune gage à inspirer |forward|trigger|negated|10|Group[717]|PRE-VALIDATION\n",
      "aucune gage à insinuer |forward|trigger|negated|10|Group[717]|PRE-VALIDATION\n",
      "aucune gage à évoquer |forward|trigger|negated|10|Group[717]|PRE-VALIDATION\n",
      "aucune gage à dicter |forward|trigger|negated|10|Group[717]|PRE-VALIDATION\n",
      "aucune gage à persuader |forward|trigger|negated|10|Group[717]|PRE-VALIDATION\n",
      "aucune gage à susciter |forward|trigger|negated|10|Group[717]|PRE-VALIDATION\n",
      "aucune gage à soumettre |forward|trigger|negated|10|Group[717]|PRE-VALIDATION\n",
      "aucune gage à enseigner |forward|trigger|negated|10|Group[717]|PRE-VALIDATION\n",
      "aucune gage à recommander |forward|trigger|negated|10|Group[717]|PRE-VALIDATION\n",
      "aucune gage à faire penser à |forward|trigger|negated|10|Group[717]|PRE-VALIDATION\n",
      "aucune gage à sous-entendre |forward|trigger|negated|10|Group[717]|PRE-VALIDATION\n",
      "aucune gage à supposer |forward|trigger|negated|10|Group[717]|PRE-VALIDATION\n",
      "aucune gage à envisager |forward|trigger|negated|10|Group[717]|PRE-VALIDATION\n",
      "aucune conviction à suggérer |forward|trigger|negated|10|Group[717]|PRE-VALIDATION\n",
      "aucune conviction à proposer |forward|trigger|negated|10|Group[717]|PRE-VALIDATION\n",
      "aucune conviction à inspirer |forward|trigger|negated|10|Group[717]|PRE-VALIDATION\n",
      "aucune conviction à insinuer |forward|trigger|negated|10|Group[717]|PRE-VALIDATION\n",
      "aucune conviction à évoquer |forward|trigger|negated|10|Group[717]|PRE-VALIDATION\n",
      "aucune conviction à dicter |forward|trigger|negated|10|Group[717]|PRE-VALIDATION\n",
      "aucune conviction à persuader |forward|trigger|negated|10|Group[717]|PRE-VALIDATION\n",
      "aucune conviction à susciter |forward|trigger|negated|10|Group[717]|PRE-VALIDATION\n",
      "aucune conviction à soumettre |forward|trigger|negated|10|Group[717]|PRE-VALIDATION\n",
      "aucune conviction à enseigner |forward|trigger|negated|10|Group[717]|PRE-VALIDATION\n",
      "aucune conviction à recommander |forward|trigger|negated|10|Group[717]|PRE-VALIDATION\n",
      "aucune conviction à faire penser à |forward|trigger|negated|10|Group[717]|PRE-VALIDATION\n",
      "aucune conviction à sous-entendre |forward|trigger|negated|10|Group[717]|PRE-VALIDATION\n",
      "aucune conviction à supposer |forward|trigger|negated|10|Group[717]|PRE-VALIDATION\n",
      "aucune conviction à envisager |forward|trigger|negated|10|Group[717]|PRE-VALIDATION\n",
      "aucune argument à suggérer |forward|trigger|negated|10|Group[717]|PRE-VALIDATION\n",
      "aucune argument à proposer |forward|trigger|negated|10|Group[717]|PRE-VALIDATION\n",
      "aucune argument à inspirer |forward|trigger|negated|10|Group[717]|PRE-VALIDATION\n",
      "aucune argument à insinuer |forward|trigger|negated|10|Group[717]|PRE-VALIDATION\n",
      "aucune argument à évoquer |forward|trigger|negated|10|Group[717]|PRE-VALIDATION\n",
      "aucune argument à dicter |forward|trigger|negated|10|Group[717]|PRE-VALIDATION\n",
      "aucune argument à persuader |forward|trigger|negated|10|Group[717]|PRE-VALIDATION\n",
      "aucune argument à susciter |forward|trigger|negated|10|Group[717]|PRE-VALIDATION\n",
      "aucune argument à soumettre |forward|trigger|negated|10|Group[717]|PRE-VALIDATION\n",
      "aucune argument à enseigner |forward|trigger|negated|10|Group[717]|PRE-VALIDATION\n",
      "aucune argument à recommander |forward|trigger|negated|10|Group[717]|PRE-VALIDATION\n",
      "aucune argument à faire penser à |forward|trigger|negated|10|Group[717]|PRE-VALIDATION\n",
      "aucune argument à sous-entendre |forward|trigger|negated|10|Group[717]|PRE-VALIDATION\n",
      "aucune argument à supposer |forward|trigger|negated|10|Group[717]|PRE-VALIDATION\n",
      "aucune argument à envisager |forward|trigger|negated|10|Group[717]|PRE-VALIDATION\n",
      "aucune constatation à suggérer |forward|trigger|negated|10|Group[717]|PRE-VALIDATION\n",
      "aucune constatation à proposer |forward|trigger|negated|10|Group[717]|PRE-VALIDATION\n",
      "aucune constatation à inspirer |forward|trigger|negated|10|Group[717]|PRE-VALIDATION\n",
      "aucune constatation à insinuer |forward|trigger|negated|10|Group[717]|PRE-VALIDATION\n",
      "aucune constatation à évoquer |forward|trigger|negated|10|Group[717]|PRE-VALIDATION\n",
      "aucune constatation à dicter |forward|trigger|negated|10|Group[717]|PRE-VALIDATION\n",
      "aucune constatation à persuader |forward|trigger|negated|10|Group[717]|PRE-VALIDATION\n",
      "aucune constatation à susciter |forward|trigger|negated|10|Group[717]|PRE-VALIDATION\n",
      "aucune constatation à soumettre |forward|trigger|negated|10|Group[717]|PRE-VALIDATION\n",
      "aucune constatation à enseigner |forward|trigger|negated|10|Group[717]|PRE-VALIDATION\n",
      "aucune constatation à recommander |forward|trigger|negated|10|Group[717]|PRE-VALIDATION\n",
      "aucune constatation à faire penser à |forward|trigger|negated|10|Group[717]|PRE-VALIDATION\n",
      "aucune constatation à sous-entendre |forward|trigger|negated|10|Group[717]|PRE-VALIDATION\n",
      "aucune constatation à supposer |forward|trigger|negated|10|Group[717]|PRE-VALIDATION\n",
      "aucune constatation à envisager |forward|trigger|negated|10|Group[717]|PRE-VALIDATION\n",
      "aucune confirmation à suggérer |forward|trigger|negated|10|Group[717]|PRE-VALIDATION\n",
      "aucune confirmation à proposer |forward|trigger|negated|10|Group[717]|PRE-VALIDATION\n",
      "aucune confirmation à inspirer |forward|trigger|negated|10|Group[717]|PRE-VALIDATION\n",
      "aucune confirmation à insinuer |forward|trigger|negated|10|Group[717]|PRE-VALIDATION\n",
      "aucune confirmation à évoquer |forward|trigger|negated|10|Group[717]|PRE-VALIDATION\n",
      "aucune confirmation à dicter |forward|trigger|negated|10|Group[717]|PRE-VALIDATION\n",
      "aucune confirmation à persuader |forward|trigger|negated|10|Group[717]|PRE-VALIDATION\n",
      "aucune confirmation à susciter |forward|trigger|negated|10|Group[717]|PRE-VALIDATION\n",
      "aucune confirmation à soumettre |forward|trigger|negated|10|Group[717]|PRE-VALIDATION\n"
     ]
    },
    {
     "name": "stdout",
     "output_type": "stream",
     "text": [
      "aucune confirmation à enseigner |forward|trigger|negated|10|Group[717]|PRE-VALIDATION\n",
      "aucune confirmation à recommander |forward|trigger|negated|10|Group[717]|PRE-VALIDATION\n",
      "aucune confirmation à faire penser à |forward|trigger|negated|10|Group[717]|PRE-VALIDATION\n",
      "aucune confirmation à sous-entendre |forward|trigger|negated|10|Group[717]|PRE-VALIDATION\n",
      "aucune confirmation à supposer |forward|trigger|negated|10|Group[717]|PRE-VALIDATION\n",
      "aucune confirmation à envisager |forward|trigger|negated|10|Group[717]|PRE-VALIDATION\n",
      "aucune critère à suggérer |forward|trigger|negated|10|Group[717]|PRE-VALIDATION\n",
      "aucune critère à proposer |forward|trigger|negated|10|Group[717]|PRE-VALIDATION\n",
      "aucune critère à inspirer |forward|trigger|negated|10|Group[717]|PRE-VALIDATION\n",
      "aucune critère à insinuer |forward|trigger|negated|10|Group[717]|PRE-VALIDATION\n",
      "aucune critère à évoquer |forward|trigger|negated|10|Group[717]|PRE-VALIDATION\n",
      "aucune critère à dicter |forward|trigger|negated|10|Group[717]|PRE-VALIDATION\n",
      "aucune critère à persuader |forward|trigger|negated|10|Group[717]|PRE-VALIDATION\n",
      "aucune critère à susciter |forward|trigger|negated|10|Group[717]|PRE-VALIDATION\n",
      "aucune critère à soumettre |forward|trigger|negated|10|Group[717]|PRE-VALIDATION\n",
      "aucune critère à enseigner |forward|trigger|negated|10|Group[717]|PRE-VALIDATION\n",
      "aucune critère à recommander |forward|trigger|negated|10|Group[717]|PRE-VALIDATION\n",
      "aucune critère à faire penser à |forward|trigger|negated|10|Group[717]|PRE-VALIDATION\n",
      "aucune critère à sous-entendre |forward|trigger|negated|10|Group[717]|PRE-VALIDATION\n",
      "aucune critère à supposer |forward|trigger|negated|10|Group[717]|PRE-VALIDATION\n",
      "aucune critère à envisager |forward|trigger|negated|10|Group[717]|PRE-VALIDATION\n",
      "aucune signe à suggérer |forward|trigger|negated|10|Group[717]|PRE-VALIDATION\n",
      "aucune signe à proposer |forward|trigger|negated|10|Group[717]|PRE-VALIDATION\n",
      "aucune signe à inspirer |forward|trigger|negated|10|Group[717]|PRE-VALIDATION\n",
      "aucune signe à insinuer |forward|trigger|negated|10|Group[717]|PRE-VALIDATION\n",
      "aucune signe à évoquer |forward|trigger|negated|10|Group[717]|PRE-VALIDATION\n",
      "aucune signe à dicter |forward|trigger|negated|10|Group[717]|PRE-VALIDATION\n",
      "aucune signe à persuader |forward|trigger|negated|10|Group[717]|PRE-VALIDATION\n",
      "aucune signe à susciter |forward|trigger|negated|10|Group[717]|PRE-VALIDATION\n",
      "aucune signe à soumettre |forward|trigger|negated|10|Group[717]|PRE-VALIDATION\n",
      "aucune signe à enseigner |forward|trigger|negated|10|Group[717]|PRE-VALIDATION\n",
      "aucune signe à recommander |forward|trigger|negated|10|Group[717]|PRE-VALIDATION\n",
      "aucune signe à faire penser à |forward|trigger|negated|10|Group[717]|PRE-VALIDATION\n",
      "aucune signe à sous-entendre |forward|trigger|negated|10|Group[717]|PRE-VALIDATION\n",
      "aucune signe à supposer |forward|trigger|negated|10|Group[717]|PRE-VALIDATION\n",
      "aucune signe à envisager |forward|trigger|negated|10|Group[717]|PRE-VALIDATION\n",
      "aucune motif à suggérer |forward|trigger|negated|10|Group[717]|PRE-VALIDATION\n",
      "aucune motif à proposer |forward|trigger|negated|10|Group[717]|PRE-VALIDATION\n",
      "aucune motif à inspirer |forward|trigger|negated|10|Group[717]|PRE-VALIDATION\n",
      "aucune motif à insinuer |forward|trigger|negated|10|Group[717]|PRE-VALIDATION\n",
      "aucune motif à évoquer |forward|trigger|negated|10|Group[717]|PRE-VALIDATION\n",
      "aucune motif à dicter |forward|trigger|negated|10|Group[717]|PRE-VALIDATION\n",
      "aucune motif à persuader |forward|trigger|negated|10|Group[717]|PRE-VALIDATION\n",
      "aucune motif à susciter |forward|trigger|negated|10|Group[717]|PRE-VALIDATION\n",
      "aucune motif à soumettre |forward|trigger|negated|10|Group[717]|PRE-VALIDATION\n",
      "aucune motif à enseigner |forward|trigger|negated|10|Group[717]|PRE-VALIDATION\n",
      "aucune motif à recommander |forward|trigger|negated|10|Group[717]|PRE-VALIDATION\n",
      "aucune motif à faire penser à |forward|trigger|negated|10|Group[717]|PRE-VALIDATION\n",
      "aucune motif à sous-entendre |forward|trigger|negated|10|Group[717]|PRE-VALIDATION\n",
      "aucune motif à supposer |forward|trigger|negated|10|Group[717]|PRE-VALIDATION\n",
      "aucune motif à envisager |forward|trigger|negated|10|Group[717]|PRE-VALIDATION\n",
      "aucune assurance à suggérer |forward|trigger|negated|10|Group[717]|PRE-VALIDATION\n",
      "aucune assurance à proposer |forward|trigger|negated|10|Group[717]|PRE-VALIDATION\n",
      "aucune assurance à inspirer |forward|trigger|negated|10|Group[717]|PRE-VALIDATION\n",
      "aucune assurance à insinuer |forward|trigger|negated|10|Group[717]|PRE-VALIDATION\n",
      "aucune assurance à évoquer |forward|trigger|negated|10|Group[717]|PRE-VALIDATION\n",
      "aucune assurance à dicter |forward|trigger|negated|10|Group[717]|PRE-VALIDATION\n",
      "aucune assurance à persuader |forward|trigger|negated|10|Group[717]|PRE-VALIDATION\n",
      "aucune assurance à susciter |forward|trigger|negated|10|Group[717]|PRE-VALIDATION\n",
      "aucune assurance à soumettre |forward|trigger|negated|10|Group[717]|PRE-VALIDATION\n",
      "aucune assurance à enseigner |forward|trigger|negated|10|Group[717]|PRE-VALIDATION\n",
      "aucune assurance à recommander |forward|trigger|negated|10|Group[717]|PRE-VALIDATION\n",
      "aucune assurance à faire penser à |forward|trigger|negated|10|Group[717]|PRE-VALIDATION\n",
      "aucune assurance à sous-entendre |forward|trigger|negated|10|Group[717]|PRE-VALIDATION\n",
      "aucune assurance à supposer |forward|trigger|negated|10|Group[717]|PRE-VALIDATION\n",
      "aucune assurance à envisager |forward|trigger|negated|10|Group[717]|PRE-VALIDATION\n",
      "aucune fondement à suggérer |forward|trigger|negated|10|Group[717]|PRE-VALIDATION\n",
      "aucune fondement à proposer |forward|trigger|negated|10|Group[717]|PRE-VALIDATION\n",
      "aucune fondement à inspirer |forward|trigger|negated|10|Group[717]|PRE-VALIDATION\n",
      "aucune fondement à insinuer |forward|trigger|negated|10|Group[717]|PRE-VALIDATION\n",
      "aucune fondement à évoquer |forward|trigger|negated|10|Group[717]|PRE-VALIDATION\n",
      "aucune fondement à dicter |forward|trigger|negated|10|Group[717]|PRE-VALIDATION\n",
      "aucune fondement à persuader |forward|trigger|negated|10|Group[717]|PRE-VALIDATION\n",
      "aucune fondement à susciter |forward|trigger|negated|10|Group[717]|PRE-VALIDATION\n",
      "aucune fondement à soumettre |forward|trigger|negated|10|Group[717]|PRE-VALIDATION\n",
      "aucune fondement à enseigner |forward|trigger|negated|10|Group[717]|PRE-VALIDATION\n",
      "aucune fondement à recommander |forward|trigger|negated|10|Group[717]|PRE-VALIDATION\n",
      "aucune fondement à faire penser à |forward|trigger|negated|10|Group[717]|PRE-VALIDATION\n",
      "aucune fondement à sous-entendre |forward|trigger|negated|10|Group[717]|PRE-VALIDATION\n",
      "aucune fondement à supposer |forward|trigger|negated|10|Group[717]|PRE-VALIDATION\n",
      "aucune fondement à envisager |forward|trigger|negated|10|Group[717]|PRE-VALIDATION\n",
      "aucune évidence à suggérer |forward|trigger|negated|10|Group[717]|PRE-VALIDATION\n",
      "aucune évidence à proposer |forward|trigger|negated|10|Group[717]|PRE-VALIDATION\n",
      "aucune évidence à inspirer |forward|trigger|negated|10|Group[717]|PRE-VALIDATION\n",
      "aucune évidence à insinuer |forward|trigger|negated|10|Group[717]|PRE-VALIDATION\n",
      "aucune évidence à évoquer |forward|trigger|negated|10|Group[717]|PRE-VALIDATION\n",
      "aucune évidence à dicter |forward|trigger|negated|10|Group[717]|PRE-VALIDATION\n",
      "aucune évidence à persuader |forward|trigger|negated|10|Group[717]|PRE-VALIDATION\n",
      "aucune évidence à susciter |forward|trigger|negated|10|Group[717]|PRE-VALIDATION\n",
      "aucune évidence à soumettre |forward|trigger|negated|10|Group[717]|PRE-VALIDATION\n",
      "aucune évidence à enseigner |forward|trigger|negated|10|Group[717]|PRE-VALIDATION\n",
      "aucune évidence à recommander |forward|trigger|negated|10|Group[717]|PRE-VALIDATION\n",
      "aucune évidence à faire penser à |forward|trigger|negated|10|Group[717]|PRE-VALIDATION\n",
      "aucune évidence à sous-entendre |forward|trigger|negated|10|Group[717]|PRE-VALIDATION\n",
      "aucune évidence à supposer |forward|trigger|negated|10|Group[717]|PRE-VALIDATION\n",
      "aucune évidence à envisager |forward|trigger|negated|10|Group[717]|PRE-VALIDATION\n"
     ]
    }
   ],
   "source": [
    "from nltk.parse.generate import generate, demo_grammar\n",
    "from nltk import CFG\n",
    "\n",
    "cfg_grammar= \"\"\"\n",
    "S ->  Determiner1 Noun2 Adposition3 Verb4 Trigger_Rule\n",
    "Determiner1 -> \"aucune\"\n",
    "Noun2 -> \"preuve\" | \"témoignage\" | \"justification\" | \"démonstration\" | \"gage\" | \"conviction\" | \"argument\" | \"constatation\" | \"confirmation\" | \"critère\" | \"signe\" | \"motif\" | \"assurance\" | \"fondement\" | \"évidence\"\n",
    "Adposition3 -> \"à\"\n",
    "Verb4 -> \"suggérer\" | \"proposer\" | \"inspirer\" | \"insinuer\" | \"évoquer\" | \"dicter\" | \"persuader\" | \"susciter\" | \"soumettre\" | \"enseigner\" | \"recommander\" | \"faire penser à\" | \"sous-entendre\" | \"supposer\" | \"envisager\"\n",
    "Trigger_Rule -> \"|forward|trigger|negated|10|Group[717]|PRE-VALIDATION\"\n",
    "\"\"\"\n",
    "\n",
    "for sentence in generate(CFG.fromstring(cfg_grammar), n=1000):\n",
    "    print(' '.join(sentence))"
   ]
  },
  {
   "cell_type": "code",
   "execution_count": 15,
   "metadata": {},
   "outputs": [
    {
     "name": "stdout",
     "output_type": "stream",
     "text": [
      "aucun \\w+ preuve à |forward|trigger|negated|10|Group[719]|PRE-VALIDATION\n",
      "aucun \\w+ témoignage à |forward|trigger|negated|10|Group[719]|PRE-VALIDATION\n",
      "aucun \\w+ justification à |forward|trigger|negated|10|Group[719]|PRE-VALIDATION\n",
      "aucun \\w+ démonstration à |forward|trigger|negated|10|Group[719]|PRE-VALIDATION\n",
      "aucun \\w+ gage à |forward|trigger|negated|10|Group[719]|PRE-VALIDATION\n",
      "aucun \\w+ conviction à |forward|trigger|negated|10|Group[719]|PRE-VALIDATION\n",
      "aucun \\w+ argument à |forward|trigger|negated|10|Group[719]|PRE-VALIDATION\n",
      "aucun \\w+ constatation à |forward|trigger|negated|10|Group[719]|PRE-VALIDATION\n",
      "aucun \\w+ confirmation à |forward|trigger|negated|10|Group[719]|PRE-VALIDATION\n",
      "aucun \\w+ critère à |forward|trigger|negated|10|Group[719]|PRE-VALIDATION\n",
      "aucun \\w+ signe à |forward|trigger|negated|10|Group[719]|PRE-VALIDATION\n",
      "aucun \\w+ motif à |forward|trigger|negated|10|Group[719]|PRE-VALIDATION\n",
      "aucun \\w+ assurance à |forward|trigger|negated|10|Group[719]|PRE-VALIDATION\n",
      "aucun \\w+ fondement à |forward|trigger|negated|10|Group[719]|PRE-VALIDATION\n",
      "aucun \\w+ évidence à |forward|trigger|negated|10|Group[719]|PRE-VALIDATION\n"
     ]
    }
   ],
   "source": [
    "from nltk.parse.generate import generate, demo_grammar\n",
    "from nltk import CFG\n",
    "\n",
    "cfg_grammar= \"\"\"\n",
    "S ->  Determiner1 Adjective2 Noun5 Adposition6 Trigger_Rule\n",
    "Determiner1 -> \"aucun\"\n",
    "Adjective2 -> \"\\\\w+\"\n",
    "Noun5 -> \"preuve\" | \"témoignage\" | \"justification\" | \"démonstration\" | \"gage\" | \"conviction\" | \"argument\" | \"constatation\" | \"confirmation\" | \"critère\" | \"signe\" | \"motif\" | \"assurance\" | \"fondement\" | \"évidence\"\n",
    "Adposition6 -> \"à\"\n",
    "Trigger_Rule -> \"|forward|trigger|negated|10|Group[719]|PRE-VALIDATION\"\n",
    "\"\"\"\n",
    "\n",
    "for sentence in generate(CFG.fromstring(cfg_grammar), n=1000):\n",
    "    print(' '.join(sentence))"
   ]
  },
  {
   "cell_type": "code",
   "execution_count": 16,
   "metadata": {},
   "outputs": [
    {
     "name": "stdout",
     "output_type": "stream",
     "text": [
      "aucune preuve |forward|trigger|negated|10|Group[721]|PRE-VALIDATION\n",
      "aucune témoignage |forward|trigger|negated|10|Group[721]|PRE-VALIDATION\n",
      "aucune justification |forward|trigger|negated|10|Group[721]|PRE-VALIDATION\n",
      "aucune démonstration |forward|trigger|negated|10|Group[721]|PRE-VALIDATION\n",
      "aucune gage |forward|trigger|negated|10|Group[721]|PRE-VALIDATION\n",
      "aucune conviction |forward|trigger|negated|10|Group[721]|PRE-VALIDATION\n",
      "aucune argument |forward|trigger|negated|10|Group[721]|PRE-VALIDATION\n",
      "aucune constatation |forward|trigger|negated|10|Group[721]|PRE-VALIDATION\n",
      "aucune confirmation |forward|trigger|negated|10|Group[721]|PRE-VALIDATION\n",
      "aucune critère |forward|trigger|negated|10|Group[721]|PRE-VALIDATION\n",
      "aucune signe |forward|trigger|negated|10|Group[721]|PRE-VALIDATION\n",
      "aucune motif |forward|trigger|negated|10|Group[721]|PRE-VALIDATION\n",
      "aucune assurance |forward|trigger|negated|10|Group[721]|PRE-VALIDATION\n",
      "aucune fondement |forward|trigger|negated|10|Group[721]|PRE-VALIDATION\n",
      "aucune évidence |forward|trigger|negated|10|Group[721]|PRE-VALIDATION\n"
     ]
    }
   ],
   "source": [
    "from nltk.parse.generate import generate, demo_grammar\n",
    "from nltk import CFG\n",
    "\n",
    "cfg_grammar= \"\"\"\n",
    "S ->  Determiner1 Noun2 Trigger_Rule\n",
    "Determiner1 -> \"aucune\"\n",
    "Noun2 -> \"preuve\" | \"témoignage\" | \"justification\" | \"démonstration\" | \"gage\" | \"conviction\" | \"argument\" | \"constatation\" | \"confirmation\" | \"critère\" | \"signe\" | \"motif\" | \"assurance\" | \"fondement\" | \"évidence\"\n",
    "Trigger_Rule -> \"|forward|trigger|negated|10|Group[721]|PRE-VALIDATION\"\n",
    "\"\"\"\n",
    "\n",
    "for sentence in generate(CFG.fromstring(cfg_grammar), n=1000):\n",
    "    print(' '.join(sentence))"
   ]
  },
  {
   "cell_type": "code",
   "execution_count": 17,
   "metadata": {},
   "outputs": [
    {
     "name": "stdout",
     "output_type": "stream",
     "text": [
      "non \\w+ evid |forward|trigger|negated|10|Group[723]|PRE-VALIDATION\n"
     ]
    }
   ],
   "source": [
    "from nltk.parse.generate import generate, demo_grammar\n",
    "from nltk import CFG\n",
    "\n",
    "cfg_grammar= \"\"\"\n",
    "S ->  Adverb1 Adjective2 Noun5 Trigger_Rule\n",
    "Adverb1 -> \"non\"\n",
    "Adjective2 -> \"\\\\w+\"\n",
    "Noun5 -> \"evid\"\n",
    "Trigger_Rule -> \"|forward|trigger|negated|10|Group[723]|PRE-VALIDATION\"\n",
    "\"\"\"\n",
    "\n",
    "for sentence in generate(CFG.fromstring(cfg_grammar), n=1000):\n",
    "    print(' '.join(sentence))"
   ]
  },
  {
   "cell_type": "code",
   "execution_count": 18,
   "metadata": {},
   "outputs": [
    {
     "name": "stdout",
     "output_type": "stream",
     "text": [
      "no \\w+ a été donné |forward|termination|negated|10|Group[725]|PRE-VALIDATION\n",
      "no \\w+ a été prescrit |forward|termination|negated|10|Group[725]|PRE-VALIDATION\n",
      "no \\w+ a été administré |forward|termination|negated|10|Group[725]|PRE-VALIDATION\n",
      "no \\w+ a été prodigué |forward|termination|negated|10|Group[725]|PRE-VALIDATION\n",
      "no \\w+ a été appliqué |forward|termination|negated|10|Group[725]|PRE-VALIDATION\n",
      "no \\w+ a été fait |forward|termination|negated|10|Group[725]|PRE-VALIDATION\n",
      "no \\w+ a été indiqué |forward|termination|negated|10|Group[725]|PRE-VALIDATION\n",
      "no \\w+ a été proposé |forward|termination|negated|10|Group[725]|PRE-VALIDATION\n",
      "no \\w+ a été distribué |forward|termination|negated|10|Group[725]|PRE-VALIDATION\n",
      "no \\w+ a été redonné |forward|termination|negated|10|Group[725]|PRE-VALIDATION\n",
      "no \\w+ a été assené |forward|termination|negated|10|Group[725]|PRE-VALIDATION\n",
      "no \\w+ a été employé |forward|termination|negated|10|Group[725]|PRE-VALIDATION\n",
      "no \\w+ a été inoculé |forward|termination|negated|10|Group[725]|PRE-VALIDATION\n"
     ]
    }
   ],
   "source": [
    "from nltk.parse.generate import generate, demo_grammar\n",
    "from nltk import CFG\n",
    "\n",
    "cfg_grammar= \"\"\"\n",
    "S ->  Noun1 Adjective2 Auxiliary5 Auxiliary6 Verb7 Trigger_Rule\n",
    "Noun1 -> \"no\"\n",
    "Adjective2 -> \"\\\\w+\"\n",
    "Auxiliary5 -> \"a\"\n",
    "Auxiliary6 -> \"été\"\n",
    "Verb7 -> \"donné\" | \"prescrit\" | \"administré\" | \"prodigué\" | \"appliqué\" | \"fait\" | \"indiqué\" | \"proposé\" | \"distribué\" | \"redonné\" | \"assené\" | \"employé\" | \"inoculé\"\n",
    "Trigger_Rule -> \"|forward|termination|negated|10|Group[725]|PRE-VALIDATION\"\n",
    "\"\"\"\n",
    "\n",
    "for sentence in generate(CFG.fromstring(cfg_grammar), n=1000):\n",
    "    print(' '.join(sentence))"
   ]
  },
  {
   "cell_type": "code",
   "execution_count": 19,
   "metadata": {},
   "outputs": [
    {
     "name": "stdout",
     "output_type": "stream",
     "text": [
      "pas anormal |forward|trigger|negated|10|Group[726]|PRE-VALIDATION\n"
     ]
    }
   ],
   "source": [
    "from nltk.parse.generate import generate, demo_grammar\n",
    "from nltk import CFG\n",
    "\n",
    "cfg_grammar= \"\"\"\n",
    "S ->  Adverb1 Adjective2 Trigger_Rule\n",
    "Adverb1 -> \"pas\"\n",
    "Adjective2 -> \"anormal\"\n",
    "Trigger_Rule -> \"|forward|trigger|negated|10|Group[726]|PRE-VALIDATION\"\n",
    "\"\"\"\n",
    "\n",
    "for sentence in generate(CFG.fromstring(cfg_grammar), n=1000):\n",
    "    print(' '.join(sentence))"
   ]
  },
  {
   "cell_type": "code",
   "execution_count": 20,
   "metadata": {},
   "outputs": [
    {
     "name": "stdout",
     "output_type": "stream",
     "text": [
      "pas d'aigu |forward|trigger|negated|10|Group[728]|PRE-VALIDATION\n",
      "pas d'incisif |forward|trigger|negated|10|Group[728]|PRE-VALIDATION\n",
      "pas piquant |forward|trigger|negated|10|Group[728]|PRE-VALIDATION\n",
      "pas vif |forward|trigger|negated|10|Group[728]|PRE-VALIDATION\n",
      "pas mordant |forward|trigger|negated|10|Group[728]|PRE-VALIDATION\n",
      "pas coupant |forward|trigger|negated|10|Group[728]|PRE-VALIDATION\n",
      "pas d'acéré |forward|trigger|negated|10|Group[728]|PRE-VALIDATION\n",
      "pas d'affilé |forward|trigger|negated|10|Group[728]|PRE-VALIDATION\n",
      "pas tranchant |forward|trigger|negated|10|Group[728]|PRE-VALIDATION\n",
      "pas d'affûté |forward|trigger|negated|10|Group[728]|PRE-VALIDATION\n",
      "pas déchirant |forward|trigger|negated|10|Group[728]|PRE-VALIDATION\n",
      "pas fin |forward|trigger|negated|10|Group[728]|PRE-VALIDATION\n",
      "pas saillant |forward|trigger|negated|10|Group[728]|PRE-VALIDATION\n",
      "pas d'aiguisé |forward|trigger|negated|10|Group[728]|PRE-VALIDATION\n"
     ]
    }
   ],
   "source": [
    "from nltk.parse.generate import generate, demo_grammar\n",
    "from nltk import CFG\n",
    "\n",
    "cfg_grammar= \"\"\"\n",
    "S ->  Adverb1 Noun3 Trigger_Rule\n",
    "Adverb1 -> \"pas\"\n",
    "Noun3 -> \"d'aigu\" | \"d'incisif\" | \"piquant\" | \"vif\" | \"mordant\" | \"coupant\" | \"d'acéré\" | \"d'affilé\" | \"tranchant\" | \"d'affûté\" | \"déchirant\" | \"fin\" | \"saillant\" | \"d'aiguisé\"\n",
    "Trigger_Rule -> \"|forward|trigger|negated|10|Group[728]|PRE-VALIDATION\"\n",
    "\"\"\"\n",
    "\n",
    "for sentence in generate(CFG.fromstring(cfg_grammar), n=1000):\n",
    "    print(' '.join(sentence))"
   ]
  },
  {
   "cell_type": "code",
   "execution_count": 21,
   "metadata": {},
   "outputs": [
    {
     "name": "stdout",
     "output_type": "stream",
     "text": [
      "aucun autre significatif |forward|trigger|negated|10|Group[730]|PRE-VALIDATION\n",
      "aucun autre révélateur |forward|trigger|negated|10|Group[730]|PRE-VALIDATION\n",
      "aucun autre expressif |forward|trigger|negated|10|Group[730]|PRE-VALIDATION\n",
      "aucun autre formel |forward|trigger|negated|10|Group[730]|PRE-VALIDATION\n",
      "aucun autre éloquent |forward|trigger|negated|10|Group[730]|PRE-VALIDATION\n",
      "aucun autre évocateur |forward|trigger|negated|10|Group[730]|PRE-VALIDATION\n",
      "aucun autre caractéristique |forward|trigger|negated|10|Group[730]|PRE-VALIDATION\n",
      "aucun autre net |forward|trigger|negated|10|Group[730]|PRE-VALIDATION\n",
      "aucun autre marquant |forward|trigger|negated|10|Group[730]|PRE-VALIDATION\n",
      "aucun autre typique |forward|trigger|negated|10|Group[730]|PRE-VALIDATION\n",
      "aucun autre parlant |forward|trigger|negated|10|Group[730]|PRE-VALIDATION\n",
      "aucun autre notoire |forward|trigger|negated|10|Group[730]|PRE-VALIDATION\n",
      "aucun autre signifiant |forward|trigger|negated|10|Group[730]|PRE-VALIDATION\n",
      "aucun autre manifeste |forward|trigger|negated|10|Group[730]|PRE-VALIDATION\n",
      "aucun autre incontestable |forward|trigger|negated|10|Group[730]|PRE-VALIDATION\n"
     ]
    }
   ],
   "source": [
    "from nltk.parse.generate import generate, demo_grammar\n",
    "from nltk import CFG\n",
    "\n",
    "cfg_grammar= \"\"\"\n",
    "S ->  Determiner1 Adjective2 Noun3 Trigger_Rule\n",
    "Determiner1 -> \"aucun\"\n",
    "Adjective2 -> \"autre\"\n",
    "Noun3 -> \"significatif\" | \"révélateur\" | \"expressif\" | \"formel\" | \"éloquent\" | \"évocateur\" | \"caractéristique\" | \"net\" | \"marquant\" | \"typique\" | \"parlant\" | \"notoire\" | \"signifiant\" | \"manifeste\" | \"incontestable\"\n",
    "Trigger_Rule -> \"|forward|trigger|negated|10|Group[730]|PRE-VALIDATION\"\n",
    "\"\"\"\n",
    "\n",
    "for sentence in generate(CFG.fromstring(cfg_grammar), n=1000):\n",
    "    print(' '.join(sentence))"
   ]
  },
  {
   "cell_type": "code",
   "execution_count": 22,
   "metadata": {},
   "outputs": [
    {
     "name": "stdout",
     "output_type": "stream",
     "text": [
      "pas apparent |forward|trigger|negated|10|Group[732]|PRE-VALIDATION\n"
     ]
    }
   ],
   "source": [
    "from nltk.parse.generate import generate, demo_grammar\n",
    "from nltk import CFG\n",
    "\n",
    "cfg_grammar= \"\"\"\n",
    "S ->  Adverb1 Adjective2 Trigger_Rule\n",
    "Adverb1 -> \"pas\"\n",
    "Adjective2 -> \"apparent\"\n",
    "Trigger_Rule -> \"|forward|trigger|negated|10|Group[732]|PRE-VALIDATION\"\n",
    "\"\"\"\n",
    "\n",
    "for sentence in generate(CFG.fromstring(cfg_grammar), n=1000):\n",
    "    print(' '.join(sentence))"
   ]
  },
  {
   "cell_type": "code",
   "execution_count": 23,
   "metadata": {},
   "outputs": [
    {
     "name": "stdout",
     "output_type": "stream",
     "text": [
      "aucune cause de |forward|trigger|negated|10|Group[734]|PRE-VALIDATION\n",
      "aucune raison de |forward|trigger|negated|10|Group[734]|PRE-VALIDATION\n",
      "aucune prétexte de |forward|trigger|negated|10|Group[734]|PRE-VALIDATION\n",
      "aucune fondement de |forward|trigger|negated|10|Group[734]|PRE-VALIDATION\n",
      "aucune source de |forward|trigger|negated|10|Group[734]|PRE-VALIDATION\n",
      "aucune intention de |forward|trigger|negated|10|Group[734]|PRE-VALIDATION\n",
      "aucune origine de |forward|trigger|negated|10|Group[734]|PRE-VALIDATION\n",
      "aucune but de |forward|trigger|negated|10|Group[734]|PRE-VALIDATION\n",
      "aucune déclencheur de |forward|trigger|negated|10|Group[734]|PRE-VALIDATION\n",
      "aucune départ de |forward|trigger|negated|10|Group[734]|PRE-VALIDATION\n"
     ]
    }
   ],
   "source": [
    "from nltk.parse.generate import generate, demo_grammar\n",
    "from nltk import CFG\n",
    "\n",
    "cfg_grammar= \"\"\"\n",
    "S ->  Determiner1 Noun2 Adposition3 Trigger_Rule\n",
    "Determiner1 -> \"aucune\"\n",
    "Noun2 -> \"cause\" | \"raison\" | \"prétexte\" | \"fondement\" | \"source\" | \"intention\" | \"origine\" | \"but\" | \"déclencheur\" | \"départ\"\n",
    "Adposition3 -> \"de\"\n",
    "Trigger_Rule -> \"|forward|trigger|negated|10|Group[734]|PRE-VALIDATION\"\n",
    "\"\"\"\n",
    "\n",
    "for sentence in generate(CFG.fromstring(cfg_grammar), n=1000):\n",
    "    print(' '.join(sentence))"
   ]
  },
  {
   "cell_type": "code",
   "execution_count": 24,
   "metadata": {},
   "outputs": [
    {
     "name": "stdout",
     "output_type": "stream",
     "text": [
      "pas de changement |both|pseudo|negated|10|Group[736]|PRE-VALIDATION\n",
      "pas de variation |both|pseudo|negated|10|Group[736]|PRE-VALIDATION\n",
      "pas de altération |both|pseudo|negated|10|Group[736]|PRE-VALIDATION\n",
      "pas de évolution |both|pseudo|negated|10|Group[736]|PRE-VALIDATION\n",
      "pas de transformation |both|pseudo|negated|10|Group[736]|PRE-VALIDATION\n",
      "pas de fluctuation |both|pseudo|negated|10|Group[736]|PRE-VALIDATION\n",
      "pas de mutation |both|pseudo|negated|10|Group[736]|PRE-VALIDATION\n",
      "pas de retournement |both|pseudo|negated|10|Group[736]|PRE-VALIDATION\n",
      "pas de renversement |both|pseudo|negated|10|Group[736]|PRE-VALIDATION\n",
      "pas de amélioration |both|pseudo|negated|10|Group[736]|PRE-VALIDATION\n",
      "pas de revirement |both|pseudo|negated|10|Group[736]|PRE-VALIDATION\n",
      "pas de transition |both|pseudo|negated|10|Group[736]|PRE-VALIDATION\n",
      "pas de modulation |both|pseudo|negated|10|Group[736]|PRE-VALIDATION\n",
      "pas de inflexion |both|pseudo|negated|10|Group[736]|PRE-VALIDATION\n",
      "pas de différence |both|pseudo|negated|10|Group[736]|PRE-VALIDATION\n"
     ]
    }
   ],
   "source": [
    "from nltk.parse.generate import generate, demo_grammar\n",
    "from nltk import CFG\n",
    "\n",
    "cfg_grammar= \"\"\"\n",
    "S ->  Adverb1 Determiner2 Noun3 Trigger_Rule\n",
    "Adverb1 -> \"pas\"\n",
    "Determiner2 -> \"de\"\n",
    "Noun3 -> \"changement\" | \"variation\" | \"altération\" | \"évolution\" | \"transformation\" | \"fluctuation\" | \"mutation\" | \"retournement\" | \"renversement\" | \"amélioration\" | \"revirement\" | \"transition\" | \"modulation\" | \"inflexion\" | \"différence\"\n",
    "Trigger_Rule -> \"|both|pseudo|negated|10|Group[736]|PRE-VALIDATION\"\n",
    "\"\"\"\n",
    "\n",
    "for sentence in generate(CFG.fromstring(cfg_grammar), n=1000):\n",
    "    print(' '.join(sentence))"
   ]
  },
  {
   "cell_type": "code",
   "execution_count": 25,
   "metadata": {},
   "outputs": [
    {
     "name": "stdout",
     "output_type": "stream",
     "text": [
      "aucune plainte de |forward|trigger|negated|10|Group[737]|PRE-VALIDATION\n",
      "aucune gémissement de |forward|trigger|negated|10|Group[737]|PRE-VALIDATION\n",
      "aucune lamentation de |forward|trigger|negated|10|Group[737]|PRE-VALIDATION\n",
      "aucune protestation de |forward|trigger|negated|10|Group[737]|PRE-VALIDATION\n",
      "aucune reproche de |forward|trigger|negated|10|Group[737]|PRE-VALIDATION\n",
      "aucune plainte de |forward|trigger|negated|10|Group[737]|PRE-VALIDATION\n"
     ]
    }
   ],
   "source": [
    "from nltk.parse.generate import generate, demo_grammar\n",
    "from nltk import CFG\n",
    "\n",
    "cfg_grammar= \"\"\"\n",
    "S ->  Determiner1 Noun2 Adposition3 Trigger_Rule\n",
    "Determiner1 -> \"aucune\"\n",
    "Noun2 -> \"plainte\" | \"gémissement\" | \"lamentation\" | \"protestation\" | \"reproche\" | \"plainte\"\n",
    "Adposition3 -> \"de\"\n",
    "Trigger_Rule -> \"|forward|trigger|negated|10|Group[737]|PRE-VALIDATION\"\n",
    "\"\"\"\n",
    "\n",
    "for sentence in generate(CFG.fromstring(cfg_grammar), n=1000):\n",
    "    print(' '.join(sentence))"
   ]
  },
  {
   "cell_type": "code",
   "execution_count": 26,
   "metadata": {},
   "outputs": [
    {
     "name": "stdout",
     "output_type": "stream",
     "text": [
      "aucun courant |forward|trigger|negated|10|Group[739]|PRE-VALIDATION\n",
      "aucun habituel |forward|trigger|negated|10|Group[739]|PRE-VALIDATION\n",
      "aucun fréquent |forward|trigger|negated|10|Group[739]|PRE-VALIDATION\n",
      "aucun connu |forward|trigger|negated|10|Group[739]|PRE-VALIDATION\n",
      "aucun répandu |forward|trigger|negated|10|Group[739]|PRE-VALIDATION\n",
      "aucun normal |forward|trigger|negated|10|Group[739]|PRE-VALIDATION\n",
      "aucun classique |forward|trigger|negated|10|Group[739]|PRE-VALIDATION\n",
      "aucun présent |forward|trigger|negated|10|Group[739]|PRE-VALIDATION\n",
      "aucun commune |forward|trigger|negated|10|Group[739]|PRE-VALIDATION\n",
      "aucun régulier |forward|trigger|negated|10|Group[739]|PRE-VALIDATION\n",
      "aucun en cours |forward|trigger|negated|10|Group[739]|PRE-VALIDATION\n"
     ]
    }
   ],
   "source": [
    "from nltk.parse.generate import generate, demo_grammar\n",
    "from nltk import CFG\n",
    "\n",
    "cfg_grammar= \"\"\"\n",
    "S ->  Determiner1 Noun2 Trigger_Rule\n",
    "Determiner1 -> \"aucun\"\n",
    "Noun2 -> \"courant\" | \"habituel\" | \"fréquent\" | \"connu\" | \"répandu\" | \"normal\" | \"classique\" | \"présent\" | \"commune\" | \"régulier\" | \"en cours\"\n",
    "Trigger_Rule -> \"|forward|trigger|negated|10|Group[739]|PRE-VALIDATION\"\n",
    "\"\"\"\n",
    "\n",
    "for sentence in generate(CFG.fromstring(cfg_grammar), n=1000):\n",
    "    print(' '.join(sentence))"
   ]
  },
  {
   "cell_type": "code",
   "execution_count": 27,
   "metadata": {},
   "outputs": [
    {
     "name": "stdout",
     "output_type": "stream",
     "text": [
      "pas de changement définitif |both|pseudo|negated|10|Group[741]|PRE-VALIDATION\n",
      "pas de variation définitif |both|pseudo|negated|10|Group[741]|PRE-VALIDATION\n",
      "pas de altération définitif |both|pseudo|negated|10|Group[741]|PRE-VALIDATION\n",
      "pas de évolution définitif |both|pseudo|negated|10|Group[741]|PRE-VALIDATION\n",
      "pas de transformation définitif |both|pseudo|negated|10|Group[741]|PRE-VALIDATION\n",
      "pas de fluctuation définitif |both|pseudo|negated|10|Group[741]|PRE-VALIDATION\n",
      "pas de mutation définitif |both|pseudo|negated|10|Group[741]|PRE-VALIDATION\n",
      "pas de retournement définitif |both|pseudo|negated|10|Group[741]|PRE-VALIDATION\n",
      "pas de renversement définitif |both|pseudo|negated|10|Group[741]|PRE-VALIDATION\n",
      "pas de amélioration définitif |both|pseudo|negated|10|Group[741]|PRE-VALIDATION\n",
      "pas de revirement définitif |both|pseudo|negated|10|Group[741]|PRE-VALIDATION\n",
      "pas de transition définitif |both|pseudo|negated|10|Group[741]|PRE-VALIDATION\n",
      "pas de modulation définitif |both|pseudo|negated|10|Group[741]|PRE-VALIDATION\n",
      "pas de inflexion définitif |both|pseudo|negated|10|Group[741]|PRE-VALIDATION\n",
      "pas de différence définitif |both|pseudo|negated|10|Group[741]|PRE-VALIDATION\n"
     ]
    }
   ],
   "source": [
    "from nltk.parse.generate import generate, demo_grammar\n",
    "from nltk import CFG\n",
    "\n",
    "cfg_grammar= \"\"\"\n",
    "S ->  Adverb1 Determiner2 Noun3 Adjective4 Trigger_Rule\n",
    "Adverb1 -> \"pas\"\n",
    "Determiner2 -> \"de\"\n",
    "Noun3 -> \"changement\" | \"variation\" | \"altération\" | \"évolution\" | \"transformation\" | \"fluctuation\" | \"mutation\" | \"retournement\" | \"renversement\" | \"amélioration\" | \"revirement\" | \"transition\" | \"modulation\" | \"inflexion\" | \"différence\"\n",
    "Adjective4 -> \"définitif\"\n",
    "Trigger_Rule -> \"|both|pseudo|negated|10|Group[741]|PRE-VALIDATION\"\n",
    "\"\"\"\n",
    "\n",
    "for sentence in generate(CFG.fromstring(cfg_grammar), n=1000):\n",
    "    print(' '.join(sentence))"
   ]
  },
  {
   "cell_type": "code",
   "execution_count": 28,
   "metadata": {},
   "outputs": [
    {
     "name": "stdout",
     "output_type": "stream",
     "text": [
      "non e/o |forward|trigger|negated|10|Group[742]|PRE-VALIDATION\n"
     ]
    }
   ],
   "source": [
    "from nltk.parse.generate import generate, demo_grammar\n",
    "from nltk import CFG\n",
    "\n",
    "cfg_grammar= \"\"\"\n",
    "S ->  Adverb1 Noun2 Trigger_Rule\n",
    "Adverb1 -> \"non\"\n",
    "Noun2 -> \"e/o\"\n",
    "Trigger_Rule -> \"|forward|trigger|negated|10|Group[742]|PRE-VALIDATION\"\n",
    "\"\"\"\n",
    "\n",
    "for sentence in generate(CFG.fromstring(cfg_grammar), n=1000):\n",
    "    print(' '.join(sentence))"
   ]
  },
  {
   "cell_type": "code",
   "execution_count": 29,
   "metadata": {},
   "outputs": [
    {
     "name": "stdout",
     "output_type": "stream",
     "text": [
      "non e o |forward|trigger|negated|10|Group[744]|PRE-VALIDATION\n"
     ]
    }
   ],
   "source": [
    "from nltk.parse.generate import generate, demo_grammar\n",
    "from nltk import CFG\n",
    "\n",
    "cfg_grammar= \"\"\"\n",
    "S ->  Adverb1 Adposition2 Noun3 Trigger_Rule\n",
    "Adverb1 -> \"non\"\n",
    "Adposition2 -> \"e\"\n",
    "Noun3 -> \"o\"\n",
    "Trigger_Rule -> \"|forward|trigger|negated|10|Group[744]|PRE-VALIDATION\"\n",
    "\"\"\"\n",
    "\n",
    "for sentence in generate(CFG.fromstring(cfg_grammar), n=1000):\n",
    "    print(' '.join(sentence))"
   ]
  },
  {
   "cell_type": "code",
   "execution_count": 30,
   "metadata": {},
   "outputs": [
    {
     "name": "stdout",
     "output_type": "stream",
     "text": [
      "aucune preuve de |forward|trigger|negated|10|Group[746]|PRE-VALIDATION\n",
      "aucune témoignage de |forward|trigger|negated|10|Group[746]|PRE-VALIDATION\n",
      "aucune justification de |forward|trigger|negated|10|Group[746]|PRE-VALIDATION\n",
      "aucune démonstration de |forward|trigger|negated|10|Group[746]|PRE-VALIDATION\n",
      "aucune gage de |forward|trigger|negated|10|Group[746]|PRE-VALIDATION\n",
      "aucune conviction de |forward|trigger|negated|10|Group[746]|PRE-VALIDATION\n",
      "aucune argument de |forward|trigger|negated|10|Group[746]|PRE-VALIDATION\n",
      "aucune constatation de |forward|trigger|negated|10|Group[746]|PRE-VALIDATION\n",
      "aucune confirmation de |forward|trigger|negated|10|Group[746]|PRE-VALIDATION\n",
      "aucune critère de |forward|trigger|negated|10|Group[746]|PRE-VALIDATION\n",
      "aucune signe de |forward|trigger|negated|10|Group[746]|PRE-VALIDATION\n",
      "aucune motif de |forward|trigger|negated|10|Group[746]|PRE-VALIDATION\n",
      "aucune assurance de |forward|trigger|negated|10|Group[746]|PRE-VALIDATION\n",
      "aucune fondement de |forward|trigger|negated|10|Group[746]|PRE-VALIDATION\n",
      "aucune évidence de |forward|trigger|negated|10|Group[746]|PRE-VALIDATION\n"
     ]
    }
   ],
   "source": [
    "from nltk.parse.generate import generate, demo_grammar\n",
    "from nltk import CFG\n",
    "\n",
    "cfg_grammar= \"\"\"\n",
    "S ->  Determiner1 Noun2 Adposition3 Trigger_Rule\n",
    "Determiner1 -> \"aucune\"\n",
    "Noun2 -> \"preuve\" | \"témoignage\" | \"justification\" | \"démonstration\" | \"gage\" | \"conviction\" | \"argument\" | \"constatation\" | \"confirmation\" | \"critère\" | \"signe\" | \"motif\" | \"assurance\" | \"fondement\" | \"évidence\"\n",
    "Adposition3 -> \"de\"\n",
    "Trigger_Rule -> \"|forward|trigger|negated|10|Group[746]|PRE-VALIDATION\"\n",
    "\"\"\"\n",
    "\n",
    "for sentence in generate(CFG.fromstring(cfg_grammar), n=1000):\n",
    "    print(' '.join(sentence))"
   ]
  },
  {
   "cell_type": "code",
   "execution_count": 31,
   "metadata": {},
   "outputs": [
    {
     "name": "stdout",
     "output_type": "stream",
     "text": [
      "aucune découverte de |forward|trigger|negated|10|Group[752]|PRE-VALIDATION\n",
      "aucune trouvaille de |forward|trigger|negated|10|Group[752]|PRE-VALIDATION\n",
      "aucune décèlement de |forward|trigger|negated|10|Group[752]|PRE-VALIDATION\n",
      "aucune révélation de |forward|trigger|negated|10|Group[752]|PRE-VALIDATION\n",
      "aucune constatée de |forward|trigger|negated|10|Group[752]|PRE-VALIDATION\n",
      "aucune révélé de |forward|trigger|negated|10|Group[752]|PRE-VALIDATION\n",
      "aucune trouvé de |forward|trigger|negated|10|Group[752]|PRE-VALIDATION\n"
     ]
    }
   ],
   "source": [
    "from nltk.parse.generate import generate, demo_grammar\n",
    "from nltk import CFG\n",
    "\n",
    "cfg_grammar= \"\"\"\n",
    "S ->  Determiner1 Noun2 Adposition3 Trigger_Rule\n",
    "Determiner1 -> \"aucune\"\n",
    "Noun2 -> \"découverte\" | \"trouvaille\" | \"décèlement\" | \"révélation\" | \"constatée\" | \"révélé\" | \"trouvé\"\n",
    "Adposition3 -> \"de\"\n",
    "Trigger_Rule -> \"|forward|trigger|negated|10|Group[752]|PRE-VALIDATION\"\n",
    "\"\"\"\n",
    "\n",
    "for sentence in generate(CFG.fromstring(cfg_grammar), n=1000):\n",
    "    print(' '.join(sentence))"
   ]
  },
  {
   "cell_type": "code",
   "execution_count": 32,
   "metadata": {},
   "outputs": [
    {
     "name": "stdout",
     "output_type": "stream",
     "text": [
      "aucun résultat à indiquer |forward|trigger|negated|10|Group[754]|PRE-VALIDATION\n",
      "aucun résultat à prouver |forward|trigger|negated|10|Group[754]|PRE-VALIDATION\n",
      "aucun résultat à montrer |forward|trigger|negated|10|Group[754]|PRE-VALIDATION\n",
      "aucun résultat à démontrer |forward|trigger|negated|10|Group[754]|PRE-VALIDATION\n",
      "aucun résultat à signaler |forward|trigger|negated|10|Group[754]|PRE-VALIDATION\n",
      "aucun résultat à annoncer |forward|trigger|negated|10|Group[754]|PRE-VALIDATION\n",
      "aucun résultat à manifester |forward|trigger|negated|10|Group[754]|PRE-VALIDATION\n",
      "aucun résultat à révéler |forward|trigger|negated|10|Group[754]|PRE-VALIDATION\n",
      "aucun résultat à témoigner |forward|trigger|negated|10|Group[754]|PRE-VALIDATION\n",
      "aucun résultat à attester |forward|trigger|negated|10|Group[754]|PRE-VALIDATION\n",
      "aucun résultat à désigner |forward|trigger|negated|10|Group[754]|PRE-VALIDATION\n",
      "aucun résultat à afficher |forward|trigger|negated|10|Group[754]|PRE-VALIDATION\n",
      "aucun résultat à déterminer |forward|trigger|negated|10|Group[754]|PRE-VALIDATION\n",
      "aucun résultat à déceler |forward|trigger|negated|10|Group[754]|PRE-VALIDATION\n",
      "aucun résultat à donner |forward|trigger|negated|10|Group[754]|PRE-VALIDATION\n",
      "aucun réponse à indiquer |forward|trigger|negated|10|Group[754]|PRE-VALIDATION\n",
      "aucun réponse à prouver |forward|trigger|negated|10|Group[754]|PRE-VALIDATION\n",
      "aucun réponse à montrer |forward|trigger|negated|10|Group[754]|PRE-VALIDATION\n",
      "aucun réponse à démontrer |forward|trigger|negated|10|Group[754]|PRE-VALIDATION\n",
      "aucun réponse à signaler |forward|trigger|negated|10|Group[754]|PRE-VALIDATION\n",
      "aucun réponse à annoncer |forward|trigger|negated|10|Group[754]|PRE-VALIDATION\n",
      "aucun réponse à manifester |forward|trigger|negated|10|Group[754]|PRE-VALIDATION\n",
      "aucun réponse à révéler |forward|trigger|negated|10|Group[754]|PRE-VALIDATION\n",
      "aucun réponse à témoigner |forward|trigger|negated|10|Group[754]|PRE-VALIDATION\n",
      "aucun réponse à attester |forward|trigger|negated|10|Group[754]|PRE-VALIDATION\n",
      "aucun réponse à désigner |forward|trigger|negated|10|Group[754]|PRE-VALIDATION\n",
      "aucun réponse à afficher |forward|trigger|negated|10|Group[754]|PRE-VALIDATION\n",
      "aucun réponse à déterminer |forward|trigger|negated|10|Group[754]|PRE-VALIDATION\n",
      "aucun réponse à déceler |forward|trigger|negated|10|Group[754]|PRE-VALIDATION\n",
      "aucun réponse à donner |forward|trigger|negated|10|Group[754]|PRE-VALIDATION\n",
      "aucun réussite à indiquer |forward|trigger|negated|10|Group[754]|PRE-VALIDATION\n",
      "aucun réussite à prouver |forward|trigger|negated|10|Group[754]|PRE-VALIDATION\n",
      "aucun réussite à montrer |forward|trigger|negated|10|Group[754]|PRE-VALIDATION\n",
      "aucun réussite à démontrer |forward|trigger|negated|10|Group[754]|PRE-VALIDATION\n",
      "aucun réussite à signaler |forward|trigger|negated|10|Group[754]|PRE-VALIDATION\n",
      "aucun réussite à annoncer |forward|trigger|negated|10|Group[754]|PRE-VALIDATION\n",
      "aucun réussite à manifester |forward|trigger|negated|10|Group[754]|PRE-VALIDATION\n",
      "aucun réussite à révéler |forward|trigger|negated|10|Group[754]|PRE-VALIDATION\n",
      "aucun réussite à témoigner |forward|trigger|negated|10|Group[754]|PRE-VALIDATION\n",
      "aucun réussite à attester |forward|trigger|negated|10|Group[754]|PRE-VALIDATION\n",
      "aucun réussite à désigner |forward|trigger|negated|10|Group[754]|PRE-VALIDATION\n",
      "aucun réussite à afficher |forward|trigger|negated|10|Group[754]|PRE-VALIDATION\n",
      "aucun réussite à déterminer |forward|trigger|negated|10|Group[754]|PRE-VALIDATION\n",
      "aucun réussite à déceler |forward|trigger|negated|10|Group[754]|PRE-VALIDATION\n",
      "aucun réussite à donner |forward|trigger|negated|10|Group[754]|PRE-VALIDATION\n",
      "aucun succès à indiquer |forward|trigger|negated|10|Group[754]|PRE-VALIDATION\n",
      "aucun succès à prouver |forward|trigger|negated|10|Group[754]|PRE-VALIDATION\n",
      "aucun succès à montrer |forward|trigger|negated|10|Group[754]|PRE-VALIDATION\n",
      "aucun succès à démontrer |forward|trigger|negated|10|Group[754]|PRE-VALIDATION\n",
      "aucun succès à signaler |forward|trigger|negated|10|Group[754]|PRE-VALIDATION\n",
      "aucun succès à annoncer |forward|trigger|negated|10|Group[754]|PRE-VALIDATION\n",
      "aucun succès à manifester |forward|trigger|negated|10|Group[754]|PRE-VALIDATION\n",
      "aucun succès à révéler |forward|trigger|negated|10|Group[754]|PRE-VALIDATION\n",
      "aucun succès à témoigner |forward|trigger|negated|10|Group[754]|PRE-VALIDATION\n",
      "aucun succès à attester |forward|trigger|negated|10|Group[754]|PRE-VALIDATION\n",
      "aucun succès à désigner |forward|trigger|negated|10|Group[754]|PRE-VALIDATION\n",
      "aucun succès à afficher |forward|trigger|negated|10|Group[754]|PRE-VALIDATION\n",
      "aucun succès à déterminer |forward|trigger|negated|10|Group[754]|PRE-VALIDATION\n",
      "aucun succès à déceler |forward|trigger|negated|10|Group[754]|PRE-VALIDATION\n",
      "aucun succès à donner |forward|trigger|negated|10|Group[754]|PRE-VALIDATION\n",
      "aucun évènement à indiquer |forward|trigger|negated|10|Group[754]|PRE-VALIDATION\n",
      "aucun évènement à prouver |forward|trigger|negated|10|Group[754]|PRE-VALIDATION\n",
      "aucun évènement à montrer |forward|trigger|negated|10|Group[754]|PRE-VALIDATION\n",
      "aucun évènement à démontrer |forward|trigger|negated|10|Group[754]|PRE-VALIDATION\n",
      "aucun évènement à signaler |forward|trigger|negated|10|Group[754]|PRE-VALIDATION\n",
      "aucun évènement à annoncer |forward|trigger|negated|10|Group[754]|PRE-VALIDATION\n",
      "aucun évènement à manifester |forward|trigger|negated|10|Group[754]|PRE-VALIDATION\n",
      "aucun évènement à révéler |forward|trigger|negated|10|Group[754]|PRE-VALIDATION\n",
      "aucun évènement à témoigner |forward|trigger|negated|10|Group[754]|PRE-VALIDATION\n",
      "aucun évènement à attester |forward|trigger|negated|10|Group[754]|PRE-VALIDATION\n",
      "aucun évènement à désigner |forward|trigger|negated|10|Group[754]|PRE-VALIDATION\n",
      "aucun évènement à afficher |forward|trigger|negated|10|Group[754]|PRE-VALIDATION\n",
      "aucun évènement à déterminer |forward|trigger|negated|10|Group[754]|PRE-VALIDATION\n",
      "aucun évènement à déceler |forward|trigger|negated|10|Group[754]|PRE-VALIDATION\n",
      "aucun évènement à donner |forward|trigger|negated|10|Group[754]|PRE-VALIDATION\n",
      "aucun événement à indiquer |forward|trigger|negated|10|Group[754]|PRE-VALIDATION\n",
      "aucun événement à prouver |forward|trigger|negated|10|Group[754]|PRE-VALIDATION\n",
      "aucun événement à montrer |forward|trigger|negated|10|Group[754]|PRE-VALIDATION\n",
      "aucun événement à démontrer |forward|trigger|negated|10|Group[754]|PRE-VALIDATION\n",
      "aucun événement à signaler |forward|trigger|negated|10|Group[754]|PRE-VALIDATION\n",
      "aucun événement à annoncer |forward|trigger|negated|10|Group[754]|PRE-VALIDATION\n",
      "aucun événement à manifester |forward|trigger|negated|10|Group[754]|PRE-VALIDATION\n",
      "aucun événement à révéler |forward|trigger|negated|10|Group[754]|PRE-VALIDATION\n",
      "aucun événement à témoigner |forward|trigger|negated|10|Group[754]|PRE-VALIDATION\n",
      "aucun événement à attester |forward|trigger|negated|10|Group[754]|PRE-VALIDATION\n",
      "aucun événement à désigner |forward|trigger|negated|10|Group[754]|PRE-VALIDATION\n",
      "aucun événement à afficher |forward|trigger|negated|10|Group[754]|PRE-VALIDATION\n",
      "aucun événement à déterminer |forward|trigger|negated|10|Group[754]|PRE-VALIDATION\n",
      "aucun événement à déceler |forward|trigger|negated|10|Group[754]|PRE-VALIDATION\n",
      "aucun événement à donner |forward|trigger|negated|10|Group[754]|PRE-VALIDATION\n",
      "aucun constatation à indiquer |forward|trigger|negated|10|Group[754]|PRE-VALIDATION\n",
      "aucun constatation à prouver |forward|trigger|negated|10|Group[754]|PRE-VALIDATION\n",
      "aucun constatation à montrer |forward|trigger|negated|10|Group[754]|PRE-VALIDATION\n",
      "aucun constatation à démontrer |forward|trigger|negated|10|Group[754]|PRE-VALIDATION\n",
      "aucun constatation à signaler |forward|trigger|negated|10|Group[754]|PRE-VALIDATION\n",
      "aucun constatation à annoncer |forward|trigger|negated|10|Group[754]|PRE-VALIDATION\n",
      "aucun constatation à manifester |forward|trigger|negated|10|Group[754]|PRE-VALIDATION\n",
      "aucun constatation à révéler |forward|trigger|negated|10|Group[754]|PRE-VALIDATION\n",
      "aucun constatation à témoigner |forward|trigger|negated|10|Group[754]|PRE-VALIDATION\n",
      "aucun constatation à attester |forward|trigger|negated|10|Group[754]|PRE-VALIDATION\n",
      "aucun constatation à désigner |forward|trigger|negated|10|Group[754]|PRE-VALIDATION\n",
      "aucun constatation à afficher |forward|trigger|negated|10|Group[754]|PRE-VALIDATION\n",
      "aucun constatation à déterminer |forward|trigger|negated|10|Group[754]|PRE-VALIDATION\n",
      "aucun constatation à déceler |forward|trigger|negated|10|Group[754]|PRE-VALIDATION\n",
      "aucun constatation à donner |forward|trigger|negated|10|Group[754]|PRE-VALIDATION\n",
      "aucun calcul à indiquer |forward|trigger|negated|10|Group[754]|PRE-VALIDATION\n",
      "aucun calcul à prouver |forward|trigger|negated|10|Group[754]|PRE-VALIDATION\n",
      "aucun calcul à montrer |forward|trigger|negated|10|Group[754]|PRE-VALIDATION\n",
      "aucun calcul à démontrer |forward|trigger|negated|10|Group[754]|PRE-VALIDATION\n",
      "aucun calcul à signaler |forward|trigger|negated|10|Group[754]|PRE-VALIDATION\n",
      "aucun calcul à annoncer |forward|trigger|negated|10|Group[754]|PRE-VALIDATION\n",
      "aucun calcul à manifester |forward|trigger|negated|10|Group[754]|PRE-VALIDATION\n",
      "aucun calcul à révéler |forward|trigger|negated|10|Group[754]|PRE-VALIDATION\n",
      "aucun calcul à témoigner |forward|trigger|negated|10|Group[754]|PRE-VALIDATION\n",
      "aucun calcul à attester |forward|trigger|negated|10|Group[754]|PRE-VALIDATION\n",
      "aucun calcul à désigner |forward|trigger|negated|10|Group[754]|PRE-VALIDATION\n",
      "aucun calcul à afficher |forward|trigger|negated|10|Group[754]|PRE-VALIDATION\n",
      "aucun calcul à déterminer |forward|trigger|negated|10|Group[754]|PRE-VALIDATION\n",
      "aucun calcul à déceler |forward|trigger|negated|10|Group[754]|PRE-VALIDATION\n",
      "aucun calcul à donner |forward|trigger|negated|10|Group[754]|PRE-VALIDATION\n",
      "aucun résultat net à indiquer |forward|trigger|negated|10|Group[754]|PRE-VALIDATION\n",
      "aucun résultat net à prouver |forward|trigger|negated|10|Group[754]|PRE-VALIDATION\n",
      "aucun résultat net à montrer |forward|trigger|negated|10|Group[754]|PRE-VALIDATION\n",
      "aucun résultat net à démontrer |forward|trigger|negated|10|Group[754]|PRE-VALIDATION\n",
      "aucun résultat net à signaler |forward|trigger|negated|10|Group[754]|PRE-VALIDATION\n",
      "aucun résultat net à annoncer |forward|trigger|negated|10|Group[754]|PRE-VALIDATION\n"
     ]
    },
    {
     "name": "stdout",
     "output_type": "stream",
     "text": [
      "aucun résultat net à manifester |forward|trigger|negated|10|Group[754]|PRE-VALIDATION\n",
      "aucun résultat net à révéler |forward|trigger|negated|10|Group[754]|PRE-VALIDATION\n",
      "aucun résultat net à témoigner |forward|trigger|negated|10|Group[754]|PRE-VALIDATION\n",
      "aucun résultat net à attester |forward|trigger|negated|10|Group[754]|PRE-VALIDATION\n",
      "aucun résultat net à désigner |forward|trigger|negated|10|Group[754]|PRE-VALIDATION\n",
      "aucun résultat net à afficher |forward|trigger|negated|10|Group[754]|PRE-VALIDATION\n",
      "aucun résultat net à déterminer |forward|trigger|negated|10|Group[754]|PRE-VALIDATION\n",
      "aucun résultat net à déceler |forward|trigger|negated|10|Group[754]|PRE-VALIDATION\n",
      "aucun résultat net à donner |forward|trigger|negated|10|Group[754]|PRE-VALIDATION\n",
      "aucun réaction à indiquer |forward|trigger|negated|10|Group[754]|PRE-VALIDATION\n",
      "aucun réaction à prouver |forward|trigger|negated|10|Group[754]|PRE-VALIDATION\n",
      "aucun réaction à montrer |forward|trigger|negated|10|Group[754]|PRE-VALIDATION\n",
      "aucun réaction à démontrer |forward|trigger|negated|10|Group[754]|PRE-VALIDATION\n",
      "aucun réaction à signaler |forward|trigger|negated|10|Group[754]|PRE-VALIDATION\n",
      "aucun réaction à annoncer |forward|trigger|negated|10|Group[754]|PRE-VALIDATION\n",
      "aucun réaction à manifester |forward|trigger|negated|10|Group[754]|PRE-VALIDATION\n",
      "aucun réaction à révéler |forward|trigger|negated|10|Group[754]|PRE-VALIDATION\n",
      "aucun réaction à témoigner |forward|trigger|negated|10|Group[754]|PRE-VALIDATION\n",
      "aucun réaction à attester |forward|trigger|negated|10|Group[754]|PRE-VALIDATION\n",
      "aucun réaction à désigner |forward|trigger|negated|10|Group[754]|PRE-VALIDATION\n",
      "aucun réaction à afficher |forward|trigger|negated|10|Group[754]|PRE-VALIDATION\n",
      "aucun réaction à déterminer |forward|trigger|negated|10|Group[754]|PRE-VALIDATION\n",
      "aucun réaction à déceler |forward|trigger|negated|10|Group[754]|PRE-VALIDATION\n",
      "aucun réaction à donner |forward|trigger|negated|10|Group[754]|PRE-VALIDATION\n",
      "aucun constat à indiquer |forward|trigger|negated|10|Group[754]|PRE-VALIDATION\n",
      "aucun constat à prouver |forward|trigger|negated|10|Group[754]|PRE-VALIDATION\n",
      "aucun constat à montrer |forward|trigger|negated|10|Group[754]|PRE-VALIDATION\n",
      "aucun constat à démontrer |forward|trigger|negated|10|Group[754]|PRE-VALIDATION\n",
      "aucun constat à signaler |forward|trigger|negated|10|Group[754]|PRE-VALIDATION\n",
      "aucun constat à annoncer |forward|trigger|negated|10|Group[754]|PRE-VALIDATION\n",
      "aucun constat à manifester |forward|trigger|negated|10|Group[754]|PRE-VALIDATION\n",
      "aucun constat à révéler |forward|trigger|negated|10|Group[754]|PRE-VALIDATION\n",
      "aucun constat à témoigner |forward|trigger|negated|10|Group[754]|PRE-VALIDATION\n",
      "aucun constat à attester |forward|trigger|negated|10|Group[754]|PRE-VALIDATION\n",
      "aucun constat à désigner |forward|trigger|negated|10|Group[754]|PRE-VALIDATION\n",
      "aucun constat à afficher |forward|trigger|negated|10|Group[754]|PRE-VALIDATION\n",
      "aucun constat à déterminer |forward|trigger|negated|10|Group[754]|PRE-VALIDATION\n",
      "aucun constat à déceler |forward|trigger|negated|10|Group[754]|PRE-VALIDATION\n",
      "aucun constat à donner |forward|trigger|negated|10|Group[754]|PRE-VALIDATION\n"
     ]
    }
   ],
   "source": [
    "from nltk.parse.generate import generate, demo_grammar\n",
    "from nltk import CFG\n",
    "\n",
    "cfg_grammar= \"\"\"\n",
    "S ->  Determiner1 Noun2 Adposition3 Verb4 Trigger_Rule\n",
    "Determiner1 -> \"aucun\"\n",
    "Noun2 -> \"résultat\" | \"réponse\" | \"réussite\" | \"succès\" | \"évènement\" | \"événement\" | \"constatation\" | \"calcul\" | \"résultat net\" | \"réaction\" | \"constat\"\n",
    "Adposition3 -> \"à\"\n",
    "Verb4 -> \"indiquer\" | \"prouver\" | \"montrer\" | \"démontrer\" | \"signaler\" | \"annoncer\" | \"manifester\" | \"révéler\" | \"témoigner\" | \"attester\" | \"désigner\" | \"afficher\" | \"déterminer\" | \"déceler\" | \"donner\"\n",
    "Trigger_Rule -> \"|forward|trigger|negated|10|Group[754]|PRE-VALIDATION\"\n",
    "\"\"\"\n",
    "\n",
    "for sentence in generate(CFG.fromstring(cfg_grammar), n=1000):\n",
    "    print(' '.join(sentence))"
   ]
  },
  {
   "cell_type": "code",
   "execution_count": 33,
   "metadata": {},
   "outputs": [
    {
     "name": "stdout",
     "output_type": "stream",
     "text": [
      "aucun résultat à suggérer |forward|trigger|negated|10|Group[754]|PRE-VALIDATION\n",
      "aucun résultat à proposer |forward|trigger|negated|10|Group[754]|PRE-VALIDATION\n",
      "aucun résultat à inspirer |forward|trigger|negated|10|Group[754]|PRE-VALIDATION\n",
      "aucun résultat à insinuer |forward|trigger|negated|10|Group[754]|PRE-VALIDATION\n",
      "aucun résultat à évoquer |forward|trigger|negated|10|Group[754]|PRE-VALIDATION\n",
      "aucun résultat à dicter |forward|trigger|negated|10|Group[754]|PRE-VALIDATION\n",
      "aucun résultat à persuader |forward|trigger|negated|10|Group[754]|PRE-VALIDATION\n",
      "aucun résultat à susciter |forward|trigger|negated|10|Group[754]|PRE-VALIDATION\n",
      "aucun résultat à soumettre |forward|trigger|negated|10|Group[754]|PRE-VALIDATION\n",
      "aucun résultat à enseigner |forward|trigger|negated|10|Group[754]|PRE-VALIDATION\n",
      "aucun résultat à recommander |forward|trigger|negated|10|Group[754]|PRE-VALIDATION\n",
      "aucun résultat à faire penser à |forward|trigger|negated|10|Group[754]|PRE-VALIDATION\n",
      "aucun résultat à sous-entendre |forward|trigger|negated|10|Group[754]|PRE-VALIDATION\n",
      "aucun résultat à supposer |forward|trigger|negated|10|Group[754]|PRE-VALIDATION\n",
      "aucun résultat à envisager |forward|trigger|negated|10|Group[754]|PRE-VALIDATION\n",
      "aucun réponse à suggérer |forward|trigger|negated|10|Group[754]|PRE-VALIDATION\n",
      "aucun réponse à proposer |forward|trigger|negated|10|Group[754]|PRE-VALIDATION\n",
      "aucun réponse à inspirer |forward|trigger|negated|10|Group[754]|PRE-VALIDATION\n",
      "aucun réponse à insinuer |forward|trigger|negated|10|Group[754]|PRE-VALIDATION\n",
      "aucun réponse à évoquer |forward|trigger|negated|10|Group[754]|PRE-VALIDATION\n",
      "aucun réponse à dicter |forward|trigger|negated|10|Group[754]|PRE-VALIDATION\n",
      "aucun réponse à persuader |forward|trigger|negated|10|Group[754]|PRE-VALIDATION\n",
      "aucun réponse à susciter |forward|trigger|negated|10|Group[754]|PRE-VALIDATION\n",
      "aucun réponse à soumettre |forward|trigger|negated|10|Group[754]|PRE-VALIDATION\n",
      "aucun réponse à enseigner |forward|trigger|negated|10|Group[754]|PRE-VALIDATION\n",
      "aucun réponse à recommander |forward|trigger|negated|10|Group[754]|PRE-VALIDATION\n",
      "aucun réponse à faire penser à |forward|trigger|negated|10|Group[754]|PRE-VALIDATION\n",
      "aucun réponse à sous-entendre |forward|trigger|negated|10|Group[754]|PRE-VALIDATION\n",
      "aucun réponse à supposer |forward|trigger|negated|10|Group[754]|PRE-VALIDATION\n",
      "aucun réponse à envisager |forward|trigger|negated|10|Group[754]|PRE-VALIDATION\n",
      "aucun réussite à suggérer |forward|trigger|negated|10|Group[754]|PRE-VALIDATION\n",
      "aucun réussite à proposer |forward|trigger|negated|10|Group[754]|PRE-VALIDATION\n",
      "aucun réussite à inspirer |forward|trigger|negated|10|Group[754]|PRE-VALIDATION\n",
      "aucun réussite à insinuer |forward|trigger|negated|10|Group[754]|PRE-VALIDATION\n",
      "aucun réussite à évoquer |forward|trigger|negated|10|Group[754]|PRE-VALIDATION\n",
      "aucun réussite à dicter |forward|trigger|negated|10|Group[754]|PRE-VALIDATION\n",
      "aucun réussite à persuader |forward|trigger|negated|10|Group[754]|PRE-VALIDATION\n",
      "aucun réussite à susciter |forward|trigger|negated|10|Group[754]|PRE-VALIDATION\n",
      "aucun réussite à soumettre |forward|trigger|negated|10|Group[754]|PRE-VALIDATION\n",
      "aucun réussite à enseigner |forward|trigger|negated|10|Group[754]|PRE-VALIDATION\n",
      "aucun réussite à recommander |forward|trigger|negated|10|Group[754]|PRE-VALIDATION\n",
      "aucun réussite à faire penser à |forward|trigger|negated|10|Group[754]|PRE-VALIDATION\n",
      "aucun réussite à sous-entendre |forward|trigger|negated|10|Group[754]|PRE-VALIDATION\n",
      "aucun réussite à supposer |forward|trigger|negated|10|Group[754]|PRE-VALIDATION\n",
      "aucun réussite à envisager |forward|trigger|negated|10|Group[754]|PRE-VALIDATION\n",
      "aucun succès à suggérer |forward|trigger|negated|10|Group[754]|PRE-VALIDATION\n",
      "aucun succès à proposer |forward|trigger|negated|10|Group[754]|PRE-VALIDATION\n",
      "aucun succès à inspirer |forward|trigger|negated|10|Group[754]|PRE-VALIDATION\n",
      "aucun succès à insinuer |forward|trigger|negated|10|Group[754]|PRE-VALIDATION\n",
      "aucun succès à évoquer |forward|trigger|negated|10|Group[754]|PRE-VALIDATION\n",
      "aucun succès à dicter |forward|trigger|negated|10|Group[754]|PRE-VALIDATION\n",
      "aucun succès à persuader |forward|trigger|negated|10|Group[754]|PRE-VALIDATION\n",
      "aucun succès à susciter |forward|trigger|negated|10|Group[754]|PRE-VALIDATION\n",
      "aucun succès à soumettre |forward|trigger|negated|10|Group[754]|PRE-VALIDATION\n",
      "aucun succès à enseigner |forward|trigger|negated|10|Group[754]|PRE-VALIDATION\n",
      "aucun succès à recommander |forward|trigger|negated|10|Group[754]|PRE-VALIDATION\n",
      "aucun succès à faire penser à |forward|trigger|negated|10|Group[754]|PRE-VALIDATION\n",
      "aucun succès à sous-entendre |forward|trigger|negated|10|Group[754]|PRE-VALIDATION\n",
      "aucun succès à supposer |forward|trigger|negated|10|Group[754]|PRE-VALIDATION\n",
      "aucun succès à envisager |forward|trigger|negated|10|Group[754]|PRE-VALIDATION\n",
      "aucun évènement à suggérer |forward|trigger|negated|10|Group[754]|PRE-VALIDATION\n",
      "aucun évènement à proposer |forward|trigger|negated|10|Group[754]|PRE-VALIDATION\n",
      "aucun évènement à inspirer |forward|trigger|negated|10|Group[754]|PRE-VALIDATION\n",
      "aucun évènement à insinuer |forward|trigger|negated|10|Group[754]|PRE-VALIDATION\n",
      "aucun évènement à évoquer |forward|trigger|negated|10|Group[754]|PRE-VALIDATION\n",
      "aucun évènement à dicter |forward|trigger|negated|10|Group[754]|PRE-VALIDATION\n",
      "aucun évènement à persuader |forward|trigger|negated|10|Group[754]|PRE-VALIDATION\n",
      "aucun évènement à susciter |forward|trigger|negated|10|Group[754]|PRE-VALIDATION\n",
      "aucun évènement à soumettre |forward|trigger|negated|10|Group[754]|PRE-VALIDATION\n",
      "aucun évènement à enseigner |forward|trigger|negated|10|Group[754]|PRE-VALIDATION\n",
      "aucun évènement à recommander |forward|trigger|negated|10|Group[754]|PRE-VALIDATION\n",
      "aucun évènement à faire penser à |forward|trigger|negated|10|Group[754]|PRE-VALIDATION\n",
      "aucun évènement à sous-entendre |forward|trigger|negated|10|Group[754]|PRE-VALIDATION\n",
      "aucun évènement à supposer |forward|trigger|negated|10|Group[754]|PRE-VALIDATION\n",
      "aucun évènement à envisager |forward|trigger|negated|10|Group[754]|PRE-VALIDATION\n",
      "aucun événement à suggérer |forward|trigger|negated|10|Group[754]|PRE-VALIDATION\n",
      "aucun événement à proposer |forward|trigger|negated|10|Group[754]|PRE-VALIDATION\n",
      "aucun événement à inspirer |forward|trigger|negated|10|Group[754]|PRE-VALIDATION\n",
      "aucun événement à insinuer |forward|trigger|negated|10|Group[754]|PRE-VALIDATION\n",
      "aucun événement à évoquer |forward|trigger|negated|10|Group[754]|PRE-VALIDATION\n",
      "aucun événement à dicter |forward|trigger|negated|10|Group[754]|PRE-VALIDATION\n",
      "aucun événement à persuader |forward|trigger|negated|10|Group[754]|PRE-VALIDATION\n",
      "aucun événement à susciter |forward|trigger|negated|10|Group[754]|PRE-VALIDATION\n",
      "aucun événement à soumettre |forward|trigger|negated|10|Group[754]|PRE-VALIDATION\n",
      "aucun événement à enseigner |forward|trigger|negated|10|Group[754]|PRE-VALIDATION\n",
      "aucun événement à recommander |forward|trigger|negated|10|Group[754]|PRE-VALIDATION\n",
      "aucun événement à faire penser à |forward|trigger|negated|10|Group[754]|PRE-VALIDATION\n",
      "aucun événement à sous-entendre |forward|trigger|negated|10|Group[754]|PRE-VALIDATION\n",
      "aucun événement à supposer |forward|trigger|negated|10|Group[754]|PRE-VALIDATION\n",
      "aucun événement à envisager |forward|trigger|negated|10|Group[754]|PRE-VALIDATION\n",
      "aucun constatation à suggérer |forward|trigger|negated|10|Group[754]|PRE-VALIDATION\n",
      "aucun constatation à proposer |forward|trigger|negated|10|Group[754]|PRE-VALIDATION\n",
      "aucun constatation à inspirer |forward|trigger|negated|10|Group[754]|PRE-VALIDATION\n",
      "aucun constatation à insinuer |forward|trigger|negated|10|Group[754]|PRE-VALIDATION\n",
      "aucun constatation à évoquer |forward|trigger|negated|10|Group[754]|PRE-VALIDATION\n",
      "aucun constatation à dicter |forward|trigger|negated|10|Group[754]|PRE-VALIDATION\n",
      "aucun constatation à persuader |forward|trigger|negated|10|Group[754]|PRE-VALIDATION\n",
      "aucun constatation à susciter |forward|trigger|negated|10|Group[754]|PRE-VALIDATION\n",
      "aucun constatation à soumettre |forward|trigger|negated|10|Group[754]|PRE-VALIDATION\n",
      "aucun constatation à enseigner |forward|trigger|negated|10|Group[754]|PRE-VALIDATION\n",
      "aucun constatation à recommander |forward|trigger|negated|10|Group[754]|PRE-VALIDATION\n",
      "aucun constatation à faire penser à |forward|trigger|negated|10|Group[754]|PRE-VALIDATION\n",
      "aucun constatation à sous-entendre |forward|trigger|negated|10|Group[754]|PRE-VALIDATION\n",
      "aucun constatation à supposer |forward|trigger|negated|10|Group[754]|PRE-VALIDATION\n",
      "aucun constatation à envisager |forward|trigger|negated|10|Group[754]|PRE-VALIDATION\n",
      "aucun calcul à suggérer |forward|trigger|negated|10|Group[754]|PRE-VALIDATION\n",
      "aucun calcul à proposer |forward|trigger|negated|10|Group[754]|PRE-VALIDATION\n",
      "aucun calcul à inspirer |forward|trigger|negated|10|Group[754]|PRE-VALIDATION\n",
      "aucun calcul à insinuer |forward|trigger|negated|10|Group[754]|PRE-VALIDATION\n",
      "aucun calcul à évoquer |forward|trigger|negated|10|Group[754]|PRE-VALIDATION\n",
      "aucun calcul à dicter |forward|trigger|negated|10|Group[754]|PRE-VALIDATION\n",
      "aucun calcul à persuader |forward|trigger|negated|10|Group[754]|PRE-VALIDATION\n",
      "aucun calcul à susciter |forward|trigger|negated|10|Group[754]|PRE-VALIDATION\n",
      "aucun calcul à soumettre |forward|trigger|negated|10|Group[754]|PRE-VALIDATION\n",
      "aucun calcul à enseigner |forward|trigger|negated|10|Group[754]|PRE-VALIDATION\n",
      "aucun calcul à recommander |forward|trigger|negated|10|Group[754]|PRE-VALIDATION\n",
      "aucun calcul à faire penser à |forward|trigger|negated|10|Group[754]|PRE-VALIDATION\n",
      "aucun calcul à sous-entendre |forward|trigger|negated|10|Group[754]|PRE-VALIDATION\n",
      "aucun calcul à supposer |forward|trigger|negated|10|Group[754]|PRE-VALIDATION\n",
      "aucun calcul à envisager |forward|trigger|negated|10|Group[754]|PRE-VALIDATION\n",
      "aucun résultat net à suggérer |forward|trigger|negated|10|Group[754]|PRE-VALIDATION\n",
      "aucun résultat net à proposer |forward|trigger|negated|10|Group[754]|PRE-VALIDATION\n",
      "aucun résultat net à inspirer |forward|trigger|negated|10|Group[754]|PRE-VALIDATION\n",
      "aucun résultat net à insinuer |forward|trigger|negated|10|Group[754]|PRE-VALIDATION\n",
      "aucun résultat net à évoquer |forward|trigger|negated|10|Group[754]|PRE-VALIDATION\n",
      "aucun résultat net à dicter |forward|trigger|negated|10|Group[754]|PRE-VALIDATION\n",
      "aucun résultat net à persuader |forward|trigger|negated|10|Group[754]|PRE-VALIDATION\n",
      "aucun résultat net à susciter |forward|trigger|negated|10|Group[754]|PRE-VALIDATION\n",
      "aucun résultat net à soumettre |forward|trigger|negated|10|Group[754]|PRE-VALIDATION\n",
      "aucun résultat net à enseigner |forward|trigger|negated|10|Group[754]|PRE-VALIDATION\n",
      "aucun résultat net à recommander |forward|trigger|negated|10|Group[754]|PRE-VALIDATION\n",
      "aucun résultat net à faire penser à |forward|trigger|negated|10|Group[754]|PRE-VALIDATION\n",
      "aucun résultat net à sous-entendre |forward|trigger|negated|10|Group[754]|PRE-VALIDATION\n",
      "aucun résultat net à supposer |forward|trigger|negated|10|Group[754]|PRE-VALIDATION\n",
      "aucun résultat net à envisager |forward|trigger|negated|10|Group[754]|PRE-VALIDATION\n",
      "aucun réaction à suggérer |forward|trigger|negated|10|Group[754]|PRE-VALIDATION\n",
      "aucun réaction à proposer |forward|trigger|negated|10|Group[754]|PRE-VALIDATION\n",
      "aucun réaction à inspirer |forward|trigger|negated|10|Group[754]|PRE-VALIDATION\n",
      "aucun réaction à insinuer |forward|trigger|negated|10|Group[754]|PRE-VALIDATION\n",
      "aucun réaction à évoquer |forward|trigger|negated|10|Group[754]|PRE-VALIDATION\n",
      "aucun réaction à dicter |forward|trigger|negated|10|Group[754]|PRE-VALIDATION\n",
      "aucun réaction à persuader |forward|trigger|negated|10|Group[754]|PRE-VALIDATION\n",
      "aucun réaction à susciter |forward|trigger|negated|10|Group[754]|PRE-VALIDATION\n",
      "aucun réaction à soumettre |forward|trigger|negated|10|Group[754]|PRE-VALIDATION\n",
      "aucun réaction à enseigner |forward|trigger|negated|10|Group[754]|PRE-VALIDATION\n",
      "aucun réaction à recommander |forward|trigger|negated|10|Group[754]|PRE-VALIDATION\n",
      "aucun réaction à faire penser à |forward|trigger|negated|10|Group[754]|PRE-VALIDATION\n",
      "aucun réaction à sous-entendre |forward|trigger|negated|10|Group[754]|PRE-VALIDATION\n",
      "aucun réaction à supposer |forward|trigger|negated|10|Group[754]|PRE-VALIDATION\n",
      "aucun réaction à envisager |forward|trigger|negated|10|Group[754]|PRE-VALIDATION\n",
      "aucun constat à suggérer |forward|trigger|negated|10|Group[754]|PRE-VALIDATION\n",
      "aucun constat à proposer |forward|trigger|negated|10|Group[754]|PRE-VALIDATION\n",
      "aucun constat à inspirer |forward|trigger|negated|10|Group[754]|PRE-VALIDATION\n",
      "aucun constat à insinuer |forward|trigger|negated|10|Group[754]|PRE-VALIDATION\n",
      "aucun constat à évoquer |forward|trigger|negated|10|Group[754]|PRE-VALIDATION\n",
      "aucun constat à dicter |forward|trigger|negated|10|Group[754]|PRE-VALIDATION\n",
      "aucun constat à persuader |forward|trigger|negated|10|Group[754]|PRE-VALIDATION\n",
      "aucun constat à susciter |forward|trigger|negated|10|Group[754]|PRE-VALIDATION\n",
      "aucun constat à soumettre |forward|trigger|negated|10|Group[754]|PRE-VALIDATION\n",
      "aucun constat à enseigner |forward|trigger|negated|10|Group[754]|PRE-VALIDATION\n",
      "aucun constat à recommander |forward|trigger|negated|10|Group[754]|PRE-VALIDATION\n",
      "aucun constat à faire penser à |forward|trigger|negated|10|Group[754]|PRE-VALIDATION\n"
     ]
    },
    {
     "name": "stdout",
     "output_type": "stream",
     "text": [
      "aucun constat à sous-entendre |forward|trigger|negated|10|Group[754]|PRE-VALIDATION\n",
      "aucun constat à supposer |forward|trigger|negated|10|Group[754]|PRE-VALIDATION\n",
      "aucun constat à envisager |forward|trigger|negated|10|Group[754]|PRE-VALIDATION\n"
     ]
    }
   ],
   "source": [
    "from nltk.parse.generate import generate, demo_grammar\n",
    "from nltk import CFG\n",
    "\n",
    "cfg_grammar= \"\"\"\n",
    "S ->  Determiner1 Noun2 Adposition3 Verb4 Trigger_Rule\n",
    "Determiner1 -> \"aucun\"\n",
    "Noun2 -> \"résultat\" | \"réponse\" | \"réussite\" | \"succès\" | \"évènement\" | \"événement\" | \"constatation\" | \"calcul\" | \"résultat net\" | \"réaction\" | \"constat\"\n",
    "Adposition3 -> \"à\"\n",
    "Verb4 -> \"suggérer\" | \"proposer\" | \"inspirer\" | \"insinuer\" | \"évoquer\" | \"dicter\" | \"persuader\" | \"susciter\" | \"soumettre\" | \"enseigner\" | \"recommander\" | \"faire penser à\" | \"sous-entendre\" | \"supposer\" | \"envisager\"\n",
    "Trigger_Rule -> \"|forward|trigger|negated|10|Group[754]|PRE-VALIDATION\"\n",
    "\"\"\"\n",
    "\n",
    "for sentence in generate(CFG.fromstring(cfg_grammar), n=1000):\n",
    "    print(' '.join(sentence))"
   ]
  },
  {
   "cell_type": "code",
   "execution_count": 34,
   "metadata": {},
   "outputs": [
    {
     "name": "stdout",
     "output_type": "stream",
     "text": [
      "pas h o |forward|trigger|negated|10|Group[758]|PRE-VALIDATION\n"
     ]
    }
   ],
   "source": [
    "from nltk.parse.generate import generate, demo_grammar\n",
    "from nltk import CFG\n",
    "\n",
    "cfg_grammar= \"\"\"\n",
    "S ->  Adverb1 Noun2 Noun3 Trigger_Rule\n",
    "Adverb1 -> \"pas\"\n",
    "Noun2 -> \"h\"\n",
    "Noun3 -> \"o\"\n",
    "Trigger_Rule -> \"|forward|trigger|negated|10|Group[758]|PRE-VALIDATION\"\n",
    "\"\"\"\n",
    "\n",
    "for sentence in generate(CFG.fromstring(cfg_grammar), n=1000):\n",
    "    print(' '.join(sentence))"
   ]
  },
  {
   "cell_type": "code",
   "execution_count": 35,
   "metadata": {},
   "outputs": [
    {
     "name": "stdout",
     "output_type": "stream",
     "text": [
      "pas d'histoire de |forward|trigger|negated|10|Group[760]|PRE-VALIDATION\n",
      "pas passé de |forward|trigger|negated|10|Group[760]|PRE-VALIDATION\n",
      "pas souvenir de |forward|trigger|negated|10|Group[760]|PRE-VALIDATION\n",
      "pas d'historique de |forward|trigger|negated|10|Group[760]|PRE-VALIDATION\n"
     ]
    }
   ],
   "source": [
    "from nltk.parse.generate import generate, demo_grammar\n",
    "from nltk import CFG\n",
    "\n",
    "cfg_grammar= \"\"\"\n",
    "S ->  Adverb1 Noun3 Adposition4 Trigger_Rule\n",
    "Adverb1 -> \"pas\"\n",
    "Noun3 -> \"d'histoire\" | \"passé\" | \"souvenir\" | \"d'historique\"\n",
    "Adposition4 -> \"de\"\n",
    "Trigger_Rule -> \"|forward|trigger|negated|10|Group[760]|PRE-VALIDATION\"\n",
    "\"\"\"\n",
    "\n",
    "for sentence in generate(CFG.fromstring(cfg_grammar), n=1000):\n",
    "    print(' '.join(sentence))"
   ]
  },
  {
   "cell_type": "code",
   "execution_count": 36,
   "metadata": {},
   "outputs": [
    {
     "name": "stdout",
     "output_type": "stream",
     "text": [
      "pas de hx |forward|trigger|negated|10|Group[762]|PRE-VALIDATION\n"
     ]
    }
   ],
   "source": [
    "from nltk.parse.generate import generate, demo_grammar\n",
    "from nltk import CFG\n",
    "\n",
    "cfg_grammar= \"\"\"\n",
    "S ->  Adverb1 Adposition2 Verb3 Trigger_Rule\n",
    "Adverb1 -> \"pas\"\n",
    "Adposition2 -> \"de\"\n",
    "Verb3 -> \"hx\"\n",
    "Trigger_Rule -> \"|forward|trigger|negated|10|Group[762]|PRE-VALIDATION\"\n",
    "\"\"\"\n",
    "\n",
    "for sentence in generate(CFG.fromstring(cfg_grammar), n=1000):\n",
    "    print(' '.join(sentence))"
   ]
  },
  {
   "cell_type": "code",
   "execution_count": 37,
   "metadata": {},
   "outputs": [
    {
     "name": "stdout",
     "output_type": "stream",
     "text": [
      "pas d'augmentation |both|pseudo|negated|10|Group[764]|PRE-VALIDATION\n",
      "pas d'extension |both|pseudo|negated|10|Group[764]|PRE-VALIDATION\n",
      "pas d'amplification |both|pseudo|negated|10|Group[764]|PRE-VALIDATION\n",
      "pas d'allongement |both|pseudo|negated|10|Group[764]|PRE-VALIDATION\n",
      "pas d'addition |both|pseudo|negated|10|Group[764]|PRE-VALIDATION\n",
      "pas d'élévation |both|pseudo|negated|10|Group[764]|PRE-VALIDATION\n",
      "pas hausse |both|pseudo|negated|10|Group[764]|PRE-VALIDATION\n",
      "pas d'aggravation |both|pseudo|negated|10|Group[764]|PRE-VALIDATION\n",
      "pas d'agrandissement |both|pseudo|negated|10|Group[764]|PRE-VALIDATION\n",
      "pas d'intensification |both|pseudo|negated|10|Group[764]|PRE-VALIDATION\n",
      "pas redoublement |both|pseudo|negated|10|Group[764]|PRE-VALIDATION\n",
      "pas dilatation |both|pseudo|negated|10|Group[764]|PRE-VALIDATION\n",
      "pas croissance |both|pseudo|negated|10|Group[764]|PRE-VALIDATION\n",
      "pas développement |both|pseudo|negated|10|Group[764]|PRE-VALIDATION\n",
      "pas montée |both|pseudo|negated|10|Group[764]|PRE-VALIDATION\n"
     ]
    }
   ],
   "source": [
    "from nltk.parse.generate import generate, demo_grammar\n",
    "from nltk import CFG\n",
    "\n",
    "cfg_grammar= \"\"\"\n",
    "S ->  Adverb1 Noun3 Trigger_Rule\n",
    "Adverb1 -> \"pas\"\n",
    "Noun3 -> \"d'augmentation\" | \"d'extension\" | \"d'amplification\" | \"d'allongement\" | \"d'addition\" | \"d'élévation\" | \"hausse\" | \"d'aggravation\" | \"d'agrandissement\" | \"d'intensification\" | \"redoublement\" | \"dilatation\" | \"croissance\" | \"développement\" | \"montée\"\n",
    "Trigger_Rule -> \"|both|pseudo|negated|10|Group[764]|PRE-VALIDATION\"\n",
    "\"\"\"\n",
    "\n",
    "for sentence in generate(CFG.fromstring(cfg_grammar), n=1000):\n",
    "    print(' '.join(sentence))"
   ]
  },
  {
   "cell_type": "code",
   "execution_count": 38,
   "metadata": {},
   "outputs": [
    {
     "name": "stdout",
     "output_type": "stream",
     "text": [
      "aucune indication de |forward|trigger|negated|10|Group[765]|PRE-VALIDATION\n",
      "aucune avertissement de |forward|trigger|negated|10|Group[765]|PRE-VALIDATION\n",
      "aucune prescription de |forward|trigger|negated|10|Group[765]|PRE-VALIDATION\n",
      "aucune directive de |forward|trigger|negated|10|Group[765]|PRE-VALIDATION\n",
      "aucune annotation de |forward|trigger|negated|10|Group[765]|PRE-VALIDATION\n",
      "aucune explication de |forward|trigger|negated|10|Group[765]|PRE-VALIDATION\n",
      "aucune renvoi de |forward|trigger|negated|10|Group[765]|PRE-VALIDATION\n",
      "aucune information de |forward|trigger|negated|10|Group[765]|PRE-VALIDATION\n",
      "aucune note de |forward|trigger|negated|10|Group[765]|PRE-VALIDATION\n",
      "aucune recommandation de |forward|trigger|negated|10|Group[765]|PRE-VALIDATION\n",
      "aucune critère de |forward|trigger|negated|10|Group[765]|PRE-VALIDATION\n",
      "aucune notation de |forward|trigger|negated|10|Group[765]|PRE-VALIDATION\n",
      "aucune suggestion de |forward|trigger|negated|10|Group[765]|PRE-VALIDATION\n",
      "aucune mention de |forward|trigger|negated|10|Group[765]|PRE-VALIDATION\n",
      "aucune symptôme de |forward|trigger|negated|10|Group[765]|PRE-VALIDATION\n"
     ]
    }
   ],
   "source": [
    "from nltk.parse.generate import generate, demo_grammar\n",
    "from nltk import CFG\n",
    "\n",
    "cfg_grammar= \"\"\"\n",
    "S ->  Determiner1 Noun2 Adposition3 Trigger_Rule\n",
    "Determiner1 -> \"aucune\"\n",
    "Noun2 -> \"indication\" | \"avertissement\" | \"prescription\" | \"directive\" | \"annotation\" | \"explication\" | \"renvoi\" | \"information\" | \"note\" | \"recommandation\" | \"critère\" | \"notation\" | \"suggestion\" | \"mention\" | \"symptôme\"\n",
    "Adposition3 -> \"de\"\n",
    "Trigger_Rule -> \"|forward|trigger|negated|10|Group[765]|PRE-VALIDATION\"\n",
    "\"\"\"\n",
    "\n",
    "for sentence in generate(CFG.fromstring(cfg_grammar), n=1000):\n",
    "    print(' '.join(sentence))"
   ]
  },
  {
   "cell_type": "code",
   "execution_count": 39,
   "metadata": {},
   "outputs": [
    {
     "name": "stdout",
     "output_type": "stream",
     "text": [
      "pas de changement d'intervalle |both|pseudo|negated|10|Group[769]|PRE-VALIDATION\n",
      "pas de changement période |both|pseudo|negated|10|Group[769]|PRE-VALIDATION\n",
      "pas de changement moment |both|pseudo|negated|10|Group[769]|PRE-VALIDATION\n",
      "pas de changement plage de temps |both|pseudo|negated|10|Group[769]|PRE-VALIDATION\n",
      "pas de changement fenêtre |both|pseudo|negated|10|Group[769]|PRE-VALIDATION\n",
      "pas de changement créneau |both|pseudo|negated|10|Group[769]|PRE-VALIDATION\n",
      "pas de variation d'intervalle |both|pseudo|negated|10|Group[769]|PRE-VALIDATION\n",
      "pas de variation période |both|pseudo|negated|10|Group[769]|PRE-VALIDATION\n",
      "pas de variation moment |both|pseudo|negated|10|Group[769]|PRE-VALIDATION\n",
      "pas de variation plage de temps |both|pseudo|negated|10|Group[769]|PRE-VALIDATION\n",
      "pas de variation fenêtre |both|pseudo|negated|10|Group[769]|PRE-VALIDATION\n",
      "pas de variation créneau |both|pseudo|negated|10|Group[769]|PRE-VALIDATION\n",
      "pas de altération d'intervalle |both|pseudo|negated|10|Group[769]|PRE-VALIDATION\n",
      "pas de altération période |both|pseudo|negated|10|Group[769]|PRE-VALIDATION\n",
      "pas de altération moment |both|pseudo|negated|10|Group[769]|PRE-VALIDATION\n",
      "pas de altération plage de temps |both|pseudo|negated|10|Group[769]|PRE-VALIDATION\n",
      "pas de altération fenêtre |both|pseudo|negated|10|Group[769]|PRE-VALIDATION\n",
      "pas de altération créneau |both|pseudo|negated|10|Group[769]|PRE-VALIDATION\n",
      "pas de évolution d'intervalle |both|pseudo|negated|10|Group[769]|PRE-VALIDATION\n",
      "pas de évolution période |both|pseudo|negated|10|Group[769]|PRE-VALIDATION\n",
      "pas de évolution moment |both|pseudo|negated|10|Group[769]|PRE-VALIDATION\n",
      "pas de évolution plage de temps |both|pseudo|negated|10|Group[769]|PRE-VALIDATION\n",
      "pas de évolution fenêtre |both|pseudo|negated|10|Group[769]|PRE-VALIDATION\n",
      "pas de évolution créneau |both|pseudo|negated|10|Group[769]|PRE-VALIDATION\n",
      "pas de transformation d'intervalle |both|pseudo|negated|10|Group[769]|PRE-VALIDATION\n",
      "pas de transformation période |both|pseudo|negated|10|Group[769]|PRE-VALIDATION\n",
      "pas de transformation moment |both|pseudo|negated|10|Group[769]|PRE-VALIDATION\n",
      "pas de transformation plage de temps |both|pseudo|negated|10|Group[769]|PRE-VALIDATION\n",
      "pas de transformation fenêtre |both|pseudo|negated|10|Group[769]|PRE-VALIDATION\n",
      "pas de transformation créneau |both|pseudo|negated|10|Group[769]|PRE-VALIDATION\n",
      "pas de fluctuation d'intervalle |both|pseudo|negated|10|Group[769]|PRE-VALIDATION\n",
      "pas de fluctuation période |both|pseudo|negated|10|Group[769]|PRE-VALIDATION\n",
      "pas de fluctuation moment |both|pseudo|negated|10|Group[769]|PRE-VALIDATION\n",
      "pas de fluctuation plage de temps |both|pseudo|negated|10|Group[769]|PRE-VALIDATION\n",
      "pas de fluctuation fenêtre |both|pseudo|negated|10|Group[769]|PRE-VALIDATION\n",
      "pas de fluctuation créneau |both|pseudo|negated|10|Group[769]|PRE-VALIDATION\n",
      "pas de mutation d'intervalle |both|pseudo|negated|10|Group[769]|PRE-VALIDATION\n",
      "pas de mutation période |both|pseudo|negated|10|Group[769]|PRE-VALIDATION\n",
      "pas de mutation moment |both|pseudo|negated|10|Group[769]|PRE-VALIDATION\n",
      "pas de mutation plage de temps |both|pseudo|negated|10|Group[769]|PRE-VALIDATION\n",
      "pas de mutation fenêtre |both|pseudo|negated|10|Group[769]|PRE-VALIDATION\n",
      "pas de mutation créneau |both|pseudo|negated|10|Group[769]|PRE-VALIDATION\n",
      "pas de retournement d'intervalle |both|pseudo|negated|10|Group[769]|PRE-VALIDATION\n",
      "pas de retournement période |both|pseudo|negated|10|Group[769]|PRE-VALIDATION\n",
      "pas de retournement moment |both|pseudo|negated|10|Group[769]|PRE-VALIDATION\n",
      "pas de retournement plage de temps |both|pseudo|negated|10|Group[769]|PRE-VALIDATION\n",
      "pas de retournement fenêtre |both|pseudo|negated|10|Group[769]|PRE-VALIDATION\n",
      "pas de retournement créneau |both|pseudo|negated|10|Group[769]|PRE-VALIDATION\n",
      "pas de renversement d'intervalle |both|pseudo|negated|10|Group[769]|PRE-VALIDATION\n",
      "pas de renversement période |both|pseudo|negated|10|Group[769]|PRE-VALIDATION\n",
      "pas de renversement moment |both|pseudo|negated|10|Group[769]|PRE-VALIDATION\n",
      "pas de renversement plage de temps |both|pseudo|negated|10|Group[769]|PRE-VALIDATION\n",
      "pas de renversement fenêtre |both|pseudo|negated|10|Group[769]|PRE-VALIDATION\n",
      "pas de renversement créneau |both|pseudo|negated|10|Group[769]|PRE-VALIDATION\n",
      "pas de amélioration d'intervalle |both|pseudo|negated|10|Group[769]|PRE-VALIDATION\n",
      "pas de amélioration période |both|pseudo|negated|10|Group[769]|PRE-VALIDATION\n",
      "pas de amélioration moment |both|pseudo|negated|10|Group[769]|PRE-VALIDATION\n",
      "pas de amélioration plage de temps |both|pseudo|negated|10|Group[769]|PRE-VALIDATION\n",
      "pas de amélioration fenêtre |both|pseudo|negated|10|Group[769]|PRE-VALIDATION\n",
      "pas de amélioration créneau |both|pseudo|negated|10|Group[769]|PRE-VALIDATION\n",
      "pas de revirement d'intervalle |both|pseudo|negated|10|Group[769]|PRE-VALIDATION\n",
      "pas de revirement période |both|pseudo|negated|10|Group[769]|PRE-VALIDATION\n",
      "pas de revirement moment |both|pseudo|negated|10|Group[769]|PRE-VALIDATION\n",
      "pas de revirement plage de temps |both|pseudo|negated|10|Group[769]|PRE-VALIDATION\n",
      "pas de revirement fenêtre |both|pseudo|negated|10|Group[769]|PRE-VALIDATION\n",
      "pas de revirement créneau |both|pseudo|negated|10|Group[769]|PRE-VALIDATION\n",
      "pas de transition d'intervalle |both|pseudo|negated|10|Group[769]|PRE-VALIDATION\n",
      "pas de transition période |both|pseudo|negated|10|Group[769]|PRE-VALIDATION\n",
      "pas de transition moment |both|pseudo|negated|10|Group[769]|PRE-VALIDATION\n",
      "pas de transition plage de temps |both|pseudo|negated|10|Group[769]|PRE-VALIDATION\n",
      "pas de transition fenêtre |both|pseudo|negated|10|Group[769]|PRE-VALIDATION\n",
      "pas de transition créneau |both|pseudo|negated|10|Group[769]|PRE-VALIDATION\n",
      "pas de modulation d'intervalle |both|pseudo|negated|10|Group[769]|PRE-VALIDATION\n",
      "pas de modulation période |both|pseudo|negated|10|Group[769]|PRE-VALIDATION\n",
      "pas de modulation moment |both|pseudo|negated|10|Group[769]|PRE-VALIDATION\n",
      "pas de modulation plage de temps |both|pseudo|negated|10|Group[769]|PRE-VALIDATION\n",
      "pas de modulation fenêtre |both|pseudo|negated|10|Group[769]|PRE-VALIDATION\n",
      "pas de modulation créneau |both|pseudo|negated|10|Group[769]|PRE-VALIDATION\n",
      "pas de inflexion d'intervalle |both|pseudo|negated|10|Group[769]|PRE-VALIDATION\n",
      "pas de inflexion période |both|pseudo|negated|10|Group[769]|PRE-VALIDATION\n",
      "pas de inflexion moment |both|pseudo|negated|10|Group[769]|PRE-VALIDATION\n",
      "pas de inflexion plage de temps |both|pseudo|negated|10|Group[769]|PRE-VALIDATION\n",
      "pas de inflexion fenêtre |both|pseudo|negated|10|Group[769]|PRE-VALIDATION\n",
      "pas de inflexion créneau |both|pseudo|negated|10|Group[769]|PRE-VALIDATION\n",
      "pas de différence d'intervalle |both|pseudo|negated|10|Group[769]|PRE-VALIDATION\n",
      "pas de différence période |both|pseudo|negated|10|Group[769]|PRE-VALIDATION\n",
      "pas de différence moment |both|pseudo|negated|10|Group[769]|PRE-VALIDATION\n",
      "pas de différence plage de temps |both|pseudo|negated|10|Group[769]|PRE-VALIDATION\n",
      "pas de différence fenêtre |both|pseudo|negated|10|Group[769]|PRE-VALIDATION\n",
      "pas de différence créneau |both|pseudo|negated|10|Group[769]|PRE-VALIDATION\n"
     ]
    }
   ],
   "source": [
    "from nltk.parse.generate import generate, demo_grammar\n",
    "from nltk import CFG\n",
    "\n",
    "cfg_grammar= \"\"\"\n",
    "S ->  Adverb1 Determiner2 Noun3 Noun5 Trigger_Rule\n",
    "Adverb1 -> \"pas\"\n",
    "Determiner2 -> \"de\"\n",
    "Noun3 -> \"changement\" | \"variation\" | \"altération\" | \"évolution\" | \"transformation\" | \"fluctuation\" | \"mutation\" | \"retournement\" | \"renversement\" | \"amélioration\" | \"revirement\" | \"transition\" | \"modulation\" | \"inflexion\" | \"différence\"\n",
    "Noun5 -> \"d'intervalle\" | \"période\" | \"moment\" | \"plage de temps\" | \"fenêtre\" | \"créneau\"\n",
    "Trigger_Rule -> \"|both|pseudo|negated|10|Group[769]|PRE-VALIDATION\"\n",
    "\"\"\"\n",
    "\n",
    "for sentence in generate(CFG.fromstring(cfg_grammar), n=1000):\n",
    "    print(' '.join(sentence))"
   ]
  },
  {
   "cell_type": "code",
   "execution_count": 40,
   "metadata": {},
   "outputs": [
    {
     "name": "stdout",
     "output_type": "stream",
     "text": [
      "aucune histoire connue de |forward|trigger|negated|10|Group[770]|PRE-VALIDATION\n",
      "aucune histoire illustre de |forward|trigger|negated|10|Group[770]|PRE-VALIDATION\n",
      "aucune histoire réputé de |forward|trigger|negated|10|Group[770]|PRE-VALIDATION\n",
      "aucune histoire découvert de |forward|trigger|negated|10|Group[770]|PRE-VALIDATION\n",
      "aucune histoire révélé de |forward|trigger|negated|10|Group[770]|PRE-VALIDATION\n",
      "aucune histoire courant de |forward|trigger|negated|10|Group[770]|PRE-VALIDATION\n",
      "aucune histoire important de |forward|trigger|negated|10|Group[770]|PRE-VALIDATION\n",
      "aucune histoire évident de |forward|trigger|negated|10|Group[770]|PRE-VALIDATION\n",
      "aucune histoire fréquent de |forward|trigger|negated|10|Group[770]|PRE-VALIDATION\n",
      "aucune histoire manifeste de |forward|trigger|negated|10|Group[770]|PRE-VALIDATION\n",
      "aucune histoire établi de |forward|trigger|negated|10|Group[770]|PRE-VALIDATION\n",
      "aucune passé connue de |forward|trigger|negated|10|Group[770]|PRE-VALIDATION\n",
      "aucune passé illustre de |forward|trigger|negated|10|Group[770]|PRE-VALIDATION\n",
      "aucune passé réputé de |forward|trigger|negated|10|Group[770]|PRE-VALIDATION\n",
      "aucune passé découvert de |forward|trigger|negated|10|Group[770]|PRE-VALIDATION\n",
      "aucune passé révélé de |forward|trigger|negated|10|Group[770]|PRE-VALIDATION\n",
      "aucune passé courant de |forward|trigger|negated|10|Group[770]|PRE-VALIDATION\n",
      "aucune passé important de |forward|trigger|negated|10|Group[770]|PRE-VALIDATION\n",
      "aucune passé évident de |forward|trigger|negated|10|Group[770]|PRE-VALIDATION\n",
      "aucune passé fréquent de |forward|trigger|negated|10|Group[770]|PRE-VALIDATION\n",
      "aucune passé manifeste de |forward|trigger|negated|10|Group[770]|PRE-VALIDATION\n",
      "aucune passé établi de |forward|trigger|negated|10|Group[770]|PRE-VALIDATION\n",
      "aucune souvenir connue de |forward|trigger|negated|10|Group[770]|PRE-VALIDATION\n",
      "aucune souvenir illustre de |forward|trigger|negated|10|Group[770]|PRE-VALIDATION\n",
      "aucune souvenir réputé de |forward|trigger|negated|10|Group[770]|PRE-VALIDATION\n",
      "aucune souvenir découvert de |forward|trigger|negated|10|Group[770]|PRE-VALIDATION\n",
      "aucune souvenir révélé de |forward|trigger|negated|10|Group[770]|PRE-VALIDATION\n",
      "aucune souvenir courant de |forward|trigger|negated|10|Group[770]|PRE-VALIDATION\n",
      "aucune souvenir important de |forward|trigger|negated|10|Group[770]|PRE-VALIDATION\n",
      "aucune souvenir évident de |forward|trigger|negated|10|Group[770]|PRE-VALIDATION\n",
      "aucune souvenir fréquent de |forward|trigger|negated|10|Group[770]|PRE-VALIDATION\n",
      "aucune souvenir manifeste de |forward|trigger|negated|10|Group[770]|PRE-VALIDATION\n",
      "aucune souvenir établi de |forward|trigger|negated|10|Group[770]|PRE-VALIDATION\n",
      "aucune historique connue de |forward|trigger|negated|10|Group[770]|PRE-VALIDATION\n",
      "aucune historique illustre de |forward|trigger|negated|10|Group[770]|PRE-VALIDATION\n",
      "aucune historique réputé de |forward|trigger|negated|10|Group[770]|PRE-VALIDATION\n",
      "aucune historique découvert de |forward|trigger|negated|10|Group[770]|PRE-VALIDATION\n",
      "aucune historique révélé de |forward|trigger|negated|10|Group[770]|PRE-VALIDATION\n",
      "aucune historique courant de |forward|trigger|negated|10|Group[770]|PRE-VALIDATION\n",
      "aucune historique important de |forward|trigger|negated|10|Group[770]|PRE-VALIDATION\n",
      "aucune historique évident de |forward|trigger|negated|10|Group[770]|PRE-VALIDATION\n",
      "aucune historique fréquent de |forward|trigger|negated|10|Group[770]|PRE-VALIDATION\n",
      "aucune historique manifeste de |forward|trigger|negated|10|Group[770]|PRE-VALIDATION\n",
      "aucune historique établi de |forward|trigger|negated|10|Group[770]|PRE-VALIDATION\n"
     ]
    }
   ],
   "source": [
    "from nltk.parse.generate import generate, demo_grammar\n",
    "from nltk import CFG\n",
    "\n",
    "cfg_grammar= \"\"\"\n",
    "S ->  Determiner1 Noun2 Verb3 Adposition4 Trigger_Rule\n",
    "Determiner1 -> \"aucune\"\n",
    "Noun2 -> \"histoire\" | \"passé\" | \"souvenir\" | \"historique\"\n",
    "Verb3 -> \"connue\" | \"illustre\" | \"réputé\" | \"découvert\" | \"révélé\" | \"courant\" | \"important\" | \"évident\" | \"fréquent\" | \"manifeste\" | \"établi\"\n",
    "Adposition4 -> \"de\"\n",
    "Trigger_Rule -> \"|forward|trigger|negated|10|Group[770]|PRE-VALIDATION\"\n",
    "\"\"\"\n",
    "\n",
    "for sentence in generate(CFG.fromstring(cfg_grammar), n=1000):\n",
    "    print(' '.join(sentence))"
   ]
  },
  {
   "cell_type": "code",
   "execution_count": 41,
   "metadata": {},
   "outputs": [
    {
     "name": "stdout",
     "output_type": "stream",
     "text": [
      "aucun hx connu de |forward|trigger|negated|10|Group[772]|PRE-VALIDATION\n",
      "aucun hx évident de |forward|trigger|negated|10|Group[772]|PRE-VALIDATION\n",
      "aucun hx courant de |forward|trigger|negated|10|Group[772]|PRE-VALIDATION\n",
      "aucun hx avoué de |forward|trigger|negated|10|Group[772]|PRE-VALIDATION\n",
      "aucun hx reconnu de |forward|trigger|negated|10|Group[772]|PRE-VALIDATION\n",
      "aucun hx su de |forward|trigger|negated|10|Group[772]|PRE-VALIDATION\n",
      "aucun hx savoir de |forward|trigger|negated|10|Group[772]|PRE-VALIDATION\n"
     ]
    }
   ],
   "source": [
    "from nltk.parse.generate import generate, demo_grammar\n",
    "from nltk import CFG\n",
    "\n",
    "cfg_grammar= \"\"\"\n",
    "S ->  Determiner1 Auxiliary2 Verb3 Adposition4 Trigger_Rule\n",
    "Determiner1 -> \"aucun\"\n",
    "Auxiliary2 -> \"hx\"\n",
    "Verb3 -> \"connu\" | \"évident\" | \"courant\" | \"avoué\" | \"reconnu\" | \"su\" | \"savoir\"\n",
    "Adposition4 -> \"de\"\n",
    "Trigger_Rule -> \"|forward|trigger|negated|10|Group[772]|PRE-VALIDATION\"\n",
    "\"\"\"\n",
    "\n",
    "for sentence in generate(CFG.fromstring(cfg_grammar), n=1000):\n",
    "    print(' '.join(sentence))"
   ]
  },
  {
   "cell_type": "code",
   "execution_count": 42,
   "metadata": {},
   "outputs": [
    {
     "name": "stdout",
     "output_type": "stream",
     "text": [
      "n'est plus présent |backward|trigger|negated|10|Group[774]|PRE-VALIDATION\n"
     ]
    }
   ],
   "source": [
    "from nltk.parse.generate import generate, demo_grammar\n",
    "from nltk import CFG\n",
    "\n",
    "cfg_grammar= \"\"\"\n",
    "S -> Auxiliary2 Adverb3 Adjective4 Trigger_Rule\n",
    "Auxiliary2 -> \"n'est\"\n",
    "Adverb3 -> \"plus\"\n",
    "Adjective4 -> \"présent\"\n",
    "Trigger_Rule -> \"|backward|trigger|negated|10|Group[774]|PRE-VALIDATION\"\n",
    "\"\"\"\n",
    "\n",
    "for sentence in generate(CFG.fromstring(cfg_grammar), n=1000):\n",
    "    print(' '.join(sentence))"
   ]
  },
  {
   "cell_type": "code",
   "execution_count": 43,
   "metadata": {},
   "outputs": [
    {
     "name": "stdout",
     "output_type": "stream",
     "text": [
      "plus maintenant |forward|trigger|negated|10|Group[776]|PRE-VALIDATION\n"
     ]
    }
   ],
   "source": [
    "from nltk.parse.generate import generate, demo_grammar\n",
    "from nltk import CFG\n",
    "\n",
    "cfg_grammar= \"\"\"\n",
    "S ->  Adverb1 Adverb2 Trigger_Rule\n",
    "Adverb1 -> \"plus\"\n",
    "Adverb2 -> \"maintenant\"\n",
    "Trigger_Rule -> \"|forward|trigger|negated|10|Group[776]|PRE-VALIDATION\"\n",
    "\"\"\"\n",
    "\n",
    "for sentence in generate(CFG.fromstring(cfg_grammar), n=1000):\n",
    "    print(' '.join(sentence))"
   ]
  },
  {
   "cell_type": "code",
   "execution_count": 44,
   "metadata": {},
   "outputs": [
    {
     "name": "stdout",
     "output_type": "stream",
     "text": [
      "pas majeur |forward|trigger|negated|10|Group[778]|PRE-VALIDATION\n"
     ]
    }
   ],
   "source": [
    "from nltk.parse.generate import generate, demo_grammar\n",
    "from nltk import CFG\n",
    "\n",
    "cfg_grammar= \"\"\"\n",
    "S ->  Adverb1 Adjective2 Trigger_Rule\n",
    "Adverb1 -> \"pas\"\n",
    "Adjective2 -> \"majeur\"\n",
    "Trigger_Rule -> \"|forward|trigger|negated|10|Group[778]|PRE-VALIDATION\"\n",
    "\"\"\"\n",
    "\n",
    "for sentence in generate(CFG.fromstring(cfg_grammar), n=1000):\n",
    "    print(' '.join(sentence))"
   ]
  },
  {
   "cell_type": "code",
   "execution_count": 45,
   "metadata": {},
   "outputs": [
    {
     "name": "stdout",
     "output_type": "stream",
     "text": [
      "aucune preuve mammographique de |forward|trigger|negated|10|Group[780]|PRE-VALIDATION\n",
      "aucune témoignage mammographique de |forward|trigger|negated|10|Group[780]|PRE-VALIDATION\n",
      "aucune justification mammographique de |forward|trigger|negated|10|Group[780]|PRE-VALIDATION\n",
      "aucune démonstration mammographique de |forward|trigger|negated|10|Group[780]|PRE-VALIDATION\n",
      "aucune gage mammographique de |forward|trigger|negated|10|Group[780]|PRE-VALIDATION\n",
      "aucune conviction mammographique de |forward|trigger|negated|10|Group[780]|PRE-VALIDATION\n",
      "aucune argument mammographique de |forward|trigger|negated|10|Group[780]|PRE-VALIDATION\n",
      "aucune constatation mammographique de |forward|trigger|negated|10|Group[780]|PRE-VALIDATION\n",
      "aucune confirmation mammographique de |forward|trigger|negated|10|Group[780]|PRE-VALIDATION\n",
      "aucune critère mammographique de |forward|trigger|negated|10|Group[780]|PRE-VALIDATION\n",
      "aucune signe mammographique de |forward|trigger|negated|10|Group[780]|PRE-VALIDATION\n",
      "aucune motif mammographique de |forward|trigger|negated|10|Group[780]|PRE-VALIDATION\n",
      "aucune assurance mammographique de |forward|trigger|negated|10|Group[780]|PRE-VALIDATION\n",
      "aucune fondement mammographique de |forward|trigger|negated|10|Group[780]|PRE-VALIDATION\n",
      "aucune évidence mammographique de |forward|trigger|negated|10|Group[780]|PRE-VALIDATION\n"
     ]
    }
   ],
   "source": [
    "from nltk.parse.generate import generate, demo_grammar\n",
    "from nltk import CFG\n",
    "\n",
    "cfg_grammar= \"\"\"\n",
    "S ->  Determiner1 Noun2 Adjective3 Adposition4 Trigger_Rule\n",
    "Determiner1 -> \"aucune\"\n",
    "Noun2 -> \"preuve\" | \"témoignage\" | \"justification\" | \"démonstration\" | \"gage\" | \"conviction\" | \"argument\" | \"constatation\" | \"confirmation\" | \"critère\" | \"signe\" | \"motif\" | \"assurance\" | \"fondement\" | \"évidence\"\n",
    "Adjective3 -> \"mammographique\"\n",
    "Adposition4 -> \"de\"\n",
    "Trigger_Rule -> \"|forward|trigger|negated|10|Group[780]|PRE-VALIDATION\"\n",
    "\"\"\"\n",
    "\n",
    "for sentence in generate(CFG.fromstring(cfg_grammar), n=1000):\n",
    "    print(' '.join(sentence))"
   ]
  },
  {
   "cell_type": "code",
   "execution_count": 46,
   "metadata": {},
   "outputs": [
    {
     "name": "stdout",
     "output_type": "stream",
     "text": [
      "aucune mention de |forward|trigger|negated|10|Group[782]|PRE-VALIDATION\n",
      "aucune évocation de |forward|trigger|negated|10|Group[782]|PRE-VALIDATION\n",
      "aucune notation de |forward|trigger|negated|10|Group[782]|PRE-VALIDATION\n",
      "aucune signalement de |forward|trigger|negated|10|Group[782]|PRE-VALIDATION\n",
      "aucune note de |forward|trigger|negated|10|Group[782]|PRE-VALIDATION\n",
      "aucune expression de |forward|trigger|negated|10|Group[782]|PRE-VALIDATION\n",
      "aucune référence de |forward|trigger|negated|10|Group[782]|PRE-VALIDATION\n",
      "aucune reflet de |forward|trigger|negated|10|Group[782]|PRE-VALIDATION\n",
      "aucune allusion de |forward|trigger|negated|10|Group[782]|PRE-VALIDATION\n"
     ]
    }
   ],
   "source": [
    "from nltk.parse.generate import generate, demo_grammar\n",
    "from nltk import CFG\n",
    "\n",
    "cfg_grammar= \"\"\"\n",
    "S ->  Determiner1 Noun2 Adposition3 Trigger_Rule\n",
    "Determiner1 -> \"aucune\"\n",
    "Noun2 -> \"mention\" | \"évocation\" | \"notation\" | \"signalement\" | \"note\" | \"expression\" | \"référence\" | \"reflet\" | \"allusion\"\n",
    "Adposition3 -> \"de\"\n",
    "Trigger_Rule -> \"|forward|trigger|negated|10|Group[782]|PRE-VALIDATION\"\n",
    "\"\"\"\n",
    "\n",
    "for sentence in generate(CFG.fromstring(cfg_grammar), n=1000):\n",
    "    print(' '.join(sentence))"
   ]
  },
  {
   "cell_type": "code",
   "execution_count": 47,
   "metadata": {},
   "outputs": [
    {
     "name": "stdout",
     "output_type": "stream",
     "text": [
      "aucune nouvelle preuve |forward|trigger|negated|10|Group[784]|PRE-VALIDATION\n",
      "aucune nouvelle témoignage |forward|trigger|negated|10|Group[784]|PRE-VALIDATION\n",
      "aucune nouvelle justification |forward|trigger|negated|10|Group[784]|PRE-VALIDATION\n",
      "aucune nouvelle démonstration |forward|trigger|negated|10|Group[784]|PRE-VALIDATION\n",
      "aucune nouvelle gage |forward|trigger|negated|10|Group[784]|PRE-VALIDATION\n",
      "aucune nouvelle conviction |forward|trigger|negated|10|Group[784]|PRE-VALIDATION\n",
      "aucune nouvelle argument |forward|trigger|negated|10|Group[784]|PRE-VALIDATION\n",
      "aucune nouvelle constatation |forward|trigger|negated|10|Group[784]|PRE-VALIDATION\n",
      "aucune nouvelle confirmation |forward|trigger|negated|10|Group[784]|PRE-VALIDATION\n",
      "aucune nouvelle critère |forward|trigger|negated|10|Group[784]|PRE-VALIDATION\n",
      "aucune nouvelle signe |forward|trigger|negated|10|Group[784]|PRE-VALIDATION\n",
      "aucune nouvelle motif |forward|trigger|negated|10|Group[784]|PRE-VALIDATION\n",
      "aucune nouvelle assurance |forward|trigger|negated|10|Group[784]|PRE-VALIDATION\n",
      "aucune nouvelle fondement |forward|trigger|negated|10|Group[784]|PRE-VALIDATION\n",
      "aucune nouvelle évidence |forward|trigger|negated|10|Group[784]|PRE-VALIDATION\n"
     ]
    }
   ],
   "source": [
    "from nltk.parse.generate import generate, demo_grammar\n",
    "from nltk import CFG\n",
    "\n",
    "cfg_grammar= \"\"\"\n",
    "S ->  Determiner1 Adjective2 Noun3 Trigger_Rule\n",
    "Determiner1 -> \"aucune\"\n",
    "Adjective2 -> \"nouvelle\"\n",
    "Noun3 -> \"preuve\" | \"témoignage\" | \"justification\" | \"démonstration\" | \"gage\" | \"conviction\" | \"argument\" | \"constatation\" | \"confirmation\" | \"critère\" | \"signe\" | \"motif\" | \"assurance\" | \"fondement\" | \"évidence\"\n",
    "Trigger_Rule -> \"|forward|trigger|negated|10|Group[784]|PRE-VALIDATION\"\n",
    "\"\"\"\n",
    "\n",
    "for sentence in generate(CFG.fromstring(cfg_grammar), n=1000):\n",
    "    print(' '.join(sentence))"
   ]
  },
  {
   "cell_type": "code",
   "execution_count": 48,
   "metadata": {},
   "outputs": [
    {
     "name": "stdout",
     "output_type": "stream",
     "text": [
      "pas de nouveau |forward|trigger|negated|10|Group[786]|PRE-VALIDATION\n",
      "pas de récent |forward|trigger|negated|10|Group[786]|PRE-VALIDATION\n",
      "pas de original |forward|trigger|negated|10|Group[786]|PRE-VALIDATION\n",
      "pas de inédit |forward|trigger|negated|10|Group[786]|PRE-VALIDATION\n",
      "pas de nouveauté |forward|trigger|negated|10|Group[786]|PRE-VALIDATION\n",
      "pas de naissant |forward|trigger|negated|10|Group[786]|PRE-VALIDATION\n",
      "pas de commençant |forward|trigger|negated|10|Group[786]|PRE-VALIDATION\n",
      "pas de nouvelle |forward|trigger|negated|10|Group[786]|PRE-VALIDATION\n",
      "pas de récente |forward|trigger|negated|10|Group[786]|PRE-VALIDATION\n",
      "pas de jeunes |forward|trigger|negated|10|Group[786]|PRE-VALIDATION\n",
      "pas de nouvel |forward|trigger|negated|10|Group[786]|PRE-VALIDATION\n"
     ]
    }
   ],
   "source": [
    "from nltk.parse.generate import generate, demo_grammar\n",
    "from nltk import CFG\n",
    "\n",
    "cfg_grammar= \"\"\"\n",
    "S ->  Adverb1 Adposition2 Noun3 Trigger_Rule\n",
    "Adverb1 -> \"pas\"\n",
    "Adposition2 -> \"de\"\n",
    "Noun3 -> \"nouveau\" | \"récent\" | \"original\" | \"inédit\" | \"nouveauté\" | \"naissant\" | \"commençant\" | \"nouvelle\" | \"récente\" | \"jeunes\" | \"nouvel\"\n",
    "Trigger_Rule -> \"|forward|trigger|negated|10|Group[786]|PRE-VALIDATION\"\n",
    "\"\"\"\n",
    "\n",
    "for sentence in generate(CFG.fromstring(cfg_grammar), n=1000):\n",
    "    print(' '.join(sentence))"
   ]
  },
  {
   "cell_type": "code",
   "execution_count": 49,
   "metadata": {},
   "outputs": [
    {
     "name": "stdout",
     "output_type": "stream",
     "text": [
      "aucune autre preuve |forward|trigger|negated|10|Group[788]|PRE-VALIDATION\n",
      "aucune autre témoignage |forward|trigger|negated|10|Group[788]|PRE-VALIDATION\n",
      "aucune autre justification |forward|trigger|negated|10|Group[788]|PRE-VALIDATION\n",
      "aucune autre démonstration |forward|trigger|negated|10|Group[788]|PRE-VALIDATION\n",
      "aucune autre gage |forward|trigger|negated|10|Group[788]|PRE-VALIDATION\n",
      "aucune autre conviction |forward|trigger|negated|10|Group[788]|PRE-VALIDATION\n",
      "aucune autre argument |forward|trigger|negated|10|Group[788]|PRE-VALIDATION\n",
      "aucune autre constatation |forward|trigger|negated|10|Group[788]|PRE-VALIDATION\n",
      "aucune autre confirmation |forward|trigger|negated|10|Group[788]|PRE-VALIDATION\n",
      "aucune autre critère |forward|trigger|negated|10|Group[788]|PRE-VALIDATION\n",
      "aucune autre signe |forward|trigger|negated|10|Group[788]|PRE-VALIDATION\n",
      "aucune autre motif |forward|trigger|negated|10|Group[788]|PRE-VALIDATION\n",
      "aucune autre assurance |forward|trigger|negated|10|Group[788]|PRE-VALIDATION\n",
      "aucune autre fondement |forward|trigger|negated|10|Group[788]|PRE-VALIDATION\n",
      "aucune autre évidence |forward|trigger|negated|10|Group[788]|PRE-VALIDATION\n"
     ]
    }
   ],
   "source": [
    "from nltk.parse.generate import generate, demo_grammar\n",
    "from nltk import CFG\n",
    "\n",
    "cfg_grammar= \"\"\"\n",
    "S ->  Determiner1 Adjective2 Noun3 Trigger_Rule\n",
    "Determiner1 -> \"aucune\"\n",
    "Adjective2 -> \"autre\"\n",
    "Noun3 -> \"preuve\" | \"témoignage\" | \"justification\" | \"démonstration\" | \"gage\" | \"conviction\" | \"argument\" | \"constatation\" | \"confirmation\" | \"critère\" | \"signe\" | \"motif\" | \"assurance\" | \"fondement\" | \"évidence\"\n",
    "Trigger_Rule -> \"|forward|trigger|negated|10|Group[788]|PRE-VALIDATION\"\n",
    "\"\"\"\n",
    "\n",
    "for sentence in generate(CFG.fromstring(cfg_grammar), n=1000):\n",
    "    print(' '.join(sentence))"
   ]
  },
  {
   "cell_type": "code",
   "execution_count": 50,
   "metadata": {},
   "outputs": [
    {
     "name": "stdout",
     "output_type": "stream",
     "text": [
      "pas d'autres symptômes de |forward|trigger|negated|10|Group[790]|PRE-VALIDATION\n",
      "pas d'autres marque de |forward|trigger|negated|10|Group[790]|PRE-VALIDATION\n",
      "pas d'autres indice de |forward|trigger|negated|10|Group[790]|PRE-VALIDATION\n",
      "pas d'autres manifestation de |forward|trigger|negated|10|Group[790]|PRE-VALIDATION\n",
      "pas d'autres présage de |forward|trigger|negated|10|Group[790]|PRE-VALIDATION\n",
      "pas d'autres prodrome de |forward|trigger|negated|10|Group[790]|PRE-VALIDATION\n",
      "pas d'autres syndrome de |forward|trigger|negated|10|Group[790]|PRE-VALIDATION\n",
      "pas d'autres diagnostique de |forward|trigger|negated|10|Group[790]|PRE-VALIDATION\n",
      "pas d'autres stigmate de |forward|trigger|negated|10|Group[790]|PRE-VALIDATION\n",
      "pas d'autres signal de |forward|trigger|negated|10|Group[790]|PRE-VALIDATION\n",
      "pas d'autres signe prognostique de |forward|trigger|negated|10|Group[790]|PRE-VALIDATION\n",
      "pas d'autres signe avant-coureur de |forward|trigger|negated|10|Group[790]|PRE-VALIDATION\n",
      "pas d'autres diagnostic de |forward|trigger|negated|10|Group[790]|PRE-VALIDATION\n",
      "pas d'autres symptôme de |forward|trigger|negated|10|Group[790]|PRE-VALIDATION\n",
      "pas d'autres affection de |forward|trigger|negated|10|Group[790]|PRE-VALIDATION\n"
     ]
    }
   ],
   "source": [
    "from nltk.parse.generate import generate, demo_grammar\n",
    "from nltk import CFG\n",
    "\n",
    "cfg_grammar= \"\"\"\n",
    "S ->  Adverb1 Adjective3 Noun4 Adposition5 Trigger_Rule\n",
    "Adverb1 -> \"pas\"\n",
    "Adjective3 -> \"d'autres\"\n",
    "Noun4 -> \"symptômes\" | \"marque\" | \"indice\" | \"manifestation\" | \"présage\" | \"prodrome\" | \"syndrome\" | \"diagnostique\" | \"stigmate\" | \"signal\" | \"signe prognostique\" | \"signe avant-coureur\" | \"diagnostic\" | \"symptôme\" | \"affection\"\n",
    "Adposition5 -> \"de\"\n",
    "Trigger_Rule -> \"|forward|trigger|negated|10|Group[790]|PRE-VALIDATION\"\n",
    "\"\"\"\n",
    "\n",
    "for sentence in generate(CFG.fromstring(cfg_grammar), n=1000):\n",
    "    print(' '.join(sentence))"
   ]
  },
  {
   "cell_type": "code",
   "execution_count": 51,
   "metadata": {},
   "outputs": [
    {
     "name": "stdout",
     "output_type": "stream",
     "text": [
      "aucun autre |forward|trigger|negated|10|Group[792]|PRE-VALIDATION\n"
     ]
    }
   ],
   "source": [
    "from nltk.parse.generate import generate, demo_grammar\n",
    "from nltk import CFG\n",
    "\n",
    "cfg_grammar= \"\"\"\n",
    "S ->  Determiner1 Adjective2 Trigger_Rule\n",
    "Determiner1 -> \"aucun\"\n",
    "Adjective2 -> \"autre\"\n",
    "Trigger_Rule -> \"|forward|trigger|negated|10|Group[792]|PRE-VALIDATION\"\n",
    "\"\"\"\n",
    "\n",
    "for sentence in generate(CFG.fromstring(cfg_grammar), n=1000):\n",
    "    print(' '.join(sentence))"
   ]
  },
  {
   "cell_type": "code",
   "execution_count": 52,
   "metadata": {},
   "outputs": [
    {
     "name": "stdout",
     "output_type": "stream",
     "text": [
      "pas de problèmes avec |forward|trigger|negated|10|Group[794]|PRE-VALIDATION\n",
      "pas de question avec |forward|trigger|negated|10|Group[794]|PRE-VALIDATION\n",
      "pas de ennui avec |forward|trigger|negated|10|Group[794]|PRE-VALIDATION\n",
      "pas de souci avec |forward|trigger|negated|10|Group[794]|PRE-VALIDATION\n",
      "pas de complication avec |forward|trigger|negated|10|Group[794]|PRE-VALIDATION\n",
      "pas de dysfonctionnement avec |forward|trigger|negated|10|Group[794]|PRE-VALIDATION\n",
      "pas de disfonctionnement avec |forward|trigger|negated|10|Group[794]|PRE-VALIDATION\n",
      "pas de soucis avec |forward|trigger|negated|10|Group[794]|PRE-VALIDATION\n",
      "pas de tracas avec |forward|trigger|negated|10|Group[794]|PRE-VALIDATION\n",
      "pas de problème avec |forward|trigger|negated|10|Group[794]|PRE-VALIDATION\n",
      "pas de incident avec |forward|trigger|negated|10|Group[794]|PRE-VALIDATION\n",
      "pas de couac avec |forward|trigger|negated|10|Group[794]|PRE-VALIDATION\n"
     ]
    }
   ],
   "source": [
    "from nltk.parse.generate import generate, demo_grammar\n",
    "from nltk import CFG\n",
    "\n",
    "cfg_grammar= \"\"\"\n",
    "S ->  Adverb1 Determiner2 Noun3 Adposition4 Trigger_Rule\n",
    "Adverb1 -> \"pas\"\n",
    "Determiner2 -> \"de\"\n",
    "Noun3 -> \"problèmes\" | \"question\" | \"ennui\" | \"souci\" | \"complication\" | \"dysfonctionnement\" | \"disfonctionnement\" | \"soucis\" | \"tracas\" | \"problème\" | \"incident\" | \"couac\"\n",
    "Adposition4 -> \"avec\"\n",
    "Trigger_Rule -> \"|forward|trigger|negated|10|Group[794]|PRE-VALIDATION\"\n",
    "\"\"\"\n",
    "\n",
    "for sentence in generate(CFG.fromstring(cfg_grammar), n=1000):\n",
    "    print(' '.join(sentence))"
   ]
  },
  {
   "cell_type": "code",
   "execution_count": 53,
   "metadata": {},
   "outputs": [
    {
     "name": "stdout",
     "output_type": "stream",
     "text": [
      "aucune preuve radiographique de |forward|trigger|negated|10|Group[796]|PRE-VALIDATION\n",
      "aucune témoignage radiographique de |forward|trigger|negated|10|Group[796]|PRE-VALIDATION\n",
      "aucune justification radiographique de |forward|trigger|negated|10|Group[796]|PRE-VALIDATION\n",
      "aucune démonstration radiographique de |forward|trigger|negated|10|Group[796]|PRE-VALIDATION\n",
      "aucune gage radiographique de |forward|trigger|negated|10|Group[796]|PRE-VALIDATION\n",
      "aucune conviction radiographique de |forward|trigger|negated|10|Group[796]|PRE-VALIDATION\n",
      "aucune argument radiographique de |forward|trigger|negated|10|Group[796]|PRE-VALIDATION\n",
      "aucune constatation radiographique de |forward|trigger|negated|10|Group[796]|PRE-VALIDATION\n",
      "aucune confirmation radiographique de |forward|trigger|negated|10|Group[796]|PRE-VALIDATION\n",
      "aucune critère radiographique de |forward|trigger|negated|10|Group[796]|PRE-VALIDATION\n",
      "aucune signe radiographique de |forward|trigger|negated|10|Group[796]|PRE-VALIDATION\n",
      "aucune motif radiographique de |forward|trigger|negated|10|Group[796]|PRE-VALIDATION\n",
      "aucune assurance radiographique de |forward|trigger|negated|10|Group[796]|PRE-VALIDATION\n",
      "aucune fondement radiographique de |forward|trigger|negated|10|Group[796]|PRE-VALIDATION\n",
      "aucune évidence radiographique de |forward|trigger|negated|10|Group[796]|PRE-VALIDATION\n"
     ]
    }
   ],
   "source": [
    "from nltk.parse.generate import generate, demo_grammar\n",
    "from nltk import CFG\n",
    "\n",
    "cfg_grammar= \"\"\"\n",
    "S ->  Determiner1 Noun2 Adjective3 Adposition4 Trigger_Rule\n",
    "Determiner1 -> \"aucune\"\n",
    "Noun2 -> \"preuve\" | \"témoignage\" | \"justification\" | \"démonstration\" | \"gage\" | \"conviction\" | \"argument\" | \"constatation\" | \"confirmation\" | \"critère\" | \"signe\" | \"motif\" | \"assurance\" | \"fondement\" | \"évidence\"\n",
    "Adjective3 -> \"radiographique\"\n",
    "Adposition4 -> \"de\"\n",
    "Trigger_Rule -> \"|forward|trigger|negated|10|Group[796]|PRE-VALIDATION\"\n",
    "\"\"\"\n",
    "\n",
    "for sentence in generate(CFG.fromstring(cfg_grammar), n=1000):\n",
    "    print(' '.join(sentence))"
   ]
  },
  {
   "cell_type": "code",
   "execution_count": 54,
   "metadata": {},
   "outputs": [
    {
     "name": "stdout",
     "output_type": "stream",
     "text": [
      "pas récurrent |forward|trigger|negated|10|Group[798]|PRE-VALIDATION\n",
      "pas récidivant |forward|trigger|negated|10|Group[798]|PRE-VALIDATION\n",
      "pas séquentiel |forward|trigger|negated|10|Group[798]|PRE-VALIDATION\n",
      "pas répétitif |forward|trigger|negated|10|Group[798]|PRE-VALIDATION\n",
      "pas intermittent |forward|trigger|negated|10|Group[798]|PRE-VALIDATION\n",
      "pas pérenne |forward|trigger|negated|10|Group[798]|PRE-VALIDATION\n",
      "pas périodique |forward|trigger|negated|10|Group[798]|PRE-VALIDATION\n",
      "pas cyclique |forward|trigger|negated|10|Group[798]|PRE-VALIDATION\n",
      "pas répété |forward|trigger|negated|10|Group[798]|PRE-VALIDATION\n"
     ]
    }
   ],
   "source": [
    "from nltk.parse.generate import generate, demo_grammar\n",
    "from nltk import CFG\n",
    "\n",
    "cfg_grammar= \"\"\"\n",
    "S ->  Adverb1 Verb2 Trigger_Rule\n",
    "Adverb1 -> \"pas\"\n",
    "Verb2 -> \"récurrent\" | \"récidivant\" | \"séquentiel\" | \"répétitif\" | \"intermittent\" | \"pérenne\" | \"périodique\" | \"cyclique\" | \"répété\"\n",
    "Trigger_Rule -> \"|forward|trigger|negated|10|Group[798]|PRE-VALIDATION\"\n",
    "\"\"\"\n",
    "\n",
    "for sentence in generate(CFG.fromstring(cfg_grammar), n=1000):\n",
    "    print(' '.join(sentence))"
   ]
  },
  {
   "cell_type": "code",
   "execution_count": 55,
   "metadata": {},
   "outputs": [
    {
     "name": "stdout",
     "output_type": "stream",
     "text": [
      "aucune mention signalée |forward|trigger|negated|10|Group[800]|PRE-VALIDATION\n",
      "aucune évocation signalée |forward|trigger|negated|10|Group[800]|PRE-VALIDATION\n",
      "aucune notation signalée |forward|trigger|negated|10|Group[800]|PRE-VALIDATION\n",
      "aucune signalement signalée |forward|trigger|negated|10|Group[800]|PRE-VALIDATION\n",
      "aucune note signalée |forward|trigger|negated|10|Group[800]|PRE-VALIDATION\n",
      "aucune expression signalée |forward|trigger|negated|10|Group[800]|PRE-VALIDATION\n",
      "aucune référence signalée |forward|trigger|negated|10|Group[800]|PRE-VALIDATION\n",
      "aucune reflet signalée |forward|trigger|negated|10|Group[800]|PRE-VALIDATION\n",
      "aucune allusion signalée |forward|trigger|negated|10|Group[800]|PRE-VALIDATION\n"
     ]
    }
   ],
   "source": [
    "from nltk.parse.generate import generate, demo_grammar\n",
    "from nltk import CFG\n",
    "\n",
    "cfg_grammar= \"\"\"\n",
    "S ->  Determiner1 Noun2 Adjective3 Trigger_Rule\n",
    "Determiner1 -> \"aucune\"\n",
    "Noun2 -> \"mention\" | \"évocation\" | \"notation\" | \"signalement\" | \"note\" | \"expression\" | \"référence\" | \"reflet\" | \"allusion\"\n",
    "Adjective3 -> \"signalée\"\n",
    "Trigger_Rule -> \"|forward|trigger|negated|10|Group[800]|PRE-VALIDATION\"\n",
    "\"\"\"\n",
    "\n",
    "for sentence in generate(CFG.fromstring(cfg_grammar), n=1000):\n",
    "    print(' '.join(sentence))"
   ]
  },
  {
   "cell_type": "code",
   "execution_count": 56,
   "metadata": {},
   "outputs": [
    {
     "name": "stdout",
     "output_type": "stream",
     "text": [
      "non rapporté |forward|trigger|negated|10|Group[802]|PRE-VALIDATION\n",
      "non révéler |forward|trigger|negated|10|Group[802]|PRE-VALIDATION\n",
      "non exposer |forward|trigger|negated|10|Group[802]|PRE-VALIDATION\n",
      "non signaler |forward|trigger|negated|10|Group[802]|PRE-VALIDATION\n",
      "non mentionner |forward|trigger|negated|10|Group[802]|PRE-VALIDATION\n",
      "non dévoiler |forward|trigger|negated|10|Group[802]|PRE-VALIDATION\n",
      "non témoigner |forward|trigger|negated|10|Group[802]|PRE-VALIDATION\n"
     ]
    }
   ],
   "source": [
    "from nltk.parse.generate import generate, demo_grammar\n",
    "from nltk import CFG\n",
    "\n",
    "cfg_grammar= \"\"\"\n",
    "S ->  Adverb1 Verb2 Trigger_Rule\n",
    "Adverb1 -> \"non\"\n",
    "Verb2 -> \"rapporté\" | \"révéler\" | \"exposer\" | \"signaler\" | \"mentionner\" | \"dévoiler\" | \"témoigner\"\n",
    "Trigger_Rule -> \"|forward|trigger|negated|10|Group[802]|PRE-VALIDATION\"\n",
    "\"\"\"\n",
    "\n",
    "for sentence in generate(CFG.fromstring(cfg_grammar), n=1000):\n",
    "    print(' '.join(sentence))"
   ]
  },
  {
   "cell_type": "code",
   "execution_count": 57,
   "metadata": {},
   "outputs": [
    {
     "name": "stdout",
     "output_type": "stream",
     "text": [
      "pas de résidu |forward|trigger|negated|10|Group[804]|PRE-VALIDATION\n",
      "pas de reliquat |forward|trigger|negated|10|Group[804]|PRE-VALIDATION\n",
      "pas de déchet |forward|trigger|negated|10|Group[804]|PRE-VALIDATION\n",
      "pas de rebut |forward|trigger|negated|10|Group[804]|PRE-VALIDATION\n",
      "pas de débris |forward|trigger|negated|10|Group[804]|PRE-VALIDATION\n",
      "pas de excédent |forward|trigger|negated|10|Group[804]|PRE-VALIDATION\n",
      "pas de restes |forward|trigger|negated|10|Group[804]|PRE-VALIDATION\n"
     ]
    }
   ],
   "source": [
    "from nltk.parse.generate import generate, demo_grammar\n",
    "from nltk import CFG\n",
    "\n",
    "cfg_grammar= \"\"\"\n",
    "S ->  Adverb1 Determiner2 Verb3 Trigger_Rule\n",
    "Adverb1 -> \"pas\"\n",
    "Determiner2 -> \"de\"\n",
    "Verb3 -> \"résidu\" | \"reliquat\" | \"déchet\" | \"rebut\" | \"débris\" | \"excédent\" | \"restes\"\n",
    "Trigger_Rule -> \"|forward|trigger|negated|10|Group[804]|PRE-VALIDATION\"\n",
    "\"\"\"\n",
    "\n",
    "for sentence in generate(CFG.fromstring(cfg_grammar), n=1000):\n",
    "    print(' '.join(sentence))"
   ]
  },
  {
   "cell_type": "code",
   "execution_count": 58,
   "metadata": {},
   "outputs": [
    {
     "name": "stdout",
     "output_type": "stream",
     "text": [
      "aucun signe de |forward|trigger|negated|10|Group[806]|PRE-VALIDATION\n",
      "aucun signal de |forward|trigger|negated|10|Group[806]|PRE-VALIDATION\n",
      "aucun indice de |forward|trigger|negated|10|Group[806]|PRE-VALIDATION\n",
      "aucun marque de |forward|trigger|negated|10|Group[806]|PRE-VALIDATION\n",
      "aucun preuve de |forward|trigger|negated|10|Group[806]|PRE-VALIDATION\n",
      "aucun indication de |forward|trigger|negated|10|Group[806]|PRE-VALIDATION\n",
      "aucun témoignage de |forward|trigger|negated|10|Group[806]|PRE-VALIDATION\n",
      "aucun manifestation de |forward|trigger|negated|10|Group[806]|PRE-VALIDATION\n",
      "aucun avertissement de |forward|trigger|negated|10|Group[806]|PRE-VALIDATION\n",
      "aucun trace de |forward|trigger|negated|10|Group[806]|PRE-VALIDATION\n",
      "aucun observation de |forward|trigger|negated|10|Group[806]|PRE-VALIDATION\n"
     ]
    }
   ],
   "source": [
    "from nltk.parse.generate import generate, demo_grammar\n",
    "from nltk import CFG\n",
    "\n",
    "cfg_grammar= \"\"\"\n",
    "S ->  Determiner1 Noun2 Adposition3 Trigger_Rule\n",
    "Determiner1 -> \"aucun\"\n",
    "Noun2 -> \"signe\" | \"signal\" | \"indice\" | \"marque\" | \"preuve\" | \"indication\" | \"témoignage\" | \"manifestation\" | \"avertissement\" | \"trace\" | \"observation\"\n",
    "Adposition3 -> \"de\"\n",
    "Trigger_Rule -> \"|forward|trigger|negated|10|Group[806]|PRE-VALIDATION\"\n",
    "\"\"\"\n",
    "\n",
    "for sentence in generate(CFG.fromstring(cfg_grammar), n=1000):\n",
    "    print(' '.join(sentence))"
   ]
  },
  {
   "cell_type": "code",
   "execution_count": 59,
   "metadata": {},
   "outputs": [
    {
     "name": "stdout",
     "output_type": "stream",
     "text": [
      "pas de changement significatif |both|pseudo|negated|10|Group[808]|PRE-VALIDATION\n",
      "pas de variation significatif |both|pseudo|negated|10|Group[808]|PRE-VALIDATION\n",
      "pas de altération significatif |both|pseudo|negated|10|Group[808]|PRE-VALIDATION\n",
      "pas de évolution significatif |both|pseudo|negated|10|Group[808]|PRE-VALIDATION\n",
      "pas de transformation significatif |both|pseudo|negated|10|Group[808]|PRE-VALIDATION\n",
      "pas de fluctuation significatif |both|pseudo|negated|10|Group[808]|PRE-VALIDATION\n",
      "pas de mutation significatif |both|pseudo|negated|10|Group[808]|PRE-VALIDATION\n",
      "pas de retournement significatif |both|pseudo|negated|10|Group[808]|PRE-VALIDATION\n",
      "pas de renversement significatif |both|pseudo|negated|10|Group[808]|PRE-VALIDATION\n",
      "pas de amélioration significatif |both|pseudo|negated|10|Group[808]|PRE-VALIDATION\n",
      "pas de revirement significatif |both|pseudo|negated|10|Group[808]|PRE-VALIDATION\n",
      "pas de transition significatif |both|pseudo|negated|10|Group[808]|PRE-VALIDATION\n",
      "pas de modulation significatif |both|pseudo|negated|10|Group[808]|PRE-VALIDATION\n",
      "pas de inflexion significatif |both|pseudo|negated|10|Group[808]|PRE-VALIDATION\n",
      "pas de différence significatif |both|pseudo|negated|10|Group[808]|PRE-VALIDATION\n"
     ]
    }
   ],
   "source": [
    "from nltk.parse.generate import generate, demo_grammar\n",
    "from nltk import CFG\n",
    "\n",
    "cfg_grammar= \"\"\"\n",
    "S ->  Adverb1 Determiner2 Noun3 Adjective4 Trigger_Rule\n",
    "Adverb1 -> \"pas\"\n",
    "Determiner2 -> \"de\"\n",
    "Noun3 -> \"changement\" | \"variation\" | \"altération\" | \"évolution\" | \"transformation\" | \"fluctuation\" | \"mutation\" | \"retournement\" | \"renversement\" | \"amélioration\" | \"revirement\" | \"transition\" | \"modulation\" | \"inflexion\" | \"différence\"\n",
    "Adjective4 -> \"significatif\"\n",
    "Trigger_Rule -> \"|both|pseudo|negated|10|Group[808]|PRE-VALIDATION\"\n",
    "\"\"\"\n",
    "\n",
    "for sentence in generate(CFG.fromstring(cfg_grammar), n=1000):\n",
    "    print(' '.join(sentence))"
   ]
  },
  {
   "cell_type": "code",
   "execution_count": 60,
   "metadata": {},
   "outputs": [
    {
     "name": "stdout",
     "output_type": "stream",
     "text": [
      "pas de changement d'intervalle significatif |both|pseudo|negated|10|Group[809]|PRE-VALIDATION\n",
      "pas de changement période significatif |both|pseudo|negated|10|Group[809]|PRE-VALIDATION\n",
      "pas de changement moment significatif |both|pseudo|negated|10|Group[809]|PRE-VALIDATION\n",
      "pas de changement plage de temps significatif |both|pseudo|negated|10|Group[809]|PRE-VALIDATION\n",
      "pas de changement fenêtre significatif |both|pseudo|negated|10|Group[809]|PRE-VALIDATION\n",
      "pas de changement créneau significatif |both|pseudo|negated|10|Group[809]|PRE-VALIDATION\n",
      "pas de variation d'intervalle significatif |both|pseudo|negated|10|Group[809]|PRE-VALIDATION\n",
      "pas de variation période significatif |both|pseudo|negated|10|Group[809]|PRE-VALIDATION\n",
      "pas de variation moment significatif |both|pseudo|negated|10|Group[809]|PRE-VALIDATION\n",
      "pas de variation plage de temps significatif |both|pseudo|negated|10|Group[809]|PRE-VALIDATION\n",
      "pas de variation fenêtre significatif |both|pseudo|negated|10|Group[809]|PRE-VALIDATION\n",
      "pas de variation créneau significatif |both|pseudo|negated|10|Group[809]|PRE-VALIDATION\n",
      "pas de altération d'intervalle significatif |both|pseudo|negated|10|Group[809]|PRE-VALIDATION\n",
      "pas de altération période significatif |both|pseudo|negated|10|Group[809]|PRE-VALIDATION\n",
      "pas de altération moment significatif |both|pseudo|negated|10|Group[809]|PRE-VALIDATION\n",
      "pas de altération plage de temps significatif |both|pseudo|negated|10|Group[809]|PRE-VALIDATION\n",
      "pas de altération fenêtre significatif |both|pseudo|negated|10|Group[809]|PRE-VALIDATION\n",
      "pas de altération créneau significatif |both|pseudo|negated|10|Group[809]|PRE-VALIDATION\n",
      "pas de évolution d'intervalle significatif |both|pseudo|negated|10|Group[809]|PRE-VALIDATION\n",
      "pas de évolution période significatif |both|pseudo|negated|10|Group[809]|PRE-VALIDATION\n",
      "pas de évolution moment significatif |both|pseudo|negated|10|Group[809]|PRE-VALIDATION\n",
      "pas de évolution plage de temps significatif |both|pseudo|negated|10|Group[809]|PRE-VALIDATION\n",
      "pas de évolution fenêtre significatif |both|pseudo|negated|10|Group[809]|PRE-VALIDATION\n",
      "pas de évolution créneau significatif |both|pseudo|negated|10|Group[809]|PRE-VALIDATION\n",
      "pas de transformation d'intervalle significatif |both|pseudo|negated|10|Group[809]|PRE-VALIDATION\n",
      "pas de transformation période significatif |both|pseudo|negated|10|Group[809]|PRE-VALIDATION\n",
      "pas de transformation moment significatif |both|pseudo|negated|10|Group[809]|PRE-VALIDATION\n",
      "pas de transformation plage de temps significatif |both|pseudo|negated|10|Group[809]|PRE-VALIDATION\n",
      "pas de transformation fenêtre significatif |both|pseudo|negated|10|Group[809]|PRE-VALIDATION\n",
      "pas de transformation créneau significatif |both|pseudo|negated|10|Group[809]|PRE-VALIDATION\n",
      "pas de fluctuation d'intervalle significatif |both|pseudo|negated|10|Group[809]|PRE-VALIDATION\n",
      "pas de fluctuation période significatif |both|pseudo|negated|10|Group[809]|PRE-VALIDATION\n",
      "pas de fluctuation moment significatif |both|pseudo|negated|10|Group[809]|PRE-VALIDATION\n",
      "pas de fluctuation plage de temps significatif |both|pseudo|negated|10|Group[809]|PRE-VALIDATION\n",
      "pas de fluctuation fenêtre significatif |both|pseudo|negated|10|Group[809]|PRE-VALIDATION\n",
      "pas de fluctuation créneau significatif |both|pseudo|negated|10|Group[809]|PRE-VALIDATION\n",
      "pas de mutation d'intervalle significatif |both|pseudo|negated|10|Group[809]|PRE-VALIDATION\n",
      "pas de mutation période significatif |both|pseudo|negated|10|Group[809]|PRE-VALIDATION\n",
      "pas de mutation moment significatif |both|pseudo|negated|10|Group[809]|PRE-VALIDATION\n",
      "pas de mutation plage de temps significatif |both|pseudo|negated|10|Group[809]|PRE-VALIDATION\n",
      "pas de mutation fenêtre significatif |both|pseudo|negated|10|Group[809]|PRE-VALIDATION\n",
      "pas de mutation créneau significatif |both|pseudo|negated|10|Group[809]|PRE-VALIDATION\n",
      "pas de retournement d'intervalle significatif |both|pseudo|negated|10|Group[809]|PRE-VALIDATION\n",
      "pas de retournement période significatif |both|pseudo|negated|10|Group[809]|PRE-VALIDATION\n",
      "pas de retournement moment significatif |both|pseudo|negated|10|Group[809]|PRE-VALIDATION\n",
      "pas de retournement plage de temps significatif |both|pseudo|negated|10|Group[809]|PRE-VALIDATION\n",
      "pas de retournement fenêtre significatif |both|pseudo|negated|10|Group[809]|PRE-VALIDATION\n",
      "pas de retournement créneau significatif |both|pseudo|negated|10|Group[809]|PRE-VALIDATION\n",
      "pas de renversement d'intervalle significatif |both|pseudo|negated|10|Group[809]|PRE-VALIDATION\n",
      "pas de renversement période significatif |both|pseudo|negated|10|Group[809]|PRE-VALIDATION\n",
      "pas de renversement moment significatif |both|pseudo|negated|10|Group[809]|PRE-VALIDATION\n",
      "pas de renversement plage de temps significatif |both|pseudo|negated|10|Group[809]|PRE-VALIDATION\n",
      "pas de renversement fenêtre significatif |both|pseudo|negated|10|Group[809]|PRE-VALIDATION\n",
      "pas de renversement créneau significatif |both|pseudo|negated|10|Group[809]|PRE-VALIDATION\n",
      "pas de amélioration d'intervalle significatif |both|pseudo|negated|10|Group[809]|PRE-VALIDATION\n",
      "pas de amélioration période significatif |both|pseudo|negated|10|Group[809]|PRE-VALIDATION\n",
      "pas de amélioration moment significatif |both|pseudo|negated|10|Group[809]|PRE-VALIDATION\n",
      "pas de amélioration plage de temps significatif |both|pseudo|negated|10|Group[809]|PRE-VALIDATION\n",
      "pas de amélioration fenêtre significatif |both|pseudo|negated|10|Group[809]|PRE-VALIDATION\n",
      "pas de amélioration créneau significatif |both|pseudo|negated|10|Group[809]|PRE-VALIDATION\n",
      "pas de revirement d'intervalle significatif |both|pseudo|negated|10|Group[809]|PRE-VALIDATION\n",
      "pas de revirement période significatif |both|pseudo|negated|10|Group[809]|PRE-VALIDATION\n",
      "pas de revirement moment significatif |both|pseudo|negated|10|Group[809]|PRE-VALIDATION\n",
      "pas de revirement plage de temps significatif |both|pseudo|negated|10|Group[809]|PRE-VALIDATION\n",
      "pas de revirement fenêtre significatif |both|pseudo|negated|10|Group[809]|PRE-VALIDATION\n",
      "pas de revirement créneau significatif |both|pseudo|negated|10|Group[809]|PRE-VALIDATION\n",
      "pas de transition d'intervalle significatif |both|pseudo|negated|10|Group[809]|PRE-VALIDATION\n",
      "pas de transition période significatif |both|pseudo|negated|10|Group[809]|PRE-VALIDATION\n",
      "pas de transition moment significatif |both|pseudo|negated|10|Group[809]|PRE-VALIDATION\n",
      "pas de transition plage de temps significatif |both|pseudo|negated|10|Group[809]|PRE-VALIDATION\n",
      "pas de transition fenêtre significatif |both|pseudo|negated|10|Group[809]|PRE-VALIDATION\n",
      "pas de transition créneau significatif |both|pseudo|negated|10|Group[809]|PRE-VALIDATION\n",
      "pas de modulation d'intervalle significatif |both|pseudo|negated|10|Group[809]|PRE-VALIDATION\n",
      "pas de modulation période significatif |both|pseudo|negated|10|Group[809]|PRE-VALIDATION\n",
      "pas de modulation moment significatif |both|pseudo|negated|10|Group[809]|PRE-VALIDATION\n",
      "pas de modulation plage de temps significatif |both|pseudo|negated|10|Group[809]|PRE-VALIDATION\n",
      "pas de modulation fenêtre significatif |both|pseudo|negated|10|Group[809]|PRE-VALIDATION\n",
      "pas de modulation créneau significatif |both|pseudo|negated|10|Group[809]|PRE-VALIDATION\n",
      "pas de inflexion d'intervalle significatif |both|pseudo|negated|10|Group[809]|PRE-VALIDATION\n",
      "pas de inflexion période significatif |both|pseudo|negated|10|Group[809]|PRE-VALIDATION\n",
      "pas de inflexion moment significatif |both|pseudo|negated|10|Group[809]|PRE-VALIDATION\n",
      "pas de inflexion plage de temps significatif |both|pseudo|negated|10|Group[809]|PRE-VALIDATION\n",
      "pas de inflexion fenêtre significatif |both|pseudo|negated|10|Group[809]|PRE-VALIDATION\n",
      "pas de inflexion créneau significatif |both|pseudo|negated|10|Group[809]|PRE-VALIDATION\n",
      "pas de différence d'intervalle significatif |both|pseudo|negated|10|Group[809]|PRE-VALIDATION\n",
      "pas de différence période significatif |both|pseudo|negated|10|Group[809]|PRE-VALIDATION\n",
      "pas de différence moment significatif |both|pseudo|negated|10|Group[809]|PRE-VALIDATION\n",
      "pas de différence plage de temps significatif |both|pseudo|negated|10|Group[809]|PRE-VALIDATION\n",
      "pas de différence fenêtre significatif |both|pseudo|negated|10|Group[809]|PRE-VALIDATION\n",
      "pas de différence créneau significatif |both|pseudo|negated|10|Group[809]|PRE-VALIDATION\n"
     ]
    }
   ],
   "source": [
    "from nltk.parse.generate import generate, demo_grammar\n",
    "from nltk import CFG\n",
    "\n",
    "cfg_grammar= \"\"\"\n",
    "S ->  Adverb1 Determiner2 Noun3 Noun5 Adjective6 Trigger_Rule\n",
    "Adverb1 -> \"pas\"\n",
    "Determiner2 -> \"de\"\n",
    "Noun3 -> \"changement\" | \"variation\" | \"altération\" | \"évolution\" | \"transformation\" | \"fluctuation\" | \"mutation\" | \"retournement\" | \"renversement\" | \"amélioration\" | \"revirement\" | \"transition\" | \"modulation\" | \"inflexion\" | \"différence\"\n",
    "Noun5 -> \"d'intervalle\" | \"période\" | \"moment\" | \"plage de temps\" | \"fenêtre\" | \"créneau\"\n",
    "Adjective6 -> \"significatif\"\n",
    "Trigger_Rule -> \"|both|pseudo|negated|10|Group[809]|PRE-VALIDATION\"\n",
    "\"\"\"\n",
    "\n",
    "for sentence in generate(CFG.fromstring(cfg_grammar), n=1000):\n",
    "    print(' '.join(sentence))"
   ]
  },
  {
   "cell_type": "code",
   "execution_count": 61,
   "metadata": {},
   "outputs": [
    {
     "name": "stdout",
     "output_type": "stream",
     "text": [
      "non significatif |forward|trigger|negated|10|Group[810]|PRE-VALIDATION\n"
     ]
    }
   ],
   "source": [
    "from nltk.parse.generate import generate, demo_grammar\n",
    "from nltk import CFG\n",
    "\n",
    "cfg_grammar= \"\"\"\n",
    "S ->  Adverb1 Adjective2 Trigger_Rule\n",
    "Adverb1 -> \"non\"\n",
    "Adjective2 -> \"significatif\"\n",
    "Trigger_Rule -> \"|forward|trigger|negated|10|Group[810]|PRE-VALIDATION\"\n",
    "\"\"\"\n",
    "\n",
    "for sentence in generate(CFG.fromstring(cfg_grammar), n=1000):\n",
    "    print(' '.join(sentence))"
   ]
  },
  {
   "cell_type": "code",
   "execution_count": 62,
   "metadata": {},
   "outputs": [
    {
     "name": "stdout",
     "output_type": "stream",
     "text": [
      "aucun signe ou symptôme de |forward|trigger|negated|10|Group[814]|PRE-VALIDATION\n",
      "aucun signal ou symptôme de |forward|trigger|negated|10|Group[814]|PRE-VALIDATION\n",
      "aucun indice ou symptôme de |forward|trigger|negated|10|Group[814]|PRE-VALIDATION\n",
      "aucun marque ou symptôme de |forward|trigger|negated|10|Group[814]|PRE-VALIDATION\n",
      "aucun preuve ou symptôme de |forward|trigger|negated|10|Group[814]|PRE-VALIDATION\n",
      "aucun indication ou symptôme de |forward|trigger|negated|10|Group[814]|PRE-VALIDATION\n",
      "aucun témoignage ou symptôme de |forward|trigger|negated|10|Group[814]|PRE-VALIDATION\n",
      "aucun manifestation ou symptôme de |forward|trigger|negated|10|Group[814]|PRE-VALIDATION\n",
      "aucun avertissement ou symptôme de |forward|trigger|negated|10|Group[814]|PRE-VALIDATION\n",
      "aucun trace ou symptôme de |forward|trigger|negated|10|Group[814]|PRE-VALIDATION\n",
      "aucun observation ou symptôme de |forward|trigger|negated|10|Group[814]|PRE-VALIDATION\n"
     ]
    }
   ],
   "source": [
    "from nltk.parse.generate import generate, demo_grammar\n",
    "from nltk import CFG\n",
    "\n",
    "cfg_grammar= \"\"\"\n",
    "S ->  Determiner1 Noun2 Coordinating_conjunction3 Noun4 Adposition5 Trigger_Rule\n",
    "Determiner1 -> \"aucun\"\n",
    "Noun2 -> \"signe\" | \"signal\" | \"indice\" | \"marque\" | \"preuve\" | \"indication\" | \"témoignage\" | \"manifestation\" | \"avertissement\" | \"trace\" | \"observation\"\n",
    "Coordinating_conjunction3 -> \"ou\"\n",
    "Noun4 -> \"symptôme\"\n",
    "Adposition5 -> \"de\"\n",
    "Trigger_Rule -> \"|forward|trigger|negated|10|Group[814]|PRE-VALIDATION\"\n",
    "\"\"\"\n",
    "\n",
    "for sentence in generate(CFG.fromstring(cfg_grammar), n=1000):\n",
    "    print(' '.join(sentence))"
   ]
  },
  {
   "cell_type": "code",
   "execution_count": 63,
   "metadata": {},
   "outputs": [
    {
     "name": "stdout",
     "output_type": "stream",
     "text": [
      "pas de signe |forward|trigger|negated|10|Group[816]|PRE-VALIDATION\n",
      "pas de signal |forward|trigger|negated|10|Group[816]|PRE-VALIDATION\n",
      "pas de indice |forward|trigger|negated|10|Group[816]|PRE-VALIDATION\n",
      "pas de marque |forward|trigger|negated|10|Group[816]|PRE-VALIDATION\n",
      "pas de preuve |forward|trigger|negated|10|Group[816]|PRE-VALIDATION\n",
      "pas de indication |forward|trigger|negated|10|Group[816]|PRE-VALIDATION\n",
      "pas de témoignage |forward|trigger|negated|10|Group[816]|PRE-VALIDATION\n",
      "pas de manifestation |forward|trigger|negated|10|Group[816]|PRE-VALIDATION\n",
      "pas de avertissement |forward|trigger|negated|10|Group[816]|PRE-VALIDATION\n",
      "pas de trace |forward|trigger|negated|10|Group[816]|PRE-VALIDATION\n",
      "pas de observation |forward|trigger|negated|10|Group[816]|PRE-VALIDATION\n"
     ]
    }
   ],
   "source": [
    "from nltk.parse.generate import generate, demo_grammar\n",
    "from nltk import CFG\n",
    "\n",
    "cfg_grammar= \"\"\"\n",
    "S ->  Adverb1 Determiner2 Noun3 Trigger_Rule\n",
    "Adverb1 -> \"pas\"\n",
    "Determiner2 -> \"de\"\n",
    "Noun3 -> \"signe\" | \"signal\" | \"indice\" | \"marque\" | \"preuve\" | \"indication\" | \"témoignage\" | \"manifestation\" | \"avertissement\" | \"trace\" | \"observation\"\n",
    "Trigger_Rule -> \"|forward|trigger|negated|10|Group[816]|PRE-VALIDATION\"\n",
    "\"\"\"\n",
    "\n",
    "for sentence in generate(CFG.fromstring(cfg_grammar), n=1000):\n",
    "    print(' '.join(sentence))"
   ]
  },
  {
   "cell_type": "code",
   "execution_count": 64,
   "metadata": {},
   "outputs": [
    {
     "name": "stdout",
     "output_type": "stream",
     "text": [
      "aucune suggestion de |forward|trigger|negated|10|Group[818]|PRE-VALIDATION\n",
      "aucune incitation de |forward|trigger|negated|10|Group[818]|PRE-VALIDATION\n",
      "aucune évocation de |forward|trigger|negated|10|Group[818]|PRE-VALIDATION\n",
      "aucune avertissement de |forward|trigger|negated|10|Group[818]|PRE-VALIDATION\n",
      "aucune rapprochement de |forward|trigger|negated|10|Group[818]|PRE-VALIDATION\n",
      "aucune indication de |forward|trigger|negated|10|Group[818]|PRE-VALIDATION\n"
     ]
    }
   ],
   "source": [
    "from nltk.parse.generate import generate, demo_grammar\n",
    "from nltk import CFG\n",
    "\n",
    "cfg_grammar= \"\"\"\n",
    "S ->  Determiner1 Noun2 Adposition3 Trigger_Rule\n",
    "Determiner1 -> \"aucune\"\n",
    "Noun2 -> \"suggestion\" | \"incitation\" | \"évocation\" | \"avertissement\" | \"rapprochement\" | \"indication\"\n",
    "Adposition3 -> \"de\"\n",
    "Trigger_Rule -> \"|forward|trigger|negated|10|Group[818]|PRE-VALIDATION\"\n",
    "\"\"\"\n",
    "\n",
    "for sentence in generate(CFG.fromstring(cfg_grammar), n=1000):\n",
    "    print(' '.join(sentence))"
   ]
  },
  {
   "cell_type": "code",
   "execution_count": 65,
   "metadata": {},
   "outputs": [
    {
     "name": "stdout",
     "output_type": "stream",
     "text": [
      "pas de changement suspect |both|pseudo|negated|10|Group[820]|PRE-VALIDATION\n"
     ]
    }
   ],
   "source": [
    "from nltk.parse.generate import generate, demo_grammar\n",
    "from nltk import CFG\n",
    "\n",
    "cfg_grammar= \"\"\"\n",
    "S ->  Adverb1 Determiner2 Adverb3 Adjective4 Trigger_Rule\n",
    "Adverb1 -> \"pas\"\n",
    "Determiner2 -> \"de\"\n",
    "Adverb3 -> \"changement\"\n",
    "Adjective4 -> \"suspect\"\n",
    "Trigger_Rule -> \"|both|pseudo|negated|10|Group[820]|PRE-VALIDATION\"\n",
    "\"\"\"\n",
    "\n",
    "for sentence in generate(CFG.fromstring(cfg_grammar), n=1000):\n",
    "    print(' '.join(sentence))"
   ]
  },
  {
   "cell_type": "code",
   "execution_count": 66,
   "metadata": {},
   "outputs": [
    {
     "name": "stdout",
     "output_type": "stream",
     "text": [
      "pas méfiant |forward|trigger|negated|10|Group[821]|PRE-VALIDATION\n"
     ]
    }
   ],
   "source": [
    "from nltk.parse.generate import generate, demo_grammar\n",
    "from nltk import CFG\n",
    "\n",
    "cfg_grammar= \"\"\"\n",
    "S ->  Adverb1 Adjective2 Trigger_Rule\n",
    "Adverb1 -> \"pas\"\n",
    "Adjective2 -> \"méfiant\"\n",
    "Trigger_Rule -> \"|forward|trigger|negated|10|Group[821]|PRE-VALIDATION\"\n",
    "\"\"\"\n",
    "\n",
    "for sentence in generate(CFG.fromstring(cfg_grammar), n=1000):\n",
    "    print(' '.join(sentence))"
   ]
  },
  {
   "cell_type": "code",
   "execution_count": 67,
   "metadata": {},
   "outputs": [
    {
     "name": "stdout",
     "output_type": "stream",
     "text": [
      "pas de sxs de |forward|trigger|negated|10|Group[823]|PRE-VALIDATION\n"
     ]
    }
   ],
   "source": [
    "from nltk.parse.generate import generate, demo_grammar\n",
    "from nltk import CFG\n",
    "\n",
    "cfg_grammar= \"\"\"\n",
    "S ->  Adverb1 Adposition2 Noun3 Adposition4 Trigger_Rule\n",
    "Adverb1 -> \"pas\"\n",
    "Adposition2 -> \"de\"\n",
    "Noun3 -> \"sxs\"\n",
    "Adposition4 -> \"de\"\n",
    "Trigger_Rule -> \"|forward|trigger|negated|10|Group[823]|PRE-VALIDATION\"\n",
    "\"\"\"\n",
    "\n",
    "for sentence in generate(CFG.fromstring(cfg_grammar), n=1000):\n",
    "    print(' '.join(sentence))"
   ]
  },
  {
   "cell_type": "code",
   "execution_count": 68,
   "metadata": {},
   "outputs": [
    {
     "name": "stdout",
     "output_type": "stream",
     "text": [
      "pas visible |forward|trigger|negated|10|Group[825]|PRE-VALIDATION\n"
     ]
    }
   ],
   "source": [
    "from nltk.parse.generate import generate, demo_grammar\n",
    "from nltk import CFG\n",
    "\n",
    "cfg_grammar= \"\"\"\n",
    "S ->  Adverb1 Adjective2 Trigger_Rule\n",
    "Adverb1 -> \"pas\"\n",
    "Adjective2 -> \"visible\"\n",
    "Trigger_Rule -> \"|forward|trigger|negated|10|Group[825]|PRE-VALIDATION\"\n",
    "\"\"\"\n",
    "\n",
    "for sentence in generate(CFG.fromstring(cfg_grammar), n=1000):\n",
    "    print(' '.join(sentence))"
   ]
  },
  {
   "cell_type": "code",
   "execution_count": 69,
   "metadata": {},
   "outputs": [
    {
     "name": "stdout",
     "output_type": "stream",
     "text": [
      "non diagnostique |backward|trigger|negated|10|Group[827]|PRE-VALIDATION\n"
     ]
    }
   ],
   "source": [
    "from nltk.parse.generate import generate, demo_grammar\n",
    "from nltk import CFG\n",
    "\n",
    "cfg_grammar= \"\"\"\n",
    "S ->  Adverb1 Adjective2 Trigger_Rule\n",
    "Adverb1 -> \"non\"\n",
    "Adjective2 -> \"diagnostique\"\n",
    "Trigger_Rule -> \"|backward|trigger|negated|10|Group[827]|PRE-VALIDATION\"\n",
    "\"\"\"\n",
    "\n",
    "for sentence in generate(CFG.fromstring(cfg_grammar), n=1000):\n",
    "    print(' '.join(sentence))"
   ]
  },
  {
   "cell_type": "code",
   "execution_count": 70,
   "metadata": {},
   "outputs": [
    {
     "name": "stdout",
     "output_type": "stream",
     "text": [
      "aucun |forward|trigger|negated|10|Group[829]|PRE-VALIDATION\n"
     ]
    }
   ],
   "source": [
    "from nltk.parse.generate import generate, demo_grammar\n",
    "from nltk import CFG\n",
    "\n",
    "cfg_grammar= \"\"\"\n",
    "S ->  Determiner1 Trigger_Rule\n",
    "Determiner1 -> \"aucun\"\n",
    "Trigger_Rule -> \"|forward|trigger|negated|10|Group[829]|PRE-VALIDATION\"\n",
    "\"\"\"\n",
    "\n",
    "for sentence in generate(CFG.fromstring(cfg_grammar), n=1000):\n",
    "    print(' '.join(sentence))"
   ]
  },
  {
   "cell_type": "code",
   "execution_count": 71,
   "metadata": {},
   "outputs": [
    {
     "name": "stdout",
     "output_type": "stream",
     "text": [
      "ni tout |forward|trigger|negated|10|Group[831]|PRE-VALIDATION\n"
     ]
    }
   ],
   "source": [
    "from nltk.parse.generate import generate, demo_grammar\n",
    "from nltk import CFG\n",
    "\n",
    "cfg_grammar= \"\"\"\n",
    "S ->  Coordinating_conjunction1 Adverb2 Trigger_Rule\n",
    "Coordinating_conjunction1 -> \"ni\"\n",
    "Adverb2 -> \"tout\"\n",
    "Trigger_Rule -> \"|forward|trigger|negated|10|Group[831]|PRE-VALIDATION\"\n",
    "\"\"\"\n",
    "\n",
    "for sentence in generate(CFG.fromstring(cfg_grammar), n=1000):\n",
    "    print(' '.join(sentence))"
   ]
  },
  {
   "cell_type": "code",
   "execution_count": 72,
   "metadata": {},
   "outputs": [
    {
     "name": "stdout",
     "output_type": "stream",
     "text": [
      "ni aucun |forward|trigger|negated|10|Group[833]|PRE-VALIDATION\n"
     ]
    }
   ],
   "source": [
    "from nltk.parse.generate import generate, demo_grammar\n",
    "from nltk import CFG\n",
    "\n",
    "cfg_grammar= \"\"\"\n",
    "S ->  Coordinating_conjunction1 Determiner2 Trigger_Rule\n",
    "Coordinating_conjunction1 -> \"ni\"\n",
    "Determiner2 -> \"aucun\"\n",
    "Trigger_Rule -> \"|forward|trigger|negated|10|Group[833]|PRE-VALIDATION\"\n",
    "\"\"\"\n",
    "\n",
    "for sentence in generate(CFG.fromstring(cfg_grammar), n=1000):\n",
    "    print(' '.join(sentence))"
   ]
  },
  {
   "cell_type": "code",
   "execution_count": 73,
   "metadata": {},
   "outputs": [
    {
     "name": "stdout",
     "output_type": "stream",
     "text": [
      "ni |forward|trigger|negated|10|Group[835]|PRE-VALIDATION\n"
     ]
    }
   ],
   "source": [
    "from nltk.parse.generate import generate, demo_grammar\n",
    "from nltk import CFG\n",
    "\n",
    "cfg_grammar= \"\"\"\n",
    "S ->  Coordinating_conjunction1 Trigger_Rule\n",
    "Coordinating_conjunction1 -> \"ni\"\n",
    "Trigger_Rule -> \"|forward|trigger|negated|10|Group[835]|PRE-VALIDATION\"\n",
    "\"\"\"\n",
    "\n",
    "for sentence in generate(CFG.fromstring(cfg_grammar), n=1000):\n",
    "    print(' '.join(sentence))"
   ]
  },
  {
   "cell_type": "code",
   "execution_count": 74,
   "metadata": {},
   "outputs": [
    {
     "name": "stdout",
     "output_type": "stream",
     "text": [
      "pas un courant |forward|trigger|negated|10|Group[837]|PRE-VALIDATION\n",
      "pas un habituel |forward|trigger|negated|10|Group[837]|PRE-VALIDATION\n",
      "pas un fréquent |forward|trigger|negated|10|Group[837]|PRE-VALIDATION\n",
      "pas un connu |forward|trigger|negated|10|Group[837]|PRE-VALIDATION\n",
      "pas un répandu |forward|trigger|negated|10|Group[837]|PRE-VALIDATION\n",
      "pas un normal |forward|trigger|negated|10|Group[837]|PRE-VALIDATION\n",
      "pas un classique |forward|trigger|negated|10|Group[837]|PRE-VALIDATION\n",
      "pas un présent |forward|trigger|negated|10|Group[837]|PRE-VALIDATION\n",
      "pas un commune |forward|trigger|negated|10|Group[837]|PRE-VALIDATION\n",
      "pas un régulier |forward|trigger|negated|10|Group[837]|PRE-VALIDATION\n",
      "pas un en cours |forward|trigger|negated|10|Group[837]|PRE-VALIDATION\n"
     ]
    }
   ],
   "source": [
    "from nltk.parse.generate import generate, demo_grammar\n",
    "from nltk import CFG\n",
    "\n",
    "cfg_grammar= \"\"\"\n",
    "S ->  Adverb1 Determiner2 Noun3 Trigger_Rule\n",
    "Adverb1 -> \"pas\"\n",
    "Determiner2 -> \"un\"\n",
    "Noun3 -> \"courant\" | \"habituel\" | \"fréquent\" | \"connu\" | \"répandu\" | \"normal\" | \"classique\" | \"présent\" | \"commune\" | \"régulier\" | \"en cours\"\n",
    "Trigger_Rule -> \"|forward|trigger|negated|10|Group[837]|PRE-VALIDATION\"\n",
    "\"\"\"\n",
    "\n",
    "for sentence in generate(CFG.fromstring(cfg_grammar), n=1000):\n",
    "    print(' '.join(sentence))"
   ]
  },
  {
   "cell_type": "code",
   "execution_count": 75,
   "metadata": {},
   "outputs": [
    {
     "name": "stdout",
     "output_type": "stream",
     "text": [
      "ne pas apparaître |forward|trigger|negated|10|Group[839]|PRE-VALIDATION\n",
      "ne pas paraître |forward|trigger|negated|10|Group[839]|PRE-VALIDATION\n",
      "ne pas survenir |forward|trigger|negated|10|Group[839]|PRE-VALIDATION\n",
      "ne pas ressortir |forward|trigger|negated|10|Group[839]|PRE-VALIDATION\n",
      "ne pas pointer |forward|trigger|negated|10|Group[839]|PRE-VALIDATION\n",
      "ne pas poindre |forward|trigger|negated|10|Group[839]|PRE-VALIDATION\n",
      "ne pas naître |forward|trigger|negated|10|Group[839]|PRE-VALIDATION\n",
      "ne pas transparaître |forward|trigger|negated|10|Group[839]|PRE-VALIDATION\n",
      "ne pas éclore |forward|trigger|negated|10|Group[839]|PRE-VALIDATION\n",
      "ne pas manifester |forward|trigger|negated|10|Group[839]|PRE-VALIDATION\n",
      "ne pas jaillir |forward|trigger|negated|10|Group[839]|PRE-VALIDATION\n",
      "ne pas révéler |forward|trigger|negated|10|Group[839]|PRE-VALIDATION\n",
      "ne pas dévoiler |forward|trigger|negated|10|Group[839]|PRE-VALIDATION\n",
      "ne pas sembler |forward|trigger|negated|10|Group[839]|PRE-VALIDATION\n",
      "ne pas résulter |forward|trigger|negated|10|Group[839]|PRE-VALIDATION\n"
     ]
    }
   ],
   "source": [
    "from nltk.parse.generate import generate, demo_grammar\n",
    "from nltk import CFG\n",
    "\n",
    "cfg_grammar= \"\"\"\n",
    "S ->  Adverb1 Adverb2 Verb3 Trigger_Rule\n",
    "Adverb1 -> \"ne\"\n",
    "Adverb2 -> \"pas\"\n",
    "Verb3 -> \"apparaître\" | \"paraître\" | \"survenir\" | \"ressortir\" | \"pointer\" | \"poindre\" | \"naître\" | \"transparaître\" | \"éclore\" | \"manifester\" | \"jaillir\" | \"révéler\" | \"dévoiler\" | \"sembler\" | \"résulter\"\n",
    "Trigger_Rule -> \"|forward|trigger|negated|10|Group[839]|PRE-VALIDATION\"\n",
    "\"\"\"\n",
    "\n",
    "for sentence in generate(CFG.fromstring(cfg_grammar), n=1000):\n",
    "    print(' '.join(sentence))"
   ]
  },
  {
   "cell_type": "code",
   "execution_count": 76,
   "metadata": {},
   "outputs": [
    {
     "name": "stdout",
     "output_type": "stream",
     "text": [
      "pas apprécier |forward|trigger|negated|10|Group[841]|PRE-VALIDATION\n"
     ]
    }
   ],
   "source": [
    "from nltk.parse.generate import generate, demo_grammar\n",
    "from nltk import CFG\n",
    "\n",
    "cfg_grammar= \"\"\"\n",
    "S ->  Adverb1 Adjective2 Trigger_Rule\n",
    "Adverb1 -> \"pas\"\n",
    "Adjective2 -> \"apprécier\"\n",
    "Trigger_Rule -> \"|forward|trigger|negated|10|Group[841]|PRE-VALIDATION\"\n",
    "\"\"\"\n",
    "\n",
    "for sentence in generate(CFG.fromstring(cfg_grammar), n=1000):\n",
    "    print(' '.join(sentence))"
   ]
  },
  {
   "cell_type": "code",
   "execution_count": 77,
   "metadata": {},
   "outputs": [
    {
     "name": "stdout",
     "output_type": "stream",
     "text": [
      "non associé à |forward|trigger|negated|10|Group[843]|PRE-VALIDATION\n",
      "non allié à |forward|trigger|negated|10|Group[843]|PRE-VALIDATION\n",
      "non réuni à |forward|trigger|negated|10|Group[843]|PRE-VALIDATION\n",
      "non affilié à |forward|trigger|negated|10|Group[843]|PRE-VALIDATION\n",
      "non lié à |forward|trigger|negated|10|Group[843]|PRE-VALIDATION\n",
      "non groupé à |forward|trigger|negated|10|Group[843]|PRE-VALIDATION\n",
      "non composé à |forward|trigger|negated|10|Group[843]|PRE-VALIDATION\n",
      "non mélangé à |forward|trigger|negated|10|Group[843]|PRE-VALIDATION\n",
      "non mêlé à |forward|trigger|negated|10|Group[843]|PRE-VALIDATION\n",
      "non assorti à |forward|trigger|negated|10|Group[843]|PRE-VALIDATION\n",
      "non joint à |forward|trigger|negated|10|Group[843]|PRE-VALIDATION\n",
      "non relié à |forward|trigger|negated|10|Group[843]|PRE-VALIDATION\n",
      "non conjoint à |forward|trigger|negated|10|Group[843]|PRE-VALIDATION\n"
     ]
    }
   ],
   "source": [
    "from nltk.parse.generate import generate, demo_grammar\n",
    "from nltk import CFG\n",
    "\n",
    "cfg_grammar= \"\"\"\n",
    "S ->  Adverb1 Verb2 Adposition3 Trigger_Rule\n",
    "Adverb1 -> \"non\"\n",
    "Verb2 -> \"associé\" | \"allié\" | \"réuni\" | \"affilié\" | \"lié\" | \"groupé\" | \"composé\" | \"mélangé\" | \"mêlé\" | \"assorti\" | \"joint\" | \"relié\" | \"conjoint\"\n",
    "Adposition3 -> \"à\"\n",
    "Trigger_Rule -> \"|forward|trigger|negated|10|Group[843]|PRE-VALIDATION\"\n",
    "\"\"\"\n",
    "\n",
    "for sentence in generate(CFG.fromstring(cfg_grammar), n=1000):\n",
    "    print(' '.join(sentence))"
   ]
  },
  {
   "cell_type": "code",
   "execution_count": 78,
   "metadata": {},
   "outputs": [
    {
     "name": "stdout",
     "output_type": "stream",
     "text": [
      "pas tenté donné |forward|termination|negated|10|Group[845]|PRE-VALIDATION\n",
      "pas tenté prescrit |forward|termination|negated|10|Group[845]|PRE-VALIDATION\n",
      "pas tenté administré |forward|termination|negated|10|Group[845]|PRE-VALIDATION\n",
      "pas tenté prodigué |forward|termination|negated|10|Group[845]|PRE-VALIDATION\n",
      "pas tenté appliqué |forward|termination|negated|10|Group[845]|PRE-VALIDATION\n",
      "pas tenté fait |forward|termination|negated|10|Group[845]|PRE-VALIDATION\n",
      "pas tenté indiqué |forward|termination|negated|10|Group[845]|PRE-VALIDATION\n",
      "pas tenté proposé |forward|termination|negated|10|Group[845]|PRE-VALIDATION\n",
      "pas tenté distribué |forward|termination|negated|10|Group[845]|PRE-VALIDATION\n",
      "pas tenté redonné |forward|termination|negated|10|Group[845]|PRE-VALIDATION\n",
      "pas tenté assené |forward|termination|negated|10|Group[845]|PRE-VALIDATION\n",
      "pas tenté employé |forward|termination|negated|10|Group[845]|PRE-VALIDATION\n",
      "pas tenté inoculé |forward|termination|negated|10|Group[845]|PRE-VALIDATION\n"
     ]
    }
   ],
   "source": [
    "from nltk.parse.generate import generate, demo_grammar\n",
    "from nltk import CFG\n",
    "\n",
    "cfg_grammar= \"\"\"\n",
    "S ->  Adverb1 Adjective2 Verb3 Trigger_Rule\n",
    "Adverb1 -> \"pas\"\n",
    "Adjective2 -> \"tenté\"\n",
    "Verb3 -> \"donné\" | \"prescrit\" | \"administré\" | \"prodigué\" | \"appliqué\" | \"fait\" | \"indiqué\" | \"proposé\" | \"distribué\" | \"redonné\" | \"assené\" | \"employé\" | \"inoculé\"\n",
    "Trigger_Rule -> \"|forward|termination|negated|10|Group[845]|PRE-VALIDATION\"\n",
    "\"\"\"\n",
    "\n",
    "for sentence in generate(CFG.fromstring(cfg_grammar), n=1000):\n",
    "    print(' '.join(sentence))"
   ]
  },
  {
   "cell_type": "code",
   "execution_count": 79,
   "metadata": {},
   "outputs": [
    {
     "name": "stdout",
     "output_type": "stream",
     "text": [
      "pas été exclu |backward|trigger|uncertain|30|Group[846]|PRE-VALIDATION\n",
      "pas été refusé |backward|trigger|uncertain|30|Group[846]|PRE-VALIDATION\n",
      "pas été repoussé |backward|trigger|uncertain|30|Group[846]|PRE-VALIDATION\n",
      "pas été rejeté |backward|trigger|uncertain|30|Group[846]|PRE-VALIDATION\n",
      "pas été éliminé |backward|trigger|uncertain|30|Group[846]|PRE-VALIDATION\n",
      "pas été proscrit |backward|trigger|uncertain|30|Group[846]|PRE-VALIDATION\n"
     ]
    }
   ],
   "source": [
    "from nltk.parse.generate import generate, demo_grammar\n",
    "from nltk import CFG\n",
    "\n",
    "cfg_grammar= \"\"\"\n",
    "S ->  Adverb1 Auxiliary2 Verb3 Trigger_Rule\n",
    "Adverb1 -> \"pas\"\n",
    "Auxiliary2 -> \"été\"\n",
    "Verb3 -> \"exclu\" | \"refusé\" | \"repoussé\" | \"rejeté\" | \"éliminé\" | \"proscrit\"\n",
    "Trigger_Rule -> \"|backward|trigger|uncertain|30|Group[846]|PRE-VALIDATION\"\n",
    "\"\"\"\n",
    "\n",
    "for sentence in generate(CFG.fromstring(cfg_grammar), n=1000):\n",
    "    print(' '.join(sentence))"
   ]
  },
  {
   "cell_type": "code",
   "execution_count": 80,
   "metadata": {},
   "outputs": [
    {
     "name": "stdout",
     "output_type": "stream",
     "text": [
      "pas causer |both|pseudo|negated|10|Group[847]|PRE-VALIDATION\n",
      "pas susciter |both|pseudo|negated|10|Group[847]|PRE-VALIDATION\n",
      "pas amener |both|pseudo|negated|10|Group[847]|PRE-VALIDATION\n",
      "pas entraîner |both|pseudo|negated|10|Group[847]|PRE-VALIDATION\n",
      "pas procurer |both|pseudo|negated|10|Group[847]|PRE-VALIDATION\n",
      "pas provoquer |both|pseudo|negated|10|Group[847]|PRE-VALIDATION\n",
      "pas occasionner |both|pseudo|negated|10|Group[847]|PRE-VALIDATION\n",
      "pas donner |both|pseudo|negated|10|Group[847]|PRE-VALIDATION\n",
      "pas engendrer |both|pseudo|negated|10|Group[847]|PRE-VALIDATION\n",
      "pas motiver |both|pseudo|negated|10|Group[847]|PRE-VALIDATION\n",
      "pas apporter |both|pseudo|negated|10|Group[847]|PRE-VALIDATION\n",
      "pas déterminer |both|pseudo|negated|10|Group[847]|PRE-VALIDATION\n",
      "pas créer |both|pseudo|negated|10|Group[847]|PRE-VALIDATION\n",
      "pas être cause de |both|pseudo|negated|10|Group[847]|PRE-VALIDATION\n",
      "pas déclencher |both|pseudo|negated|10|Group[847]|PRE-VALIDATION\n"
     ]
    }
   ],
   "source": [
    "from nltk.parse.generate import generate, demo_grammar\n",
    "from nltk import CFG\n",
    "\n",
    "cfg_grammar= \"\"\"\n",
    "S ->  Adverb1 Verb2 Trigger_Rule\n",
    "Adverb1 -> \"pas\"\n",
    "Verb2 -> \"causer\" | \"susciter\" | \"amener\" | \"entraîner\" | \"procurer\" | \"provoquer\" | \"occasionner\" | \"donner\" | \"engendrer\" | \"motiver\" | \"apporter\" | \"déterminer\" | \"créer\" | \"être cause de\" | \"déclencher\"\n",
    "Trigger_Rule -> \"|both|pseudo|negated|10|Group[847]|PRE-VALIDATION\"\n",
    "\"\"\"\n",
    "\n",
    "for sentence in generate(CFG.fromstring(cfg_grammar), n=1000):\n",
    "    print(' '.join(sentence))"
   ]
  },
  {
   "cell_type": "code",
   "execution_count": 81,
   "metadata": {},
   "outputs": [
    {
     "name": "stdout",
     "output_type": "stream",
     "text": [
      "pas certain si |both|pseudo|negated|10|Group[848]|PRE-VALIDATION\n"
     ]
    }
   ],
   "source": [
    "from nltk.parse.generate import generate, demo_grammar\n",
    "from nltk import CFG\n",
    "\n",
    "cfg_grammar= \"\"\"\n",
    "S ->  Adverb1 Adjective2 Subordinating_conjunction3 Trigger_Rule\n",
    "Adverb1 -> \"pas\"\n",
    "Adjective2 -> \"certain\"\n",
    "Subordinating_conjunction3 -> \"si\"\n",
    "Trigger_Rule -> \"|both|pseudo|negated|10|Group[848]|PRE-VALIDATION\"\n",
    "\"\"\"\n",
    "\n",
    "for sentence in generate(CFG.fromstring(cfg_grammar), n=1000):\n",
    "    print(' '.join(sentence))"
   ]
  },
  {
   "cell_type": "code",
   "execution_count": 82,
   "metadata": {},
   "outputs": [
    {
     "name": "stdout",
     "output_type": "stream",
     "text": [
      "pas se plaindre de |forward|trigger|negated|10|Group[850]|PRE-VALIDATION\n",
      "pas se apitoyer de |forward|trigger|negated|10|Group[850]|PRE-VALIDATION\n",
      "pas se lamenter de |forward|trigger|negated|10|Group[850]|PRE-VALIDATION\n",
      "pas se désoler de |forward|trigger|negated|10|Group[850]|PRE-VALIDATION\n"
     ]
    }
   ],
   "source": [
    "from nltk.parse.generate import generate, demo_grammar\n",
    "from nltk import CFG\n",
    "\n",
    "cfg_grammar= \"\"\"\n",
    "S ->  Adverb1 Pronoun2 Verb3 Adposition4 Trigger_Rule\n",
    "Adverb1 -> \"pas\"\n",
    "Pronoun2 -> \"se\"\n",
    "Verb3 -> \"plaindre\" | \"apitoyer\" | \"lamenter\" | \"désoler\"\n",
    "Adposition4 -> \"de\"\n",
    "Trigger_Rule -> \"|forward|trigger|negated|10|Group[850]|PRE-VALIDATION\"\n",
    "\"\"\"\n",
    "\n",
    "for sentence in generate(CFG.fromstring(cfg_grammar), n=1000):\n",
    "    print(' '.join(sentence))"
   ]
  },
  {
   "cell_type": "code",
   "execution_count": 83,
   "metadata": {},
   "outputs": [
    {
     "name": "stdout",
     "output_type": "stream",
     "text": [
      "Non courant |forward|trigger|negated|10|Group[852]|PRE-VALIDATION\n"
     ]
    }
   ],
   "source": [
    "from nltk.parse.generate import generate, demo_grammar\n",
    "from nltk import CFG\n",
    "\n",
    "cfg_grammar= \"\"\"\n",
    "S ->  Adverb1 Adjective2 Trigger_Rule\n",
    "Adverb1 -> \"Non\"\n",
    "Adjective2 -> \"courant\"\n",
    "Trigger_Rule -> \"|forward|trigger|negated|10|Group[852]|PRE-VALIDATION\"\n",
    "\"\"\"\n",
    "\n",
    "for sentence in generate(CFG.fromstring(cfg_grammar), n=1000):\n",
    "    print(' '.join(sentence))"
   ]
  },
  {
   "cell_type": "code",
   "execution_count": 84,
   "metadata": {},
   "outputs": [
    {
     "name": "stdout",
     "output_type": "stream",
     "text": [
      "pas démontrer |forward|trigger|negated|10|Group[854]|PRE-VALIDATION\n",
      "pas témoigner |forward|trigger|negated|10|Group[854]|PRE-VALIDATION\n",
      "pas prouver |forward|trigger|negated|10|Group[854]|PRE-VALIDATION\n",
      "pas attester |forward|trigger|negated|10|Group[854]|PRE-VALIDATION\n",
      "pas montrer |forward|trigger|negated|10|Group[854]|PRE-VALIDATION\n",
      "pas convaincre |forward|trigger|negated|10|Group[854]|PRE-VALIDATION\n",
      "pas indiquer |forward|trigger|negated|10|Group[854]|PRE-VALIDATION\n",
      "pas illustrer |forward|trigger|negated|10|Group[854]|PRE-VALIDATION\n",
      "pas établir |forward|trigger|negated|10|Group[854]|PRE-VALIDATION\n",
      "pas justifier |forward|trigger|negated|10|Group[854]|PRE-VALIDATION\n",
      "pas révéler |forward|trigger|negated|10|Group[854]|PRE-VALIDATION\n",
      "pas dévoiler |forward|trigger|negated|10|Group[854]|PRE-VALIDATION\n",
      "pas déduire |forward|trigger|negated|10|Group[854]|PRE-VALIDATION\n",
      "pas conclure |forward|trigger|negated|10|Group[854]|PRE-VALIDATION\n",
      "pas garantir |forward|trigger|negated|10|Group[854]|PRE-VALIDATION\n"
     ]
    }
   ],
   "source": [
    "from nltk.parse.generate import generate, demo_grammar\n",
    "from nltk import CFG\n",
    "\n",
    "cfg_grammar= \"\"\"\n",
    "S ->  Adverb1 Verb2 Trigger_Rule\n",
    "Adverb1 -> \"pas\"\n",
    "Verb2 -> \"démontrer\" | \"témoigner\" | \"prouver\" | \"attester\" | \"montrer\" | \"convaincre\" | \"indiquer\" | \"illustrer\" | \"établir\" | \"justifier\" | \"révéler\" | \"dévoiler\" | \"déduire\" | \"conclure\" | \"garantir\"\n",
    "Trigger_Rule -> \"|forward|trigger|negated|10|Group[854]|PRE-VALIDATION\"\n",
    "\"\"\"\n",
    "\n",
    "for sentence in generate(CFG.fromstring(cfg_grammar), n=1000):\n",
    "    print(' '.join(sentence))"
   ]
  },
  {
   "cell_type": "code",
   "execution_count": 85,
   "metadata": {},
   "outputs": [
    {
     "name": "stdout",
     "output_type": "stream",
     "text": [
      "pas drainer |both|pseudo|negated|10|Group[856]|PRE-VALIDATION\n",
      "pas assainir |both|pseudo|negated|10|Group[856]|PRE-VALIDATION\n",
      "pas dessécher |both|pseudo|negated|10|Group[856]|PRE-VALIDATION\n",
      "pas sécher |both|pseudo|negated|10|Group[856]|PRE-VALIDATION\n",
      "pas déshydrater |both|pseudo|negated|10|Group[856]|PRE-VALIDATION\n",
      "pas épuiser |both|pseudo|negated|10|Group[856]|PRE-VALIDATION\n",
      "pas étancher |both|pseudo|negated|10|Group[856]|PRE-VALIDATION\n"
     ]
    }
   ],
   "source": [
    "from nltk.parse.generate import generate, demo_grammar\n",
    "from nltk import CFG\n",
    "\n",
    "cfg_grammar= \"\"\"\n",
    "S ->  Adverb1 Verb2 Trigger_Rule\n",
    "Adverb1 -> \"pas\"\n",
    "Verb2 -> \"drainer\" | \"assainir\" | \"dessécher\" | \"sécher\" | \"déshydrater\" | \"épuiser\" | \"étancher\"\n",
    "Trigger_Rule -> \"|both|pseudo|negated|10|Group[856]|PRE-VALIDATION\"\n",
    "\"\"\"\n",
    "\n",
    "for sentence in generate(CFG.fromstring(cfg_grammar), n=1000):\n",
    "    print(' '.join(sentence))"
   ]
  },
  {
   "cell_type": "code",
   "execution_count": 86,
   "metadata": {},
   "outputs": [
    {
     "name": "stdout",
     "output_type": "stream",
     "text": [
      "ne pas exposer |forward|trigger|negated|10|Group[857]|PRE-VALIDATION\n",
      "ne pas présenter |forward|trigger|negated|10|Group[857]|PRE-VALIDATION\n",
      "ne pas raconter |forward|trigger|negated|10|Group[857]|PRE-VALIDATION\n",
      "ne pas expliquer |forward|trigger|negated|10|Group[857]|PRE-VALIDATION\n",
      "ne pas révéler |forward|trigger|negated|10|Group[857]|PRE-VALIDATION\n",
      "ne pas afficher |forward|trigger|negated|10|Group[857]|PRE-VALIDATION\n",
      "ne pas énoncer |forward|trigger|negated|10|Group[857]|PRE-VALIDATION\n",
      "ne pas relater |forward|trigger|negated|10|Group[857]|PRE-VALIDATION\n",
      "ne pas décrire |forward|trigger|negated|10|Group[857]|PRE-VALIDATION\n",
      "ne pas retracer |forward|trigger|negated|10|Group[857]|PRE-VALIDATION\n",
      "ne pas communiquer |forward|trigger|negated|10|Group[857]|PRE-VALIDATION\n",
      "ne pas exprimer |forward|trigger|negated|10|Group[857]|PRE-VALIDATION\n",
      "ne pas signaler |forward|trigger|negated|10|Group[857]|PRE-VALIDATION\n",
      "ne pas signifier |forward|trigger|negated|10|Group[857]|PRE-VALIDATION\n",
      "ne pas annoncer |forward|trigger|negated|10|Group[857]|PRE-VALIDATION\n"
     ]
    }
   ],
   "source": [
    "from nltk.parse.generate import generate, demo_grammar\n",
    "from nltk import CFG\n",
    "\n",
    "cfg_grammar= \"\"\"\n",
    "S ->  Adverb1 Adverb2 Verb3 Trigger_Rule\n",
    "Adverb1 -> \"ne\"\n",
    "Adverb2 -> \"pas\"\n",
    "Verb3 -> \"exposer\" | \"présenter\" | \"raconter\" | \"expliquer\" | \"révéler\" | \"afficher\" | \"énoncer\" | \"relater\" | \"décrire\" | \"retracer\" | \"communiquer\" | \"exprimer\" | \"signaler\" | \"signifier\" | \"annoncer\"\n",
    "Trigger_Rule -> \"|forward|trigger|negated|10|Group[857]|PRE-VALIDATION\"\n",
    "\"\"\"\n",
    "\n",
    "for sentence in generate(CFG.fromstring(cfg_grammar), n=1000):\n",
    "    print(' '.join(sentence))"
   ]
  },
  {
   "cell_type": "code",
   "execution_count": 87,
   "metadata": {},
   "outputs": [
    {
     "name": "stdout",
     "output_type": "stream",
     "text": [
      "pas étendre |both|pseudo|negated|10|Group[859]|PRE-VALIDATION\n",
      "pas augmenter |both|pseudo|negated|10|Group[859]|PRE-VALIDATION\n",
      "pas agrandir |both|pseudo|negated|10|Group[859]|PRE-VALIDATION\n",
      "pas développer |both|pseudo|negated|10|Group[859]|PRE-VALIDATION\n",
      "pas accroître |both|pseudo|negated|10|Group[859]|PRE-VALIDATION\n",
      "pas ajouter |both|pseudo|negated|10|Group[859]|PRE-VALIDATION\n",
      "pas allonger |both|pseudo|negated|10|Group[859]|PRE-VALIDATION\n",
      "pas élargir |both|pseudo|negated|10|Group[859]|PRE-VALIDATION\n",
      "pas propager |both|pseudo|negated|10|Group[859]|PRE-VALIDATION\n",
      "pas amplifier |both|pseudo|negated|10|Group[859]|PRE-VALIDATION\n",
      "pas grossir |both|pseudo|negated|10|Group[859]|PRE-VALIDATION\n",
      "pas prolonger |both|pseudo|negated|10|Group[859]|PRE-VALIDATION\n",
      "pas recouvrir |both|pseudo|negated|10|Group[859]|PRE-VALIDATION\n",
      "pas généraliser |both|pseudo|negated|10|Group[859]|PRE-VALIDATION\n",
      "pas s'agrandir |both|pseudo|negated|10|Group[859]|PRE-VALIDATION\n"
     ]
    }
   ],
   "source": [
    "from nltk.parse.generate import generate, demo_grammar\n",
    "from nltk import CFG\n",
    "\n",
    "cfg_grammar= \"\"\"\n",
    "S ->  Adverb1 Verb2 Trigger_Rule\n",
    "Adverb1 -> \"pas\"\n",
    "Verb2 -> \"étendre\" | \"augmenter\" | \"agrandir\" | \"développer\" | \"accroître\" | \"ajouter\" | \"allonger\" | \"élargir\" | \"propager\" | \"amplifier\" | \"grossir\" | \"prolonger\" | \"recouvrir\" | \"généraliser\" | \"s'agrandir\"\n",
    "Trigger_Rule -> \"|both|pseudo|negated|10|Group[859]|PRE-VALIDATION\"\n",
    "\"\"\"\n",
    "\n",
    "for sentence in generate(CFG.fromstring(cfg_grammar), n=1000):\n",
    "    print(' '.join(sentence))"
   ]
  },
  {
   "cell_type": "code",
   "execution_count": 88,
   "metadata": {},
   "outputs": [
    {
     "name": "stdout",
     "output_type": "stream",
     "text": [
      "ne pas ressentir |forward|trigger|negated|10|Group[860]|PRE-VALIDATION\n",
      "ne pas sentir |forward|trigger|negated|10|Group[860]|PRE-VALIDATION\n",
      "ne pas endurer |forward|trigger|negated|10|Group[860]|PRE-VALIDATION\n",
      "ne pas souffrir |forward|trigger|negated|10|Group[860]|PRE-VALIDATION\n",
      "ne pas subir |forward|trigger|negated|10|Group[860]|PRE-VALIDATION\n",
      "ne pas juger |forward|trigger|negated|10|Group[860]|PRE-VALIDATION\n",
      "ne pas croire |forward|trigger|negated|10|Group[860]|PRE-VALIDATION\n"
     ]
    }
   ],
   "source": [
    "from nltk.parse.generate import generate, demo_grammar\n",
    "from nltk import CFG\n",
    "\n",
    "cfg_grammar= \"\"\"\n",
    "S ->  Adverb1 Adverb2 Verb3 Trigger_Rule\n",
    "Adverb1 -> \"ne\"\n",
    "Adverb2 -> \"pas\"\n",
    "Verb3 -> \"ressentir\" | \"sentir\" | \"endurer\" | \"souffrir\" | \"subir\" | \"juger\" | \"croire\"\n",
    "Trigger_Rule -> \"|forward|trigger|negated|10|Group[860]|PRE-VALIDATION\"\n",
    "\"\"\"\n",
    "\n",
    "for sentence in generate(CFG.fromstring(cfg_grammar), n=1000):\n",
    "    print(' '.join(sentence))"
   ]
  },
  {
   "cell_type": "code",
   "execution_count": 89,
   "metadata": {},
   "outputs": [
    {
     "name": "stdout",
     "output_type": "stream",
     "text": [
      "pas eu |forward|trigger|negated|10|Group[862]|PRE-VALIDATION\n"
     ]
    }
   ],
   "source": [
    "from nltk.parse.generate import generate, demo_grammar\n",
    "from nltk import CFG\n",
    "\n",
    "cfg_grammar= \"\"\"\n",
    "S ->  Adverb1 Verb2 Trigger_Rule\n",
    "Adverb1 -> \"pas\"\n",
    "Verb2 -> \"eu\"\n",
    "Trigger_Rule -> \"|forward|trigger|negated|10|Group[862]|PRE-VALIDATION\"\n",
    "\"\"\"\n",
    "\n",
    "for sentence in generate(CFG.fromstring(cfg_grammar), n=1000):\n",
    "    print(' '.join(sentence))"
   ]
  },
  {
   "cell_type": "code",
   "execution_count": 90,
   "metadata": {},
   "outputs": [
    {
     "name": "stdout",
     "output_type": "stream",
     "text": [
      "ne pas avoir la preuve de |forward|trigger|negated|10|Group[864]|PRE-VALIDATION\n",
      "ne pas avoir la témoignage de |forward|trigger|negated|10|Group[864]|PRE-VALIDATION\n",
      "ne pas avoir la justification de |forward|trigger|negated|10|Group[864]|PRE-VALIDATION\n",
      "ne pas avoir la démonstration de |forward|trigger|negated|10|Group[864]|PRE-VALIDATION\n",
      "ne pas avoir la gage de |forward|trigger|negated|10|Group[864]|PRE-VALIDATION\n",
      "ne pas avoir la conviction de |forward|trigger|negated|10|Group[864]|PRE-VALIDATION\n",
      "ne pas avoir la argument de |forward|trigger|negated|10|Group[864]|PRE-VALIDATION\n",
      "ne pas avoir la constatation de |forward|trigger|negated|10|Group[864]|PRE-VALIDATION\n",
      "ne pas avoir la confirmation de |forward|trigger|negated|10|Group[864]|PRE-VALIDATION\n",
      "ne pas avoir la critère de |forward|trigger|negated|10|Group[864]|PRE-VALIDATION\n",
      "ne pas avoir la signe de |forward|trigger|negated|10|Group[864]|PRE-VALIDATION\n",
      "ne pas avoir la motif de |forward|trigger|negated|10|Group[864]|PRE-VALIDATION\n",
      "ne pas avoir la assurance de |forward|trigger|negated|10|Group[864]|PRE-VALIDATION\n",
      "ne pas avoir la fondement de |forward|trigger|negated|10|Group[864]|PRE-VALIDATION\n",
      "ne pas avoir la évidence de |forward|trigger|negated|10|Group[864]|PRE-VALIDATION\n"
     ]
    }
   ],
   "source": [
    "from nltk.parse.generate import generate, demo_grammar\n",
    "from nltk import CFG\n",
    "\n",
    "cfg_grammar= \"\"\"\n",
    "S ->  Adverb1 Adverb2 Verb3 Determiner4 Noun5 Adposition6 Trigger_Rule\n",
    "Adverb1 -> \"ne\"\n",
    "Adverb2 -> \"pas\"\n",
    "Verb3 -> \"avoir\"\n",
    "Determiner4 -> \"la\"\n",
    "Noun5 -> \"preuve\" | \"témoignage\" | \"justification\" | \"démonstration\" | \"gage\" | \"conviction\" | \"argument\" | \"constatation\" | \"confirmation\" | \"critère\" | \"signe\" | \"motif\" | \"assurance\" | \"fondement\" | \"évidence\"\n",
    "Adposition6 -> \"de\"\n",
    "Trigger_Rule -> \"|forward|trigger|negated|10|Group[864]|PRE-VALIDATION\"\n",
    "\"\"\"\n",
    "\n",
    "for sentence in generate(CFG.fromstring(cfg_grammar), n=1000):\n",
    "    print(' '.join(sentence))"
   ]
  },
  {
   "cell_type": "code",
   "execution_count": 91,
   "metadata": {},
   "outputs": [
    {
     "name": "stdout",
     "output_type": "stream",
     "text": [
      "ne pas avoir |forward|trigger|negated|10|Group[866]|PRE-VALIDATION\n"
     ]
    }
   ],
   "source": [
    "from nltk.parse.generate import generate, demo_grammar\n",
    "from nltk import CFG\n",
    "\n",
    "cfg_grammar= \"\"\"\n",
    "S ->  Adverb1 Adverb2 Verb3 Trigger_Rule\n",
    "Adverb1 -> \"ne\"\n",
    "Adverb2 -> \"pas\"\n",
    "Verb3 -> \"avoir\"\n",
    "Trigger_Rule -> \"|forward|trigger|negated|10|Group[866]|PRE-VALIDATION\"\n",
    "\"\"\"\n",
    "\n",
    "for sentence in generate(CFG.fromstring(cfg_grammar), n=1000):\n",
    "    print(' '.join(sentence))"
   ]
  },
  {
   "cell_type": "code",
   "execution_count": 92,
   "metadata": {},
   "outputs": [
    {
     "name": "stdout",
     "output_type": "stream",
     "text": [
      "pas en aigu |forward|trigger|negated|10|Group[868]|PRE-VALIDATION\n",
      "pas en incisif |forward|trigger|negated|10|Group[868]|PRE-VALIDATION\n",
      "pas en piquant |forward|trigger|negated|10|Group[868]|PRE-VALIDATION\n",
      "pas en vif |forward|trigger|negated|10|Group[868]|PRE-VALIDATION\n",
      "pas en mordant |forward|trigger|negated|10|Group[868]|PRE-VALIDATION\n",
      "pas en coupant |forward|trigger|negated|10|Group[868]|PRE-VALIDATION\n",
      "pas en acéré |forward|trigger|negated|10|Group[868]|PRE-VALIDATION\n",
      "pas en affilé |forward|trigger|negated|10|Group[868]|PRE-VALIDATION\n",
      "pas en tranchant |forward|trigger|negated|10|Group[868]|PRE-VALIDATION\n",
      "pas en affûté |forward|trigger|negated|10|Group[868]|PRE-VALIDATION\n",
      "pas en déchirant |forward|trigger|negated|10|Group[868]|PRE-VALIDATION\n",
      "pas en fin |forward|trigger|negated|10|Group[868]|PRE-VALIDATION\n",
      "pas en saillant |forward|trigger|negated|10|Group[868]|PRE-VALIDATION\n",
      "pas en aiguisé |forward|trigger|negated|10|Group[868]|PRE-VALIDATION\n"
     ]
    }
   ],
   "source": [
    "from nltk.parse.generate import generate, demo_grammar\n",
    "from nltk import CFG\n",
    "\n",
    "cfg_grammar= \"\"\"\n",
    "S ->  Adverb1 Adposition2 Noun3 Trigger_Rule\n",
    "Adverb1 -> \"pas\"\n",
    "Adposition2 -> \"en\"\n",
    "Noun3 -> \"aigu\" | \"incisif\" | \"piquant\" | \"vif\" | \"mordant\" | \"coupant\" | \"acéré\" | \"affilé\" | \"tranchant\" | \"affûté\" | \"déchirant\" | \"fin\" | \"saillant\" | \"aiguisé\"\n",
    "Trigger_Rule -> \"|forward|trigger|negated|10|Group[868]|PRE-VALIDATION\"\n",
    "\"\"\"\n",
    "\n",
    "for sentence in generate(CFG.fromstring(cfg_grammar), n=1000):\n",
    "    print(' '.join(sentence))"
   ]
  },
  {
   "cell_type": "code",
   "execution_count": 93,
   "metadata": {},
   "outputs": [
    {
     "name": "stdout",
     "output_type": "stream",
     "text": [
      "pas intéressé |both|pseudo|negated|10|Group[870]|PRE-VALIDATION\n",
      "pas attaché |both|pseudo|negated|10|Group[870]|PRE-VALIDATION\n",
      "pas concerné |both|pseudo|negated|10|Group[870]|PRE-VALIDATION\n",
      "pas intrigué |both|pseudo|negated|10|Group[870]|PRE-VALIDATION\n",
      "pas attiré |both|pseudo|negated|10|Group[870]|PRE-VALIDATION\n",
      "pas fasciné |both|pseudo|negated|10|Group[870]|PRE-VALIDATION\n",
      "pas passionné |both|pseudo|negated|10|Group[870]|PRE-VALIDATION\n",
      "pas touché |both|pseudo|negated|10|Group[870]|PRE-VALIDATION\n",
      "pas curieux |both|pseudo|negated|10|Group[870]|PRE-VALIDATION\n",
      "pas affecté |both|pseudo|negated|10|Group[870]|PRE-VALIDATION\n",
      "pas branché |both|pseudo|negated|10|Group[870]|PRE-VALIDATION\n",
      "pas épris |both|pseudo|negated|10|Group[870]|PRE-VALIDATION\n",
      "pas motivé |both|pseudo|negated|10|Group[870]|PRE-VALIDATION\n",
      "pas désirer |both|pseudo|negated|10|Group[870]|PRE-VALIDATION\n",
      "pas plaire |both|pseudo|negated|10|Group[870]|PRE-VALIDATION\n"
     ]
    }
   ],
   "source": [
    "from nltk.parse.generate import generate, demo_grammar\n",
    "from nltk import CFG\n",
    "\n",
    "cfg_grammar= \"\"\"\n",
    "S ->  Adverb1 Verb2 Trigger_Rule\n",
    "Adverb1 -> \"pas\"\n",
    "Verb2 -> \"intéressé\" | \"attaché\" | \"concerné\" | \"intrigué\" | \"attiré\" | \"fasciné\" | \"passionné\" | \"touché\" | \"curieux\" | \"affecté\" | \"branché\" | \"épris\" | \"motivé\" | \"désirer\" | \"plaire\"\n",
    "Trigger_Rule -> \"|both|pseudo|negated|10|Group[870]|PRE-VALIDATION\"\n",
    "\"\"\"\n",
    "\n",
    "for sentence in generate(CFG.fromstring(cfg_grammar), n=1000):\n",
    "    print(' '.join(sentence))"
   ]
  },
  {
   "cell_type": "code",
   "execution_count": 94,
   "metadata": {},
   "outputs": [
    {
     "name": "stdout",
     "output_type": "stream",
     "text": [
      "pas dedans |forward|trigger|negated|10|Group[871]|PRE-VALIDATION\n"
     ]
    }
   ],
   "source": [
    "from nltk.parse.generate import generate, demo_grammar\n",
    "from nltk import CFG\n",
    "\n",
    "cfg_grammar= \"\"\"\n",
    "S ->  Adverb1 Verb2 Trigger_Rule\n",
    "Adverb1 -> \"pas\"\n",
    "Verb2 -> \"dedans\"\n",
    "Trigger_Rule -> \"|forward|trigger|negated|10|Group[871]|PRE-VALIDATION\"\n",
    "\"\"\"\n",
    "\n",
    "for sentence in generate(CFG.fromstring(cfg_grammar), n=1000):\n",
    "    print(' '.join(sentence))"
   ]
  },
  {
   "cell_type": "code",
   "execution_count": 95,
   "metadata": {},
   "outputs": [
    {
     "name": "stdout",
     "output_type": "stream",
     "text": [
      "pas au courant de |forward|trigger|negated|10|Group[873]|PRE-VALIDATION\n",
      "pas au habituel de |forward|trigger|negated|10|Group[873]|PRE-VALIDATION\n",
      "pas au fréquent de |forward|trigger|negated|10|Group[873]|PRE-VALIDATION\n",
      "pas au connu de |forward|trigger|negated|10|Group[873]|PRE-VALIDATION\n",
      "pas au répandu de |forward|trigger|negated|10|Group[873]|PRE-VALIDATION\n",
      "pas au normal de |forward|trigger|negated|10|Group[873]|PRE-VALIDATION\n",
      "pas au classique de |forward|trigger|negated|10|Group[873]|PRE-VALIDATION\n",
      "pas au présent de |forward|trigger|negated|10|Group[873]|PRE-VALIDATION\n",
      "pas au commune de |forward|trigger|negated|10|Group[873]|PRE-VALIDATION\n",
      "pas au régulier de |forward|trigger|negated|10|Group[873]|PRE-VALIDATION\n",
      "pas au en cours de |forward|trigger|negated|10|Group[873]|PRE-VALIDATION\n"
     ]
    }
   ],
   "source": [
    "from nltk.parse.generate import generate, demo_grammar\n",
    "from nltk import CFG\n",
    "\n",
    "cfg_grammar= \"\"\"\n",
    "S ->  Adverb1 Noun2 Verb3 Adposition4 Trigger_Rule\n",
    "Adverb1 -> \"pas\"\n",
    "Noun2 -> \"au\"\n",
    "Verb3 -> \"courant\" | \"habituel\" | \"fréquent\" | \"connu\" | \"répandu\" | \"normal\" | \"classique\" | \"présent\" | \"commune\" | \"régulier\" | \"en cours\"\n",
    "Adposition4 -> \"de\"\n",
    "Trigger_Rule -> \"|forward|trigger|negated|10|Group[873]|PRE-VALIDATION\"\n",
    "\"\"\"\n",
    "\n",
    "for sentence in generate(CFG.fromstring(cfg_grammar), n=1000):\n",
    "    print(' '.join(sentence))"
   ]
  },
  {
   "cell_type": "code",
   "execution_count": 96,
   "metadata": {},
   "outputs": [
    {
     "name": "stdout",
     "output_type": "stream",
     "text": [
      "pas connu pour avoir |forward|trigger|negated|10|Group[875]|PRE-VALIDATION\n",
      "pas évident pour avoir |forward|trigger|negated|10|Group[875]|PRE-VALIDATION\n",
      "pas courant pour avoir |forward|trigger|negated|10|Group[875]|PRE-VALIDATION\n",
      "pas avoué pour avoir |forward|trigger|negated|10|Group[875]|PRE-VALIDATION\n",
      "pas reconnu pour avoir |forward|trigger|negated|10|Group[875]|PRE-VALIDATION\n",
      "pas su pour avoir |forward|trigger|negated|10|Group[875]|PRE-VALIDATION\n",
      "pas savoir pour avoir |forward|trigger|negated|10|Group[875]|PRE-VALIDATION\n"
     ]
    }
   ],
   "source": [
    "from nltk.parse.generate import generate, demo_grammar\n",
    "from nltk import CFG\n",
    "\n",
    "cfg_grammar= \"\"\"\n",
    "S ->  Adverb1 Verb2 Adposition3 Verb4 Trigger_Rule\n",
    "Adverb1 -> \"pas\"\n",
    "Verb2 -> \"connu\" | \"évident\" | \"courant\" | \"avoué\" | \"reconnu\" | \"su\" | \"savoir\"\n",
    "Adposition3 -> \"pour\"\n",
    "Verb4 -> \"avoir\"\n",
    "Trigger_Rule -> \"|forward|trigger|negated|10|Group[875]|PRE-VALIDATION\"\n",
    "\"\"\"\n",
    "\n",
    "for sentence in generate(CFG.fromstring(cfg_grammar), n=1000):\n",
    "    print(' '.join(sentence))"
   ]
  },
  {
   "cell_type": "code",
   "execution_count": 97,
   "metadata": {},
   "outputs": [
    {
     "name": "stdout",
     "output_type": "stream",
     "text": [
      "pas nécessairement |both|pseudo|negated|10|Group[877]|PRE-VALIDATION\n"
     ]
    }
   ],
   "source": [
    "from nltk.parse.generate import generate, demo_grammar\n",
    "from nltk import CFG\n",
    "\n",
    "cfg_grammar= \"\"\"\n",
    "S ->  Adverb1 Adverb2 Trigger_Rule\n",
    "Adverb1 -> \"pas\"\n",
    "Adverb2 -> \"nécessairement\"\n",
    "Trigger_Rule -> \"|both|pseudo|negated|10|Group[877]|PRE-VALIDATION\"\n",
    "\"\"\"\n",
    "\n",
    "for sentence in generate(CFG.fromstring(cfg_grammar), n=1000):\n",
    "    print(' '.join(sentence))"
   ]
  },
  {
   "cell_type": "code",
   "execution_count": 98,
   "metadata": {},
   "outputs": [
    {
     "name": "stdout",
     "output_type": "stream",
     "text": [
      "pas seulement |both|pseudo|negated|10|Group[877]|PRE-VALIDATION\n"
     ]
    }
   ],
   "source": [
    "from nltk.parse.generate import generate, demo_grammar\n",
    "from nltk import CFG\n",
    "\n",
    "cfg_grammar= \"\"\"\n",
    "S ->  Adverb1 Adverb2 Trigger_Rule\n",
    "Adverb1 -> \"pas\"\n",
    "Adverb2 -> \"seulement\"\n",
    "Trigger_Rule -> \"|both|pseudo|negated|10|Group[877]|PRE-VALIDATION\"\n",
    "\"\"\"\n",
    "\n",
    "for sentence in generate(CFG.fromstring(cfg_grammar), n=1000):\n",
    "    print(' '.join(sentence))"
   ]
  },
  {
   "cell_type": "code",
   "execution_count": 99,
   "metadata": {},
   "outputs": [
    {
     "name": "stdout",
     "output_type": "stream",
     "text": [
      "pas sur |both|pseudo|negated|10|Group[877]|PRE-VALIDATION\n"
     ]
    }
   ],
   "source": [
    "from nltk.parse.generate import generate, demo_grammar\n",
    "from nltk import CFG\n",
    "\n",
    "cfg_grammar= \"\"\"\n",
    "S ->  Adverb1 Adposition2 Trigger_Rule\n",
    "Adverb1 -> \"pas\"\n",
    "Adposition2 -> \"sur\"\n",
    "Trigger_Rule -> \"|both|pseudo|negated|10|Group[877]|PRE-VALIDATION\"\n",
    "\"\"\"\n",
    "\n",
    "for sentence in generate(CFG.fromstring(cfg_grammar), n=1000):\n",
    "    print(' '.join(sentence))"
   ]
  },
  {
   "cell_type": "code",
   "execution_count": 100,
   "metadata": {},
   "outputs": [
    {
     "name": "stdout",
     "output_type": "stream",
     "text": [
      "ne pas révéler |forward|trigger|negated|10|Group[880]|PRE-VALIDATION\n",
      "ne pas divulguer |forward|trigger|negated|10|Group[880]|PRE-VALIDATION\n",
      "ne pas déceler |forward|trigger|negated|10|Group[880]|PRE-VALIDATION\n",
      "ne pas trahir |forward|trigger|negated|10|Group[880]|PRE-VALIDATION\n",
      "ne pas dire |forward|trigger|negated|10|Group[880]|PRE-VALIDATION\n",
      "ne pas exposer |forward|trigger|negated|10|Group[880]|PRE-VALIDATION\n",
      "ne pas faire connaître |forward|trigger|negated|10|Group[880]|PRE-VALIDATION\n",
      "ne pas exprimer |forward|trigger|negated|10|Group[880]|PRE-VALIDATION\n",
      "ne pas signaler |forward|trigger|negated|10|Group[880]|PRE-VALIDATION\n",
      "ne pas signifier |forward|trigger|negated|10|Group[880]|PRE-VALIDATION\n",
      "ne pas annoncer |forward|trigger|negated|10|Group[880]|PRE-VALIDATION\n",
      "ne pas développer |forward|trigger|negated|10|Group[880]|PRE-VALIDATION\n",
      "ne pas démasquer |forward|trigger|negated|10|Group[880]|PRE-VALIDATION\n",
      "ne pas afficher |forward|trigger|negated|10|Group[880]|PRE-VALIDATION\n",
      "ne pas déclarer |forward|trigger|negated|10|Group[880]|PRE-VALIDATION\n"
     ]
    }
   ],
   "source": [
    "from nltk.parse.generate import generate, demo_grammar\n",
    "from nltk import CFG\n",
    "\n",
    "cfg_grammar= \"\"\"\n",
    "S ->  Adverb1 Adverb2 Verb3 Trigger_Rule\n",
    "Adverb1 -> \"ne\"\n",
    "Adverb2 -> \"pas\"\n",
    "Verb3 -> \"révéler\" | \"divulguer\" | \"déceler\" | \"trahir\" | \"dire\" | \"exposer\" | \"faire connaître\" | \"exprimer\" | \"signaler\" | \"signifier\" | \"annoncer\" | \"développer\" | \"démasquer\" | \"afficher\" | \"déclarer\"\n",
    "Trigger_Rule -> \"|forward|trigger|negated|10|Group[880]|PRE-VALIDATION\"\n",
    "\"\"\"\n",
    "\n",
    "for sentence in generate(CFG.fromstring(cfg_grammar), n=1000):\n",
    "    print(' '.join(sentence))"
   ]
  }
 ],
 "metadata": {
  "file_extension": ".py",
  "kernelspec": {
   "display_name": "Python 3",
   "language": "python",
   "name": "python3"
  },
  "language_info": {
   "codemirror_mode": {
    "name": "ipython",
    "version": 3
   },
   "file_extension": ".py",
   "mimetype": "text/x-python",
   "name": "python",
   "nbconvert_exporter": "python",
   "pygments_lexer": "ipython3",
   "version": "3.7.2"
  },
  "mimetype": "text/x-python",
  "name": "python",
  "nbconvert_exporter": "python",
  "pygments_lexer": "ipython3",
  "version": "3.7.2"
 },
 "nbformat": 4,
 "nbformat_minor": 2
}
